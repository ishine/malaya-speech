{
 "cells": [
  {
   "cell_type": "code",
   "execution_count": 1,
   "id": "bd3ee527",
   "metadata": {},
   "outputs": [],
   "source": [
    "from streaming import MDSWriter, LocalDataset\n",
    "from tqdm import tqdm\n",
    "import json"
   ]
  },
  {
   "cell_type": "code",
   "execution_count": 2,
   "id": "73536baf",
   "metadata": {},
   "outputs": [],
   "source": [
    "columns = {\n",
    "    'new_text': 'str',\n",
    "    'audio_filename': 'str'\n",
    "}\n",
    "\n",
    "hashes = 'sha1', 'xxh64'"
   ]
  },
  {
   "cell_type": "code",
   "execution_count": 3,
   "id": "84d6cfc1",
   "metadata": {},
   "outputs": [
    {
     "name": "stderr",
     "output_type": "stream",
     "text": [
      "2840417it [00:09, 302993.52it/s]\n",
      "1847423it [00:05, 326209.26it/s]\n"
     ]
    }
   ],
   "source": [
    "results = []\n",
    "files = ['prepared-imda.jsonl', 'prepared-pseudolabel.jsonl']\n",
    "\n",
    "for f in files:\n",
    "    with open(f) as fopen:\n",
    "        for l in tqdm(fopen):\n",
    "            l = json.loads(l)\n",
    "            sample = {\n",
    "                'new_text': l['new_text'],\n",
    "                'audio_filename': l['audio_filename'],\n",
    "            }\n",
    "            results.append(sample)"
   ]
  },
  {
   "cell_type": "code",
   "execution_count": 4,
   "id": "456474a5",
   "metadata": {},
   "outputs": [
    {
     "name": "stdout",
     "output_type": "stream",
     "text": [
      "train-fleurs.json\n",
      "haqkiem.json\n",
      "malay-conversational-speech-corpus.json\n",
      "train-nusantara-audiobooks.json\n",
      "train-semisupervised-audiobook.json\n"
     ]
    }
   ],
   "source": [
    "extra = [\n",
    "    'train-fleurs.json',\n",
    "    'haqkiem.json',\n",
    "    'malay-conversational-speech-corpus.json',\n",
    "    'train-nusantara-audiobooks.json',\n",
    "    'train-semisupervised-audiobook.json'\n",
    "]\n",
    "\n",
    "for f in extra:\n",
    "    print(f)\n",
    "    with open(f) as fopen:\n",
    "        data = json.load(fopen)\n",
    "    results.extend(data)"
   ]
  },
  {
   "cell_type": "code",
   "execution_count": 5,
   "id": "97a3cafb",
   "metadata": {
    "scrolled": true
   },
   "outputs": [
    {
     "data": {
      "text/plain": [
       "4730854"
      ]
     },
     "execution_count": 5,
     "metadata": {},
     "output_type": "execute_result"
    }
   ],
   "source": [
    "len(results)"
   ]
  },
  {
   "cell_type": "code",
   "execution_count": 6,
   "id": "53fcfa85",
   "metadata": {},
   "outputs": [],
   "source": [
    "import random\n",
    "\n",
    "random.shuffle(results)"
   ]
  },
  {
   "cell_type": "code",
   "execution_count": 7,
   "id": "1358d69f",
   "metadata": {},
   "outputs": [
    {
     "data": {
      "text/plain": [
       "{'new_text': \"<|startoftranscript|><|en|><|transcribe|> Nadia don't ever lupa diri sebab one day kalau I get that extra money ke I get that extra title ke I might forget about myself and people below me, bad which I don't want that to happen and, because I myself experienced it how bad it is and I know how it feels like to be treated that way so in the future I advise myself that never treat people that way because you will never know bila this uh blessing will be taken away from you you know what I mean that's uh<|endoftext|>\",\n",
       " 'audio_filename': 'part4-separate-audio-mp3/sur_0541_2083_phnd_cs-mly-180.mp3'}"
      ]
     },
     "execution_count": 7,
     "metadata": {},
     "output_type": "execute_result"
    }
   ],
   "source": [
    "results[0]"
   ]
  },
  {
   "cell_type": "code",
   "execution_count": 8,
   "id": "307a2a8c",
   "metadata": {},
   "outputs": [],
   "source": [
    "!rm -rf mosaic-combine-pseudolabel-imda"
   ]
  },
  {
   "cell_type": "code",
   "execution_count": 9,
   "id": "5592881b",
   "metadata": {},
   "outputs": [
    {
     "name": "stderr",
     "output_type": "stream",
     "text": [
      "100%|██████████| 4730854/4730854 [00:22<00:00, 207307.96it/s]\n"
     ]
    }
   ],
   "source": [
    "with MDSWriter(out='mosaic-combine-pseudolabel-imda', columns=columns, compression=None, hashes=hashes) as out:\n",
    "    for sample in tqdm(results):\n",
    "        out.write(sample)"
   ]
  },
  {
   "cell_type": "code",
   "execution_count": 10,
   "id": "99cafad6",
   "metadata": {},
   "outputs": [],
   "source": [
    "# !git clone https://huggingface.co/datasets/malaysia-ai/mosaic-combine-stt\n",
    "!cp mosaic-combine-pseudolabel-imda/* mosaic-combine-stt"
   ]
  },
  {
   "cell_type": "code",
   "execution_count": 11,
   "id": "a64358bb",
   "metadata": {},
   "outputs": [
    {
     "data": {
      "text/plain": [
       "4730854"
      ]
     },
     "execution_count": 11,
     "metadata": {},
     "output_type": "execute_result"
    }
   ],
   "source": [
    "dataset = LocalDataset('mosaic-combine-stt')\n",
    "len(dataset)"
   ]
  },
  {
   "cell_type": "code",
   "execution_count": 12,
   "id": "8079c726",
   "metadata": {},
   "outputs": [
    {
     "data": {
      "text/plain": [
       "{'audio_filename': 'part4-separate-audio-mp3/sur_0541_2083_phnd_cs-mly-180.mp3',\n",
       " 'new_text': \"<|startoftranscript|><|en|><|transcribe|> Nadia don't ever lupa diri sebab one day kalau I get that extra money ke I get that extra title ke I might forget about myself and people below me, bad which I don't want that to happen and, because I myself experienced it how bad it is and I know how it feels like to be treated that way so in the future I advise myself that never treat people that way because you will never know bila this uh blessing will be taken away from you you know what I mean that's uh<|endoftext|>\"}"
      ]
     },
     "execution_count": 12,
     "metadata": {},
     "output_type": "execute_result"
    }
   ],
   "source": [
    "dataset[0]"
   ]
  },
  {
   "cell_type": "code",
   "execution_count": 13,
   "id": "1dcea169",
   "metadata": {},
   "outputs": [],
   "source": [
    "!rm -rf mosaic-combine-pseudolabel-imda"
   ]
  }
 ],
 "metadata": {
  "kernelspec": {
   "display_name": "Python 3 (ipykernel)",
   "language": "python",
   "name": "python3"
  },
  "language_info": {
   "codemirror_mode": {
    "name": "ipython",
    "version": 3
   },
   "file_extension": ".py",
   "mimetype": "text/x-python",
   "name": "python",
   "nbconvert_exporter": "python",
   "pygments_lexer": "ipython3",
   "version": "3.10.12"
  }
 },
 "nbformat": 4,
 "nbformat_minor": 5
}
