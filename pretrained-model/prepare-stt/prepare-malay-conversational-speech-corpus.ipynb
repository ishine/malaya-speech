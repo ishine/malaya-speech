{
 "cells": [
  {
   "cell_type": "code",
   "execution_count": 1,
   "id": "e0474ce0",
   "metadata": {},
   "outputs": [
    {
     "data": {
      "application/vnd.jupyter.widget-view+json": {
       "model_id": "b460921117ee48d788407a4c905d5a95",
       "version_major": 2,
       "version_minor": 0
      },
      "text/plain": [
       "Downloading readme:   0%|          | 0.00/560 [00:00<?, ?B/s]"
      ]
     },
     "metadata": {},
     "output_type": "display_data"
    },
    {
     "data": {
      "application/vnd.jupyter.widget-view+json": {
       "model_id": "ab0f8b7d94c04e9d94c46ffe993a31f7",
       "version_major": 2,
       "version_minor": 0
      },
      "text/plain": [
       "Downloading data files:   0%|          | 0/1 [00:00<?, ?it/s]"
      ]
     },
     "metadata": {},
     "output_type": "display_data"
    },
    {
     "data": {
      "application/vnd.jupyter.widget-view+json": {
       "model_id": "1c3b172c18674bb9bd7399c0f3b12019",
       "version_major": 2,
       "version_minor": 0
      },
      "text/plain": [
       "Downloading data:   0%|          | 0.00/47.7M [00:00<?, ?B/s]"
      ]
     },
     "metadata": {},
     "output_type": "display_data"
    },
    {
     "data": {
      "application/vnd.jupyter.widget-view+json": {
       "model_id": "2b801fc809cf4cf1b5b28f91bb72487d",
       "version_major": 2,
       "version_minor": 0
      },
      "text/plain": [
       "Extracting data files:   0%|          | 0/1 [00:00<?, ?it/s]"
      ]
     },
     "metadata": {},
     "output_type": "display_data"
    },
    {
     "data": {
      "application/vnd.jupyter.widget-view+json": {
       "model_id": "07a35b6b772544e5aeea36e8da603475",
       "version_major": 2,
       "version_minor": 0
      },
      "text/plain": [
       "Generating train split:   0%|          | 0/3241 [00:00<?, ? examples/s]"
      ]
     },
     "metadata": {},
     "output_type": "display_data"
    }
   ],
   "source": [
    "from datasets import load_dataset\n",
    "\n",
    "dataset = load_dataset(\"malaysia-ai/malay-conversational-speech-corpus\", split = 'train')"
   ]
  },
  {
   "cell_type": "code",
   "execution_count": 4,
   "id": "6e527571",
   "metadata": {
    "scrolled": true
   },
   "outputs": [
    {
     "data": {
      "text/plain": [
       "{'Y': 'hai weh',\n",
       " 'id': 'G0521',\n",
       " 'gender': 'female,Malaysia',\n",
       " 'filename': {'path': 'A0010_S001_0_G0521-0.mp3',\n",
       "  'array': array([-0.0200331 , -0.02287395, -0.02832103, ...,  0.00474151,\n",
       "          0.00491239,  0.00322378]),\n",
       "  'sampling_rate': 16000}}"
      ]
     },
     "execution_count": 4,
     "metadata": {},
     "output_type": "execute_result"
    }
   ],
   "source": [
    "dataset[0]"
   ]
  },
  {
   "cell_type": "code",
   "execution_count": 5,
   "id": "a0ca531b",
   "metadata": {},
   "outputs": [],
   "source": [
    "!mkdir malay-conversational-speech-corpus"
   ]
  },
  {
   "cell_type": "code",
   "execution_count": 6,
   "id": "f910f0c5",
   "metadata": {},
   "outputs": [],
   "source": [
    "import soundfile as sf\n",
    "from tqdm import tqdm"
   ]
  },
  {
   "cell_type": "code",
   "execution_count": 9,
   "id": "d4f435c1",
   "metadata": {},
   "outputs": [
    {
     "name": "stderr",
     "output_type": "stream",
     "text": [
      "100%|██████████| 3241/3241 [01:45<00:00, 30.85it/s]\n"
     ]
    }
   ],
   "source": [
    "train_text = []\n",
    "\n",
    "for i in tqdm(range(len(dataset))):\n",
    "    audio_filename = f'malay-conversational-speech-corpus/{i}.mp3'\n",
    "    t = dataset[i]['Y']\n",
    "    t = f'<|startoftranscript|><|ms|><|transcribe|> {t}<|endoftext|>'\n",
    "    a = dataset[i]['filename']['array']\n",
    "    sf.write(audio_filename, a, 16000)\n",
    "    \n",
    "    train_text.append({\n",
    "        'new_text': t,\n",
    "        'audio_filename': audio_filename\n",
    "    })"
   ]
  },
  {
   "cell_type": "code",
   "execution_count": 11,
   "id": "7ef12d9d",
   "metadata": {},
   "outputs": [
    {
     "data": {
      "text/html": [
       "\n",
       "                <audio  controls=\"controls\" >\n",
       "                    <source src=\"data:audio/mpeg;base64,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\" type=\"audio/mpeg\" />\n",
       "                    Your browser does not support the audio element.\n",
       "                </audio>\n",
       "              "
      ],
      "text/plain": [
       "<IPython.lib.display.Audio object>"
      ]
     },
     "execution_count": 11,
     "metadata": {},
     "output_type": "execute_result"
    }
   ],
   "source": [
    "import IPython.display as ipd\n",
    "ipd.Audio(train_text[0]['audio_filename'])"
   ]
  },
  {
   "cell_type": "code",
   "execution_count": 10,
   "id": "70baa8bd",
   "metadata": {},
   "outputs": [],
   "source": [
    "import json\n",
    "\n",
    "with open('malay-conversational-speech-corpus.json', 'w') as fopen:\n",
    "    json.dump(train_text, fopen)"
   ]
  },
  {
   "cell_type": "code",
   "execution_count": null,
   "id": "cfa1f601",
   "metadata": {},
   "outputs": [],
   "source": []
  }
 ],
 "metadata": {
  "kernelspec": {
   "display_name": "Python 3 (ipykernel)",
   "language": "python",
   "name": "python3"
  },
  "language_info": {
   "codemirror_mode": {
    "name": "ipython",
    "version": 3
   },
   "file_extension": ".py",
   "mimetype": "text/x-python",
   "name": "python",
   "nbconvert_exporter": "python",
   "pygments_lexer": "ipython3",
   "version": "3.10.12"
  }
 },
 "nbformat": 4,
 "nbformat_minor": 5
}
