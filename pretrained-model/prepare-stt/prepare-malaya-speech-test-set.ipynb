{
 "cells": [
  {
   "cell_type": "code",
   "execution_count": 3,
   "id": "32e0b927",
   "metadata": {},
   "outputs": [],
   "source": [
    "# !wget https://f000.backblazeb2.com/file/malaya-speech-model/asr-dataset/malay-test.tar.gz\n",
    "# !wget https://f000.backblazeb2.com/file/malaya-speech-model/asr-dataset/malay-test.json"
   ]
  },
  {
   "cell_type": "code",
   "execution_count": 4,
   "id": "3b3e8a23",
   "metadata": {},
   "outputs": [],
   "source": [
    "import json\n",
    "\n",
    "with open('malay-test.json') as fopen:\n",
    "    data = json.load(fopen)"
   ]
  },
  {
   "cell_type": "code",
   "execution_count": 9,
   "id": "110dfc2d",
   "metadata": {},
   "outputs": [],
   "source": [
    "# !pip3 install git+https://github.com/mesolitica/malaya"
   ]
  },
  {
   "cell_type": "code",
   "execution_count": 2,
   "id": "ee8e93e0",
   "metadata": {},
   "outputs": [
    {
     "name": "stderr",
     "output_type": "stream",
     "text": [
      "Cannot import beam_search_ops from Tensorflow 1, ['malaya.jawi_rumi.deep_model', 'malaya.phoneme.deep_model', 'malaya.rumi_jawi.deep_model', 'malaya.stem.deep_model'] for stemmer will not available to use, make sure Tensorflow 1 version >= 1.15\n"
     ]
    }
   ],
   "source": [
    "from transformers.models.bart.modeling_bart import shift_tokens_right\n",
    "import malaya\n",
    "from malaya.text.normalization import cardinal\n",
    "\n",
    "tokenizer = malaya.tokenizer.Tokenizer(hypen = False, parliament = False, time = False, time_pukul = False,\n",
    "                                      temperature = False, distance = False, volume = False, duration = False,\n",
    "                                      weight = False, date = False, money = False)"
   ]
  },
  {
   "cell_type": "code",
   "execution_count": 5,
   "id": "a8c297dc",
   "metadata": {},
   "outputs": [
    {
     "data": {
      "text/plain": [
       "'pada lima belas ogos seribu sembilan ratus empat puluh'"
      ]
     },
     "execution_count": 5,
     "metadata": {},
     "output_type": "execute_result"
    }
   ],
   "source": [
    "def tokenize_and_replace(t):\n",
    "    tokenized = tokenizer.tokenize(t)\n",
    "    for i in range(len(tokenized)):\n",
    "        c = cardinal(tokenized[i])\n",
    "        if c != tokenized[i]:\n",
    "            tokenized[i] = c\n",
    "    return ' '.join(tokenized)\n",
    "\n",
    "tokenize_and_replace('pada 15 ogos 1940')"
   ]
  },
  {
   "cell_type": "code",
   "execution_count": 6,
   "id": "b66d66a5",
   "metadata": {},
   "outputs": [
    {
     "name": "stderr",
     "output_type": "stream",
     "text": [
      "100%|██████████| 765/765 [00:00<00:00, 25555.67it/s]\n"
     ]
    }
   ],
   "source": [
    "from tqdm import tqdm\n",
    "import re\n",
    "\n",
    "new_data = []\n",
    "for d in tqdm(data):\n",
    "    \n",
    "    if len(re.findall(r'\\d+', d)):\n",
    "        continue\n",
    "        \n",
    "    processed = tokenize_and_replace(d)\n",
    "        \n",
    "    new_data.append({\n",
    "        'original': d,\n",
    "        'cleaned': processed,\n",
    "        'accept': len(processed) and not len(re.findall(r'\\d+', processed)),\n",
    "    })"
   ]
  },
  {
   "cell_type": "code",
   "execution_count": 7,
   "id": "8c1416ef",
   "metadata": {},
   "outputs": [
    {
     "data": {
      "text/plain": [
       "732"
      ]
     },
     "execution_count": 7,
     "metadata": {},
     "output_type": "execute_result"
    }
   ],
   "source": [
    "len(new_data)"
   ]
  },
  {
   "cell_type": "code",
   "execution_count": 9,
   "id": "7711a5d1",
   "metadata": {},
   "outputs": [],
   "source": [
    "with open('malaya-malay-test-set.json', 'w') as fopen:\n",
    "    json.dump(new_data, fopen)"
   ]
  },
  {
   "cell_type": "code",
   "execution_count": 10,
   "id": "f73315b1",
   "metadata": {},
   "outputs": [],
   "source": [
    "!cp malaya-malay-test-set.json ~/malaya-speech-stt-test-set/malaya-speech\n",
    "!cp malay-test.tar.gz ~/malaya-speech-stt-test-set/malaya-speech"
   ]
  },
  {
   "cell_type": "code",
   "execution_count": null,
   "id": "77c59baa",
   "metadata": {},
   "outputs": [],
   "source": []
  }
 ],
 "metadata": {
  "kernelspec": {
   "display_name": "Python 3 (ipykernel)",
   "language": "python",
   "name": "python3"
  },
  "language_info": {
   "codemirror_mode": {
    "name": "ipython",
    "version": 3
   },
   "file_extension": ".py",
   "mimetype": "text/x-python",
   "name": "python",
   "nbconvert_exporter": "python",
   "pygments_lexer": "ipython3",
   "version": "3.10.12"
  }
 },
 "nbformat": 4,
 "nbformat_minor": 5
}
