{
 "cells": [
  {
   "cell_type": "code",
   "execution_count": 1,
   "id": "f8386460",
   "metadata": {},
   "outputs": [],
   "source": [
    "# https://huggingface.co/datasets/google/fleurs/blob/main/fleurs.py\n",
    "\n",
    "# !wget https://storage.googleapis.com/xtreme_translations/FLEURS102/ms_my.tar.gz\n",
    "# !tar -zxf ms_my.tar.gz\n",
    "# !rm ms_my.tar.gz"
   ]
  },
  {
   "cell_type": "code",
   "execution_count": 2,
   "id": "920d5901",
   "metadata": {},
   "outputs": [],
   "source": [
    "import os\n",
    "\n",
    "os.environ['CUDA_VISIBLE_DEVICES'] = ''"
   ]
  },
  {
   "cell_type": "code",
   "execution_count": 14,
   "id": "59fc90d5",
   "metadata": {},
   "outputs": [],
   "source": [
    "import pandas as pd\n",
    "from glob import glob\n",
    "from tqdm import tqdm\n",
    "import json\n",
    "import re\n",
    "import unicodedata\n",
    "import itertools\n",
    "\n",
    "vocabs = [\" \", \"a\", \"e\", \"n\", \"i\", \"t\", \"o\", \"u\", \"s\", \"k\", \"r\", \"l\", \"h\", \"d\", \"m\", \"g\", \"y\", \"b\", \"p\", \"w\", \"c\", \"f\", \"j\", \"v\", \"z\", \"0\", \"1\", \"x\", \"2\", \"q\", \"5\", \"3\", \"4\", \"6\", \"9\", \"8\", \"7\"]\n",
    "\n",
    "def preprocessing_text(string):\n",
    "    \n",
    "    tokenized = tokenizer.tokenize(string)\n",
    "    string = ' '.join(tokenized)\n",
    "    string = unicodedata.normalize('NFC', string.lower())\n",
    "    string = ''.join([c if c in vocabs else ' ' for c in string])\n",
    "    string = re.sub(r'[ ]+', ' ', string).strip()\n",
    "    string = (\n",
    "        ''.join(''.join(s)[:2] for _, s in itertools.groupby(string))\n",
    "    )\n",
    "    return string"
   ]
  },
  {
   "cell_type": "code",
   "execution_count": 4,
   "id": "242b7abc",
   "metadata": {},
   "outputs": [],
   "source": [
    "base_directory = os.getcwd()"
   ]
  },
  {
   "cell_type": "code",
   "execution_count": 5,
   "id": "17ce3de2",
   "metadata": {},
   "outputs": [],
   "source": [
    "ms_my_test = pd.read_csv('ms_my/test.tsv', sep = '\\t', header=None)"
   ]
  },
  {
   "cell_type": "code",
   "execution_count": 6,
   "id": "f9bedb0f",
   "metadata": {},
   "outputs": [
    {
     "name": "stderr",
     "output_type": "stream",
     "text": [
      "Cannot import beam_search_ops from Tensorflow 1, ['malaya.jawi_rumi.deep_model', 'malaya.phoneme.deep_model', 'malaya.rumi_jawi.deep_model', 'malaya.stem.deep_model'] for stemmer will not available to use, make sure Tensorflow 1 version >= 1.15\n"
     ]
    },
    {
     "data": {
      "text/plain": [
       "['gimnastik',\n",
       " 'as',\n",
       " 'dan',\n",
       " 'joas',\n",
       " 'mempunyai',\n",
       " 'matlamat',\n",
       " 'yang',\n",
       " 'sama',\n",
       " 'menjadikan',\n",
       " 'sukan',\n",
       " 'gimnastik',\n",
       " 'dan',\n",
       " 'lain',\n",
       " '-',\n",
       " 'lain',\n",
       " 'selamat',\n",
       " 'bagi',\n",
       " 'para',\n",
       " 'atlet',\n",
       " 'untuk',\n",
       " 'mengejar',\n",
       " 'impian',\n",
       " 'mereka',\n",
       " 'dalam',\n",
       " 'persekitaran',\n",
       " 'yang',\n",
       " 'selamat',\n",
       " 'positif',\n",
       " 'dan',\n",
       " 'berdaya',\n",
       " 'maju']"
      ]
     },
     "execution_count": 6,
     "metadata": {},
     "output_type": "execute_result"
    }
   ],
   "source": [
    "from transformers.models.bart.modeling_bart import shift_tokens_right\n",
    "import malaya\n",
    "from malaya.text.normalization import cardinal\n",
    "\n",
    "tokenizer = malaya.tokenizer.Tokenizer(hypen = False, parliament = False, time = False, time_pukul = False,\n",
    "                                      temperature = False, distance = False, volume = False, duration = False,\n",
    "                                      weight = False, date = False, money = False)\n",
    "tokenizer.tokenize(ms_my_test.iloc[3, 3])"
   ]
  },
  {
   "cell_type": "code",
   "execution_count": 7,
   "id": "f1e6cf1f",
   "metadata": {},
   "outputs": [
    {
     "data": {
      "text/plain": [
       "'pada lima belas ogos seribu sembilan ratus empat puluh pihak berikat menyerang perancis selatan serangan ini dipanggil operation dragoon'"
      ]
     },
     "execution_count": 7,
     "metadata": {},
     "output_type": "execute_result"
    }
   ],
   "source": [
    "def tokenize_and_replace(t):\n",
    "    tokenized = tokenizer.tokenize(t)\n",
    "    for i in range(len(tokenized)):\n",
    "        c = cardinal(tokenized[i])\n",
    "        if c != tokenized[i]:\n",
    "            tokenized[i] = c\n",
    "    return ' '.join(tokenized)\n",
    "\n",
    "tokenize_and_replace('pada 15 ogos 1940 pihak berikat menyerang perancis selatan serangan ini dipanggil operation dragoon')"
   ]
  },
  {
   "cell_type": "code",
   "execution_count": 25,
   "id": "1c62822b",
   "metadata": {},
   "outputs": [],
   "source": [
    "ms_my = []\n",
    "for i in range(len(ms_my_test)):\n",
    "    a = ms_my_test.iloc[i, 1]\n",
    "    t = ms_my_test.iloc[i, 3]\n",
    "    \n",
    "    if len(re.findall(r'\\d+', t)):\n",
    "        continue\n",
    "        \n",
    "    t = tokenize_and_replace(t)\n",
    "    \n",
    "    ms_my.append((f'ms_my/audio/test/{a}', t))"
   ]
  },
  {
   "cell_type": "code",
   "execution_count": 26,
   "id": "02eb71b0",
   "metadata": {},
   "outputs": [
    {
     "data": {
      "text/plain": [
       "622"
      ]
     },
     "execution_count": 26,
     "metadata": {},
     "output_type": "execute_result"
    }
   ],
   "source": [
    "len(ms_my)"
   ]
  },
  {
   "cell_type": "code",
   "execution_count": 27,
   "id": "16eb2115",
   "metadata": {},
   "outputs": [],
   "source": [
    "audios = ms_my\n",
    "audios, texts = zip(*audios)"
   ]
  },
  {
   "cell_type": "code",
   "execution_count": 28,
   "id": "65199242",
   "metadata": {},
   "outputs": [
    {
     "data": {
      "text/plain": [
       "622"
      ]
     },
     "execution_count": 28,
     "metadata": {},
     "output_type": "execute_result"
    }
   ],
   "source": [
    "len(texts)"
   ]
  },
  {
   "cell_type": "code",
   "execution_count": 29,
   "id": "e6c0c9f2",
   "metadata": {},
   "outputs": [
    {
     "name": "stderr",
     "output_type": "stream",
     "text": [
      "100%|██████████| 622/622 [00:00<00:00, 7394.72it/s]\n"
     ]
    }
   ],
   "source": [
    "processed_text = [preprocessing_text(t) for t in tqdm(texts)]"
   ]
  },
  {
   "cell_type": "code",
   "execution_count": 30,
   "id": "c3920371",
   "metadata": {},
   "outputs": [
    {
     "name": "stderr",
     "output_type": "stream",
     "text": [
      "100%|██████████| 622/622 [00:00<00:00, 361537.84it/s]\n"
     ]
    }
   ],
   "source": [
    "filtered_audios, filtered_texts, rejected = [], [], []\n",
    "for i in tqdm(range(len(processed_text))):\n",
    "    if len(processed_text[i]) and not len(re.findall(r'\\d+', processed_text[i])):\n",
    "        filtered_audios.append(audios[i])\n",
    "        filtered_texts.append(processed_text[i])\n",
    "    else:\n",
    "        rejected.append(i)"
   ]
  },
  {
   "cell_type": "code",
   "execution_count": 31,
   "id": "fd01d4a4",
   "metadata": {},
   "outputs": [
    {
     "data": {
      "text/plain": [
       "(622, 1.0)"
      ]
     },
     "execution_count": 31,
     "metadata": {},
     "output_type": "execute_result"
    }
   ],
   "source": [
    "len(filtered_audios), len(filtered_audios) / len(audios)"
   ]
  },
  {
   "cell_type": "code",
   "execution_count": 32,
   "id": "4c51618b",
   "metadata": {},
   "outputs": [],
   "source": [
    "import soundfile as sf\n",
    "import numpy as np"
   ]
  },
  {
   "cell_type": "code",
   "execution_count": 33,
   "id": "e69c30f3",
   "metadata": {},
   "outputs": [
    {
     "name": "stderr",
     "output_type": "stream",
     "text": [
      "100%|██████████| 622/622 [00:00<00:00, 2430.61it/s]\n"
     ]
    },
    {
     "data": {
      "text/plain": [
       "1.8233833333333334"
      ]
     },
     "execution_count": 33,
     "metadata": {},
     "output_type": "execute_result"
    }
   ],
   "source": [
    "lengths = []\n",
    "for f in tqdm(filtered_audios):\n",
    "    y, sr = sf.read(f)\n",
    "    lengths.append(len(y) / sr)\n",
    "    \n",
    "np.sum(lengths) / 60 / 60"
   ]
  },
  {
   "cell_type": "code",
   "execution_count": 36,
   "id": "90935a4b",
   "metadata": {},
   "outputs": [],
   "source": [
    "with open('malay-asr-test.json', 'w') as fopen:\n",
    "    json.dump({'X': filtered_audios, 'Y':filtered_texts}, fopen)"
   ]
  },
  {
   "cell_type": "code",
   "execution_count": 39,
   "id": "76bf76df",
   "metadata": {},
   "outputs": [
    {
     "data": {
      "text/plain": [
       "'ms_my/audio/test/6642689329059010818.wav'"
      ]
     },
     "execution_count": 39,
     "metadata": {},
     "output_type": "execute_result"
    }
   ],
   "source": [
    "filtered_audios[0]"
   ]
  },
  {
   "cell_type": "code",
   "execution_count": 37,
   "id": "f41e129d",
   "metadata": {},
   "outputs": [],
   "source": [
    "with open('malay-audio-test.txt', 'w') as fopen:\n",
    "    fopen.write('\\n'.join(filtered_audios))"
   ]
  },
  {
   "cell_type": "code",
   "execution_count": 42,
   "id": "6ca0aacf",
   "metadata": {},
   "outputs": [],
   "source": [
    "# !tar -czvf fleurs-ms-my.tar.gz ms_my/audio/test"
   ]
  },
  {
   "cell_type": "code",
   "execution_count": 43,
   "id": "765c7862",
   "metadata": {},
   "outputs": [],
   "source": [
    "!cp malay-asr-test.json ~/malaya-speech-stt-test-set/fleurs-ms-my\n",
    "!cp fleurs-ms-my.tar.gz ~/malaya-speech-stt-test-set/fleurs-ms-my"
   ]
  },
  {
   "cell_type": "code",
   "execution_count": null,
   "id": "0ea73fad",
   "metadata": {},
   "outputs": [],
   "source": []
  }
 ],
 "metadata": {
  "kernelspec": {
   "display_name": "Python 3 (ipykernel)",
   "language": "python",
   "name": "python3"
  },
  "language_info": {
   "codemirror_mode": {
    "name": "ipython",
    "version": 3
   },
   "file_extension": ".py",
   "mimetype": "text/x-python",
   "name": "python",
   "nbconvert_exporter": "python",
   "pygments_lexer": "ipython3",
   "version": "3.10.12"
  }
 },
 "nbformat": 4,
 "nbformat_minor": 5
}
