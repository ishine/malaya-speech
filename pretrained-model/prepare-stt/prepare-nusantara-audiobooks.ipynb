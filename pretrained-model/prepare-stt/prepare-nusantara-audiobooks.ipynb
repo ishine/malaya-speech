{
 "cells": [
  {
   "cell_type": "code",
   "execution_count": 4,
   "id": "0c08b0b7",
   "metadata": {},
   "outputs": [],
   "source": [
    "import soundfile as sf\n",
    "from tqdm import tqdm\n",
    "import json\n",
    "import os"
   ]
  },
  {
   "cell_type": "code",
   "execution_count": 5,
   "id": "753472de",
   "metadata": {},
   "outputs": [
    {
     "data": {
      "text/plain": [
       "24368"
      ]
     },
     "execution_count": 5,
     "metadata": {},
     "output_type": "execute_result"
    }
   ],
   "source": [
    "train_text = []\n",
    "\n",
    "for f in ['nusantara-audiobook-part1.json', 'nusantara-audiobook-part2.json']:\n",
    "    with open(f) as fopen:\n",
    "        train = json.load(fopen)\n",
    "    for k, v in train.items():\n",
    "        if not os.path.exists(k):\n",
    "            continue\n",
    "        t = v['text'].strip()\n",
    "        t = f'<|startoftranscript|><|ms|><|transcribe|> {t}<|endoftext|>'\n",
    "\n",
    "        train_text.append({\n",
    "            'new_text': t,\n",
    "            'audio_filename': k\n",
    "        })\n",
    "        \n",
    "len(train_text)"
   ]
  },
  {
   "cell_type": "code",
   "execution_count": 6,
   "id": "5f976aaa",
   "metadata": {},
   "outputs": [],
   "source": [
    "import json\n",
    "\n",
    "with open('train-nusantara-audiobooks.json', 'w') as fopen:\n",
    "    json.dump(train_text, fopen)"
   ]
  },
  {
   "cell_type": "code",
   "execution_count": null,
   "id": "f8999009",
   "metadata": {},
   "outputs": [],
   "source": []
  }
 ],
 "metadata": {
  "kernelspec": {
   "display_name": "Python 3 (ipykernel)",
   "language": "python",
   "name": "python3"
  },
  "language_info": {
   "codemirror_mode": {
    "name": "ipython",
    "version": 3
   },
   "file_extension": ".py",
   "mimetype": "text/x-python",
   "name": "python",
   "nbconvert_exporter": "python",
   "pygments_lexer": "ipython3",
   "version": "3.10.12"
  }
 },
 "nbformat": 4,
 "nbformat_minor": 5
}
