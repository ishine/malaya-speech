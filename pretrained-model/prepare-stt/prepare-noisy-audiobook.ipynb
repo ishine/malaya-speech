{
 "cells": [
  {
   "cell_type": "code",
   "execution_count": 5,
   "id": "72420b72",
   "metadata": {},
   "outputs": [],
   "source": [
    "# !wget https://huggingface.co/datasets/malaysia-ai/semisupervised-audiobook/resolve/main/bukan-kerana-aku-5secs-noisy.tar.gz\n",
    "# !wget https://huggingface.co/datasets/malaysia-ai/semisupervised-audiobook/resolve/main/bukan-kerana-aku-noisy.tar.gz\n",
    "# !wget https://huggingface.co/datasets/malaysia-ai/semisupervised-audiobook/resolve/main/harry-potter-5secs-noisy.tar.gz\n",
    "# !wget https://huggingface.co/datasets/malaysia-ai/semisupervised-audiobook/resolve/main/harry-potter-noisy.tar.gz\n",
    "# !wget https://huggingface.co/datasets/malaysia-ai/semisupervised-audiobook/resolve/main/teme-5secs-noisy.tar.gz\n",
    "# !wget https://huggingface.co/datasets/malaysia-ai/semisupervised-audiobook/resolve/main/teme-noisy.tar.gz\n",
    "# !tar -zxf bukan-kerana-aku-5secs-noisy.tar.gz\n",
    "# !tar -zxf bukan-kerana-aku-noisy.tar.gz\n",
    "# !tar -zxf harry-potter-5secs-noisy.tar.gz\n",
    "# !tar -zxf harry-potter-noisy.tar.gz\n",
    "# !tar -zxf teme-5secs-noisy.tar.gz\n",
    "# !tar -zxf teme-noisy.tar.gz\n",
    "# !wget https://huggingface.co/datasets/mesolitica/semisupervised-audiobook/resolve/main/semisupervised-audiobook-part1.json\n",
    "# !wget https://huggingface.co/datasets/mesolitica/semisupervised-audiobook/resolve/main/semisupervised-audiobook-part2.json"
   ]
  },
  {
   "cell_type": "code",
   "execution_count": 2,
   "id": "2fbafb4d",
   "metadata": {},
   "outputs": [],
   "source": [
    "import soundfile as sf\n",
    "from tqdm import tqdm\n",
    "import json\n",
    "import os"
   ]
  },
  {
   "cell_type": "code",
   "execution_count": 3,
   "id": "a33e42c0",
   "metadata": {},
   "outputs": [
    {
     "data": {
      "text/plain": [
       "8444"
      ]
     },
     "execution_count": 3,
     "metadata": {},
     "output_type": "execute_result"
    }
   ],
   "source": [
    "train_text = []\n",
    "\n",
    "for f in ['semisupervised-audiobook-part1.json', 'semisupervised-audiobook-part2.json']:\n",
    "    with open(f) as fopen:\n",
    "        train = json.load(fopen)\n",
    "    for k, v in train.items():\n",
    "        if not os.path.exists(k):\n",
    "            continue\n",
    "        t = v['text'].strip()\n",
    "        t = f'<|startoftranscript|><|ms|><|transcribe|> {t}<|endoftext|>'\n",
    "\n",
    "        train_text.append({\n",
    "            'new_text': t,\n",
    "            'audio_filename': k\n",
    "        })\n",
    "        \n",
    "len(train_text)"
   ]
  },
  {
   "cell_type": "code",
   "execution_count": 4,
   "id": "286666a6",
   "metadata": {},
   "outputs": [],
   "source": [
    "import json\n",
    "\n",
    "with open('train-semisupervised-audiobook.json', 'w') as fopen:\n",
    "    json.dump(train_text, fopen)"
   ]
  }
 ],
 "metadata": {
  "kernelspec": {
   "display_name": "Python 3 (ipykernel)",
   "language": "python",
   "name": "python3"
  },
  "language_info": {
   "codemirror_mode": {
    "name": "ipython",
    "version": 3
   },
   "file_extension": ".py",
   "mimetype": "text/x-python",
   "name": "python",
   "nbconvert_exporter": "python",
   "pygments_lexer": "ipython3",
   "version": "3.10.12"
  }
 },
 "nbformat": 4,
 "nbformat_minor": 5
}
