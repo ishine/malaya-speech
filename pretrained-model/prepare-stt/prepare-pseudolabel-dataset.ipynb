{
 "cells": [
  {
   "cell_type": "code",
   "execution_count": 1,
   "id": "ed1fdab4",
   "metadata": {},
   "outputs": [],
   "source": [
    "from glob import glob\n",
    "from tqdm import tqdm\n",
    "import json\n",
    "import numpy as np\n",
    "import os\n",
    "from transformers import AutoTokenizer, WhisperConfig\n",
    "from sklearn.feature_extraction.text import CountVectorizer\n",
    "\n",
    "config = WhisperConfig.from_pretrained('openai/whisper-large-v3')\n",
    "maxlen = config.max_length - 3"
   ]
  },
  {
   "cell_type": "code",
   "execution_count": 2,
   "id": "fb98fd42",
   "metadata": {},
   "outputs": [
    {
     "name": "stderr",
     "output_type": "stream",
     "text": [
      "Special tokens have been added in the vocabulary, make sure the associated word embeddings are fine-tuned or trained.\n"
     ]
    }
   ],
   "source": [
    "tokenizer = AutoTokenizer.from_pretrained('openai/whisper-large-v3')"
   ]
  },
  {
   "cell_type": "code",
   "execution_count": 3,
   "id": "ec2119e3",
   "metadata": {},
   "outputs": [
    {
     "data": {
      "text/plain": [
       "42729"
      ]
     },
     "execution_count": 3,
     "metadata": {},
     "output_type": "execute_result"
    }
   ],
   "source": [
    "files = sorted(glob('output/*.json'), key = lambda x: int(x.split('-')[1].replace('.json', '')))\n",
    "len(files)"
   ]
  },
  {
   "cell_type": "code",
   "execution_count": 4,
   "id": "90279f76",
   "metadata": {
    "scrolled": true
   },
   "outputs": [
    {
     "name": "stdout",
     "output_type": "stream",
     "text": [
      "{\"predict_ms\": \"<|startoftranscript|><|ms|><|transcribe|> anda tahu keuntungan boleh lebih tinggi daripada keuntungan kewangan rumah maka saya tidak akan mencari dalam akaun saya akan mencari ke dalam ethereum atau beberapa crypto punks bergantung pada faktor risiko anda kerana rumah kajang dihantar tidak mengganggu dsr saya sejauh ini jadi sekarang apa posisi saya untuk mendapatkan kewangan ketiga jadi mungkin setelah melihat sekeliling saya menemui seorang penjual yang dapat menutupi perhubungan tetapi bank hanya menerima 70% dari itu saya boleh membayar perbezaan dengan menggunakan wang ini kerana sekali lagi ia menyusahkan saya dan aset tetapi jika anda tidak selesa dengan mencari<|endoftext|>\", \"predict_en\": \"<|startoftranscript|><|en|><|transcribe|> you know the returns can be higher than the savings of the housing loan interest then i will not put in the account i'll put into ethereum or some crypto punks depending on your risk factor then because of the kajang house being let out it does not affect my dsr as much so now what's my position on getting the third loan so maybe after looking around i found one where the renter can somewhat cover the installment but the bank only approved 70 percent of it i'm okay to pay the difference using this cash because again it somewhat secures me an asset but if you are not<|endoftext|>\", \"score_ms\": 11.25, \"score_en\": 8.875, \"audio_filename\": \"output-audio/1-0-0.mp3\", \"filename\": \"output/1-0.json\", \"i\": 0, \"repeat_ms\": false, \"repeat_en\": false}\r\n"
     ]
    }
   ],
   "source": [
    "!head -n 1 pseudolabel.jsonl"
   ]
  },
  {
   "cell_type": "code",
   "execution_count": 5,
   "id": "b385f9a9",
   "metadata": {},
   "outputs": [],
   "source": [
    "import mp\n",
    "import copy\n",
    "\n",
    "minimum_score = 6\n",
    "\n",
    "def loop(files):\n",
    "    files, _ = files\n",
    "    results = []\n",
    "    for f in tqdm(files):\n",
    "        try:\n",
    "            with open(f) as fopen:\n",
    "                data = json.load(fopen)\n",
    "        except:\n",
    "            continue\n",
    "        f_split = os.path.split(f)[-1].replace('.json', '')\n",
    "        for i in range(len(data)):\n",
    "            \n",
    "            audio_filename = os.path.join('output-audio', f'{f_split}-{i}.mp3')\n",
    "            if not os.path.exists(audio_filename):\n",
    "                continue\n",
    "            \n",
    "            if data[i]['score_ms'] > minimum_score:\n",
    "                t = data[i]['predict_ms']\n",
    "                a = np.array(tokenizer.encode(t, add_special_tokens = False))\n",
    "                a = a[a != 50257]\n",
    "                if len(a) > 5 and len(a) + 1 < maxlen:\n",
    "                    dense = CountVectorizer(ngram_range = (3,3)).fit_transform([t]).todense()\n",
    "                    repeat = (dense > 3).sum() > 1\n",
    "                    if not repeat:\n",
    "                        new_text = tokenizer.decode(a.tolist() + [50257])\n",
    "                        results.append({\n",
    "                            'new_text': new_text,\n",
    "                            'audio_filename': audio_filename\n",
    "                        })\n",
    "            \n",
    "            if data[i]['score_en'] > minimum_score:\n",
    "                t = data[i]['predict_en']\n",
    "                a = np.array(tokenizer.encode(t, add_special_tokens = False))\n",
    "                a = a[a != 50257]\n",
    "                if len(a) > 5 and len(a) + 1 < maxlen:\n",
    "                    dense = CountVectorizer(ngram_range = (3,3)).fit_transform([t]).todense()\n",
    "                    repeat = (dense > 3).sum() > 1\n",
    "                    if not repeat:\n",
    "                        new_text = tokenizer.decode(a.tolist() + [50257])\n",
    "                        results.append({\n",
    "                            'new_text': new_text,\n",
    "                            'audio_filename': audio_filename\n",
    "                        })\n",
    "\n",
    "    return results"
   ]
  },
  {
   "cell_type": "code",
   "execution_count": 6,
   "id": "df1d7b38",
   "metadata": {},
   "outputs": [
    {
     "name": "stderr",
     "output_type": "stream",
     "text": [
      "100%|██████████| 1424/1424 [02:00<00:00, 11.79it/s]\n",
      "100%|██████████| 1424/1424 [02:01<00:00, 11.76it/s]\n",
      "100%|██████████| 1424/1424 [02:01<00:00, 11.71it/s]\n",
      "100%|██████████| 1424/1424 [02:01<00:00, 11.70it/s]\n",
      " 95%|█████████▌| 1359/1424 [02:01<00:08,  7.89it/s]\n",
      "100%|██████████| 1424/1424 [02:02<00:00, 11.60it/s]\n",
      "100%|██████████| 9/9 [00:00<00:00, 11.53it/s]8it/s]\n",
      "100%|██████████| 1424/1424 [02:03<00:00, 11.57it/s]\n",
      "100%|██████████| 1424/1424 [02:03<00:00, 11.51it/s]\n",
      "100%|██████████| 1424/1424 [02:04<00:00, 11.43it/s]\n",
      "100%|██████████| 1424/1424 [02:04<00:00, 11.41it/s]\n",
      "100%|██████████| 1424/1424 [02:04<00:00, 11.40it/s]\n",
      "100%|██████████| 1424/1424 [02:05<00:00, 11.36it/s]\n",
      "100%|██████████| 1424/1424 [02:05<00:00, 11.31it/s]\n",
      "100%|██████████| 1424/1424 [02:06<00:00, 11.28it/s]\n",
      "100%|██████████| 1424/1424 [02:06<00:00, 11.27it/s]\n",
      "100%|██████████| 1424/1424 [02:07<00:00, 11.20it/s]\n",
      "100%|██████████| 1424/1424 [02:07<00:00, 11.17it/s]\n",
      "100%|██████████| 1424/1424 [02:07<00:00, 11.15it/s]\n",
      "100%|██████████| 1424/1424 [02:07<00:00, 11.15it/s]\n",
      "100%|██████████| 1424/1424 [02:07<00:00, 11.15it/s]\n",
      "100%|██████████| 1424/1424 [02:08<00:00, 11.12it/s]\n",
      "100%|██████████| 1424/1424 [02:08<00:00, 11.11it/s]\n",
      "100%|██████████| 1424/1424 [02:08<00:00, 11.08it/s]\n",
      "100%|██████████| 1424/1424 [02:09<00:00, 11.03it/s]\n",
      "100%|██████████| 1424/1424 [02:09<00:00, 11.01it/s]\n",
      "100%|██████████| 1424/1424 [02:09<00:00, 10.96it/s]\n",
      "100%|██████████| 1424/1424 [02:10<00:00, 10.89it/s]\n",
      "100%|██████████| 1424/1424 [02:11<00:00, 10.82it/s]\n",
      "100%|██████████| 1424/1424 [02:12<00:00, 10.71it/s]\n",
      "100%|██████████| 1424/1424 [02:14<00:00, 10.62it/s]\n"
     ]
    }
   ],
   "source": [
    "results = mp.multiprocessing(files, loop, cores = 30)"
   ]
  },
  {
   "cell_type": "code",
   "execution_count": 7,
   "id": "7ffbe762",
   "metadata": {},
   "outputs": [
    {
     "data": {
      "text/plain": [
       "2333268"
      ]
     },
     "execution_count": 7,
     "metadata": {},
     "output_type": "execute_result"
    }
   ],
   "source": [
    "len(results)"
   ]
  },
  {
   "cell_type": "code",
   "execution_count": 9,
   "id": "c985881d",
   "metadata": {},
   "outputs": [
    {
     "data": {
      "text/plain": [
       "{'new_text': '<|startoftranscript|><|ms|><|transcribe|> dan itu boleh menjadi sangat langsung. Tetapi yang paling menakutkan adalah apabila banyak orang menghadap jumlah wang yang besar ini untuk kali pertama yang sangat-sangat, ini adalah ketika literasi kewangan datang kerana jumlah wang itu, tiba-tiba semuanya menjadi jip kerana anda melihat semuanya betul, ketika anda tahu bahawa anda mempunyai sejuta dalam bank, ya, tidak mengapa, ya, tidak mengapa, tidak mengapa, tidak mengapa, dan secara langsung anda memperbaiki gaya hidup anda tanpa<|endoftext|>',\n",
       " 'audio_filename': 'output-audio/1-0-2.mp3'}"
      ]
     },
     "execution_count": 9,
     "metadata": {},
     "output_type": "execute_result"
    }
   ],
   "source": [
    "results[4]"
   ]
  },
  {
   "cell_type": "code",
   "execution_count": 10,
   "id": "680b2c7c",
   "metadata": {},
   "outputs": [
    {
     "name": "stderr",
     "output_type": "stream",
     "text": [
      "100%|██████████| 2333268/2333268 [00:10<00:00, 230429.61it/s]\n"
     ]
    }
   ],
   "source": [
    "with open('prepared-pseudolabel.jsonl', 'w') as fopen:\n",
    "    for r in tqdm(results):\n",
    "        fopen.write(f'{json.dumps(r)}\\n')"
   ]
  },
  {
   "cell_type": "code",
   "execution_count": 11,
   "id": "3e89d3cb",
   "metadata": {},
   "outputs": [],
   "source": [
    "from streaming import MDSWriter, LocalDataset"
   ]
  },
  {
   "cell_type": "code",
   "execution_count": 12,
   "id": "d3f5bb2e",
   "metadata": {},
   "outputs": [],
   "source": [
    "columns = {\n",
    "    'new_text': 'str',\n",
    "    'audio_filename': 'str'\n",
    "}\n",
    "\n",
    "hashes = 'sha1', 'xxh64'"
   ]
  },
  {
   "cell_type": "code",
   "execution_count": 13,
   "id": "04f89338",
   "metadata": {},
   "outputs": [],
   "source": [
    "!rm -rf mosaic-pseudolabel"
   ]
  },
  {
   "cell_type": "code",
   "execution_count": 14,
   "id": "3889d41e",
   "metadata": {},
   "outputs": [
    {
     "name": "stderr",
     "output_type": "stream",
     "text": [
      "2333268it [00:17, 135549.21it/s]\n"
     ]
    }
   ],
   "source": [
    "with MDSWriter(out='mosaic-pseudolabel', columns=columns, compression=None, hashes=hashes) as out:\n",
    "    with open('prepared-pseudolabel.jsonl') as fopen:\n",
    "        for l in tqdm(fopen):\n",
    "            l = json.loads(l)\n",
    "            sample = {\n",
    "                'new_text': l['new_text'],\n",
    "                'audio_filename': l['audio_filename'],\n",
    "            }\n",
    "            out.write(sample)"
   ]
  },
  {
   "cell_type": "code",
   "execution_count": 19,
   "id": "464fffc7",
   "metadata": {},
   "outputs": [
    {
     "data": {
      "text/plain": [
       "2333268"
      ]
     },
     "execution_count": 19,
     "metadata": {},
     "output_type": "execute_result"
    }
   ],
   "source": [
    "dataset = LocalDataset('mosaic-pseudolabel')\n",
    "len(dataset)"
   ]
  },
  {
   "cell_type": "code",
   "execution_count": 16,
   "id": "c7df6282",
   "metadata": {},
   "outputs": [
    {
     "data": {
      "text/plain": [
       "{'audio_filename': 'output-audio/1-0-0.mp3',\n",
       " 'new_text': '<|startoftranscript|><|ms|><|transcribe|> anda tahu keuntungan boleh lebih tinggi daripada keuntungan kewangan rumah maka saya tidak akan mencari dalam akaun saya akan mencari ke dalam ethereum atau beberapa crypto punks bergantung pada faktor risiko anda kerana rumah kajang dihantar tidak mengganggu dsr saya sejauh ini jadi sekarang apa posisi saya untuk mendapatkan kewangan ketiga jadi mungkin setelah melihat sekeliling saya menemui seorang penjual yang dapat menutupi perhubungan tetapi bank hanya menerima 70% dari itu saya boleh membayar perbezaan dengan menggunakan wang ini kerana sekali lagi ia menyusahkan saya dan aset tetapi jika anda tidak selesa dengan mencari<|endoftext|>'}"
      ]
     },
     "execution_count": 16,
     "metadata": {},
     "output_type": "execute_result"
    }
   ],
   "source": [
    "dataset[0]"
   ]
  },
  {
   "cell_type": "code",
   "execution_count": 17,
   "id": "3125a20a",
   "metadata": {},
   "outputs": [
    {
     "name": "stdout",
     "output_type": "stream",
     "text": [
      "fatal: destination path 'mosaic-pseudolabel-malaysian-youtube-whisper-large-v3' already exists and is not an empty directory.\r\n"
     ]
    }
   ],
   "source": [
    "!git clone https://huggingface.co/datasets/malaysia-ai/mosaic-pseudolabel-malaysian-youtube-whisper-large-v3\n",
    "!cp mosaic-pseudolabel/* mosaic-pseudolabel-malaysian-youtube-whisper-large-v3"
   ]
  },
  {
   "cell_type": "code",
   "execution_count": null,
   "id": "91268510",
   "metadata": {},
   "outputs": [],
   "source": [
    "!rm -rf mosaic-pseudolabel"
   ]
  },
  {
   "cell_type": "code",
   "execution_count": 18,
   "id": "c700a422",
   "metadata": {},
   "outputs": [
    {
     "data": {
      "text/plain": [
       "2333268"
      ]
     },
     "execution_count": 18,
     "metadata": {},
     "output_type": "execute_result"
    }
   ],
   "source": [
    "dataset = LocalDataset('mosaic-pseudolabel-malaysian-youtube-whisper-large-v3')\n",
    "len(dataset)"
   ]
  },
  {
   "cell_type": "code",
   "execution_count": 20,
   "id": "55517aca",
   "metadata": {},
   "outputs": [
    {
     "data": {
      "application/vnd.jupyter.widget-view+json": {
       "model_id": "45dd4e0ceafd4854b6d2f46c4a233af8",
       "version_major": 2,
       "version_minor": 0
      },
      "text/plain": [
       "prepared-pseudolabel.jsonl:   0%|          | 0.00/1.20G [00:00<?, ?B/s]"
      ]
     },
     "metadata": {},
     "output_type": "display_data"
    },
    {
     "data": {
      "text/plain": [
       "'https://huggingface.co/datasets/mesolitica/pseudolabel-malaysian-youtube-whisper-large-v3/blob/main/prepared-pseudolabel.jsonl'"
      ]
     },
     "execution_count": 20,
     "metadata": {},
     "output_type": "execute_result"
    }
   ],
   "source": [
    "from huggingface_hub import HfApi\n",
    "api = HfApi()\n",
    "\n",
    "api.upload_file(\n",
    "    path_or_fileobj='prepared-pseudolabel.jsonl',\n",
    "    path_in_repo='prepared-pseudolabel.jsonl',\n",
    "    repo_id='mesolitica/pseudolabel-malaysian-youtube-whisper-large-v3',\n",
    "    repo_type='dataset',\n",
    ")"
   ]
  },
  {
   "cell_type": "code",
   "execution_count": null,
   "id": "3b8b1f6a",
   "metadata": {},
   "outputs": [],
   "source": []
  }
 ],
 "metadata": {
  "kernelspec": {
   "display_name": "Python 3 (ipykernel)",
   "language": "python",
   "name": "python3"
  },
  "language_info": {
   "codemirror_mode": {
    "name": "ipython",
    "version": 3
   },
   "file_extension": ".py",
   "mimetype": "text/x-python",
   "name": "python",
   "nbconvert_exporter": "python",
   "pygments_lexer": "ipython3",
   "version": "3.10.12"
  }
 },
 "nbformat": 4,
 "nbformat_minor": 5
}
