{
 "cells": [
  {
   "cell_type": "code",
   "execution_count": 1,
   "id": "52f22618",
   "metadata": {},
   "outputs": [],
   "source": [
    "import json\n",
    "import os\n",
    "from tqdm import tqdm\n",
    "from glob import glob\n",
    "from streaming import MDSWriter, LocalDataset\n",
    "\n",
    "columns = {\n",
    "    'audio_filename': 'str',\n",
    "    'text': 'str',\n",
    "}\n",
    "hashes = 'sha1', 'xxh64'"
   ]
  },
  {
   "cell_type": "code",
   "execution_count": 4,
   "id": "ecac0dea",
   "metadata": {
    "scrolled": true
   },
   "outputs": [
    {
     "data": {
      "text/plain": [
       "['prepared-imda-ms.jsonl',\n",
       " 'prepared-imda.jsonl',\n",
       " 'prepared-indonesian-en.jsonl',\n",
       " 'prepared-indonesian-ms.jsonl',\n",
       " 'prepared-mandarin-en.jsonl',\n",
       " 'prepared-mandarin-ms.jsonl',\n",
       " 'prepared-mandarin.jsonl',\n",
       " 'prepared-nusantara.jsonl',\n",
       " 'prepared-pseudolabel-malaya.jsonl',\n",
       " 'prepared-pseudolabel.jsonl',\n",
       " 'prepared-tamil-en.jsonl',\n",
       " 'prepared-tamil-ms.jsonl',\n",
       " 'prepared-tamil.jsonl']"
      ]
     },
     "execution_count": 4,
     "metadata": {},
     "output_type": "execute_result"
    }
   ],
   "source": [
    "files = glob('prepared*.jsonl')\n",
    "files = sorted([f for f in files if 'original' not in f])\n",
    "files"
   ]
  },
  {
   "cell_type": "code",
   "execution_count": 5,
   "id": "79a44abc",
   "metadata": {},
   "outputs": [],
   "source": [
    "with open('prepared-tamil.jsonl') as fopen:\n",
    "    for l in fopen:\n",
    "        l = json.loads(l)\n",
    "        break"
   ]
  },
  {
   "cell_type": "code",
   "execution_count": 6,
   "id": "8f3a99fd",
   "metadata": {},
   "outputs": [
    {
     "data": {
      "text/plain": [
       "{'new_text': '<|startoftranscript|><|ta|><|transcribe|><|0.00|>விமான போக்குவரத்து தொரையில் பாதுகாப்பு அம்சங்கள் உலகத்தரத்தில் உள்ள போதும் அவற்றை மேலும் மேம்படுத்த வேண்டியது அவசியம் இன்று குறிப்பிட்டார்.<|8.20|><|endoftext|>',\n",
       " 'audio_filename': '/home/ubuntu/newsonair_v5/tamil/NSD-Tamil-Tamil-0715-0725-201810118533/sent_13.wav'}"
      ]
     },
     "execution_count": 6,
     "metadata": {},
     "output_type": "execute_result"
    }
   ],
   "source": [
    "l"
   ]
  },
  {
   "cell_type": "code",
   "execution_count": 7,
   "id": "6ab66d33",
   "metadata": {},
   "outputs": [
    {
     "name": "stderr",
     "output_type": "stream",
     "text": [
      "1217190it [00:08, 140776.97it/s]\n",
      "1861125it [00:17, 108155.99it/s]\n",
      "301763it [00:04, 65894.29it/s]\n",
      "320655it [00:05, 63604.28it/s]\n",
      "558988it [00:04, 115797.50it/s]\n",
      "537902it [00:12, 43100.50it/s] \n",
      "595542it [00:04, 137801.93it/s]\n",
      "10984it [00:00, 76319.20it/s]\n",
      "1089630it [00:08, 122636.31it/s]\n",
      "3085595it [01:04, 47982.27it/s]\n",
      "480967it [00:03, 153163.98it/s]\n",
      "441858it [00:02, 159498.63it/s]\n",
      "532262it [00:05, 105136.42it/s]\n"
     ]
    }
   ],
   "source": [
    "with MDSWriter(out='mosaic-stt', columns=columns, compression=None, hashes=hashes) as out:\n",
    "    for f in files:\n",
    "        with open(f) as fopen:\n",
    "            for l in tqdm(fopen):\n",
    "                l = json.loads(l)\n",
    "                t = l['new_text'].strip()\n",
    "                audio_filename = l['audio_filename']\n",
    "                d = {\n",
    "                    'text': t,\n",
    "                    'audio_filename': audio_filename,\n",
    "                }\n",
    "                out.write(d)\n",
    "                    "
   ]
  },
  {
   "cell_type": "code",
   "execution_count": 8,
   "id": "ded03af2",
   "metadata": {},
   "outputs": [
    {
     "data": {
      "text/plain": [
       "11034461"
      ]
     },
     "execution_count": 8,
     "metadata": {},
     "output_type": "execute_result"
    }
   ],
   "source": [
    "data = LocalDataset('mosaic-stt')\n",
    "len(data)"
   ]
  },
  {
   "cell_type": "code",
   "execution_count": 9,
   "id": "910a40e3",
   "metadata": {},
   "outputs": [
    {
     "data": {
      "text/plain": [
       "{'audio_filename': 'IMDA-STT/part1-mp3/008781545.mp3',\n",
       " 'text': '<|startoftranscript|><|ms|><|transcribe|><|0.00|> Pemilikan kereta juga dilarang kecuali jika anda membeli salah satu daripada beberapa permit mahal terlebih dahulu.<|6.56|><|endoftext|>'}"
      ]
     },
     "execution_count": 9,
     "metadata": {},
     "output_type": "execute_result"
    }
   ],
   "source": [
    "data[0]"
   ]
  },
  {
   "cell_type": "code",
   "execution_count": null,
   "id": "94d4ca28",
   "metadata": {},
   "outputs": [],
   "source": []
  }
 ],
 "metadata": {
  "kernelspec": {
   "display_name": "Python 3 (ipykernel)",
   "language": "python",
   "name": "python3"
  },
  "language_info": {
   "codemirror_mode": {
    "name": "ipython",
    "version": 3
   },
   "file_extension": ".py",
   "mimetype": "text/x-python",
   "name": "python",
   "nbconvert_exporter": "python",
   "pygments_lexer": "ipython3",
   "version": "3.10.12"
  }
 },
 "nbformat": 4,
 "nbformat_minor": 5
}
