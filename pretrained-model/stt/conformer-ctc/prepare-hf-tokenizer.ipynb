{
 "cells": [
  {
   "cell_type": "code",
   "execution_count": 38,
   "id": "0638862e",
   "metadata": {},
   "outputs": [],
   "source": [
    "from transformers import Wav2Vec2CTCTokenizer\n",
    "from transformers import SeamlessM4TFeatureExtractor\n",
    "from malaya_speech.utils.char import HF_CTC_VOCAB\n",
    "from conformer import ConformerConfig, ConformerEncoder\n",
    "import malaya_speech\n",
    "import json"
   ]
  },
  {
   "cell_type": "code",
   "execution_count": 8,
   "id": "a53b10fc",
   "metadata": {},
   "outputs": [],
   "source": [
    "HF_CTC_VOCAB_INDEX = {c: no for no, c in enumerate(HF_CTC_VOCAB)}\n",
    "HF_CTC_VOCAB_INDEX['|'] = HF_CTC_VOCAB_INDEX[' ']\n",
    "del HF_CTC_VOCAB_INDEX[' ']\n",
    "HF_CTC_VOCAB_INDEX['[UNK]'] = len(HF_CTC_VOCAB_INDEX)\n",
    "HF_CTC_VOCAB_INDEX['[PAD]'] = len(HF_CTC_VOCAB_INDEX)"
   ]
  },
  {
   "cell_type": "code",
   "execution_count": 10,
   "id": "369d18a4",
   "metadata": {},
   "outputs": [],
   "source": [
    "with open('vocab.json', 'w') as vocab_file:\n",
    "    json.dump(HF_CTC_VOCAB_INDEX, vocab_file)"
   ]
  },
  {
   "cell_type": "code",
   "execution_count": 11,
   "id": "8ae91e46",
   "metadata": {},
   "outputs": [
    {
     "name": "stdout",
     "output_type": "stream",
     "text": [
      "Ignored unknown kwarg option normalize\n",
      "Ignored unknown kwarg option normalize\n",
      "Ignored unknown kwarg option normalize\n",
      "Ignored unknown kwarg option normalize\n"
     ]
    }
   ],
   "source": [
    "tokenizer = Wav2Vec2CTCTokenizer.from_pretrained(\"./\", unk_token=\"[UNK]\", pad_token=\"[PAD]\", word_delimiter_token=\"|\")"
   ]
  },
  {
   "cell_type": "code",
   "execution_count": 40,
   "id": "48a7db75",
   "metadata": {},
   "outputs": [
    {
     "data": {
      "text/plain": [
       "Wav2Vec2CTCTokenizer(name_or_path='./', vocab_size=41, model_max_length=1000000000000000019884624838656, is_fast=False, padding_side='right', truncation_side='right', special_tokens={'bos_token': '<s>', 'eos_token': '</s>', 'unk_token': '[UNK]', 'pad_token': '[PAD]'}, clean_up_tokenization_spaces=True),  added_tokens_decoder={\n",
       "\t39: AddedToken(\"[UNK]\", rstrip=True, lstrip=True, single_word=False, normalized=False, special=False),\n",
       "\t40: AddedToken(\"[PAD]\", rstrip=True, lstrip=True, single_word=False, normalized=False, special=False),\n",
       "\t41: AddedToken(\"<s>\", rstrip=False, lstrip=False, single_word=False, normalized=True, special=True),\n",
       "\t42: AddedToken(\"</s>\", rstrip=False, lstrip=False, single_word=False, normalized=True, special=True),\n",
       "}"
      ]
     },
     "execution_count": 40,
     "metadata": {},
     "output_type": "execute_result"
    }
   ],
   "source": [
    "tokenizer"
   ]
  },
  {
   "cell_type": "code",
   "execution_count": 39,
   "id": "04e413c4",
   "metadata": {},
   "outputs": [
    {
     "data": {
      "text/plain": [
       "40"
      ]
     },
     "execution_count": 39,
     "metadata": {},
     "output_type": "execute_result"
    }
   ],
   "source": [
    "tokenizer.pad_token_id"
   ]
  },
  {
   "cell_type": "code",
   "execution_count": 20,
   "id": "605218b8",
   "metadata": {},
   "outputs": [
    {
     "data": {
      "text/plain": [
       "{'input_ids': [[1, 19, 4], [1, 19]], 'attention_mask': [[1, 1, 1], [1, 1]]}"
      ]
     },
     "execution_count": 20,
     "metadata": {},
     "output_type": "execute_result"
    }
   ],
   "source": [
    "label_features = tokenizer(['asd', 'as'])\n",
    "label_features"
   ]
  },
  {
   "cell_type": "code",
   "execution_count": 24,
   "id": "c81d6fd8",
   "metadata": {},
   "outputs": [],
   "source": [
    "labels_batch = tokenizer.pad(\n",
    "    label_features,\n",
    "    padding='longest',\n",
    "    return_tensors=\"pt\",\n",
    ")\n",
    "\n",
    "# replace padding with -100 to ignore loss correctly\n",
    "labels = labels_batch[\"input_ids\"].masked_fill(labels_batch.attention_mask.ne(1), -100)"
   ]
  },
  {
   "cell_type": "code",
   "execution_count": 25,
   "id": "494e3736",
   "metadata": {},
   "outputs": [
    {
     "data": {
      "text/plain": [
       "tensor([[   1,   19,    4],\n",
       "        [   1,   19, -100]])"
      ]
     },
     "execution_count": 25,
     "metadata": {},
     "output_type": "execute_result"
    }
   ],
   "source": [
    "labels"
   ]
  },
  {
   "cell_type": "code",
   "execution_count": 27,
   "id": "85f9b8cd",
   "metadata": {},
   "outputs": [
    {
     "data": {
      "application/vnd.jupyter.widget-view+json": {
       "model_id": "3b9aa5a0037a4742b393b694716cedfb",
       "version_major": 2,
       "version_minor": 0
      },
      "text/plain": [
       "preprocessor_config.json:   0%|          | 0.00/275 [00:00<?, ?B/s]"
      ]
     },
     "metadata": {},
     "output_type": "display_data"
    }
   ],
   "source": [
    "feature_extractor = SeamlessM4TFeatureExtractor.from_pretrained(\"facebook/w2v-bert-2.0\")"
   ]
  },
  {
   "cell_type": "code",
   "execution_count": 28,
   "id": "d67f8d95",
   "metadata": {
    "scrolled": true
   },
   "outputs": [
    {
     "ename": "ImportError",
     "evalue": "cannot import name 'Wav2Vec2BertProcessor' from 'transformers' (/home/husein/.local/lib/python3.8/site-packages/transformers/__init__.py)",
     "output_type": "error",
     "traceback": [
      "\u001b[0;31m---------------------------------------------------------------------------\u001b[0m",
      "\u001b[0;31mImportError\u001b[0m                               Traceback (most recent call last)",
      "\u001b[0;32m/tmp/ipykernel_3000158/1746181969.py\u001b[0m in \u001b[0;36m<module>\u001b[0;34m\u001b[0m\n\u001b[0;32m----> 1\u001b[0;31m \u001b[0;32mfrom\u001b[0m \u001b[0mtransformers\u001b[0m \u001b[0;32mimport\u001b[0m \u001b[0mWav2Vec2BertProcessor\u001b[0m\u001b[0;34m\u001b[0m\u001b[0;34m\u001b[0m\u001b[0m\n\u001b[0m\u001b[1;32m      2\u001b[0m \u001b[0;34m\u001b[0m\u001b[0m\n\u001b[1;32m      3\u001b[0m \u001b[0mprocessor\u001b[0m \u001b[0;34m=\u001b[0m \u001b[0mWav2Vec2BertProcessor\u001b[0m\u001b[0;34m(\u001b[0m\u001b[0mfeature_extractor\u001b[0m\u001b[0;34m=\u001b[0m\u001b[0mfeature_extractor\u001b[0m\u001b[0;34m,\u001b[0m \u001b[0mtokenizer\u001b[0m\u001b[0;34m=\u001b[0m\u001b[0mtokenizer\u001b[0m\u001b[0;34m)\u001b[0m\u001b[0;34m\u001b[0m\u001b[0;34m\u001b[0m\u001b[0m\n",
      "\u001b[0;31mImportError\u001b[0m: cannot import name 'Wav2Vec2BertProcessor' from 'transformers' (/home/husein/.local/lib/python3.8/site-packages/transformers/__init__.py)"
     ]
    }
   ],
   "source": [
    "from transformers import Wav2Vec2BertProcessor\n",
    "\n",
    "processor = Wav2Vec2BertProcessor(feature_extractor=feature_extractor, tokenizer=tokenizer)"
   ]
  },
  {
   "cell_type": "code",
   "execution_count": 42,
   "id": "9ea32fa9",
   "metadata": {},
   "outputs": [],
   "source": [
    "y, sr = malaya_speech.load('/home/husein/dev/malaya-speech/speech/example-speaker/husein-zolkepli.wav')\n",
    "y2, sr = malaya_speech.load('/home/husein/dev/malaya-speech/speech/example-speaker/shafiqah-idayu.wav')"
   ]
  },
  {
   "cell_type": "code",
   "execution_count": 43,
   "id": "a319c8ea",
   "metadata": {},
   "outputs": [
    {
     "name": "stderr",
     "output_type": "stream",
     "text": [
      "It is strongly recommended to pass the `sampling_rate` argument to this function. Failing to do so can result in silent errors that might be hard to debug.\n"
     ]
    },
    {
     "data": {
      "text/plain": [
       "array([[[-4.1859403 , -4.3956175 , -2.0071175 , ..., -0.8214691 ,\n",
       "         -0.5817979 , -0.31279954],\n",
       "        [-1.6673652 , -1.944707  , -1.4485894 , ..., -0.09358254,\n",
       "         -0.22961655, -0.11838696],\n",
       "        [-1.1028099 , -0.8061468 , -1.362634  , ..., -0.25970015,\n",
       "         -0.33983642, -0.15761521],\n",
       "        ...,\n",
       "        [-0.8000384 , -1.3038509 , -0.43857166, ..., -1.1498504 ,\n",
       "         -1.0206455 , -0.5446591 ],\n",
       "        [ 0.36477318,  0.28267542, -0.5236914 , ..., -0.7319313 ,\n",
       "         -0.42760292, -0.56898147],\n",
       "        [ 0.7143059 ,  0.44851705, -0.3786471 , ...,  1.        ,\n",
       "          1.        ,  1.        ]],\n",
       "\n",
       "       [[-1.3710316 , -0.36263075,  0.17935964, ...,  0.6701742 ,\n",
       "          0.48520747,  0.6884587 ],\n",
       "        [ 0.06079479,  0.35314864,  0.06038192, ..., -0.04796737,\n",
       "          0.287562  ,  0.02813615],\n",
       "        [-1.4509171 , -0.49308303,  0.39764035, ..., -0.3195095 ,\n",
       "         -0.3137719 ,  0.03174698],\n",
       "        ...,\n",
       "        [ 1.        ,  1.        ,  1.        , ...,  1.        ,\n",
       "          1.        ,  1.        ],\n",
       "        [ 1.        ,  1.        ,  1.        , ...,  1.        ,\n",
       "          1.        ,  1.        ],\n",
       "        [ 1.        ,  1.        ,  1.        , ...,  1.        ,\n",
       "          1.        ,  1.        ]]], dtype=float32)"
      ]
     },
     "execution_count": 43,
     "metadata": {},
     "output_type": "execute_result"
    }
   ],
   "source": [
    "feature_extractor([y, y2])['input_features']"
   ]
  },
  {
   "cell_type": "code",
   "execution_count": null,
   "id": "1f13a764",
   "metadata": {},
   "outputs": [],
   "source": [
    "config = ConformerConfig(\n",
    "    input_dim=80,\n",
    "    output_dim=len(HF_CTC_VOCAB),\n",
    "    time_reduction_stride=4,\n",
    "    conformer_input_dim=144,\n",
    "    conformer_ffn_dim=576,\n",
    "    conformer_num_layers=8,\n",
    "    conformer_num_heads=4,\n",
    "    conformer_depthwise_conv_kernel_size=31,\n",
    "    conformer_dropout=0.1,\n",
    "    pad_token_id=len(HF_CTC_VOCAB) - 1,\n",
    "    ctc_loss_reduction='mean',\n",
    "    ctc_zero_infinity=True,\n",
    ")"
   ]
  }
 ],
 "metadata": {
  "kernelspec": {
   "display_name": "Python 3 (ipykernel)",
   "language": "python",
   "name": "python3"
  },
  "language_info": {
   "codemirror_mode": {
    "name": "ipython",
    "version": 3
   },
   "file_extension": ".py",
   "mimetype": "text/x-python",
   "name": "python",
   "nbconvert_exporter": "python",
   "pygments_lexer": "ipython3",
   "version": "3.8.10"
  }
 },
 "nbformat": 4,
 "nbformat_minor": 5
}
