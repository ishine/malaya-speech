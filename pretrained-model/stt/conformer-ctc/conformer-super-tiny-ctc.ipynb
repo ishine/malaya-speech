{
 "cells": [
  {
   "cell_type": "code",
   "execution_count": 1,
   "id": "2666312d",
   "metadata": {
    "scrolled": true
   },
   "outputs": [
    {
     "name": "stderr",
     "output_type": "stream",
     "text": [
      "/home/husein/.local/lib/python3.8/site-packages/requests/__init__.py:102: RequestsDependencyWarning: urllib3 (1.26.15) or chardet (5.2.0)/charset_normalizer (2.0.7) doesn't match a supported version!\n",
      "  warnings.warn(\"urllib3 ({}) or chardet ({})/charset_normalizer ({}) doesn't match a supported \"\n",
      "/home/husein/.local/lib/python3.8/site-packages/whisper/timing.py:58: NumbaDeprecationWarning: \u001b[1mThe 'nopython' keyword argument was not supplied to the 'numba.jit' decorator. The implicit default value for this argument is currently False, but it will be changed to True in Numba 0.59.0. See https://numba.readthedocs.io/en/stable/reference/deprecation.html#deprecation-of-object-mode-fall-back-behaviour-when-using-jit for details.\u001b[0m\n",
      "  def backtrace(trace: np.ndarray):\n",
      "`pyaudio` is not available, `malaya_speech.streaming.pyaudio` is not able to use.\n"
     ]
    }
   ],
   "source": [
    "from malaya_speech.utils import torch_featurization\n",
    "import random\n",
    "import torch\n",
    "import malaya_speech\n",
    "from malaya_speech.utils.char import HF_CTC_VOCAB\n",
    "from conformer import ConformerConfig, ConformerEncoder\n",
    "from dataclasses import dataclass, field\n",
    "\n",
    "HF_CTC_VOCAB = HF_CTC_VOCAB + ['_']\n",
    "HF_CTC_VOCAB_INDEX = {no: c for no, c in enumerate(HF_CTC_VOCAB)}\n",
    "HF_CTC_VOCAB_REV = {v: k for k, v in HF_CTC_VOCAB_INDEX.items()}\n",
    "\n",
    "ConformerConfig.register_for_auto_class()\n",
    "ConformerEncoder.register_for_auto_class()"
   ]
  },
  {
   "cell_type": "code",
   "execution_count": 2,
   "id": "742670f1",
   "metadata": {
    "scrolled": true
   },
   "outputs": [],
   "source": [
    "config = ConformerConfig(\n",
    "    input_dim=80,\n",
    "    output_dim=len(HF_CTC_VOCAB),\n",
    "    time_reduction_stride=4,\n",
    "    conformer_input_dim=144,\n",
    "    conformer_ffn_dim=576,\n",
    "    conformer_num_layers=4,\n",
    "    conformer_num_heads=4,\n",
    "    conformer_depthwise_conv_kernel_size=31,\n",
    "    conformer_dropout=0.0,\n",
    "    pad_token_id=len(HF_CTC_VOCAB) - 1,\n",
    "    ctc_loss_reduction='mean',\n",
    "    ctc_zero_infinity=True,\n",
    ")"
   ]
  },
  {
   "cell_type": "code",
   "execution_count": 3,
   "id": "ba4f1fca",
   "metadata": {},
   "outputs": [],
   "source": [
    "encoder = ConformerEncoder(config)"
   ]
  },
  {
   "cell_type": "code",
   "execution_count": 4,
   "id": "1708a6ce",
   "metadata": {},
   "outputs": [],
   "source": [
    "global_stats = torch_featurization.GlobalStatsNormalization('../../../malay-stats.json')"
   ]
  },
  {
   "cell_type": "code",
   "execution_count": 5,
   "id": "7e679b47",
   "metadata": {},
   "outputs": [],
   "source": [
    "y, sr = malaya_speech.load('../../../speech/example-speaker/husein-zolkepli.wav')\n",
    "y2, sr = malaya_speech.load('../../../speech/example-speaker/shafiqah-idayu.wav')"
   ]
  },
  {
   "cell_type": "code",
   "execution_count": 6,
   "id": "135d1497",
   "metadata": {},
   "outputs": [],
   "source": [
    "srs = [4400, 5100, 6000, 8000, 10000]\n",
    "\n",
    "def downsample(y, sr):\n",
    "    s_sr = random.choice(srs)\n",
    "    y_ = malaya_speech.resample(y, sr, s_sr)\n",
    "    return malaya_speech.resample(y_, s_sr, sr)"
   ]
  },
  {
   "cell_type": "code",
   "execution_count": 7,
   "id": "5fc6b166",
   "metadata": {},
   "outputs": [],
   "source": [
    "mel = torch_featurization.melspectrogram(y)\n",
    "mel = torch_featurization.piecewise_linear_log(mel)\n",
    "mel2 = torch_featurization.melspectrogram(y2)\n",
    "mel2 = torch_featurization.piecewise_linear_log(mel2)"
   ]
  },
  {
   "cell_type": "code",
   "execution_count": 8,
   "id": "af5c19e0",
   "metadata": {
    "scrolled": true
   },
   "outputs": [],
   "source": [
    "text = ['nama saya husein bin zolkepli', 'nama saya shafiqah idayu']\n",
    "text = [[HF_CTC_VOCAB_REV[c] for c in t] for t in text]"
   ]
  },
  {
   "cell_type": "code",
   "execution_count": 9,
   "id": "ae3e6afa",
   "metadata": {},
   "outputs": [],
   "source": [
    "@dataclass\n",
    "class DataCollatorCTCWithPadding:\n",
    "     def __call__(self, features):\n",
    "        inputs = [f['inputs'] for f in features]\n",
    "        lengths = torch.tensor([len(f['inputs']) for f in features])\n",
    "        inputs = torch.nn.utils.rnn.pad_sequence(inputs, batch_first = True)\n",
    "        labels = [torch.tensor(f['labels']) for f in features]\n",
    "        labels = torch.nn.utils.rnn.pad_sequence(labels, batch_first = True, padding_value = -100)\n",
    "        return {\n",
    "            'inputs': inputs,\n",
    "            'lengths': lengths,\n",
    "            'labels': labels,\n",
    "        }"
   ]
  },
  {
   "cell_type": "code",
   "execution_count": 10,
   "id": "16971668",
   "metadata": {},
   "outputs": [],
   "source": [
    "collator = DataCollatorCTCWithPadding()"
   ]
  },
  {
   "cell_type": "code",
   "execution_count": 11,
   "id": "8508466f",
   "metadata": {},
   "outputs": [
    {
     "data": {
      "text/plain": [
       "{'inputs': tensor([[[ 7.5720,  8.8585, 11.1099,  ..., 14.2707, 14.0441, 14.6217],\n",
       "          [11.6262, 12.9127, 15.0601,  ..., 14.3029, 13.7059, 14.6847],\n",
       "          [15.4666, 16.7531, 17.1559,  ..., 12.7871, 13.4699, 14.2108],\n",
       "          ...,\n",
       "          [19.2897, 20.5761, 18.5907,  ..., 13.4430, 14.3961, 14.1888],\n",
       "          [19.9591, 21.2456, 20.8646,  ..., 13.4250, 13.9565, 14.0654],\n",
       "          [15.8479, 17.1344, 15.3638,  ..., 12.1170, 12.7841, 11.9480]],\n",
       " \n",
       "         [[13.5830, 14.8695, 16.0703,  ..., 16.1097, 15.8851, 15.7696],\n",
       "          [17.2102, 18.4967, 19.5340,  ..., 16.7923, 16.7401, 17.0030],\n",
       "          [19.9245, 21.2110, 21.4556,  ..., 17.6996, 17.4917, 17.0634],\n",
       "          ...,\n",
       "          [ 0.0000,  0.0000,  0.0000,  ...,  0.0000,  0.0000,  0.0000],\n",
       "          [ 0.0000,  0.0000,  0.0000,  ...,  0.0000,  0.0000,  0.0000],\n",
       "          [ 0.0000,  0.0000,  0.0000,  ...,  0.0000,  0.0000,  0.0000]]]),\n",
       " 'lengths': tensor([564, 352]),\n",
       " 'labels': tensor([[  14,    1,   13,    1,   37,   19,    1,   25,    1,   37,    8,   21,\n",
       "            19,    5,    9,   14,   37,    2,    9,   14,   37,   26,   15,   12,\n",
       "            11,    5,   16,   12,    9],\n",
       "         [  14,    1,   13,    1,   37,   19,    1,   25,    1,   37,   19,    8,\n",
       "             1,    6,    9,   17,    1,    8,   37,    9,    4,    1,   25,   21,\n",
       "          -100, -100, -100, -100, -100]])}"
      ]
     },
     "execution_count": 11,
     "metadata": {},
     "output_type": "execute_result"
    }
   ],
   "source": [
    "features = [\n",
    "    {'inputs': mel, 'labels': text[0]},\n",
    "    {'inputs': mel2, 'labels': text[1]}\n",
    "]\n",
    "batch = collator(features)\n",
    "batch"
   ]
  },
  {
   "cell_type": "code",
   "execution_count": 12,
   "id": "18900f75",
   "metadata": {},
   "outputs": [
    {
     "name": "stdout",
     "output_type": "stream",
     "text": [
      "CPU times: user 301 ms, sys: 49.8 ms, total: 351 ms\n",
      "Wall time: 38.2 ms\n"
     ]
    },
    {
     "data": {
      "text/plain": [
       "(tensor(10.8064, grad_fn=<MeanBackward0>),\n",
       " tensor([[[ 0.9041, -0.0273,  0.0188,  ..., -0.3469, -0.2756, -0.1187],\n",
       "          [ 0.8908,  0.0109,  0.0936,  ..., -0.2962, -0.2617, -0.1145],\n",
       "          [ 0.9789,  0.0587,  0.0310,  ..., -0.3359, -0.1292, -0.0338],\n",
       "          ...,\n",
       "          [ 0.6303, -0.1596,  0.4581,  ..., -0.6418, -0.3822, -0.1001],\n",
       "          [ 0.6831, -0.1638,  0.3191,  ..., -0.7935, -0.3135, -0.0199],\n",
       "          [ 0.7537, -0.2565,  0.3535,  ..., -0.7956, -0.3523, -0.1815]],\n",
       " \n",
       "         [[ 0.8917, -0.0764,  0.0790,  ..., -0.3307, -0.2304, -0.2191],\n",
       "          [ 0.8815,  0.0104,  0.1193,  ..., -0.2910, -0.1961, -0.1912],\n",
       "          [ 0.9370, -0.0449,  0.0748,  ..., -0.3335, -0.1081, -0.1031],\n",
       "          ...,\n",
       "          [ 0.0496,  0.0847, -0.4263,  ..., -0.6085, -0.0200, -0.5530],\n",
       "          [ 0.0962,  0.1990, -0.6072,  ..., -0.6245,  0.0495, -0.4702],\n",
       "          [ 0.0914,  0.2125, -0.6547,  ..., -0.6186,  0.0089, -0.4559]]],\n",
       "        grad_fn=<AddBackward0>),\n",
       " tensor([141,  88]))"
      ]
     },
     "execution_count": 12,
     "metadata": {},
     "output_type": "execute_result"
    }
   ],
   "source": [
    "%%time\n",
    "\n",
    "encoder(**batch)"
   ]
  },
  {
   "cell_type": "code",
   "execution_count": 13,
   "id": "991b15dd",
   "metadata": {},
   "outputs": [
    {
     "data": {
      "text/plain": [
       "1994872"
      ]
     },
     "execution_count": 13,
     "metadata": {},
     "output_type": "execute_result"
    }
   ],
   "source": [
    "total_params = sum(\n",
    "    param.numel() for param in encoder.parameters()\n",
    ")\n",
    "total_params"
   ]
  },
  {
   "cell_type": "code",
   "execution_count": 14,
   "id": "bb942ae5",
   "metadata": {},
   "outputs": [],
   "source": [
    "encoder.save_pretrained('./out')"
   ]
  },
  {
   "cell_type": "code",
   "execution_count": 15,
   "id": "e073c00e",
   "metadata": {},
   "outputs": [
    {
     "name": "stdout",
     "output_type": "stream",
     "text": [
      "total 7.7M\r\n",
      "-rw-r--r-- 1 husein husein  600 Jan  27 18:11 config.json\r\n",
      "-rw-rw-r-- 1 husein husein 2.5K Jan  27 18:11 conformer.py\r\n",
      "-rw-r--r-- 1 husein husein 7.7M Jan  27 18:11 model.safetensors\r\n"
     ]
    }
   ],
   "source": [
    "!ls -lh out"
   ]
  },
  {
   "cell_type": "code",
   "execution_count": 16,
   "id": "49539e81",
   "metadata": {},
   "outputs": [
    {
     "data": {
      "application/vnd.jupyter.widget-view+json": {
       "model_id": "e1c63bceab3743db9f209b45be7532da",
       "version_major": 2,
       "version_minor": 0
      },
      "text/plain": [
       "model.safetensors:   0%|          | 0.00/7.99M [00:00<?, ?B/s]"
      ]
     },
     "metadata": {},
     "output_type": "display_data"
    },
    {
     "data": {
      "text/plain": [
       "CommitInfo(commit_url='https://huggingface.co/huseinzol05/conformer-super-tiny/commit/31e0842733d74a95690d988eef8386ad376f439f', commit_message='Upload ConformerEncoder', commit_description='', oid='31e0842733d74a95690d988eef8386ad376f439f', pr_url=None, pr_revision=None, pr_num=None)"
      ]
     },
     "execution_count": 16,
     "metadata": {},
     "output_type": "execute_result"
    }
   ],
   "source": [
    "encoder.push_to_hub('huseinzol05/conformer-super-tiny', safe_serialization = True)"
   ]
  },
  {
   "cell_type": "code",
   "execution_count": null,
   "id": "f5b60f37",
   "metadata": {},
   "outputs": [],
   "source": []
  }
 ],
 "metadata": {
  "kernelspec": {
   "display_name": "Python 3 (ipykernel)",
   "language": "python",
   "name": "python3"
  },
  "language_info": {
   "codemirror_mode": {
    "name": "ipython",
    "version": 3
   },
   "file_extension": ".py",
   "mimetype": "text/x-python",
   "name": "python",
   "nbconvert_exporter": "python",
   "pygments_lexer": "ipython3",
   "version": "3.8.10"
  }
 },
 "nbformat": 4,
 "nbformat_minor": 5
}
