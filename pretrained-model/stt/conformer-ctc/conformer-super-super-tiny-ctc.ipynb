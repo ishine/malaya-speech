{
 "cells": [
  {
   "cell_type": "code",
   "execution_count": 1,
   "id": "2666312d",
   "metadata": {
    "scrolled": true
   },
   "outputs": [
    {
     "name": "stderr",
     "output_type": "stream",
     "text": [
      "/home/husein/.local/lib/python3.8/site-packages/requests/__init__.py:102: RequestsDependencyWarning: urllib3 (1.26.15) or chardet (5.2.0)/charset_normalizer (2.0.7) doesn't match a supported version!\n",
      "  warnings.warn(\"urllib3 ({}) or chardet ({})/charset_normalizer ({}) doesn't match a supported \"\n",
      "/home/husein/.local/lib/python3.8/site-packages/whisper/timing.py:58: NumbaDeprecationWarning: \u001b[1mThe 'nopython' keyword argument was not supplied to the 'numba.jit' decorator. The implicit default value for this argument is currently False, but it will be changed to True in Numba 0.59.0. See https://numba.readthedocs.io/en/stable/reference/deprecation.html#deprecation-of-object-mode-fall-back-behaviour-when-using-jit for details.\u001b[0m\n",
      "  def backtrace(trace: np.ndarray):\n",
      "`pyaudio` is not available, `malaya_speech.streaming.pyaudio` is not able to use.\n"
     ]
    }
   ],
   "source": [
    "from torchaudio.models import Conformer\n",
    "from malaya_speech.utils import torch_featurization\n",
    "import torch\n",
    "import malaya_speech\n",
    "from typing import List, Tuple, Optional\n",
    "from torchaudio.models.rnnt import _TimeReduction\n",
    "from malaya_speech.utils.char import HF_CTC_VOCAB\n",
    "from transformers import PretrainedConfig, PreTrainedModel\n",
    "\n",
    "HF_CTC_VOCAB = HF_CTC_VOCAB + ['_']\n",
    "HF_CTC_VOCAB_INDEX = {no: c for no, c in enumerate(HF_CTC_VOCAB)}\n",
    "HF_CTC_VOCAB_REV = {v: k for k, v in HF_CTC_VOCAB_INDEX.items()}"
   ]
  },
  {
   "cell_type": "code",
   "execution_count": 2,
   "id": "26969818",
   "metadata": {},
   "outputs": [],
   "source": [
    "class ConformerConfig(PretrainedConfig):\n",
    "    model_type = 'conformer'\n",
    "\n",
    "class ConformerEncoder(PreTrainedModel):\n",
    "    \n",
    "    def __init__(\n",
    "        self,\n",
    "        config,\n",
    "    ) -> None:\n",
    "        super().__init__(config)\n",
    "        self.time_reduction = _TimeReduction(config.time_reduction_stride)\n",
    "        self.input_linear = torch.nn.Linear(\n",
    "            config.input_dim * config.time_reduction_stride, \n",
    "            config.conformer_input_dim)\n",
    "        self.conformer = Conformer(\n",
    "            num_layers=config.conformer_num_layers,\n",
    "            input_dim=config.conformer_input_dim,\n",
    "            ffn_dim=config.conformer_ffn_dim,\n",
    "            num_heads=config.conformer_num_heads,\n",
    "            depthwise_conv_kernel_size=config.conformer_depthwise_conv_kernel_size,\n",
    "            dropout=config.conformer_dropout,\n",
    "            use_group_norm=True,\n",
    "            convolution_first=True,\n",
    "        )\n",
    "        self.output_linear = torch.nn.Linear(config.conformer_input_dim, config.output_dim)\n",
    "\n",
    "    def forward(self, input: torch.Tensor, lengths: torch.Tensor) -> Tuple[torch.Tensor, torch.Tensor]:\n",
    "        time_reduction_out, time_reduction_lengths = self.time_reduction(input, lengths)\n",
    "        input_linear_out = self.input_linear(time_reduction_out)\n",
    "        x, lengths = self.conformer(input_linear_out, time_reduction_lengths)\n",
    "        output_linear_out = self.output_linear(x)\n",
    "        return output_linear_out, lengths"
   ]
  },
  {
   "cell_type": "code",
   "execution_count": 3,
   "id": "742670f1",
   "metadata": {
    "scrolled": true
   },
   "outputs": [],
   "source": [
    "config = ConformerConfig(\n",
    "    input_dim=80,\n",
    "    output_dim=len(HF_CTC_VOCAB),\n",
    "    time_reduction_stride=4,\n",
    "    conformer_input_dim=144,\n",
    "    conformer_ffn_dim=576,\n",
    "    conformer_num_layers=2,\n",
    "    conformer_num_heads=4,\n",
    "    conformer_depthwise_conv_kernel_size=31,\n",
    "    conformer_dropout=0.1\n",
    ")"
   ]
  },
  {
   "cell_type": "code",
   "execution_count": 4,
   "id": "95ee53f7",
   "metadata": {},
   "outputs": [],
   "source": [
    "encoder = ConformerEncoder(config)"
   ]
  },
  {
   "cell_type": "code",
   "execution_count": 5,
   "id": "1708a6ce",
   "metadata": {},
   "outputs": [],
   "source": [
    "global_stats = torch_featurization.GlobalStatsNormalization('malay-stats.json')"
   ]
  },
  {
   "cell_type": "code",
   "execution_count": 6,
   "id": "7e679b47",
   "metadata": {},
   "outputs": [
    {
     "data": {
      "text/plain": [
       "5.630625"
      ]
     },
     "execution_count": 6,
     "metadata": {},
     "output_type": "execute_result"
    }
   ],
   "source": [
    "y, sr = malaya_speech.load('speech/example-speaker/husein-zolkepli.wav')\n",
    "y.shape[0] / sr"
   ]
  },
  {
   "cell_type": "code",
   "execution_count": 7,
   "id": "5fc6b166",
   "metadata": {},
   "outputs": [],
   "source": [
    "mel = torch_featurization.melspectrogram(y)\n",
    "mel = torch_featurization.piecewise_linear_log(mel)"
   ]
  },
  {
   "cell_type": "code",
   "execution_count": 8,
   "id": "af5c19e0",
   "metadata": {
    "scrolled": true
   },
   "outputs": [
    {
     "name": "stdout",
     "output_type": "stream",
     "text": [
      "CPU times: user 4.67 s, sys: 36.3 ms, total: 4.71 s\n",
      "Wall time: 868 ms\n"
     ]
    }
   ],
   "source": [
    "%%time\n",
    "\n",
    "logits, lengths = encoder(mel.unsqueeze(0), torch.tensor([mel.shape[0]]))"
   ]
  },
  {
   "cell_type": "code",
   "execution_count": 9,
   "id": "b3bf7eb7",
   "metadata": {
    "scrolled": true
   },
   "outputs": [],
   "source": [
    "text = ['nama saya husein bin zolkepli']\n",
    "text = [[HF_CTC_VOCAB_REV[c] for c in t] for t in text]\n",
    "labels = torch.tensor(text)"
   ]
  },
  {
   "cell_type": "code",
   "execution_count": 10,
   "id": "593c205c",
   "metadata": {},
   "outputs": [],
   "source": [
    "from torch import nn"
   ]
  },
  {
   "cell_type": "code",
   "execution_count": 11,
   "id": "f2eec077",
   "metadata": {},
   "outputs": [],
   "source": [
    "log_probs = nn.functional.log_softmax(logits, dim=-1, dtype=torch.float32).transpose(0, 1)"
   ]
  },
  {
   "cell_type": "code",
   "execution_count": 12,
   "id": "e0c4c26a",
   "metadata": {},
   "outputs": [
    {
     "data": {
      "text/plain": [
       "torch.Size([141, 1, 40])"
      ]
     },
     "execution_count": 12,
     "metadata": {},
     "output_type": "execute_result"
    }
   ],
   "source": [
    "log_probs.shape"
   ]
  },
  {
   "cell_type": "code",
   "execution_count": 13,
   "id": "d03e472b",
   "metadata": {},
   "outputs": [
    {
     "data": {
      "text/plain": [
       "torch.Size([1, 141, 40])"
      ]
     },
     "execution_count": 13,
     "metadata": {},
     "output_type": "execute_result"
    }
   ],
   "source": [
    "logits.shape"
   ]
  },
  {
   "cell_type": "code",
   "execution_count": 14,
   "id": "4eabf058",
   "metadata": {},
   "outputs": [],
   "source": [
    "labels_mask = labels >= 0\n",
    "target_lengths = labels_mask.sum(-1)\n",
    "flattened_targets = labels.masked_select(labels_mask)"
   ]
  },
  {
   "cell_type": "code",
   "execution_count": 15,
   "id": "a66055ef",
   "metadata": {
    "scrolled": true
   },
   "outputs": [
    {
     "data": {
      "text/plain": [
       "tensor(11.8623, grad_fn=<MeanBackward0>)"
      ]
     },
     "execution_count": 15,
     "metadata": {},
     "output_type": "execute_result"
    }
   ],
   "source": [
    "log_probs = nn.functional.log_softmax(logits, dim=-1, dtype=torch.float32).transpose(0, 1)\n",
    "\n",
    "with torch.backends.cudnn.flags(enabled=False):\n",
    "    loss = nn.functional.ctc_loss(\n",
    "        log_probs,\n",
    "        flattened_targets,\n",
    "        lengths,\n",
    "        target_lengths,\n",
    "        blank=len(HF_CTC_VOCAB_INDEX) - 1,\n",
    "        reduction='mean',\n",
    "        zero_infinity=True,\n",
    "    )\n",
    "    \n",
    "loss"
   ]
  },
  {
   "cell_type": "code",
   "execution_count": 16,
   "id": "4436d098",
   "metadata": {},
   "outputs": [
    {
     "data": {
      "text/plain": [
       "1023448"
      ]
     },
     "execution_count": 16,
     "metadata": {},
     "output_type": "execute_result"
    }
   ],
   "source": [
    "total_params = sum(\n",
    "    param.numel() for param in encoder.parameters()\n",
    ")\n",
    "total_params"
   ]
  },
  {
   "cell_type": "code",
   "execution_count": 17,
   "id": "a07a3e52",
   "metadata": {},
   "outputs": [],
   "source": [
    "encoder.save_pretrained('./out')"
   ]
  },
  {
   "cell_type": "code",
   "execution_count": 18,
   "id": "5ab8cfd3",
   "metadata": {},
   "outputs": [
    {
     "name": "stdout",
     "output_type": "stream",
     "text": [
      "total 4.0M\r\n",
      "-rw-r--r-- 1 husein husein  403 Jan  17 13:06 config.json\r\n",
      "-rw-r--r-- 1 husein husein 4.0M Jan  17 13:06 model.safetensors\r\n"
     ]
    }
   ],
   "source": [
    "!ls -lh out"
   ]
  },
  {
   "cell_type": "code",
   "execution_count": null,
   "id": "406e8977",
   "metadata": {},
   "outputs": [],
   "source": []
  }
 ],
 "metadata": {
  "kernelspec": {
   "display_name": "Python 3 (ipykernel)",
   "language": "python",
   "name": "python3"
  },
  "language_info": {
   "codemirror_mode": {
    "name": "ipython",
    "version": 3
   },
   "file_extension": ".py",
   "mimetype": "text/x-python",
   "name": "python",
   "nbconvert_exporter": "python",
   "pygments_lexer": "ipython3",
   "version": "3.8.10"
  }
 },
 "nbformat": 4,
 "nbformat_minor": 5
}
