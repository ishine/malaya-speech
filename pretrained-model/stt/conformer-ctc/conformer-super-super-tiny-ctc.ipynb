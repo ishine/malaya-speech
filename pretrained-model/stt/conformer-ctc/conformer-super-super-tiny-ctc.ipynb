{
 "cells": [
  {
   "cell_type": "code",
   "execution_count": 1,
   "id": "2666312d",
   "metadata": {
    "scrolled": true
   },
   "outputs": [
    {
     "name": "stderr",
     "output_type": "stream",
     "text": [
      "/home/husein/.local/lib/python3.8/site-packages/requests/__init__.py:102: RequestsDependencyWarning: urllib3 (1.26.15) or chardet (5.2.0)/charset_normalizer (2.0.7) doesn't match a supported version!\n",
      "  warnings.warn(\"urllib3 ({}) or chardet ({})/charset_normalizer ({}) doesn't match a supported \"\n",
      "/home/husein/.local/lib/python3.8/site-packages/whisper/timing.py:58: NumbaDeprecationWarning: \u001b[1mThe 'nopython' keyword argument was not supplied to the 'numba.jit' decorator. The implicit default value for this argument is currently False, but it will be changed to True in Numba 0.59.0. See https://numba.readthedocs.io/en/stable/reference/deprecation.html#deprecation-of-object-mode-fall-back-behaviour-when-using-jit for details.\u001b[0m\n",
      "  def backtrace(trace: np.ndarray):\n",
      "`pyaudio` is not available, `malaya_speech.streaming.pyaudio` is not able to use.\n"
     ]
    }
   ],
   "source": [
    "from malaya_speech.utils import torch_featurization\n",
    "import random\n",
    "import torch\n",
    "import malaya_speech\n",
    "from malaya_speech.utils.char import HF_CTC_VOCAB\n",
    "from conformer import ConformerConfig, ConformerEncoder\n",
    "from dataclasses import dataclass, field\n",
    "\n",
    "HF_CTC_VOCAB = HF_CTC_VOCAB + ['_']\n",
    "HF_CTC_VOCAB_INDEX = {no: c for no, c in enumerate(HF_CTC_VOCAB)}\n",
    "HF_CTC_VOCAB_REV = {v: k for k, v in HF_CTC_VOCAB_INDEX.items()}\n",
    "\n",
    "ConformerConfig.register_for_auto_class()\n",
    "ConformerEncoder.register_for_auto_class()"
   ]
  },
  {
   "cell_type": "code",
   "execution_count": 2,
   "id": "26969818",
   "metadata": {},
   "outputs": [],
   "source": [
    "config = ConformerConfig(\n",
    "    input_dim=80,\n",
    "    output_dim=len(HF_CTC_VOCAB),\n",
    "    time_reduction_stride=4,\n",
    "    conformer_input_dim=144,\n",
    "    conformer_ffn_dim=576,\n",
    "    conformer_num_layers=2,\n",
    "    conformer_num_heads=4,\n",
    "    conformer_depthwise_conv_kernel_size=31,\n",
    "    conformer_dropout=0.0,\n",
    "    pad_token_id=len(HF_CTC_VOCAB) - 1,\n",
    "    ctc_loss_reduction='mean',\n",
    "    ctc_zero_infinity=True,\n",
    ")"
   ]
  },
  {
   "cell_type": "code",
   "execution_count": 3,
   "id": "406e8977",
   "metadata": {},
   "outputs": [],
   "source": [
    "encoder = ConformerEncoder(config)"
   ]
  },
  {
   "cell_type": "code",
   "execution_count": 4,
   "id": "0bd959b9",
   "metadata": {},
   "outputs": [],
   "source": [
    "global_stats = torch_featurization.GlobalStatsNormalization('../../../malay-stats.json')"
   ]
  },
  {
   "cell_type": "code",
   "execution_count": 5,
   "id": "c84f869f",
   "metadata": {},
   "outputs": [],
   "source": [
    "y, sr = malaya_speech.load('../../../speech/example-speaker/husein-zolkepli.wav')\n",
    "y2, sr = malaya_speech.load('../../../speech/example-speaker/shafiqah-idayu.wav')"
   ]
  },
  {
   "cell_type": "code",
   "execution_count": 6,
   "id": "0b527911",
   "metadata": {},
   "outputs": [],
   "source": [
    "mel = torch_featurization.melspectrogram(y)\n",
    "mel = torch_featurization.piecewise_linear_log(mel)\n",
    "mel2 = torch_featurization.melspectrogram(y2)\n",
    "mel2 = torch_featurization.piecewise_linear_log(mel2)"
   ]
  },
  {
   "cell_type": "code",
   "execution_count": 7,
   "id": "68640f5c",
   "metadata": {},
   "outputs": [],
   "source": [
    "text = ['nama saya husein bin zolkepli', 'nama saya shafiqah idayu']\n",
    "text = [[HF_CTC_VOCAB_REV[c] for c in t] for t in text]"
   ]
  },
  {
   "cell_type": "code",
   "execution_count": 8,
   "id": "6c1c13eb",
   "metadata": {},
   "outputs": [],
   "source": [
    "@dataclass\n",
    "class DataCollatorCTCWithPadding:\n",
    "     def __call__(self, features):\n",
    "        inputs = [f['inputs'] for f in features]\n",
    "        lengths = torch.tensor([len(f['inputs']) for f in features])\n",
    "        inputs = torch.nn.utils.rnn.pad_sequence(inputs, batch_first = True)\n",
    "        labels = [torch.tensor(f['labels']) for f in features]\n",
    "        labels = torch.nn.utils.rnn.pad_sequence(labels, batch_first = True, padding_value = -100)\n",
    "        return {\n",
    "            'inputs': inputs,\n",
    "            'lengths': lengths,\n",
    "            'labels': labels,\n",
    "        }"
   ]
  },
  {
   "cell_type": "code",
   "execution_count": 9,
   "id": "615aa39f",
   "metadata": {},
   "outputs": [],
   "source": [
    "collator = DataCollatorCTCWithPadding()"
   ]
  },
  {
   "cell_type": "code",
   "execution_count": 10,
   "id": "cbab42ff",
   "metadata": {},
   "outputs": [
    {
     "data": {
      "text/plain": [
       "{'inputs': tensor([[[ 7.5720,  8.8585, 11.1099,  ..., 14.2707, 14.0441, 14.6217],\n",
       "          [11.6262, 12.9127, 15.0601,  ..., 14.3029, 13.7059, 14.6847],\n",
       "          [15.4666, 16.7531, 17.1559,  ..., 12.7871, 13.4699, 14.2108],\n",
       "          ...,\n",
       "          [19.2897, 20.5761, 18.5907,  ..., 13.4430, 14.3961, 14.1888],\n",
       "          [19.9591, 21.2456, 20.8646,  ..., 13.4250, 13.9565, 14.0654],\n",
       "          [15.8479, 17.1344, 15.3638,  ..., 12.1170, 12.7841, 11.9480]],\n",
       " \n",
       "         [[13.5830, 14.8695, 16.0703,  ..., 16.1097, 15.8851, 15.7696],\n",
       "          [17.2102, 18.4967, 19.5340,  ..., 16.7923, 16.7401, 17.0030],\n",
       "          [19.9245, 21.2110, 21.4556,  ..., 17.6996, 17.4917, 17.0634],\n",
       "          ...,\n",
       "          [ 0.0000,  0.0000,  0.0000,  ...,  0.0000,  0.0000,  0.0000],\n",
       "          [ 0.0000,  0.0000,  0.0000,  ...,  0.0000,  0.0000,  0.0000],\n",
       "          [ 0.0000,  0.0000,  0.0000,  ...,  0.0000,  0.0000,  0.0000]]]),\n",
       " 'lengths': tensor([564, 352]),\n",
       " 'labels': tensor([[  14,    1,   13,    1,   37,   19,    1,   25,    1,   37,    8,   21,\n",
       "            19,    5,    9,   14,   37,    2,    9,   14,   37,   26,   15,   12,\n",
       "            11,    5,   16,   12,    9],\n",
       "         [  14,    1,   13,    1,   37,   19,    1,   25,    1,   37,   19,    8,\n",
       "             1,    6,    9,   17,    1,    8,   37,    9,    4,    1,   25,   21,\n",
       "          -100, -100, -100, -100, -100]])}"
      ]
     },
     "execution_count": 10,
     "metadata": {},
     "output_type": "execute_result"
    }
   ],
   "source": [
    "features = [\n",
    "    {'inputs': mel, 'labels': text[0]},\n",
    "    {'inputs': mel2, 'labels': text[1]}\n",
    "]\n",
    "batch = collator(features)\n",
    "batch"
   ]
  },
  {
   "cell_type": "code",
   "execution_count": 11,
   "id": "7d5785ec",
   "metadata": {},
   "outputs": [
    {
     "name": "stdout",
     "output_type": "stream",
     "text": [
      "CPU times: user 101 ms, sys: 0 ns, total: 101 ms\n",
      "Wall time: 10.6 ms\n"
     ]
    },
    {
     "data": {
      "text/plain": [
       "(tensor(12.3804, grad_fn=<MeanBackward0>),\n",
       " tensor([[[-0.2900,  0.1902,  0.7856,  ...,  0.2212, -0.7918, -0.4279],\n",
       "          [-0.2372,  0.2666,  0.7868,  ...,  0.2798, -0.7645, -0.3327],\n",
       "          [-0.2177,  0.2638,  0.7733,  ...,  0.3479, -0.7976, -0.3448],\n",
       "          ...,\n",
       "          [-0.1245,  0.6188,  0.6288,  ...,  0.6743, -0.5478, -0.4321],\n",
       "          [-0.0517,  0.6362,  0.6020,  ...,  0.6486, -0.5827, -0.3974],\n",
       "          [ 0.0039,  0.4909,  0.6196,  ...,  0.5959, -0.6213, -0.3628]],\n",
       " \n",
       "         [[-0.3260,  0.2339,  0.8372,  ...,  0.2022, -0.7868, -0.4075],\n",
       "          [-0.2500,  0.2438,  0.8036,  ...,  0.2405, -0.7820, -0.2837],\n",
       "          [-0.2043,  0.2306,  0.7805,  ...,  0.2932, -0.7887, -0.3557],\n",
       "          ...,\n",
       "          [ 0.2808,  0.3881,  0.1645,  ..., -0.1860, -0.6413, -0.2572],\n",
       "          [ 0.3108,  0.2726,  0.2344,  ..., -0.2173, -0.6638, -0.3587],\n",
       "          [ 0.3807,  0.3251,  0.2512,  ..., -0.3206, -0.6454, -0.4048]]],\n",
       "        grad_fn=<AddBackward0>),\n",
       " tensor([141,  88]))"
      ]
     },
     "execution_count": 11,
     "metadata": {},
     "output_type": "execute_result"
    }
   ],
   "source": [
    "%%time\n",
    "\n",
    "encoder(**batch)"
   ]
  },
  {
   "cell_type": "code",
   "execution_count": 12,
   "id": "60516430",
   "metadata": {},
   "outputs": [
    {
     "data": {
      "text/plain": [
       "1023448"
      ]
     },
     "execution_count": 12,
     "metadata": {},
     "output_type": "execute_result"
    }
   ],
   "source": [
    "total_params = sum(\n",
    "    param.numel() for param in encoder.parameters()\n",
    ")\n",
    "total_params"
   ]
  },
  {
   "cell_type": "code",
   "execution_count": 13,
   "id": "fac42b93",
   "metadata": {},
   "outputs": [],
   "source": [
    "encoder.save_pretrained('./out')"
   ]
  },
  {
   "cell_type": "code",
   "execution_count": 14,
   "id": "e5ade065",
   "metadata": {},
   "outputs": [
    {
     "name": "stdout",
     "output_type": "stream",
     "text": [
      "total 4.0M\r\n",
      "-rw-r--r-- 1 husein husein  600 Jan  27 18:13 config.json\r\n",
      "-rw-rw-r-- 1 husein husein 2.5K Jan  27 18:13 conformer.py\r\n",
      "-rw-r--r-- 1 husein husein 4.0M Jan  27 18:13 model.safetensors\r\n"
     ]
    }
   ],
   "source": [
    "!ls -lh out"
   ]
  },
  {
   "cell_type": "code",
   "execution_count": 15,
   "id": "33127b26",
   "metadata": {},
   "outputs": [
    {
     "data": {
      "application/vnd.jupyter.widget-view+json": {
       "model_id": "1b2c10bf2a8943ec9b1459cac3e4c067",
       "version_major": 2,
       "version_minor": 0
      },
      "text/plain": [
       "model.safetensors:   0%|          | 0.00/4.10M [00:00<?, ?B/s]"
      ]
     },
     "metadata": {},
     "output_type": "display_data"
    },
    {
     "data": {
      "text/plain": [
       "CommitInfo(commit_url='https://huggingface.co/huseinzol05/conformer-super-super-tiny/commit/7757057bfba5d0a88dcee47ef10f08758acfe535', commit_message='Upload ConformerEncoder', commit_description='', oid='7757057bfba5d0a88dcee47ef10f08758acfe535', pr_url=None, pr_revision=None, pr_num=None)"
      ]
     },
     "execution_count": 15,
     "metadata": {},
     "output_type": "execute_result"
    }
   ],
   "source": [
    "encoder.push_to_hub('huseinzol05/conformer-super-super-tiny', safe_serialization = True)"
   ]
  }
 ],
 "metadata": {
  "kernelspec": {
   "display_name": "Python 3 (ipykernel)",
   "language": "python",
   "name": "python3"
  },
  "language_info": {
   "codemirror_mode": {
    "name": "ipython",
    "version": 3
   },
   "file_extension": ".py",
   "mimetype": "text/x-python",
   "name": "python",
   "nbconvert_exporter": "python",
   "pygments_lexer": "ipython3",
   "version": "3.8.10"
  }
 },
 "nbformat": 4,
 "nbformat_minor": 5
}
