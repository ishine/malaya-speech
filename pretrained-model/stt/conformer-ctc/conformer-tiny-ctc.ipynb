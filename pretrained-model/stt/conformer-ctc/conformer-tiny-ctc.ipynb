{
 "cells": [
  {
   "cell_type": "code",
   "execution_count": 1,
   "id": "7f94c0c4",
   "metadata": {
    "scrolled": true
   },
   "outputs": [
    {
     "name": "stderr",
     "output_type": "stream",
     "text": [
      "/home/husein/.local/lib/python3.8/site-packages/requests/__init__.py:102: RequestsDependencyWarning: urllib3 (1.26.15) or chardet (5.2.0)/charset_normalizer (2.0.7) doesn't match a supported version!\n",
      "  warnings.warn(\"urllib3 ({}) or chardet ({})/charset_normalizer ({}) doesn't match a supported \"\n",
      "/home/husein/.local/lib/python3.8/site-packages/whisper/timing.py:58: NumbaDeprecationWarning: \u001b[1mThe 'nopython' keyword argument was not supplied to the 'numba.jit' decorator. The implicit default value for this argument is currently False, but it will be changed to True in Numba 0.59.0. See https://numba.readthedocs.io/en/stable/reference/deprecation.html#deprecation-of-object-mode-fall-back-behaviour-when-using-jit for details.\u001b[0m\n",
      "  def backtrace(trace: np.ndarray):\n",
      "`pyaudio` is not available, `malaya_speech.streaming.pyaudio` is not able to use.\n"
     ]
    }
   ],
   "source": [
    "from malaya_speech.utils import torch_featurization\n",
    "import random\n",
    "import torch\n",
    "import malaya_speech\n",
    "from malaya_speech.utils.char import HF_CTC_VOCAB\n",
    "from conformer import ConformerConfig, ConformerEncoder\n",
    "\n",
    "HF_CTC_VOCAB = HF_CTC_VOCAB + ['_']\n",
    "HF_CTC_VOCAB_INDEX = {no: c for no, c in enumerate(HF_CTC_VOCAB)}\n",
    "HF_CTC_VOCAB_REV = {v: k for k, v in HF_CTC_VOCAB_INDEX.items()}\n",
    "\n",
    "ConformerConfig.register_for_auto_class()\n",
    "ConformerEncoder.register_for_auto_class()"
   ]
  },
  {
   "cell_type": "code",
   "execution_count": 2,
   "id": "1986c9cc",
   "metadata": {},
   "outputs": [],
   "source": [
    "config = ConformerConfig(\n",
    "    input_dim=80,\n",
    "    output_dim=len(HF_CTC_VOCAB),\n",
    "    time_reduction_stride=4,\n",
    "    conformer_input_dim=144,\n",
    "    conformer_ffn_dim=576,\n",
    "    conformer_num_layers=8,\n",
    "    conformer_num_heads=4,\n",
    "    conformer_depthwise_conv_kernel_size=31,\n",
    "    conformer_dropout=0.1,\n",
    "    pad_token_id=len(HF_CTC_VOCAB) - 1,\n",
    "    ctc_loss_reduction='mean',\n",
    "    ctc_zero_infinity=True,\n",
    ")"
   ]
  },
  {
   "cell_type": "code",
   "execution_count": 3,
   "id": "9e8284c6",
   "metadata": {
    "scrolled": true
   },
   "outputs": [],
   "source": [
    "encoder = ConformerEncoder(config)"
   ]
  },
  {
   "cell_type": "code",
   "execution_count": 4,
   "id": "38e00222",
   "metadata": {},
   "outputs": [],
   "source": [
    "global_stats = torch_featurization.GlobalStatsNormalization('../../../malay-stats.json')"
   ]
  },
  {
   "cell_type": "code",
   "execution_count": 5,
   "id": "809e5d74",
   "metadata": {},
   "outputs": [
    {
     "data": {
      "text/plain": [
       "5.630625"
      ]
     },
     "execution_count": 5,
     "metadata": {},
     "output_type": "execute_result"
    }
   ],
   "source": [
    "y, sr = malaya_speech.load('../../../speech/example-speaker/husein-zolkepli.wav')\n",
    "y.shape[0] / sr"
   ]
  },
  {
   "cell_type": "code",
   "execution_count": 6,
   "id": "a4b8c414",
   "metadata": {},
   "outputs": [],
   "source": [
    "srs = [4400, 5100, 6000, 8000, 10000]\n",
    "\n",
    "def downsample(y, sr):\n",
    "    s_sr = random.choice(srs)\n",
    "    y_ = malaya_speech.resample(y, sr, s_sr)\n",
    "    return malaya_speech.resample(y_, s_sr, sr)"
   ]
  },
  {
   "cell_type": "code",
   "execution_count": 7,
   "id": "b6dc262c",
   "metadata": {},
   "outputs": [],
   "source": [
    "mel = torch_featurization.melspectrogram(y)\n",
    "mel = torch_featurization.piecewise_linear_log(mel)"
   ]
  },
  {
   "cell_type": "code",
   "execution_count": 8,
   "id": "9925f35e",
   "metadata": {
    "scrolled": true
   },
   "outputs": [
    {
     "name": "stdout",
     "output_type": "stream",
     "text": [
      "CPU times: user 54.8 s, sys: 153 ms, total: 54.9 s\n",
      "Wall time: 7.58 s\n"
     ]
    },
    {
     "data": {
      "text/plain": [
       "(tensor([[[-0.3420, -0.5635, -0.2499,  ...,  0.0857,  0.6430, -0.1187],\n",
       "          [ 0.0123, -0.7919, -0.1585,  ..., -0.0232,  0.5699, -0.3159],\n",
       "          [-0.1957, -0.6225, -0.4423,  ..., -0.2093,  0.5401, -0.1917],\n",
       "          ...,\n",
       "          [-0.2118, -1.2328, -0.1823,  ...,  0.3269,  0.0499,  0.1977],\n",
       "          [-0.2337, -1.3522,  0.0487,  ..., -0.0912,  0.4360, -0.2936],\n",
       "          [-0.4794, -1.4853, -0.2047,  ..., -0.0595,  0.4742,  0.2245]]],\n",
       "        grad_fn=<ViewBackward0>),\n",
       " tensor([141]))"
      ]
     },
     "execution_count": 8,
     "metadata": {},
     "output_type": "execute_result"
    }
   ],
   "source": [
    "%%time\n",
    "\n",
    "encoder(mel.unsqueeze(0), torch.tensor([mel.shape[0]]))"
   ]
  },
  {
   "cell_type": "code",
   "execution_count": 9,
   "id": "3c71b7ec",
   "metadata": {
    "scrolled": true
   },
   "outputs": [],
   "source": [
    "text = ['nama saya husein bin zolkepli']\n",
    "text = [[HF_CTC_VOCAB_REV[c] for c in t] for t in text]\n",
    "labels = torch.tensor(text)"
   ]
  },
  {
   "cell_type": "code",
   "execution_count": 11,
   "id": "f64a1144",
   "metadata": {},
   "outputs": [
    {
     "data": {
      "text/plain": [
       "(tensor(14.1196, grad_fn=<MeanBackward0>),\n",
       " tensor([[[ 0.1176, -0.6080, -0.3661,  ..., -0.2499,  0.4605, -0.5665],\n",
       "          [-0.2955, -1.0030, -0.4919,  ...,  0.0818,  0.6888, -0.5607],\n",
       "          [-0.0176, -0.4774, -0.3897,  ...,  0.0675,  0.8695, -0.3563],\n",
       "          ...,\n",
       "          [ 0.1790, -1.6942,  0.2734,  ..., -0.0593,  0.9315, -0.1103],\n",
       "          [-0.1625, -1.6541, -0.0828,  ..., -0.1314,  0.3964, -0.3435],\n",
       "          [-0.2599, -1.7252,  0.2109,  ..., -0.1284,  0.0713, -0.3158]]],\n",
       "        grad_fn=<ViewBackward0>),\n",
       " tensor([141]))"
      ]
     },
     "execution_count": 11,
     "metadata": {},
     "output_type": "execute_result"
    }
   ],
   "source": [
    "encoder(mel.unsqueeze(0), torch.tensor([mel.shape[0]]), labels)"
   ]
  },
  {
   "cell_type": "code",
   "execution_count": 12,
   "id": "65280fed",
   "metadata": {},
   "outputs": [
    {
     "data": {
      "text/plain": [
       "3937720"
      ]
     },
     "execution_count": 12,
     "metadata": {},
     "output_type": "execute_result"
    }
   ],
   "source": [
    "total_params = sum(\n",
    "    param.numel() for param in encoder.parameters()\n",
    ")\n",
    "total_params"
   ]
  },
  {
   "cell_type": "code",
   "execution_count": null,
   "id": "ad04034a",
   "metadata": {},
   "outputs": [],
   "source": [
    "encoder.save_pretrained('./out')"
   ]
  },
  {
   "cell_type": "code",
   "execution_count": null,
   "id": "c525edd2",
   "metadata": {},
   "outputs": [],
   "source": [
    "!ls -lh out"
   ]
  },
  {
   "cell_type": "code",
   "execution_count": null,
   "id": "50d769b6",
   "metadata": {},
   "outputs": [],
   "source": [
    "encoder.push_to_hub('huseinzol05/conformer-tiny', safe_serialization = True)"
   ]
  },
  {
   "cell_type": "code",
   "execution_count": null,
   "id": "a219652f",
   "metadata": {},
   "outputs": [],
   "source": [
    "from transformers import AutoConfig, AutoModel"
   ]
  },
  {
   "cell_type": "code",
   "execution_count": null,
   "id": "91d0066b",
   "metadata": {},
   "outputs": [],
   "source": [
    "model = AutoModel.from_pretrained('huseinzol05/conformer-tiny', trust_remote_code = True)"
   ]
  },
  {
   "cell_type": "code",
   "execution_count": null,
   "id": "eb544e73",
   "metadata": {},
   "outputs": [],
   "source": []
  }
 ],
 "metadata": {
  "kernelspec": {
   "display_name": "Python 3 (ipykernel)",
   "language": "python",
   "name": "python3"
  },
  "language_info": {
   "codemirror_mode": {
    "name": "ipython",
    "version": 3
   },
   "file_extension": ".py",
   "mimetype": "text/x-python",
   "name": "python",
   "nbconvert_exporter": "python",
   "pygments_lexer": "ipython3",
   "version": "3.8.10"
  }
 },
 "nbformat": 4,
 "nbformat_minor": 5
}
