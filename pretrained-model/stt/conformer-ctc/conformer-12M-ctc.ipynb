{
 "cells": [
  {
   "cell_type": "code",
   "execution_count": 1,
   "id": "7f94c0c4",
   "metadata": {
    "scrolled": true
   },
   "outputs": [
    {
     "name": "stderr",
     "output_type": "stream",
     "text": [
      "/home/husein/.local/lib/python3.8/site-packages/requests/__init__.py:102: RequestsDependencyWarning: urllib3 (1.26.15) or chardet (5.2.0)/charset_normalizer (2.0.7) doesn't match a supported version!\n",
      "  warnings.warn(\"urllib3 ({}) or chardet ({})/charset_normalizer ({}) doesn't match a supported \"\n",
      "/home/husein/.local/lib/python3.8/site-packages/whisper/timing.py:58: NumbaDeprecationWarning: \u001b[1mThe 'nopython' keyword argument was not supplied to the 'numba.jit' decorator. The implicit default value for this argument is currently False, but it will be changed to True in Numba 0.59.0. See https://numba.readthedocs.io/en/stable/reference/deprecation.html#deprecation-of-object-mode-fall-back-behaviour-when-using-jit for details.\u001b[0m\n",
      "  def backtrace(trace: np.ndarray):\n",
      "`pyaudio` is not available, `malaya_speech.streaming.pyaudio` is not able to use.\n"
     ]
    }
   ],
   "source": [
    "import random\n",
    "import torch\n",
    "import malaya_speech\n",
    "from conformer import HF_CTC_VOCAB, melspectrogram, ConformerConfig, ConformerEncoder\n",
    "from dataclasses import dataclass, field\n",
    "\n",
    "HF_CTC_VOCAB_INDEX = {no: c for no, c in enumerate(HF_CTC_VOCAB)}\n",
    "HF_CTC_VOCAB_REV = {v: k for k, v in HF_CTC_VOCAB_INDEX.items()}\n",
    "\n",
    "ConformerConfig.register_for_auto_class()\n",
    "ConformerEncoder.register_for_auto_class()"
   ]
  },
  {
   "cell_type": "code",
   "execution_count": 2,
   "id": "b02a54c6",
   "metadata": {},
   "outputs": [
    {
     "data": {
      "text/plain": [
       "['',\n",
       " 'a',\n",
       " 'b',\n",
       " 'c',\n",
       " 'd',\n",
       " 'e',\n",
       " 'f',\n",
       " 'g',\n",
       " 'h',\n",
       " 'i',\n",
       " 'j',\n",
       " 'k',\n",
       " 'l',\n",
       " 'm',\n",
       " 'n',\n",
       " 'o',\n",
       " 'p',\n",
       " 'q',\n",
       " 'r',\n",
       " 's',\n",
       " 't',\n",
       " 'u',\n",
       " 'v',\n",
       " 'w',\n",
       " 'x',\n",
       " 'y',\n",
       " 'z',\n",
       " '0',\n",
       " '1',\n",
       " '2',\n",
       " '3',\n",
       " '4',\n",
       " '5',\n",
       " '6',\n",
       " '7',\n",
       " '8',\n",
       " '9',\n",
       " ' ',\n",
       " '?',\n",
       " '_']"
      ]
     },
     "execution_count": 2,
     "metadata": {},
     "output_type": "execute_result"
    }
   ],
   "source": [
    "HF_CTC_VOCAB"
   ]
  },
  {
   "cell_type": "code",
   "execution_count": 3,
   "id": "1986c9cc",
   "metadata": {},
   "outputs": [],
   "source": [
    "config = ConformerConfig(\n",
    "    input_dim=80,\n",
    "    output_dim=len(HF_CTC_VOCAB),\n",
    "    time_reduction_stride=4,\n",
    "    conformer_input_dim=184,\n",
    "    conformer_ffn_dim=1024,\n",
    "    conformer_num_layers=12,\n",
    "    conformer_num_heads=4,\n",
    "    conformer_depthwise_conv_kernel_size=31,\n",
    "    conformer_dropout=0.0,\n",
    "    pad_token_id=len(HF_CTC_VOCAB) - 1,\n",
    "    ctc_loss_reduction='mean',\n",
    "    ctc_zero_infinity=True,\n",
    ")"
   ]
  },
  {
   "cell_type": "code",
   "execution_count": 5,
   "id": "9e8284c6",
   "metadata": {
    "scrolled": true
   },
   "outputs": [],
   "source": [
    "encoder = ConformerEncoder(config)"
   ]
  },
  {
   "cell_type": "code",
   "execution_count": 6,
   "id": "65280fed",
   "metadata": {},
   "outputs": [
    {
     "data": {
      "text/plain": [
       "12095936"
      ]
     },
     "execution_count": 6,
     "metadata": {},
     "output_type": "execute_result"
    }
   ],
   "source": [
    "total_params = sum(\n",
    "    param.numel() for param in encoder.parameters()\n",
    ")\n",
    "total_params"
   ]
  },
  {
   "cell_type": "code",
   "execution_count": 7,
   "id": "ad04034a",
   "metadata": {},
   "outputs": [],
   "source": [
    "encoder.save_pretrained('./out')"
   ]
  },
  {
   "cell_type": "code",
   "execution_count": 8,
   "id": "c525edd2",
   "metadata": {},
   "outputs": [
    {
     "name": "stdout",
     "output_type": "stream",
     "text": [
      "total 47M\r\n",
      "-rw-r--r-- 1 husein husein  602 Feb   6 11:37 config.json\r\n",
      "-rw-rw-r-- 1 husein husein 3.4K Feb   6 11:37 conformer.py\r\n",
      "-rw-r--r-- 1 husein husein  47M Feb   6 11:37 model.safetensors\r\n"
     ]
    }
   ],
   "source": [
    "!ls -lh out"
   ]
  },
  {
   "cell_type": "code",
   "execution_count": 9,
   "id": "50d769b6",
   "metadata": {},
   "outputs": [
    {
     "data": {
      "application/vnd.jupyter.widget-view+json": {
       "model_id": "6a9ddd760b1a45c9bbc54f6b192e7b32",
       "version_major": 2,
       "version_minor": 0
      },
      "text/plain": [
       "README.md:   0%|          | 0.00/5.18k [00:00<?, ?B/s]"
      ]
     },
     "metadata": {},
     "output_type": "display_data"
    },
    {
     "data": {
      "application/vnd.jupyter.widget-view+json": {
       "model_id": "3e4a124a4fb9418d8dd27a2f769a9765",
       "version_major": 2,
       "version_minor": 0
      },
      "text/plain": [
       "model.safetensors:   0%|          | 0.00/48.4M [00:00<?, ?B/s]"
      ]
     },
     "metadata": {},
     "output_type": "display_data"
    },
    {
     "data": {
      "text/plain": [
       "CommitInfo(commit_url='https://huggingface.co/huseinzol05/conformer-12M/commit/7e4ae130a7d3e60edf187fac0cb81d44cc67552a', commit_message='Upload ConformerEncoder', commit_description='', oid='7e4ae130a7d3e60edf187fac0cb81d44cc67552a', pr_url=None, pr_revision=None, pr_num=None)"
      ]
     },
     "execution_count": 9,
     "metadata": {},
     "output_type": "execute_result"
    }
   ],
   "source": [
    "encoder.push_to_hub('huseinzol05/conformer-12M', safe_serialization = True)"
   ]
  },
  {
   "cell_type": "code",
   "execution_count": 10,
   "id": "a219652f",
   "metadata": {},
   "outputs": [],
   "source": [
    "from transformers import AutoConfig, AutoModel"
   ]
  },
  {
   "cell_type": "code",
   "execution_count": 11,
   "id": "91d0066b",
   "metadata": {
    "scrolled": true
   },
   "outputs": [
    {
     "data": {
      "application/vnd.jupyter.widget-view+json": {
       "model_id": "10f3a538c87c48ecbeff9ae826b3e76b",
       "version_major": 2,
       "version_minor": 0
      },
      "text/plain": [
       "config.json:   0%|          | 0.00/602 [00:00<?, ?B/s]"
      ]
     },
     "metadata": {},
     "output_type": "display_data"
    },
    {
     "name": "stderr",
     "output_type": "stream",
     "text": [
      "A new version of the following files was downloaded from https://huggingface.co/huseinzol05/conformer-12M:\n",
      "- conformer.py\n",
      ". Make sure to double-check they do not contain any added malicious code. To avoid downloading new versions of the code file, you can pin a revision.\n"
     ]
    },
    {
     "data": {
      "application/vnd.jupyter.widget-view+json": {
       "model_id": "8a609372d7f84559b464965673396a58",
       "version_major": 2,
       "version_minor": 0
      },
      "text/plain": [
       "model.safetensors:   0%|          | 0.00/48.4M [00:00<?, ?B/s]"
      ]
     },
     "metadata": {},
     "output_type": "display_data"
    }
   ],
   "source": [
    "model = AutoModel.from_pretrained('huseinzol05/conformer-12M', trust_remote_code = True)"
   ]
  },
  {
   "cell_type": "code",
   "execution_count": 12,
   "id": "f43de060",
   "metadata": {},
   "outputs": [
    {
     "data": {
      "text/plain": [
       "ConformerConfig {\n",
       "  \"_name_or_path\": \"huseinzol05/conformer-12M\",\n",
       "  \"architectures\": [\n",
       "    \"ConformerEncoder\"\n",
       "  ],\n",
       "  \"auto_map\": {\n",
       "    \"AutoConfig\": \"huseinzol05/conformer-12M--conformer.ConformerConfig\",\n",
       "    \"AutoModel\": \"huseinzol05/conformer-12M--conformer.ConformerEncoder\"\n",
       "  },\n",
       "  \"conformer_depthwise_conv_kernel_size\": 31,\n",
       "  \"conformer_dropout\": 0.0,\n",
       "  \"conformer_ffn_dim\": 1024,\n",
       "  \"conformer_input_dim\": 184,\n",
       "  \"conformer_num_heads\": 4,\n",
       "  \"conformer_num_layers\": 12,\n",
       "  \"ctc_loss_reduction\": \"mean\",\n",
       "  \"ctc_zero_infinity\": true,\n",
       "  \"input_dim\": 80,\n",
       "  \"model_type\": \"conformer\",\n",
       "  \"output_dim\": 40,\n",
       "  \"pad_token_id\": 39,\n",
       "  \"time_reduction_stride\": 4,\n",
       "  \"torch_dtype\": \"float32\",\n",
       "  \"transformers_version\": \"4.37.2\"\n",
       "}"
      ]
     },
     "execution_count": 12,
     "metadata": {},
     "output_type": "execute_result"
    }
   ],
   "source": [
    "model.config"
   ]
  },
  {
   "cell_type": "code",
   "execution_count": null,
   "id": "d7cb68ef",
   "metadata": {},
   "outputs": [],
   "source": []
  }
 ],
 "metadata": {
  "kernelspec": {
   "display_name": "Python 3 (ipykernel)",
   "language": "python",
   "name": "python3"
  },
  "language_info": {
   "codemirror_mode": {
    "name": "ipython",
    "version": 3
   },
   "file_extension": ".py",
   "mimetype": "text/x-python",
   "name": "python",
   "nbconvert_exporter": "python",
   "pygments_lexer": "ipython3",
   "version": "3.8.10"
  }
 },
 "nbformat": 4,
 "nbformat_minor": 5
}
