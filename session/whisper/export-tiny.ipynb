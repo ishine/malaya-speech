{
 "cells": [
  {
   "cell_type": "code",
   "execution_count": 2,
   "id": "a98a2381",
   "metadata": {},
   "outputs": [],
   "source": [
    "import torch\n",
    "from transformers import GenerationConfig, WhisperConfig, WhisperFeatureExtractor, WhisperForConditionalGeneration, WhisperProcessor, WhisperTokenizerFast"
   ]
  },
  {
   "cell_type": "code",
   "execution_count": 3,
   "id": "27b99d87",
   "metadata": {},
   "outputs": [
    {
     "data": {
      "text/plain": [
       "'tiny/checkpoint-5400'"
      ]
     },
     "execution_count": 3,
     "metadata": {},
     "output_type": "execute_result"
    }
   ],
   "source": [
    "from transformers.trainer_utils import get_last_checkpoint\n",
    "\n",
    "latest = get_last_checkpoint(\"tiny\")\n",
    "latest"
   ]
  },
  {
   "cell_type": "code",
   "execution_count": 4,
   "id": "10c8a2c4",
   "metadata": {},
   "outputs": [],
   "source": [
    "from streaming import LocalDataset\n",
    "\n",
    "dataset = LocalDataset('mosaic-combine-stt')"
   ]
  },
  {
   "cell_type": "code",
   "execution_count": 5,
   "id": "172f601d",
   "metadata": {},
   "outputs": [],
   "source": [
    "config = WhisperConfig.from_pretrained('openai/whisper-tiny')\n",
    "feature_extractor = WhisperFeatureExtractor.from_pretrained(\n",
    "    'openai/whisper-tiny'\n",
    ")\n",
    "tokenizer = WhisperTokenizerFast.from_pretrained(\n",
    "    'openai/whisper-tiny'\n",
    ")\n",
    "processor = WhisperProcessor.from_pretrained(\n",
    "    'openai/whisper-tiny'\n",
    ")"
   ]
  },
  {
   "cell_type": "code",
   "execution_count": 6,
   "id": "38b493d1",
   "metadata": {},
   "outputs": [],
   "source": [
    "model = WhisperForConditionalGeneration.from_pretrained(latest)"
   ]
  },
  {
   "cell_type": "code",
   "execution_count": 7,
   "id": "1eca4ef6",
   "metadata": {},
   "outputs": [],
   "source": [
    "import soundfile as sf\n",
    "from glob import glob\n",
    "\n",
    "y, sr = sf.read(dataset[0]['audio_filename'])\n",
    "y2, sr = sf.read(dataset[1]['audio_filename'])\n",
    "y3, sr = sf.read(dataset[10]['audio_filename'])"
   ]
  },
  {
   "cell_type": "code",
   "execution_count": 8,
   "id": "b7bc4175",
   "metadata": {},
   "outputs": [
    {
     "data": {
      "text/plain": [
       "'output-audio/3-1875-24.mp3'"
      ]
     },
     "execution_count": 8,
     "metadata": {},
     "output_type": "execute_result"
    }
   ],
   "source": [
    "dataset[10]['audio_filename']"
   ]
  },
  {
   "cell_type": "code",
   "execution_count": 9,
   "id": "79874329",
   "metadata": {},
   "outputs": [
    {
     "name": "stderr",
     "output_type": "stream",
     "text": [
      "It is strongly recommended to pass the `sampling_rate` argument to this function. Failing to do so can result in silent errors that might be hard to debug.\n"
     ]
    }
   ],
   "source": [
    "p = processor([y3], return_tensors='pt')"
   ]
  },
  {
   "cell_type": "code",
   "execution_count": 10,
   "id": "2bd4c715",
   "metadata": {},
   "outputs": [
    {
     "data": {
      "text/plain": [
       "'<|startoftranscript|><|ms|><|transcribe|> Assembly on Aging, Divina Australia, Australia yang telah diadakan pada tahun 1982 dan berasaskan unjuran tersebut maka jabatan perangkaan Malaysia menganggarkan menjelang tahun 2005 sejumlah 15% penduduk kita adalah daripada kalangan warga emas. Untuk makluman Tuan Yang Pertua dan juga Alian Bohon, pembangunan sistem pendafiran warga emas ataupun kita sebutkan event adalah usaha kerajaan ke arah merealisasikan objektif yang telah digangkatkan<|endoftext|>'"
      ]
     },
     "execution_count": 10,
     "metadata": {},
     "output_type": "execute_result"
    }
   ],
   "source": [
    "r = model.generate(p['input_features'],\n",
    "            output_scores=True,\n",
    "            return_dict_in_generate=True,\n",
    "            language='ms',\n",
    "            return_timestamps=True)\n",
    "processor.tokenizer.decode(r.sequences[0])"
   ]
  },
  {
   "cell_type": "code",
   "execution_count": null,
   "id": "24b87dd6",
   "metadata": {},
   "outputs": [],
   "source": [
    "import IPython.display as ipd\n",
    "ipd.Audio(dataset[10]['audio_filename'])"
   ]
  },
  {
   "cell_type": "code",
   "execution_count": null,
   "id": "25b90539",
   "metadata": {},
   "outputs": [],
   "source": [
    "r = model.generate(p['input_features'],\n",
    "            output_scores=True,\n",
    "            return_dict_in_generate=True,\n",
    "            language='ms',\n",
    "            return_timestamps=True)\n",
    "processor.tokenizer.decode(r.sequences[0])"
   ]
  },
  {
   "cell_type": "code",
   "execution_count": 11,
   "id": "b620de80",
   "metadata": {},
   "outputs": [],
   "source": [
    "model = model.type(torch.bfloat16)"
   ]
  },
  {
   "cell_type": "code",
   "execution_count": 12,
   "id": "fc2332ac",
   "metadata": {},
   "outputs": [
    {
     "name": "stderr",
     "output_type": "stream",
     "text": [
      "/home/ubuntu/.local/lib/python3.10/site-packages/transformers/utils/hub.py:671: UserWarning: The `organization` argument is deprecated and will be removed in v5 of Transformers. Set your organization directly in the `repo_id` passed instead (`repo_id={organization}/{model_id}`).\n",
      "  warnings.warn(\n"
     ]
    },
    {
     "data": {
      "application/vnd.jupyter.widget-view+json": {
       "model_id": "60100f64f141457187d19556a0e1a9e8",
       "version_major": 2,
       "version_minor": 0
      },
      "text/plain": [
       "model.safetensors:   0%|          | 0.00/75.5M [00:00<?, ?B/s]"
      ]
     },
     "metadata": {},
     "output_type": "display_data"
    },
    {
     "data": {
      "text/plain": [
       "CommitInfo(commit_url='https://huggingface.co/mesolitica/malaysian-whisper-tiny/commit/bb95df421d2111428ac98d66f73103567c5c842d', commit_message='Upload WhisperForConditionalGeneration', commit_description='', oid='bb95df421d2111428ac98d66f73103567c5c842d', pr_url=None, pr_revision=None, pr_num=None)"
      ]
     },
     "execution_count": 12,
     "metadata": {},
     "output_type": "execute_result"
    }
   ],
   "source": [
    "model.push_to_hub('malaysian-whisper-tiny', organization='mesolitica', safe_serialization=True)"
   ]
  },
  {
   "cell_type": "code",
   "execution_count": 13,
   "id": "71fcfd18",
   "metadata": {},
   "outputs": [
    {
     "name": "stderr",
     "output_type": "stream",
     "text": [
      "/home/ubuntu/.local/lib/python3.10/site-packages/transformers/utils/hub.py:671: UserWarning: The `organization` argument is deprecated and will be removed in v5 of Transformers. Set your organization directly in the `repo_id` passed instead (`repo_id={organization}/{model_id}`).\n",
      "  warnings.warn(\n"
     ]
    },
    {
     "data": {
      "text/plain": [
       "CommitInfo(commit_url='https://huggingface.co/mesolitica/malaysian-whisper-tiny/commit/8768a3672a60eb9e9d22ea8a9c22204f7807b737', commit_message='Upload feature extractor', commit_description='', oid='8768a3672a60eb9e9d22ea8a9c22204f7807b737', pr_url=None, pr_revision=None, pr_num=None)"
      ]
     },
     "execution_count": 13,
     "metadata": {},
     "output_type": "execute_result"
    }
   ],
   "source": [
    "feature_extractor.push_to_hub('malaysian-whisper-tiny', organization='mesolitica', safe_serialization=True)"
   ]
  },
  {
   "cell_type": "code",
   "execution_count": 14,
   "id": "6a805fd9",
   "metadata": {},
   "outputs": [
    {
     "data": {
      "text/plain": [
       "CommitInfo(commit_url='https://huggingface.co/mesolitica/malaysian-whisper-tiny/commit/83ceea7d7c23293704fb9ec88bcdeec2bc88d8eb', commit_message='Upload tokenizer', commit_description='', oid='83ceea7d7c23293704fb9ec88bcdeec2bc88d8eb', pr_url=None, pr_revision=None, pr_num=None)"
      ]
     },
     "execution_count": 14,
     "metadata": {},
     "output_type": "execute_result"
    }
   ],
   "source": [
    "tokenizer.push_to_hub('malaysian-whisper-tiny', organization='mesolitica', safe_serialization=True)"
   ]
  },
  {
   "cell_type": "code",
   "execution_count": 15,
   "id": "212c73dd",
   "metadata": {
    "scrolled": true
   },
   "outputs": [
    {
     "data": {
      "text/plain": [
       "CommitInfo(commit_url='https://huggingface.co/mesolitica/malaysian-whisper-tiny/commit/05d5876a3e660566e553ef05de070b05e8b30d82', commit_message='Upload processor', commit_description='', oid='05d5876a3e660566e553ef05de070b05e8b30d82', pr_url=None, pr_revision=None, pr_num=None)"
      ]
     },
     "execution_count": 15,
     "metadata": {},
     "output_type": "execute_result"
    }
   ],
   "source": [
    "processor.push_to_hub('malaysian-whisper-tiny', organization='mesolitica', safe_serialization=True)"
   ]
  }
 ],
 "metadata": {
  "kernelspec": {
   "display_name": "Python 3 (ipykernel)",
   "language": "python",
   "name": "python3"
  },
  "language_info": {
   "codemirror_mode": {
    "name": "ipython",
    "version": 3
   },
   "file_extension": ".py",
   "mimetype": "text/x-python",
   "name": "python",
   "nbconvert_exporter": "python",
   "pygments_lexer": "ipython3",
   "version": "3.10.12"
  }
 },
 "nbformat": 4,
 "nbformat_minor": 5
}
