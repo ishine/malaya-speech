{
 "cells": [
  {
   "cell_type": "code",
   "execution_count": 1,
   "id": "65f42f37",
   "metadata": {},
   "outputs": [],
   "source": [
    "import os\n",
    "import zipfile\n",
    "from datetime import datetime\n",
    "from glob import glob\n",
    "from tqdm import tqdm\n",
    "from huggingface_hub import HfApi\n",
    "from huggingface_hub import HfFileSystem\n",
    "import time\n",
    "from multiprocess import Pool\n",
    "import itertools\n",
    "\n",
    "partition_size = 5e+9\n",
    "\n",
    "def chunks(l, n):\n",
    "    for i in range(0, len(l), n):\n",
    "        yield (l[i: i + n], i // n)\n",
    "\n",
    "def multiprocessing(strings, function, cores=6, returned=True):\n",
    "    df_split = chunks(strings, len(strings) // cores)\n",
    "    pool = Pool(cores)\n",
    "    pooled = pool.map(function, df_split)\n",
    "    pool.close()\n",
    "    pool.join()\n",
    "\n",
    "    if returned:\n",
    "        return list(itertools.chain(*pooled))\n",
    "\n",
    "def get_size(start_path = '.'):\n",
    "    total_size = 0\n",
    "    for dirpath, dirnames, filenames in os.walk(start_path):\n",
    "        for f in filenames:\n",
    "            fp = os.path.join(dirpath, f)\n",
    "            if not os.path.islink(fp):\n",
    "                total_size += os.path.getsize(fp)\n",
    "\n",
    "    return total_size"
   ]
  },
  {
   "cell_type": "code",
   "execution_count": 2,
   "id": "f86639b1",
   "metadata": {},
   "outputs": [],
   "source": [
    "def loop(files):\n",
    "    files, index = files\n",
    "    current_index = 0\n",
    "    api = HfApi()\n",
    "    fs = HfFileSystem()\n",
    "    total = 0\n",
    "    temp = []\n",
    "    for i in tqdm(range(len(files))):\n",
    "        s = get_size(files[i])\n",
    "        if s + total >= partition_size:\n",
    "            part_name = f\"dac-{index}-{current_index}.zip\"\n",
    "                \n",
    "            with zipfile.ZipFile(part_name, 'w', zipfile.ZIP_DEFLATED) as zipf:\n",
    "                for folder in temp:\n",
    "                    for root, dirs, files_ in os.walk(folder):\n",
    "                        for f in files_:\n",
    "                            f = os.path.join(root, f)\n",
    "                            zipf.write(f, arcname=f)\n",
    "\n",
    "            while True:\n",
    "                try:\n",
    "                    api.upload_file(\n",
    "                        path_or_fileobj=part_name,\n",
    "                        path_in_repo=part_name,\n",
    "                        repo_id=\"mesolitica/Malaysian-Emilia-Audio-Tokens\",\n",
    "                        repo_type=\"dataset\",\n",
    "                    )\n",
    "                    break\n",
    "                except:\n",
    "                    time.sleep(60)\n",
    "\n",
    "            os.remove(part_name)\n",
    "            \n",
    "            current_index += 1\n",
    "            temp = [files[i]]\n",
    "            total = s\n",
    "        else:\n",
    "            temp.append(files[i])\n",
    "            total += s\n",
    "        \n",
    "    if len(temp):\n",
    "        part_name = f\"dac-{index}-{current_index}.zip\"\n",
    "\n",
    "        with zipfile.ZipFile(part_name, 'w', zipfile.ZIP_DEFLATED) as zipf:\n",
    "            for folder in temp:\n",
    "                for root, dirs, files_ in os.walk(folder):\n",
    "                    for f in files_:\n",
    "                        f = os.path.join(root, f)\n",
    "                        zipf.write(f, arcname=f)\n",
    "\n",
    "        while True:\n",
    "            try:\n",
    "                api.upload_file(\n",
    "                    path_or_fileobj=part_name,\n",
    "                    path_in_repo=part_name,\n",
    "                    repo_id=\"mesolitica/Malaysian-Emilia-Audio-Tokens\",\n",
    "                    repo_type=\"dataset\",\n",
    "                )\n",
    "                break\n",
    "            except:\n",
    "                time.sleep(60)\n",
    "\n",
    "        os.remove(part_name)"
   ]
  },
  {
   "cell_type": "code",
   "execution_count": 3,
   "id": "3220a4f6",
   "metadata": {},
   "outputs": [],
   "source": [
    "api = HfApi()"
   ]
  },
  {
   "cell_type": "code",
   "execution_count": 4,
   "id": "e338d9fc",
   "metadata": {},
   "outputs": [],
   "source": [
    "folders = sorted(glob('*_dac/*'))"
   ]
  },
  {
   "cell_type": "code",
   "execution_count": 5,
   "id": "e80b0b45",
   "metadata": {},
   "outputs": [
    {
     "data": {
      "text/plain": [
       "138812"
      ]
     },
     "execution_count": 5,
     "metadata": {},
     "output_type": "execute_result"
    }
   ],
   "source": [
    "len(folders)"
   ]
  },
  {
   "cell_type": "code",
   "execution_count": 6,
   "id": "9f43a101",
   "metadata": {},
   "outputs": [
    {
     "name": "stderr",
     "output_type": "stream",
     "text": [
      " 66%|████████████████████████████████████████████████████▏                          | 9166/13881 [00:19<00:00, 12999.96it/s]"
     ]
    },
    {
     "data": {
      "application/vnd.jupyter.widget-view+json": {
       "model_id": "e4cffb64333f49199f85d0c03ef1a41d",
       "version_major": 2,
       "version_minor": 0
      },
      "text/plain": [
       "dac-8-0.zip:   0%|          | 0.00/1.90G [00:00<?, ?B/s]"
      ]
     },
     "metadata": {},
     "output_type": "display_data"
    },
    {
     "data": {
      "application/vnd.jupyter.widget-view+json": {
       "model_id": "0bb54aaeead84d608355fff2a43577bc",
       "version_major": 2,
       "version_minor": 0
      },
      "text/plain": [
       "dac-1-0.zip:   0%|          | 0.00/1.88G [00:00<?, ?B/s]"
      ]
     },
     "metadata": {},
     "output_type": "display_data"
    },
    {
     "data": {
      "application/vnd.jupyter.widget-view+json": {
       "model_id": "492500557db64014bb2959f34ca5999c",
       "version_major": 2,
       "version_minor": 0
      },
      "text/plain": [
       "dac-4-0.zip:   0%|          | 0.00/1.88G [00:00<?, ?B/s]"
      ]
     },
     "metadata": {},
     "output_type": "display_data"
    },
    {
     "data": {
      "application/vnd.jupyter.widget-view+json": {
       "model_id": "4fbb795b17ce4a15bc1f37da70e13495",
       "version_major": 2,
       "version_minor": 0
      },
      "text/plain": [
       "dac-2-0.zip:   0%|          | 0.00/1.88G [00:00<?, ?B/s]"
      ]
     },
     "metadata": {},
     "output_type": "display_data"
    },
    {
     "data": {
      "application/vnd.jupyter.widget-view+json": {
       "model_id": "fe5135c5caed42899fb325e6c6b0e4a3",
       "version_major": 2,
       "version_minor": 0
      },
      "text/plain": [
       "dac-5-0.zip:   0%|          | 0.00/1.89G [00:00<?, ?B/s]"
      ]
     },
     "metadata": {},
     "output_type": "display_data"
    },
    {
     "data": {
      "application/vnd.jupyter.widget-view+json": {
       "model_id": "3130d4b835874cbb8fd62ab737fdf66b",
       "version_major": 2,
       "version_minor": 0
      },
      "text/plain": [
       "dac-9-0.zip:   0%|          | 0.00/1.89G [00:00<?, ?B/s]"
      ]
     },
     "metadata": {},
     "output_type": "display_data"
    },
    {
     "data": {
      "application/vnd.jupyter.widget-view+json": {
       "model_id": "a7032f9ee8da416894368c6cb9874849",
       "version_major": 2,
       "version_minor": 0
      },
      "text/plain": [
       "dac-3-0.zip:   0%|          | 0.00/1.87G [00:00<?, ?B/s]"
      ]
     },
     "metadata": {},
     "output_type": "display_data"
    },
    {
     "data": {
      "application/vnd.jupyter.widget-view+json": {
       "model_id": "7315835961414befa70747fe6d12fec4",
       "version_major": 2,
       "version_minor": 0
      },
      "text/plain": [
       "dac-0-0.zip:   0%|          | 0.00/1.88G [00:00<?, ?B/s]"
      ]
     },
     "metadata": {},
     "output_type": "display_data"
    },
    {
     "data": {
      "application/vnd.jupyter.widget-view+json": {
       "model_id": "2f3867234ed2451b86b231ea3fb4437c",
       "version_major": 2,
       "version_minor": 0
      },
      "text/plain": [
       "dac-7-0.zip:   0%|          | 0.00/1.84G [00:00<?, ?B/s]"
      ]
     },
     "metadata": {},
     "output_type": "display_data"
    },
    {
     "data": {
      "application/vnd.jupyter.widget-view+json": {
       "model_id": "eb9943696cfe4f0c98811a925d0ec9fa",
       "version_major": 2,
       "version_minor": 0
      },
      "text/plain": [
       "dac-6-0.zip:   0%|          | 0.00/1.84G [00:00<?, ?B/s]"
      ]
     },
     "metadata": {},
     "output_type": "display_data"
    },
    {
     "name": "stderr",
     "output_type": "stream",
     "text": [
      "100%|█████████████████████████████████████████████████████████████████████████████████| 13881/13881 [09:12<00:00, 25.12it/s]\n",
      "100%|█████████████████████████████████████████████████████████████████████████████████| 13881/13881 [09:25<00:00, 24.53it/s]\n",
      "100%|█████████████████████████████████████████████████████████████████████████████████| 13881/13881 [09:30<00:00, 24.34it/s]\n",
      "100%|█████████████████████████████████████████████████████████████████████████████████| 13881/13881 [09:30<00:00, 24.34it/s]\n",
      "100%|█████████████████████████████████████████████████████████████████████████████████| 13881/13881 [09:30<00:00, 24.32it/s]\n",
      " 68%|███████████████████████████████████████████████████████▊                          | 9449/13881 [09:50<11:44,  6.29it/s]"
     ]
    },
    {
     "data": {
      "application/vnd.jupyter.widget-view+json": {
       "model_id": "1ca98640d01c4f099da6c58f40dab08c",
       "version_major": 2,
       "version_minor": 0
      },
      "text/plain": [
       "dac-8-1.zip:   0%|          | 0.00/292M [00:00<?, ?B/s]"
      ]
     },
     "metadata": {},
     "output_type": "display_data"
    },
    {
     "name": "stderr",
     "output_type": "stream",
     "text": [
      "100%|███████████████████████████████████████████████████████████████████████████████████████| 2/2 [00:00<00:00, 7364.89it/s]\n"
     ]
    },
    {
     "data": {
      "application/vnd.jupyter.widget-view+json": {
       "model_id": "1e93441267ce4d39bd5db9e04f61c31b",
       "version_major": 2,
       "version_minor": 0
      },
      "text/plain": [
       "dac-10-0.zip:   0%|          | 0.00/242k [00:00<?, ?B/s]"
      ]
     },
     "metadata": {},
     "output_type": "display_data"
    },
    {
     "data": {
      "application/vnd.jupyter.widget-view+json": {
       "model_id": "6b729696f2d345a88f4088793042784c",
       "version_major": 2,
       "version_minor": 0
      },
      "text/plain": [
       "dac-7-1.zip:   0%|          | 0.00/891M [00:00<?, ?B/s]"
      ]
     },
     "metadata": {},
     "output_type": "display_data"
    },
    {
     "data": {
      "application/vnd.jupyter.widget-view+json": {
       "model_id": "8490eef4e1c742029173bb604a8ef1fd",
       "version_major": 2,
       "version_minor": 0
      },
      "text/plain": [
       "dac-6-1.zip:   0%|          | 0.00/899M [00:00<?, ?B/s]"
      ]
     },
     "metadata": {},
     "output_type": "display_data"
    },
    {
     "data": {
      "application/vnd.jupyter.widget-view+json": {
       "model_id": "fa9986b0faed43eaa5b9bcf4d9611b60",
       "version_major": 2,
       "version_minor": 0
      },
      "text/plain": [
       "dac-1-1.zip:   0%|          | 0.00/1.63G [00:00<?, ?B/s]"
      ]
     },
     "metadata": {},
     "output_type": "display_data"
    },
    {
     "data": {
      "application/vnd.jupyter.widget-view+json": {
       "model_id": "3c9a64a4810040a191fb6466f7bc38b9",
       "version_major": 2,
       "version_minor": 0
      },
      "text/plain": [
       "dac-2-1.zip:   0%|          | 0.00/1.82G [00:00<?, ?B/s]"
      ]
     },
     "metadata": {},
     "output_type": "display_data"
    },
    {
     "data": {
      "application/vnd.jupyter.widget-view+json": {
       "model_id": "ef88644801c34387a230c3020b3064e3",
       "version_major": 2,
       "version_minor": 0
      },
      "text/plain": [
       "dac-4-1.zip:   0%|          | 0.00/1.88G [00:00<?, ?B/s]"
      ]
     },
     "metadata": {},
     "output_type": "display_data"
    },
    {
     "data": {
      "application/vnd.jupyter.widget-view+json": {
       "model_id": "601928b6b6b64a8cb8ac1ac50b92b913",
       "version_major": 2,
       "version_minor": 0
      },
      "text/plain": [
       "dac-9-1.zip:   0%|          | 0.00/1.90G [00:00<?, ?B/s]"
      ]
     },
     "metadata": {},
     "output_type": "display_data"
    },
    {
     "data": {
      "application/vnd.jupyter.widget-view+json": {
       "model_id": "b567f6c70e6f4b17aaefda453088dcf8",
       "version_major": 2,
       "version_minor": 0
      },
      "text/plain": [
       "dac-5-1.zip:   0%|          | 0.00/1.87G [00:00<?, ?B/s]"
      ]
     },
     "metadata": {},
     "output_type": "display_data"
    },
    {
     "data": {
      "application/vnd.jupyter.widget-view+json": {
       "model_id": "4e7f7009700d479f88943faa64ee9fe8",
       "version_major": 2,
       "version_minor": 0
      },
      "text/plain": [
       "dac-0-1.zip:   0%|          | 0.00/1.88G [00:00<?, ?B/s]"
      ]
     },
     "metadata": {},
     "output_type": "display_data"
    },
    {
     "data": {
      "application/vnd.jupyter.widget-view+json": {
       "model_id": "30055e6eec2e423089b49efa4249f01d",
       "version_major": 2,
       "version_minor": 0
      },
      "text/plain": [
       "dac-3-1.zip:   0%|          | 0.00/1.88G [00:00<?, ?B/s]"
      ]
     },
     "metadata": {},
     "output_type": "display_data"
    },
    {
     "name": "stderr",
     "output_type": "stream",
     "text": [
      "100%|█████████████████████████████████████████████████████████████████████████████████| 13881/13881 [18:13<00:00, 12.70it/s]\n",
      "100%|█████████████████████████████████████████████████████████████████████████████████| 13881/13881 [18:13<00:00, 12.69it/s]\n",
      "100%|█████████████████████████████████████████████████████████████████████████████████| 13881/13881 [18:13<00:00, 12.69it/s]\n",
      "100%|█████████████████████████████████████████████████████████████████████████████████| 13881/13881 [18:13<00:00, 12.69it/s]\n"
     ]
    },
    {
     "data": {
      "application/vnd.jupyter.widget-view+json": {
       "model_id": "bc4c3edb487a41bdb4feeff115db9ad0",
       "version_major": 2,
       "version_minor": 0
      },
      "text/plain": [
       "dac-0-2.zip:   0%|          | 0.00/68.2M [00:00<?, ?B/s]"
      ]
     },
     "metadata": {},
     "output_type": "display_data"
    },
    {
     "name": "stderr",
     "output_type": "stream",
     "text": [
      "\r",
      " 72%|██████████████████████████████████████████████████████████▍                      | 10005/13881 [18:30<22:04,  2.93it/s]"
     ]
    },
    {
     "data": {
      "application/vnd.jupyter.widget-view+json": {
       "model_id": "c07f6b9457af4f2fb35aaa9f94f26949",
       "version_major": 2,
       "version_minor": 0
      },
      "text/plain": [
       "dac-4-2.zip:   0%|          | 0.00/160M [00:00<?, ?B/s]"
      ]
     },
     "metadata": {},
     "output_type": "display_data"
    },
    {
     "data": {
      "application/vnd.jupyter.widget-view+json": {
       "model_id": "d6931e3fc8ef4ed5af422fcf9c69560a",
       "version_major": 2,
       "version_minor": 0
      },
      "text/plain": [
       "dac-3-2.zip:   0%|          | 0.00/581M [00:00<?, ?B/s]"
      ]
     },
     "metadata": {},
     "output_type": "display_data"
    },
    {
     "data": {
      "application/vnd.jupyter.widget-view+json": {
       "model_id": "eff41da20d51432db9697abfa51b5867",
       "version_major": 2,
       "version_minor": 0
      },
      "text/plain": [
       "dac-5-2.zip:   0%|          | 0.00/582M [00:00<?, ?B/s]"
      ]
     },
     "metadata": {},
     "output_type": "display_data"
    },
    {
     "data": {
      "application/vnd.jupyter.widget-view+json": {
       "model_id": "2f76efb27d3f45a297385b6e5831041c",
       "version_major": 2,
       "version_minor": 0
      },
      "text/plain": [
       "dac-9-2.zip:   0%|          | 0.00/1.89G [00:00<?, ?B/s]"
      ]
     },
     "metadata": {},
     "output_type": "display_data"
    },
    {
     "name": "stderr",
     "output_type": "stream",
     "text": [
      " 81%|█████████████████████████████████████████████████████████████████▏               | 11175/13881 [26:50<14:03,  3.21it/s]"
     ]
    },
    {
     "data": {
      "application/vnd.jupyter.widget-view+json": {
       "model_id": "a040798a1cdd4ab6847a522d7e8de601",
       "version_major": 2,
       "version_minor": 0
      },
      "text/plain": [
       "dac-9-3.zip:   0%|          | 0.00/1.90G [00:00<?, ?B/s]"
      ]
     },
     "metadata": {},
     "output_type": "display_data"
    },
    {
     "name": "stderr",
     "output_type": "stream",
     "text": [
      "100%|█████████████████████████████████████████████████████████████████████████████████| 13881/13881 [34:44<00:00,  6.66it/s]\n"
     ]
    },
    {
     "data": {
      "application/vnd.jupyter.widget-view+json": {
       "model_id": "d923b5af52a04b6fb3bad2a54c072893",
       "version_major": 2,
       "version_minor": 0
      },
      "text/plain": [
       "dac-9-4.zip:   0%|          | 0.00/1.23G [00:00<?, ?B/s]"
      ]
     },
     "metadata": {},
     "output_type": "display_data"
    }
   ],
   "source": [
    "multiprocessing(folders, loop, cores = 10, returned = False)"
   ]
  },
  {
   "cell_type": "code",
   "execution_count": null,
   "id": "57d45d4a",
   "metadata": {},
   "outputs": [],
   "source": []
  }
 ],
 "metadata": {
  "kernelspec": {
   "display_name": "Python 3 (ipykernel)",
   "language": "python",
   "name": "python3"
  },
  "language_info": {
   "codemirror_mode": {
    "name": "ipython",
    "version": 3
   },
   "file_extension": ".py",
   "mimetype": "text/x-python",
   "name": "python",
   "nbconvert_exporter": "python",
   "pygments_lexer": "ipython3",
   "version": "3.10.12"
  }
 },
 "nbformat": 4,
 "nbformat_minor": 5
}
