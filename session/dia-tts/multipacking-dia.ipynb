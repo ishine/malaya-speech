{
 "cells": [
  {
   "cell_type": "code",
   "execution_count": 1,
   "id": "5b0dfae0",
   "metadata": {},
   "outputs": [],
   "source": [
    "import torch\n",
    "import torch.nn.functional as F\n",
    "import json\n",
    "from datasets import load_dataset\n",
    "from audio import build_delay_indices, apply_audio_delay\n",
    "from torch.nn.utils.rnn import pad_sequence\n",
    "from torch.nn.functional import pad\n",
    "from config import DiaConfig\n",
    "\n",
    "def pad_attention_mask_4d(attention_mask, maxlen = 2048):\n",
    "    maxlen_right = maxlen\n",
    "    maxlen_bottom = maxlen\n",
    "    attention_mask = [\n",
    "        F.pad(\n",
    "            attention_mask[i],\n",
    "            (0, maxlen_right - attention_mask[i].shape[-2], 0, maxlen_bottom - attention_mask[i].shape[-1])) for i in range(\n",
    "            len(attention_mask))]\n",
    "    return torch.stack(attention_mask)\n",
    "\n",
    "def pad_3d_2d(tensor, max_size, value):\n",
    "    padded = [\n",
    "        F.pad(tensor[i], (0, 0, 0, max_size - tensor[i].shape[0]), value = value) for i in range(len(tensor))\n",
    "    ]\n",
    "    return torch.stack(padded)\n",
    "\n",
    "def pad_attention_mask(attention_mask, maxlen_right, maxlen_bottom):\n",
    "    attention_mask = [\n",
    "        F.pad(\n",
    "            attention_mask[i],\n",
    "            (0, maxlen_right - attention_mask[i].shape[1], 0, maxlen_bottom - attention_mask[i].shape[0])) for i in range(\n",
    "            len(attention_mask))]\n",
    "    return torch.stack(attention_mask)\n",
    "\n",
    "def block_diagonal_concat(*masks, dtype=torch.bool):\n",
    "    total_size = sum(mask.size(0) for mask in masks)\n",
    "    combined_mask = torch.zeros(total_size, total_size, dtype=dtype)\n",
    "\n",
    "    current_pos = 0\n",
    "\n",
    "    for mask in masks:\n",
    "        size = mask.size(0)\n",
    "        combined_mask[current_pos:current_pos + size, current_pos:current_pos + size] = mask\n",
    "        current_pos += size\n",
    "\n",
    "    return combined_mask\n",
    "\n",
    "def block_diagonal_concat_cross(*masks, dtype=torch.bool):\n",
    "    total_rows = sum(mask.size(0) for mask in masks)\n",
    "    total_cols = sum(mask.size(1) for mask in masks)\n",
    "    \n",
    "    combined_mask = torch.zeros((total_rows, total_cols), dtype=dtype)\n",
    "    \n",
    "    current_row, current_col = 0, 0\n",
    "\n",
    "    for mask in masks:\n",
    "        rows, cols = mask.size()\n",
    "        combined_mask[current_row:current_row + rows, current_col:current_col + cols] = mask\n",
    "        current_row += rows\n",
    "        current_col += cols\n",
    "        \n",
    "    return combined_mask\n",
    "\n",
    "def new_path(f):\n",
    "    return f.replace('_processed/', '_processed_trim_dac/').replace('.mp3', '.dac')"
   ]
  },
  {
   "cell_type": "code",
   "execution_count": 2,
   "id": "baccdf72",
   "metadata": {},
   "outputs": [],
   "source": [
    "config = DiaConfig.load('config.json')"
   ]
  },
  {
   "cell_type": "code",
   "execution_count": 3,
   "id": "ff22460e",
   "metadata": {},
   "outputs": [
    {
     "name": "stderr",
     "output_type": "stream",
     "text": [
      "/usr/lib/python3/dist-packages/scipy/__init__.py:146: UserWarning: A NumPy version >=1.17.3 and <1.25.0 is required for this version of SciPy (detected version 1.26.4\n",
      "  warnings.warn(f\"A NumPy version >={np_minversion} and <{np_maxversion}\"\n"
     ]
    }
   ],
   "source": [
    "dataset = load_dataset('mesolitica/Malaysian-Emilia-Sesame')['train']"
   ]
  },
  {
   "cell_type": "code",
   "execution_count": 4,
   "id": "574bd3d2",
   "metadata": {},
   "outputs": [],
   "source": [
    "with open('merged-dia-4096.json') as fopen:\n",
    "    merged = json.load(fopen)"
   ]
  },
  {
   "cell_type": "code",
   "execution_count": 5,
   "id": "eefee456",
   "metadata": {},
   "outputs": [],
   "source": [
    "codebook_size = 9\n",
    "pad_tok = config.data.text_pad_value\n",
    "pad_val = config.data.audio_pad_value\n",
    "bos_val = config.data.audio_bos_value\n",
    "eos_val = config.data.audio_eos_value"
   ]
  },
  {
   "cell_type": "code",
   "execution_count": 72,
   "id": "38bdabe5",
   "metadata": {},
   "outputs": [],
   "source": [
    "class DatasetFixed(torch.utils.data.Dataset):\n",
    "    def __init__(\n",
    "        self, \n",
    "        dataset,\n",
    "        merged_file = None,\n",
    "        calculated_speech_tokens = False,\n",
    "    ):\n",
    "        self.dataset = load_dataset(dataset)['train']\n",
    "        self.length = len(self.dataset)\n",
    "        self.merged = None\n",
    "\n",
    "        if merged_file is not None:\n",
    "            with open(merged_file) as fopen:\n",
    "                self.merged = json.load(fopen)\n",
    "            self.length = len(self.merged)\n",
    "\n",
    "    def __getitem__(self, idx):\n",
    "        if self.merged is None:\n",
    "            indices = [self.dataset[idx]]\n",
    "        else:\n",
    "            indices = self.merged[idx]\n",
    "        try:\n",
    "            texts, encodings = [], []\n",
    "            for idx in indices:\n",
    "                data = self.dataset[idx]\n",
    "                reference_audio = data['reference_audio'] \n",
    "                reference_text = data['reference_text']\n",
    "                target_audio = data['target_audio']\n",
    "                target_text = data['target_text']\n",
    "                text = f'[S1] {reference_text}[S1] {target_text}'\n",
    "                files = [reference_audio, target_audio]\n",
    "                encodeds = []\n",
    "                for f in files:\n",
    "                    new_f = new_path(f)\n",
    "                    with open(new_f) as fopen:\n",
    "                        d = json.load(fopen)\n",
    "                    d = torch.tensor(d)\n",
    "                    if d.shape[1] != codebook_size:\n",
    "                        d = d.T\n",
    "                    encodeds.append(d)\n",
    "\n",
    "                encoding = torch.concat(encodeds, dim = 0)\n",
    "                texts.append(text)\n",
    "                encodings.append(encoding)\n",
    "\n",
    "            text_ids = []\n",
    "            enc_self_attn_mask = []\n",
    "            enc_lens = []\n",
    "            src_pos = []\n",
    "\n",
    "            for txt in texts:\n",
    "                b_full = txt.encode('utf-8')\n",
    "                arr = list(b_full)\n",
    "\n",
    "                text_ids.append(torch.tensor(arr, dtype=torch.long))\n",
    "                l = len(arr)\n",
    "                enc_lens.append(l)\n",
    "                enc_self_attn_mask.append(torch.ones(l, l).bool())\n",
    "                src_pos.append(torch.arange(l))\n",
    "\n",
    "            enc_self_attn_mask = block_diagonal_concat(*enc_self_attn_mask)\n",
    "\n",
    "            tgts = []\n",
    "            tgt_lens = []\n",
    "            dec_self_attn_mask = []\n",
    "            tgt_pos = []\n",
    "            bos_tokens = torch.full([1, codebook_size], bos_val)\n",
    "            for encoding in encodings:\n",
    "\n",
    "                encoding = torch.concat([bos_tokens, encoding])\n",
    "                ori_labels = encoding.T.tolist()\n",
    "                delayed_ = []\n",
    "                skip = 0\n",
    "                for i in range(len(ori_labels)):\n",
    "                    delayed_.append([bos_val] * skip + ori_labels[i] + [eos_val])\n",
    "                    if i == 0:\n",
    "                        skip += 8\n",
    "                    else:\n",
    "                        skip += 1\n",
    "                maxlen = max([len(delayed_[i]) for i in range(len(ori_labels))])\n",
    "                for i in range(len(ori_labels)):\n",
    "                    delayed_[i] = delayed_[i] + [eos_val] * (maxlen - len(delayed_[i]))\n",
    "                delayed_ = torch.tensor(delayed_).T\n",
    "                L = len(delayed_)\n",
    "                tgts.append(delayed_)\n",
    "                tgt_lens.append(L)\n",
    "                dec_self_attn_mask.append(torch.tril(torch.ones((L, L), dtype=torch.bool)))\n",
    "                tgt_pos.append(torch.arange(L))\n",
    "\n",
    "            dec_self_attn_mask = block_diagonal_concat(*dec_self_attn_mask)\n",
    "\n",
    "            dec_cross_attn_mask = []\n",
    "            for i in range(len(tgt_lens)):\n",
    "                dec_cross_attn_mask.append(torch.ones(tgt_lens[i], enc_lens[i]).bool())\n",
    "\n",
    "            dec_cross_attn_mask = block_diagonal_concat_cross(*dec_cross_attn_mask)\n",
    "\n",
    "            text_ids = torch.concat(text_ids)\n",
    "            src_pos = torch.concat(src_pos)\n",
    "            tgt_pos = torch.concat(tgt_pos)\n",
    "            tgt = torch.concat(tgts)\n",
    "            return {\n",
    "                'text_ids': text_ids,\n",
    "                'src_pos': src_pos,\n",
    "                'enc_self_attn_mask': enc_self_attn_mask,\n",
    "                'tgt': tgt,\n",
    "                'tgt_pos': tgt_pos,\n",
    "                'dec_self_attn_mask': dec_self_attn_mask,\n",
    "                'dec_cross_attn_mask': dec_cross_attn_mask,\n",
    "                'encodings': encodings,\n",
    "            }\n",
    "        except Exception as e:\n",
    "            print(e)\n",
    "\n",
    "    def __len__(self):\n",
    "        return self.length"
   ]
  },
  {
   "cell_type": "code",
   "execution_count": 73,
   "id": "9f7fccee",
   "metadata": {},
   "outputs": [],
   "source": [
    "dataset = DatasetFixed('mesolitica/Malaysian-Emilia-Sesame', 'merged-dia-4096.json')"
   ]
  },
  {
   "cell_type": "code",
   "execution_count": 74,
   "id": "27559c6a",
   "metadata": {},
   "outputs": [],
   "source": [
    "batch = dataset[0]"
   ]
  },
  {
   "cell_type": "code",
   "execution_count": 77,
   "id": "e09fb50c",
   "metadata": {},
   "outputs": [
    {
     "data": {
      "text/plain": [
       "torch.Size([4083, 9])"
      ]
     },
     "execution_count": 77,
     "metadata": {},
     "output_type": "execute_result"
    }
   ],
   "source": [
    "batch['tgt'].shape"
   ]
  },
  {
   "cell_type": "code",
   "execution_count": 23,
   "id": "5fdf9c18",
   "metadata": {},
   "outputs": [],
   "source": [
    "encodings = batch['encodings']"
   ]
  },
  {
   "cell_type": "code",
   "execution_count": 94,
   "id": "4bce812d",
   "metadata": {},
   "outputs": [
    {
     "data": {
      "text/plain": [
       "tensor([[ 330,  151,  272,  ...,   55,  824,  982],\n",
       "        [ 330,  982,  719,  ...,  715, 1018,  430],\n",
       "        [  35,  288,  491,  ...,   16,  906,  611],\n",
       "        ...,\n",
       "        [ 762,  634,  249,  ...,   16,  220,  708],\n",
       "        [ 698,  848,  932,  ...,  166,  532,  746],\n",
       "        [ 698,  778,  778,  ...,  772,  754,  925]])"
      ]
     },
     "execution_count": 94,
     "metadata": {},
     "output_type": "execute_result"
    }
   ],
   "source": [
    "encodings[0]"
   ]
  },
  {
   "cell_type": "code",
   "execution_count": 25,
   "id": "c199dbf5",
   "metadata": {},
   "outputs": [
    {
     "data": {
      "text/plain": [
       "torch.Size([3918, 9])"
      ]
     },
     "execution_count": 25,
     "metadata": {},
     "output_type": "execute_result"
    }
   ],
   "source": [
    "batch['tgt'].shape"
   ]
  },
  {
   "cell_type": "code",
   "execution_count": 27,
   "id": "3f26a274",
   "metadata": {
    "scrolled": true
   },
   "outputs": [
    {
     "data": {
      "text/plain": [
       "torch.Size([333, 9])"
      ]
     },
     "execution_count": 27,
     "metadata": {},
     "output_type": "execute_result"
    }
   ],
   "source": [
    "encodings[0].shape"
   ]
  },
  {
   "cell_type": "code",
   "execution_count": 18,
   "id": "41fd6db4",
   "metadata": {
    "scrolled": true
   },
   "outputs": [
    {
     "data": {
      "text/plain": [
       "torch.Size([333, 9])"
      ]
     },
     "execution_count": 18,
     "metadata": {},
     "output_type": "execute_result"
    }
   ],
   "source": [
    "encodings[0].shape"
   ]
  },
  {
   "cell_type": "code",
   "execution_count": 69,
   "id": "f060c9c9",
   "metadata": {},
   "outputs": [
    {
     "data": {
      "text/plain": [
       "tensor([[1026, 1026, 1026, 1026, 1026, 1026, 1026, 1026, 1026]])"
      ]
     },
     "execution_count": 69,
     "metadata": {},
     "output_type": "execute_result"
    }
   ],
   "source": [
    "torch.full([1, codebook_size], bos_val)"
   ]
  },
  {
   "cell_type": "code",
   "execution_count": 70,
   "id": "b20f163c",
   "metadata": {},
   "outputs": [],
   "source": [
    "tgts = []\n",
    "tgt_lens = []\n",
    "dec_self_attn_mask = []\n",
    "tgt_pos = []\n",
    "bos_tokens = torch.full([1, codebook_size], bos_val)\n",
    "for encoding in encodings:\n",
    "    \n",
    "    encoding = torch.concat([bos_tokens, encoding])\n",
    "    ori_labels = encoding.T.tolist()\n",
    "    delayed_ = []\n",
    "    skip = 0\n",
    "    for i in range(len(ori_labels)):\n",
    "        delayed_.append([bos_val] * skip + ori_labels[i] + [eos_val])\n",
    "        if i == 0:\n",
    "            skip += 8\n",
    "        else:\n",
    "            skip += 1\n",
    "    maxlen = max([len(delayed_[i]) for i in range(len(ori_labels))])\n",
    "    for i in range(len(ori_labels)):\n",
    "        delayed_[i] = delayed_[i] + [eos_val] * (maxlen - len(delayed_[i]))\n",
    "    delayed_ = torch.tensor(delayed_).T\n",
    "    L = len(delayed_)\n",
    "    tgts.append(delayed_)\n",
    "    tgt_lens.append(L)\n",
    "    dec_self_attn_mask.append(torch.tril(torch.ones((L, L), dtype=torch.bool)))\n",
    "    tgt_pos.append(torch.arange(L))"
   ]
  },
  {
   "cell_type": "code",
   "execution_count": 101,
   "id": "15ec690a",
   "metadata": {},
   "outputs": [],
   "source": [
    "delay_pattern = [\n",
    "            0,\n",
    "            8,\n",
    "            9,\n",
    "            10,\n",
    "            11,\n",
    "            12,\n",
    "            13,\n",
    "            14,\n",
    "            15\n",
    "        ]\n",
    "max_delay_pattern = max(delay_pattern)"
   ]
  },
  {
   "cell_type": "code",
   "execution_count": 139,
   "id": "7fd6f7ae",
   "metadata": {},
   "outputs": [
    {
     "data": {
      "text/plain": [
       "9"
      ]
     },
     "execution_count": 139,
     "metadata": {},
     "output_type": "execute_result"
    }
   ],
   "source": [
    "audio_prompts = [torch.randint(0, 10, size = (21, 9))]\n",
    "batch_size = len(audio_prompts)\n",
    "num_channels = config.data.channels\n",
    "audio_bos_value = config.data.audio_bos_value\n",
    "num_channels"
   ]
  },
  {
   "cell_type": "code",
   "execution_count": 140,
   "id": "1058bb0b",
   "metadata": {},
   "outputs": [],
   "source": [
    "max_len = max(p.shape[0] if p is not None else 0 for p in audio_prompts) + max_delay_pattern\n",
    "prefill_steps = []\n",
    "\n",
    "prefill = torch.full(\n",
    "    (batch_size, max_len, num_channels),\n",
    "    fill_value=-1,\n",
    "    dtype=torch.int,\n",
    ")\n",
    "\n",
    "prefill[:, 0, :] = audio_bos_value\n",
    "\n",
    "for i in range(batch_size):\n",
    "    prompt = audio_prompts[i]\n",
    "    if prompt is not None:\n",
    "        prompt = prompt\n",
    "        prefill[i, 1 : prompt.shape[0] + 1, :] = prompt\n",
    "        prefill_steps.append(prompt.shape[0] + 1)\n",
    "    else:\n",
    "        prefill_steps.append(1)\n",
    "\n",
    "delay_precomp = build_delay_indices(\n",
    "    B=batch_size,\n",
    "    T=max_len,\n",
    "    C=num_channels,\n",
    "    delay_pattern=delay_pattern,\n",
    ")\n",
    "\n",
    "delayed_batch = apply_audio_delay(\n",
    "    audio_BxTxC=prefill,\n",
    "    pad_value=-1,\n",
    "    bos_value=audio_bos_value,\n",
    "    precomp=delay_precomp,\n",
    ")"
   ]
  },
  {
   "cell_type": "code",
   "execution_count": 141,
   "id": "edaf85f4",
   "metadata": {
    "scrolled": true
   },
   "outputs": [
    {
     "data": {
      "text/plain": [
       "torch.Size([1, 36, 9])"
      ]
     },
     "execution_count": 141,
     "metadata": {},
     "output_type": "execute_result"
    }
   ],
   "source": [
    "delayed_batch.shape"
   ]
  },
  {
   "cell_type": "code",
   "execution_count": 145,
   "id": "19974fe9",
   "metadata": {},
   "outputs": [
    {
     "data": {
      "text/plain": [
       "tensor([[1026, 1026, 1026, 1026, 1026, 1026, 1026, 1026, 1026],\n",
       "        [   1,    0,    1,    1,    7,    4,    8,    2,    1],\n",
       "        [   0,    1,    9,    7,    2,    9,    3,    7,    0],\n",
       "        [   5,    0,    9,    8,    3,    8,    7,    9,    1],\n",
       "        [   7,    0,    7,    4,    7,    1,    9,    1,    4],\n",
       "        [   7,    4,    1,    9,    2,    5,    9,    9,    3],\n",
       "        [   1,    9,    1,    4,    7,    1,    2,    5,    0],\n",
       "        [   5,    8,    3,    6,    9,    2,    0,    1,    8],\n",
       "        [   7,    0,    4,    0,    9,    9,    6,    9,    5],\n",
       "        [   3,    1,    7,    3,    9,    9,    9,    9,    7],\n",
       "        [   4,    6,    7,    8,    4,    1,    5,    7,    1],\n",
       "        [   9,    3,    1,    8,    0,    5,    7,    0,    2],\n",
       "        [   2,    3,    3,    8,    8,    4,    7,    4,    7],\n",
       "        [   8,    0,    2,    1,    6,    4,    3,    3,    1],\n",
       "        [   5,    0,    3,    0,    0,    3,    3,    0,    9],\n",
       "        [   1,    9,    6,    3,    2,    9,    5,    2,    0],\n",
       "        [   6,    4,    7,    3,    6,    8,    2,    5,    5],\n",
       "        [   6,    5,    3,    0,    2,    2,    6,    7,    7],\n",
       "        [   2,    3,    5,    6,    6,    6,    7,    9,    6],\n",
       "        [   4,    2,    1,    8,    6,    9,    1,    8,    7],\n",
       "        [   6,    6,    1,    3,    2,    4,    1,    3,    7],\n",
       "        [   2,    8,    0,    8,    9,    2,    1,    7,    7]])"
      ]
     },
     "execution_count": 145,
     "metadata": {},
     "output_type": "execute_result"
    }
   ],
   "source": [
    "encoding"
   ]
  },
  {
   "cell_type": "code",
   "execution_count": 142,
   "id": "f0391ab0",
   "metadata": {},
   "outputs": [
    {
     "data": {
      "text/plain": [
       "tensor([[1026, 1026, 1026, 1026, 1026, 1026, 1026, 1026, 1026],\n",
       "        [   1, 1026, 1026, 1026, 1026, 1026, 1026, 1026, 1026],\n",
       "        [   0, 1026, 1026, 1026, 1026, 1026, 1026, 1026, 1026],\n",
       "        [   5, 1026, 1026, 1026, 1026, 1026, 1026, 1026, 1026],\n",
       "        [   7, 1026, 1026, 1026, 1026, 1026, 1026, 1026, 1026],\n",
       "        [   7, 1026, 1026, 1026, 1026, 1026, 1026, 1026, 1026],\n",
       "        [   1, 1026, 1026, 1026, 1026, 1026, 1026, 1026, 1026],\n",
       "        [   5, 1026, 1026, 1026, 1026, 1026, 1026, 1026, 1026],\n",
       "        [   7, 1026, 1026, 1026, 1026, 1026, 1026, 1026, 1026],\n",
       "        [   3,    0, 1026, 1026, 1026, 1026, 1026, 1026, 1026],\n",
       "        [   4,    1,    1, 1026, 1026, 1026, 1026, 1026, 1026],\n",
       "        [   9,    0,    9,    1, 1026, 1026, 1026, 1026, 1026],\n",
       "        [   2,    0,    9,    7,    7, 1026, 1026, 1026, 1026],\n",
       "        [   8,    4,    7,    8,    2,    4, 1026, 1026, 1026],\n",
       "        [   5,    9,    1,    4,    3,    9,    8, 1026, 1026],\n",
       "        [   1,    8,    1,    9,    7,    8,    3,    2, 1026],\n",
       "        [   6,    0,    3,    4,    2,    1,    7,    7,    1],\n",
       "        [   6,    1,    4,    6,    7,    5,    9,    9,    0],\n",
       "        [   2,    6,    7,    0,    9,    1,    9,    1,    1],\n",
       "        [   4,    3,    7,    3,    9,    2,    2,    9,    4],\n",
       "        [   6,    3,    1,    8,    9,    9,    0,    5,    3],\n",
       "        [   2,    0,    3,    8,    4,    9,    6,    1,    0],\n",
       "        [1024,    0,    2,    8,    0,    1,    9,    9,    8],\n",
       "        [1024,    9,    3,    1,    8,    5,    5,    9,    5],\n",
       "        [1024,    4,    6,    0,    6,    4,    7,    7,    7],\n",
       "        [1024,    5,    7,    3,    0,    4,    7,    0,    1],\n",
       "        [1024,    3,    3,    3,    2,    3,    3,    4,    2],\n",
       "        [1024,    2,    5,    0,    6,    9,    3,    3,    7],\n",
       "        [1024,    6,    1,    6,    2,    8,    5,    0,    1],\n",
       "        [1024,    8,    1,    8,    6,    2,    2,    2,    9],\n",
       "        [1024, 1024,    0,    3,    6,    6,    6,    5,    0],\n",
       "        [1024, 1024, 1024,    8,    2,    9,    7,    7,    5],\n",
       "        [1024, 1024, 1024, 1024,    9,    4,    1,    9,    7],\n",
       "        [1024, 1024, 1024, 1024, 1024,    2,    1,    8,    6],\n",
       "        [1024, 1024, 1024, 1024, 1024, 1024,    1,    3,    7],\n",
       "        [1024, 1024, 1024, 1024, 1024, 1024, 1024,    7,    7],\n",
       "        [1024, 1024, 1024, 1024, 1024, 1024, 1024, 1024,    7],\n",
       "        [1024, 1024, 1024, 1024, 1024, 1024, 1024, 1024, 1024]])"
      ]
     },
     "execution_count": 142,
     "metadata": {},
     "output_type": "execute_result"
    }
   ],
   "source": [
    "bos_tokens = torch.full([1, codebook_size], bos_val)\n",
    "encoding = torch.concat([bos_tokens, audio_prompts[0]])\n",
    "ori_labels = encoding.T.tolist()\n",
    "delayed_ = []\n",
    "skip = 0\n",
    "for i in range(len(ori_labels)):\n",
    "    delayed_.append([bos_val] * skip + ori_labels[i] + [eos_val])\n",
    "    if i == 0:\n",
    "        skip += 8\n",
    "    else:\n",
    "        skip += 1\n",
    "maxlen = max([len(delayed_[i]) for i in range(len(ori_labels))])\n",
    "for i in range(len(ori_labels)):\n",
    "    delayed_[i] = delayed_[i] + [eos_val] * (maxlen - len(delayed_[i]))\n",
    "delayed_ = torch.tensor(delayed_).T\n",
    "delayed_"
   ]
  },
  {
   "cell_type": "code",
   "execution_count": 143,
   "id": "a6681b62",
   "metadata": {},
   "outputs": [
    {
     "data": {
      "text/plain": [
       "tensor([[1026, 1026, 1026, 1026, 1026, 1026, 1026, 1026, 1026],\n",
       "        [   1, 1026, 1026, 1026, 1026, 1026, 1026, 1026, 1026],\n",
       "        [   0, 1026, 1026, 1026, 1026, 1026, 1026, 1026, 1026],\n",
       "        [   5, 1026, 1026, 1026, 1026, 1026, 1026, 1026, 1026],\n",
       "        [   7, 1026, 1026, 1026, 1026, 1026, 1026, 1026, 1026],\n",
       "        [   7, 1026, 1026, 1026, 1026, 1026, 1026, 1026, 1026],\n",
       "        [   1, 1026, 1026, 1026, 1026, 1026, 1026, 1026, 1026],\n",
       "        [   5, 1026, 1026, 1026, 1026, 1026, 1026, 1026, 1026],\n",
       "        [   7, 1026, 1026, 1026, 1026, 1026, 1026, 1026, 1026],\n",
       "        [   3,    0, 1026, 1026, 1026, 1026, 1026, 1026, 1026],\n",
       "        [   4,    1,    1, 1026, 1026, 1026, 1026, 1026, 1026],\n",
       "        [   9,    0,    9,    1, 1026, 1026, 1026, 1026, 1026],\n",
       "        [   2,    0,    9,    7,    7, 1026, 1026, 1026, 1026],\n",
       "        [   8,    4,    7,    8,    2,    4, 1026, 1026, 1026],\n",
       "        [   5,    9,    1,    4,    3,    9,    8, 1026, 1026],\n",
       "        [   1,    8,    1,    9,    7,    8,    3,    2, 1026],\n",
       "        [   6,    0,    3,    4,    2,    1,    7,    7,    1],\n",
       "        [   6,    1,    4,    6,    7,    5,    9,    9,    0],\n",
       "        [   2,    6,    7,    0,    9,    1,    9,    1,    1],\n",
       "        [   4,    3,    7,    3,    9,    2,    2,    9,    4],\n",
       "        [   6,    3,    1,    8,    9,    9,    0,    5,    3],\n",
       "        [   2,    0,    3,    8,    4,    9,    6,    1,    0],\n",
       "        [  -1,    0,    2,    8,    0,    1,    9,    9,    8],\n",
       "        [  -1,    9,    3,    1,    8,    5,    5,    9,    5],\n",
       "        [  -1,    4,    6,    0,    6,    4,    7,    7,    7],\n",
       "        [  -1,    5,    7,    3,    0,    4,    7,    0,    1],\n",
       "        [  -1,    3,    3,    3,    2,    3,    3,    4,    2],\n",
       "        [  -1,    2,    5,    0,    6,    9,    3,    3,    7],\n",
       "        [  -1,    6,    1,    6,    2,    8,    5,    0,    1],\n",
       "        [  -1,    8,    1,    8,    6,    2,    2,    2,    9],\n",
       "        [  -1,   -1,    0,    3,    6,    6,    6,    5,    0],\n",
       "        [  -1,   -1,   -1,    8,    2,    9,    7,    7,    5],\n",
       "        [  -1,   -1,   -1,   -1,    9,    4,    1,    9,    7],\n",
       "        [  -1,   -1,   -1,   -1,   -1,    2,    1,    8,    6],\n",
       "        [  -1,   -1,   -1,   -1,   -1,   -1,    1,    3,    7],\n",
       "        [  -1,   -1,   -1,   -1,   -1,   -1,   -1,    7,    7]],\n",
       "       dtype=torch.int32)"
      ]
     },
     "execution_count": 143,
     "metadata": {},
     "output_type": "execute_result"
    }
   ],
   "source": [
    "delayed_batch[0]"
   ]
  },
  {
   "cell_type": "code",
   "execution_count": 92,
   "id": "530d94ac",
   "metadata": {},
   "outputs": [
    {
     "data": {
      "text/plain": [
       "<matplotlib.image.AxesImage at 0x7effdb48ad10>"
      ]
     },
     "execution_count": 92,
     "metadata": {},
     "output_type": "execute_result"
    },
    {
     "data": {
      "image/png": "[encoded data removed]",
      "text/plain": [
       "<Figure size 360x7200 with 1 Axes>"
      ]
     },
     "metadata": {
      "needs_background": "light"
     },
     "output_type": "display_data"
    }
   ],
   "source": [
    "plt.figure(figsize=(5, 100))\n",
    "plt.imshow(tgts.numpy()[:500])"
   ]
  },
  {
   "cell_type": "code",
   "execution_count": 44,
   "id": "c52980ac",
   "metadata": {
    "scrolled": true
   },
   "outputs": [
    {
     "data": {
      "text/plain": [
       "tensor([[ True, False, False,  ..., False, False, False],\n",
       "        [ True,  True, False,  ..., False, False, False],\n",
       "        [ True,  True,  True,  ..., False, False, False],\n",
       "        ...,\n",
       "        [False, False, False,  ...,  True, False, False],\n",
       "        [False, False, False,  ...,  True,  True, False],\n",
       "        [False, False, False,  ...,  True,  True,  True]])"
      ]
     },
     "execution_count": 44,
     "metadata": {},
     "output_type": "execute_result"
    }
   ],
   "source": [
    "dec_self_attn_mask = block_diagonal_concat(*dec_self_attn_mask)\n",
    "dec_self_attn_mask"
   ]
  },
  {
   "cell_type": "code",
   "execution_count": 54,
   "id": "128b62a4",
   "metadata": {},
   "outputs": [
    {
     "data": {
      "text/plain": [
       "array([[1, 0, 0, ..., 0, 0, 0],\n",
       "       [1, 1, 0, ..., 0, 0, 0],\n",
       "       [1, 1, 1, ..., 0, 0, 0],\n",
       "       ...,\n",
       "       [0, 0, 0, ..., 1, 0, 0],\n",
       "       [0, 0, 0, ..., 1, 1, 0],\n",
       "       [0, 0, 0, ..., 1, 1, 1]], dtype=int32)"
      ]
     },
     "execution_count": 54,
     "metadata": {},
     "output_type": "execute_result"
    }
   ],
   "source": [
    "import numpy as np\n",
    "dec_self_attn_mask.numpy().astype(np.int32)"
   ]
  },
  {
   "cell_type": "code",
   "execution_count": 55,
   "id": "860daef2",
   "metadata": {},
   "outputs": [
    {
     "data": {
      "text/plain": [
       "<matplotlib.image.AxesImage at 0x7eff25401a20>"
      ]
     },
     "execution_count": 55,
     "metadata": {},
     "output_type": "execute_result"
    },
    {
     "data": {
      "image/png": "[encoded data removed]",
      "text/plain": [
       "<Figure size 432x288 with 1 Axes>"
      ]
     },
     "metadata": {
      "needs_background": "light"
     },
     "output_type": "display_data"
    }
   ],
   "source": [
    "import matplotlib.pyplot as plt\n",
    "\n",
    "plt.imshow(dec_self_attn_mask.numpy().astype(np.int32))"
   ]
  }
 ],
 "metadata": {
  "kernelspec": {
   "display_name": "Python 3 (ipykernel)",
   "language": "python",
   "name": "python3"
  },
  "language_info": {
   "codemirror_mode": {
    "name": "ipython",
    "version": 3
   },
   "file_extension": ".py",
   "mimetype": "text/x-python",
   "name": "python",
   "nbconvert_exporter": "python",
   "pygments_lexer": "ipython3",
   "version": "3.10.12"
  }
 },
 "nbformat": 4,
 "nbformat_minor": 5
}
