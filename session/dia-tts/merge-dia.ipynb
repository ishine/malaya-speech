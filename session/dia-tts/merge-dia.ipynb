{
 "cells": [
  {
   "cell_type": "code",
   "execution_count": 1,
   "id": "45f1606c",
   "metadata": {},
   "outputs": [],
   "source": [
    "import torch\n",
    "import json\n",
    "import numpy as np\n",
    "from tqdm import tqdm\n",
    "from datasets import load_dataset\n",
    "from multiprocess import Pool\n",
    "import itertools\n",
    "\n",
    "def chunks(l, n):\n",
    "    for i in range(0, len(l), n):\n",
    "        yield (l[i: i + n], i // n)\n",
    "\n",
    "def multiprocessing(strings, function, cores=6, returned=True):\n",
    "    df_split = chunks(strings, len(strings) // cores)\n",
    "    pool = Pool(cores)\n",
    "    pooled = pool.map(function, df_split)\n",
    "    pool.close()\n",
    "    pool.join()\n",
    "\n",
    "    if returned:\n",
    "        return list(itertools.chain(*pooled))\n",
    "    \n",
    "def new_path(f):\n",
    "    return f.replace('_processed/', '_processed_trim_dac/').replace('.mp3', '.dac')\n",
    "\n",
    "def new_path_audio(f):\n",
    "    return f.replace('_processed/', '_processed_trim/')\n",
    "\n",
    "with open('config.json') as fopen:\n",
    "    config = json.load(fopen)\n",
    "    \n",
    "text_length = config['data']['text_length']\n",
    "audio_length = config['data']['audio_length']\n",
    "codebook_size = config['data']['channels']\n",
    "\n",
    "max_text = config['data']['text_length']\n",
    "pad_tok = config['data']['text_pad_value']\n",
    "max_audio = config['data']['audio_length']"
   ]
  },
  {
   "cell_type": "code",
   "execution_count": 2,
   "id": "279365b2",
   "metadata": {},
   "outputs": [
    {
     "name": "stderr",
     "output_type": "stream",
     "text": [
      "/usr/lib/python3/dist-packages/scipy/__init__.py:146: UserWarning: A NumPy version >=1.17.3 and <1.25.0 is required for this version of SciPy (detected version 1.26.4\n",
      "  warnings.warn(f\"A NumPy version >={np_minversion} and <{np_maxversion}\"\n"
     ]
    }
   ],
   "source": [
    "dataset = load_dataset('mesolitica/Malaysian-Emilia-Sesame')['train']"
   ]
  },
  {
   "cell_type": "code",
   "execution_count": 3,
   "id": "eb52333c",
   "metadata": {},
   "outputs": [],
   "source": [
    "def loop(indices):\n",
    "    indices, _ = indices\n",
    "    lengths = []\n",
    "    \n",
    "    dataset = load_dataset('mesolitica/Malaysian-Emilia-Sesame')['train']\n",
    "    for i in tqdm(indices):\n",
    "        data = dataset[i]\n",
    "        reference_audio = data['reference_audio'] \n",
    "        reference_text = data['reference_text']\n",
    "        target_audio = data['target_audio']\n",
    "        target_text = data['target_text']\n",
    "        text = f'[S1] {reference_text}[S1] {target_text}'\n",
    "        encoder_l = len(list(text.encode('utf-8')))\n",
    "        files = [reference_audio, target_audio]\n",
    "        decoder_l = 0\n",
    "        for f in files:\n",
    "            new_f = new_path(f)\n",
    "            with open(new_f) as fopen:\n",
    "                d = json.load(fopen)\n",
    "            d = np.array(d)\n",
    "            if d.shape[1] != codebook_size:\n",
    "                d = d.T\n",
    "            decoder_l += d.shape[0]\n",
    "    \n",
    "        lengths.append({\n",
    "            'i': i,\n",
    "            'encoder_l': encoder_l,\n",
    "            'decoder_l': decoder_l\n",
    "        })\n",
    "    return lengths"
   ]
  },
  {
   "cell_type": "code",
   "execution_count": 4,
   "id": "5ebb96e1",
   "metadata": {},
   "outputs": [
    {
     "name": "stderr",
     "output_type": "stream",
     "text": [
      "100%|██████████████████████████████████████████████████████████████████████████████████████| 10/10 [00:00<00:00, 991.66it/s]\n"
     ]
    }
   ],
   "source": [
    "lengths = loop((range(10), 0))"
   ]
  },
  {
   "cell_type": "code",
   "execution_count": 5,
   "id": "46386ae5",
   "metadata": {},
   "outputs": [
    {
     "name": "stderr",
     "output_type": "stream",
     "text": [
      "100%|██████████████████████████████████████████████████████████████████████████████| 201343/201343 [03:47<00:00, 883.82it/s]\n",
      "100%|██████████████████████████████████████████████████████████████████████████████| 201343/201343 [03:51<00:00, 870.41it/s]\n",
      "100%|██████████████████████████████████████████████████████████████████████████████| 201343/201343 [03:51<00:00, 867.94it/s]\n",
      "100%|██████████████████████████████████████████████████████████████████████████████| 201343/201343 [03:51<00:00, 870.44it/s]\n",
      "100%|██████████████████████████████████████████████████████████████████████████████| 201343/201343 [03:50<00:00, 872.05it/s]\n",
      "100%|██████████████████████████████████████████████████████████████████████████████| 201343/201343 [03:52<00:00, 866.14it/s]\n",
      "100%|██████████████████████████████████████████████████████████████████████████████| 201343/201343 [03:50<00:00, 872.46it/s]\n",
      "100%|██████████████████████████████████████████████████████████████████████████████| 201343/201343 [03:53<00:00, 863.46it/s]\n",
      "100%|██████████████████████████████████████████████████████████████████████████████| 201343/201343 [03:52<00:00, 867.25it/s]\n",
      "100%|██████████████████████████████████████████████████████████████████████████████| 201343/201343 [03:53<00:00, 862.95it/s]\n",
      "100%|██████████████████████████████████████████████████████████████████████████████| 201343/201343 [03:52<00:00, 865.28it/s]\n",
      "100%|██████████████████████████████████████████████████████████████████████████████| 201343/201343 [03:52<00:00, 865.03it/s]\n",
      "100%|██████████████████████████████████████████████████████████████████████████████| 201343/201343 [03:53<00:00, 862.52it/s]\n",
      "100%|██████████████████████████████████████████████████████████████████████████████| 201343/201343 [03:53<00:00, 861.68it/s]\n",
      "100%|██████████████████████████████████████████████████████████████████████████████| 201343/201343 [03:53<00:00, 860.99it/s]\n",
      "100%|██████████████████████████████████████████████████████████████████████████████| 201343/201343 [03:55<00:00, 856.58it/s]\n",
      "100%|██████████████████████████████████████████████████████████████████████████████| 201343/201343 [03:57<00:00, 848.76it/s]\n",
      "100%|█████████████████████████████████████████████████████████████████████████████████████| 10/10 [00:00<00:00, 1090.05it/s]\n",
      "100%|██████████████████████████████████████████████████████████████████████████████| 201343/201343 [03:57<00:00, 849.31it/s]\n",
      "100%|██████████████████████████████████████████████████████████████████████████████| 201343/201343 [03:57<00:00, 847.85it/s]\n",
      "100%|██████████████████████████████████████████████████████████████████████████████| 201343/201343 [03:57<00:00, 849.40it/s]\n"
     ]
    }
   ],
   "source": [
    "lengths = multiprocessing(range(len(dataset)), loop, cores = 20)"
   ]
  },
  {
   "cell_type": "code",
   "execution_count": 6,
   "id": "c9d4d084",
   "metadata": {},
   "outputs": [],
   "source": [
    "rows = sorted(lengths, key = lambda x: x['decoder_l'])"
   ]
  },
  {
   "cell_type": "code",
   "execution_count": 7,
   "id": "f0333a5a",
   "metadata": {},
   "outputs": [
    {
     "data": {
      "text/plain": [
       "{'i': 4022448, 'encoder_l': 940, 'decoder_l': 5168}"
      ]
     },
     "execution_count": 7,
     "metadata": {},
     "output_type": "execute_result"
    }
   ],
   "source": [
    "rows[-1]"
   ]
  },
  {
   "cell_type": "code",
   "execution_count": 8,
   "id": "4f736e0c",
   "metadata": {
    "scrolled": true
   },
   "outputs": [
    {
     "name": "stderr",
     "output_type": "stream",
     "text": [
      "100%|█████████████████████████████████████████████████████████████████████████| 4026870/4026870 [00:10<00:00, 382400.75it/s]\n"
     ]
    }
   ],
   "source": [
    "maxlen = 4096\n",
    "maxlen_encoder = 0\n",
    "data, temp, l, l_encoder = [], [], 0, 0\n",
    "for r in tqdm(rows):\n",
    "    if r['decoder_l'] > maxlen:\n",
    "        continue\n",
    "        \n",
    "    if l + r['decoder_l'] >= maxlen:\n",
    "        data.append(temp)\n",
    "        temp = [r['i']]\n",
    "        maxlen_encoder = max(maxlen_encoder, l_encoder)\n",
    "        l = r['decoder_l']\n",
    "        l_encoder = r['encoder_l']\n",
    "    else:\n",
    "        l += r['decoder_l']\n",
    "        l_encoder += r['encoder_l']\n",
    "        temp.append(r['i'])"
   ]
  },
  {
   "cell_type": "code",
   "execution_count": 9,
   "id": "3cea55a4",
   "metadata": {},
   "outputs": [
    {
     "data": {
      "text/plain": [
       "1576"
      ]
     },
     "execution_count": 9,
     "metadata": {},
     "output_type": "execute_result"
    }
   ],
   "source": [
    "maxlen_encoder"
   ]
  },
  {
   "cell_type": "code",
   "execution_count": 10,
   "id": "3a34d138",
   "metadata": {},
   "outputs": [
    {
     "data": {
      "text/plain": [
       "1983156"
      ]
     },
     "execution_count": 10,
     "metadata": {},
     "output_type": "execute_result"
    }
   ],
   "source": [
    "len(data)"
   ]
  },
  {
   "cell_type": "code",
   "execution_count": 11,
   "id": "77dbfdd6",
   "metadata": {},
   "outputs": [
    {
     "data": {
      "text/plain": [
       "{'reference_audio': 'dialects_processed/14 NOVEMBER 2024 - BERITA PAGI SARAWAK [AWYuJFkJm5Q]/14 NOVEMBER 2024 - BERITA PAGI SARAWAK [AWYuJFkJm5Q]_9.mp3',\n",
       " 'reference_text': 'pelajar mengikut kaum bagi kedua YSISS Petra Jaya dan YSISS Kuching adalah terdiri daripada Melayu 36.2%, Bidayah 19.1%, Iban 18.7%, Cina 12.2%, Melanau 7.9%, Orang Ulu 3.7%, dan 2.2% daripada pelbagai kaum yang lain. Empat lagi YSISS akan dibuka, iaitu di Sibu, Betong, Miri, dan Bintulu',\n",
       " 'target_audio': 'dialects_processed/14 NOVEMBER 2024 - BERITA PAGI SARAWAK [AWYuJFkJm5Q]/14 NOVEMBER 2024 - BERITA PAGI SARAWAK [AWYuJFkJm5Q]_12.mp3',\n",
       " 'target_text': 'Agensi Anti Dadah Kebangsaan AADK Sarawak dan Lembaga Sumber Asli dan Alam Sekitar NREB telah mengadakan operasi gerak kebangsaan semalam. Problem diadakan di stesen penguatkuasaan JPJ Jalan Kucing Serian itu melibatkan sekatan jalan raya, pemeriksaan pelepasan asap,'}"
      ]
     },
     "execution_count": 11,
     "metadata": {},
     "output_type": "execute_result"
    }
   ],
   "source": [
    "dataset[data[-1][0]]"
   ]
  },
  {
   "cell_type": "code",
   "execution_count": 15,
   "id": "1206a940",
   "metadata": {},
   "outputs": [],
   "source": [
    "import json\n",
    "\n",
    "with open('merged-dia-4096.json', 'w') as fopen:\n",
    "    json.dump(data, fopen)"
   ]
  },
  {
   "cell_type": "code",
   "execution_count": 16,
   "id": "12f38269",
   "metadata": {},
   "outputs": [
    {
     "data": {
      "application/vnd.jupyter.widget-view+json": {
       "model_id": "8606a744dfb94ef8a5afc1e8d0fc05db",
       "version_major": 2,
       "version_minor": 0
      },
      "text/plain": [
       "merged-dia-4096.json:   0%|          | 0.00/38.9M [00:00<?, ?B/s]"
      ]
     },
     "metadata": {},
     "output_type": "display_data"
    },
    {
     "data": {
      "text/plain": [
       "CommitInfo(commit_url='https://huggingface.co/datasets/mesolitica/Malaysian-Emilia-Audio-Tokens/commit/e9df12dc61fa266982f2856c0ac359ae71963732', commit_message='Upload merged-dia-4096.json with huggingface_hub', commit_description='', oid='e9df12dc61fa266982f2856c0ac359ae71963732', pr_url=None, repo_url=RepoUrl('https://huggingface.co/datasets/mesolitica/Malaysian-Emilia-Audio-Tokens', endpoint='https://huggingface.co', repo_type='dataset', repo_id='mesolitica/Malaysian-Emilia-Audio-Tokens'), pr_revision=None, pr_num=None)"
      ]
     },
     "execution_count": 16,
     "metadata": {},
     "output_type": "execute_result"
    }
   ],
   "source": [
    "from huggingface_hub import HfApi\n",
    "api = HfApi()\n",
    "api.upload_file(\n",
    "    path_or_fileobj=\"merged-dia-4096.json\",\n",
    "    path_in_repo=\"merged-dia-4096.json\",\n",
    "    repo_id=\"mesolitica/Malaysian-Emilia-Audio-Tokens\",\n",
    "    repo_type=\"dataset\",\n",
    ")"
   ]
  }
 ],
 "metadata": {
  "kernelspec": {
   "display_name": "Python 3 (ipykernel)",
   "language": "python",
   "name": "python3"
  },
  "language_info": {
   "codemirror_mode": {
    "name": "ipython",
    "version": 3
   },
   "file_extension": ".py",
   "mimetype": "text/x-python",
   "name": "python",
   "nbconvert_exporter": "python",
   "pygments_lexer": "ipython3",
   "version": "3.10.12"
  }
 },
 "nbformat": 4,
 "nbformat_minor": 5
}
