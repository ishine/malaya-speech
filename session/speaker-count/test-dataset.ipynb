{
 "cells": [
  {
   "cell_type": "code",
   "execution_count": 1,
   "metadata": {},
   "outputs": [
    {
     "name": "stderr",
     "output_type": "stream",
     "text": [
      "`pyaudio` is not available, `malaya_speech.streaming.pyaudio` is not able to use.\n"
     ]
    }
   ],
   "source": [
    "from collections import namedtuple\n",
    "from datasets import Audio\n",
    "from glob import glob\n",
    "import numpy as np\n",
    "import torch\n",
    "import malaya_speech\n",
    "import malaya_speech.augmentation.waveform as augmentation\n",
    "import random\n",
    "import os"
   ]
  },
  {
   "cell_type": "code",
   "execution_count": 2,
   "metadata": {},
   "outputs": [],
   "source": [
    "Batch = namedtuple(\"Batch\", [\"features\", 'features_length', \"targets\"])\n",
    "\n",
    "labels = [\n",
    "    '0 speaker',\n",
    "    '1 speaker',\n",
    "    '2 speakers',\n",
    "    '3 speakers',\n",
    "    '4 speakers',\n",
    "    '5 speakers',\n",
    "    'more than 5 speakers',\n",
    "]"
   ]
  },
  {
   "cell_type": "code",
   "execution_count": 15,
   "metadata": {},
   "outputs": [],
   "source": [
    "class Dataset(torch.utils.data.IterableDataset):\n",
    "\n",
    "    sr = 16000\n",
    "\n",
    "    def __init__(self):\n",
    "        super(Dataset).__init__()\n",
    "\n",
    "        files = random.sample(glob('/home/husein/ssd2/LibriSpeech/*/*/*/*.flac'), 10000)\n",
    "        edge_tts = random.sample(glob('/home/husein/ssd2/*-tts-wav/*.wav'), 10000)\n",
    "        wavenet = random.sample(glob('/home/husein/ssd2/ms-MY-Wavenet-*/*.mp3'), 10000)\n",
    "        musan_speech = glob('/home/husein/ssd2/noise/musan/speech/*/*')\n",
    "        vctk = random.sample(glob('/home/husein/ssd2/wav48_silence_trimmed/*/*.flac'), 10000)\n",
    "        mandarin = random.sample(glob('/home/husein/ssd3/ST-CMDS-20170001_1-OS/*.wav'), 10000)\n",
    "\n",
    "        speeches = files + edge_tts + wavenet + musan_speech + vctk + mandarin\n",
    "        random.shuffle(speeches)\n",
    "        self.speeches = speeches\n",
    "\n",
    "        mic_noise = glob('/home/husein/ssd2/noise/mic-noise/*')\n",
    "        non_speech = glob('/home/husein/ssd2/noise/Nonspeech/*')\n",
    "        musan_noise = glob('/home/husein/ssd2/noise/musan/noise/*/*.wav')\n",
    "        musan_music = glob('/home/husein/ssd2/noise/musan/music/*/*.wav')\n",
    "        noises = mic_noise + non_speech + musan_noise + musan_music\n",
    "        noises = [f for f in noises if os.path.getsize(f) / 1e6 < 10]\n",
    "        random.shuffle(noises)\n",
    "        self.noises = noises\n",
    "\n",
    "        self.audio = Audio(sampling_rate=self.sr)\n",
    "\n",
    "        self.frame_size = 300\n",
    "        self.repeat = 2\n",
    "        \n",
    "    def random_sampling(self, s, length):\n",
    "        return augmentation.random_sampling(s, sr=self.sr, length=length)\n",
    "    \n",
    "    def read_positive(self, f):\n",
    "        y = self.audio.decode_example(self.audio.encode_example(f))['array']\n",
    "        y = malaya_speech.augmentation.waveform.random_pitch(y)\n",
    "        y_int = malaya_speech.astype.float_to_int(y)\n",
    "        vad = malaya_speech.vad.webrtc(\n",
    "                minimum_amplitude=int(\n",
    "                    np.quantile(\n",
    "                        np.abs(y_int), 0.3)))\n",
    "        frames_int = malaya_speech.generator.frames(y_int, 30, self.sr, False)\n",
    "        frames = malaya_speech.generator.frames(y, 30, self.sr, False)\n",
    "        frames = [(frames[no], vad(frame)) for no, frame in enumerate(frames_int)]\n",
    "        grouped = malaya_speech.group.group_frames(frames)\n",
    "        grouped = [g[0].array for g in grouped if g[1]]\n",
    "        return np.concatenate(grouped)\n",
    "    \n",
    "    def combine(self, w_samples):\n",
    "        min_len = min([len(s) for s in w_samples])\n",
    "        min_len = int((min_len / 16000) * 1000)\n",
    "        left = np.sum([self.random_sampling(s, min_len) for s in w_samples], axis = 0)\n",
    "        left = left / np.max(np.abs(left))\n",
    "        return left\n",
    "    \n",
    "    def __iter__(self):\n",
    "        while True:\n",
    "            queue = []\n",
    "            while len(queue) < 200:\n",
    "                count = random.randint(0, 6)\n",
    "                if count == 0:\n",
    "                    combined = random.sample(self.noises, random.randint(1, 5))\n",
    "                    ys = [self.audio.decode_example(self.audio.encode_example(f))['array'] for f in combined]\n",
    "                else:\n",
    "                    if count == 6:\n",
    "                        count = random.randint(6, 10)\n",
    "                    combined = random.sample(self.speeches, count)\n",
    "                    ys = [self.read_positive(f) for f in combined]\n",
    "\n",
    "                if count > 5:\n",
    "                    label = 'more than 5 speakers'\n",
    "                elif count > 1:\n",
    "                    label = f'{count} speakers'\n",
    "                else:\n",
    "                    label = f'{count} speaker'\n",
    "\n",
    "                n = len(combined)\n",
    "                w_samples = [\n",
    "                    self.random_sampling(y, length=random.randint(500, max(10000 // n, 5000)))\n",
    "                    for y in ys\n",
    "                ]\n",
    "\n",
    "                X = self.combine(w_samples)\n",
    "                fs = malaya_speech.generator.frames(X, self.frame_size, self.sr, append_ending_trail = False)\n",
    "                for fs_ in fs:\n",
    "                    queue.append((fs_.array, labels.index(label)))\n",
    "            \n",
    "            for _ in range(self.repeat):\n",
    "                random.shuffle(queue)\n",
    "                for r in queue:\n",
    "                    yield torch.tensor(r[0], dtype=torch.float32), r[1]"
   ]
  },
  {
   "cell_type": "code",
   "execution_count": 16,
   "metadata": {},
   "outputs": [],
   "source": [
    "dataset = Dataset()"
   ]
  },
  {
   "cell_type": "code",
   "execution_count": null,
   "metadata": {},
   "outputs": [],
   "source": [
    "i = iter(dataset)"
   ]
  },
  {
   "cell_type": "code",
   "execution_count": null,
   "metadata": {},
   "outputs": [],
   "source": [
    "next(i)"
   ]
  },
  {
   "cell_type": "code",
   "execution_count": 17,
   "metadata": {},
   "outputs": [],
   "source": [
    "def batch(batches):\n",
    "\n",
    "    features = torch.nn.utils.rnn.pad_sequence([b[0] for b in batches], batch_first=True)\n",
    "    features_length = torch.tensor([len(b[0]) for b in batches], dtype=torch.int32)\n",
    "    targets = torch.tensor([b[1] for b in batches], dtype=torch.int64)\n",
    "    return Batch(features, features_length, targets)"
   ]
  },
  {
   "cell_type": "code",
   "execution_count": 18,
   "metadata": {},
   "outputs": [],
   "source": [
    "batch_size = 10\n",
    "loader = torch.utils.data.DataLoader(dataset, batch_size=batch_size, collate_fn=batch)"
   ]
  },
  {
   "cell_type": "code",
   "execution_count": 19,
   "metadata": {},
   "outputs": [],
   "source": [
    "ii = iter(loader)"
   ]
  },
  {
   "cell_type": "code",
   "execution_count": 21,
   "metadata": {},
   "outputs": [],
   "source": [
    "o = next(ii)"
   ]
  },
  {
   "cell_type": "code",
   "execution_count": 24,
   "metadata": {},
   "outputs": [
    {
     "data": {
      "text/plain": [
       "torch.Size([10, 4000])"
      ]
     },
     "execution_count": 24,
     "metadata": {},
     "output_type": "execute_result"
    }
   ],
   "source": [
    "o.features.shape"
   ]
  },
  {
   "cell_type": "code",
   "execution_count": 34,
   "metadata": {},
   "outputs": [
    {
     "data": {
      "text/html": [
       "\n",
       "                <audio  controls=\"controls\" >\n",
       "                    <source src=\"data:audio/wav;base64,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\" type=\"audio/wav\" />\n",
       "                    Your browser does not support the audio element.\n",
       "                </audio>\n",
       "              "
      ],
      "text/plain": [
       "<IPython.lib.display.Audio object>"
      ]
     },
     "execution_count": 34,
     "metadata": {},
     "output_type": "execute_result"
    }
   ],
   "source": [
    "import IPython.display as ipd\n",
    "ipd.Audio(o.features[5].numpy(), rate = 16000)"
   ]
  },
  {
   "cell_type": "code",
   "execution_count": 30,
   "metadata": {},
   "outputs": [
    {
     "data": {
      "text/plain": [
       "Batch(features=tensor([[-0.2235, -0.1727, -0.1131,  ...,  0.1423,  0.1230,  0.1278],\n",
       "        [-0.0396, -0.0998, -0.1763,  ...,  0.0115,  0.0500,  0.0866],\n",
       "        [-0.0460, -0.0502, -0.0257,  ...,  0.3644,  0.3021,  0.2202],\n",
       "        ...,\n",
       "        [-0.3947, -0.4092, -0.4155,  ...,  0.1173,  0.1215,  0.1398],\n",
       "        [-0.2395, -0.2020, -0.1823,  ...,  0.2857,  0.1889,  0.2729],\n",
       "        [ 0.2923,  0.3157,  0.3311,  ..., -0.0214, -0.0319, -0.0342]]), features_length=tensor([4000, 4000, 4000, 4000, 4000, 4000, 4000, 4000, 4000, 4000],\n",
       "       dtype=torch.int32), targets=tensor([0, 6, 1, 1, 1, 4, 1, 3, 4, 1]))"
      ]
     },
     "execution_count": 30,
     "metadata": {},
     "output_type": "execute_result"
    }
   ],
   "source": [
    "o"
   ]
  },
  {
   "cell_type": "code",
   "execution_count": null,
   "metadata": {},
   "outputs": [],
   "source": []
  }
 ],
 "metadata": {
  "kernelspec": {
   "display_name": "Python 3 (ipykernel)",
   "language": "python",
   "name": "python3"
  },
  "language_info": {
   "codemirror_mode": {
    "name": "ipython",
    "version": 3
   },
   "file_extension": ".py",
   "mimetype": "text/x-python",
   "name": "python",
   "nbconvert_exporter": "python",
   "pygments_lexer": "ipython3",
   "version": "3.8.10"
  }
 },
 "nbformat": 4,
 "nbformat_minor": 4
}
