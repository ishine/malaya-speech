{
 "cells": [
  {
   "cell_type": "code",
   "execution_count": 1,
   "id": "22fd12ab-93a2-4aed-86ce-1f773e518e8f",
   "metadata": {},
   "outputs": [],
   "source": [
    "import os\n",
    "\n",
    "os.environ['CUDA_VISIBLE_DEVICES'] = ''"
   ]
  },
  {
   "cell_type": "code",
   "execution_count": 3,
   "id": "e2006dcb-dd6a-4b8a-8589-4e2e4ede09b5",
   "metadata": {},
   "outputs": [
    {
     "name": "stdout",
     "output_type": "stream",
     "text": [
      "model_1200000.pt  model_5000.pt  model_last.pt\tsamples\n"
     ]
    }
   ],
   "source": [
    "!ls ckpts/F5TTS_Base"
   ]
  },
  {
   "cell_type": "code",
   "execution_count": 4,
   "id": "7ed4d5ff-6116-4bc7-af7e-bdf025572731",
   "metadata": {
    "scrolled": true
   },
   "outputs": [
    {
     "name": "stderr",
     "output_type": "stream",
     "text": [
      "/tmp/ipykernel_17635/4224174888.py:3: FutureWarning: You are using `torch.load` with `weights_only=False` (the current default value), which uses the default pickle module implicitly. It is possible to construct malicious pickle data which will execute arbitrary code during unpickling (See https://github.com/pytorch/pytorch/blob/main/SECURITY.md#untrusted-models for more details). In a future release, the default value for `weights_only` will be flipped to `True`. This limits the functions that could be executed during unpickling. Arbitrary objects will no longer be allowed to be loaded via this mode unless they are explicitly allowlisted by the user via `torch.serialization.add_safe_globals`. We recommend you start setting `weights_only=True` for any use case where you don't have full control of the loaded file. Please open an issue on GitHub for any issues related to this experimental feature.\n",
      "  c = torch.load('ckpts/F5TTS_Base/model_5000.pt', map_location='cpu')\n"
     ]
    }
   ],
   "source": [
    "import torch\n",
    "\n",
    "c = torch.load('ckpts/F5TTS_Base/model_5000.pt', map_location='cpu')\n",
    "keys_to_keep = ['ema_model_state_dict']\n",
    "c = {key: c[key] for key in keys_to_keep if key in c}\n",
    "torch.save(c, 'model_last.pth')"
   ]
  },
  {
   "cell_type": "code",
   "execution_count": 7,
   "id": "03abddbb-cdc0-4f68-9879-07636e62832f",
   "metadata": {},
   "outputs": [
    {
     "data": {
      "application/vnd.jupyter.widget-view+json": {
       "model_id": "9c249c8bd09b4e11ae296732e6beab53",
       "version_major": 2,
       "version_minor": 0
      },
      "text/plain": [
       "model_last.pth:   0%|          | 0.00/1.35G [00:00<?, ?B/s]"
      ]
     },
     "metadata": {},
     "output_type": "display_data"
    },
    {
     "data": {
      "text/plain": [
       "CommitInfo(commit_url='https://huggingface.co/mesolitica/Malaysian-F5-TTS-v2/commit/11e4e47c11b0a7a2f1f2016407230dd70475e79f', commit_message='Upload model_last.pt with huggingface_hub', commit_description='', oid='11e4e47c11b0a7a2f1f2016407230dd70475e79f', pr_url=None, repo_url=RepoUrl('https://huggingface.co/mesolitica/Malaysian-F5-TTS-v2', endpoint='https://huggingface.co', repo_type='model', repo_id='mesolitica/Malaysian-F5-TTS-v2'), pr_revision=None, pr_num=None)"
      ]
     },
     "execution_count": 7,
     "metadata": {},
     "output_type": "execute_result"
    }
   ],
   "source": [
    "from huggingface_hub import HfApi\n",
    "api = HfApi()\n",
    "api.upload_file(\n",
    "    path_or_fileobj=\"model_last.pth\",\n",
    "    path_in_repo=\"model_last.pt\",\n",
    "    repo_id=\"mesolitica/Malaysian-F5-TTS-v2\",\n",
    ")"
   ]
  },
  {
   "cell_type": "code",
   "execution_count": 8,
   "id": "78c8fc25-4516-4067-a13c-c15ca4925dcf",
   "metadata": {},
   "outputs": [
    {
     "data": {
      "text/plain": [
       "CommitInfo(commit_url='https://huggingface.co/mesolitica/Malaysian-F5-TTS-v2/commit/872130ecdb1710bac1c3015d9a0d0b9b255d2d77', commit_message='Upload vocab.txt with huggingface_hub', commit_description='', oid='872130ecdb1710bac1c3015d9a0d0b9b255d2d77', pr_url=None, repo_url=RepoUrl('https://huggingface.co/mesolitica/Malaysian-F5-TTS-v2', endpoint='https://huggingface.co', repo_type='model', repo_id='mesolitica/Malaysian-F5-TTS-v2'), pr_revision=None, pr_num=None)"
      ]
     },
     "execution_count": 8,
     "metadata": {},
     "output_type": "execute_result"
    }
   ],
   "source": [
    "api.upload_file(\n",
    "    path_or_fileobj=\"data/Emilia_Malaysian_pinyin/vocab.txt\",\n",
    "    path_in_repo=\"vocab.txt\",\n",
    "    repo_id=\"mesolitica/Malaysian-F5-TTS-v2\",\n",
    ")"
   ]
  },
  {
   "cell_type": "code",
   "execution_count": 9,
   "id": "56c7cd0f-f767-4efc-bbec-97fffd188e9b",
   "metadata": {},
   "outputs": [
    {
     "data": {
      "text/plain": [
       "CommitInfo(commit_url='https://huggingface.co/mesolitica/Malaysian-F5-TTS-v2/commit/6f595a63df6b00b200d2dd404a33863597ee56f1', commit_message='Upload folder using huggingface_hub', commit_description='', oid='6f595a63df6b00b200d2dd404a33863597ee56f1', pr_url=None, repo_url=RepoUrl('https://huggingface.co/mesolitica/Malaysian-F5-TTS-v2', endpoint='https://huggingface.co', repo_type='model', repo_id='mesolitica/Malaysian-F5-TTS-v2'), pr_revision=None, pr_num=None)"
      ]
     },
     "execution_count": 9,
     "metadata": {},
     "output_type": "execute_result"
    }
   ],
   "source": [
    "api.upload_folder(\n",
    "    folder_path=\"ckpts/F5TTS_Base/samples\",\n",
    "    path_in_repo=\"samples\",\n",
    "    repo_id=\"mesolitica/Malaysian-F5-TTS-v2\",\n",
    ")"
   ]
  },
  {
   "cell_type": "code",
   "execution_count": null,
   "id": "511841b5-8f17-42bb-b742-3cc040c0df7c",
   "metadata": {},
   "outputs": [],
   "source": []
  }
 ],
 "metadata": {
  "kernelspec": {
   "display_name": "Python 3 (ipykernel)",
   "language": "python",
   "name": "python3"
  },
  "language_info": {
   "codemirror_mode": {
    "name": "ipython",
    "version": 3
   },
   "file_extension": ".py",
   "mimetype": "text/x-python",
   "name": "python",
   "nbconvert_exporter": "python",
   "pygments_lexer": "ipython3",
   "version": "3.11.10"
  }
 },
 "nbformat": 4,
 "nbformat_minor": 5
}
