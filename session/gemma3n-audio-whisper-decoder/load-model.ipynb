{
 "cells": [
  {
   "cell_type": "code",
   "execution_count": 1,
   "id": "c7997ebe",
   "metadata": {},
   "outputs": [],
   "source": [
    "import os\n",
    "\n",
    "os.environ['CUDA_VISIBLE_DEVICES'] = '2'"
   ]
  },
  {
   "cell_type": "code",
   "execution_count": 2,
   "id": "732e4d29",
   "metadata": {},
   "outputs": [
    {
     "data": {
      "text/plain": [
       "<torch.autograd.grad_mode.set_grad_enabled at 0x7fe7ddf92a10>"
      ]
     },
     "execution_count": 2,
     "metadata": {},
     "output_type": "execute_result"
    }
   ],
   "source": [
    "from gemma_whisper import GemmaWhisperForConditionalGeneration\n",
    "from transformers import AutoFeatureExtractor, AutoTokenizer, AutoProcessor\n",
    "import librosa\n",
    "import torch\n",
    "\n",
    "torch.set_grad_enabled(False)"
   ]
  },
  {
   "cell_type": "code",
   "execution_count": 3,
   "id": "6e3c2f67",
   "metadata": {},
   "outputs": [],
   "source": [
    "GemmaWhisperForConditionalGeneration.register_for_auto_class(\"AutoModel\")"
   ]
  },
  {
   "cell_type": "code",
   "execution_count": 4,
   "id": "3191f223",
   "metadata": {},
   "outputs": [
    {
     "name": "stdout",
     "output_type": "stream",
     "text": [
      "checkpoint-112000  checkpoint-112500  checkpoint-113000  runs\r\n"
     ]
    }
   ],
   "source": [
    "!ls gemma3n-audio-whisper-decoder-v2"
   ]
  },
  {
   "cell_type": "code",
   "execution_count": 5,
   "id": "a0ace0be",
   "metadata": {},
   "outputs": [],
   "source": [
    "model = GemmaWhisperForConditionalGeneration.from_pretrained(\n",
    "    'gemma3n-audio-whisper-decoder-v2/checkpoint-113000', torch_dtype = 'auto')"
   ]
  },
  {
   "cell_type": "code",
   "execution_count": 6,
   "id": "c9113662",
   "metadata": {},
   "outputs": [],
   "source": [
    "_ = model.cuda()"
   ]
  },
  {
   "cell_type": "code",
   "execution_count": 7,
   "id": "636c87c8",
   "metadata": {
    "scrolled": true
   },
   "outputs": [],
   "source": [
    "feature_extractor = AutoFeatureExtractor.from_pretrained('mesolitica/gemma-3n-e4b-it-audio-encoder')\n",
    "tokenizer = AutoTokenizer.from_pretrained('openai/whisper-large-v3-turbo')\n",
    "processor = AutoProcessor.from_pretrained('openai/whisper-large-v3-turbo')"
   ]
  },
  {
   "cell_type": "code",
   "execution_count": 8,
   "id": "95f6c12f",
   "metadata": {},
   "outputs": [],
   "source": [
    "from streaming import MDSWriter, LocalDataset\n",
    "\n",
    "dataset = LocalDataset('mosaic-stt')"
   ]
  },
  {
   "cell_type": "code",
   "execution_count": 11,
   "id": "b4bceccc",
   "metadata": {},
   "outputs": [
    {
     "data": {
      "text/plain": [
       "('<|startoftranscript|>Sopra le scarpe il nuove, prima o poi ci più ave.<|endoftext|>',\n",
       " 'Sopra le scarpe nuove, prima o poi ci piove.')"
      ]
     },
     "execution_count": 11,
     "metadata": {},
     "output_type": "execute_result"
    }
   ],
   "source": [
    "i = 4000003\n",
    "y, sr = librosa.load(dataset[i]['audio_filename'], sr = feature_extractor.sampling_rate)\n",
    "input_ids = tokenizer(\n",
    "    '<|startoftranscript|>', \n",
    "    add_special_tokens = False, return_tensors = 'pt')['input_ids']\n",
    "features = feature_extractor([y], return_tensors = 'pt')\n",
    "features['input_features'] = features['input_features'].cuda()\n",
    "features['input_features_mask'] = features['input_features_mask'].cuda()\n",
    "features['attention_mask'] = features['input_features_mask']\n",
    "features['decoder_input_ids'] = input_ids.cuda()\n",
    "generate_kwargs = dict(\n",
    "    **features,\n",
    "    max_new_tokens=1024,\n",
    "    temperature=0.6,\n",
    "    do_sample=True\n",
    ")\n",
    "generation_output = model.generate(**generate_kwargs)\n",
    "tokenizer.decode(generation_output[0]), dataset[i]['text']"
   ]
  },
  {
   "cell_type": "code",
   "execution_count": null,
   "id": "72f4036e",
   "metadata": {},
   "outputs": [],
   "source": [
    "model.push_to_hub('mesolitica/gemma3n-audio-encoder-whisper-decoder')"
   ]
  },
  {
   "cell_type": "code",
   "execution_count": null,
   "id": "2a7eaf07",
   "metadata": {},
   "outputs": [],
   "source": [
    "tokenizer.push_to_hub('mesolitica/gemma3n-audio-encoder-whisper-decoder')"
   ]
  },
  {
   "cell_type": "code",
   "execution_count": null,
   "id": "37f3a01e",
   "metadata": {},
   "outputs": [],
   "source": [
    "feature_extractor.push_to_hub('mesolitica/gemma3n-audio-encoder-whisper-decoder')"
   ]
  },
  {
   "cell_type": "code",
   "execution_count": null,
   "id": "46190132",
   "metadata": {},
   "outputs": [],
   "source": []
  }
 ],
 "metadata": {
  "kernelspec": {
   "display_name": "python3.10",
   "language": "python",
   "name": "python3.10"
  },
  "language_info": {
   "codemirror_mode": {
    "name": "ipython",
    "version": 3
   },
   "file_extension": ".py",
   "mimetype": "text/x-python",
   "name": "python",
   "nbconvert_exporter": "python",
   "pygments_lexer": "ipython3",
   "version": "3.10.17"
  }
 },
 "nbformat": 4,
 "nbformat_minor": 5
}
