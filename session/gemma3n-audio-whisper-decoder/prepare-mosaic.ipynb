{
 "cells": [
  {
   "cell_type": "code",
   "execution_count": 1,
   "id": "c781d632",
   "metadata": {},
   "outputs": [
    {
     "data": {
      "application/vnd.jupyter.widget-view+json": {
       "model_id": "ab534a4a8ab1444e98f3cb23d19ad0cb",
       "version_major": 2,
       "version_minor": 0
      },
      "text/plain": [
       "README.md: 0.00B [00:00, ?B/s]"
      ]
     },
     "metadata": {},
     "output_type": "display_data"
    },
    {
     "data": {
      "application/vnd.jupyter.widget-view+json": {
       "model_id": "808c012e4c80424f92341fbe42e12d51",
       "version_major": 2,
       "version_minor": 0
      },
      "text/plain": [
       "data/train-00000-of-00006.parquet:   0%|          | 0.00/145M [00:00<?, ?B/s]"
      ]
     },
     "metadata": {},
     "output_type": "display_data"
    },
    {
     "data": {
      "application/vnd.jupyter.widget-view+json": {
       "model_id": "0108dcaf8c324f35bb1e880c4725c7bd",
       "version_major": 2,
       "version_minor": 0
      },
      "text/plain": [
       "data/train-00001-of-00006.parquet:   0%|          | 0.00/147M [00:00<?, ?B/s]"
      ]
     },
     "metadata": {},
     "output_type": "display_data"
    },
    {
     "data": {
      "application/vnd.jupyter.widget-view+json": {
       "model_id": "9ca1d8a0d517418794f2d5dfcac4b4d8",
       "version_major": 2,
       "version_minor": 0
      },
      "text/plain": [
       "data/train-00002-of-00006.parquet:   0%|          | 0.00/146M [00:00<?, ?B/s]"
      ]
     },
     "metadata": {},
     "output_type": "display_data"
    },
    {
     "data": {
      "application/vnd.jupyter.widget-view+json": {
       "model_id": "ae2c79756553453daf48babb6edd9adf",
       "version_major": 2,
       "version_minor": 0
      },
      "text/plain": [
       "data/train-00003-of-00006.parquet:   0%|          | 0.00/150M [00:00<?, ?B/s]"
      ]
     },
     "metadata": {},
     "output_type": "display_data"
    },
    {
     "data": {
      "application/vnd.jupyter.widget-view+json": {
       "model_id": "f8892869e8ad47ba819b448300e635d6",
       "version_major": 2,
       "version_minor": 0
      },
      "text/plain": [
       "data/train-00004-of-00006.parquet:   0%|          | 0.00/147M [00:00<?, ?B/s]"
      ]
     },
     "metadata": {},
     "output_type": "display_data"
    },
    {
     "data": {
      "application/vnd.jupyter.widget-view+json": {
       "model_id": "5a4b49389852450090a3d8412b642ebb",
       "version_major": 2,
       "version_minor": 0
      },
      "text/plain": [
       "data/train-00005-of-00006.parquet:   0%|          | 0.00/145M [00:00<?, ?B/s]"
      ]
     },
     "metadata": {},
     "output_type": "display_data"
    },
    {
     "data": {
      "application/vnd.jupyter.widget-view+json": {
       "model_id": "61aaa5b71f5842e2bdeb7b5ffa79aa71",
       "version_major": 2,
       "version_minor": 0
      },
      "text/plain": [
       "data/test-00000-of-00001.parquet:   0%|          | 0.00/84.5M [00:00<?, ?B/s]"
      ]
     },
     "metadata": {},
     "output_type": "display_data"
    },
    {
     "data": {
      "application/vnd.jupyter.widget-view+json": {
       "model_id": "4e1918575fe24446b42f6c8ad90b6eb9",
       "version_major": 2,
       "version_minor": 0
      },
      "text/plain": [
       "data/dev-00000-of-00001.parquet:   0%|          | 0.00/72.1M [00:00<?, ?B/s]"
      ]
     },
     "metadata": {},
     "output_type": "display_data"
    },
    {
     "data": {
      "application/vnd.jupyter.widget-view+json": {
       "model_id": "23ad9143f1ae4ba7ae23a1438e778802",
       "version_major": 2,
       "version_minor": 0
      },
      "text/plain": [
       "Generating train split:   0%|          | 0/6689550 [00:00<?, ? examples/s]"
      ]
     },
     "metadata": {},
     "output_type": "display_data"
    },
    {
     "data": {
      "application/vnd.jupyter.widget-view+json": {
       "model_id": "9727bdc5b68745ccad0ebef3b9164bdc",
       "version_major": 2,
       "version_minor": 0
      },
      "text/plain": [
       "Generating test split:   0%|          | 0/533642 [00:00<?, ? examples/s]"
      ]
     },
     "metadata": {},
     "output_type": "display_data"
    },
    {
     "data": {
      "application/vnd.jupyter.widget-view+json": {
       "model_id": "086f7878fe7547ef807e6209697fa1da",
       "version_major": 2,
       "version_minor": 0
      },
      "text/plain": [
       "Generating dev split:   0%|          | 0/507874 [00:00<?, ? examples/s]"
      ]
     },
     "metadata": {},
     "output_type": "display_data"
    }
   ],
   "source": [
    "from datasets import load_dataset\n",
    "\n",
    "ds = load_dataset(\"malaysia-ai/common_voice_17_0\")"
   ]
  },
  {
   "cell_type": "code",
   "execution_count": 4,
   "id": "a706c240",
   "metadata": {},
   "outputs": [],
   "source": [
    "df_train = ds['train'].to_pandas()"
   ]
  },
  {
   "cell_type": "code",
   "execution_count": 6,
   "id": "979597a4",
   "metadata": {},
   "outputs": [],
   "source": [
    "df_dev = ds['dev'].to_pandas()"
   ]
  },
  {
   "cell_type": "code",
   "execution_count": 15,
   "id": "6a574474",
   "metadata": {},
   "outputs": [],
   "source": [
    "!rm -rf mosaic-stt"
   ]
  },
  {
   "cell_type": "code",
   "execution_count": 16,
   "id": "2fcc00f1",
   "metadata": {},
   "outputs": [
    {
     "name": "stderr",
     "output_type": "stream",
     "text": [
      "100%|██████████████████████████████| 6689550/6689550 [06:13<00:00, 17908.58it/s]\n",
      "100%|████████████████████████████████| 507874/507874 [00:28<00:00, 18128.50it/s]\n"
     ]
    }
   ],
   "source": [
    "from streaming import MDSWriter, LocalDataset\n",
    "from tqdm import tqdm\n",
    "import os\n",
    "\n",
    "columns = {\n",
    "    'audio_filename': 'str',\n",
    "    'text': 'str',\n",
    "}\n",
    "hashes = 'sha1', 'xxh64'\n",
    "\n",
    "\n",
    "with MDSWriter(out='mosaic-stt', columns=columns, compression=None, hashes=hashes) as out:\n",
    "    \n",
    "    for i in tqdm(range(len(df_train))):\n",
    "        if not os.path.exists(df_train.iloc[i]['audio_filename']):\n",
    "            continue\n",
    "        \n",
    "        t = df_train['sentence'].iloc[i]\n",
    "            \n",
    "        if not isinstance(t, str):\n",
    "            continue\n",
    "        \n",
    "        if len(t) < 5:\n",
    "            continue\n",
    "            \n",
    "        out.write({\n",
    "            'audio_filename': df_train.iloc[i]['audio_filename'],\n",
    "            'text': t,\n",
    "        })\n",
    "    \n",
    "    for i in tqdm(range(len(df_dev))):\n",
    "        if not os.path.exists(df_dev.iloc[i]['audio_filename']):\n",
    "            continue\n",
    "        \n",
    "        t = df_dev['sentence'].iloc[i]\n",
    "            \n",
    "        if not isinstance(t, str):\n",
    "            continue\n",
    "        \n",
    "        if len(t) < 5:\n",
    "            continue\n",
    "            \n",
    "        out.write({\n",
    "            'audio_filename': df_dev.iloc[i]['audio_filename'],\n",
    "            'text': t,\n",
    "        })"
   ]
  }
 ],
 "metadata": {
  "kernelspec": {
   "display_name": "python3.10",
   "language": "python",
   "name": "python3.10"
  },
  "language_info": {
   "codemirror_mode": {
    "name": "ipython",
    "version": 3
   },
   "file_extension": ".py",
   "mimetype": "text/x-python",
   "name": "python",
   "nbconvert_exporter": "python",
   "pygments_lexer": "ipython3",
   "version": "3.10.17"
  }
 },
 "nbformat": 4,
 "nbformat_minor": 5
}
