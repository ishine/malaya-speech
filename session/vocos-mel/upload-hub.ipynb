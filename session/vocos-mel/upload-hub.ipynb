{
 "cells": [
  {
   "cell_type": "code",
   "execution_count": 4,
   "id": "fe5b925f",
   "metadata": {},
   "outputs": [
    {
     "data": {
      "text/plain": [
       "['malaysian_vocos_mel/uj11eaf0/checkpoints/vocos_checkpoint_epoch=0_step=600.ckpt',\n",
       " 'malaysian_vocos_mel/uj11eaf0/checkpoints/vocos_checkpoint_epoch=0_step=400.ckpt',\n",
       " 'malaysian_vocos_mel/uj11eaf0/checkpoints/last.ckpt',\n",
       " 'malaysian_vocos_mel/uj11eaf0/checkpoints/vocos_checkpoint_epoch=0_step=200.ckpt']"
      ]
     },
     "execution_count": 4,
     "metadata": {},
     "output_type": "execute_result"
    }
   ],
   "source": [
    "import torch\n",
    "from glob import glob\n",
    "\n",
    "files = glob('malaysian_vocos_mel/uj11eaf0/checkpoints/*.ckpt')\n",
    "files"
   ]
  },
  {
   "cell_type": "code",
   "execution_count": 6,
   "id": "14f8c275",
   "metadata": {},
   "outputs": [
    {
     "name": "stderr",
     "output_type": "stream",
     "text": [
      "/tmp/ipykernel_36922/4052272024.py:1: FutureWarning: You are using `torch.load` with `weights_only=False` (the current default value), which uses the default pickle module implicitly. It is possible to construct malicious pickle data which will execute arbitrary code during unpickling (See https://github.com/pytorch/pytorch/blob/main/SECURITY.md#untrusted-models for more details). In a future release, the default value for `weights_only` will be flipped to `True`. This limits the functions that could be executed during unpickling. Arbitrary objects will no longer be allowed to be loaded via this mode unless they are explicitly allowlisted by the user via `torch.serialization.add_safe_globals`. We recommend you start setting `weights_only=True` for any use case where you don't have full control of the loaded file. Please open an issue on GitHub for any issues related to this experimental feature.\n",
      "  state_dict = torch.load('malaysian_vocos_mel/uj11eaf0/checkpoints/last.ckpt', map_location=\"cpu\")\n"
     ]
    }
   ],
   "source": [
    "state_dict = torch.load('malaysian_vocos_mel/uj11eaf0/checkpoints/last.ckpt', map_location=\"cpu\")"
   ]
  },
  {
   "cell_type": "code",
   "execution_count": 7,
   "id": "fff6f0bb",
   "metadata": {
    "scrolled": true
   },
   "outputs": [
    {
     "data": {
      "text/plain": [
       "dict_keys(['epoch', 'global_step', 'pytorch-lightning_version', 'state_dict', 'loops', 'callbacks', 'optimizer_states', 'lr_schedulers', 'hparams_name', 'hyper_parameters'])"
      ]
     },
     "execution_count": 7,
     "metadata": {},
     "output_type": "execute_result"
    }
   ],
   "source": [
    "state_dict.keys()"
   ]
  },
  {
   "cell_type": "code",
   "execution_count": 24,
   "id": "ca477f18",
   "metadata": {
    "scrolled": true
   },
   "outputs": [
    {
     "data": {
      "text/plain": [
       "50200"
      ]
     },
     "execution_count": 24,
     "metadata": {},
     "output_type": "execute_result"
    }
   ],
   "source": [
    "state_dict['global_step']"
   ]
  },
  {
   "cell_type": "code",
   "execution_count": 10,
   "id": "5f3f05cc",
   "metadata": {},
   "outputs": [],
   "source": [
    "from vocos import Vocos\n",
    "from huggingface_hub import snapshot_download, hf_hub_download\n",
    "\n",
    "repo_id = \"charactr/vocos-mel-24khz\"\n",
    "config_path = hf_hub_download(repo_id=repo_id, filename=\"config.yaml\")"
   ]
  },
  {
   "cell_type": "code",
   "execution_count": 11,
   "id": "fe0bba24",
   "metadata": {},
   "outputs": [],
   "source": [
    "vocoder = Vocos.from_hparams(config_path)"
   ]
  },
  {
   "cell_type": "code",
   "execution_count": 17,
   "id": "05b3a23b",
   "metadata": {
    "scrolled": false
   },
   "outputs": [
    {
     "data": {
      "text/plain": [
       "_IncompatibleKeys(missing_keys=[], unexpected_keys=['multiperioddisc.discriminators.0.convs.0.bias', 'multiperioddisc.discriminators.0.convs.0.weight_g', 'multiperioddisc.discriminators.0.convs.0.weight_v', 'multiperioddisc.discriminators.0.convs.1.bias', 'multiperioddisc.discriminators.0.convs.1.weight_g', 'multiperioddisc.discriminators.0.convs.1.weight_v', 'multiperioddisc.discriminators.0.convs.2.bias', 'multiperioddisc.discriminators.0.convs.2.weight_g', 'multiperioddisc.discriminators.0.convs.2.weight_v', 'multiperioddisc.discriminators.0.convs.3.bias', 'multiperioddisc.discriminators.0.convs.3.weight_g', 'multiperioddisc.discriminators.0.convs.3.weight_v', 'multiperioddisc.discriminators.0.convs.4.bias', 'multiperioddisc.discriminators.0.convs.4.weight_g', 'multiperioddisc.discriminators.0.convs.4.weight_v', 'multiperioddisc.discriminators.0.conv_post.bias', 'multiperioddisc.discriminators.0.conv_post.weight_g', 'multiperioddisc.discriminators.0.conv_post.weight_v', 'multiperioddisc.discriminators.1.convs.0.bias', 'multiperioddisc.discriminators.1.convs.0.weight_g', 'multiperioddisc.discriminators.1.convs.0.weight_v', 'multiperioddisc.discriminators.1.convs.1.bias', 'multiperioddisc.discriminators.1.convs.1.weight_g', 'multiperioddisc.discriminators.1.convs.1.weight_v', 'multiperioddisc.discriminators.1.convs.2.bias', 'multiperioddisc.discriminators.1.convs.2.weight_g', 'multiperioddisc.discriminators.1.convs.2.weight_v', 'multiperioddisc.discriminators.1.convs.3.bias', 'multiperioddisc.discriminators.1.convs.3.weight_g', 'multiperioddisc.discriminators.1.convs.3.weight_v', 'multiperioddisc.discriminators.1.convs.4.bias', 'multiperioddisc.discriminators.1.convs.4.weight_g', 'multiperioddisc.discriminators.1.convs.4.weight_v', 'multiperioddisc.discriminators.1.conv_post.bias', 'multiperioddisc.discriminators.1.conv_post.weight_g', 'multiperioddisc.discriminators.1.conv_post.weight_v', 'multiperioddisc.discriminators.2.convs.0.bias', 'multiperioddisc.discriminators.2.convs.0.weight_g', 'multiperioddisc.discriminators.2.convs.0.weight_v', 'multiperioddisc.discriminators.2.convs.1.bias', 'multiperioddisc.discriminators.2.convs.1.weight_g', 'multiperioddisc.discriminators.2.convs.1.weight_v', 'multiperioddisc.discriminators.2.convs.2.bias', 'multiperioddisc.discriminators.2.convs.2.weight_g', 'multiperioddisc.discriminators.2.convs.2.weight_v', 'multiperioddisc.discriminators.2.convs.3.bias', 'multiperioddisc.discriminators.2.convs.3.weight_g', 'multiperioddisc.discriminators.2.convs.3.weight_v', 'multiperioddisc.discriminators.2.convs.4.bias', 'multiperioddisc.discriminators.2.convs.4.weight_g', 'multiperioddisc.discriminators.2.convs.4.weight_v', 'multiperioddisc.discriminators.2.conv_post.bias', 'multiperioddisc.discriminators.2.conv_post.weight_g', 'multiperioddisc.discriminators.2.conv_post.weight_v', 'multiperioddisc.discriminators.3.convs.0.bias', 'multiperioddisc.discriminators.3.convs.0.weight_g', 'multiperioddisc.discriminators.3.convs.0.weight_v', 'multiperioddisc.discriminators.3.convs.1.bias', 'multiperioddisc.discriminators.3.convs.1.weight_g', 'multiperioddisc.discriminators.3.convs.1.weight_v', 'multiperioddisc.discriminators.3.convs.2.bias', 'multiperioddisc.discriminators.3.convs.2.weight_g', 'multiperioddisc.discriminators.3.convs.2.weight_v', 'multiperioddisc.discriminators.3.convs.3.bias', 'multiperioddisc.discriminators.3.convs.3.weight_g', 'multiperioddisc.discriminators.3.convs.3.weight_v', 'multiperioddisc.discriminators.3.convs.4.bias', 'multiperioddisc.discriminators.3.convs.4.weight_g', 'multiperioddisc.discriminators.3.convs.4.weight_v', 'multiperioddisc.discriminators.3.conv_post.bias', 'multiperioddisc.discriminators.3.conv_post.weight_g', 'multiperioddisc.discriminators.3.conv_post.weight_v', 'multiperioddisc.discriminators.4.convs.0.bias', 'multiperioddisc.discriminators.4.convs.0.weight_g', 'multiperioddisc.discriminators.4.convs.0.weight_v', 'multiperioddisc.discriminators.4.convs.1.bias', 'multiperioddisc.discriminators.4.convs.1.weight_g', 'multiperioddisc.discriminators.4.convs.1.weight_v', 'multiperioddisc.discriminators.4.convs.2.bias', 'multiperioddisc.discriminators.4.convs.2.weight_g', 'multiperioddisc.discriminators.4.convs.2.weight_v', 'multiperioddisc.discriminators.4.convs.3.bias', 'multiperioddisc.discriminators.4.convs.3.weight_g', 'multiperioddisc.discriminators.4.convs.3.weight_v', 'multiperioddisc.discriminators.4.convs.4.bias', 'multiperioddisc.discriminators.4.convs.4.weight_g', 'multiperioddisc.discriminators.4.convs.4.weight_v', 'multiperioddisc.discriminators.4.conv_post.bias', 'multiperioddisc.discriminators.4.conv_post.weight_g', 'multiperioddisc.discriminators.4.conv_post.weight_v', 'multiresddisc.discriminators.0.spec_fn.window', 'multiresddisc.discriminators.0.band_convs.0.0.bias', 'multiresddisc.discriminators.0.band_convs.0.0.weight_g', 'multiresddisc.discriminators.0.band_convs.0.0.weight_v', 'multiresddisc.discriminators.0.band_convs.0.1.bias', 'multiresddisc.discriminators.0.band_convs.0.1.weight_g', 'multiresddisc.discriminators.0.band_convs.0.1.weight_v', 'multiresddisc.discriminators.0.band_convs.0.2.bias', 'multiresddisc.discriminators.0.band_convs.0.2.weight_g', 'multiresddisc.discriminators.0.band_convs.0.2.weight_v', 'multiresddisc.discriminators.0.band_convs.0.3.bias', 'multiresddisc.discriminators.0.band_convs.0.3.weight_g', 'multiresddisc.discriminators.0.band_convs.0.3.weight_v', 'multiresddisc.discriminators.0.band_convs.0.4.bias', 'multiresddisc.discriminators.0.band_convs.0.4.weight_g', 'multiresddisc.discriminators.0.band_convs.0.4.weight_v', 'multiresddisc.discriminators.0.band_convs.1.0.bias', 'multiresddisc.discriminators.0.band_convs.1.0.weight_g', 'multiresddisc.discriminators.0.band_convs.1.0.weight_v', 'multiresddisc.discriminators.0.band_convs.1.1.bias', 'multiresddisc.discriminators.0.band_convs.1.1.weight_g', 'multiresddisc.discriminators.0.band_convs.1.1.weight_v', 'multiresddisc.discriminators.0.band_convs.1.2.bias', 'multiresddisc.discriminators.0.band_convs.1.2.weight_g', 'multiresddisc.discriminators.0.band_convs.1.2.weight_v', 'multiresddisc.discriminators.0.band_convs.1.3.bias', 'multiresddisc.discriminators.0.band_convs.1.3.weight_g', 'multiresddisc.discriminators.0.band_convs.1.3.weight_v', 'multiresddisc.discriminators.0.band_convs.1.4.bias', 'multiresddisc.discriminators.0.band_convs.1.4.weight_g', 'multiresddisc.discriminators.0.band_convs.1.4.weight_v', 'multiresddisc.discriminators.0.band_convs.2.0.bias', 'multiresddisc.discriminators.0.band_convs.2.0.weight_g', 'multiresddisc.discriminators.0.band_convs.2.0.weight_v', 'multiresddisc.discriminators.0.band_convs.2.1.bias', 'multiresddisc.discriminators.0.band_convs.2.1.weight_g', 'multiresddisc.discriminators.0.band_convs.2.1.weight_v', 'multiresddisc.discriminators.0.band_convs.2.2.bias', 'multiresddisc.discriminators.0.band_convs.2.2.weight_g', 'multiresddisc.discriminators.0.band_convs.2.2.weight_v', 'multiresddisc.discriminators.0.band_convs.2.3.bias', 'multiresddisc.discriminators.0.band_convs.2.3.weight_g', 'multiresddisc.discriminators.0.band_convs.2.3.weight_v', 'multiresddisc.discriminators.0.band_convs.2.4.bias', 'multiresddisc.discriminators.0.band_convs.2.4.weight_g', 'multiresddisc.discriminators.0.band_convs.2.4.weight_v', 'multiresddisc.discriminators.0.band_convs.3.0.bias', 'multiresddisc.discriminators.0.band_convs.3.0.weight_g', 'multiresddisc.discriminators.0.band_convs.3.0.weight_v', 'multiresddisc.discriminators.0.band_convs.3.1.bias', 'multiresddisc.discriminators.0.band_convs.3.1.weight_g', 'multiresddisc.discriminators.0.band_convs.3.1.weight_v', 'multiresddisc.discriminators.0.band_convs.3.2.bias', 'multiresddisc.discriminators.0.band_convs.3.2.weight_g', 'multiresddisc.discriminators.0.band_convs.3.2.weight_v', 'multiresddisc.discriminators.0.band_convs.3.3.bias', 'multiresddisc.discriminators.0.band_convs.3.3.weight_g', 'multiresddisc.discriminators.0.band_convs.3.3.weight_v', 'multiresddisc.discriminators.0.band_convs.3.4.bias', 'multiresddisc.discriminators.0.band_convs.3.4.weight_g', 'multiresddisc.discriminators.0.band_convs.3.4.weight_v', 'multiresddisc.discriminators.0.band_convs.4.0.bias', 'multiresddisc.discriminators.0.band_convs.4.0.weight_g', 'multiresddisc.discriminators.0.band_convs.4.0.weight_v', 'multiresddisc.discriminators.0.band_convs.4.1.bias', 'multiresddisc.discriminators.0.band_convs.4.1.weight_g', 'multiresddisc.discriminators.0.band_convs.4.1.weight_v', 'multiresddisc.discriminators.0.band_convs.4.2.bias', 'multiresddisc.discriminators.0.band_convs.4.2.weight_g', 'multiresddisc.discriminators.0.band_convs.4.2.weight_v', 'multiresddisc.discriminators.0.band_convs.4.3.bias', 'multiresddisc.discriminators.0.band_convs.4.3.weight_g', 'multiresddisc.discriminators.0.band_convs.4.3.weight_v', 'multiresddisc.discriminators.0.band_convs.4.4.bias', 'multiresddisc.discriminators.0.band_convs.4.4.weight_g', 'multiresddisc.discriminators.0.band_convs.4.4.weight_v', 'multiresddisc.discriminators.0.conv_post.bias', 'multiresddisc.discriminators.0.conv_post.weight_g', 'multiresddisc.discriminators.0.conv_post.weight_v', 'multiresddisc.discriminators.1.spec_fn.window', 'multiresddisc.discriminators.1.band_convs.0.0.bias', 'multiresddisc.discriminators.1.band_convs.0.0.weight_g', 'multiresddisc.discriminators.1.band_convs.0.0.weight_v', 'multiresddisc.discriminators.1.band_convs.0.1.bias', 'multiresddisc.discriminators.1.band_convs.0.1.weight_g', 'multiresddisc.discriminators.1.band_convs.0.1.weight_v', 'multiresddisc.discriminators.1.band_convs.0.2.bias', 'multiresddisc.discriminators.1.band_convs.0.2.weight_g', 'multiresddisc.discriminators.1.band_convs.0.2.weight_v', 'multiresddisc.discriminators.1.band_convs.0.3.bias', 'multiresddisc.discriminators.1.band_convs.0.3.weight_g', 'multiresddisc.discriminators.1.band_convs.0.3.weight_v', 'multiresddisc.discriminators.1.band_convs.0.4.bias', 'multiresddisc.discriminators.1.band_convs.0.4.weight_g', 'multiresddisc.discriminators.1.band_convs.0.4.weight_v', 'multiresddisc.discriminators.1.band_convs.1.0.bias', 'multiresddisc.discriminators.1.band_convs.1.0.weight_g', 'multiresddisc.discriminators.1.band_convs.1.0.weight_v', 'multiresddisc.discriminators.1.band_convs.1.1.bias', 'multiresddisc.discriminators.1.band_convs.1.1.weight_g', 'multiresddisc.discriminators.1.band_convs.1.1.weight_v', 'multiresddisc.discriminators.1.band_convs.1.2.bias', 'multiresddisc.discriminators.1.band_convs.1.2.weight_g', 'multiresddisc.discriminators.1.band_convs.1.2.weight_v', 'multiresddisc.discriminators.1.band_convs.1.3.bias', 'multiresddisc.discriminators.1.band_convs.1.3.weight_g', 'multiresddisc.discriminators.1.band_convs.1.3.weight_v', 'multiresddisc.discriminators.1.band_convs.1.4.bias', 'multiresddisc.discriminators.1.band_convs.1.4.weight_g', 'multiresddisc.discriminators.1.band_convs.1.4.weight_v', 'multiresddisc.discriminators.1.band_convs.2.0.bias', 'multiresddisc.discriminators.1.band_convs.2.0.weight_g', 'multiresddisc.discriminators.1.band_convs.2.0.weight_v', 'multiresddisc.discriminators.1.band_convs.2.1.bias', 'multiresddisc.discriminators.1.band_convs.2.1.weight_g', 'multiresddisc.discriminators.1.band_convs.2.1.weight_v', 'multiresddisc.discriminators.1.band_convs.2.2.bias', 'multiresddisc.discriminators.1.band_convs.2.2.weight_g', 'multiresddisc.discriminators.1.band_convs.2.2.weight_v', 'multiresddisc.discriminators.1.band_convs.2.3.bias', 'multiresddisc.discriminators.1.band_convs.2.3.weight_g', 'multiresddisc.discriminators.1.band_convs.2.3.weight_v', 'multiresddisc.discriminators.1.band_convs.2.4.bias', 'multiresddisc.discriminators.1.band_convs.2.4.weight_g', 'multiresddisc.discriminators.1.band_convs.2.4.weight_v', 'multiresddisc.discriminators.1.band_convs.3.0.bias', 'multiresddisc.discriminators.1.band_convs.3.0.weight_g', 'multiresddisc.discriminators.1.band_convs.3.0.weight_v', 'multiresddisc.discriminators.1.band_convs.3.1.bias', 'multiresddisc.discriminators.1.band_convs.3.1.weight_g', 'multiresddisc.discriminators.1.band_convs.3.1.weight_v', 'multiresddisc.discriminators.1.band_convs.3.2.bias', 'multiresddisc.discriminators.1.band_convs.3.2.weight_g', 'multiresddisc.discriminators.1.band_convs.3.2.weight_v', 'multiresddisc.discriminators.1.band_convs.3.3.bias', 'multiresddisc.discriminators.1.band_convs.3.3.weight_g', 'multiresddisc.discriminators.1.band_convs.3.3.weight_v', 'multiresddisc.discriminators.1.band_convs.3.4.bias', 'multiresddisc.discriminators.1.band_convs.3.4.weight_g', 'multiresddisc.discriminators.1.band_convs.3.4.weight_v', 'multiresddisc.discriminators.1.band_convs.4.0.bias', 'multiresddisc.discriminators.1.band_convs.4.0.weight_g', 'multiresddisc.discriminators.1.band_convs.4.0.weight_v', 'multiresddisc.discriminators.1.band_convs.4.1.bias', 'multiresddisc.discriminators.1.band_convs.4.1.weight_g', 'multiresddisc.discriminators.1.band_convs.4.1.weight_v', 'multiresddisc.discriminators.1.band_convs.4.2.bias', 'multiresddisc.discriminators.1.band_convs.4.2.weight_g', 'multiresddisc.discriminators.1.band_convs.4.2.weight_v', 'multiresddisc.discriminators.1.band_convs.4.3.bias', 'multiresddisc.discriminators.1.band_convs.4.3.weight_g', 'multiresddisc.discriminators.1.band_convs.4.3.weight_v', 'multiresddisc.discriminators.1.band_convs.4.4.bias', 'multiresddisc.discriminators.1.band_convs.4.4.weight_g', 'multiresddisc.discriminators.1.band_convs.4.4.weight_v', 'multiresddisc.discriminators.1.conv_post.bias', 'multiresddisc.discriminators.1.conv_post.weight_g', 'multiresddisc.discriminators.1.conv_post.weight_v', 'multiresddisc.discriminators.2.spec_fn.window', 'multiresddisc.discriminators.2.band_convs.0.0.bias', 'multiresddisc.discriminators.2.band_convs.0.0.weight_g', 'multiresddisc.discriminators.2.band_convs.0.0.weight_v', 'multiresddisc.discriminators.2.band_convs.0.1.bias', 'multiresddisc.discriminators.2.band_convs.0.1.weight_g', 'multiresddisc.discriminators.2.band_convs.0.1.weight_v', 'multiresddisc.discriminators.2.band_convs.0.2.bias', 'multiresddisc.discriminators.2.band_convs.0.2.weight_g', 'multiresddisc.discriminators.2.band_convs.0.2.weight_v', 'multiresddisc.discriminators.2.band_convs.0.3.bias', 'multiresddisc.discriminators.2.band_convs.0.3.weight_g', 'multiresddisc.discriminators.2.band_convs.0.3.weight_v', 'multiresddisc.discriminators.2.band_convs.0.4.bias', 'multiresddisc.discriminators.2.band_convs.0.4.weight_g', 'multiresddisc.discriminators.2.band_convs.0.4.weight_v', 'multiresddisc.discriminators.2.band_convs.1.0.bias', 'multiresddisc.discriminators.2.band_convs.1.0.weight_g', 'multiresddisc.discriminators.2.band_convs.1.0.weight_v', 'multiresddisc.discriminators.2.band_convs.1.1.bias', 'multiresddisc.discriminators.2.band_convs.1.1.weight_g', 'multiresddisc.discriminators.2.band_convs.1.1.weight_v', 'multiresddisc.discriminators.2.band_convs.1.2.bias', 'multiresddisc.discriminators.2.band_convs.1.2.weight_g', 'multiresddisc.discriminators.2.band_convs.1.2.weight_v', 'multiresddisc.discriminators.2.band_convs.1.3.bias', 'multiresddisc.discriminators.2.band_convs.1.3.weight_g', 'multiresddisc.discriminators.2.band_convs.1.3.weight_v', 'multiresddisc.discriminators.2.band_convs.1.4.bias', 'multiresddisc.discriminators.2.band_convs.1.4.weight_g', 'multiresddisc.discriminators.2.band_convs.1.4.weight_v', 'multiresddisc.discriminators.2.band_convs.2.0.bias', 'multiresddisc.discriminators.2.band_convs.2.0.weight_g', 'multiresddisc.discriminators.2.band_convs.2.0.weight_v', 'multiresddisc.discriminators.2.band_convs.2.1.bias', 'multiresddisc.discriminators.2.band_convs.2.1.weight_g', 'multiresddisc.discriminators.2.band_convs.2.1.weight_v', 'multiresddisc.discriminators.2.band_convs.2.2.bias', 'multiresddisc.discriminators.2.band_convs.2.2.weight_g', 'multiresddisc.discriminators.2.band_convs.2.2.weight_v', 'multiresddisc.discriminators.2.band_convs.2.3.bias', 'multiresddisc.discriminators.2.band_convs.2.3.weight_g', 'multiresddisc.discriminators.2.band_convs.2.3.weight_v', 'multiresddisc.discriminators.2.band_convs.2.4.bias', 'multiresddisc.discriminators.2.band_convs.2.4.weight_g', 'multiresddisc.discriminators.2.band_convs.2.4.weight_v', 'multiresddisc.discriminators.2.band_convs.3.0.bias', 'multiresddisc.discriminators.2.band_convs.3.0.weight_g', 'multiresddisc.discriminators.2.band_convs.3.0.weight_v', 'multiresddisc.discriminators.2.band_convs.3.1.bias', 'multiresddisc.discriminators.2.band_convs.3.1.weight_g', 'multiresddisc.discriminators.2.band_convs.3.1.weight_v', 'multiresddisc.discriminators.2.band_convs.3.2.bias', 'multiresddisc.discriminators.2.band_convs.3.2.weight_g', 'multiresddisc.discriminators.2.band_convs.3.2.weight_v', 'multiresddisc.discriminators.2.band_convs.3.3.bias', 'multiresddisc.discriminators.2.band_convs.3.3.weight_g', 'multiresddisc.discriminators.2.band_convs.3.3.weight_v', 'multiresddisc.discriminators.2.band_convs.3.4.bias', 'multiresddisc.discriminators.2.band_convs.3.4.weight_g', 'multiresddisc.discriminators.2.band_convs.3.4.weight_v', 'multiresddisc.discriminators.2.band_convs.4.0.bias', 'multiresddisc.discriminators.2.band_convs.4.0.weight_g', 'multiresddisc.discriminators.2.band_convs.4.0.weight_v', 'multiresddisc.discriminators.2.band_convs.4.1.bias', 'multiresddisc.discriminators.2.band_convs.4.1.weight_g', 'multiresddisc.discriminators.2.band_convs.4.1.weight_v', 'multiresddisc.discriminators.2.band_convs.4.2.bias', 'multiresddisc.discriminators.2.band_convs.4.2.weight_g', 'multiresddisc.discriminators.2.band_convs.4.2.weight_v', 'multiresddisc.discriminators.2.band_convs.4.3.bias', 'multiresddisc.discriminators.2.band_convs.4.3.weight_g', 'multiresddisc.discriminators.2.band_convs.4.3.weight_v', 'multiresddisc.discriminators.2.band_convs.4.4.bias', 'multiresddisc.discriminators.2.band_convs.4.4.weight_g', 'multiresddisc.discriminators.2.band_convs.4.4.weight_v', 'multiresddisc.discriminators.2.conv_post.bias', 'multiresddisc.discriminators.2.conv_post.weight_g', 'multiresddisc.discriminators.2.conv_post.weight_v', 'melspec_loss.mel_spec.spectrogram.window', 'melspec_loss.mel_spec.mel_scale.fb'])"
      ]
     },
     "execution_count": 17,
     "metadata": {},
     "output_type": "execute_result"
    }
   ],
   "source": [
    "vocoder.load_state_dict(state_dict['state_dict'], strict = False)"
   ]
  },
  {
   "cell_type": "code",
   "execution_count": 20,
   "id": "72cb65e1",
   "metadata": {},
   "outputs": [],
   "source": [
    "torch.save(vocoder.state_dict(), 'pytorch_model.bin')"
   ]
  },
  {
   "cell_type": "code",
   "execution_count": 21,
   "id": "4f0da52a",
   "metadata": {},
   "outputs": [
    {
     "data": {
      "application/vnd.jupyter.widget-view+json": {
       "model_id": "6f53c5080d3245129da9180ab30450e9",
       "version_major": 2,
       "version_minor": 0
      },
      "text/plain": [
       "pytorch_model.bin:   0%|          | 0.00/54.4M [00:00<?, ?B/s]"
      ]
     },
     "metadata": {},
     "output_type": "display_data"
    },
    {
     "data": {
      "text/plain": [
       "CommitInfo(commit_url='https://huggingface.co/mesolitica/malaysian-vocos-mel-24khz/commit/ec738132df06072d8cf4327a864da73ebdd9d8c8', commit_message='Upload pytorch_model.bin with huggingface_hub', commit_description='', oid='ec738132df06072d8cf4327a864da73ebdd9d8c8', pr_url=None, pr_revision=None, pr_num=None)"
      ]
     },
     "execution_count": 21,
     "metadata": {},
     "output_type": "execute_result"
    }
   ],
   "source": [
    "from huggingface_hub import HfApi\n",
    "api = HfApi()\n",
    "api.upload_file(\n",
    "    path_or_fileobj=\"pytorch_model.bin\",\n",
    "    path_in_repo=\"pytorch_model.bin\",\n",
    "    repo_id=\"mesolitica/malaysian-vocos-mel-24khz\",\n",
    "    repo_type=\"model\",\n",
    ")"
   ]
  },
  {
   "cell_type": "code",
   "execution_count": 23,
   "id": "2c0e775f",
   "metadata": {},
   "outputs": [
    {
     "data": {
      "text/plain": [
       "CommitInfo(commit_url='https://huggingface.co/mesolitica/malaysian-vocos-mel-24khz/commit/3929881c424b42d2af54ac3ec46c696035445abe', commit_message='Upload config.yaml with huggingface_hub', commit_description='', oid='3929881c424b42d2af54ac3ec46c696035445abe', pr_url=None, pr_revision=None, pr_num=None)"
      ]
     },
     "execution_count": 23,
     "metadata": {},
     "output_type": "execute_result"
    }
   ],
   "source": [
    "api.upload_file(\n",
    "    path_or_fileobj=config_path,\n",
    "    path_in_repo=\"config.yaml\",\n",
    "    repo_id=\"mesolitica/malaysian-vocos-mel-24khz\",\n",
    "    repo_type=\"model\",\n",
    ")"
   ]
  },
  {
   "cell_type": "code",
   "execution_count": null,
   "id": "649f79ca",
   "metadata": {},
   "outputs": [],
   "source": []
  }
 ],
 "metadata": {
  "kernelspec": {
   "display_name": "python3.10",
   "language": "python",
   "name": "python3.10"
  },
  "language_info": {
   "codemirror_mode": {
    "name": "ipython",
    "version": 3
   },
   "file_extension": ".py",
   "mimetype": "text/x-python",
   "name": "python",
   "nbconvert_exporter": "python",
   "pygments_lexer": "ipython3",
   "version": "3.10.15"
  }
 },
 "nbformat": 4,
 "nbformat_minor": 5
}
