{
 "cells": [
  {
   "cell_type": "code",
   "execution_count": 1,
   "id": "96210ac2",
   "metadata": {
    "scrolled": false
   },
   "outputs": [
    {
     "data": {
      "text/plain": [
       "1024"
      ]
     },
     "execution_count": 1,
     "metadata": {},
     "output_type": "execute_result"
    }
   ],
   "source": [
    "from transformers import AutoTokenizer, AutoConfig\n",
    "from transformers import AddedToken\n",
    "import os\n",
    "import numpy as np\n",
    "\n",
    "tokenizer = AutoTokenizer.from_pretrained('HuggingFaceTB/SmolLM2-135M')\n",
    "new = ['<|speech_start|>', '<|speech_end|>', '<|text_start|>', '<|text_end|>']\n",
    "new = [AddedToken(t) for t in new]\n",
    "tokenizer.add_tokens(new)\n",
    "speech_tokens = [AddedToken(f\"<|{i}|>\") for i in range(1024)]\n",
    "tokenizer.add_tokens(speech_tokens)"
   ]
  },
  {
   "cell_type": "code",
   "execution_count": 2,
   "id": "078c35c9",
   "metadata": {},
   "outputs": [
    {
     "data": {
      "text/plain": [
       "2438225"
      ]
     },
     "execution_count": 2,
     "metadata": {},
     "output_type": "execute_result"
    }
   ],
   "source": [
    "import pandas as pd\n",
    "\n",
    "df = pd.read_parquet('/home/husein/ssd3/verify-text.parquet').to_dict(orient = 'records')\n",
    "len(df)"
   ]
  },
  {
   "cell_type": "code",
   "execution_count": 3,
   "id": "98d77100",
   "metadata": {},
   "outputs": [],
   "source": [
    "t = df[0]['transcription']\n",
    "splitted = df[0]['audio'].split('/')\n",
    "new_f = '/'.join([splitted[0] + '_vqgan'] + splitted[1:]).replace('.mp3', '.npy')\n",
    "new_f = os.path.join('/home/husein/ssd3', new_f)\n",
    "speech_t = np.load(new_f)\n",
    "speech_t = ''.join([f'<|{t}|>' for t in speech_t.tolist()])\n",
    "tts = f'<|text_start|>{t}<|text_end|><|speech_start|>{speech_t}<|speech_end|>'\n",
    "stt = f'<|speech_start|>{speech_t}<|speech_end|><|text_start|>{t}<|text_end|>'"
   ]
  },
  {
   "cell_type": "code",
   "execution_count": 4,
   "id": "19e849df",
   "metadata": {},
   "outputs": [],
   "source": [
    "from streaming import MDSWriter\n",
    "from streaming.base.format.mds.encodings import Encoding, _encodings\n",
    "from streaming import LocalDataset\n",
    "import streaming\n",
    "import numpy as np\n",
    "from tqdm import tqdm\n",
    "from glob import glob\n",
    "import os\n",
    "import json\n",
    "\n",
    "class UInt32(Encoding):\n",
    "    def encode(self, obj) -> bytes:\n",
    "        return obj.tobytes()\n",
    "\n",
    "    def decode(self, data: bytes):\n",
    "        return np.frombuffer(data, np.uint32)\n",
    "\n",
    "_encodings['uint32'] = UInt32\n",
    "\n",
    "columns = {\n",
    "    'input_ids': 'uint32',\n",
    "    'position_ids': 'uint32',\n",
    "    'attention_mask': 'uint32',\n",
    "}\n",
    "hashes = 'sha1', 'xxh64'"
   ]
  },
  {
   "cell_type": "code",
   "execution_count": 5,
   "id": "0c6ee450",
   "metadata": {},
   "outputs": [],
   "source": [
    "import gc\n",
    "\n",
    "def collator(batch, batch_position_ids):\n",
    "    input_ids = []\n",
    "    position_ids = []\n",
    "    masks = []\n",
    "    for i in range(len(batch)):\n",
    "        l = len(batch[i])\n",
    "        input_ids.extend(batch[i])\n",
    "        position_ids.extend(batch_position_ids[i])\n",
    "        masks.append(l)\n",
    "    \n",
    "    return {\n",
    "        'input_ids': np.array(input_ids).astype(np.uint32),\n",
    "        'position_ids': np.array(position_ids).astype(np.uint32),\n",
    "        'attention_mask': np.array(masks).astype(np.uint32),\n",
    "    }\n",
    "\n",
    "def slice_and_balance(nested_list, size):\n",
    "    first = []\n",
    "    balance = []\n",
    "    current_size = 0\n",
    "\n",
    "    for sublist in nested_list:\n",
    "        if current_size < size:\n",
    "            remaining_space = size - current_size\n",
    "            if len(sublist) <= remaining_space:\n",
    "                first.append(sublist)\n",
    "                current_size += len(sublist)\n",
    "            else:\n",
    "                first.append(sublist[:remaining_space])\n",
    "                balance.append(sublist[remaining_space:])\n",
    "                current_size = size\n",
    "        else:\n",
    "            balance.append(sublist)\n",
    "    \n",
    "    return first, balance"
   ]
  },
  {
   "cell_type": "code",
   "execution_count": 6,
   "id": "14ba02fc",
   "metadata": {},
   "outputs": [],
   "source": [
    "!rm -rf tokenized-2048\n",
    "!mkdir tokenized-2048"
   ]
  },
  {
   "cell_type": "code",
   "execution_count": 7,
   "id": "9a3ef60d",
   "metadata": {},
   "outputs": [],
   "source": [
    "import time\n",
    "\n",
    "def loop(files, block_size = 2048):\n",
    "    rows, index = files\n",
    "    out_root = f'tokenized-2048/tokenized-{index}'\n",
    "    os.system(f'rm -rf {out_root}')\n",
    "    count = 0\n",
    "    temp = []\n",
    "    position_ids = []\n",
    "    last_block, last_position_block = None, None\n",
    "    with MDSWriter(out=out_root, columns=columns, compression=None, hashes=hashes) as out:\n",
    "        for row in tqdm(rows):\n",
    "            \n",
    "            t = row['transcription']\n",
    "            splitted = row['audio'].split('/')\n",
    "            new_f = '/'.join([splitted[0] + '_vqgan'] + splitted[1:]).replace('.mp3', '.npy')\n",
    "            new_f = os.path.join('/home/husein/ssd3', new_f)\n",
    "            if not os.path.exists(new_f):\n",
    "                continue\n",
    "                \n",
    "            speech_t = np.load(new_f)\n",
    "            speech_t = ''.join([f'<|{t}|>' for t in speech_t.tolist()])\n",
    "            tts = f'<|text_start|>{t}<|text_end|><|speech_start|>{speech_t}<|speech_end|>'\n",
    "            \n",
    "            outputs = tokenizer(tts, add_special_tokens = False)\n",
    "            temp.append(outputs['input_ids'])\n",
    "            position_ids.append(range(len(outputs['input_ids'])))\n",
    "            count += len(outputs['input_ids'])\n",
    "            \n",
    "            while count >= block_size:\n",
    "                block, temp = slice_and_balance(temp, block_size)\n",
    "                block_position, position_ids = slice_and_balance(position_ids, block_size)\n",
    "                count = count - block_size\n",
    "                o = collator(block, block_position)\n",
    "                last_block = block\n",
    "                last_position_block = block_position\n",
    "                out.write(o)\n",
    "                \n",
    "        block, _ = slice_and_balance(last_block, block_size - count)\n",
    "        block_position, _ = slice_and_balance(last_position_block, block_size - count)\n",
    "\n",
    "        block.extend(temp)\n",
    "        block_position.extend(position_ids)\n",
    "\n",
    "        o = collator(block, block_position)\n",
    "        if len(o['input_ids']) == block_size:\n",
    "            out.write(o)\n",
    "            return o"
   ]
  },
  {
   "cell_type": "code",
   "execution_count": 8,
   "id": "a16d2dee",
   "metadata": {},
   "outputs": [
    {
     "name": "stderr",
     "output_type": "stream",
     "text": [
      "100%|██████████████████████████████████████| 1000/1000 [00:01<00:00, 644.54it/s]\n"
     ]
    },
    {
     "data": {
      "text/plain": [
       "{'input_ids': array([50107, 49691, 49166, ..., 49863, 49689, 49153], dtype=uint32),\n",
       " 'position_ids': array([1782, 1783, 1784, ...,  852,  853,  854], dtype=uint32),\n",
       " 'attention_mask': array([ 145, 1452,   47,  404], dtype=uint32)}"
      ]
     },
     "execution_count": 8,
     "metadata": {},
     "output_type": "execute_result"
    }
   ],
   "source": [
    "loop((df[:1000], 0))"
   ]
  },
  {
   "cell_type": "code",
   "execution_count": 9,
   "id": "7a7fb01d",
   "metadata": {},
   "outputs": [
    {
     "name": "stderr",
     "output_type": "stream",
     "text": [
      "huggingface/tokenizers: The current process just got forked, after parallelism has already been used. Disabling parallelism to avoid deadlocks...\n",
      "To disable this warning, you can either:\n",
      "\t- Avoid using `tokenizers` before the fork if possible\n",
      "\t- Explicitly set the environment variable TOKENIZERS_PARALLELISM=(true | false)\n",
      "huggingface/tokenizers: The current process just got forked, after parallelism has already been used. Disabling parallelism to avoid deadlocks...\n",
      "To disable this warning, you can either:\n",
      "\t- Avoid using `tokenizers` before the fork if possible\n",
      "\t- Explicitly set the environment variable TOKENIZERS_PARALLELISM=(true | false)\n",
      "huggingface/tokenizers: The current process just got forked, after parallelism has already been used. Disabling parallelism to avoid deadlocks...\n",
      "To disable this warning, you can either:\n",
      "\t- Avoid using `tokenizers` before the fork if possible\n",
      "\t- Explicitly set the environment variable TOKENIZERS_PARALLELISM=(true | false)\n",
      "huggingface/tokenizers: The current process just got forked, after parallelism has already been used. Disabling parallelism to avoid deadlocks...\n",
      "To disable this warning, you can either:\n",
      "\t- Avoid using `tokenizers` before the fork if possible\n",
      "\t- Explicitly set the environment variable TOKENIZERS_PARALLELISM=(true | false)\n",
      "huggingface/tokenizers: The current process just got forked, after parallelism has already been used. Disabling parallelism to avoid deadlocks...\n",
      "To disable this warning, you can either:\n",
      "\t- Avoid using `tokenizers` before the fork if possible\n",
      "\t- Explicitly set the environment variable TOKENIZERS_PARALLELISM=(true | false)\n",
      "huggingface/tokenizers: The current process just got forked, after parallelism has already been used. Disabling parallelism to avoid deadlocks...\n",
      "To disable this warning, you can either:\n",
      "\t- Avoid using `tokenizers` before the fork if possible\n",
      "\t- Explicitly set the environment variable TOKENIZERS_PARALLELISM=(true | false)\n",
      "huggingface/tokenizers: The current process just got forked, after parallelism has already been used. Disabling parallelism to avoid deadlocks...\n",
      "To disable this warning, you can either:\n",
      "\t- Avoid using `tokenizers` before the fork if possible\n",
      "\t- Explicitly set the environment variable TOKENIZERS_PARALLELISM=(true | false)\n",
      "huggingface/tokenizers: The current process just got forked, after parallelism has already been used. Disabling parallelism to avoid deadlocks...\n",
      "To disable this warning, you can either:\n",
      "\t- Avoid using `tokenizers` before the fork if possible\n",
      "\t- Explicitly set the environment variable TOKENIZERS_PARALLELISM=(true | false)\n",
      "huggingface/tokenizers: The current process just got forked, after parallelism has already been used. Disabling parallelism to avoid deadlocks...\n",
      "To disable this warning, you can either:\n",
      "\t- Avoid using `tokenizers` before the fork if possible\n",
      "\t- Explicitly set the environment variable TOKENIZERS_PARALLELISM=(true | false)\n",
      "huggingface/tokenizers: The current process just got forked, after parallelism has already been used. Disabling parallelism to avoid deadlocks...\n",
      "To disable this warning, you can either:\n",
      "\t- Avoid using `tokenizers` before the fork if possible\n",
      "\t- Explicitly set the environment variable TOKENIZERS_PARALLELISM=(true | false)\n",
      "100%|██████████████████████████████████| 100000/100000 [08:30<00:00, 195.93it/s]\n",
      "100%|██████████████████████████████████| 100000/100000 [08:29<00:00, 196.26it/s]\n",
      "100%|██████████████████████████████████| 100000/100000 [08:27<00:00, 197.17it/s]\n",
      "100%|██████████████████████████████████| 100000/100000 [08:33<00:00, 194.91it/s]\n",
      "100%|██████████████████████████████████| 100000/100000 [08:32<00:00, 195.17it/s]\n",
      "100%|██████████████████████████████████| 100000/100000 [08:39<00:00, 192.43it/s]\n",
      "100%|██████████████████████████████████| 100000/100000 [08:41<00:00, 191.70it/s]\n",
      "100%|██████████████████████████████████| 100000/100000 [08:40<00:00, 192.02it/s]\n",
      "100%|██████████████████████████████████| 100000/100000 [08:44<00:00, 190.67it/s]\n",
      "100%|██████████████████████████████████| 100000/100000 [09:10<00:00, 181.66it/s]\n",
      "100%|██████████████████████████████████| 100000/100000 [08:44<00:00, 190.60it/s]\n",
      "100%|██████████████████████████████████| 100000/100000 [08:43<00:00, 191.12it/s]\n",
      "100%|██████████████████████████████████| 100000/100000 [08:58<00:00, 185.74it/s]\n",
      "100%|██████████████████████████████████| 100000/100000 [08:57<00:00, 186.19it/s]\n",
      "100%|██████████████████████████████████| 100000/100000 [08:57<00:00, 186.09it/s]\n",
      "100%|██████████████████████████████████| 100000/100000 [09:18<00:00, 179.15it/s]\n",
      "100%|██████████████████████████████████| 100000/100000 [09:47<00:00, 170.25it/s]\n",
      "100%|██████████████████████████████████| 100000/100000 [09:53<00:00, 168.46it/s]\n",
      "100%|██████████████████████████████████| 100000/100000 [09:49<00:00, 169.53it/s]\n",
      "100%|██████████████████████████████████| 100000/100000 [09:48<00:00, 170.03it/s]\n",
      "100%|████████████████████████████████████| 38225/38225 [02:03<00:00, 310.43it/s]\n",
      "100%|██████████████████████████████████| 100000/100000 [05:15<00:00, 316.74it/s]\n",
      "100%|██████████████████████████████████| 100000/100000 [05:23<00:00, 309.53it/s]\n",
      "100%|██████████████████████████████████| 100000/100000 [05:11<00:00, 321.06it/s]\n",
      "100%|██████████████████████████████████| 100000/100000 [05:15<00:00, 316.57it/s]\n"
     ]
    }
   ],
   "source": [
    "from multiprocess import Pool\n",
    "import mp\n",
    "\n",
    "chunks = mp.chunks(df, 100000)\n",
    "pool = Pool(10)\n",
    "pooled = pool.map(loop, chunks)\n",
    "pool.close()\n",
    "pool.join()"
   ]
  },
  {
   "cell_type": "code",
   "execution_count": 10,
   "id": "fc1ab01e",
   "metadata": {},
   "outputs": [
    {
     "data": {
      "text/plain": [
       "['tokenized-2048/tokenized-0',\n",
       " 'tokenized-2048/tokenized-1',\n",
       " 'tokenized-2048/tokenized-2',\n",
       " 'tokenized-2048/tokenized-3',\n",
       " 'tokenized-2048/tokenized-4',\n",
       " 'tokenized-2048/tokenized-5',\n",
       " 'tokenized-2048/tokenized-6',\n",
       " 'tokenized-2048/tokenized-7',\n",
       " 'tokenized-2048/tokenized-8',\n",
       " 'tokenized-2048/tokenized-9',\n",
       " 'tokenized-2048/tokenized-10',\n",
       " 'tokenized-2048/tokenized-11',\n",
       " 'tokenized-2048/tokenized-12',\n",
       " 'tokenized-2048/tokenized-13',\n",
       " 'tokenized-2048/tokenized-14',\n",
       " 'tokenized-2048/tokenized-15',\n",
       " 'tokenized-2048/tokenized-16',\n",
       " 'tokenized-2048/tokenized-17',\n",
       " 'tokenized-2048/tokenized-18',\n",
       " 'tokenized-2048/tokenized-19',\n",
       " 'tokenized-2048/tokenized-20',\n",
       " 'tokenized-2048/tokenized-21',\n",
       " 'tokenized-2048/tokenized-22',\n",
       " 'tokenized-2048/tokenized-23',\n",
       " 'tokenized-2048/tokenized-24']"
      ]
     },
     "execution_count": 10,
     "metadata": {},
     "output_type": "execute_result"
    }
   ],
   "source": [
    "folders = sorted(glob('tokenized-2048/tokenized-*'), key = lambda x: int(x.split('-')[-1]))\n",
    "folders"
   ]
  },
  {
   "cell_type": "code",
   "execution_count": 11,
   "id": "82a70251",
   "metadata": {},
   "outputs": [],
   "source": [
    "dataset = LocalDataset(folders[0])"
   ]
  },
  {
   "cell_type": "code",
   "execution_count": 12,
   "id": "bf0732f4",
   "metadata": {},
   "outputs": [
    {
     "name": "stderr",
     "output_type": "stream",
     "text": [
      "huggingface/tokenizers: The current process just got forked, after parallelism has already been used. Disabling parallelism to avoid deadlocks...\n",
      "To disable this warning, you can either:\n",
      "\t- Avoid using `tokenizers` before the fork if possible\n",
      "\t- Explicitly set the environment variable TOKENIZERS_PARALLELISM=(true | false)\n"
     ]
    }
   ],
   "source": [
    "!rm -rf smollm2-speech-semantic-multipack-2048"
   ]
  },
  {
   "cell_type": "code",
   "execution_count": 13,
   "id": "81e3e590",
   "metadata": {},
   "outputs": [
    {
     "name": "stderr",
     "output_type": "stream",
     "text": [
      "100%|██████████████████████████████████| 90078/90078 [00:04<00:00, 21220.53it/s]\n",
      "100%|██████████████████████████████████| 91347/91347 [00:04<00:00, 22195.75it/s]\n",
      "100%|██████████████████████████████████| 89677/89677 [00:04<00:00, 21200.47it/s]\n",
      "100%|██████████████████████████████████| 91201/91201 [00:07<00:00, 11595.93it/s]\n",
      "100%|██████████████████████████████████| 90920/90920 [00:04<00:00, 19928.08it/s]\n",
      "100%|██████████████████████████████████| 90876/90876 [00:04<00:00, 19986.43it/s]\n",
      "100%|██████████████████████████████████| 91056/91056 [00:05<00:00, 16781.18it/s]\n",
      "100%|███████████████████████████████████| 90230/90230 [00:11<00:00, 7993.23it/s]\n",
      "100%|██████████████████████████████████| 90289/90289 [00:04<00:00, 20804.48it/s]\n",
      "100%|██████████████████████████████████| 90723/90723 [00:04<00:00, 20546.19it/s]\n",
      "100%|██████████████████████████████████| 91015/91015 [00:07<00:00, 11646.02it/s]\n",
      "100%|███████████████████████████████████| 91343/91343 [00:15<00:00, 5742.13it/s]\n",
      "100%|██████████████████████████████████| 90520/90520 [00:08<00:00, 10631.77it/s]\n",
      "100%|██████████████████████████████████| 91116/91116 [00:04<00:00, 20448.20it/s]\n",
      "100%|███████████████████████████████████| 91678/91678 [00:10<00:00, 8426.00it/s]\n",
      "100%|███████████████████████████████████| 90756/90756 [00:14<00:00, 6101.54it/s]\n",
      "100%|██████████████████████████████████| 85933/85933 [00:04<00:00, 20449.16it/s]\n",
      "100%|██████████████████████████████████| 85723/85723 [00:04<00:00, 19082.55it/s]\n",
      "100%|███████████████████████████████████| 85783/85783 [00:16<00:00, 5179.58it/s]\n",
      "100%|███████████████████████████████████| 85144/85144 [00:10<00:00, 8451.29it/s]\n",
      "100%|██████████████████████████████████| 85795/85795 [00:04<00:00, 20305.28it/s]\n",
      "100%|██████████████████████████████████| 86378/86378 [00:05<00:00, 15215.02it/s]\n",
      "100%|███████████████████████████████████| 86291/86291 [00:10<00:00, 8541.34it/s]\n",
      "100%|███████████████████████████████████| 85956/85956 [00:16<00:00, 5270.23it/s]\n",
      "100%|██████████████████████████████████| 32631/32631 [00:01<00:00, 20870.85it/s]\n"
     ]
    }
   ],
   "source": [
    "with MDSWriter(\n",
    "    out='smollm2-speech-semantic-multipack-2048', columns=columns, compression=None, hashes=hashes) as out:\n",
    "    for f in folders:\n",
    "        try:\n",
    "            dataset = LocalDataset(local=f)\n",
    "            for i in tqdm(range(len(dataset))):\n",
    "                out.write(dataset[i])\n",
    "        except Exception as e:\n",
    "            print(e)\n",
    "            pass"
   ]
  },
  {
   "cell_type": "code",
   "execution_count": 14,
   "id": "72e2a21f",
   "metadata": {},
   "outputs": [],
   "source": [
    "dataset = LocalDataset('smollm2-speech-semantic-multipack-2048')"
   ]
  },
  {
   "cell_type": "code",
   "execution_count": 16,
   "id": "2d3a66aa",
   "metadata": {},
   "outputs": [
    {
     "data": {
      "text/plain": [
       "4.449196032"
      ]
     },
     "execution_count": 16,
     "metadata": {},
     "output_type": "execute_result"
    }
   ],
   "source": [
    "(len(dataset) * 2048) / 1e9"
   ]
  },
  {
   "cell_type": "code",
   "execution_count": 21,
   "id": "5ee8783a",
   "metadata": {},
   "outputs": [
    {
     "data": {
      "text/plain": [
       "{'attention_mask': array([1364,  684], dtype=uint32),\n",
       " 'input_ids': array([49154,    51,  4075, ..., 49385, 49840, 50075], dtype=uint32),\n",
       " 'position_ids': array([  0,   1,   2, ..., 681, 682, 683], dtype=uint32)}"
      ]
     },
     "execution_count": 21,
     "metadata": {},
     "output_type": "execute_result"
    }
   ],
   "source": [
    "dataset[0]"
   ]
  },
  {
   "cell_type": "code",
   "execution_count": 22,
   "id": "beef0216",
   "metadata": {},
   "outputs": [
    {
     "data": {
      "text/plain": [
       "{'attention_mask': array([2048], dtype=uint32),\n",
       " 'input_ids': array([49440, 49427, 49595, ..., 49697, 49837, 49491], dtype=uint32),\n",
       " 'position_ids': array([ 684,  685,  686, ..., 2729, 2730, 2731], dtype=uint32)}"
      ]
     },
     "execution_count": 22,
     "metadata": {},
     "output_type": "execute_result"
    }
   ],
   "source": [
    "dataset[1]"
   ]
  },
  {
   "cell_type": "code",
   "execution_count": 24,
   "id": "3f5cc713",
   "metadata": {},
   "outputs": [
    {
     "data": {
      "text/plain": [
       "{'attention_mask': array([ 544, 1504], dtype=uint32),\n",
       " 'input_ids': array([49579, 49576, 49509, ..., 49647, 49995, 49401], dtype=uint32),\n",
       " 'position_ids': array([4780, 4781, 4782, ..., 1501, 1502, 1503], dtype=uint32)}"
      ]
     },
     "execution_count": 24,
     "metadata": {},
     "output_type": "execute_result"
    }
   ],
   "source": [
    "dataset[3]"
   ]
  },
  {
   "cell_type": "code",
   "execution_count": 1,
   "id": "cb1438d8",
   "metadata": {},
   "outputs": [
    {
     "data": {
      "text/plain": [
       "RepoUrl('https://huggingface.co/datasets/mesolitica/smollm2-speech-semantic-multipack-2048', endpoint='https://huggingface.co', repo_type='dataset', repo_id='mesolitica/smollm2-speech-semantic-multipack-2048')"
      ]
     },
     "execution_count": 1,
     "metadata": {},
     "output_type": "execute_result"
    }
   ],
   "source": [
    "from huggingface_hub import create_repo, delete_repo\n",
    "\n",
    "try:\n",
    "    delete_repo(repo_id=\"mesolitica/smollm2-speech-semantic-multipack-2048\", repo_type=\"dataset\")\n",
    "except:\n",
    "    pass\n",
    "create_repo(\"mesolitica/smollm2-speech-semantic-multipack-2048\", repo_type=\"dataset\", private = True)"
   ]
  },
  {
   "cell_type": "code",
   "execution_count": null,
   "id": "2796a548",
   "metadata": {},
   "outputs": [
    {
     "data": {
      "application/vnd.jupyter.widget-view+json": {
       "model_id": "dedb145454d546e7b35835fc6aa89d8f",
       "version_major": 2,
       "version_minor": 0
      },
      "text/plain": [
       "shard.00002.mds:   0%|          | 0.00/67.1M [00:00<?, ?B/s]"
      ]
     },
     "metadata": {},
     "output_type": "display_data"
    },
    {
     "data": {
      "application/vnd.jupyter.widget-view+json": {
       "model_id": "83ca079e2e164b4dbc8ecd8bab9d60fb",
       "version_major": 2,
       "version_minor": 0
      },
      "text/plain": [
       "shard.00001.mds:   0%|          | 0.00/67.1M [00:00<?, ?B/s]"
      ]
     },
     "metadata": {},
     "output_type": "display_data"
    },
    {
     "data": {
      "application/vnd.jupyter.widget-view+json": {
       "model_id": "d965f94f21de40149933b5965b8ab580",
       "version_major": 2,
       "version_minor": 0
      },
      "text/plain": [
       "shard.00003.mds:   0%|          | 0.00/67.1M [00:00<?, ?B/s]"
      ]
     },
     "metadata": {},
     "output_type": "display_data"
    },
    {
     "data": {
      "application/vnd.jupyter.widget-view+json": {
       "model_id": "5694138c215e4260ab639f4e191a4fa2",
       "version_major": 2,
       "version_minor": 0
      },
      "text/plain": [
       "Upload 532 LFS files:   0%|          | 0/532 [00:00<?, ?it/s]"
      ]
     },
     "metadata": {},
     "output_type": "display_data"
    },
    {
     "data": {
      "application/vnd.jupyter.widget-view+json": {
       "model_id": "6c92fb2d99d4410ab5378fed308daca1",
       "version_major": 2,
       "version_minor": 0
      },
      "text/plain": [
       "shard.00000.mds:   0%|          | 0.00/67.1M [00:00<?, ?B/s]"
      ]
     },
     "metadata": {},
     "output_type": "display_data"
    },
    {
     "data": {
      "application/vnd.jupyter.widget-view+json": {
       "model_id": "118c3113e7c6452fbf60260d7f113046",
       "version_major": 2,
       "version_minor": 0
      },
      "text/plain": [
       "shard.00004.mds:   0%|          | 0.00/67.1M [00:00<?, ?B/s]"
      ]
     },
     "metadata": {},
     "output_type": "display_data"
    },
    {
     "data": {
      "application/vnd.jupyter.widget-view+json": {
       "model_id": "3dfe483a100947cc9f24e41628c67cc2",
       "version_major": 2,
       "version_minor": 0
      },
      "text/plain": [
       "shard.00005.mds:   0%|          | 0.00/67.1M [00:00<?, ?B/s]"
      ]
     },
     "metadata": {},
     "output_type": "display_data"
    },
    {
     "data": {
      "application/vnd.jupyter.widget-view+json": {
       "model_id": "aa453dacee3644e5933e5450d9061e6d",
       "version_major": 2,
       "version_minor": 0
      },
      "text/plain": [
       "shard.00006.mds:   0%|          | 0.00/67.1M [00:00<?, ?B/s]"
      ]
     },
     "metadata": {},
     "output_type": "display_data"
    },
    {
     "data": {
      "application/vnd.jupyter.widget-view+json": {
       "model_id": "311b99fee7a245d8b9e83dc355cb53a3",
       "version_major": 2,
       "version_minor": 0
      },
      "text/plain": [
       "shard.00007.mds:   0%|          | 0.00/67.1M [00:00<?, ?B/s]"
      ]
     },
     "metadata": {},
     "output_type": "display_data"
    },
    {
     "data": {
      "application/vnd.jupyter.widget-view+json": {
       "model_id": "3cdcc75aa55a4e06bb141065b084e67e",
       "version_major": 2,
       "version_minor": 0
      },
      "text/plain": [
       "shard.00008.mds:   0%|          | 0.00/67.1M [00:00<?, ?B/s]"
      ]
     },
     "metadata": {},
     "output_type": "display_data"
    },
    {
     "data": {
      "application/vnd.jupyter.widget-view+json": {
       "model_id": "f119b856f4ac43d88c7b64da7bdc8c14",
       "version_major": 2,
       "version_minor": 0
      },
      "text/plain": [
       "shard.00009.mds:   0%|          | 0.00/67.1M [00:00<?, ?B/s]"
      ]
     },
     "metadata": {},
     "output_type": "display_data"
    },
    {
     "data": {
      "application/vnd.jupyter.widget-view+json": {
       "model_id": "2f4382d3e22d47be8ea783150a7bc4b0",
       "version_major": 2,
       "version_minor": 0
      },
      "text/plain": [
       "shard.00010.mds:   0%|          | 0.00/67.1M [00:00<?, ?B/s]"
      ]
     },
     "metadata": {},
     "output_type": "display_data"
    },
    {
     "data": {
      "application/vnd.jupyter.widget-view+json": {
       "model_id": "43ae8aa6980d4227a2421977c675ce20",
       "version_major": 2,
       "version_minor": 0
      },
      "text/plain": [
       "shard.00011.mds:   0%|          | 0.00/67.1M [00:00<?, ?B/s]"
      ]
     },
     "metadata": {},
     "output_type": "display_data"
    },
    {
     "data": {
      "application/vnd.jupyter.widget-view+json": {
       "model_id": "fd5b978b545e436293d904f60a4242c6",
       "version_major": 2,
       "version_minor": 0
      },
      "text/plain": [
       "shard.00012.mds:   0%|          | 0.00/67.1M [00:00<?, ?B/s]"
      ]
     },
     "metadata": {},
     "output_type": "display_data"
    },
    {
     "data": {
      "application/vnd.jupyter.widget-view+json": {
       "model_id": "b0e5ba8ecc084837b09f71adff5a440b",
       "version_major": 2,
       "version_minor": 0
      },
      "text/plain": [
       "shard.00013.mds:   0%|          | 0.00/67.1M [00:00<?, ?B/s]"
      ]
     },
     "metadata": {},
     "output_type": "display_data"
    },
    {
     "data": {
      "application/vnd.jupyter.widget-view+json": {
       "model_id": "81d88d087cc5465aa1d2aeb9ac610f59",
       "version_major": 2,
       "version_minor": 0
      },
      "text/plain": [
       "shard.00014.mds:   0%|          | 0.00/67.1M [00:00<?, ?B/s]"
      ]
     },
     "metadata": {},
     "output_type": "display_data"
    },
    {
     "data": {
      "application/vnd.jupyter.widget-view+json": {
       "model_id": "9d43e9c3166148b694eec49ae0aebe23",
       "version_major": 2,
       "version_minor": 0
      },
      "text/plain": [
       "shard.00015.mds:   0%|          | 0.00/67.1M [00:00<?, ?B/s]"
      ]
     },
     "metadata": {},
     "output_type": "display_data"
    },
    {
     "data": {
      "application/vnd.jupyter.widget-view+json": {
       "model_id": "3dd5a03efb404b2bac875c4638ff3cc7",
       "version_major": 2,
       "version_minor": 0
      },
      "text/plain": [
       "shard.00016.mds:   0%|          | 0.00/67.1M [00:00<?, ?B/s]"
      ]
     },
     "metadata": {},
     "output_type": "display_data"
    },
    {
     "data": {
      "application/vnd.jupyter.widget-view+json": {
       "model_id": "8c8fd315d0cb4e4ea2b21150dfd3e56f",
       "version_major": 2,
       "version_minor": 0
      },
      "text/plain": [
       "shard.00017.mds:   0%|          | 0.00/67.1M [00:00<?, ?B/s]"
      ]
     },
     "metadata": {},
     "output_type": "display_data"
    },
    {
     "data": {
      "application/vnd.jupyter.widget-view+json": {
       "model_id": "b91ceda014cc4eff82477820cc9d80d1",
       "version_major": 2,
       "version_minor": 0
      },
      "text/plain": [
       "shard.00018.mds:   0%|          | 0.00/67.1M [00:00<?, ?B/s]"
      ]
     },
     "metadata": {},
     "output_type": "display_data"
    },
    {
     "data": {
      "application/vnd.jupyter.widget-view+json": {
       "model_id": "906ecb09efd94297a9743dc3d5641618",
       "version_major": 2,
       "version_minor": 0
      },
      "text/plain": [
       "shard.00019.mds:   0%|          | 0.00/67.1M [00:00<?, ?B/s]"
      ]
     },
     "metadata": {},
     "output_type": "display_data"
    },
    {
     "data": {
      "application/vnd.jupyter.widget-view+json": {
       "model_id": "914c125961ab48a4b1b731b513de795d",
       "version_major": 2,
       "version_minor": 0
      },
      "text/plain": [
       "shard.00020.mds:   0%|          | 0.00/67.1M [00:00<?, ?B/s]"
      ]
     },
     "metadata": {},
     "output_type": "display_data"
    },
    {
     "data": {
      "application/vnd.jupyter.widget-view+json": {
       "model_id": "18d2e6e16fe14e218b03b6410b39feca",
       "version_major": 2,
       "version_minor": 0
      },
      "text/plain": [
       "shard.00021.mds:   0%|          | 0.00/67.1M [00:00<?, ?B/s]"
      ]
     },
     "metadata": {},
     "output_type": "display_data"
    },
    {
     "data": {
      "application/vnd.jupyter.widget-view+json": {
       "model_id": "36c97792fd794b1d973b7c93eeca51b9",
       "version_major": 2,
       "version_minor": 0
      },
      "text/plain": [
       "shard.00022.mds:   0%|          | 0.00/67.1M [00:00<?, ?B/s]"
      ]
     },
     "metadata": {},
     "output_type": "display_data"
    },
    {
     "data": {
      "application/vnd.jupyter.widget-view+json": {
       "model_id": "b0978db25178493ab797f9b806a5d458",
       "version_major": 2,
       "version_minor": 0
      },
      "text/plain": [
       "shard.00023.mds:   0%|          | 0.00/67.1M [00:00<?, ?B/s]"
      ]
     },
     "metadata": {},
     "output_type": "display_data"
    },
    {
     "data": {
      "application/vnd.jupyter.widget-view+json": {
       "model_id": "333bbf7378a341a8879603542ce4cd04",
       "version_major": 2,
       "version_minor": 0
      },
      "text/plain": [
       "shard.00024.mds:   0%|          | 0.00/67.1M [00:00<?, ?B/s]"
      ]
     },
     "metadata": {},
     "output_type": "display_data"
    },
    {
     "data": {
      "application/vnd.jupyter.widget-view+json": {
       "model_id": "47d047f704e04d778301ed09fed32211",
       "version_major": 2,
       "version_minor": 0
      },
      "text/plain": [
       "shard.00025.mds:   0%|          | 0.00/67.1M [00:00<?, ?B/s]"
      ]
     },
     "metadata": {},
     "output_type": "display_data"
    },
    {
     "data": {
      "application/vnd.jupyter.widget-view+json": {
       "model_id": "3392418c2fb049b8b7ca41553c5f1b5f",
       "version_major": 2,
       "version_minor": 0
      },
      "text/plain": [
       "shard.00026.mds:   0%|          | 0.00/67.1M [00:00<?, ?B/s]"
      ]
     },
     "metadata": {},
     "output_type": "display_data"
    },
    {
     "data": {
      "application/vnd.jupyter.widget-view+json": {
       "model_id": "f77e904d09b04d728980fbf841e598c6",
       "version_major": 2,
       "version_minor": 0
      },
      "text/plain": [
       "shard.00027.mds:   0%|          | 0.00/67.1M [00:00<?, ?B/s]"
      ]
     },
     "metadata": {},
     "output_type": "display_data"
    },
    {
     "data": {
      "application/vnd.jupyter.widget-view+json": {
       "model_id": "9ccc292f4c544fba91c1b1ddc8d24951",
       "version_major": 2,
       "version_minor": 0
      },
      "text/plain": [
       "shard.00028.mds:   0%|          | 0.00/67.1M [00:00<?, ?B/s]"
      ]
     },
     "metadata": {},
     "output_type": "display_data"
    },
    {
     "data": {
      "application/vnd.jupyter.widget-view+json": {
       "model_id": "3178c4efccf64510884ea9febeb84014",
       "version_major": 2,
       "version_minor": 0
      },
      "text/plain": [
       "shard.00029.mds:   0%|          | 0.00/67.1M [00:00<?, ?B/s]"
      ]
     },
     "metadata": {},
     "output_type": "display_data"
    },
    {
     "data": {
      "application/vnd.jupyter.widget-view+json": {
       "model_id": "c855991911ff431a87ec562ad1df4258",
       "version_major": 2,
       "version_minor": 0
      },
      "text/plain": [
       "shard.00030.mds:   0%|          | 0.00/67.1M [00:00<?, ?B/s]"
      ]
     },
     "metadata": {},
     "output_type": "display_data"
    },
    {
     "data": {
      "application/vnd.jupyter.widget-view+json": {
       "model_id": "9013b58ae1fe41a6980813946a492326",
       "version_major": 2,
       "version_minor": 0
      },
      "text/plain": [
       "shard.00031.mds:   0%|          | 0.00/67.1M [00:00<?, ?B/s]"
      ]
     },
     "metadata": {},
     "output_type": "display_data"
    },
    {
     "data": {
      "application/vnd.jupyter.widget-view+json": {
       "model_id": "0676fb1e887a4a3cad46ef4afd772700",
       "version_major": 2,
       "version_minor": 0
      },
      "text/plain": [
       "shard.00032.mds:   0%|          | 0.00/67.1M [00:00<?, ?B/s]"
      ]
     },
     "metadata": {},
     "output_type": "display_data"
    },
    {
     "data": {
      "application/vnd.jupyter.widget-view+json": {
       "model_id": "f662b5a71ca14e83b379d08c5d9fb96c",
       "version_major": 2,
       "version_minor": 0
      },
      "text/plain": [
       "shard.00033.mds:   0%|          | 0.00/67.1M [00:00<?, ?B/s]"
      ]
     },
     "metadata": {},
     "output_type": "display_data"
    },
    {
     "data": {
      "application/vnd.jupyter.widget-view+json": {
       "model_id": "e1446d1321904169ba91b6852aa3f2cf",
       "version_major": 2,
       "version_minor": 0
      },
      "text/plain": [
       "shard.00034.mds:   0%|          | 0.00/67.1M [00:00<?, ?B/s]"
      ]
     },
     "metadata": {},
     "output_type": "display_data"
    },
    {
     "data": {
      "application/vnd.jupyter.widget-view+json": {
       "model_id": "b0667d41e70f413fbc00db68987222f8",
       "version_major": 2,
       "version_minor": 0
      },
      "text/plain": [
       "shard.00035.mds:   0%|          | 0.00/67.1M [00:00<?, ?B/s]"
      ]
     },
     "metadata": {},
     "output_type": "display_data"
    },
    {
     "data": {
      "application/vnd.jupyter.widget-view+json": {
       "model_id": "cc7feeefb55a4e249200fb8523b52ae6",
       "version_major": 2,
       "version_minor": 0
      },
      "text/plain": [
       "shard.00036.mds:   0%|          | 0.00/67.1M [00:00<?, ?B/s]"
      ]
     },
     "metadata": {},
     "output_type": "display_data"
    },
    {
     "data": {
      "application/vnd.jupyter.widget-view+json": {
       "model_id": "dc1cb6d34022460f8efc1b4f7c6905f7",
       "version_major": 2,
       "version_minor": 0
      },
      "text/plain": [
       "shard.00037.mds:   0%|          | 0.00/67.1M [00:00<?, ?B/s]"
      ]
     },
     "metadata": {},
     "output_type": "display_data"
    },
    {
     "data": {
      "application/vnd.jupyter.widget-view+json": {
       "model_id": "dc1c41e5c42b4d67a09cbfaacaeb40fe",
       "version_major": 2,
       "version_minor": 0
      },
      "text/plain": [
       "shard.00038.mds:   0%|          | 0.00/67.1M [00:00<?, ?B/s]"
      ]
     },
     "metadata": {},
     "output_type": "display_data"
    },
    {
     "data": {
      "application/vnd.jupyter.widget-view+json": {
       "model_id": "b013a567d9c54fc99d1641c4b71a23c5",
       "version_major": 2,
       "version_minor": 0
      },
      "text/plain": [
       "shard.00039.mds:   0%|          | 0.00/67.1M [00:00<?, ?B/s]"
      ]
     },
     "metadata": {},
     "output_type": "display_data"
    },
    {
     "data": {
      "application/vnd.jupyter.widget-view+json": {
       "model_id": "4a9f6167eaa549e28f01b4ac1fe1d9ba",
       "version_major": 2,
       "version_minor": 0
      },
      "text/plain": [
       "shard.00040.mds:   0%|          | 0.00/67.1M [00:00<?, ?B/s]"
      ]
     },
     "metadata": {},
     "output_type": "display_data"
    },
    {
     "data": {
      "application/vnd.jupyter.widget-view+json": {
       "model_id": "16b6798fb32a4a7f9a5f1da574fc2db6",
       "version_major": 2,
       "version_minor": 0
      },
      "text/plain": [
       "shard.00041.mds:   0%|          | 0.00/67.1M [00:00<?, ?B/s]"
      ]
     },
     "metadata": {},
     "output_type": "display_data"
    },
    {
     "data": {
      "application/vnd.jupyter.widget-view+json": {
       "model_id": "8b0ce38c80944f088fb5a83ec89ecd95",
       "version_major": 2,
       "version_minor": 0
      },
      "text/plain": [
       "shard.00042.mds:   0%|          | 0.00/67.1M [00:00<?, ?B/s]"
      ]
     },
     "metadata": {},
     "output_type": "display_data"
    },
    {
     "data": {
      "application/vnd.jupyter.widget-view+json": {
       "model_id": "9d18b9d80fcb45578f7537539346e328",
       "version_major": 2,
       "version_minor": 0
      },
      "text/plain": [
       "shard.00043.mds:   0%|          | 0.00/67.1M [00:00<?, ?B/s]"
      ]
     },
     "metadata": {},
     "output_type": "display_data"
    },
    {
     "data": {
      "application/vnd.jupyter.widget-view+json": {
       "model_id": "76d0c17413ba4d3abb77cc62ef6e649b",
       "version_major": 2,
       "version_minor": 0
      },
      "text/plain": [
       "shard.00044.mds:   0%|          | 0.00/67.1M [00:00<?, ?B/s]"
      ]
     },
     "metadata": {},
     "output_type": "display_data"
    },
    {
     "data": {
      "application/vnd.jupyter.widget-view+json": {
       "model_id": "5ca1a6fe01544aecb686c1c0dd6626b5",
       "version_major": 2,
       "version_minor": 0
      },
      "text/plain": [
       "shard.00045.mds:   0%|          | 0.00/67.1M [00:00<?, ?B/s]"
      ]
     },
     "metadata": {},
     "output_type": "display_data"
    },
    {
     "data": {
      "application/vnd.jupyter.widget-view+json": {
       "model_id": "1969b048132b4a39a73bcacd90f4561a",
       "version_major": 2,
       "version_minor": 0
      },
      "text/plain": [
       "shard.00046.mds:   0%|          | 0.00/67.1M [00:00<?, ?B/s]"
      ]
     },
     "metadata": {},
     "output_type": "display_data"
    },
    {
     "data": {
      "application/vnd.jupyter.widget-view+json": {
       "model_id": "437083efce7f401c9ea508963e4f2e9f",
       "version_major": 2,
       "version_minor": 0
      },
      "text/plain": [
       "shard.00047.mds:   0%|          | 0.00/67.1M [00:00<?, ?B/s]"
      ]
     },
     "metadata": {},
     "output_type": "display_data"
    },
    {
     "data": {
      "application/vnd.jupyter.widget-view+json": {
       "model_id": "aa3eee2ea854461d81184a5cdf3e8753",
       "version_major": 2,
       "version_minor": 0
      },
      "text/plain": [
       "shard.00048.mds:   0%|          | 0.00/67.1M [00:00<?, ?B/s]"
      ]
     },
     "metadata": {},
     "output_type": "display_data"
    },
    {
     "data": {
      "application/vnd.jupyter.widget-view+json": {
       "model_id": "f88e385057e541eb87e2221512502280",
       "version_major": 2,
       "version_minor": 0
      },
      "text/plain": [
       "shard.00049.mds:   0%|          | 0.00/67.1M [00:00<?, ?B/s]"
      ]
     },
     "metadata": {},
     "output_type": "display_data"
    },
    {
     "data": {
      "application/vnd.jupyter.widget-view+json": {
       "model_id": "43a15019a99b478ea944e5f6449fc240",
       "version_major": 2,
       "version_minor": 0
      },
      "text/plain": [
       "shard.00050.mds:   0%|          | 0.00/67.1M [00:00<?, ?B/s]"
      ]
     },
     "metadata": {},
     "output_type": "display_data"
    },
    {
     "data": {
      "application/vnd.jupyter.widget-view+json": {
       "model_id": "921b968374da47b3821dd5325b8f0213",
       "version_major": 2,
       "version_minor": 0
      },
      "text/plain": [
       "shard.00051.mds:   0%|          | 0.00/67.1M [00:00<?, ?B/s]"
      ]
     },
     "metadata": {},
     "output_type": "display_data"
    },
    {
     "data": {
      "application/vnd.jupyter.widget-view+json": {
       "model_id": "f87fd0248df74e709934334b4a5af8a5",
       "version_major": 2,
       "version_minor": 0
      },
      "text/plain": [
       "shard.00052.mds:   0%|          | 0.00/67.1M [00:00<?, ?B/s]"
      ]
     },
     "metadata": {},
     "output_type": "display_data"
    },
    {
     "data": {
      "application/vnd.jupyter.widget-view+json": {
       "model_id": "185b2bf95b7a40bd87b923842aa34ef5",
       "version_major": 2,
       "version_minor": 0
      },
      "text/plain": [
       "shard.00053.mds:   0%|          | 0.00/67.1M [00:00<?, ?B/s]"
      ]
     },
     "metadata": {},
     "output_type": "display_data"
    },
    {
     "data": {
      "application/vnd.jupyter.widget-view+json": {
       "model_id": "888c5b70df364013a1bac603d26268e4",
       "version_major": 2,
       "version_minor": 0
      },
      "text/plain": [
       "shard.00054.mds:   0%|          | 0.00/67.1M [00:00<?, ?B/s]"
      ]
     },
     "metadata": {},
     "output_type": "display_data"
    },
    {
     "data": {
      "application/vnd.jupyter.widget-view+json": {
       "model_id": "0a45c170019a498db104ab353d7ceb75",
       "version_major": 2,
       "version_minor": 0
      },
      "text/plain": [
       "shard.00055.mds:   0%|          | 0.00/67.1M [00:00<?, ?B/s]"
      ]
     },
     "metadata": {},
     "output_type": "display_data"
    },
    {
     "data": {
      "application/vnd.jupyter.widget-view+json": {
       "model_id": "5eb6fd52b0fb4872afe74168cc03b13c",
       "version_major": 2,
       "version_minor": 0
      },
      "text/plain": [
       "shard.00056.mds:   0%|          | 0.00/67.1M [00:00<?, ?B/s]"
      ]
     },
     "metadata": {},
     "output_type": "display_data"
    },
    {
     "data": {
      "application/vnd.jupyter.widget-view+json": {
       "model_id": "efc4fd215c6441b0b57b5f472fbeb9fb",
       "version_major": 2,
       "version_minor": 0
      },
      "text/plain": [
       "shard.00057.mds:   0%|          | 0.00/67.1M [00:00<?, ?B/s]"
      ]
     },
     "metadata": {},
     "output_type": "display_data"
    },
    {
     "data": {
      "application/vnd.jupyter.widget-view+json": {
       "model_id": "9f8a53aca8274a8dba5c2fcb2755f39a",
       "version_major": 2,
       "version_minor": 0
      },
      "text/plain": [
       "shard.00058.mds:   0%|          | 0.00/67.1M [00:00<?, ?B/s]"
      ]
     },
     "metadata": {},
     "output_type": "display_data"
    },
    {
     "data": {
      "application/vnd.jupyter.widget-view+json": {
       "model_id": "208914daa0294fcf96ae4d71abbc1004",
       "version_major": 2,
       "version_minor": 0
      },
      "text/plain": [
       "shard.00059.mds:   0%|          | 0.00/67.1M [00:00<?, ?B/s]"
      ]
     },
     "metadata": {},
     "output_type": "display_data"
    },
    {
     "data": {
      "application/vnd.jupyter.widget-view+json": {
       "model_id": "d195d362ce4842d9ba32465364a525d8",
       "version_major": 2,
       "version_minor": 0
      },
      "text/plain": [
       "shard.00060.mds:   0%|          | 0.00/67.1M [00:00<?, ?B/s]"
      ]
     },
     "metadata": {},
     "output_type": "display_data"
    },
    {
     "data": {
      "application/vnd.jupyter.widget-view+json": {
       "model_id": "5f2f54b12da140e4930a0d3e241c76d9",
       "version_major": 2,
       "version_minor": 0
      },
      "text/plain": [
       "shard.00061.mds:   0%|          | 0.00/67.1M [00:00<?, ?B/s]"
      ]
     },
     "metadata": {},
     "output_type": "display_data"
    },
    {
     "data": {
      "application/vnd.jupyter.widget-view+json": {
       "model_id": "6aa79c638d7c4f28aa4c5cc363e7224b",
       "version_major": 2,
       "version_minor": 0
      },
      "text/plain": [
       "shard.00062.mds:   0%|          | 0.00/67.1M [00:00<?, ?B/s]"
      ]
     },
     "metadata": {},
     "output_type": "display_data"
    },
    {
     "data": {
      "application/vnd.jupyter.widget-view+json": {
       "model_id": "3ab25129c079402b8f4b21d10122db14",
       "version_major": 2,
       "version_minor": 0
      },
      "text/plain": [
       "shard.00063.mds:   0%|          | 0.00/67.1M [00:00<?, ?B/s]"
      ]
     },
     "metadata": {},
     "output_type": "display_data"
    },
    {
     "data": {
      "application/vnd.jupyter.widget-view+json": {
       "model_id": "347ec0c37fe347e095655a8bf1b07884",
       "version_major": 2,
       "version_minor": 0
      },
      "text/plain": [
       "shard.00064.mds:   0%|          | 0.00/67.1M [00:00<?, ?B/s]"
      ]
     },
     "metadata": {},
     "output_type": "display_data"
    },
    {
     "data": {
      "application/vnd.jupyter.widget-view+json": {
       "model_id": "ef1a8eb2223c42c9bb5570333ab6a482",
       "version_major": 2,
       "version_minor": 0
      },
      "text/plain": [
       "shard.00065.mds:   0%|          | 0.00/67.1M [00:00<?, ?B/s]"
      ]
     },
     "metadata": {},
     "output_type": "display_data"
    },
    {
     "data": {
      "application/vnd.jupyter.widget-view+json": {
       "model_id": "e84ab629bf7b442b96a61d60b6a903c3",
       "version_major": 2,
       "version_minor": 0
      },
      "text/plain": [
       "shard.00066.mds:   0%|          | 0.00/67.1M [00:00<?, ?B/s]"
      ]
     },
     "metadata": {},
     "output_type": "display_data"
    },
    {
     "data": {
      "application/vnd.jupyter.widget-view+json": {
       "model_id": "da3a412ededa4504b44945db1a2b482c",
       "version_major": 2,
       "version_minor": 0
      },
      "text/plain": [
       "shard.00067.mds:   0%|          | 0.00/67.1M [00:00<?, ?B/s]"
      ]
     },
     "metadata": {},
     "output_type": "display_data"
    },
    {
     "data": {
      "application/vnd.jupyter.widget-view+json": {
       "model_id": "e0ea755b5e7548d2aa7f554c698f2f2d",
       "version_major": 2,
       "version_minor": 0
      },
      "text/plain": [
       "shard.00068.mds:   0%|          | 0.00/67.1M [00:00<?, ?B/s]"
      ]
     },
     "metadata": {},
     "output_type": "display_data"
    },
    {
     "data": {
      "application/vnd.jupyter.widget-view+json": {
       "model_id": "6a30a672bc88420f9d5338ec9c4c18c3",
       "version_major": 2,
       "version_minor": 0
      },
      "text/plain": [
       "shard.00069.mds:   0%|          | 0.00/67.1M [00:00<?, ?B/s]"
      ]
     },
     "metadata": {},
     "output_type": "display_data"
    },
    {
     "data": {
      "application/vnd.jupyter.widget-view+json": {
       "model_id": "2a6d3835a4d44e158e0e383bc4c7e533",
       "version_major": 2,
       "version_minor": 0
      },
      "text/plain": [
       "shard.00070.mds:   0%|          | 0.00/67.1M [00:00<?, ?B/s]"
      ]
     },
     "metadata": {},
     "output_type": "display_data"
    },
    {
     "data": {
      "application/vnd.jupyter.widget-view+json": {
       "model_id": "b5a4d510f3834595bfcb4f6fcff76c9b",
       "version_major": 2,
       "version_minor": 0
      },
      "text/plain": [
       "shard.00071.mds:   0%|          | 0.00/67.1M [00:00<?, ?B/s]"
      ]
     },
     "metadata": {},
     "output_type": "display_data"
    },
    {
     "data": {
      "application/vnd.jupyter.widget-view+json": {
       "model_id": "118590a6d6c64cdc8c61a15216121e8e",
       "version_major": 2,
       "version_minor": 0
      },
      "text/plain": [
       "shard.00072.mds:   0%|          | 0.00/67.1M [00:00<?, ?B/s]"
      ]
     },
     "metadata": {},
     "output_type": "display_data"
    },
    {
     "data": {
      "application/vnd.jupyter.widget-view+json": {
       "model_id": "7ae1d61de1a941f2a13f0d3c3bef5ec3",
       "version_major": 2,
       "version_minor": 0
      },
      "text/plain": [
       "shard.00073.mds:   0%|          | 0.00/67.1M [00:00<?, ?B/s]"
      ]
     },
     "metadata": {},
     "output_type": "display_data"
    },
    {
     "data": {
      "application/vnd.jupyter.widget-view+json": {
       "model_id": "102627904e214c15bf2e4162834b1079",
       "version_major": 2,
       "version_minor": 0
      },
      "text/plain": [
       "shard.00074.mds:   0%|          | 0.00/67.1M [00:00<?, ?B/s]"
      ]
     },
     "metadata": {},
     "output_type": "display_data"
    },
    {
     "data": {
      "application/vnd.jupyter.widget-view+json": {
       "model_id": "a126fb0703a4445d84964d2660a86b80",
       "version_major": 2,
       "version_minor": 0
      },
      "text/plain": [
       "shard.00075.mds:   0%|          | 0.00/67.1M [00:00<?, ?B/s]"
      ]
     },
     "metadata": {},
     "output_type": "display_data"
    },
    {
     "data": {
      "application/vnd.jupyter.widget-view+json": {
       "model_id": "57444937775649749b945cf461f810ae",
       "version_major": 2,
       "version_minor": 0
      },
      "text/plain": [
       "shard.00076.mds:   0%|          | 0.00/67.1M [00:00<?, ?B/s]"
      ]
     },
     "metadata": {},
     "output_type": "display_data"
    },
    {
     "data": {
      "application/vnd.jupyter.widget-view+json": {
       "model_id": "385ab2621e3547c2962fc9ab91a63c5a",
       "version_major": 2,
       "version_minor": 0
      },
      "text/plain": [
       "shard.00077.mds:   0%|          | 0.00/67.1M [00:00<?, ?B/s]"
      ]
     },
     "metadata": {},
     "output_type": "display_data"
    },
    {
     "data": {
      "application/vnd.jupyter.widget-view+json": {
       "model_id": "e6c678cdb73d4b6d8ceaa1be6f6f1811",
       "version_major": 2,
       "version_minor": 0
      },
      "text/plain": [
       "shard.00078.mds:   0%|          | 0.00/67.1M [00:00<?, ?B/s]"
      ]
     },
     "metadata": {},
     "output_type": "display_data"
    },
    {
     "data": {
      "application/vnd.jupyter.widget-view+json": {
       "model_id": "2ba6bb50ff6c4c07bc6b898713b323ac",
       "version_major": 2,
       "version_minor": 0
      },
      "text/plain": [
       "shard.00079.mds:   0%|          | 0.00/67.1M [00:00<?, ?B/s]"
      ]
     },
     "metadata": {},
     "output_type": "display_data"
    },
    {
     "data": {
      "application/vnd.jupyter.widget-view+json": {
       "model_id": "9f9ce796e3a248ca8059283f32d3a982",
       "version_major": 2,
       "version_minor": 0
      },
      "text/plain": [
       "shard.00080.mds:   0%|          | 0.00/67.1M [00:00<?, ?B/s]"
      ]
     },
     "metadata": {},
     "output_type": "display_data"
    },
    {
     "data": {
      "application/vnd.jupyter.widget-view+json": {
       "model_id": "fb41a585f48d4da7b74ea7ebc3791a00",
       "version_major": 2,
       "version_minor": 0
      },
      "text/plain": [
       "shard.00081.mds:   0%|          | 0.00/67.1M [00:00<?, ?B/s]"
      ]
     },
     "metadata": {},
     "output_type": "display_data"
    },
    {
     "data": {
      "application/vnd.jupyter.widget-view+json": {
       "model_id": "96973f46a5254e6e85cdcaa2035eb1e2",
       "version_major": 2,
       "version_minor": 0
      },
      "text/plain": [
       "shard.00082.mds:   0%|          | 0.00/67.1M [00:00<?, ?B/s]"
      ]
     },
     "metadata": {},
     "output_type": "display_data"
    },
    {
     "data": {
      "application/vnd.jupyter.widget-view+json": {
       "model_id": "250babc8409447329ef36c9c2719eb59",
       "version_major": 2,
       "version_minor": 0
      },
      "text/plain": [
       "shard.00083.mds:   0%|          | 0.00/67.1M [00:00<?, ?B/s]"
      ]
     },
     "metadata": {},
     "output_type": "display_data"
    },
    {
     "data": {
      "application/vnd.jupyter.widget-view+json": {
       "model_id": "696f2d6a8b36452fa130e2611f930417",
       "version_major": 2,
       "version_minor": 0
      },
      "text/plain": [
       "shard.00084.mds:   0%|          | 0.00/67.1M [00:00<?, ?B/s]"
      ]
     },
     "metadata": {},
     "output_type": "display_data"
    },
    {
     "data": {
      "application/vnd.jupyter.widget-view+json": {
       "model_id": "2a443ad10a2b4bee8ed13778ffd3967d",
       "version_major": 2,
       "version_minor": 0
      },
      "text/plain": [
       "shard.00085.mds:   0%|          | 0.00/67.1M [00:00<?, ?B/s]"
      ]
     },
     "metadata": {},
     "output_type": "display_data"
    },
    {
     "data": {
      "application/vnd.jupyter.widget-view+json": {
       "model_id": "2632a39368124e148833afe302b839e8",
       "version_major": 2,
       "version_minor": 0
      },
      "text/plain": [
       "shard.00086.mds:   0%|          | 0.00/67.1M [00:00<?, ?B/s]"
      ]
     },
     "metadata": {},
     "output_type": "display_data"
    },
    {
     "data": {
      "application/vnd.jupyter.widget-view+json": {
       "model_id": "872dd3ce4a86470183db23771fbb2989",
       "version_major": 2,
       "version_minor": 0
      },
      "text/plain": [
       "shard.00087.mds:   0%|          | 0.00/67.1M [00:00<?, ?B/s]"
      ]
     },
     "metadata": {},
     "output_type": "display_data"
    },
    {
     "data": {
      "application/vnd.jupyter.widget-view+json": {
       "model_id": "3de54f67c47b41ec9c9c92c0a6944ad2",
       "version_major": 2,
       "version_minor": 0
      },
      "text/plain": [
       "shard.00088.mds:   0%|          | 0.00/67.1M [00:00<?, ?B/s]"
      ]
     },
     "metadata": {},
     "output_type": "display_data"
    },
    {
     "data": {
      "application/vnd.jupyter.widget-view+json": {
       "model_id": "9b32fb0c0e134ca3aa5c3647013ffadc",
       "version_major": 2,
       "version_minor": 0
      },
      "text/plain": [
       "shard.00089.mds:   0%|          | 0.00/67.1M [00:00<?, ?B/s]"
      ]
     },
     "metadata": {},
     "output_type": "display_data"
    },
    {
     "data": {
      "application/vnd.jupyter.widget-view+json": {
       "model_id": "86cdade327954a9591876ce61444e02f",
       "version_major": 2,
       "version_minor": 0
      },
      "text/plain": [
       "shard.00090.mds:   0%|          | 0.00/67.1M [00:00<?, ?B/s]"
      ]
     },
     "metadata": {},
     "output_type": "display_data"
    },
    {
     "data": {
      "application/vnd.jupyter.widget-view+json": {
       "model_id": "bc15b1300f6745f496254ae3b7c04ba5",
       "version_major": 2,
       "version_minor": 0
      },
      "text/plain": [
       "shard.00091.mds:   0%|          | 0.00/67.1M [00:00<?, ?B/s]"
      ]
     },
     "metadata": {},
     "output_type": "display_data"
    },
    {
     "data": {
      "application/vnd.jupyter.widget-view+json": {
       "model_id": "8fc8b9db645c47b9a4c35833a0b80b24",
       "version_major": 2,
       "version_minor": 0
      },
      "text/plain": [
       "shard.00092.mds:   0%|          | 0.00/67.1M [00:00<?, ?B/s]"
      ]
     },
     "metadata": {},
     "output_type": "display_data"
    },
    {
     "data": {
      "application/vnd.jupyter.widget-view+json": {
       "model_id": "8ed478ba4d544a359504ca62f996367e",
       "version_major": 2,
       "version_minor": 0
      },
      "text/plain": [
       "shard.00093.mds:   0%|          | 0.00/67.1M [00:00<?, ?B/s]"
      ]
     },
     "metadata": {},
     "output_type": "display_data"
    },
    {
     "data": {
      "application/vnd.jupyter.widget-view+json": {
       "model_id": "d5a727756dbe470b893fb46f9a8c9a5e",
       "version_major": 2,
       "version_minor": 0
      },
      "text/plain": [
       "shard.00094.mds:   0%|          | 0.00/67.1M [00:00<?, ?B/s]"
      ]
     },
     "metadata": {},
     "output_type": "display_data"
    },
    {
     "data": {
      "application/vnd.jupyter.widget-view+json": {
       "model_id": "c23e4ac971f94872824156344f772020",
       "version_major": 2,
       "version_minor": 0
      },
      "text/plain": [
       "shard.00095.mds:   0%|          | 0.00/67.1M [00:00<?, ?B/s]"
      ]
     },
     "metadata": {},
     "output_type": "display_data"
    },
    {
     "data": {
      "application/vnd.jupyter.widget-view+json": {
       "model_id": "48ac8b63e4614faaad7a20b67f964aaa",
       "version_major": 2,
       "version_minor": 0
      },
      "text/plain": [
       "shard.00096.mds:   0%|          | 0.00/67.1M [00:00<?, ?B/s]"
      ]
     },
     "metadata": {},
     "output_type": "display_data"
    },
    {
     "data": {
      "application/vnd.jupyter.widget-view+json": {
       "model_id": "6335d7acaf644510aa403984787f2391",
       "version_major": 2,
       "version_minor": 0
      },
      "text/plain": [
       "shard.00097.mds:   0%|          | 0.00/67.1M [00:00<?, ?B/s]"
      ]
     },
     "metadata": {},
     "output_type": "display_data"
    },
    {
     "data": {
      "application/vnd.jupyter.widget-view+json": {
       "model_id": "71f89a71f7b54237a990971f3b2a9fcd",
       "version_major": 2,
       "version_minor": 0
      },
      "text/plain": [
       "shard.00098.mds:   0%|          | 0.00/67.1M [00:00<?, ?B/s]"
      ]
     },
     "metadata": {},
     "output_type": "display_data"
    },
    {
     "data": {
      "application/vnd.jupyter.widget-view+json": {
       "model_id": "6cf2f1cd924d423faf7d1ce340145144",
       "version_major": 2,
       "version_minor": 0
      },
      "text/plain": [
       "shard.00099.mds:   0%|          | 0.00/67.1M [00:00<?, ?B/s]"
      ]
     },
     "metadata": {},
     "output_type": "display_data"
    },
    {
     "data": {
      "application/vnd.jupyter.widget-view+json": {
       "model_id": "d5d92d981f9a4aada324cbf4a6835a19",
       "version_major": 2,
       "version_minor": 0
      },
      "text/plain": [
       "shard.00100.mds:   0%|          | 0.00/67.1M [00:00<?, ?B/s]"
      ]
     },
     "metadata": {},
     "output_type": "display_data"
    },
    {
     "data": {
      "application/vnd.jupyter.widget-view+json": {
       "model_id": "960f756ea56849e281a7955a38f4082a",
       "version_major": 2,
       "version_minor": 0
      },
      "text/plain": [
       "shard.00101.mds:   0%|          | 0.00/67.1M [00:00<?, ?B/s]"
      ]
     },
     "metadata": {},
     "output_type": "display_data"
    }
   ],
   "source": [
    "from huggingface_hub import HfApi\n",
    "api = HfApi()\n",
    "\n",
    "api.upload_folder(\n",
    "    folder_path=\"smollm2-speech-semantic-multipack-2048\",\n",
    "    repo_id=\"mesolitica/smollm2-speech-semantic-multipack-2048\",\n",
    "    repo_type=\"dataset\",\n",
    ")"
   ]
  },
  {
   "cell_type": "code",
   "execution_count": null,
   "id": "7247f0b1",
   "metadata": {},
   "outputs": [],
   "source": []
  }
 ],
 "metadata": {
  "kernelspec": {
   "display_name": "python3.10",
   "language": "python",
   "name": "python3.10"
  },
  "language_info": {
   "codemirror_mode": {
    "name": "ipython",
    "version": 3
   },
   "file_extension": ".py",
   "mimetype": "text/x-python",
   "name": "python",
   "nbconvert_exporter": "python",
   "pygments_lexer": "ipython3",
   "version": "3.10.15"
  }
 },
 "nbformat": 4,
 "nbformat_minor": 5
}
