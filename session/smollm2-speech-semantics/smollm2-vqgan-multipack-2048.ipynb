{
 "cells": [
  {
   "cell_type": "code",
   "execution_count": 1,
   "id": "4c7887b3",
   "metadata": {},
   "outputs": [
    {
     "data": {
      "text/plain": [
       "360298"
      ]
     },
     "execution_count": 1,
     "metadata": {},
     "output_type": "execute_result"
    }
   ],
   "source": [
    "import pandas as pd\n",
    "\n",
    "df = pd.read_parquet('data/train-00000-of-00001.parquet').to_dict(orient = 'records')\n",
    "len(df)"
   ]
  },
  {
   "cell_type": "code",
   "execution_count": 2,
   "id": "bc84e70b",
   "metadata": {},
   "outputs": [
    {
     "name": "stderr",
     "output_type": "stream",
     "text": [
      "/home/husein/.local/lib/python3.10/site-packages/vector_quantize_pytorch/vector_quantize_pytorch.py:445: FutureWarning: `torch.cuda.amp.autocast(args...)` is deprecated. Please use `torch.amp.autocast('cuda', args...)` instead.\n",
      "  @autocast(enabled = False)\n",
      "/home/husein/.local/lib/python3.10/site-packages/vector_quantize_pytorch/vector_quantize_pytorch.py:630: FutureWarning: `torch.cuda.amp.autocast(args...)` is deprecated. Please use `torch.amp.autocast('cuda', args...)` instead.\n",
      "  @autocast(enabled = False)\n",
      "/home/husein/.local/lib/python3.10/site-packages/vector_quantize_pytorch/finite_scalar_quantization.py:147: FutureWarning: `torch.cuda.amp.autocast(args...)` is deprecated. Please use `torch.amp.autocast('cuda', args...)` instead.\n",
      "  @autocast(enabled = False)\n",
      "/home/husein/.local/lib/python3.10/site-packages/vector_quantize_pytorch/lookup_free_quantization.py:209: FutureWarning: `torch.cuda.amp.autocast(args...)` is deprecated. Please use `torch.amp.autocast('cuda', args...)` instead.\n",
      "  @autocast(enabled = False)\n"
     ]
    }
   ],
   "source": [
    "from dynamicbatch_ttspipeline.fishspeech.load import load_vqgan\n",
    "import torch\n",
    "import IPython.display as ipd"
   ]
  },
  {
   "cell_type": "code",
   "execution_count": 3,
   "id": "9662e478",
   "metadata": {},
   "outputs": [],
   "source": [
    "from transformers import AutoTokenizer, AutoConfig\n",
    "from transformers import AddedToken\n",
    "import os\n",
    "import numpy as np\n",
    "\n",
    "tokenizer = AutoTokenizer.from_pretrained('mesolitica/SmolLM2-135M-firefly-vqgan')"
   ]
  },
  {
   "cell_type": "code",
   "execution_count": 4,
   "id": "ba5f15ae",
   "metadata": {},
   "outputs": [],
   "source": [
    "speaker = df[0]['speaker']\n",
    "t = df[0]['transcription']\n",
    "splitted = df[0]['audio_filename'].split('/')\n",
    "new_f = '/'.join([splitted[0] + '_vqgan'] + splitted[1:]).replace('.mp3', '.npy')\n",
    "speech_t = np.load(new_f)\n",
    "speech_t = ''.join([f'<|{t}|>' for t in speech_t.tolist()])\n",
    "tts = f'<|text_start|>{speaker}: {t}<|text_end|><|speech_start|>{speech_t}<|speech_end|>'"
   ]
  },
  {
   "cell_type": "code",
   "execution_count": 5,
   "id": "0d5b1c02",
   "metadata": {},
   "outputs": [],
   "source": [
    "tokens = tts.split('<|speech_start|>')[1].split('<|speech_end|>')[0]"
   ]
  },
  {
   "cell_type": "code",
   "execution_count": 6,
   "id": "c2d0eb8f",
   "metadata": {},
   "outputs": [
    {
     "data": {
      "text/plain": [
       "(8, 153)"
      ]
     },
     "execution_count": 6,
     "metadata": {},
     "output_type": "execute_result"
    }
   ],
   "source": [
    "import re\n",
    "\n",
    "numbers = [int(t) for t in re.findall(r'<\\|(\\d+)\\|>', tokens)]\n",
    "np.array(numbers).reshape((-1, 8)).T.shape"
   ]
  },
  {
   "cell_type": "code",
   "execution_count": 7,
   "id": "d374b439",
   "metadata": {
    "scrolled": true
   },
   "outputs": [],
   "source": [
    "# model = load_vqgan(device = 'cuda')\n",
    "# i = torch.tensor(np.array(numbers).reshape((-1, 8)).T[None])\n",
    "# y_, _ = model.decode(i.cuda(), torch.tensor([i.shape[-1]]).cuda())\n",
    "# ipd.Audio(y_.detach().cpu().numpy()[0, 0], rate = model.spec_transform.sample_rate)"
   ]
  },
  {
   "cell_type": "code",
   "execution_count": 8,
   "id": "20384f6b",
   "metadata": {},
   "outputs": [],
   "source": [
    "import gc\n",
    "\n",
    "def collator(batch, batch_position_ids):\n",
    "    input_ids = []\n",
    "    position_ids = []\n",
    "    masks = []\n",
    "    for i in range(len(batch)):\n",
    "        l = len(batch[i])\n",
    "        input_ids.extend(batch[i])\n",
    "        position_ids.extend(batch_position_ids[i])\n",
    "        masks.append(l)\n",
    "    \n",
    "    return {\n",
    "        'input_ids': np.array(input_ids).astype(np.uint32),\n",
    "        'position_ids': np.array(position_ids).astype(np.uint32),\n",
    "        'attention_mask': np.array(masks).astype(np.uint32),\n",
    "    }\n",
    "\n",
    "def slice_and_balance(nested_list, size):\n",
    "    first = []\n",
    "    balance = []\n",
    "    current_size = 0\n",
    "\n",
    "    for sublist in nested_list:\n",
    "        if current_size < size:\n",
    "            remaining_space = size - current_size\n",
    "            if len(sublist) <= remaining_space:\n",
    "                first.append(sublist)\n",
    "                current_size += len(sublist)\n",
    "            else:\n",
    "                first.append(sublist[:remaining_space])\n",
    "                balance.append(sublist[remaining_space:])\n",
    "                current_size = size\n",
    "        else:\n",
    "            balance.append(sublist)\n",
    "    \n",
    "    return first, balance"
   ]
  },
  {
   "cell_type": "code",
   "execution_count": 9,
   "id": "76757131",
   "metadata": {},
   "outputs": [],
   "source": [
    "!rm -rf tokenized-2048\n",
    "!mkdir tokenized-2048"
   ]
  },
  {
   "cell_type": "code",
   "execution_count": 10,
   "id": "cfcb4fc4",
   "metadata": {},
   "outputs": [],
   "source": [
    "from streaming import MDSWriter\n",
    "from streaming.base.format.mds.encodings import Encoding, _encodings\n",
    "from streaming import LocalDataset\n",
    "import streaming\n",
    "import numpy as np\n",
    "from tqdm import tqdm\n",
    "from glob import glob\n",
    "import os\n",
    "import json\n",
    "\n",
    "class UInt32(Encoding):\n",
    "    def encode(self, obj) -> bytes:\n",
    "        return obj.tobytes()\n",
    "\n",
    "    def decode(self, data: bytes):\n",
    "        return np.frombuffer(data, np.uint32)\n",
    "\n",
    "_encodings['uint32'] = UInt32\n",
    "\n",
    "columns = {\n",
    "    'input_ids': 'uint32',\n",
    "    'position_ids': 'uint32',\n",
    "    'attention_mask': 'uint32',\n",
    "}\n",
    "hashes = 'sha1', 'xxh64'"
   ]
  },
  {
   "cell_type": "code",
   "execution_count": 13,
   "id": "a4ba4a94",
   "metadata": {},
   "outputs": [
    {
     "data": {
      "text/plain": [
       "8192"
      ]
     },
     "execution_count": 13,
     "metadata": {},
     "output_type": "execute_result"
    }
   ],
   "source": [
    "tokenizer.model_max_length"
   ]
  },
  {
   "cell_type": "code",
   "execution_count": 14,
   "id": "3268e801",
   "metadata": {},
   "outputs": [],
   "source": [
    "import time\n",
    "\n",
    "def loop(files, block_size = 2048):\n",
    "    rows, index = files\n",
    "    out_root = f'tokenized-2048/tokenized-{index}'\n",
    "    os.system(f'rm -rf {out_root}')\n",
    "    count = 0\n",
    "    temp = []\n",
    "    position_ids = []\n",
    "    last_block, last_position_block = None, None\n",
    "    with MDSWriter(out=out_root, columns=columns, compression=None, hashes=hashes) as out:\n",
    "        for row in tqdm(rows):\n",
    "            \n",
    "            speaker = row['speaker']\n",
    "            t = row['transcription']\n",
    "            splitted = row['audio_filename'].split('/')\n",
    "            new_f = '/'.join([splitted[0] + '_vqgan'] + splitted[1:]).replace('.mp3', '.npy')\n",
    "            speech_t = np.load(new_f)\n",
    "            speech_t = ''.join([f'<|{t}|>' for t in speech_t.tolist()])\n",
    "            tts = f'<|text_start|>{speaker}: {t}<|text_end|><|speech_start|>{speech_t}<|speech_end|>'\n",
    "            \n",
    "            outputs = tokenizer(tts, add_special_tokens = False)\n",
    "            if len(outputs['input_ids']) >= tokenizer.model_max_length:\n",
    "                continue\n",
    "            temp.append(outputs['input_ids'])\n",
    "            position_ids.append(range(len(outputs['input_ids'])))\n",
    "            count += len(outputs['input_ids'])\n",
    "            \n",
    "            while count >= block_size:\n",
    "                block, temp = slice_and_balance(temp, block_size)\n",
    "                block_position, position_ids = slice_and_balance(position_ids, block_size)\n",
    "                count = count - block_size\n",
    "                o = collator(block, block_position)\n",
    "                last_block = block\n",
    "                last_position_block = block_position\n",
    "                out.write(o)\n",
    "                \n",
    "        block, _ = slice_and_balance(last_block, block_size - count)\n",
    "        block_position, _ = slice_and_balance(last_position_block, block_size - count)\n",
    "\n",
    "        block.extend(temp)\n",
    "        block_position.extend(position_ids)\n",
    "\n",
    "        o = collator(block, block_position)\n",
    "        if len(o['input_ids']) == block_size:\n",
    "            out.write(o)\n",
    "            return o"
   ]
  },
  {
   "cell_type": "code",
   "execution_count": 15,
   "id": "329ea472",
   "metadata": {},
   "outputs": [
    {
     "name": "stderr",
     "output_type": "stream",
     "text": [
      "100%|██████████████████████████████████████| 1000/1000 [00:01<00:00, 993.29it/s]\n"
     ]
    },
    {
     "data": {
      "text/plain": [
       "{'input_ids': array([49595, 49955, 49696, ..., 49666, 49890, 49153], dtype=uint32),\n",
       " 'position_ids': array([ 314,  315,  316, ..., 1812, 1813, 1814], dtype=uint32),\n",
       " 'attention_mask': array([ 138,   95, 1815], dtype=uint32)}"
      ]
     },
     "execution_count": 15,
     "metadata": {},
     "output_type": "execute_result"
    }
   ],
   "source": [
    "loop((df[:1000], 0))"
   ]
  },
  {
   "cell_type": "code",
   "execution_count": 16,
   "id": "f4f25fce",
   "metadata": {},
   "outputs": [
    {
     "data": {
      "text/plain": [
       "586"
      ]
     },
     "execution_count": 16,
     "metadata": {},
     "output_type": "execute_result"
    }
   ],
   "source": [
    "dataset = LocalDataset('tokenized-2048/tokenized-0')\n",
    "len(dataset)"
   ]
  },
  {
   "cell_type": "code",
   "execution_count": 17,
   "id": "12df9abf",
   "metadata": {},
   "outputs": [
    {
     "data": {
      "text/plain": [
       "{'attention_mask': array([1274,  774], dtype=uint32),\n",
       " 'input_ids': array([49154, 11062,  1483, ..., 49651, 49408, 49282], dtype=uint32),\n",
       " 'position_ids': array([  0,   1,   2, ..., 771, 772, 773], dtype=uint32)}"
      ]
     },
     "execution_count": 17,
     "metadata": {},
     "output_type": "execute_result"
    }
   ],
   "source": [
    "dataset[0]"
   ]
  },
  {
   "cell_type": "code",
   "execution_count": 18,
   "id": "d5349fa7",
   "metadata": {
    "scrolled": false
   },
   "outputs": [
    {
     "data": {
      "text/plain": [
       "'<|text_start|>Osman: Sedangkan dalam bahasa Perancis , frira hanya bererti menggoreng di dalam minyak goreng yang banyak hingga terendam .<|text_end|><|speech_start|><|361|><|704|><|26|><|639|><|759|><|587|><|669|><|533|><|530|><|752|><|18|><|479|><|599|><|348|><|708|><|535|><|768|><|712|><|227|><|639|><|679|><|348|><|302|><|327|><|529|><|478|><|495|><|479|><|989|><|739|><|268|><|646|><|328|><|15|><|770|><|545|><|733|><|178|><|846|><|534|><|522|><|7|><|785|><|738|><|453|><|539|><|219|><|508|><|351|><|59|><|465|><|386|><|455|><|448|><|354|><|447|><|755|><|694|><|663|><|788|><|674|><|540|><|590|><|805|><|264|><|65|><|544|><|312|><|427|><|215|><|159|><|447|><|351|><|62|><|308|><|388|><|346|><|226|><|62|><|286|><|948|><|680|><|622|><|478|><|345|><|16|><|909|><|447|><|936|><|902|><|751|><|852|><|315|><|823|><|470|><|965|><|503|><|269|><|810|><|512|><|789|><|29|><|518|><|560|><|751|><|21|><|107|><|548|><|580|><|467|><|77|><|760|><|949|><|530|><|629|><|916|><|104|><|264|><|751|><|247|><|785|><|421|><|339|><|464|><|237|><|470|><|538|><|646|><|142|><|101|><|458|><|116|><|52|><|284|><|91|><|447|><|567|><|413|><|449|><|25|><|281|><|535|><|190|><|887|><|654|><|541|><|19|><|542|><|91|><|321|><|19|><|880|><|860|><|971|><|623|><|302|><|138|><|400|><|529|><|720|><|690|><|324|><|496|><|554|><|169|><|573|><|97|><|568|><|420|><|135|><|451|><|108|><|496|><|933|><|313|><|760|><|383|><|15|><|332|><|65|><|731|><|549|><|347|><|731|><|89|><|47|><|795|><|722|><|589|><|89|><|619|><|982|><|120|><|207|><|779|><|948|><|334|><|371|><|710|><|702|><|743|><|59|><|547|><|354|><|535|><|683|><|305|><|520|><|322|><|536|><|28|><|279|><|549|><|881|><|555|><|562|><|661|><|231|><|294|><|619|><|225|><|628|><|643|><|283|><|256|><|513|><|498|><|417|><|931|><|495|><|275|><|760|><|464|><|269|><|59|><|384|><|377|><|510|><|274|><|560|><|546|><|59|><|52|><|580|><|347|><|64|><|64|><|360|><|345|><|980|><|911|><|559|><|370|><|120|><|304|><|764|><|360|><|87|><|346|><|587|><|703|><|379|><|678|><|535|><|723|><|284|><|149|><|489|><|431|><|554|><|707|><|640|><|785|><|680|><|295|><|563|><|535|><|498|><|180|><|925|><|540|><|427|><|295|><|324|><|614|><|465|><|88|><|607|><|337|><|103|><|531|><|356|><|493|><|392|><|211|><|575|><|528|><|247|><|786|><|555|><|342|><|188|><|437|><|743|><|345|><|207|><|387|><|509|><|125|><|390|><|251|><|733|><|761|><|98|><|97|><|95|><|550|><|68|><|499|><|366|><|770|><|792|><|227|><|639|><|719|><|540|><|710|><|486|><|577|><|752|><|18|><|639|><|719|><|539|><|469|><|334|><|728|><|752|><|26|><|639|><|511|><|347|><|509|><|495|><|769|><|504|><|227|><|639|><|719|><|548|><|502|><|527|><|585|><|517|><|455|><|759|><|861|><|484|><|118|><|924|><|336|><|31|><|382|><|737|><|461|><|525|><|643|><|533|><|414|><|230|><|332|><|482|><|25|><|571|><|444|><|204|><|111|><|109|><|228|><|497|><|454|><|968|><|637|><|247|><|225|><|961|><|620|><|569|><|29|><|304|><|396|><|287|><|744|><|817|><|334|><|409|><|622|><|257|><|749|><|607|><|666|><|101|><|357|><|825|><|437|><|810|><|259|><|245|><|272|><|224|><|578|><|274|><|828|><|254|><|581|><|447|><|301|><|209|><|513|><|227|><|627|><|223|><|95|><|687|><|578|><|17|><|581|><|61|><|289|><|11|><|102|><|847|><|722|><|590|><|333|><|375|><|547|><|209|><|337|><|366|><|563|><|752|><|58|><|703|><|358|><|147|><|950|><|734|><|336|><|303|><|438|><|259|><|146|><|903|><|507|><|725|><|687|><|95|><|491|><|457|><|472|><|651|><|382|><|486|><|503|><|102|><|266|><|528|><|659|><|68|><|309|><|447|><|460|><|346|><|93|><|740|><|227|><|352|><|369|><|206|><|667|><|973|><|510|><|337|><|614|><|488|><|344|><|607|><|775|><|12|><|493|><|450|><|548|><|445|><|380|><|647|><|485|><|281|><|212|><|431|><|546|><|736|><|746|><|568|><|493|><|22|><|129|><|425|><|741|><|842|><|489|><|368|><|228|><|102|><|303|><|259|><|637|><|483|><|307|><|680|><|69|><|69|><|132|><|114|><|542|><|657|><|304|><|368|><|306|><|500|><|549|><|62|><|162|><|337|><|304|><|970|><|722|><|96|><|18|><|431|><|519|><|330|><|749|><|734|><|575|><|85|><|83|><|345|><|52|><|144|><|260|><|283|><|950|><|854|><|55|><|489|><|173|><|88|><|348|><|921|><|818|><|370|><|230|><|676|><|266|><|936|><|658|><|560|><|850|><|659|><|510|><|265|><|386|><|283|><|705|><|520|><|408|><|138|><|21|><|708|><|107|><|448|><|467|><|760|><|665|><|936|><|414|><|510|><|563|><|40|><|721|><|882|><|450|><|46|><|502|><|459|><|409|><|899|><|245|><|42|><|244|><|820|><|421|><|513|><|365|><|522|><|58|><|168|><|374|><|813|><|100|><|50|><|572|><|685|><|305|><|721|><|503|><|94|><|150|><|409|><|479|><|652|><|550|><|523|><|359|><|502|><|621|><|568|><|214|><|25|><|110|><|447|><|652|><|492|><|254|><|579|><|25|><|216|><|170|><|407|><|943|><|698|><|742|><|238|><|8|><|288|><|720|><|887|><|711|><|737|><|468|><|271|><|378|><|56|><|651|><|721|><|456|><|918|><|671|><|955|><|546|><|697|><|627|><|963|><|457|><|541|><|12|><|378|><|180|><|192|><|498|><|760|><|674|><|737|><|109|><|167|><|323|><|305|><|378|><|529|><|771|><|46|><|339|><|417|><|493|><|667|><|536|><|120|><|59|><|61|><|258|><|555|><|739|><|711|><|353|><|560|><|646|><|295|><|510|><|473|><|556|><|483|><|139|><|721|><|452|><|92|><|11|><|115|><|378|><|661|><|73|><|760|><|834|><|739|><|222|><|917|><|154|><|488|><|899|><|760|><|630|><|751|><|270|><|505|><|492|><|704|><|913|><|760|><|703|><|567|><|221|><|579|><|132|><|336|><|373|><|322|><|791|><|573|><|623|><|230|><|370|><|400|><|332|><|842|><|942|><|703|><|142|><|768|><|542|><|58|><|515|><|560|><|737|><|212|><|18|><|283|><|336|><|62|><|392|><|520|><|745|><|249|><|311|><|302|><|66|><|403|><|91|><|685|><|379|><|984|><|469|><|679|><|747|><|136|><|740|><|845|><|289|><|412|><|53|><|284|><|448|><|373|><|203|><|49|><|320|><|888|><|461|><|473|><|414|><|333|><|290|><|520|><|241|><|628|><|499|><|306|><|972|><|803|><|267|><|360|><|479|><|143|><|311|><|410|><|477|><|692|><|516|><|681|><|351|><|535|><|460|><|368|><|351|><|58|><|70|><|325|><|661|><|653|><|214|><|572|><|10|><|256|><|364|><|207|><|934|><|699|><|782|><|430|><|8|><|480|><|482|><|647|><|742|><|694|><|423|><|68|><|179|><|41|><|427|><|921|><|898|><|693|><|99|><|768|><|788|><|50|><|154|><|360|><|729|><|217|><|28|><|100|><|137|><|291|><|105|><|681|><|896|><|760|><|430|><|662|><|137|><|80|><|570|><|683|><|449|><|731|><|911|><|716|><|874|><|740|><|310|><|883|><|640|><|457|><|289|><|97|><|416|><|534|><|178|><|921|><|264|><|141|><|68|><|377|><|379|><|467|><|274|><|760|><|468|><|139|><|52|><|741|><|348|><|152|><|297|><|360|><|663|><|935|><|631|><|300|><|748|><|480|><|469|><|523|><|743|><|631|><|291|><|770|><|754|><|53|><|399|><|287|><|773|><|285|><|99|><|60|><|376|><|45|><|306|><|724|><|513|><|59|><|270|><|463|><|249|><|260|><|98|><|444|><|329|><|739|><|95|><|575|><|572|><|498|><|346|><|164|><|329|><|727|><|343|><|542|><|126|><|716|><|492|><|684|><|724|><|326|><|54|><|417|><|147|><|456|><|297|><|760|><|863|><|983|><|219|><|509|><|147|><|248|><|388|><|721|><|543|><|748|><|614|><|438|><|178|><|208|><|692|><|882|><|660|><|703|><|743|><|562|><|499|><|490|><|611|><|522|><|143|><|271|><|490|><|489|><|783|><|307|><|559|><|526|><|532|><|339|><|499|><|95|><|308|><|539|><|107|><|733|><|507|><|223|><|53|><|738|><|427|><|636|><|654|><|244|><|277|><|109|><|292|><|347|><|420|><|523|><|105|><|645|><|672|><|313|><|332|><|544|><|229|><|460|><|146|><|487|><|537|><|137|><|493|><|507|><|273|><|96|><|501|><|207|><|742|><|771|><|702|><|420|><|105|><|80|><|441|><|967|><|738|><|222|><|388|><|504|><|550|><|629|><|746|><|321|><|568|><|289|><|338|><|336|><|488|><|295|><|195|><|685|><|533|><|132|><|100|><|548|><|656|><|645|><|129|><|886|><|543|><|570|><|109|><|503|><|201|><|681|><|203|><|445|><|751|><|738|><|503|><|455|><|51|><|600|><|843|><|884|><|334|><|697|><|446|><|71|><|58|><|696|><|442|><|683|><|170|><|521|><|49|><|95|><|548|><|538|><|850|><|165|><|769|><|105|><|28|><|639|><|719|><|300|><|462|><|335|><|730|><|752|><|18|><|679|><|599|><|301|><|469|><|735|><|736|><|952|><|226|><|839|><|519|><|396|><|501|><|534|><|736|><|704|><|18|><|639|><|719|><|347|><|511|><|727|><|537|><|712|><|219|><|639|><|559|><|346|><|461|><|527|><|776|><|752|><|18|><|639|><|519|><|347|><|510|><|527|><|777|><|712|><|219|><|639|><|559|><|346|><|502|><|527|><|736|><|712|><|18|><|639|><|519|><|387|><|502|><|727|><|728|><|752|><|18|><|639|><|559|><|339|><|509|><|527|><|736|><|712|><|226|><|639|><|519|><|347|><|501|><|526|><|568|><|552|><|18|><|639|><|719|><|387|><|502|><|527|><|737|><|712|><|18|><|639|><|559|><|346|><|469|><|527|><|736|><|712|><|218|><|639|><|519|><|347|><|501|><|527|><|777|><|712|><|218|><|639|><|519|><|387|><|501|><|486|><|769|><|512|><|18|><|639|><|719|><|298|><|309|><|327|><|768|><|712|><|227|><|639|><|679|><|548|><|302|><|326|><|562|><|512|><|60|><|639|><|717|><|547|><|542|><|686|><|speech_end|><|text_start|>Osman: dikenali dengan timangan tomcat , ialah satu genus kumbang kecil dalam famili Staphylinidae ( \" kumbang rayau \" ) .<|text_end|><|speech_start|><|561|><|704|><|226|><|639|><|711|><|587|><|670|><|533|><|731|><|712|><|12|><|639|><|359|><|348|><|708|><|735|><|971|><|473|><|51|><|471|><|519|><|501|><|660|><|175|><|362|><|433|><|52|><|431|><|476|><|699|><|307|><|524|><|585|><|789|><|911|><|553|><|769|><|170|><|314|><|881|><|428|><|500|><|418|><|729|><|30|><|664|><|345|><|7|><|538|><|722|><|333|><|167|><|573|><|489|><|570|><|934|><|452|><|302|><|20|><|569|><|419|><|460|><|615|><|204|><|345|><|264|><|251|><|338|><|54|><|112|><|193|><|247|><|858|><|340|><|958|><|537|><|635|><|281|><|105|><|247|><|417|><|318|><|89|><|546|><|434|><|302|><|584|><|205|><|257|><|258|><|307|><|395|><|418|><|420|><|61|><|287|><|903|><|695|><|270|><|298|><|269|><|256|><|711|><|723|><|743|><|942|><|94|><|731|><|348|><|96|><|750|><|760|><|548|><|529|><|340|><|87|><|122|><|89|><|386|><|814|><|975|><|101|><|459|><|528|><|183|><|266|><|508|><|486|><|663|><|647|><|423|><|494|><|509|><|8|><|261|><|641|><|710|><|703|><|297|><|569|><|549|><|10|><|153|><|360|><|508|><|100|><|11|><|549|><|467|><|288|><|105|><|520|><|562|><|336|><|250|><|479|><|918|><|129|><|299|><|365|><|244|><|63|><|331|><|562|><|13|><|512|><|285|><|283|><|902|><|901|><|94|><|497|><|133|><|568|><|393|><|968|><|611|><|580|><|437|><|637|><|146|><|528|><|505|><|520|><|851|><|830|><|498|><|753|><|176|><|685|><|577|><|361|><|742|><|23|><|99|><|139|><|106|><|411|><|104|><|760|><|679|><|342|><|238|><|469|><|269|><|96|><|530|><|481|><|910|><|295|><|301|><|576|><|549|><|19|><|153|><|360|><|743|><|23|><|139|><|337|><|459|><|419|><|72|><|320|><|676|><|492|><|238|><|645|><|349|><|56|><|394|><|440|><|729|><|776|><|659|><|439|><|509|><|256|><|490|><|565|><|522|><|792|><|27|><|639|><|518|><|180|><|918|><|726|><|465|><|790|><|703|><|556|><|707|><|573|><|317|><|884|><|965|><|244|><|499|><|464|><|131|><|723|><|368|><|568|><|445|><|582|><|228|><|499|><|178|><|530|><|50|><|360|><|871|><|702|><|421|><|717|><|114|><|448|><|571|><|722|><|553|><|380|><|783|><|591|><|539|><|48|><|65|><|764|><|80|><|662|><|186|><|537|><|551|><|780|><|461|><|734|><|575|><|207|><|580|><|624|><|740|><|709|><|748|><|284|><|332|><|531|><|188|><|491|><|570|><|215|><|593|><|968|><|795|><|291|><|54|><|329|><|425|><|222|><|58|><|647|><|350|><|299|><|101|><|303|><|252|><|240|><|99|><|324|><|522|><|792|><|309|><|639|><|479|><|529|><|516|><|524|><|322|><|592|><|27|><|639|><|399|><|309|><|717|><|565|><|570|><|496|><|19|><|279|><|798|><|348|><|668|><|533|><|736|><|712|><|10|><|639|><|479|><|388|><|503|><|535|><|722|><|713|><|12|><|439|><|911|><|300|><|269|><|535|><|762|><|744|><|11|><|271|><|519|><|492|><|475|><|334|><|461|><|342|><|215|><|540|><|626|><|744|><|349|><|840|><|622|><|303|><|91|><|529|><|68|><|584|><|339|><|360|><|551|><|463|><|689|><|497|><|983|><|90|><|350|><|525|><|302|><|110|><|499|><|157|><|52|><|523|><|21|><|693|><|167|><|222|><|649|><|27|><|561|><|142|><|117|><|932|><|340|><|103|><|340|><|307|><|376|><|26|><|50|><|922|><|248|><|7|><|986|><|756|><|301|><|139|><|830|><|550|><|412|><|47|><|572|><|627|><|412|><|580|><|502|><|410|><|335|><|62|><|290|><|116|><|741|><|605|><|153|><|720|><|539|><|346|><|330|><|103|><|339|><|489|><|146|><|930|><|866|><|822|><|359|><|692|><|715|><|668|><|662|><|885|><|543|><|428|><|21|><|106|><|132|><|321|><|465|><|768|><|98|><|448|><|69|><|351|><|708|><|256|><|795|><|689|><|449|><|495|><|309|><|537|><|307|><|674|><|411|><|323|><|250|><|339|><|452|><|89|><|783|><|546|><|553|><|360|><|829|><|174|><|230|><|557|><|228|><|496|><|355|><|440|><|551|><|103|><|212|><|169|><|558|><|100|><|109|><|644|><|381|><|63|><|492|><|115|><|572|><|0|><|211|><|766|><|128|><|206|><|786|><|956|><|350|><|377|><|470|><|670|><|593|><|406|><|588|><|542|><|131|><|580|><|489|><|254|><|921|><|532|><|733|><|671|><|275|><|367|><|775|><|483|><|925|><|284|><|31|><|634|><|299|><|530|><|298|><|320|><|609|><|540|><|29|><|717|><|579|><|96|><|146|><|720|><|740|><|684|><|230|><|518|><|194|><|120|><|145|><|920|><|883|><|894|><|740|><|672|><|505|><|742|><|539|><|360|><|454|><|223|><|219|><|139|><|137|><|733|><|97|><|760|><|717|><|94|><|20|><|518|><|316|><|96|><|298|><|520|><|362|><|745|><|451|><|471|><|719|><|240|><|259|><|565|><|461|><|109|><|84|><|362|><|220|><|538|><|454|><|243|><|386|><|482|><|220|><|381|><|366|><|457|><|153|><|369|><|464|><|823|><|311|><|310|><|180|><|757|><|901|><|927|><|768|><|247|><|539|><|530|><|311|><|307|><|350|><|525|><|983|><|486|><|102|><|456|><|583|><|505|><|746|><|642|><|559|><|230|><|811|><|307|><|372|><|471|><|189|><|521|><|527|><|446|><|667|><|36|><|370|><|534|><|134|><|724|><|567|><|653|><|469|><|37|><|365|><|921|><|252|><|571|><|529|><|697|><|68|><|311|><|267|><|568|><|155|><|489|><|426|><|413|><|750|><|424|><|668|><|650|><|301|><|722|><|248|><|9|><|330|><|76|><|627|><|663|><|370|><|930|><|640|><|139|><|470|><|274|><|276|><|484|><|139|><|720|><|720|><|264|><|250|><|107|><|48|><|502|><|137|><|921|><|696|><|331|><|23|><|917|><|106|><|80|><|298|><|441|><|713|><|862|><|591|><|659|><|700|><|602|><|619|><|567|><|537|><|31|><|740|><|742|><|89|><|495|><|252|><|126|>'"
      ]
     },
     "execution_count": 18,
     "metadata": {},
     "output_type": "execute_result"
    }
   ],
   "source": [
    "tokenizer.decode(dataset[0]['input_ids'])"
   ]
  },
  {
   "cell_type": "code",
   "execution_count": 19,
   "id": "4a04f32d",
   "metadata": {},
   "outputs": [],
   "source": [
    "# !wget https://gist.githubusercontent.com/huseinzol05/98974ae8c6c7a65d4bc0af9f5003786a/raw/2e06e71ef7349a57bc58cc9913ae6bae1f9f8447/mp.py"
   ]
  },
  {
   "cell_type": "code",
   "execution_count": 20,
   "id": "ba844846",
   "metadata": {},
   "outputs": [
    {
     "name": "stderr",
     "output_type": "stream",
     "text": [
      "huggingface/tokenizers: The current process just got forked, after parallelism has already been used. Disabling parallelism to avoid deadlocks...\n",
      "To disable this warning, you can either:\n",
      "\t- Avoid using `tokenizers` before the fork if possible\n",
      "\t- Explicitly set the environment variable TOKENIZERS_PARALLELISM=(true | false)\n",
      "huggingface/tokenizers: The current process just got forked, after parallelism has already been used. Disabling parallelism to avoid deadlocks...\n",
      "To disable this warning, you can either:\n",
      "\t- Avoid using `tokenizers` before the fork if possible\n",
      "\t- Explicitly set the environment variable TOKENIZERS_PARALLELISM=(true | false)\n",
      "huggingface/tokenizers: The current process just got forked, after parallelism has already been used. Disabling parallelism to avoid deadlocks...\n",
      "To disable this warning, you can either:\n",
      "\t- Avoid using `tokenizers` before the fork if possible\n",
      "\t- Explicitly set the environment variable TOKENIZERS_PARALLELISM=(true | false)\n",
      "huggingface/tokenizers: The current process just got forked, after parallelism has already been used. Disabling parallelism to avoid deadlocks...\n",
      "To disable this warning, you can either:\n",
      "\t- Avoid using `tokenizers` before the fork if possible\n",
      "\t- Explicitly set the environment variable TOKENIZERS_PARALLELISM=(true | false)\n",
      "huggingface/tokenizers: The current process just got forked, after parallelism has already been used. Disabling parallelism to avoid deadlocks...\n",
      "To disable this warning, you can either:\n",
      "\t- Avoid using `tokenizers` before the fork if possible\n",
      "\t- Explicitly set the environment variable TOKENIZERS_PARALLELISM=(true | false)\n",
      "huggingface/tokenizers: The current process just got forked, after parallelism has already been used. Disabling parallelism to avoid deadlocks...\n",
      "To disable this warning, you can either:\n",
      "\t- Avoid using `tokenizers` before the fork if possible\n",
      "\t- Explicitly set the environment variable TOKENIZERS_PARALLELISM=(true | false)\n",
      "huggingface/tokenizers: The current process just got forked, after parallelism has already been used. Disabling parallelism to avoid deadlocks...\n",
      "To disable this warning, you can either:\n",
      "\t- Avoid using `tokenizers` before the fork if possible\n",
      "\t- Explicitly set the environment variable TOKENIZERS_PARALLELISM=(true | false)\n",
      "huggingface/tokenizers: The current process just got forked, after parallelism has already been used. Disabling parallelism to avoid deadlocks...\n",
      "To disable this warning, you can either:\n",
      "\t- Avoid using `tokenizers` before the fork if possible\n",
      "\t- Explicitly set the environment variable TOKENIZERS_PARALLELISM=(true | false)\n",
      "huggingface/tokenizers: The current process just got forked, after parallelism has already been used. Disabling parallelism to avoid deadlocks...\n",
      "To disable this warning, you can either:\n",
      "\t- Avoid using `tokenizers` before the fork if possible\n",
      "\t- Explicitly set the environment variable TOKENIZERS_PARALLELISM=(true | false)\n",
      "huggingface/tokenizers: The current process just got forked, after parallelism has already been used. Disabling parallelism to avoid deadlocks...\n",
      "To disable this warning, you can either:\n",
      "\t- Avoid using `tokenizers` before the fork if possible\n",
      "\t- Explicitly set the environment variable TOKENIZERS_PARALLELISM=(true | false)\n",
      "  4%|█▎                                   | 702/20000 [00:00<00:19, 1002.66it/s]TOKENIZERS_PARALLELISM=(true | false)\n",
      "  5%|█▋                                    | 918/20000 [00:01<00:32, 580.05it/s]Token indices sequence length is longer than the specified maximum sequence length for this model (9392 > 8192). Running this sequence through the model will result in indexing errors\n",
      " 22%|████████▎                            | 4478/20000 [00:07<00:35, 434.44it/s]Token indices sequence length is longer than the specified maximum sequence length for this model (11680 > 8192). Running this sequence through the model will result in indexing errors\n",
      " 37%|█████████████▊                       | 7493/20000 [00:13<00:31, 398.08it/s]Token indices sequence length is longer than the specified maximum sequence length for this model (8237 > 8192). Running this sequence through the model will result in indexing errors\n",
      " 27%|██████████                           | 5445/20000 [00:12<00:37, 393.23it/s]Token indices sequence length is longer than the specified maximum sequence length for this model (8402 > 8192). Running this sequence through the model will result in indexing errors\n",
      " 67%|████████████████████████▏           | 13459/20000 [00:38<00:19, 333.22it/s]Token indices sequence length is longer than the specified maximum sequence length for this model (8371 > 8192). Running this sequence through the model will result in indexing errors\n",
      "100%|████████████████████████████████████| 20000/20000 [00:44<00:00, 450.32it/s]\n",
      " 76%|███████████████████████████▎        | 15197/20000 [00:41<00:13, 359.76it/s]Token indices sequence length is longer than the specified maximum sequence length for this model (12335 > 8192). Running this sequence through the model will result in indexing errors\n",
      "100%|████████████████████████████████████| 20000/20000 [00:44<00:00, 446.79it/s]\n",
      "100%|████████████████████████████████████| 20000/20000 [00:53<00:00, 372.76it/s]\n",
      "100%|████████████████████████████████████| 20000/20000 [00:52<00:00, 379.04it/s]\n",
      "100%|████████████████████████████████████| 20000/20000 [00:55<00:00, 359.49it/s]\n",
      "100%|████████████████████████████████████| 20000/20000 [01:00<00:00, 330.25it/s]\n",
      "100%|████████████████████████████████████| 20000/20000 [00:58<00:00, 339.56it/s]\n",
      "100%|████████████████████████████████████| 20000/20000 [01:02<00:00, 320.46it/s]\n",
      "  1%|▌                                     | 265/20000 [00:00<00:55, 355.81it/s]Token indices sequence length is longer than the specified maximum sequence length for this model (8913 > 8192). Running this sequence through the model will result in indexing errors\n",
      "100%|████████████████████████████████████| 20000/20000 [01:10<00:00, 284.68it/s]\n",
      "100%|████████████████████████████████████| 20000/20000 [01:09<00:00, 286.66it/s]\n",
      "100%|████████████████████████████████████████| 298/298 [00:00<00:00, 376.82it/s]\n",
      "100%|████████████████████████████████████| 20000/20000 [00:42<00:00, 476.07it/s]\n",
      "100%|████████████████████████████████████| 20000/20000 [00:39<00:00, 507.85it/s]\n",
      "100%|████████████████████████████████████| 20000/20000 [00:50<00:00, 396.09it/s]\n",
      "100%|████████████████████████████████████| 20000/20000 [00:38<00:00, 513.05it/s]\n",
      "100%|████████████████████████████████████| 20000/20000 [00:34<00:00, 574.28it/s]\n",
      "100%|████████████████████████████████████| 20000/20000 [00:38<00:00, 518.74it/s]\n",
      "100%|████████████████████████████████████| 20000/20000 [00:35<00:00, 563.49it/s]\n",
      "100%|████████████████████████████████████| 20000/20000 [00:37<00:00, 536.86it/s]\n"
     ]
    }
   ],
   "source": [
    "from multiprocess import Pool\n",
    "import mp\n",
    "\n",
    "chunks = mp.chunks(df, 20000)\n",
    "pool = Pool(10)\n",
    "pooled = pool.map(loop, chunks)\n",
    "pool.close()\n",
    "pool.join()"
   ]
  },
  {
   "cell_type": "code",
   "execution_count": 21,
   "id": "3f390f43",
   "metadata": {},
   "outputs": [
    {
     "data": {
      "text/plain": [
       "['tokenized-2048/tokenized-0',\n",
       " 'tokenized-2048/tokenized-1',\n",
       " 'tokenized-2048/tokenized-2',\n",
       " 'tokenized-2048/tokenized-3',\n",
       " 'tokenized-2048/tokenized-4',\n",
       " 'tokenized-2048/tokenized-5',\n",
       " 'tokenized-2048/tokenized-6',\n",
       " 'tokenized-2048/tokenized-7',\n",
       " 'tokenized-2048/tokenized-8',\n",
       " 'tokenized-2048/tokenized-9',\n",
       " 'tokenized-2048/tokenized-10',\n",
       " 'tokenized-2048/tokenized-11',\n",
       " 'tokenized-2048/tokenized-12',\n",
       " 'tokenized-2048/tokenized-13',\n",
       " 'tokenized-2048/tokenized-14',\n",
       " 'tokenized-2048/tokenized-15',\n",
       " 'tokenized-2048/tokenized-16',\n",
       " 'tokenized-2048/tokenized-17',\n",
       " 'tokenized-2048/tokenized-18']"
      ]
     },
     "execution_count": 21,
     "metadata": {},
     "output_type": "execute_result"
    }
   ],
   "source": [
    "folders = sorted(glob('tokenized-2048/tokenized-*'), key = lambda x: int(x.split('-')[-1]))\n",
    "folders"
   ]
  },
  {
   "cell_type": "code",
   "execution_count": 22,
   "id": "11f09fd6",
   "metadata": {},
   "outputs": [
    {
     "name": "stderr",
     "output_type": "stream",
     "text": [
      "100%|██████████████████████████████████| 11692/11692 [00:00<00:00, 28964.85it/s]\n",
      "100%|██████████████████████████████████| 11617/11617 [00:00<00:00, 23850.61it/s]\n",
      "100%|██████████████████████████████████| 12904/12904 [00:00<00:00, 25673.80it/s]\n",
      "100%|██████████████████████████████████| 13956/13956 [00:00<00:00, 22783.10it/s]\n",
      "100%|██████████████████████████████████| 13866/13866 [00:00<00:00, 26494.07it/s]\n",
      "100%|██████████████████████████████████| 12705/12705 [00:00<00:00, 25609.02it/s]\n",
      "100%|██████████████████████████████████| 12289/12289 [00:00<00:00, 25136.33it/s]\n",
      "100%|██████████████████████████████████| 12951/12951 [00:00<00:00, 26063.83it/s]\n",
      "100%|██████████████████████████████████| 14811/14811 [00:00<00:00, 22708.50it/s]\n",
      "100%|██████████████████████████████████| 14884/14884 [00:00<00:00, 22629.24it/s]\n",
      "100%|██████████████████████████████████| 13082/13082 [00:00<00:00, 25237.33it/s]\n",
      "100%|██████████████████████████████████| 10739/10739 [00:00<00:00, 22355.06it/s]\n",
      "100%|██████████████████████████████████| 10992/10992 [00:00<00:00, 28660.18it/s]\n",
      "100%|██████████████████████████████████| 11082/11082 [00:00<00:00, 22466.82it/s]\n",
      "100%|██████████████████████████████████| 11404/11404 [00:00<00:00, 22900.30it/s]\n",
      "100%|██████████████████████████████████| 10577/10577 [00:00<00:00, 28104.88it/s]\n",
      "100%|██████████████████████████████████| 11486/11486 [00:00<00:00, 23251.71it/s]\n",
      "100%|██████████████████████████████████| 12661/12661 [00:00<00:00, 24608.13it/s]\n",
      "100%|██████████████████████████████████████| 183/183 [00:00<00:00, 53236.07it/s]\n"
     ]
    }
   ],
   "source": [
    "with MDSWriter(\n",
    "    out='smollm2-speech-semantic-multipack-2048', columns=columns, compression=None, hashes=hashes) as out:\n",
    "    for f in folders:\n",
    "        try:\n",
    "            dataset = LocalDataset(local=f)\n",
    "            for i in tqdm(range(len(dataset))):\n",
    "                out.write(dataset[i])\n",
    "        except Exception as e:\n",
    "            print(e)\n",
    "            pass"
   ]
  },
  {
   "cell_type": "code",
   "execution_count": 23,
   "id": "3f55b311",
   "metadata": {},
   "outputs": [],
   "source": [
    "dataset = LocalDataset('smollm2-speech-semantic-multipack-2048')"
   ]
  },
  {
   "cell_type": "code",
   "execution_count": 24,
   "id": "51d453a6",
   "metadata": {},
   "outputs": [
    {
     "data": {
      "text/plain": [
       "0.458508288"
      ]
     },
     "execution_count": 24,
     "metadata": {},
     "output_type": "execute_result"
    }
   ],
   "source": [
    "(len(dataset) * 2048) / 1e9"
   ]
  }
 ],
 "metadata": {
  "kernelspec": {
   "display_name": "python3.10",
   "language": "python",
   "name": "python3.10"
  },
  "language_info": {
   "codemirror_mode": {
    "name": "ipython",
    "version": 3
   },
   "file_extension": ".py",
   "mimetype": "text/x-python",
   "name": "python",
   "nbconvert_exporter": "python",
   "pygments_lexer": "ipython3",
   "version": "3.10.15"
  }
 },
 "nbformat": 4,
 "nbformat_minor": 5
}
