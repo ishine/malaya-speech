{
 "cells": [
  {
   "cell_type": "code",
   "execution_count": 1,
   "id": "48b86e75",
   "metadata": {},
   "outputs": [
    {
     "name": "stderr",
     "output_type": "stream",
     "text": [
      "/usr/lib/python3/dist-packages/scipy/__init__.py:146: UserWarning: A NumPy version >=1.17.3 and <1.25.0 is required for this version of SciPy (detected version 1.26.4\n",
      "  warnings.warn(f\"A NumPy version >={np_minversion} and <{np_maxversion}\"\n"
     ]
    },
    {
     "name": "stdout",
     "output_type": "stream",
     "text": [
      "[2025-05-19 12:05:05,109] [INFO] [real_accelerator.py:239:get_accelerator] Setting ds_accelerator to cuda (auto detect)\n"
     ]
    },
    {
     "name": "stderr",
     "output_type": "stream",
     "text": [
      "/usr/bin/ld: cannot find -laio: No such file or directory\n",
      "collect2: error: ld returned 1 exit status\n",
      "/usr/bin/ld: cannot find -laio: No such file or directory\n",
      "collect2: error: ld returned 1 exit status\n"
     ]
    }
   ],
   "source": [
    "from generator import load_llama3_tokenizer\n",
    "from datasets import load_dataset\n",
    "from train import *\n",
    "import json\n",
    "import os\n",
    "from tqdm import tqdm\n",
    "from multiprocess import Pool\n",
    "import itertools\n",
    "\n",
    "def chunks(l, n):\n",
    "    for i in range(0, len(l), n):\n",
    "        yield (l[i: i + n], i // n)\n",
    "\n",
    "def multiprocessing(strings, function, cores=6, returned=True):\n",
    "    df_split = chunks(strings, len(strings) // cores)\n",
    "    pool = Pool(cores)\n",
    "    pooled = pool.map(function, df_split)\n",
    "    pool.close()\n",
    "    pool.join()\n",
    "\n",
    "    if returned:\n",
    "        return list(itertools.chain(*pooled))"
   ]
  },
  {
   "cell_type": "code",
   "execution_count": 2,
   "id": "90c9fa27",
   "metadata": {},
   "outputs": [
    {
     "data": {
      "application/vnd.jupyter.widget-view+json": {
       "model_id": "4eaa981a1fb64d4cb5e465295124d417",
       "version_major": 2,
       "version_minor": 0
      },
      "text/plain": [
       "tokenizer_config.json:   0%|          | 0.00/50.5k [00:00<?, ?B/s]"
      ]
     },
     "metadata": {},
     "output_type": "display_data"
    },
    {
     "data": {
      "application/vnd.jupyter.widget-view+json": {
       "model_id": "5e9c17631de2469ba144d0e6e026005a",
       "version_major": 2,
       "version_minor": 0
      },
      "text/plain": [
       "tokenizer.json:   0%|          | 0.00/9.09M [00:00<?, ?B/s]"
      ]
     },
     "metadata": {},
     "output_type": "display_data"
    },
    {
     "data": {
      "application/vnd.jupyter.widget-view+json": {
       "model_id": "136333ca982e42508606a1f8a959c93e",
       "version_major": 2,
       "version_minor": 0
      },
      "text/plain": [
       "special_tokens_map.json:   0%|          | 0.00/301 [00:00<?, ?B/s]"
      ]
     },
     "metadata": {},
     "output_type": "display_data"
    }
   ],
   "source": [
    "mimi = None\n",
    "device = 'cpu'\n",
    "text_tokenizer = load_llama3_tokenizer()\n",
    "\n",
    "dataset = load_dataset('mesolitica/Malaysian-Emilia-Sesame')['malaysian_podcast']"
   ]
  },
  {
   "cell_type": "code",
   "execution_count": 3,
   "id": "7e34ae2a",
   "metadata": {},
   "outputs": [
    {
     "name": "stdout",
     "output_type": "stream",
     "text": [
      "CPU times: user 50.1 ms, sys: 3.08 ms, total: 53.2 ms\n",
      "Wall time: 10.6 ms\n"
     ]
    },
    {
     "data": {
      "text/plain": [
       "407"
      ]
     },
     "execution_count": 3,
     "metadata": {},
     "output_type": "execute_result"
    }
   ],
   "source": [
    "%%time\n",
    "\n",
    "data = dataset[-1]\n",
    "segment_tokens, segment_tokens_mask = get_input_ids(\n",
    "    data['reference_audio'], \n",
    "    data['reference_text'],\n",
    "    data['target_audio'], \n",
    "    data['target_text'],\n",
    "    mimi=mimi,\n",
    "    text_tokenizer=text_tokenizer,\n",
    "    device=device,\n",
    "    calculated_speech_tokens=True,\n",
    ")\n",
    "segment_tokens.shape[0]"
   ]
  },
  {
   "cell_type": "code",
   "execution_count": 4,
   "id": "00132fe2",
   "metadata": {},
   "outputs": [],
   "source": [
    "def loop(indices):\n",
    "    indices, _ = indices\n",
    "    lengths = []\n",
    "    \n",
    "    dataset = load_dataset('mesolitica/Malaysian-Emilia-Sesame')['malaysian_podcast']\n",
    "    text_tokenizer = load_llama3_tokenizer()\n",
    "    for i in tqdm(indices):\n",
    "        data = dataset[i]\n",
    "        segment_tokens, segment_tokens_mask = get_input_ids(\n",
    "            data['reference_audio'], \n",
    "            data['reference_text'],\n",
    "            data['target_audio'], \n",
    "            data['target_text'],\n",
    "            mimi=mimi,\n",
    "            text_tokenizer=text_tokenizer,\n",
    "            device=device,\n",
    "            calculated_speech_tokens=True,\n",
    "        )\n",
    "        lengths.append({\n",
    "            'i': i,\n",
    "            'length': segment_tokens.shape[0]\n",
    "        })\n",
    "    return lengths"
   ]
  },
  {
   "cell_type": "code",
   "execution_count": 5,
   "id": "1b02937b",
   "metadata": {},
   "outputs": [
    {
     "name": "stderr",
     "output_type": "stream",
     "text": [
      "huggingface/tokenizers: The current process just got forked, after parallelism has already been used. Disabling parallelism to avoid deadlocks...\n",
      "To disable this warning, you can either:\n",
      "\t- Avoid using `tokenizers` before the fork if possible\n",
      "\t- Explicitly set the environment variable TOKENIZERS_PARALLELISM=(true | false)\n",
      "huggingface/tokenizers: The current process just got forked, after parallelism has already been used. Disabling parallelism to avoid deadlocks...\n",
      "To disable this warning, you can either:\n",
      "\t- Avoid using `tokenizers` before the fork if possible\n",
      "\t- Explicitly set the environment variable TOKENIZERS_PARALLELISM=(true | false)\n",
      "huggingface/tokenizers: The current process just got forked, after parallelism has already been used. Disabling parallelism to avoid deadlocks...\n",
      "To disable this warning, you can either:\n",
      "\t- Avoid using `tokenizers` before the fork if possible\n",
      "\t- Explicitly set the environment variable TOKENIZERS_PARALLELISM=(true | false)\n",
      "huggingface/tokenizers: The current process just got forked, after parallelism has already been used. Disabling parallelism to avoid deadlocks...\n",
      "To disable this warning, you can either:\n",
      "\t- Avoid using `tokenizers` before the fork if possible\n",
      "\t- Explicitly set the environment variable TOKENIZERS_PARALLELISM=(true | false)\n",
      "huggingface/tokenizers: The current process just got forked, after parallelism has already been used. Disabling parallelism to avoid deadlocks...\n",
      "To disable this warning, you can either:\n",
      "\t- Avoid using `tokenizers` before the fork if possible\n",
      "\t- Explicitly set the environment variable TOKENIZERS_PARALLELISM=(true | false)\n",
      "huggingface/tokenizers: The current process just got forked, after parallelism has already been used. Disabling parallelism to avoid deadlocks...\n",
      "To disable this warning, you can either:\n",
      "\t- Avoid using `tokenizers` before the fork if possible\n",
      "\t- Explicitly set the environment variable TOKENIZERS_PARALLELISM=(true | false)\n",
      "huggingface/tokenizers: The current process just got forked, after parallelism has already been used. Disabling parallelism to avoid deadlocks...\n",
      "To disable this warning, you can either:\n",
      "\t- Avoid using `tokenizers` before the fork if possible\n",
      "\t- Explicitly set the environment variable TOKENIZERS_PARALLELISM=(true | false)\n",
      "huggingface/tokenizers: The current process just got forked, after parallelism has already been used. Disabling parallelism to avoid deadlocks...\n",
      "To disable this warning, you can either:\n",
      "\t- Avoid using `tokenizers` before the fork if possible\n",
      "\t- Explicitly set the environment variable TOKENIZERS_PARALLELISM=(true | false)\n",
      "huggingface/tokenizers: The current process just got forked, after parallelism has already been used. Disabling parallelism to avoid deadlocks...\n",
      "To disable this warning, you can either:\n",
      "\t- Avoid using `tokenizers` before the fork if possible\n",
      "\t- Explicitly set the environment variable TOKENIZERS_PARALLELISM=(true | false)\n",
      "huggingface/tokenizers: The current process just got forked, after parallelism has already been used. Disabling parallelism to avoid deadlocks...\n",
      "To disable this warning, you can either:\n",
      "\t- Avoid using `tokenizers` before the fork if possible\n",
      "\t- Explicitly set the environment variable TOKENIZERS_PARALLELISM=(true | false)\n",
      "huggingface/tokenizers: The current process just got forked, after parallelism has already been used. Disabling parallelism to avoid deadlocks...\n",
      "To disable this warning, you can either:\n",
      "\t- Avoid using `tokenizers` before the fork if possible\n",
      "\t- Explicitly set the environment variable TOKENIZERS_PARALLELISM=(true | false)\n",
      "huggingface/tokenizers: The current process just got forked, after parallelism has already been used. Disabling parallelism to avoid deadlocks...\n",
      "To disable this warning, you can either:\n",
      "\t- Avoid using `tokenizers` before the fork if possible\n",
      "\t- Explicitly set the environment variable TOKENIZERS_PARALLELISM=(true | false)\n",
      "huggingface/tokenizers: The current process just got forked, after parallelism has already been used. Disabling parallelism to avoid deadlocks...\n",
      "To disable this warning, you can either:\n",
      "\t- Avoid using `tokenizers` before the fork if possible\n",
      "\t- Explicitly set the environment variable TOKENIZERS_PARALLELISM=(true | false)\n",
      "huggingface/tokenizers: The current process just got forked, after parallelism has already been used. Disabling parallelism to avoid deadlocks...\n",
      "To disable this warning, you can either:\n",
      "\t- Avoid using `tokenizers` before the fork if possible\n",
      "\t- Explicitly set the environment variable TOKENIZERS_PARALLELISM=(true | false)\n",
      "huggingface/tokenizers: The current process just got forked, after parallelism has already been used. Disabling parallelism to avoid deadlocks...\n",
      "To disable this warning, you can either:\n",
      "\t- Avoid using `tokenizers` before the fork if possible\n",
      "\t- Explicitly set the environment variable TOKENIZERS_PARALLELISM=(true | false)\n",
      "huggingface/tokenizers: The current process just got forked, after parallelism has already been used. Disabling parallelism to avoid deadlocks...\n",
      "To disable this warning, you can either:\n",
      "\t- Avoid using `tokenizers` before the fork if possible\n",
      "\t- Explicitly set the environment variable TOKENIZERS_PARALLELISM=(true | false)\n",
      "huggingface/tokenizers: The current process just got forked, after parallelism has already been used. Disabling parallelism to avoid deadlocks...\n",
      "To disable this warning, you can either:\n",
      "\t- Avoid using `tokenizers` before the fork if possible\n",
      "\t- Explicitly set the environment variable TOKENIZERS_PARALLELISM=(true | false)\n",
      "huggingface/tokenizers: The current process just got forked, after parallelism has already been used. Disabling parallelism to avoid deadlocks...\n",
      "To disable this warning, you can either:\n",
      "\t- Avoid using `tokenizers` before the fork if possible\n",
      "\t- Explicitly set the environment variable TOKENIZERS_PARALLELISM=(true | false)\n",
      "huggingface/tokenizers: The current process just got forked, after parallelism has already been used. Disabling parallelism to avoid deadlocks...\n",
      "To disable this warning, you can either:\n",
      "\t- Avoid using `tokenizers` before the fork if possible\n",
      "\t- Explicitly set the environment variable TOKENIZERS_PARALLELISM=(true | false)\n",
      "huggingface/tokenizers: The current process just got forked, after parallelism has already been used. Disabling parallelism to avoid deadlocks...\n",
      "To disable this warning, you can either:\n",
      "\t- Avoid using `tokenizers` before the fork if possible\n",
      "\t- Explicitly set the environment variable TOKENIZERS_PARALLELISM=(true | false)\n",
      "100%|████████████████████████████████████████████████████████████████████████████████████████████████████| 17961/17961 [00:39<00:00, 449.87it/s]\n",
      "100%|████████████████████████████████████████████████████████████████████████████████████████████████████| 17961/17961 [00:39<00:00, 449.44it/s]\n",
      "100%|████████████████████████████████████████████████████████████████████████████████████████████████████| 17961/17961 [00:40<00:00, 443.19it/s]\n",
      "100%|████████████████████████████████████████████████████████████████████████████████████████████████████| 17961/17961 [00:40<00:00, 440.66it/s]\n",
      "100%|████████████████████████████████████████████████████████████████████████████████████████████████████| 17961/17961 [00:40<00:00, 444.92it/s]\n",
      "100%|████████████████████████████████████████████████████████████████████████████████████████████████████| 17961/17961 [00:40<00:00, 446.18it/s]\n",
      "100%|████████████████████████████████████████████████████████████████████████████████████████████████████| 17961/17961 [00:40<00:00, 440.70it/s]\n",
      "100%|████████████████████████████████████████████████████████████████████████████████████████████████████| 17961/17961 [00:40<00:00, 438.57it/s]\n",
      "100%|████████████████████████████████████████████████████████████████████████████████████████████████████| 17961/17961 [00:41<00:00, 431.56it/s]\n",
      "100%|████████████████████████████████████████████████████████████████████████████████████████████████████| 17961/17961 [00:40<00:00, 441.12it/s]\n",
      "100%|████████████████████████████████████████████████████████████████████████████████████████████████████| 17961/17961 [00:41<00:00, 428.44it/s]\n"
     ]
    },
    {
     "name": "stderr",
     "output_type": "stream",
     "text": [
      "100%|████████████████████████████████████████████████████████████████████████████████████████████████████| 17961/17961 [00:41<00:00, 431.30it/s]\n",
      "100%|████████████████████████████████████████████████████████████████████████████████████████████████████| 17961/17961 [00:41<00:00, 429.76it/s]\n",
      "100%|████████████████████████████████████████████████████████████████████████████████████████████████████| 17961/17961 [00:42<00:00, 427.13it/s]\n",
      "100%|████████████████████████████████████████████████████████████████████████████████████████████████████| 17961/17961 [00:41<00:00, 429.06it/s]\n",
      "100%|████████████████████████████████████████████████████████████████████████████████████████████████████| 17961/17961 [00:42<00:00, 421.14it/s]\n",
      "100%|████████████████████████████████████████████████████████████████████████████████████████████████████| 17961/17961 [00:42<00:00, 422.25it/s]\n",
      "100%|████████████████████████████████████████████████████████████████████████████████████████████████████| 17961/17961 [00:43<00:00, 416.45it/s]\n",
      "100%|████████████████████████████████████████████████████████████████████████████████████████████████████| 17961/17961 [00:43<00:00, 417.12it/s]\n",
      "100%|████████████████████████████████████████████████████████████████████████████████████████████████████| 17961/17961 [00:42<00:00, 422.00it/s]\n",
      "100%|██████████████████████████████████████████████████████████████████████████████████████████████████████████| 16/16 [00:00<00:00, 413.65it/s]\n"
     ]
    }
   ],
   "source": [
    "lengths = multiprocessing(range(len(dataset)), loop, cores = 20)"
   ]
  },
  {
   "cell_type": "code",
   "execution_count": 6,
   "id": "57fad354",
   "metadata": {},
   "outputs": [],
   "source": [
    "rows = sorted(lengths, key = lambda x: x['length'])"
   ]
  },
  {
   "cell_type": "code",
   "execution_count": 17,
   "id": "7e6d74ce",
   "metadata": {
    "scrolled": true
   },
   "outputs": [
    {
     "name": "stderr",
     "output_type": "stream",
     "text": [
      "100%|██████████████████████████████████████████████████████████████████████████████████████████████| 359236/359236 [00:00<00:00, 1233834.40it/s]\n"
     ]
    }
   ],
   "source": [
    "maxlen = 2048\n",
    "data, temp, l = [], [], 0\n",
    "for r in tqdm(rows):\n",
    "    if l + r['length'] >= maxlen:\n",
    "        data.append(temp)\n",
    "        temp = [r['i']]\n",
    "        l = r['length']\n",
    "    else:\n",
    "        l += r['length']\n",
    "        temp.append(r['i'])\n",
    "if len(temp):\n",
    "    data.append(temp)"
   ]
  },
  {
   "cell_type": "code",
   "execution_count": 23,
   "id": "5c4ff009",
   "metadata": {},
   "outputs": [],
   "source": [
    "import json\n",
    "\n",
    "with open('merged.json', 'w') as fopen:\n",
    "    json.dump(data, fopen)"
   ]
  },
  {
   "cell_type": "code",
   "execution_count": 24,
   "id": "31adedd1",
   "metadata": {},
   "outputs": [
    {
     "data": {
      "text/plain": [
       "CommitInfo(commit_url='https://huggingface.co/datasets/mesolitica/Malaysian-Emilia-Audio-Tokens/commit/dd843c0f2c349c4330dc14cd67507014f2db7578', commit_message='Upload merged-podcast.json with huggingface_hub', commit_description='', oid='dd843c0f2c349c4330dc14cd67507014f2db7578', pr_url=None, repo_url=RepoUrl('https://huggingface.co/datasets/mesolitica/Malaysian-Emilia-Audio-Tokens', endpoint='https://huggingface.co', repo_type='dataset', repo_id='mesolitica/Malaysian-Emilia-Audio-Tokens'), pr_revision=None, pr_num=None)"
      ]
     },
     "execution_count": 24,
     "metadata": {},
     "output_type": "execute_result"
    }
   ],
   "source": [
    "from huggingface_hub import HfApi\n",
    "api = HfApi()\n",
    "api.upload_file(\n",
    "    path_or_fileobj=\"merged.json\",\n",
    "    path_in_repo=\"merged-podcast.json\",\n",
    "    repo_id=\"mesolitica/Malaysian-Emilia-Audio-Tokens\",\n",
    "    repo_type=\"dataset\",\n",
    ")"
   ]
  }
 ],
 "metadata": {
  "kernelspec": {
   "display_name": "Python 3 (ipykernel)",
   "language": "python",
   "name": "python3"
  },
  "language_info": {
   "codemirror_mode": {
    "name": "ipython",
    "version": 3
   },
   "file_extension": ".py",
   "mimetype": "text/x-python",
   "name": "python",
   "nbconvert_exporter": "python",
   "pygments_lexer": "ipython3",
   "version": "3.10.12"
  }
 },
 "nbformat": 4,
 "nbformat_minor": 5
}
