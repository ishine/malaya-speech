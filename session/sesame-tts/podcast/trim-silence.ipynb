{
 "cells": [
  {
   "cell_type": "code",
   "execution_count": 1,
   "id": "f835afd1",
   "metadata": {},
   "outputs": [],
   "source": [
    "from pydub import AudioSegment\n",
    "from pydub.silence import split_on_silence\n",
    "from glob import glob\n",
    "import soundfile as sf\n",
    "import numpy as np\n",
    "import os\n",
    "from multiprocess import Pool\n",
    "import itertools\n",
    "from tqdm import tqdm\n",
    "\n",
    "def chunks(l, n):\n",
    "    for i in range(0, len(l), n):\n",
    "        yield (l[i: i + n], i // n)\n",
    "\n",
    "def multiprocessing(strings, function, cores=6, returned=True):\n",
    "    df_split = chunks(strings, len(strings) // cores)\n",
    "    pool = Pool(cores)\n",
    "    pooled = pool.map(function, df_split)\n",
    "    pool.close()\n",
    "    pool.join()\n",
    "\n",
    "    if returned:\n",
    "        return list(itertools.chain(*pooled))\n",
    "    \n",
    "def new_path(f):\n",
    "    splitted = f.split('/')\n",
    "    base_folder = splitted[0] + '_trim'\n",
    "    splitted = '/'.join([base_folder] + splitted[1:])\n",
    "    return splitted"
   ]
  },
  {
   "cell_type": "code",
   "execution_count": 3,
   "id": "a5f0cf54",
   "metadata": {},
   "outputs": [],
   "source": [
    "# !wget https://huggingface.co/datasets/mesolitica/Malaysian-Emilia-Audio-Tokens/resolve/main/data/malaysian_podcast-00000-of-00001.parquet"
   ]
  },
  {
   "cell_type": "code",
   "execution_count": 4,
   "id": "d079fd8b",
   "metadata": {},
   "outputs": [],
   "source": [
    "import pandas as pd\n",
    "\n",
    "df = pd.read_parquet('malaysian_podcast-00000-of-00001.parquet')"
   ]
  },
  {
   "cell_type": "code",
   "execution_count": 7,
   "id": "f0a9685e",
   "metadata": {},
   "outputs": [
    {
     "data": {
      "text/html": [
       "<div>\n",
       "<style scoped>\n",
       "    .dataframe tbody tr th:only-of-type {\n",
       "        vertical-align: middle;\n",
       "    }\n",
       "\n",
       "    .dataframe tbody tr th {\n",
       "        vertical-align: top;\n",
       "    }\n",
       "\n",
       "    .dataframe thead th {\n",
       "        text-align: right;\n",
       "    }\n",
       "</style>\n",
       "<table border=\"1\" class=\"dataframe\">\n",
       "  <thead>\n",
       "    <tr style=\"text-align: right;\">\n",
       "      <th></th>\n",
       "      <th>reference_audio</th>\n",
       "      <th>reference_text</th>\n",
       "      <th>target_audio</th>\n",
       "      <th>target_text</th>\n",
       "    </tr>\n",
       "  </thead>\n",
       "  <tbody>\n",
       "    <tr>\n",
       "      <th>0</th>\n",
       "      <td>malaysian-podcast_processed/Akan Tiba Gerhana ...</td>\n",
       "      <td>Gerahannya, penduduk dekat kawasan tersebut da...</td>\n",
       "      <td>malaysian-podcast_processed/Akan Tiba Gerhana ...</td>\n",
       "      <td>Hanya sebahagian sahaja kawasan cakra matahari...</td>\n",
       "    </tr>\n",
       "    <tr>\n",
       "      <th>1</th>\n",
       "      <td>malaysian-podcast_processed/Akan Tiba Gerhana ...</td>\n",
       "      <td>Hanya sebahagian sahaja kawasan cakra matahari...</td>\n",
       "      <td>malaysian-podcast_processed/Akan Tiba Gerhana ...</td>\n",
       "      <td>Gerahannya, penduduk dekat kawasan tersebut da...</td>\n",
       "    </tr>\n",
       "    <tr>\n",
       "      <th>2</th>\n",
       "      <td>malaysian-podcast_processed/Akan Tiba Gerhana ...</td>\n",
       "      <td>Gerahannya, penduduk dekat kawasan tersebut da...</td>\n",
       "      <td>malaysian-podcast_processed/Akan Tiba Gerhana ...</td>\n",
       "      <td>Macam mana, matahari, yang besar di tengah har...</td>\n",
       "    </tr>\n",
       "    <tr>\n",
       "      <th>3</th>\n",
       "      <td>malaysian-podcast_processed/Akan Tiba Gerhana ...</td>\n",
       "      <td>Macam mana, matahari, yang besar di tengah har...</td>\n",
       "      <td>malaysian-podcast_processed/Akan Tiba Gerhana ...</td>\n",
       "      <td>Gerahannya, penduduk dekat kawasan tersebut da...</td>\n",
       "    </tr>\n",
       "    <tr>\n",
       "      <th>4</th>\n",
       "      <td>malaysian-podcast_processed/Review Series - Th...</td>\n",
       "      <td>kira macam dia punya musuh ni, unik dan daripa...</td>\n",
       "      <td>malaysian-podcast_processed/Review Series - Th...</td>\n",
       "      <td>dengan elemen zaman sekarang. Kalau macam teng...</td>\n",
       "    </tr>\n",
       "    <tr>\n",
       "      <th>...</th>\n",
       "      <td>...</td>\n",
       "      <td>...</td>\n",
       "      <td>...</td>\n",
       "      <td>...</td>\n",
       "    </tr>\n",
       "    <tr>\n",
       "      <th>359231</th>\n",
       "      <td>malaysian-podcast_processed/Tolong Pak Cik Pen...</td>\n",
       "      <td>Tak sempat explain. Waktu tu, saya balik umrah...</td>\n",
       "      <td>malaysian-podcast_processed/Tolong Pak Cik Pen...</td>\n",
       "      <td>Okay, dengan travel agency. Tapi, saya pergi s...</td>\n",
       "    </tr>\n",
       "    <tr>\n",
       "      <th>359232</th>\n",
       "      <td>malaysian-podcast_processed/Tolong Pak Cik Pen...</td>\n",
       "      <td>sampai kat sana, akan ada motorway sendiri. So...</td>\n",
       "      <td>malaysian-podcast_processed/Tolong Pak Cik Pen...</td>\n",
       "      <td>Tak sempat explain. Waktu tu, saya balik umrah...</td>\n",
       "    </tr>\n",
       "    <tr>\n",
       "      <th>359233</th>\n",
       "      <td>malaysian-podcast_processed/Tolong Pak Cik Pen...</td>\n",
       "      <td>Tak sempat explain. Waktu tu, saya balik umrah...</td>\n",
       "      <td>malaysian-podcast_processed/Tolong Pak Cik Pen...</td>\n",
       "      <td>Paramilik datang, dia check darah, tekanan dar...</td>\n",
       "    </tr>\n",
       "    <tr>\n",
       "      <th>359234</th>\n",
       "      <td>malaysian-podcast_processed/Tolong Pak Cik Pen...</td>\n",
       "      <td>sampai kat sana, akan ada motorway sendiri. So...</td>\n",
       "      <td>malaysian-podcast_processed/Tolong Pak Cik Pen...</td>\n",
       "      <td>Okay, dengan travel agency. Tapi, saya pergi s...</td>\n",
       "    </tr>\n",
       "    <tr>\n",
       "      <th>359235</th>\n",
       "      <td>malaysian-podcast_processed/Tolong Pak Cik Pen...</td>\n",
       "      <td>Paramilik datang, dia check darah, tekanan dar...</td>\n",
       "      <td>malaysian-podcast_processed/Tolong Pak Cik Pen...</td>\n",
       "      <td>Tak sempat explain. Waktu tu, saya balik umrah...</td>\n",
       "    </tr>\n",
       "  </tbody>\n",
       "</table>\n",
       "<p>359236 rows × 4 columns</p>\n",
       "</div>"
      ],
      "text/plain": [
       "                                          reference_audio  \\\n",
       "0       malaysian-podcast_processed/Akan Tiba Gerhana ...   \n",
       "1       malaysian-podcast_processed/Akan Tiba Gerhana ...   \n",
       "2       malaysian-podcast_processed/Akan Tiba Gerhana ...   \n",
       "3       malaysian-podcast_processed/Akan Tiba Gerhana ...   \n",
       "4       malaysian-podcast_processed/Review Series - Th...   \n",
       "...                                                   ...   \n",
       "359231  malaysian-podcast_processed/Tolong Pak Cik Pen...   \n",
       "359232  malaysian-podcast_processed/Tolong Pak Cik Pen...   \n",
       "359233  malaysian-podcast_processed/Tolong Pak Cik Pen...   \n",
       "359234  malaysian-podcast_processed/Tolong Pak Cik Pen...   \n",
       "359235  malaysian-podcast_processed/Tolong Pak Cik Pen...   \n",
       "\n",
       "                                           reference_text  \\\n",
       "0       Gerahannya, penduduk dekat kawasan tersebut da...   \n",
       "1       Hanya sebahagian sahaja kawasan cakra matahari...   \n",
       "2       Gerahannya, penduduk dekat kawasan tersebut da...   \n",
       "3       Macam mana, matahari, yang besar di tengah har...   \n",
       "4       kira macam dia punya musuh ni, unik dan daripa...   \n",
       "...                                                   ...   \n",
       "359231  Tak sempat explain. Waktu tu, saya balik umrah...   \n",
       "359232  sampai kat sana, akan ada motorway sendiri. So...   \n",
       "359233  Tak sempat explain. Waktu tu, saya balik umrah...   \n",
       "359234  sampai kat sana, akan ada motorway sendiri. So...   \n",
       "359235  Paramilik datang, dia check darah, tekanan dar...   \n",
       "\n",
       "                                             target_audio  \\\n",
       "0       malaysian-podcast_processed/Akan Tiba Gerhana ...   \n",
       "1       malaysian-podcast_processed/Akan Tiba Gerhana ...   \n",
       "2       malaysian-podcast_processed/Akan Tiba Gerhana ...   \n",
       "3       malaysian-podcast_processed/Akan Tiba Gerhana ...   \n",
       "4       malaysian-podcast_processed/Review Series - Th...   \n",
       "...                                                   ...   \n",
       "359231  malaysian-podcast_processed/Tolong Pak Cik Pen...   \n",
       "359232  malaysian-podcast_processed/Tolong Pak Cik Pen...   \n",
       "359233  malaysian-podcast_processed/Tolong Pak Cik Pen...   \n",
       "359234  malaysian-podcast_processed/Tolong Pak Cik Pen...   \n",
       "359235  malaysian-podcast_processed/Tolong Pak Cik Pen...   \n",
       "\n",
       "                                              target_text  \n",
       "0       Hanya sebahagian sahaja kawasan cakra matahari...  \n",
       "1       Gerahannya, penduduk dekat kawasan tersebut da...  \n",
       "2       Macam mana, matahari, yang besar di tengah har...  \n",
       "3       Gerahannya, penduduk dekat kawasan tersebut da...  \n",
       "4       dengan elemen zaman sekarang. Kalau macam teng...  \n",
       "...                                                   ...  \n",
       "359231  Okay, dengan travel agency. Tapi, saya pergi s...  \n",
       "359232  Tak sempat explain. Waktu tu, saya balik umrah...  \n",
       "359233  Paramilik datang, dia check darah, tekanan dar...  \n",
       "359234  Okay, dengan travel agency. Tapi, saya pergi s...  \n",
       "359235  Tak sempat explain. Waktu tu, saya balik umrah...  \n",
       "\n",
       "[359236 rows x 4 columns]"
      ]
     },
     "execution_count": 7,
     "metadata": {},
     "output_type": "execute_result"
    }
   ],
   "source": [
    "df['target_audio']"
   ]
  },
  {
   "cell_type": "code",
   "execution_count": 10,
   "id": "bb98d8b9",
   "metadata": {},
   "outputs": [
    {
     "data": {
      "text/plain": [
       "238534"
      ]
     },
     "execution_count": 10,
     "metadata": {},
     "output_type": "execute_result"
    }
   ],
   "source": [
    "audio = df['reference_audio'].tolist() + df['target_audio'].tolist()\n",
    "audio = list(set(audio))\n",
    "len(audio)"
   ]
  },
  {
   "cell_type": "code",
   "execution_count": 11,
   "id": "a19c672f",
   "metadata": {},
   "outputs": [
    {
     "name": "stderr",
     "output_type": "stream",
     "text": [
      "/usr/lib/python3/dist-packages/scipy/__init__.py:146: UserWarning: A NumPy version >=1.17.3 and <1.25.0 is required for this version of SciPy (detected version 1.26.4\n",
      "  warnings.warn(f\"A NumPy version >={np_minversion} and <{np_maxversion}\"\n",
      "WARNING:malaya_speech.torch_model.huggingface:`openai-whisper` is not available, native whisper processor is not available, will use huggingface processor instead.\n"
     ]
    },
    {
     "name": "stdout",
     "output_type": "stream",
     "text": [
      "[2025-05-18 19:10:16,149] [INFO] [real_accelerator.py:239:get_accelerator] Setting ds_accelerator to cuda (auto detect)\n"
     ]
    },
    {
     "name": "stderr",
     "output_type": "stream",
     "text": [
      "/usr/bin/ld: cannot find -laio: No such file or directory\n",
      "collect2: error: ld returned 1 exit status\n",
      "/usr/bin/ld: cannot find -laio: No such file or directory\n",
      "collect2: error: ld returned 1 exit status\n",
      "WARNING:malaya_speech.streaming.pyaudio:`pyaudio` is not available, `malaya_speech.streaming.pyaudio` is not able to use.\n"
     ]
    }
   ],
   "source": [
    "import malaya_speech\n",
    "\n",
    "sr = 24000\n",
    "min_length = 0.4\n",
    "start_silent_trail = int(0.3 * sr)\n",
    "middle_silent_trail = int(min_length * sr / 2)\n",
    "middle_silent_trail, start_silent_trail\n",
    "\n",
    "def loop(files):\n",
    "    files, _ = files\n",
    "    \n",
    "    for f in tqdm(files):\n",
    "        \n",
    "        f_new = new_path(f)\n",
    "        if os.path.exists(f_new):\n",
    "            continue\n",
    "        \n",
    "        try:\n",
    "            vad = malaya_speech.vad.webrtc(minimum_amplitude = 0)\n",
    "            y, sr = sf.read(f)\n",
    "            y_= malaya_speech.resample(y, sr, 16000)\n",
    "            y_ = malaya_speech.astype.float_to_int(y_)\n",
    "            frames = malaya_speech.generator.frames(y, 30, sr)\n",
    "            frames_ = list(malaya_speech.generator.frames(y_, 30, 16000, append_ending_trail = False))\n",
    "            frames_webrtc = [(frames[no], vad(frame)) for no, frame in enumerate(frames_)]\n",
    "            grouped_deep = malaya_speech.group.group_frames(frames_webrtc)\n",
    "            r = []\n",
    "            for no, g in enumerate(grouped_deep):\n",
    "                if g[1]:\n",
    "                    g = g[0].array\n",
    "                else:\n",
    "                    if no == 0:\n",
    "                        g = g[0].array[-start_silent_trail:]\n",
    "                    elif no == (len(grouped_deep) - 1):\n",
    "                        g = g[0].array[:start_silent_trail]\n",
    "                    else:\n",
    "                        if g[0].duration >= min_length:\n",
    "                            g = [g[0].array[:middle_silent_trail], g[0].array[-middle_silent_trail:]]\n",
    "                            g = np.concatenate(g)\n",
    "                        else:\n",
    "                            g = g[0].array\n",
    "\n",
    "                r.append(g)\n",
    "            y_after = np.concatenate(r)\n",
    "            \n",
    "            os.makedirs(os.path.split(f_new)[0], exist_ok = True)\n",
    "            sf.write(f_new, y_after, sr)\n",
    "            \n",
    "        except Exception as e:\n",
    "            print(e)"
   ]
  },
  {
   "cell_type": "code",
   "execution_count": 13,
   "id": "17f70c6a",
   "metadata": {},
   "outputs": [
    {
     "name": "stderr",
     "output_type": "stream",
     "text": [
      "100%|██████████████████████████████████████████████████████████████████████████████████| 1000/1000 [02:14<00:00,  7.44it/s]\n"
     ]
    }
   ],
   "source": [
    "data = loop((audio[:1000], 0))"
   ]
  },
  {
   "cell_type": "code",
   "execution_count": 14,
   "id": "c3f921e7",
   "metadata": {},
   "outputs": [
    {
     "name": "stderr",
     "output_type": "stream",
     "text": [
      "100%|████████████████████████████████████████████████████████████████████████████████| 11926/11926 [24:19<00:00,  8.17it/s]\n",
      "100%|██████████████████████████████████████████████████████████████████████████████████████| 14/14 [00:01<00:00,  7.80it/s]\n",
      "100%|████████████████████████████████████████████████████████████████████████████████| 11926/11926 [26:43<00:00,  7.44it/s]\n",
      "100%|████████████████████████████████████████████████████████████████████████████████| 11926/11926 [26:43<00:00,  7.44it/s]\n",
      "100%|████████████████████████████████████████████████████████████████████████████████| 11926/11926 [26:43<00:00,  7.44it/s]\n",
      "100%|████████████████████████████████████████████████████████████████████████████████| 11926/11926 [26:44<00:00,  7.44it/s]\n",
      "100%|████████████████████████████████████████████████████████████████████████████████| 11926/11926 [26:44<00:00,  7.43it/s]\n",
      "100%|████████████████████████████████████████████████████████████████████████████████| 11926/11926 [26:45<00:00,  7.43it/s]\n",
      "100%|████████████████████████████████████████████████████████████████████████████████| 11926/11926 [26:46<00:00,  7.42it/s]\n",
      "100%|████████████████████████████████████████████████████████████████████████████████| 11926/11926 [26:46<00:00,  7.42it/s]\n",
      "100%|████████████████████████████████████████████████████████████████████████████████| 11926/11926 [26:47<00:00,  7.42it/s]\n",
      "100%|████████████████████████████████████████████████████████████████████████████████| 11926/11926 [26:48<00:00,  7.41it/s]\n",
      "100%|████████████████████████████████████████████████████████████████████████████████| 11926/11926 [26:49<00:00,  7.41it/s]\n",
      "100%|████████████████████████████████████████████████████████████████████████████████| 11926/11926 [26:51<00:00,  7.40it/s]\n",
      "100%|████████████████████████████████████████████████████████████████████████████████| 11926/11926 [26:51<00:00,  7.40it/s]\n",
      "100%|████████████████████████████████████████████████████████████████████████████████| 11926/11926 [26:53<00:00,  7.39it/s]\n",
      "100%|████████████████████████████████████████████████████████████████████████████████| 11926/11926 [26:53<00:00,  7.39it/s]\n",
      "100%|████████████████████████████████████████████████████████████████████████████████| 11926/11926 [26:53<00:00,  7.39it/s]\n",
      "100%|████████████████████████████████████████████████████████████████████████████████| 11926/11926 [26:57<00:00,  7.37it/s]\n",
      "100%|████████████████████████████████████████████████████████████████████████████████| 11926/11926 [27:01<00:00,  7.35it/s]\n",
      "100%|████████████████████████████████████████████████████████████████████████████████| 11926/11926 [27:03<00:00,  7.35it/s]\n"
     ]
    }
   ],
   "source": [
    "multiprocessing(audio, loop, cores = 20, returned = False)"
   ]
  },
  {
   "cell_type": "code",
   "execution_count": null,
   "id": "a6355446",
   "metadata": {},
   "outputs": [],
   "source": []
  }
 ],
 "metadata": {
  "kernelspec": {
   "display_name": "Python 3 (ipykernel)",
   "language": "python",
   "name": "python3"
  },
  "language_info": {
   "codemirror_mode": {
    "name": "ipython",
    "version": 3
   },
   "file_extension": ".py",
   "mimetype": "text/x-python",
   "name": "python",
   "nbconvert_exporter": "python",
   "pygments_lexer": "ipython3",
   "version": "3.10.12"
  }
 },
 "nbformat": 4,
 "nbformat_minor": 5
}
