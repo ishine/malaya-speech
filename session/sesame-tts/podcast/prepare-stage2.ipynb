{
 "cells": [
  {
   "cell_type": "code",
   "execution_count": 1,
   "id": "8001f00d",
   "metadata": {},
   "outputs": [
    {
     "name": "stderr",
     "output_type": "stream",
     "text": [
      "/usr/lib/python3/dist-packages/scipy/__init__.py:146: UserWarning: A NumPy version >=1.17.3 and <1.25.0 is required for this version of SciPy (detected version 1.26.4\n",
      "  warnings.warn(f\"A NumPy version >={np_minversion} and <{np_maxversion}\"\n",
      "WARNING:malaya_speech.torch_model.huggingface:`openai-whisper` is not available, native whisper processor is not available, will use huggingface processor instead.\n"
     ]
    },
    {
     "name": "stdout",
     "output_type": "stream",
     "text": [
      "[2025-05-18 15:14:27,232] [INFO] [real_accelerator.py:239:get_accelerator] Setting ds_accelerator to cuda (auto detect)\n"
     ]
    },
    {
     "name": "stderr",
     "output_type": "stream",
     "text": [
      "/usr/bin/ld: cannot find -laio: No such file or directory\n",
      "collect2: error: ld returned 1 exit status\n",
      "/usr/bin/ld: cannot find -laio: No such file or directory\n",
      "collect2: error: ld returned 1 exit status\n",
      "WARNING:malaya_speech.streaming.pyaudio:`pyaudio` is not available, `malaya_speech.streaming.pyaudio` is not able to use.\n"
     ]
    }
   ],
   "source": [
    "import malaya_speech"
   ]
  },
  {
   "cell_type": "code",
   "execution_count": 2,
   "id": "87b49196",
   "metadata": {},
   "outputs": [],
   "source": [
    "# from huggingface_hub import snapshot_download\n",
    "# snapshot_download(\n",
    "#     repo_id=\"mesolitica/Malaysian-Emilia\", repo_type = 'dataset',\n",
    "#     allow_patterns=['sg-podcast_processed-*.zip', 'malaysian-podcast_processed-*.zip'],\n",
    "#     local_dir = './'\n",
    "# )"
   ]
  },
  {
   "cell_type": "code",
   "execution_count": 3,
   "id": "029f16a0",
   "metadata": {},
   "outputs": [],
   "source": [
    "# !wget https://gist.githubusercontent.com/huseinzol05/2e26de4f3b29d99e993b349864ab6c10/raw/9b2251f3ff958770215d70c8d82d311f82791b78/unzip.py\n",
    "# !python3 unzip.py"
   ]
  },
  {
   "cell_type": "code",
   "execution_count": 4,
   "id": "b4b01256",
   "metadata": {},
   "outputs": [],
   "source": [
    "from glob import glob\n",
    "from sklearn.feature_extraction.text import CountVectorizer\n",
    "from sklearn.metrics.pairwise import cosine_similarity\n",
    "import json\n",
    "import os\n",
    "import re\n",
    "import itertools\n",
    "import random\n",
    "from tqdm import tqdm\n",
    "from multiprocess import Pool\n",
    "from collections import defaultdict\n",
    "import numpy as np\n",
    "\n",
    "def generate_trigrams(text):\n",
    "    words = text.split()\n",
    "    return list(zip(words, words[1:], words[2:]))\n",
    "\n",
    "def skip_trigrams(text):\n",
    "    trigrams = generate_trigrams(text)\n",
    "    count = defaultdict(int)\n",
    "    total = 0\n",
    "    for t in trigrams:\n",
    "        count[''.join(t)] += 1\n",
    "        total += 1\n",
    "    if len(count.keys()) < 3:\n",
    "        return True\n",
    "    for k, v in count.items():\n",
    "        if (v / total) > 0.2:\n",
    "            return True\n",
    "    return False\n",
    "\n",
    "def chunks(l, n):\n",
    "    for i in range(0, len(l), n):\n",
    "        yield (l[i: i + n], i // n)\n",
    "\n",
    "def multiprocessing(strings, function, cores=6, returned=True):\n",
    "    df_split = chunks(strings, len(strings) // cores)\n",
    "    pool = Pool(cores)\n",
    "    pooled = pool.map(function, df_split)\n",
    "    pool.close()\n",
    "    pool.join()\n",
    "\n",
    "    if returned:\n",
    "        return list(itertools.chain(*pooled))"
   ]
  },
  {
   "cell_type": "code",
   "execution_count": 5,
   "id": "b18a8c1a",
   "metadata": {},
   "outputs": [
    {
     "data": {
      "text/plain": [
       "17556"
      ]
     },
     "execution_count": 5,
     "metadata": {},
     "output_type": "execute_result"
    }
   ],
   "source": [
    "files = glob('*/**/*.json', recursive = True)\n",
    "len(files)"
   ]
  },
  {
   "cell_type": "code",
   "execution_count": 6,
   "id": "8207cd67",
   "metadata": {},
   "outputs": [],
   "source": [
    "import malaya_speech\n",
    "\n",
    "model = malaya_speech.speaker_vector.nemo('huseinzol05/nemo-titanet_large')\n",
    "model = model.eval()"
   ]
  },
  {
   "cell_type": "code",
   "execution_count": 7,
   "id": "9d3a09ef",
   "metadata": {},
   "outputs": [],
   "source": [
    "_ = model.cuda()"
   ]
  },
  {
   "cell_type": "code",
   "execution_count": 10,
   "id": "3e269150",
   "metadata": {},
   "outputs": [],
   "source": [
    "rejected = [\n",
    "    'terima kasih kerana menonton',\n",
    "    'terima kasih',\n",
    "    'thank you for watching',\n",
    "]\n",
    "\n",
    "def new_path(f):\n",
    "    return f.replace('_processed/', '_processed_trim_moshi/').replace('.mp3', '.moshi')\n",
    "\n",
    "def loop(files):\n",
    "    files, _ = files\n",
    "    data = []\n",
    "    for file in tqdm(files):\n",
    "        folder = os.path.split(file)[0]\n",
    "        folder_folder = os.path.split(folder)[1]\n",
    "\n",
    "        try:\n",
    "            with open(file) as fopen:\n",
    "                d = json.load(fopen)\n",
    "        except:\n",
    "            continue\n",
    "            \n",
    "        speakers = defaultdict(dict)\n",
    "        \n",
    "        audio_files = []\n",
    "        index = 0\n",
    "        for no, obj in enumerate(d):\n",
    "            text = obj[\"text\"].strip()\n",
    "            \n",
    "            rt_ = re.sub('[^a-z ]+', '', text.lower()).strip()\n",
    "            if any([s == rt_ for s in rejected]):\n",
    "                continue\n",
    "                \n",
    "            split = text.split()\n",
    "            ones = [w for w in split if len(w) <= 1]\n",
    "            if (len(ones) / len(split)) >= 0.5:\n",
    "                continue\n",
    "                \n",
    "            if any([(len(set(w)) / len(w)) < 0.3 for w in split]):\n",
    "                continue\n",
    "            \n",
    "            try:\n",
    "                dense = CountVectorizer(ngram_range = (3,3)).fit_transform([text]).todense()\n",
    "                repeat = (dense > 3).sum() >= 1\n",
    "                if repeat:\n",
    "                    continue\n",
    "            except:\n",
    "                continue\n",
    "            \n",
    "            audio_path = os.path.join(folder, f'{folder_folder}_{no}.mp3')\n",
    "            \n",
    "            if not os.path.exists(audio_path):\n",
    "                continue\n",
    "            \n",
    "            speakers[obj['speaker']][index] = {\n",
    "                'audio': audio_path,\n",
    "                'transcription': text,\n",
    "            }\n",
    "            audio_files.append(audio_path)\n",
    "            index += 1\n",
    "        \n",
    "        ys = [malaya_speech.load(f)[0] for f in audio_files]\n",
    "        if not len(ys):\n",
    "            continue\n",
    "            \n",
    "        vectors = []\n",
    "        for i in range(0, len(ys), 4):\n",
    "            vectors_ = model(ys[i: i + 4])\n",
    "            vectors.append(vectors_)\n",
    "            \n",
    "        cosine = cosine_similarity(np.concatenate(vectors))\n",
    "        \n",
    "        for speaker in speakers.keys():\n",
    "            data_ = []\n",
    "            for row in speakers[speaker]:\n",
    "                for row_ in speakers[speaker]:\n",
    "                    if row == row_:\n",
    "                        continue\n",
    "                    \n",
    "                    if cosine[row, row_] < 0.8:\n",
    "                        continue\n",
    "\n",
    "                    data_.append({\n",
    "                        'reference_audio': speakers[speaker][row]['audio'],\n",
    "                        'reference_text': speakers[speaker][row]['transcription'],\n",
    "                        'target_audio': speakers[speaker][row_]['audio'],\n",
    "                        'target_text': speakers[speaker][row_]['transcription'],\n",
    "                    })\n",
    "\n",
    "            data.extend(random.sample(data_, min(len(data_), 30)))\n",
    "        \n",
    "    return data"
   ]
  },
  {
   "cell_type": "code",
   "execution_count": 11,
   "id": "df32f1b1",
   "metadata": {},
   "outputs": [
    {
     "name": "stderr",
     "output_type": "stream",
     "text": [
      "  0%|                                                                                                | 0/10 [00:00<?, ?it/s]/home/mesolitica/.local/lib/python3.10/site-packages/malaya_speech/utils/nemo_featurization.py:464: FutureWarning: `torch.cuda.amp.autocast(args...)` is deprecated. Please use `torch.amp.autocast('cuda', args...)` instead.\n",
      "  with torch.cuda.amp.autocast(enabled=False):\n",
      "/home/mesolitica/.local/lib/python3.10/site-packages/malaya_speech/nemo/jasper.py:437: FutureWarning: `torch.cuda.amp.autocast(args...)` is deprecated. Please use `torch.amp.autocast('cuda', args...)` instead.\n",
      "  with torch.cuda.amp.autocast(enabled=False):\n",
      "/home/mesolitica/.local/lib/python3.10/site-packages/malaya_speech/utils/nemo_featurization.py:464: FutureWarning: `torch.cuda.amp.autocast(args...)` is deprecated. Please use `torch.amp.autocast('cuda', args...)` instead.\n",
      "  with torch.cuda.amp.autocast(enabled=False):\n",
      "/home/mesolitica/.local/lib/python3.10/site-packages/malaya_speech/nemo/jasper.py:437: FutureWarning: `torch.cuda.amp.autocast(args...)` is deprecated. Please use `torch.amp.autocast('cuda', args...)` instead.\n",
      "  with torch.cuda.amp.autocast(enabled=False):\n",
      " 20%|█████████████████▌                                                                      | 2/10 [00:04<00:16,  2.02s/it]/home/mesolitica/.local/lib/python3.10/site-packages/malaya_speech/utils/nemo_featurization.py:464: FutureWarning: `torch.cuda.amp.autocast(args...)` is deprecated. Please use `torch.amp.autocast('cuda', args...)` instead.\n",
      "  with torch.cuda.amp.autocast(enabled=False):\n",
      "/home/mesolitica/.local/lib/python3.10/site-packages/malaya_speech/nemo/jasper.py:437: FutureWarning: `torch.cuda.amp.autocast(args...)` is deprecated. Please use `torch.amp.autocast('cuda', args...)` instead.\n",
      "  with torch.cuda.amp.autocast(enabled=False):\n",
      " 30%|██████████████████████████▍                                                             | 3/10 [00:05<00:11,  1.58s/it]/home/mesolitica/.local/lib/python3.10/site-packages/malaya_speech/utils/nemo_featurization.py:464: FutureWarning: `torch.cuda.amp.autocast(args...)` is deprecated. Please use `torch.amp.autocast('cuda', args...)` instead.\n",
      "  with torch.cuda.amp.autocast(enabled=False):\n",
      "/home/mesolitica/.local/lib/python3.10/site-packages/malaya_speech/nemo/jasper.py:437: FutureWarning: `torch.cuda.amp.autocast(args...)` is deprecated. Please use `torch.amp.autocast('cuda', args...)` instead.\n",
      "  with torch.cuda.amp.autocast(enabled=False):\n",
      " 40%|███████████████████████████████████▏                                                    | 4/10 [00:07<00:10,  1.74s/it]/home/mesolitica/.local/lib/python3.10/site-packages/malaya_speech/utils/nemo_featurization.py:464: FutureWarning: `torch.cuda.amp.autocast(args...)` is deprecated. Please use `torch.amp.autocast('cuda', args...)` instead.\n",
      "  with torch.cuda.amp.autocast(enabled=False):\n",
      "/home/mesolitica/.local/lib/python3.10/site-packages/malaya_speech/nemo/jasper.py:437: FutureWarning: `torch.cuda.amp.autocast(args...)` is deprecated. Please use `torch.amp.autocast('cuda', args...)` instead.\n",
      "  with torch.cuda.amp.autocast(enabled=False):\n",
      " 50%|████████████████████████████████████████████                                            | 5/10 [00:10<00:11,  2.24s/it]/home/mesolitica/.local/lib/python3.10/site-packages/malaya_speech/utils/nemo_featurization.py:464: FutureWarning: `torch.cuda.amp.autocast(args...)` is deprecated. Please use `torch.amp.autocast('cuda', args...)` instead.\n",
      "  with torch.cuda.amp.autocast(enabled=False):\n",
      "/home/mesolitica/.local/lib/python3.10/site-packages/malaya_speech/nemo/jasper.py:437: FutureWarning: `torch.cuda.amp.autocast(args...)` is deprecated. Please use `torch.amp.autocast('cuda', args...)` instead.\n",
      "  with torch.cuda.amp.autocast(enabled=False):\n",
      "/home/mesolitica/.local/lib/python3.10/site-packages/malaya_speech/utils/nemo_featurization.py:464: FutureWarning: `torch.cuda.amp.autocast(args...)` is deprecated. Please use `torch.amp.autocast('cuda', args...)` instead.\n",
      "  with torch.cuda.amp.autocast(enabled=False):\n",
      "/home/mesolitica/.local/lib/python3.10/site-packages/malaya_speech/nemo/jasper.py:437: FutureWarning: `torch.cuda.amp.autocast(args...)` is deprecated. Please use `torch.amp.autocast('cuda', args...)` instead.\n",
      "  with torch.cuda.amp.autocast(enabled=False):\n",
      " 70%|█████████████████████████████████████████████████████████████▌                          | 7/10 [00:12<00:05,  1.79s/it]/home/mesolitica/.local/lib/python3.10/site-packages/malaya_speech/utils/nemo_featurization.py:464: FutureWarning: `torch.cuda.amp.autocast(args...)` is deprecated. Please use `torch.amp.autocast('cuda', args...)` instead.\n",
      "  with torch.cuda.amp.autocast(enabled=False):\n",
      "/home/mesolitica/.local/lib/python3.10/site-packages/malaya_speech/nemo/jasper.py:437: FutureWarning: `torch.cuda.amp.autocast(args...)` is deprecated. Please use `torch.amp.autocast('cuda', args...)` instead.\n",
      "  with torch.cuda.amp.autocast(enabled=False):\n",
      " 90%|███████████████████████████████████████████████████████████████████████████████▏        | 9/10 [00:17<00:01,  1.98s/it]/home/mesolitica/.local/lib/python3.10/site-packages/malaya_speech/utils/nemo_featurization.py:464: FutureWarning: `torch.cuda.amp.autocast(args...)` is deprecated. Please use `torch.amp.autocast('cuda', args...)` instead.\n",
      "  with torch.cuda.amp.autocast(enabled=False):\n",
      "/home/mesolitica/.local/lib/python3.10/site-packages/malaya_speech/nemo/jasper.py:437: FutureWarning: `torch.cuda.amp.autocast(args...)` is deprecated. Please use `torch.amp.autocast('cuda', args...)` instead.\n",
      "  with torch.cuda.amp.autocast(enabled=False):\n",
      "100%|███████████████████████████████████████████████████████████████████████████████████████| 10/10 [00:18<00:00,  1.83s/it]\n"
     ]
    }
   ],
   "source": [
    "data = loop((files, 0))"
   ]
  },
  {
   "cell_type": "code",
   "execution_count": 12,
   "id": "fe847a9c",
   "metadata": {},
   "outputs": [
    {
     "data": {
      "text/plain": [
       "496"
      ]
     },
     "execution_count": 12,
     "metadata": {},
     "output_type": "execute_result"
    }
   ],
   "source": [
    "len(data)"
   ]
  },
  {
   "cell_type": "code",
   "execution_count": null,
   "id": "7ceb5b27",
   "metadata": {},
   "outputs": [],
   "source": []
  }
 ],
 "metadata": {
  "kernelspec": {
   "display_name": "Python 3 (ipykernel)",
   "language": "python",
   "name": "python3"
  },
  "language_info": {
   "codemirror_mode": {
    "name": "ipython",
    "version": 3
   },
   "file_extension": ".py",
   "mimetype": "text/x-python",
   "name": "python",
   "nbconvert_exporter": "python",
   "pygments_lexer": "ipython3",
   "version": "3.10.12"
  }
 },
 "nbformat": 4,
 "nbformat_minor": 5
}
