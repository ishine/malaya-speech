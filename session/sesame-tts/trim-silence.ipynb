{
 "cells": [
  {
   "cell_type": "code",
   "execution_count": 1,
   "id": "1bcd344c",
   "metadata": {},
   "outputs": [],
   "source": [
    "from pydub import AudioSegment\n",
    "from pydub.silence import split_on_silence\n",
    "from glob import glob\n",
    "import soundfile as sf\n",
    "import numpy as np\n",
    "import os\n",
    "from multiprocess import Pool\n",
    "import itertools\n",
    "from tqdm import tqdm\n",
    "\n",
    "def chunks(l, n):\n",
    "    for i in range(0, len(l), n):\n",
    "        yield (l[i: i + n], i // n)\n",
    "\n",
    "def multiprocessing(strings, function, cores=6, returned=True):\n",
    "    df_split = chunks(strings, len(strings) // cores)\n",
    "    pool = Pool(cores)\n",
    "    pooled = pool.map(function, df_split)\n",
    "    pool.close()\n",
    "    pool.join()\n",
    "\n",
    "    if returned:\n",
    "        return list(itertools.chain(*pooled))\n",
    "    \n",
    "def new_path(f):\n",
    "    splitted = f.split('/')\n",
    "    base_folder = splitted[0] + '_trim'\n",
    "    splitted = '/'.join([base_folder] + splitted[1:])\n",
    "    return splitted"
   ]
  },
  {
   "cell_type": "code",
   "execution_count": 2,
   "id": "108774ac",
   "metadata": {},
   "outputs": [
    {
     "data": {
      "text/plain": [
       "5603411"
      ]
     },
     "execution_count": 2,
     "metadata": {},
     "output_type": "execute_result"
    }
   ],
   "source": [
    "from glob import glob\n",
    "\n",
    "files = glob('*/**/*.mp3', recursive = True)\n",
    "files = [f for f in files if 'trim/' not in f]\n",
    "len(files)"
   ]
  },
  {
   "cell_type": "code",
   "execution_count": 3,
   "id": "50621ba1",
   "metadata": {},
   "outputs": [],
   "source": [
    "import pandas as pd\n",
    "\n",
    "df = pd.read_parquet('verify_text-00000-of-00001.parquet')\n",
    "filtered_audio = set(df['audio'].tolist())"
   ]
  },
  {
   "cell_type": "code",
   "execution_count": 4,
   "id": "43796014",
   "metadata": {},
   "outputs": [],
   "source": [
    "filtered_audio_fix = []\n",
    "for f in filtered_audio:\n",
    "    if 'ssd3/' in f:\n",
    "        f = f.split('ssd3/')[1]\n",
    "    elif 'ssd4/' in f:\n",
    "        f = f.split('ssd3/')[1]\n",
    "    filtered_audio_fix.append(f)\n",
    "    \n",
    "filtered_audio_fix = set(filtered_audio_fix)"
   ]
  },
  {
   "cell_type": "code",
   "execution_count": 5,
   "id": "93a140db",
   "metadata": {},
   "outputs": [],
   "source": [
    "files_ = [f for f in files if f in filtered_audio_fix]"
   ]
  },
  {
   "cell_type": "code",
   "execution_count": 6,
   "id": "91d4e2f1",
   "metadata": {
    "scrolled": false
   },
   "outputs": [
    {
     "data": {
      "text/plain": [
       "(3164815, 3164815)"
      ]
     },
     "execution_count": 6,
     "metadata": {},
     "output_type": "execute_result"
    }
   ],
   "source": [
    "len(files_), len(filtered_audio_fix)"
   ]
  },
  {
   "cell_type": "code",
   "execution_count": 7,
   "id": "f873f670",
   "metadata": {},
   "outputs": [],
   "source": [
    "# !rm -rf *_trim"
   ]
  },
  {
   "cell_type": "code",
   "execution_count": 8,
   "id": "d103e7e3",
   "metadata": {},
   "outputs": [
    {
     "name": "stderr",
     "output_type": "stream",
     "text": [
      "/usr/lib/python3/dist-packages/scipy/__init__.py:146: UserWarning: A NumPy version >=1.17.3 and <1.25.0 is required for this version of SciPy (detected version 1.26.4\n",
      "  warnings.warn(f\"A NumPy version >={np_minversion} and <{np_maxversion}\"\n",
      "WARNING:malaya_speech.torch_model.huggingface:`openai-whisper` is not available, native whisper processor is not available, will use huggingface processor instead.\n"
     ]
    },
    {
     "name": "stdout",
     "output_type": "stream",
     "text": [
      "[2025-05-14 13:32:40,468] [INFO] [real_accelerator.py:239:get_accelerator] Setting ds_accelerator to cuda (auto detect)\n"
     ]
    },
    {
     "name": "stderr",
     "output_type": "stream",
     "text": [
      "/usr/bin/ld: cannot find -laio: No such file or directory\n",
      "collect2: error: ld returned 1 exit status\n",
      "/usr/bin/ld: cannot find -laio: No such file or directory\n",
      "collect2: error: ld returned 1 exit status\n",
      "WARNING:malaya_speech.streaming.pyaudio:`pyaudio` is not available, `malaya_speech.streaming.pyaudio` is not able to use.\n"
     ]
    }
   ],
   "source": [
    "import malaya_speech\n",
    "\n",
    "sr = 24000\n",
    "min_length = 0.4\n",
    "start_silent_trail = int(0.3 * sr)\n",
    "middle_silent_trail = int(min_length * sr / 2)\n",
    "middle_silent_trail, start_silent_trail\n",
    "\n",
    "def loop(files):\n",
    "    files, _ = files\n",
    "    \n",
    "    for f in tqdm(files):\n",
    "        \n",
    "        f_new = new_path(f)\n",
    "        if os.path.exists(f_new):\n",
    "            continue\n",
    "        \n",
    "        try:\n",
    "            vad = malaya_speech.vad.webrtc(minimum_amplitude = 0)\n",
    "            y, sr = sf.read(f)\n",
    "            y_= malaya_speech.resample(y, sr, 16000)\n",
    "            y_ = malaya_speech.astype.float_to_int(y_)\n",
    "            frames = malaya_speech.generator.frames(y, 30, sr)\n",
    "            frames_ = list(malaya_speech.generator.frames(y_, 30, 16000, append_ending_trail = False))\n",
    "            frames_webrtc = [(frames[no], vad(frame)) for no, frame in enumerate(frames_)]\n",
    "            grouped_deep = malaya_speech.group.group_frames(frames_webrtc)\n",
    "            r = []\n",
    "            for no, g in enumerate(grouped_deep):\n",
    "                if g[1]:\n",
    "                    g = g[0].array\n",
    "                else:\n",
    "                    if no == 0:\n",
    "                        g = g[0].array[-start_silent_trail:]\n",
    "                    elif no == (len(grouped_deep) - 1):\n",
    "                        g = g[0].array[:start_silent_trail]\n",
    "                    else:\n",
    "                        if g[0].duration >= min_length:\n",
    "                            g = [g[0].array[:middle_silent_trail], g[0].array[-middle_silent_trail:]]\n",
    "                            g = np.concatenate(g)\n",
    "                        else:\n",
    "                            g = g[0].array\n",
    "\n",
    "                r.append(g)\n",
    "            y_after = np.concatenate(r)\n",
    "            \n",
    "            os.makedirs(os.path.split(f_new)[0], exist_ok = True)\n",
    "            sf.write(f_new, y_after, sr)\n",
    "            \n",
    "        except Exception as e:\n",
    "            print(e)"
   ]
  },
  {
   "cell_type": "code",
   "execution_count": 9,
   "id": "761aea12",
   "metadata": {},
   "outputs": [
    {
     "name": "stderr",
     "output_type": "stream",
     "text": [
      "100%|███████████████████████████████████████████████████████████████████████████████| 1000/1000 [00:00<00:00, 295477.56it/s]\n"
     ]
    }
   ],
   "source": [
    "data = loop((files_[:1000], 0))"
   ]
  },
  {
   "cell_type": "code",
   "execution_count": 13,
   "id": "7c1283b5",
   "metadata": {},
   "outputs": [
    {
     "name": "stderr",
     "output_type": "stream",
     "text": [
      "100%|███████████████████████████████████████████████████████████████████████████████| 1000/1000 [00:00<00:00, 215114.58it/s]\n",
      "100%|███████████████████████████████████████████████████████████████████████████████| 1000/1000 [00:00<00:00, 146204.13it/s]\n",
      "  0%|                                                                                              | 0/1000 [00:00<?, ?it/s]\n",
      "  0%|                                                                                              | 0/1000 [00:00<?, ?it/s]\n",
      "100%|███████████████████████████████████████████████████████████████████████████████| 1000/1000 [00:00<00:00, 126205.21it/s]\n",
      "  0%|                                                                                              | 0/1000 [00:00<?, ?it/s]\n",
      "100%|███████████████████████████████████████████████████████████████████████████████| 1000/1000 [00:00<00:00, 110688.10it/s]\n",
      "100%|████████████████████████████████████████████████████████████████████████████████| 1000/1000 [00:00<00:00, 97451.30it/s]\n",
      "\n",
      "100%|████████████████████████████████████████████████████████████████████████████████| 1000/1000 [00:00<00:00, 70805.48it/s]\n",
      "100%|███████████████████████████████████████████████████████████████████████████████████| 1000/1000 [01:21<00:00, 12.30it/s]\n",
      "100%|███████████████████████████████████████████████████████████████████████████████████| 1000/1000 [01:22<00:00, 12.10it/s]\n",
      "100%|███████████████████████████████████████████████████████████████████████████████████| 1000/1000 [01:23<00:00, 12.04it/s]\n",
      "100%|███████████████████████████████████████████████████████████████████████████████████| 1000/1000 [01:23<00:00, 11.91it/s]\n",
      "100%|███████████████████████████████████████████████████████████████████████████████████| 1000/1000 [01:24<00:00, 11.90it/s]\n",
      "100%|███████████████████████████████████████████████████████████████████████████████████| 1000/1000 [01:24<00:00, 11.89it/s]\n",
      "100%|███████████████████████████████████████████████████████████████████████████████████| 1000/1000 [01:24<00:00, 11.87it/s]\n",
      "100%|███████████████████████████████████████████████████████████████████████████████████| 1000/1000 [01:24<00:00, 11.87it/s]\n",
      "100%|███████████████████████████████████████████████████████████████████████████████████| 1000/1000 [01:25<00:00, 11.76it/s]\n",
      "100%|███████████████████████████████████████████████████████████████████████████████████| 1000/1000 [01:25<00:00, 11.72it/s]\n",
      "100%|███████████████████████████████████████████████████████████████████████████████████| 1000/1000 [01:25<00:00, 11.67it/s]\n",
      "100%|███████████████████████████████████████████████████████████████████████████████████| 1000/1000 [01:26<00:00, 11.63it/s]\n",
      "100%|███████████████████████████████████████████████████████████████████████████████████| 1000/1000 [01:26<00:00, 11.54it/s]\n",
      "100%|███████████████████████████████████████████████████████████████████████████████████| 1000/1000 [01:26<00:00, 11.53it/s]\n",
      "100%|███████████████████████████████████████████████████████████████████████████████████| 1000/1000 [01:26<00:00, 11.53it/s]\n",
      "100%|███████████████████████████████████████████████████████████████████████████████████| 1000/1000 [01:27<00:00, 11.39it/s]\n",
      "100%|███████████████████████████████████████████████████████████████████████████████████| 1000/1000 [01:27<00:00, 11.39it/s]\n",
      "100%|███████████████████████████████████████████████████████████████████████████████████| 1000/1000 [01:28<00:00, 11.36it/s]\n",
      "100%|███████████████████████████████████████████████████████████████████████████████████| 1000/1000 [01:28<00:00, 11.33it/s]\n",
      "100%|███████████████████████████████████████████████████████████████████████████████████| 1000/1000 [01:28<00:00, 11.33it/s]\n",
      "100%|███████████████████████████████████████████████████████████████████████████████████| 1000/1000 [01:29<00:00, 11.21it/s]\n",
      "100%|███████████████████████████████████████████████████████████████████████████████████| 1000/1000 [01:29<00:00, 11.20it/s]\n",
      "100%|███████████████████████████████████████████████████████████████████████████████████| 1000/1000 [01:30<00:00, 11.06it/s]\n",
      "100%|███████████████████████████████████████████████████████████████████████████████████| 1000/1000 [01:31<00:00, 10.97it/s]\n",
      "100%|███████████████████████████████████████████████████████████████████████████████████| 1000/1000 [01:31<00:00, 10.93it/s]\n",
      "100%|███████████████████████████████████████████████████████████████████████████████████| 1000/1000 [01:32<00:00, 10.85it/s]\n",
      "100%|███████████████████████████████████████████████████████████████████████████████████| 1000/1000 [01:32<00:00, 10.77it/s]\n",
      "100%|███████████████████████████████████████████████████████████████████████████████████| 1000/1000 [01:32<00:00, 10.75it/s]\n",
      "100%|███████████████████████████████████████████████████████████████████████████████████| 1000/1000 [01:33<00:00, 10.72it/s]\n",
      "100%|███████████████████████████████████████████████████████████████████████████████████| 1000/1000 [01:33<00:00, 10.72it/s]\n",
      "100%|███████████████████████████████████████████████████████████████████████████████████| 1000/1000 [01:34<00:00, 10.63it/s]\n",
      "100%|███████████████████████████████████████████████████████████████████████████████████| 1000/1000 [01:35<00:00, 10.52it/s]\n",
      "100%|███████████████████████████████████████████████████████████████████████████████████| 1000/1000 [01:35<00:00, 10.47it/s]\n",
      "100%|███████████████████████████████████████████████████████████████████████████████████| 1000/1000 [01:36<00:00, 10.34it/s]\n",
      "100%|███████████████████████████████████████████████████████████████████████████████████| 1000/1000 [01:37<00:00, 10.29it/s]\n",
      "100%|███████████████████████████████████████████████████████████████████████████████████| 1000/1000 [01:37<00:00, 10.28it/s]\n",
      "100%|███████████████████████████████████████████████████████████████████████████████████| 1000/1000 [01:37<00:00, 10.23it/s]\n",
      "100%|███████████████████████████████████████████████████████████████████████████████████| 1000/1000 [01:37<00:00, 10.23it/s]\n",
      "100%|███████████████████████████████████████████████████████████████████████████████████| 1000/1000 [01:38<00:00, 10.17it/s]\n",
      "100%|███████████████████████████████████████████████████████████████████████████████████| 1000/1000 [01:38<00:00, 10.14it/s]\n"
     ]
    }
   ],
   "source": [
    "multiprocessing(files_[:50000], loop, cores = 50, returned = False)"
   ]
  },
  {
   "cell_type": "code",
   "execution_count": 14,
   "id": "634a91ef",
   "metadata": {},
   "outputs": [
    {
     "name": "stderr",
     "output_type": "stream",
     "text": [
      "100%|█████████████████████████████████████████████████████████████████████████| 3164815/3164815 [00:15<00:00, 208466.15it/s]\n"
     ]
    }
   ],
   "source": [
    "selected = []\n",
    "\n",
    "for f in tqdm(files_):\n",
    "    left_size = os.path.getsize(f)\n",
    "    try:\n",
    "        right_size = os.path.getsize(new_path(f))\n",
    "        if (right_size / left_size) < 0.8:\n",
    "            selected.append((f, new_path(f)))\n",
    "    except:\n",
    "        pass"
   ]
  },
  {
   "cell_type": "code",
   "execution_count": 15,
   "id": "ed52e53d",
   "metadata": {},
   "outputs": [
    {
     "data": {
      "text/plain": [
       "3"
      ]
     },
     "execution_count": 15,
     "metadata": {},
     "output_type": "execute_result"
    }
   ],
   "source": [
    "len(selected)"
   ]
  },
  {
   "cell_type": "code",
   "execution_count": 16,
   "id": "ff3bda65",
   "metadata": {},
   "outputs": [
    {
     "data": {
      "text/plain": [
       "('klasik_processed/kampong pisang berbuah dua kali - belanja besar [_aawWQslNXE]/kampong pisang berbuah dua kali - belanja besar [_aawWQslNXE]_3.mp3',\n",
       " 'klasik_processed_trim/kampong pisang berbuah dua kali - belanja besar [_aawWQslNXE]/kampong pisang berbuah dua kali - belanja besar [_aawWQslNXE]_3.mp3')"
      ]
     },
     "execution_count": 16,
     "metadata": {},
     "output_type": "execute_result"
    }
   ],
   "source": [
    "selected[0]"
   ]
  },
  {
   "cell_type": "code",
   "execution_count": 21,
   "id": "a4600fdb",
   "metadata": {},
   "outputs": [
    {
     "data": {
      "text/html": [
       "\n",
       "                <audio  controls=\"controls\" >\n",
       "                    <source src=\"data:audio/mpeg;base64,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\" type=\"audio/mpeg\" />\n",
       "                    Your browser does not support the audio element.\n",
       "                </audio>\n",
       "              "
      ],
      "text/plain": [
       "<IPython.lib.display.Audio object>"
      ]
     },
     "execution_count": 21,
     "metadata": {},
     "output_type": "execute_result"
    }
   ],
   "source": [
    "import IPython.display as ipd\n",
    "ipd.Audio(selected[2][0], rate = sr)"
   ]
  },
  {
   "cell_type": "code",
   "execution_count": 22,
   "id": "890a599b",
   "metadata": {},
   "outputs": [
    {
     "data": {
      "text/html": [
       "\n",
       "                <audio  controls=\"controls\" >\n",
       "                    <source src=\"data:audio/mpeg;base64,//OExAAAAAAAAAAAAFhpbmcAAAAPAAAASAAAI0AACQ8TExYaICAkKCgrLTAwNDY2OTw/P0NIS0tOUlJWWVtbXmJiZmhra29ycnV4e3t/hoqKjpGRlJaZmZ2goKKlqamrr6+ytbi4u77BwcTHx8vO0tLU2Njb4OTk5+vr7/T4+P//AAAAPExBTUUzLjEwMAR4AAAAAAAAAAAVCCQEICEAAcwAACNAtWrspwAAAAAAAAAAAAAAAAAAAAAAAAAAAAAA//O0xAAX0GJsD0kAACGBeEFCAUAgGCSxQKECBAgQIECNGjRo5g+DgIAgCAIA+D4Pg+DgYygPg/8oCAPg+D4Pg47+UDH/+D4f/E4Pg+aBA4sHwQOeCBz/xP//4YB8HwfD6AQBAEKwfB8/KAgGFQSgAzd4e3djd3u9LI2wXAFGgsC8AjDQITuoBEbM0MTlJgJmR0GqdExIsgX1L8CRkyCEqDU0ILC6C8QNmLBgqBiQwJBidWF44uwiDH+LlqRRF5GJjFF2ILC7iC8YtEXkXJH4foufF1+LupRCR+x+ywRYsy3TJlYbyXaw/kiuWS2W5aLRFC1LUsFn1imiC3Woy8tFuWpZLEsFosy3kVIqW+SvisEaiSqSUlSM8tlgskUGTLZZ//H4POQv//lQWEVBYRUFhFQVwAbz8ubbJHEVEADBCSsgUg6L/RWGruN2zuKX6Z/r//OExOMxMxKLH5qhAfS//eVsjQqCwTChEqag5JKVMNRi5WVLDWVLFEoecum2/PTOq50yZQx3srMan3TV9//9P2Wltm/1Z7of//R/69vt43UGWaGqV32tdA+6DXvFPmO5CRvzmsSW3Uv+wdd7Q12XX7EIkRJ/rtWgcCIgQonJJdJB61WSEZ7zuRixrqrpJQzHZivoiTXuSno07sV0v+qpbbm9vpf/9/9Oy4KC8aD/gwA797/tuZh82DBvOraWQmVu//NkxNEYIxqWX9g4AK0AszcOw4KvkbO8TKLR8jp2rmtXtf7U1KzuurOrjgmXlR3747ydgkZVC0BaB6FhVlUe4vlglESQXiorHv/Ksenn87Py+XD3Ol0vnzh4+XRll+McZc5yrKh6FRWW//lUqb/tf9Vak7ce5aWeVflUt//LVQAxbL7Gv8wkorC+YRQYUL5h//NUxPMXwuaqfsJErFQd9AbhAaCkLcASJSSDg5kiRgwa7jAAFIf6pA4MqVUzVFSe1RUjVUjHy9nHvgXIKwQhBByRUghBtWMGSDopz2RzjAHPmYMAUyZkyZgwWkLStUEARhJBwpxxmmmYQZhRGkGHDiAMySXw98Xy//NUxP8gkxqpvsPaXP98XwSMTbSTZ2af6ZTBodNDYNI0Qc5pmmaRpr6HtLR+0dD2hf6GdfaV5QAROJ9nb4BAB+k3pBtS6/JFexdbRuiiyJr+iwnhmZWw6QVDdWMe2YvuX59y/+D/gxRhyYPcqDVEvoXXfFZDqqco//OExOcpYcqduNZfZBQRCHUsmZC/8mk8mf2Tsgk6A0QioCw5tAcYhqQLIEdjbNnj0f/mxx6R6x6Dd7WrFcb5wHALpzh/dnw62+n/////4WAIAhnhYbDA2FgAAENVAXHcUv1OI0Bo0LOyKaYhmMV5U8ZsqflJK+44pZK6RNtmL0Jw/L5ydPRmxGxmgC6JNHsWlss+Oo6jOOgjQ6DPL/zx48Xjp88WR68tKo9SssLSwe49DxcPnc9/Of///6vOHuez//N0xPQkEobK/svLhPPf/8s//lXLPlnEemmDjmXEvuDXjyjZvgyupRapEdNR8lsqFR4nHiN70P4mQoekiRd6FN3/6Tuijr/f//S/QJcXc96T3dP9JH0T3fvocj2PK5Uulv/////df3e/d95Vcf////jPCswBX/ATTO1BL4ILDtlDXiSjTbWCE67i0rxkazJmdGfzDAwWNQpFT+WcG9/togUBVnE/7o////NUxP4bqxq8BsPaiK9nZnKKZh2R03/weAY3/HB1I+LoLmwQ0r9rbPYyYjAoZ7kr8LykOvANhrNcJwXzjj5VrjCjyKppmeyTt8X5wPjgxoICgIwFXbMCAhoD8CAhwYCDGAgYNv9P//8BAhv/+saYHCMKAcH8Pa5u//NExPoWgxrufnpKvKm+qot/5r/0fvXISHv66jQL3/332M8+C7C1F9Jz72cttbyRDs2jlBEwGAAjlJ8cDwciucyKDBxgAHj/SjimFmLqTt/7I1sxqG//blYQFCw2GxYo//NExPMUcibeXpPEGDYsULlpcaFi8v///73/+JxOD+MiYTwfxjjAmEwn4bp8O91kjr6AvCoHRFATZJUJHAkIUAJgnxdIE3dE+7m9B0Hf/6+UlxdAIRZCJR4YHSob90Sg//NExPQXEjLjHniW/ND8f/47/spfX1vL+101mcMCzu2v72//////Dg+MD3xnjMZxlYwdtfS78aEmQecw19D91g9JQlEhYvCGOOKIaij+ZBFqIKkUV1EUMZ1Fb/mbMUYL//NUxOoYov7WXHiOvAGNVl23t/xwMbwG///+BYFAhwEB//H/GwLAAMGCBjcHBD////8EPQpIGRTpVtvsuZwLgCtBIQd5Y2dDD8azLTzih6HtPRckos9VAAEBwF/d1Rxc7FEqn/yHOcdP/LBMYmegrioaLI8jX/qH//NExPIV2xrOelpKXH44cSso56Y7nMoE31+fhAUYTRY1DIDw5zulD4zgrY40aZ7CsrsWvxNuUughzePEXYv0l2KIBA5IQC368WWlVE0hGjQ9B///+m5ACndFt7Gox0p1//NExO0VmxLKXGFE1P//d6///Jfq51k7BwjzAR8kHLQYA0kdWNaV/FDjcAf1sikmmtPHFkqGmFgQ8n5Pzj5MFZy6GLMzsztSPVTIRzwekABhXr368hnnk///m83kf/vW//NExOkTIQ7KfGPEFJ6HilClGkmTQND/plNpg0P8aBOXGkqXxCAwQAM///////////////+UlkA4BFfxrR+iqNM2dZwA/PMrelhOxttWavARClKE+BHsC41xK+FALALd//NExO8U+R65HoYSHAqUuwsxStnL4KWMWRcyUNomZuosd0rLXUz1MTo9+8/8v/717JM+llPo+3Trq3tbtWtTrlpV5UPUewvlUslRaVFZaPWPXK//////5X8rKistHuJQ//NkxO4cgyKgXMvOvA44CbC1C6CPAQESkHAJRKy2Lw9CyVleW8ehWPfKpWVlhWWlcqj3LRMCgYc4Yo/I3FwXQipj3JbCJm6hAgfXBVeHAeDeEZoZwHpZiiiK4VYwNlo9pD6i3vzb+7js2n/Fzgj0q+yM/6tVfx8Z////////8bD8Oxg6P/N////hSiCAJwIP//N0xP8owx65HsPbELpYzA8GEmGfTpdR78lc/JAKWSSUPUyBqhWV/izQ3lk0Pe+nNlHcIWJpxNUNX0zJI8/RXLAghxe35eUKjYaFgXmEj7zDAetdP0r0wqDw+Yi9Lf//E4m8TRMD4TA9Of0GAAFQ0djfRru4bgTIHHyUcbhyuTGFCDQG8FRzjaSKpaYKGGzl+AGkXYIxok39swkZ9Ag2ZyL8BX4EgaAR//NExPcVmxrRnnsKeDDKwjLAHwjkQYXIxGIhNXTRf/I4woqhv0lGRw3WZKMjpfQLj/033TMWNCkL5i6kNbq9X+r/ZnZM9f//zkvnT5wunp2e//8v84fnD3PHh7D1HpVk//NUxPMbci60vsPOzEhBBxWW38lF6nGDlB8Ud+V1tvbxAlugYDdMDOgnljGyxZqJYtXLA0gxj+K7rSf7vZmyMF3vI6Ln2MqHGsOd6q85TN+7W1ZhMCjxB4Z/+rtT/hRoVdYoccY2gCGRUgu9JNWfICAY2/l0fYwB//NkxPAg2yKoFtTbAFuzwZ20MQ62wXOdePKOzD6mUp4zAaOa3OetQ6yuQIqD2WhsPK1UdOZM87gGLI5W9UM3+vakAimxZ/3Wf0f+HRFvs1Yx7SFJFCoMSg3uBj7hJYmFcLGljQanmuLFmrZ77efeU1R8Tuwrhc3cPRSPD4s4TdMFYga3M4wm6N6Wa6C7v//0//NUxO8YUZbm/sMKlLN65xoKIsY5zbIhev///T/+OGDMfjf/p/LVAlTCA1dvpOH6KpIt6hyMMPiAq7oFVM39I0pu79tsjRo3o0HcCH85zFYr0xO97kaNyFGjRikd0+pmK6B2UYCKK/IQlP//E3q3u31///1t///J//NExPgUiZLVvnmKyOjV///v/4wAwAB+NQYH+VWSDMgA43pPsspkbKPF0GdSdMpP57gtJeq00nHpBudFhxcxJCTh3C1nieamVfOJ06V3a+7V6sdqx277X/ZpxYsNSkrj//NExPgU2oK5XsJKrEG4EAIly////////////+MiYH4wD8ZGBMD8uGEGtNbLt67gIf4jpCVDwC2bO2UBGUBsnf6T+qdd4iGGaNlgaI1AiNlkWzl9CwML6rvbN5fVdnoE//NExPcV+xrKXsJEsBs5fYSNNm/2zoaSX/9f7trVp9Ola7anX/mfTSSTSTCo45+axxwzc+6Wvp///+2hxxxz7/9f///EMB3h2IYg//4diDRVAwAem/s/1gisl0ve31xT//NUxPIbcpa+PMPO0CaF7MNMh1CLAkIUu8zeSk5ELv/2KzS3komJ5Utzt0RHBRIGaEW4q40RGkzJAHI4H12DEnD59v//98KzxLP/pSqCAMDk4AF+lCqyuknLSiV6QsLJw0Dv8piKBOrCHtC+0phHv/O8lnn/zd1p//NkxO8dCwqYGNPPKH/go9R99lnf7q7EBgxAAdxv/3vWtZz3M2mmXVttR3jY7Hjf//9TlE7XulrUVRACbBqPGx+yEaUNMtpEb2fqRuyX7rIHzcVIdNVCUbAJgcSLbM+bYC7bhrrf+IUjg+jS73o0bxboUSV7/5WXKlSwhjIz/9S/U9EZ6sv//////y3//+Ul//M0xP0TmR65msJEdIaSw1lyxQsVGkuVLFCpeVKl/5UQARcKekgf5YdZrfSUVj9FRitNSfQuv8HBRKDEVjvTQiauViav5iHB//NUxOkVygKtfsPKWM5UHOVBxpSWSTRDxo/g0qpnxm3Uv38NTGJYoNgk40K/yhYalxwir/8dOnopUZNExCj8v+WL/5T/8v/lyn//5cajcqNioDCxUbDQI5YuIRuNC0qVG+V+V/yyFEoAArFvwzDDilyoA+Fw4JUW//NUxPwaQuK9HsJPBL16YvJpvphzm2vmLK9kaHym1q2PVSvZZZO/iqd9SNbGivX/+qsYCf/1+UKJNcKseJEf/7f+2NNMUJd37et9KgAQ2W/5LH+QDeZ9EOsSfBxqaKyTsfJYS6iRIuqcdmNMIHai3SZMcpHfcGub//NUxP4gKxq1Hs4OzNe1IYU0UFb/1VvRwEWxKcjb8OFlAVuYUytf/lmhS0YjSlT0+1wDgQx1/2kMew5RE24txoSqcWrLFwOdhphkZUKSlMIYcPb+wJYFsC6Vq4BGzdbQMIXdr/mfoINg4yseKIXUsHGwBXaixoIX//NExOgT6WrOXIvEXKl7L78wT/1e7/T+usGgBu9+lgOTTBQA0r7ynD4JNUrlwHnuR09y500QclVikWhl8t0SFH0kb8ut8ovmezJ/3+gQJd7+5JyBGj6SHvd3IHf/5Ufj//NExOsUeW7BvsGEeKIsOQYESIsXRFi8JYixFiIjou/xeLhd/8c///yuV/8Xi4RI6OR0XC4RAvHRwXxEC/jg6LoCwG2+nrn+okozJvkzSgcAcMIJgPhRq7VhAkowu8HB//NExOwUYTKxvnsGPKhq7mmtkbK05/V3tIVWclRpAiW6ChJWqzkUIBVQsgXLZ0YQQcIYcZphHEEqRq4cKceYeOYQTVmr//+1VqipGrNUVI1Rqv+IAgOEQZH/wOMf+N4b//NkxO0esw6iHsJUvLw4YYLVIIAjjjEIRhBNVDhxAkHSCENUzV1StXLAZWGIAlSiENUxphmEkVpGGmVhhwhYDKww4Rq7VGqtXas1X/9qqp2qKkg5y4MciDVYIOctyy3CnBbtVZTgt45KnJZByYPVURUciDPclWP4Octy3IchyHLcuDHIRUVVVjUbU5g5yy3a//OUxPVBqxqdnMzzhJyiogyW/g+DlYlOIPchy4PVJXoiS0pLTAM/PgBkAaDTmmRC7OGsfURqhsdOzz/yPZLza+H2YOdZngtKmetCpaOdwpE0ZLmH2DiygiuoOKO3///mSUKFlCDlAQUrTG3AqsZ1R///3UxnaZ5qLXMGKhnLLzGdQEEhMDtgV1XKpZT6APs51mwGCCLC4LIA1inMYoFmKmUKVKeK4Ra6Z4OGQiisKEB5RRphazGRU5pvpO4bVrgoNqBGI94Y4y0TLMmfO/k/7xVvDsnfd5Ohjx+fEj+d/I8lfPHve/xgKBwQOCVu6Pqi//NkxNEamsbWXHtFQH9vb//f//43H4/xomNgmSYC0f74BAaf1sRX7Nu/2C2hW7y24BuN3GlxWJrninrIFFlEcuJiCSwQFVpE45njIym5ZZMpf5JZXV///XMhK2Sh6VXK//////06+n9p8fHGGwAYcfBjD/+D46rBMyAQsN68JYLROQ6zbtoXYxNyqpTdGPvy//NkxOkb+pLCOMvE2E3lRU8iMRU/Zjkf03OTRJJ/9IGUXeNBDfY1TGRVvc5v/9dELQtwYIBG///uItFiQ4sMrOieaphNzj1H5CqBAgHDAEG7jPUAG6ERtX7z3npYAXHZ3DUhnx0aTMmQg+UcJkSwqC6Nb2z2YhopSI1RgHssr1OW3N4pUN+g4IcGCBQQ3/62//NExPwXyxreXsGE8GREYYA4///9Sa4r6tv/+GKAAkveLHH4igHGaVNKLBAJ/ZxdKeR+vj0obwE7gcJhjtXsgPBAwLAgIYBARuz6VVqKJLTsrMn2spn3qAjeBQY3xowP//NExO8VUZbi/npE6P//zUfNFoODiRUNQ2sSv//5ShG1VMcfdJXAoeboE3blOELTrpEvnyJnNJ6bUqNmey+QMayyiJ2sZFYAQk5nUyP8iFM5GMrsmtNmnX9v93Yaxyh0//NExOwVcZ69fsME0NSqr///70/3mdaKy+hG2/////4UGQbXZJJOBhEAVqCSCBSBJCDiuwNPciTBkrCjse7G3vQuQiH9yJEiRIkXeh6FDFFeqxldrRW1+q9Kl2S+xVu6//NExOkVIkrBfnmEwG9F/Ma9Pf1fqxf/X7/acnKWUyLgQ+C//x0F9ufeSOJAWYkIOJ1N1B02zOkm621umcQBOAtYCHCiUY9TjNAQAGPBjRwcGBAQ/ggQECKIGDYaSKra//NUxOcVex6oPsPKUC5WprRCiFwx7OiMjn8v/6O8b7LO9QH3X77Ev8xbk2ECw5i4tplzeZZohOiQPRNVOOxSWv6xlyQpI0+IkFVkiA2HAAEHgOCHeSMHdqitfkKsRzLheXl5POm5o9nrh/7nB/Yyxr//1/sVADka//NExPwVsu6sfpJEfFmTCSTbiE9E5FSmS8o5mcBcWJ3K/evvIRyJ4qAnYrCGHiEOEAeA3DgHSspKypQQYdw7///LluVl/5YuVKFyxYbFgmKlihcrlxoUlCuWLcalMqVG//NExPgToOahvsDEcLKFysbShcsWEAeA0OAdAcIcB0OD4DRBxD4f8P/w8PEIfDwGgOgMEAhDogDwGwVBqiY79YreCIYsXUHTMYJOEi2qZxmQ9fPN70OezND4cbHABUDM//NExPwUkbqVuMpGdKXxMJjJS/JILWFTgaGQvAINAL+3eRBlhgCs1pFRi5xo9jvCI9vv8+//bUFNrPPHYVw1ko0Dg30ai6nkzwXx8PE1w6lUp9A5NzkIlehS3Z+86fek//NkxPwhWx6afntOpPSRokdzstzOpWbpuRyqyaCu5VZ0e8rENv/5Oqy+3+j9Vb/s9lv/T///jeDVQM2ysbbcgoEyJpZhWD82tKqxeikwHkoQltYsksMDLGAhxgc84PMpll6f/n8rJTKX+2WVqyrKVS/Hl5e5ySaSSNJNJyNyJCkjQI3uehSRoHuQohCkjQC6//M0xPkTKQqaWnjK0BRJJoPm5frP7r/////f/+cOnDpw4dOc4d/Pc+ePnucOnP/+ePpAyfSfSRqoFFAFVnC5WYpOoECNVISo//NUxOcVEvaeXHpElNTXQp+t7u3N83vR96BHPVk1lca4TFyx0NMcRLJDJFUqmqHSDEFLjmdHsR7NmrbWuIkarP/ytWKpNpJJIkoA5EIdZYHzIywq8UsGloyUWbYXUTb2du36EfTQ9kBIScZUTpg0BdRoiEmmQ3Fr//NUxP0e6xKaXmDS3E9CbGvDV1Lv/zDEX+1NlCRqCqF1ic7EUsqBJP67V1KC1aLy1czKdWwsgQ2sw6S4hBFGHk0xGhROSR/pIU0aSITIUfRd3RI0jjYHMnRjSQ0aPUeJzhV0055fW3R9FBBejqoU1fXbe9gtsW5p//NExOwS2L6aXDJSIFD6KqAmrG3UroSAHOHMJML0ysqucGjM4JCr9A5IMZmLJKZlaMVFnEeEDBgxwXjAtP/Plc4hv6Ju6FGj6SBAmj6NG9Amkg6NChSc9G9EjSQIBGJ3//NExPMTWPaWXkhHBIkQPQIHI0fQOS/Ro+gQOQOTRjgiSSH9kebrfpcq0XZxenG77b7ZUgwikTVo/riqtW16JcJMRaLK/ENpyOYixO3cZmkC+FetijjmGKGCJah94OMU//NExPgVEMKOVGPSIDYzYzBQ5KRUKpRuv6r57N5FfqrfVS14dVf6+n3p29//9fx+D+NVBRNlTnKw66W6EeARExesijixcHh8fyb64gSQgm6LLM35u6ZBxIoia1EEUnpu//NUxPYcIi6OXkjS2MHAzg0SIiwIB9xFxgLlBpZSDaw4ODVEzGQiyoBIoAZu9Myhinp1rtY0OOKn1VXuQkwVGnFEoSTAi4xCRWTF1VM2N3bqYi0sn1bJI4HkGAyI/BjYMfzh2n4EBjjjYFDSXPJbUSWl9bYeDg+B//NExPAVysqSXGDFUAFgUH9e+/8paZ0f9af+XVE5VfvfRLVrSzF/onResGPVCUMcsf1IrjWG9gVxuElhvRKdncnIkCA87V0tXELsQoIljtNNJF0SmiKbEwfAIR8NNBiI//NUxOsXKOqCUmJGqBZyt8GFv3OxSpmQusfr+utF7vj//j+WmY00TFf/vJRf2Y5L6pL+P/z8aGboWwsQJDcUacTRVxYE5qeqj1k+PlZ4eHl0xcVwG7d4NLJIpCSEzzUEYTrma9Ugn8rDqTdO5kug4WMeg6g9JSAD//NExPkWix6KXmDE2CpEa8U8HWjA0Gbzt6/lNEffplsCrEHJczy7HcI5f2VNfz8sty0Bzlf6qLTKKj6KfuXIZjjqGv0dlSTaiBVPZBQA4EGxCgSMio2pSx4kYIshAif6//NUxPEYeNKGVnpGWVNjq84wpv7iUJK34tGeqlJtQZQpNC3ZipkfQXSdrIRDLkhmi0iiDHkX3VEkDBKXkQCTWMcetPqEilrFJ6hlZHpMCepAuP+aSSRyYZYlEScqPtkmwFk0S1rBgC1G8rHN7Fd+7FYrp44VWClI//NUxPocIxp+XGGG7c3l37Sye6iyjVnprlhBcOvazT4auXCpwJFeyFqdjfS5fyftzYvvM2eOUFEtOl2aJxjmUP0Xh/1Qfh6vLix+LgVBmS7ayR11gQohZKcQHUa2srAgbSiLwNQjkFyMy2m201TFIoqsqBKZBEQL//NUxPQYEbqJvEhFaLJqVySRIZW9kV52OZQ0bye0p/NVaUhyE8Py9RJf77p/ZXklY+GRlRgznmDWeMTOWeTwyXCC1Nqu2RyxptwVXk/AV+Eu1p6DWFV88zHqco3nzA5MKggwCTA7H0bNiyHhGZRTmxwz5EzDqznN//NExP4aAvqSXjJGPbFWdRKVNK83dFmpSLkRU17hy1KTRPVXRWadFTutXae1qNdXO613nV7rTVuEoV/9Cou7LeDNamgTDNKW1tovjBEISGJKJwwgmUQEiCJswjQa1V7a//NUxOkYYpKSXkjFNLuyHP9P1vSSLKldJ1yjw753bMZwcgrrCwMWEQELDmB0wiHThPkVP5kW6ZlCMwMEIeEDZHNUSuCLzRDM4Z9sMy/Tv/Erwrcv+vn8J78otESxEBjxidBDceGacEVIh2WXRxtN4cdk1ZEJTJab//NUxPIacwqFHnoE9UadeTmQ9LQ+mo+qH0uI2XS10Ynyuqz72HoenvJlrW4sFvYU28vIKdr18zfnSGiUQICegoFREoail4jWp21j0aIJEek40UatkTqNLCzzzarGvGZonG+P57rTTIGFJKIlAI0vUZRZpLgLnlIQ//NkxPMd6yKOfkvHBEKNZUOkL2uhnCcFdN3naxvGZRylwQFCPfApGhna6VomglIQ1HBs6V4lgiExE1I2Ug+6iGbCRpFltvxilguVdmVbs2r7bKIGh1f7lo0MKRHmAwhzO+05upf6BoXzpBRMHGaGcYGDBtAg5xIq8PlpiscHwdDDQi4U3SpZZQ1OZdbLYtDJ//NkxP4kwyaSXmGTPMIBGLoJvKChyBAGUw6LBcUZuDo9JLFkhLLWpy9Ez2PsQkh2U4IzRAgV36/kYQZwNiLnDfhm8Mj3pAJ/TjMpdhEb662f/5//SbXinS4fT4UIofDKybcD8xVhg06JGgERwzllcwOFnu0lbSNDgPgJFhDnE/5NMMadNObMaFAg0AkDRIA8//NUxO4YccqmfkmGkGI9GSHStDddBhRMKp40HIjMqZxVm70pSm4GaSx74zzfHoVp5HRB6nWzfOkG2OsvhODwbGBkZG9Vv9jIcYBAAMp4pvtdzqtc3OzGvsWxWJff+rP2IjPvK3q1HVv6lqj0fpdV/FI5kO/xKKDF//NUxPcaotqifElHJIl4ll+S43MwQiknU/IiPNiFfq4gYeBoU+I6MgP1k/yEijvQU2GjlD/KqqHv47bO43HrcqqSO1ZkbfurLtvah+sAq1p6Ex030cJ2V8llVlPQ4qVaPkRQCxmM362aZw1zaGXeJCyi/N9AAMBB//NkxPciex6e/tPE1EQwWu0DHcPjnkkT/1B0bChhZqzqG////UujotDOr+hWCDFm3bBimgYOQOJBLZxIxBO28EAds4XzCBNEVaM3A8nlUufqMyyrla3hTS40OUnRNVs+cNqCAwwlpYZEiXSsTczIJGEBBUkkALQykxxDmNDZAxRZ6rb1Oikmk7PWeoqQSvTq//N0xPAk8yKp3sjFjFUHSTu7L7LqZa2TQqZBNVfbRQevr9n1W6qi+cMC+a1G3pP6KMvEsbLNcxbNkTXDHKO4Y6opAMBKBJBHA3BcTCYSBkUAtsBAuSgsx0Hf8YDhgoFm7/Mbpv3+YDDgiAZmMcmDjd/gYCgVAJCLKBtEBfnCzoe0IxD4UxQIYuM/FeOiFRniHCyQwkbC5Qwl8VqOoskVI46RYhooY6QU//NkxPcj8yKAT1loAFe/GVIcXRco5Qxoyrk6M8kXR1L/kcYkBIEsgJNGpFS6OpIujqSMR1GX/IEakFIEXSdIsXSKkWRJ1EpJIlJJEpJLMkv/y8akypA1NjxdNjUuuaF02q1alValf//LROk8VCdJ4qE6VioTpWKhOlYqFUrFQqlYnGKsVYqxVUxBTUUzLjEw//OUxOo4W4qvH5yZQDBVVVVVVVVVVVVVVVVVVVVVVVVVVVVVVVVVVVVVVVVVVVVVVVVVVVVVVVVVVVVVVVVVVVVVVVVVVVVVVVVVVVVVVVVVVVVVVVVVVVVVVVVVVVVVVVVVVVVVVVVVVVVVVVVVVVVVVVVVVVVVVVVVVVVVVVVVVVVVVVVVVVVVVVVVVVVVVVVVVVVVVVVVVVVVVVVVVVVVVVVVVVVVVVVVVVVVVVVVVVVVVVVVVVVVVVVVVVVVVVVVVVVVVVVVVVVVVVVVVVVVVVVVVVVVVVVVVVVVVVVVVVVVVVVVVVVVVVVVVVVV//MUxOsAAANIAcAAAFVVVVVVVVVVVVVV\" type=\"audio/mpeg\" />\n",
       "                    Your browser does not support the audio element.\n",
       "                </audio>\n",
       "              "
      ],
      "text/plain": [
       "<IPython.lib.display.Audio object>"
      ]
     },
     "execution_count": 22,
     "metadata": {},
     "output_type": "execute_result"
    }
   ],
   "source": [
    "ipd.Audio(selected[2][1], rate = sr)"
   ]
  },
  {
   "cell_type": "code",
   "execution_count": null,
   "id": "0920988e",
   "metadata": {},
   "outputs": [],
   "source": []
  }
 ],
 "metadata": {
  "kernelspec": {
   "display_name": "Python 3 (ipykernel)",
   "language": "python",
   "name": "python3"
  },
  "language_info": {
   "codemirror_mode": {
    "name": "ipython",
    "version": 3
   },
   "file_extension": ".py",
   "mimetype": "text/x-python",
   "name": "python",
   "nbconvert_exporter": "python",
   "pygments_lexer": "ipython3",
   "version": "3.10.12"
  }
 },
 "nbformat": 4,
 "nbformat_minor": 5
}
