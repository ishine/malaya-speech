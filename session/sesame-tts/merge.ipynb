{
 "cells": [
  {
   "cell_type": "code",
   "execution_count": 2,
   "id": "11185444",
   "metadata": {},
   "outputs": [
    {
     "name": "stderr",
     "output_type": "stream",
     "text": [
      "/usr/lib/python3/dist-packages/scipy/__init__.py:146: UserWarning: A NumPy version >=1.17.3 and <1.25.0 is required for this version of SciPy (detected version 1.26.4\n",
      "  warnings.warn(f\"A NumPy version >={np_minversion} and <{np_maxversion}\"\n"
     ]
    },
    {
     "name": "stdout",
     "output_type": "stream",
     "text": [
      "[2025-05-11 13:18:48,021] [INFO] [real_accelerator.py:239:get_accelerator] Setting ds_accelerator to cuda (auto detect)\n"
     ]
    },
    {
     "name": "stderr",
     "output_type": "stream",
     "text": [
      "/usr/bin/ld: cannot find -laio: No such file or directory\n",
      "collect2: error: ld returned 1 exit status\n",
      "/usr/bin/ld: cannot find -laio: No such file or directory\n",
      "collect2: error: ld returned 1 exit status\n"
     ]
    }
   ],
   "source": [
    "from generator import load_llama3_tokenizer\n",
    "from datasets import load_dataset\n",
    "from train import *\n",
    "import json\n",
    "import os\n",
    "from tqdm import tqdm\n",
    "from multiprocess import Pool\n",
    "import itertools\n",
    "\n",
    "def chunks(l, n):\n",
    "    for i in range(0, len(l), n):\n",
    "        yield (l[i: i + n], i // n)\n",
    "\n",
    "def multiprocessing(strings, function, cores=6, returned=True):\n",
    "    df_split = chunks(strings, len(strings) // cores)\n",
    "    pool = Pool(cores)\n",
    "    pooled = pool.map(function, df_split)\n",
    "    pool.close()\n",
    "    pool.join()\n",
    "\n",
    "    if returned:\n",
    "        return list(itertools.chain(*pooled))"
   ]
  },
  {
   "cell_type": "code",
   "execution_count": 7,
   "id": "4f518c3d",
   "metadata": {
    "scrolled": false
   },
   "outputs": [
    {
     "data": {
      "application/vnd.jupyter.widget-view+json": {
       "model_id": "b401033451fd43df86b9355c60c9ba6d",
       "version_major": 2,
       "version_minor": 0
      },
      "text/plain": [
       "README.md:   0%|          | 0.00/420 [00:00<?, ?B/s]"
      ]
     },
     "metadata": {},
     "output_type": "display_data"
    },
    {
     "data": {
      "application/vnd.jupyter.widget-view+json": {
       "model_id": "a5c7e1bd4ad54d2fbd8ae95a6e22108a",
       "version_major": 2,
       "version_minor": 0
      },
      "text/plain": [
       "train-00000-of-00005.parquet:   0%|          | 0.00/73.8M [00:00<?, ?B/s]"
      ]
     },
     "metadata": {},
     "output_type": "display_data"
    },
    {
     "data": {
      "application/vnd.jupyter.widget-view+json": {
       "model_id": "c680dbf034bf4d20ac27e380b1e76712",
       "version_major": 2,
       "version_minor": 0
      },
      "text/plain": [
       "train-00001-of-00005.parquet:   0%|          | 0.00/78.1M [00:00<?, ?B/s]"
      ]
     },
     "metadata": {},
     "output_type": "display_data"
    },
    {
     "data": {
      "application/vnd.jupyter.widget-view+json": {
       "model_id": "79f28165739842568c2561a32145360b",
       "version_major": 2,
       "version_minor": 0
      },
      "text/plain": [
       "train-00002-of-00005.parquet:   0%|          | 0.00/82.6M [00:00<?, ?B/s]"
      ]
     },
     "metadata": {},
     "output_type": "display_data"
    },
    {
     "data": {
      "application/vnd.jupyter.widget-view+json": {
       "model_id": "b820f7586d08409fbc84f0c15f2396bf",
       "version_major": 2,
       "version_minor": 0
      },
      "text/plain": [
       "train-00003-of-00005.parquet:   0%|          | 0.00/84.2M [00:00<?, ?B/s]"
      ]
     },
     "metadata": {},
     "output_type": "display_data"
    },
    {
     "data": {
      "application/vnd.jupyter.widget-view+json": {
       "model_id": "08a6d6a049ac4b90815b2e38fbe26f72",
       "version_major": 2,
       "version_minor": 0
      },
      "text/plain": [
       "train-00004-of-00005.parquet:   0%|          | 0.00/84.4M [00:00<?, ?B/s]"
      ]
     },
     "metadata": {},
     "output_type": "display_data"
    },
    {
     "data": {
      "application/vnd.jupyter.widget-view+json": {
       "model_id": "25880e76e7e1417183bad612fbd0979e",
       "version_major": 2,
       "version_minor": 0
      },
      "text/plain": [
       "Generating train split:   0%|          | 0/4026870 [00:00<?, ? examples/s]"
      ]
     },
     "metadata": {},
     "output_type": "display_data"
    }
   ],
   "source": [
    "mimi = None\n",
    "device = 'cpu'\n",
    "text_tokenizer = load_llama3_tokenizer()\n",
    "\n",
    "dataset = load_dataset('mesolitica/Malaysian-Emilia-Sesame')['train']"
   ]
  },
  {
   "cell_type": "code",
   "execution_count": 8,
   "id": "4df6a365",
   "metadata": {},
   "outputs": [
    {
     "name": "stdout",
     "output_type": "stream",
     "text": [
      "CPU times: user 42.1 ms, sys: 19.6 ms, total: 61.7 ms\n",
      "Wall time: 16.6 ms\n"
     ]
    },
    {
     "data": {
      "text/plain": [
       "308"
      ]
     },
     "execution_count": 8,
     "metadata": {},
     "output_type": "execute_result"
    }
   ],
   "source": [
    "%%time\n",
    "\n",
    "data = dataset[-1]\n",
    "segment_tokens, segment_tokens_mask = get_input_ids(\n",
    "    data['reference_audio'], \n",
    "    data['reference_text'],\n",
    "    data['target_audio'], \n",
    "    data['target_text'],\n",
    "    mimi=mimi,\n",
    "    text_tokenizer=text_tokenizer,\n",
    "    device=device,\n",
    "    calculated_speech_tokens=True,\n",
    ")\n",
    "segment_tokens.shape[0]"
   ]
  },
  {
   "cell_type": "code",
   "execution_count": 15,
   "id": "54ac66e9",
   "metadata": {},
   "outputs": [],
   "source": [
    "def loop(indices):\n",
    "    indices, _ = indices\n",
    "    lengths = []\n",
    "    \n",
    "    dataset = load_dataset('mesolitica/Malaysian-Emilia-Sesame')['train']\n",
    "    text_tokenizer = load_llama3_tokenizer()\n",
    "    for i in tqdm(indices):\n",
    "        data = dataset[i]\n",
    "        segment_tokens, segment_tokens_mask = get_input_ids(\n",
    "            data['reference_audio'], \n",
    "            data['reference_text'],\n",
    "            data['target_audio'], \n",
    "            data['target_text'],\n",
    "            mimi=mimi,\n",
    "            text_tokenizer=text_tokenizer,\n",
    "            device=device,\n",
    "            calculated_speech_tokens=True,\n",
    "        )\n",
    "        lengths.append({\n",
    "            'i': i,\n",
    "            'length': segment_tokens.shape[0]\n",
    "        })\n",
    "    return lengths"
   ]
  },
  {
   "cell_type": "code",
   "execution_count": 16,
   "id": "99e4fbbd",
   "metadata": {},
   "outputs": [
    {
     "name": "stderr",
     "output_type": "stream",
     "text": [
      "100%|██████████████████████████████████████████████████████████████████████████████████████| 10/10 [00:00<00:00, 625.10it/s]\n"
     ]
    }
   ],
   "source": [
    "lengths = loop((range(10), 0))"
   ]
  },
  {
   "cell_type": "code",
   "execution_count": 17,
   "id": "dced3303",
   "metadata": {},
   "outputs": [
    {
     "name": "stderr",
     "output_type": "stream",
     "text": [
      "huggingface/tokenizers: The current process just got forked, after parallelism has already been used. Disabling parallelism to avoid deadlocks...\n",
      "To disable this warning, you can either:\n",
      "\t- Avoid using `tokenizers` before the fork if possible\n",
      "\t- Explicitly set the environment variable TOKENIZERS_PARALLELISM=(true | false)\n",
      "huggingface/tokenizers: The current process just got forked, after parallelism has already been used. Disabling parallelism to avoid deadlocks...\n",
      "To disable this warning, you can either:\n",
      "\t- Avoid using `tokenizers` before the fork if possible\n",
      "\t- Explicitly set the environment variable TOKENIZERS_PARALLELISM=(true | false)\n",
      "huggingface/tokenizers: The current process just got forked, after parallelism has already been used. Disabling parallelism to avoid deadlocks...\n",
      "To disable this warning, you can either:\n",
      "\t- Avoid using `tokenizers` before the fork if possible\n",
      "\t- Explicitly set the environment variable TOKENIZERS_PARALLELISM=(true | false)\n",
      "huggingface/tokenizers: The current process just got forked, after parallelism has already been used. Disabling parallelism to avoid deadlocks...\n",
      "To disable this warning, you can either:\n",
      "\t- Avoid using `tokenizers` before the fork if possible\n",
      "\t- Explicitly set the environment variable TOKENIZERS_PARALLELISM=(true | false)\n",
      "huggingface/tokenizers: The current process just got forked, after parallelism has already been used. Disabling parallelism to avoid deadlocks...\n",
      "To disable this warning, you can either:\n",
      "\t- Avoid using `tokenizers` before the fork if possible\n",
      "\t- Explicitly set the environment variable TOKENIZERS_PARALLELISM=(true | false)\n",
      "huggingface/tokenizers: The current process just got forked, after parallelism has already been used. Disabling parallelism to avoid deadlocks...\n",
      "To disable this warning, you can either:\n",
      "\t- Avoid using `tokenizers` before the fork if possible\n",
      "\t- Explicitly set the environment variable TOKENIZERS_PARALLELISM=(true | false)\n",
      "huggingface/tokenizers: The current process just got forked, after parallelism has already been used. Disabling parallelism to avoid deadlocks...\n",
      "To disable this warning, you can either:\n",
      "\t- Avoid using `tokenizers` before the fork if possible\n",
      "\t- Explicitly set the environment variable TOKENIZERS_PARALLELISM=(true | false)\n",
      "huggingface/tokenizers: The current process just got forked, after parallelism has already been used. Disabling parallelism to avoid deadlocks...\n",
      "To disable this warning, you can either:\n",
      "\t- Avoid using `tokenizers` before the fork if possible\n",
      "\t- Explicitly set the environment variable TOKENIZERS_PARALLELISM=(true | false)\n",
      "huggingface/tokenizers: The current process just got forked, after parallelism has already been used. Disabling parallelism to avoid deadlocks...\n",
      "To disable this warning, you can either:\n",
      "\t- Avoid using `tokenizers` before the fork if possible\n",
      "\t- Explicitly set the environment variable TOKENIZERS_PARALLELISM=(true | false)\n",
      "huggingface/tokenizers: The current process just got forked, after parallelism has already been used. Disabling parallelism to avoid deadlocks...\n",
      "To disable this warning, you can either:\n",
      "\t- Avoid using `tokenizers` before the fork if possible\n",
      "\t- Explicitly set the environment variable TOKENIZERS_PARALLELISM=(true | false)\n",
      "huggingface/tokenizers: The current process just got forked, after parallelism has already been used. Disabling parallelism to avoid deadlocks...\n",
      "To disable this warning, you can either:\n",
      "\t- Avoid using `tokenizers` before the fork if possible\n",
      "\t- Explicitly set the environment variable TOKENIZERS_PARALLELISM=(true | false)\n",
      "huggingface/tokenizers: The current process just got forked, after parallelism has already been used. Disabling parallelism to avoid deadlocks...\n",
      "To disable this warning, you can either:\n",
      "\t- Avoid using `tokenizers` before the fork if possible\n",
      "\t- Explicitly set the environment variable TOKENIZERS_PARALLELISM=(true | false)\n",
      "huggingface/tokenizers: The current process just got forked, after parallelism has already been used. Disabling parallelism to avoid deadlocks...\n",
      "To disable this warning, you can either:\n",
      "\t- Avoid using `tokenizers` before the fork if possible\n",
      "\t- Explicitly set the environment variable TOKENIZERS_PARALLELISM=(true | false)\n",
      "huggingface/tokenizers: The current process just got forked, after parallelism has already been used. Disabling parallelism to avoid deadlocks...\n",
      "To disable this warning, you can either:\n",
      "\t- Avoid using `tokenizers` before the fork if possible\n",
      "\t- Explicitly set the environment variable TOKENIZERS_PARALLELISM=(true | false)\n",
      "huggingface/tokenizers: The current process just got forked, after parallelism has already been used. Disabling parallelism to avoid deadlocks...\n",
      "To disable this warning, you can either:\n",
      "\t- Avoid using `tokenizers` before the fork if possible\n",
      "\t- Explicitly set the environment variable TOKENIZERS_PARALLELISM=(true | false)\n",
      "huggingface/tokenizers: The current process just got forked, after parallelism has already been used. Disabling parallelism to avoid deadlocks...\n",
      "To disable this warning, you can either:\n",
      "\t- Avoid using `tokenizers` before the fork if possible\n",
      "\t- Explicitly set the environment variable TOKENIZERS_PARALLELISM=(true | false)\n",
      "huggingface/tokenizers: The current process just got forked, after parallelism has already been used. Disabling parallelism to avoid deadlocks...\n",
      "To disable this warning, you can either:\n",
      "\t- Avoid using `tokenizers` before the fork if possible\n",
      "\t- Explicitly set the environment variable TOKENIZERS_PARALLELISM=(true | false)\n",
      "huggingface/tokenizers: The current process just got forked, after parallelism has already been used. Disabling parallelism to avoid deadlocks...\n",
      "To disable this warning, you can either:\n",
      "\t- Avoid using `tokenizers` before the fork if possible\n",
      "\t- Explicitly set the environment variable TOKENIZERS_PARALLELISM=(true | false)\n",
      "huggingface/tokenizers: The current process just got forked, after parallelism has already been used. Disabling parallelism to avoid deadlocks...\n",
      "To disable this warning, you can either:\n",
      "\t- Avoid using `tokenizers` before the fork if possible\n",
      "\t- Explicitly set the environment variable TOKENIZERS_PARALLELISM=(true | false)\n",
      "huggingface/tokenizers: The current process just got forked, after parallelism has already been used. Disabling parallelism to avoid deadlocks...\n",
      "To disable this warning, you can either:\n",
      "\t- Avoid using `tokenizers` before the fork if possible\n",
      "\t- Explicitly set the environment variable TOKENIZERS_PARALLELISM=(true | false)\n",
      "  0%|▎                                                                                | 685/201343 [00:00<04:00, 834.10it/s]=(true | false)\n",
      "100%|██████████████████████████████████████████████████████████████████████████████| 201343/201343 [03:51<00:00, 868.43it/s]\n",
      "100%|██████████████████████████████████████████████████████████████████████████████████████| 10/10 [00:00<00:00, 621.35it/s]\n",
      "100%|██████████████████████████████████████████████████████████████████████████████| 201343/201343 [04:00<00:00, 837.85it/s]\n",
      "100%|██████████████████████████████████████████████████████████████████████████████| 201343/201343 [04:02<00:00, 830.51it/s]\n",
      "100%|██████████████████████████████████████████████████████████████████████████████| 201343/201343 [04:00<00:00, 835.82it/s]\n",
      "100%|██████████████████████████████████████████████████████████████████████████████| 201343/201343 [04:03<00:00, 827.54it/s]\n",
      "100%|██████████████████████████████████████████████████████████████████████████████| 201343/201343 [04:04<00:00, 823.37it/s]\n",
      "100%|██████████████████████████████████████████████████████████████████████████████| 201343/201343 [04:06<00:00, 817.08it/s]\n",
      "100%|██████████████████████████████████████████████████████████████████████████████| 201343/201343 [04:07<00:00, 813.24it/s]\n",
      "100%|██████████████████████████████████████████████████████████████████████████████| 201343/201343 [04:09<00:00, 807.42it/s]\n",
      "100%|██████████████████████████████████████████████████████████████████████████████| 201343/201343 [04:13<00:00, 794.62it/s]\n",
      "100%|██████████████████████████████████████████████████████████████████████████████| 201343/201343 [04:13<00:00, 793.40it/s]\n"
     ]
    },
    {
     "name": "stderr",
     "output_type": "stream",
     "text": [
      "100%|██████████████████████████████████████████████████████████████████████████████| 201343/201343 [04:15<00:00, 788.23it/s]\n",
      "100%|██████████████████████████████████████████████████████████████████████████████| 201343/201343 [04:15<00:00, 789.27it/s]\n",
      "100%|██████████████████████████████████████████████████████████████████████████████| 201343/201343 [04:17<00:00, 781.80it/s]\n",
      "100%|██████████████████████████████████████████████████████████████████████████████| 201343/201343 [04:17<00:00, 782.75it/s]\n",
      "100%|██████████████████████████████████████████████████████████████████████████████| 201343/201343 [04:20<00:00, 771.76it/s]\n",
      "100%|██████████████████████████████████████████████████████████████████████████████| 201343/201343 [04:22<00:00, 767.14it/s]\n",
      "100%|██████████████████████████████████████████████████████████████████████████████| 201343/201343 [04:22<00:00, 765.85it/s]\n",
      "100%|██████████████████████████████████████████████████████████████████████████████| 201343/201343 [04:24<00:00, 762.53it/s]\n",
      "100%|██████████████████████████████████████████████████████████████████████████████| 201343/201343 [04:25<00:00, 757.29it/s]\n"
     ]
    }
   ],
   "source": [
    "lengths = multiprocessing(range(len(dataset)), loop, cores = 20)"
   ]
  },
  {
   "cell_type": "code",
   "execution_count": 18,
   "id": "05b3076a",
   "metadata": {},
   "outputs": [],
   "source": [
    "rows = sorted(lengths, key = lambda x: x['length'])"
   ]
  },
  {
   "cell_type": "code",
   "execution_count": 19,
   "id": "f2061df1",
   "metadata": {},
   "outputs": [
    {
     "name": "stderr",
     "output_type": "stream",
     "text": [
      "100%|█████████████████████████████████████████████████████████████████████████| 4026870/4026870 [00:05<00:00, 759054.10it/s]\n"
     ]
    }
   ],
   "source": [
    "maxlen = 1536\n",
    "data, temp, l = [], [], 0\n",
    "for r in tqdm(rows):\n",
    "    l += r['length']\n",
    "    temp.append(r['i'])\n",
    "    if l >= maxlen:\n",
    "        data.append(temp)\n",
    "        temp = []\n",
    "        l = 0"
   ]
  },
  {
   "cell_type": "code",
   "execution_count": 21,
   "id": "d1e0b21a",
   "metadata": {},
   "outputs": [
    {
     "data": {
      "text/plain": [
       "535207"
      ]
     },
     "execution_count": 21,
     "metadata": {},
     "output_type": "execute_result"
    }
   ],
   "source": [
    "len(data)"
   ]
  },
  {
   "cell_type": "code",
   "execution_count": 22,
   "id": "abfbcd01",
   "metadata": {},
   "outputs": [],
   "source": [
    "import json\n",
    "\n",
    "with open('merged.json', 'w') as fopen:\n",
    "    json.dump(data, fopen)"
   ]
  },
  {
   "cell_type": "code",
   "execution_count": 25,
   "id": "41ccfa54",
   "metadata": {},
   "outputs": [
    {
     "data": {
      "application/vnd.jupyter.widget-view+json": {
       "model_id": "a8d61c151d6d46e7b5b7d078f522a49b",
       "version_major": 2,
       "version_minor": 0
      },
      "text/plain": [
       "merged.json:   0%|          | 0.00/36.2M [00:00<?, ?B/s]"
      ]
     },
     "metadata": {},
     "output_type": "display_data"
    },
    {
     "data": {
      "text/plain": [
       "CommitInfo(commit_url='https://huggingface.co/datasets/mesolitica/Malaysian-Emilia-Sesame/commit/d8fdc5e773b089e0af780d1a367708a4199d5249', commit_message='Upload merged.json with huggingface_hub', commit_description='', oid='d8fdc5e773b089e0af780d1a367708a4199d5249', pr_url=None, repo_url=RepoUrl('https://huggingface.co/datasets/mesolitica/Malaysian-Emilia-Sesame', endpoint='https://huggingface.co', repo_type='dataset', repo_id='mesolitica/Malaysian-Emilia-Sesame'), pr_revision=None, pr_num=None)"
      ]
     },
     "execution_count": 25,
     "metadata": {},
     "output_type": "execute_result"
    }
   ],
   "source": [
    "from huggingface_hub import HfApi\n",
    "api = HfApi()\n",
    "api.upload_file(\n",
    "    path_or_fileobj=\"merged.json\",\n",
    "    path_in_repo=\"merged.json\",\n",
    "    repo_id=\"mesolitica/Malaysian-Emilia-Sesame\",\n",
    "    repo_type=\"dataset\",\n",
    ")"
   ]
  }
 ],
 "metadata": {
  "kernelspec": {
   "display_name": "Python 3 (ipykernel)",
   "language": "python",
   "name": "python3"
  },
  "language_info": {
   "codemirror_mode": {
    "name": "ipython",
    "version": 3
   },
   "file_extension": ".py",
   "mimetype": "text/x-python",
   "name": "python",
   "nbconvert_exporter": "python",
   "pygments_lexer": "ipython3",
   "version": "3.10.12"
  }
 },
 "nbformat": 4,
 "nbformat_minor": 5
}
