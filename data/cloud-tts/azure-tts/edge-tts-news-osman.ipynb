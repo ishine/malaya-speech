{
 "cells": [
  {
   "cell_type": "code",
   "execution_count": 1,
   "id": "20f0a794",
   "metadata": {},
   "outputs": [],
   "source": [
    "# !~/.local/bin/edge-tts --list-voices\n",
    "# ms-MY-OsmanNeural, ms-MY-YasminNeural\n",
    "# !~/.local/bin/edge-tts --voice ms-MY-OsmanNeural --text \"saya suka makan ayam.\" --write-media test.wav"
   ]
  },
  {
   "cell_type": "code",
   "execution_count": 2,
   "id": "cb9c73d1",
   "metadata": {},
   "outputs": [],
   "source": [
    "# !wget https://huggingface.co/datasets/huseinzol05/Malay-TTS-Yasmin/resolve/main/populated-text.json"
   ]
  },
  {
   "cell_type": "code",
   "execution_count": 3,
   "id": "658b2e32",
   "metadata": {},
   "outputs": [],
   "source": [
    "import os\n",
    "\n",
    "os.environ['CUDA_VISIBLE_DEVICES'] = ''\n",
    "os.environ['TF_FORCE_GPU_ALLOW_GROWTH'] = 'true'"
   ]
  },
  {
   "cell_type": "code",
   "execution_count": 4,
   "id": "a949cade",
   "metadata": {},
   "outputs": [],
   "source": [
    "import json\n",
    "\n",
    "with open('populated-text.json') as fopen:\n",
    "    data = json.load(fopen)"
   ]
  },
  {
   "cell_type": "code",
   "execution_count": 6,
   "id": "0cb90f59",
   "metadata": {},
   "outputs": [
    {
     "data": {
      "text/plain": [
       "'===Sejarah awal=== Joseph Whitaker menjadi presiden kehormat Palermo pada awal 1900an.'"
      ]
     },
     "execution_count": 6,
     "metadata": {},
     "output_type": "execute_result"
    }
   ],
   "source": [
    "data[687]['text']"
   ]
  },
  {
   "cell_type": "code",
   "execution_count": 7,
   "id": "e2f75f15",
   "metadata": {
    "scrolled": true
   },
   "outputs": [
    {
     "name": "stderr",
     "output_type": "stream",
     "text": [
      "/home/ubuntu/.local/lib/python3.8/site-packages/tensorflow_addons/utils/ensure_tf_install.py:53: UserWarning: Tensorflow Addons supports using Python ops for all Tensorflow versions above or equal to 2.3.0 and strictly below 2.5.0 (nightly versions are not supported). \n",
      " The versions of TensorFlow you are currently using is 2.6.0 and is not supported. \n",
      "Some things might work, some things might not.\n",
      "If you were to encounter a bug, do not file an issue.\n",
      "If you want to make sure you're using a tested and supported configuration, either change the TensorFlow version or the TensorFlow Addons's version. \n",
      "You can find the compatibility matrix in TensorFlow Addon's readme:\n",
      "https://github.com/tensorflow/addons\n",
      "  warnings.warn(\n",
      "/home/ubuntu/.local/lib/python3.8/site-packages/tensorflow_addons/utils/resource_loader.py:72: UserWarning: You are currently using TensorFlow 2.6.0 and trying to load a custom op (custom_ops/seq2seq/_beam_search_ops.so).\n",
      "TensorFlow Addons has compiled its custom ops against TensorFlow 2.4.0, and there are no compatibility guarantees between the two versions. \n",
      "This means that you might get segfaults when loading the custom op, or other kind of low-level errors.\n",
      " If you do, do not file an issue on Github. This is a known limitation.\n",
      "\n",
      "It might help you to fallback to pure Python ops with TF_ADDONS_PY_OPS . To do that, see https://github.com/tensorflow/addons#gpucpu-custom-ops \n",
      "\n",
      "You can also change the TensorFlow version installed on your system. You would need a TensorFlow version equal to or above 2.4.0 and strictly below 2.5.0.\n",
      " Note that nightly versions of TensorFlow, as well as non-pip TensorFlow like `conda install tensorflow` or compiled from source are not supported.\n",
      "\n",
      "The last solution is to find the TensorFlow Addons version that has custom ops compatible with the TensorFlow installed on your system. To do that, refer to the readme: https://github.com/tensorflow/addons\n",
      "  warnings.warn(\n",
      "/home/ubuntu/.local/lib/python3.8/site-packages/malaya_boilerplate/frozen_graph.py:35: UserWarning: Cannot import beam_search_ops from Tensorflow Addons, ['malaya.jawi_rumi.deep_model', 'malaya.phoneme.deep_model', 'malaya.rumi_jawi.deep_model', 'malaya.stem.deep_model'] will not available to use, make sure Tensorflow Addons version >= 0.12.0\n",
      "  warnings.warn(\n"
     ]
    }
   ],
   "source": [
    "import malaya\n",
    "\n",
    "normalizer = malaya.normalize.normalizer()"
   ]
  },
  {
   "cell_type": "code",
   "execution_count": 8,
   "id": "1b2951bc",
   "metadata": {},
   "outputs": [
    {
     "data": {
      "text/plain": [
       "{'normalize': 'Pementasan Laskar Bayaran pada Jumat-Sabtu ( dua puluh lima - dua puluh enam Ogos dua ribu tujuh belas ) mengisahkan sebuah koloni yang dikuasai korporasi global bernama Paradize Capitol Corporation .',\n",
       " 'date': {},\n",
       " 'money': {}}"
      ]
     },
     "execution_count": 8,
     "metadata": {},
     "output_type": "execute_result"
    }
   ],
   "source": [
    "normalizer.normalize(data[22053]['text'], normalize_entity = False)"
   ]
  },
  {
   "cell_type": "code",
   "execution_count": 9,
   "id": "6864f30b",
   "metadata": {},
   "outputs": [],
   "source": [
    "directory = 'osman-news-edge-tts'\n",
    "directory_text = 'osman-news-edge-tts-text'"
   ]
  },
  {
   "cell_type": "code",
   "execution_count": 16,
   "id": "9e501356",
   "metadata": {},
   "outputs": [
    {
     "data": {
      "text/plain": [
       "0"
      ]
     },
     "execution_count": 16,
     "metadata": {},
     "output_type": "execute_result"
    }
   ],
   "source": [
    "os.system(f'rm -rf {directory}')\n",
    "os.system(f'rm -rf {directory_text}')"
   ]
  },
  {
   "cell_type": "code",
   "execution_count": 18,
   "id": "513c93ea",
   "metadata": {},
   "outputs": [],
   "source": [
    "os.makedirs(directory, exist_ok = True)\n",
    "os.makedirs(directory_text, exist_ok = True)"
   ]
  },
  {
   "cell_type": "code",
   "execution_count": 12,
   "id": "8bbf832e",
   "metadata": {},
   "outputs": [],
   "source": [
    "def generate_tts(text, filename):\n",
    "    text = text.replace('\"', r'\\\"').replace(\"'\", r'\\'')\n",
    "    command = f'~/.local/bin/edge-tts --voice ms-MY-OsmanNeural --text \"{text}\" --write-media {filename}'\n",
    "    # print(command)\n",
    "    os.system(command)"
   ]
  },
  {
   "cell_type": "code",
   "execution_count": 13,
   "id": "945d93b2",
   "metadata": {},
   "outputs": [
    {
     "data": {
      "text/plain": [
       "{'text': '=== Ermita === Ermita merupakan salah satu ahli organisasi ini, ditugaskan menjaga Galatea dan Miria.',\n",
       " 'cleaned': '=== Ermita === Ermita merupakan salah satu ahli organisasi ini , ditugaskan menjaga Galatea dan Miria .'}"
      ]
     },
     "execution_count": 13,
     "metadata": {},
     "output_type": "execute_result"
    }
   ],
   "source": [
    "data[7]"
   ]
  },
  {
   "cell_type": "code",
   "execution_count": 14,
   "id": "96f4d8d3",
   "metadata": {},
   "outputs": [],
   "source": [
    "n = normalizer.normalize(data[7]['text'], normalize_entity = False)['normalize']"
   ]
  },
  {
   "cell_type": "code",
   "execution_count": 15,
   "id": "ce59d1e7",
   "metadata": {},
   "outputs": [
    {
     "data": {
      "text/plain": [
       "'Ermita Ermita merupakan salah satu ahli organisasi ini , ditugaskan menjaga Galatea dan Miria .'"
      ]
     },
     "execution_count": 15,
     "metadata": {},
     "output_type": "execute_result"
    }
   ],
   "source": [
    "import re\n",
    "\n",
    "def postprocessing(string):\n",
    "    string = string.replace('/', ' ').replace('*', ' ').replace('=', ' ')\n",
    "    return re.sub(r'[ ]+', ' ', string).strip()\n",
    "\n",
    "postprocessing(n)"
   ]
  },
  {
   "cell_type": "code",
   "execution_count": 24,
   "id": "78830485",
   "metadata": {},
   "outputs": [
    {
     "name": "stderr",
     "output_type": "stream",
     "text": [
      "  2%|█▊                                                                                      | 1057/50000 [12:45<15:57:15,  1.17s/it]sh: 1: Syntax error: EOF in backquote substitution\n"
     ]
    },
    {
     "name": "stdout",
     "output_type": "stream",
     "text": [
      "string index out of range\n"
     ]
    },
    {
     "name": "stderr",
     "output_type": "stream",
     "text": [
      "  3%|██▊                                                                                     | 1598/50000 [23:36<17:31:04,  1.30s/it]sh: 1: Syntax error: EOF in backquote substitution\n",
      "  5%|████▍                                                                                   | 2547/50000 [42:44<15:21:42,  1.17s/it]"
     ]
    },
    {
     "name": "stdout",
     "output_type": "stream",
     "text": [
      "string index out of range\n"
     ]
    },
    {
     "name": "stderr",
     "output_type": "stream",
     "text": [
      "  9%|███████▍                                                                              | 4299/50000 [1:18:03<32:08:11,  2.53s/it]"
     ]
    },
    {
     "name": "stdout",
     "output_type": "stream",
     "text": [
      "string index out of range\n"
     ]
    },
    {
     "name": "stderr",
     "output_type": "stream",
     "text": [
      " 12%|█████████▉                                                                            | 5760/50000 [1:47:45<11:57:20,  1.03it/s]sh: 1: Syntax error: EOF in backquote substitution\n",
      " 12%|██████████▎                                                                           | 5960/50000 [1:51:52<12:20:58,  1.01s/it]sh: 1: Syntax error: EOF in backquote substitution\n",
      " 13%|███████████▍                                                                          | 6634/50000 [2:06:08<11:11:13,  1.08it/s]sh: 1: Syntax error: EOF in backquote substitution\n",
      " 15%|████████████▌                                                                         | 7336/50000 [2:20:10<13:14:10,  1.12s/it]"
     ]
    },
    {
     "name": "stdout",
     "output_type": "stream",
     "text": [
      "string index out of range\n"
     ]
    },
    {
     "name": "stderr",
     "output_type": "stream",
     "text": [
      " 17%|██████████████▌                                                                       | 8453/50000 [2:43:22<13:36:56,  1.18s/it]"
     ]
    },
    {
     "name": "stdout",
     "output_type": "stream",
     "text": [
      "string index out of range\n"
     ]
    },
    {
     "name": "stderr",
     "output_type": "stream",
     "text": [
      " 18%|███████████████▌                                                                      | 9052/50000 [2:55:48<12:52:05,  1.13s/it]"
     ]
    },
    {
     "name": "stdout",
     "output_type": "stream",
     "text": [
      "string index out of range\n"
     ]
    },
    {
     "name": "stderr",
     "output_type": "stream",
     "text": [
      " 18%|███████████████▊                                                                      | 9219/50000 [2:59:23<14:18:50,  1.26s/it]sh: 1: Utara: not found\n",
      " 19%|████████████████▏                                                                     | 9429/50000 [3:03:51<13:48:12,  1.22s/it]sh: 1: Syntax error: EOF in backquote substitution\n",
      " 20%|████████████████▉                                                                     | 9823/50000 [3:12:10<15:01:09,  1.35s/it]sh: 1: Syntax error: EOF in backquote substitution\n",
      " 23%|███████████████████▉                                                                 | 11698/50000 [3:51:37<12:55:03,  1.21s/it]"
     ]
    },
    {
     "name": "stdout",
     "output_type": "stream",
     "text": [
      "string index out of range\n"
     ]
    },
    {
     "name": "stderr",
     "output_type": "stream",
     "text": [
      " 24%|████████████████████▋                                                                | 12196/50000 [4:01:27<12:38:27,  1.20s/it]"
     ]
    },
    {
     "name": "stdout",
     "output_type": "stream",
     "text": [
      "string index out of range\n"
     ]
    },
    {
     "name": "stderr",
     "output_type": "stream",
     "text": [
      " 27%|██████████████████████▋                                                              | 13326/50000 [4:24:28<12:47:32,  1.26s/it]sh: 1: Syntax error: EOF in backquote substitution\n",
      " 28%|████████████████████████                                                             | 14158/50000 [4:41:27<19:49:51,  1.99s/it]sh: 1: Syntax error: EOF in backquote substitution\n",
      " 31%|██████████████████████████▊                                                           | 15585/50000 [5:09:18<9:29:04,  1.01it/s]sh: 1: Syntax error: EOF in backquote substitution\n",
      " 31%|██████████████████████████▌                                                          | 15598/50000 [5:09:32<12:07:30,  1.27s/it]"
     ]
    },
    {
     "name": "stdout",
     "output_type": "stream",
     "text": [
      "string index out of range\n"
     ]
    },
    {
     "name": "stderr",
     "output_type": "stream",
     "text": [
      " 32%|███████████████████████████▏                                                         | 15995/50000 [5:17:30<12:16:07,  1.30s/it]"
     ]
    },
    {
     "name": "stdout",
     "output_type": "stream",
     "text": [
      "string index out of range\n"
     ]
    },
    {
     "name": "stderr",
     "output_type": "stream",
     "text": [
      " 33%|███████████████████████████▋                                                         | 16318/50000 [5:23:41<12:38:29,  1.35s/it]"
     ]
    },
    {
     "name": "stdout",
     "output_type": "stream",
     "text": [
      "string index out of range\n"
     ]
    },
    {
     "name": "stderr",
     "output_type": "stream",
     "text": [
      " 33%|████████████████████████████▎                                                        | 16662/50000 [5:30:03<11:11:15,  1.21s/it]sh: 1: Syntax error: EOF in backquote substitution\n",
      " 36%|███████████████████████████████▏                                                      | 18147/50000 [5:59:05<8:23:53,  1.05it/s]sh: 1: Syntax error: EOF in backquote substitution\n",
      " 41%|███████████████████████████████████▍                                                  | 20583/50000 [6:46:02<8:15:58,  1.01s/it]sh: 1: Syntax error: EOF in backquote substitution\n",
      " 44%|██████████████████████████████████████                                                | 22118/50000 [7:14:47<9:35:13,  1.24s/it]sh: 1: Syntax error: EOF in backquote substitution\n",
      " 46%|███████████████████████████████████████▊                                              | 23161/50000 [7:33:11<7:20:35,  1.02it/s]sh: 1: Syntax error: EOF in backquote substitution\n",
      " 47%|████████████████████████████████████████                                              | 23281/50000 [7:35:18<7:38:43,  1.03s/it]sh: 1: luar: not found\n",
      " 47%|████████████████████████████████████████▎                                             | 23424/50000 [7:37:47<7:14:50,  1.02it/s]sh: 1: Syntax error: EOF in backquote substitution\n",
      " 48%|█████████████████████████████████████████▌                                            | 24184/50000 [7:50:46<8:45:13,  1.22s/it]"
     ]
    },
    {
     "name": "stdout",
     "output_type": "stream",
     "text": [
      "string index out of range\n"
     ]
    },
    {
     "name": "stderr",
     "output_type": "stream",
     "text": [
      " 49%|█████████████████████████████████████████▉                                            | 24363/50000 [7:53:50<7:46:52,  1.09s/it]IOPub message rate exceeded.\n",
      "The notebook server will temporarily stop sending output\n",
      "to the client in order to avoid crashing it.\n",
      "To change this limit, set the config variable\n",
      "`--NotebookApp.iopub_msg_rate_limit`.\n",
      "\n",
      "Current values:\n",
      "NotebookApp.iopub_msg_rate_limit=1000.0 (msgs/sec)\n",
      "NotebookApp.rate_limit_window=3.0 (secs)\n",
      "\n",
      " 57%|█████████████████████████████████████████████████                                     | 28534/50000 [9:04:56<6:03:10,  1.02s/it]sh: 1: Syntax error: EOF in backquote substitution\n",
      " 62%|█████████████████████████████████████████████████████                                 | 30818/50000 [9:42:55<5:10:55,  1.03it/s]sh: 1: Syntax error: EOF in backquote substitution\n",
      " 63%|█████████████████████████████████████████████████████▉                                | 31371/50000 [9:52:07<5:05:31,  1.02it/s]IOPub message rate exceeded.\n",
      "The notebook server will temporarily stop sending output\n",
      "to the client in order to avoid crashing it.\n",
      "To change this limit, set the config variable\n",
      "`--NotebookApp.iopub_msg_rate_limit`.\n",
      "\n",
      "Current values:\n",
      "NotebookApp.iopub_msg_rate_limit=1000.0 (msgs/sec)\n",
      "NotebookApp.rate_limit_window=3.0 (secs)\n",
      "\n",
      " 75%|████████████████████████████████████████████████████████████████                     | 37658/50000 [11:36:56<3:29:32,  1.02s/it]"
     ]
    },
    {
     "name": "stdout",
     "output_type": "stream",
     "text": [
      "string index out of range\n"
     ]
    },
    {
     "name": "stderr",
     "output_type": "stream",
     "text": [
      " 79%|███████████████████████████████████████████████████████████████████▌                 | 39724/50000 [12:12:06<3:07:13,  1.09s/it]IOPub message rate exceeded.\n",
      "The notebook server will temporarily stop sending output\n",
      "to the client in order to avoid crashing it.\n",
      "To change this limit, set the config variable\n",
      "`--NotebookApp.iopub_msg_rate_limit`.\n",
      "\n",
      "Current values:\n",
      "NotebookApp.iopub_msg_rate_limit=1000.0 (msgs/sec)\n",
      "NotebookApp.rate_limit_window=3.0 (secs)\n",
      "\n",
      " 94%|█████████████████████████████████████████████████████████████████████████████████▌     | 46843/50000 [14:21:56<49:09,  1.07it/s]sh: 1: Syntax error: EOF in backquote substitution\n",
      " 97%|████████████████████████████████████████████████████████████████████████████████████▏  | 48353/50000 [14:51:51<26:10,  1.05it/s]sh: 1: Syntax error: EOF in backquote substitution\n",
      " 99%|█████████████████████████████████████████████████████████████████████████████████████▊ | 49295/50000 [15:10:38<10:34,  1.11it/s]"
     ]
    },
    {
     "name": "stdout",
     "output_type": "stream",
     "text": [
      "string index out of range\n"
     ]
    },
    {
     "name": "stderr",
     "output_type": "stream",
     "text": [
      "100%|██████████████████████████████████████████████████████████████████████████████████████▉| 49950/50000 [15:24:01<00:52,  1.05s/it]"
     ]
    },
    {
     "name": "stdout",
     "output_type": "stream",
     "text": [
      "string index out of range\n"
     ]
    },
    {
     "name": "stderr",
     "output_type": "stream",
     "text": [
      "100%|███████████████████████████████████████████████████████████████████████████████████████| 50000/50000 [15:25:12<00:00,  1.11s/it]\n"
     ]
    }
   ],
   "source": [
    "from tqdm import tqdm\n",
    "\n",
    "for i in tqdm(range(len(data))):\n",
    "    try:\n",
    "        \n",
    "        filename = os.path.join(directory, f'{i}.mp3')\n",
    "        filename_text = os.path.join(directory_text, f'{i}.json')\n",
    "        \n",
    "        if os.path.exists(filename_text):\n",
    "            continue\n",
    "            \n",
    "        n = normalizer.normalize(data[i]['text'], normalize_entity = False)['normalize']\n",
    "        n = postprocessing(n)\n",
    "        if len(n):\n",
    "            generate_tts(n, filename)\n",
    "            with open(filename_text, 'w') as fopen:\n",
    "                json.dump({'original': data[i]['text'], 'normalized': n}, fopen)\n",
    "    except Exception as e:\n",
    "        print(e)"
   ]
  },
  {
   "cell_type": "code",
   "execution_count": 25,
   "id": "b60c6545",
   "metadata": {},
   "outputs": [],
   "source": [
    "# from pydub import AudioSegment\n",
    "# sound = AudioSegment.from_mp3(\"test.mp3\")\n",
    "# sound.export(\"test.wav\", format=\"wav\")"
   ]
  },
  {
   "cell_type": "code",
   "execution_count": 26,
   "id": "10a3e5fc",
   "metadata": {},
   "outputs": [
    {
     "data": {
      "text/plain": [
       "49960"
      ]
     },
     "execution_count": 26,
     "metadata": {},
     "output_type": "execute_result"
    }
   ],
   "source": [
    "from glob import glob\n",
    "mp3s = glob(os.path.join(directory, '*.mp3'))\n",
    "jsons = glob(os.path.join(directory_text, '*.json'))\n",
    "len(mp3s)"
   ]
  },
  {
   "cell_type": "code",
   "execution_count": 27,
   "id": "4a8507ca",
   "metadata": {},
   "outputs": [
    {
     "data": {
      "text/html": [
       "\n",
       "                <audio  controls=\"controls\" >\n",
       "                    <source src=\"data:audio/mpeg;base64,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\" type=\"audio/mpeg\" />\n",
       "                    Your browser does not support the audio element.\n",
       "                </audio>\n",
       "              "
      ],
      "text/plain": [
       "<IPython.lib.display.Audio object>"
      ]
     },
     "execution_count": 27,
     "metadata": {},
     "output_type": "execute_result"
    }
   ],
   "source": [
    "import IPython.display as ipd\n",
    "ipd.Audio('osman-news-edge-tts/49960.mp3')"
   ]
  },
  {
   "cell_type": "code",
   "execution_count": 28,
   "id": "bbf1c7e3",
   "metadata": {},
   "outputs": [
    {
     "name": "stdout",
     "output_type": "stream",
     "text": [
      "{\"original\": \"Selain Mawi dan Anas, Zayan dengan tagline 'Indah Di Hati', turut menampilkan Lin Ariffin, Raqib, dan Falyq sebagai penyampainya.\", \"normalized\": \"Selain Mawi dan Anas , Zayan dengan taglina ' Indah Di Hati ' , turut menampilkan Lin Ariffin , Raqib , dan Falyq sebagai penyampainya .\"}"
     ]
    }
   ],
   "source": [
    "!cat osman-news-edge-tts-text/49960.json"
   ]
  },
  {
   "cell_type": "code",
   "execution_count": null,
   "id": "2927611c",
   "metadata": {},
   "outputs": [],
   "source": []
  }
 ],
 "metadata": {
  "kernelspec": {
   "display_name": "Python 3 (ipykernel)",
   "language": "python",
   "name": "python3"
  },
  "language_info": {
   "codemirror_mode": {
    "name": "ipython",
    "version": 3
   },
   "file_extension": ".py",
   "mimetype": "text/x-python",
   "name": "python",
   "nbconvert_exporter": "python",
   "pygments_lexer": "ipython3",
   "version": "3.8.10"
  }
 },
 "nbformat": 4,
 "nbformat_minor": 5
}
