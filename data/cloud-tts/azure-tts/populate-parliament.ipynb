{
 "cells": [
  {
   "cell_type": "code",
   "execution_count": 2,
   "id": "02cee3f2",
   "metadata": {},
   "outputs": [],
   "source": [
    "# !wget https://f000.backblazeb2.com/file/malay-dataset/dumping/clean/dumping-parliament.txt"
   ]
  },
  {
   "cell_type": "code",
   "execution_count": 3,
   "id": "2711a506",
   "metadata": {},
   "outputs": [],
   "source": [
    "# import malaya\n",
    "# model = malaya.segmentation.transformer('super-tiny-t5', use_huggingface = True)\n",
    "# model.greedy_decoder(['TUAN LIM LIP ENG [ SEGAM BUT ] m inta M ENTERI IMalaysia ( BRIM ) bermula daripada projek tersebut dilaksanakan mengikut kategori penerima dan tahun .'])"
   ]
  },
  {
   "cell_type": "code",
   "execution_count": 5,
   "id": "3e47dd95",
   "metadata": {},
   "outputs": [],
   "source": [
    "rejected_prefix = ['JAWAPAN-JAWAPAN', 'NOTA', 'NO SOALAN', 'PERTANYAAN DEWAN', 'Sekian', 'Terima kasih',\n",
    "                  'JAWAPAN']"
   ]
  },
  {
   "cell_type": "code",
   "execution_count": 6,
   "id": "00e136a8",
   "metadata": {},
   "outputs": [],
   "source": [
    "def validate_spacing_chars(string, min_threshold = 0.2):\n",
    "    splitted = string.split()\n",
    "    single_chars = [s for s in splitted if len(s) == 1]\n",
    "    if len(single_chars):\n",
    "        return len(single_chars) / len(splitted) > min_threshold\n",
    "    else:\n",
    "        return False"
   ]
  },
  {
   "cell_type": "code",
   "execution_count": 20,
   "id": "a7d0497a",
   "metadata": {},
   "outputs": [],
   "source": [
    "import re\n",
    "re_roman = r\"^M{0,3}(CM|CD|D?C{0,3})(XC|XL|L?X{0,3})(IX|IV|V?I{0,3})$\".lower()\n",
    "VOWELS = set('aeiou')\n",
    "\n",
    "def check_roman(string):\n",
    "    splitted = string.split()\n",
    "    for s in splitted:\n",
    "        if bool(re.search(re_roman,s)):\n",
    "            return True\n",
    "    return False"
   ]
  },
  {
   "cell_type": "code",
   "execution_count": 21,
   "id": "c31aa634",
   "metadata": {},
   "outputs": [
    {
     "data": {
      "text/plain": [
       "122692"
      ]
     },
     "execution_count": 21,
     "metadata": {},
     "output_type": "execute_result"
    }
   ],
   "source": [
    "with open('dumping-parliament.txt') as fopen:\n",
    "    parliament = fopen.read().split('\\n')\n",
    "parliament = [t for t in parliament if all([not t.lower().startswith(p.lower()) for p in rejected_prefix])]\n",
    "parliament = [t for t in parliament if not t.isupper() and not validate_spacing_chars(t)]\n",
    "parliament = [t for t in parliament if not check_roman(t)]\n",
    "parliament = [t for t in parliament if len(set(t) & VOWELS)]\n",
    "parliament = list(filter(None, parliament))\n",
    "len(parliament)"
   ]
  },
  {
   "cell_type": "code",
   "execution_count": 22,
   "id": "701f17c2",
   "metadata": {},
   "outputs": [
    {
     "name": "stderr",
     "output_type": "stream",
     "text": [
      "100%|██████████| 122692/122692 [00:00<00:00, 1012953.14it/s]\n"
     ]
    }
   ],
   "source": [
    "from tqdm import tqdm\n",
    "\n",
    "min_len = 2\n",
    "max_len = 25\n",
    "\n",
    "selected_parliament = []\n",
    "for t in tqdm(parliament):\n",
    "    l = len(t.split())\n",
    "    if min_len < l < max_len:\n",
    "        selected_parliament.append(t.replace('/ o', ''))"
   ]
  },
  {
   "cell_type": "code",
   "execution_count": 28,
   "id": "c93c7f22",
   "metadata": {},
   "outputs": [],
   "source": [
    "selected_parliament = list(set(selected_parliament))"
   ]
  },
  {
   "cell_type": "code",
   "execution_count": 27,
   "id": "305f0d45",
   "metadata": {},
   "outputs": [],
   "source": [
    "import json\n",
    "from unidecode import unidecode\n",
    "\n",
    "def put_spacing_num(string):\n",
    "    string = re.sub('[A-Za-z]+', lambda ele: ' ' + ele[0] + ' ', string)\n",
    "    return re.sub(r'[ ]+', ' ', string).strip()\n",
    "\n",
    "def convert_to_ascii(string):\n",
    "    return unidecode(string)\n",
    "\n",
    "def collapse_whitespace(string):\n",
    "    return re.sub(_whitespace_re, ' ', string)\n",
    "\n",
    "def cleaning(string, normalize = True, add_eos = False):\n",
    "    sequence = []\n",
    "    string = convert_to_ascii(string)\n",
    "    string = re.sub(r'[ ]+', ' ', string).strip()\n",
    "    if string[-1] in ['-', ',']:\n",
    "        string = string[:-1]\n",
    "    if string[-1] != '.':\n",
    "        string = string + '.'\n",
    "    string = put_spacing_num(string)\n",
    "    string = re.sub(r'[ ]+', ' ', string).strip()\n",
    "    string = string\n",
    "    return string"
   ]
  },
  {
   "cell_type": "code",
   "execution_count": 29,
   "id": "53bf60b1",
   "metadata": {},
   "outputs": [],
   "source": [
    "samples = [{'text': t, 'cleaned': cleaning(t)} for t in selected_parliament]"
   ]
  },
  {
   "cell_type": "code",
   "execution_count": 30,
   "id": "5aa19caa",
   "metadata": {},
   "outputs": [
    {
     "data": {
      "text/plain": [
       "[{'text': 'PERDAGANGAN ANTARABANGSA DAN INDUSTRI menyatakan usaha memastikan pihak industri boleh mendapat para pekerja asing dengan kos munasabah tanpa dieksploitasikan dan birokrasi .',\n",
       "  'cleaned': 'PERDAGANGAN ANTARABANGSA DAN INDUSTRI menyatakan usaha memastikan pihak industri boleh mendapat para pekerja asing dengan kos munasabah tanpa dieksploitasikan dan birokrasi .'},\n",
       " {'text': 'Sehubungan itu , sistem pemeriksaan pasport sedia ada perlu dikonfigurasi untuk disesuaikan dengan ciri-ciri baru PMA .',\n",
       "  'cleaned': 'Sehubungan itu , sistem pemeriksaan pasport sedia ada perlu dikonfigurasi untuk disesuaikan dengan ciri - ciri baru PMA .'},\n",
       " {'text': 'Lampiran I Projek perkilangan yang dilaksanakan mengikut negeri bagi.',\n",
       "  'cleaned': 'Lampiran I Projek perkilangan yang dilaksanakan mengikut negeri bagi .'},\n",
       " {'text': 'Projek ini akan dilaksanakan secara berperingkat-peringkat dalam setiap Rancangan 5 Tahun dan tertakluk kepada kemampuan kewangan Kerajaan .',\n",
       "  'cleaned': 'Projek ini akan dilaksanakan secara berperingkat - peringkat dalam setiap Rancangan 5 Tahun dan tertakluk kepada kemampuan kewangan Kerajaan .'},\n",
       " {'text': 'Paras Harga Pengaktifan (PHP ) IPG telah dinaikkan dari harga SMR20 RM5.10.',\n",
       "  'cleaned': 'Paras Harga Pengaktifan ( PHP ) IPG telah dinaikkan dari harga SMR 20 RM 5.10.'},\n",
       " {'text': 'b ) Adakah Kerajaan akan memperkenalkan kad mengisi minyak kepada kenderaan perdagangan dan persendirian yang layak menikmati.',\n",
       "  'cleaned': 'b ) Adakah Kerajaan akan memperkenalkan kad mengisi minyak kepada kenderaan perdagangan dan persendirian yang layak menikmati .'},\n",
       " {'text': 'Sambutan Hari Kesihatan Sedunia ini akan juga dijalankan secara promosi melalui media , pameran ; ceramah , dialog dan forum pada peringkat komuniti .',\n",
       "  'cleaned': 'Sambutan Hari Kesihatan Sedunia ini akan juga dijalankan secara promosi melalui media , pameran ; ceramah , dialog dan forum pada peringkat komuniti .'},\n",
       " {'text': 'Daripada jumlah tersebut , sebanyak RM5.82 juta telah diagihkan kepada JPN Sabah untuk suku tahun pertama 2016 .',\n",
       "  'cleaned': 'Daripada jumlah tersebut , sebanyak RM 5.82 juta telah diagihkan kepada JPN Sabah untuk suku tahun pertama 2016 .'},\n",
       " {'text': 'Adakah Kerajaan memberi peruntukan kepada MyEG setiap tahun .',\n",
       "  'cleaned': 'Adakah Kerajaan memberi peruntukan kepada MyEG setiap tahun .'},\n",
       " {'text': 'Tindakan siasatan dan langkah Penguatkuasaan segera telah diambil oleh Jabatan PERHILITAN terhadap isu ini .',\n",
       "  'cleaned': 'Tindakan siasatan dan langkah Penguatkuasaan segera telah diambil oleh Jabatan PERHILITAN terhadap isu ini .'}]"
      ]
     },
     "execution_count": 30,
     "metadata": {},
     "output_type": "execute_result"
    }
   ],
   "source": [
    "samples[:10]"
   ]
  },
  {
   "cell_type": "code",
   "execution_count": 31,
   "id": "862b443a",
   "metadata": {},
   "outputs": [],
   "source": [
    "with open('populated-parliament.json', 'w') as fopen:\n",
    "    json.dump(samples, fopen)"
   ]
  },
  {
   "cell_type": "code",
   "execution_count": null,
   "id": "3c78c5c6",
   "metadata": {},
   "outputs": [],
   "source": []
  }
 ],
 "metadata": {
  "kernelspec": {
   "display_name": "Python 3 (ipykernel)",
   "language": "python",
   "name": "python3"
  },
  "language_info": {
   "codemirror_mode": {
    "name": "ipython",
    "version": 3
   },
   "file_extension": ".py",
   "mimetype": "text/x-python",
   "name": "python",
   "nbconvert_exporter": "python",
   "pygments_lexer": "ipython3",
   "version": "3.8.10"
  }
 },
 "nbformat": 4,
 "nbformat_minor": 5
}
