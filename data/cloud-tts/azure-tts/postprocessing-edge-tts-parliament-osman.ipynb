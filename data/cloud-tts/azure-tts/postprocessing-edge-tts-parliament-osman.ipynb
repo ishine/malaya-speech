{
 "cells": [
  {
   "cell_type": "code",
   "execution_count": 1,
   "id": "a91d6c3d",
   "metadata": {},
   "outputs": [],
   "source": [
    "import os\n",
    "\n",
    "os.environ['CUDA_VISIBLE_DEVICES'] = ''\n",
    "os.environ['TF_FORCE_GPU_ALLOW_GROWTH'] = 'true'"
   ]
  },
  {
   "cell_type": "code",
   "execution_count": 2,
   "id": "4f47377e",
   "metadata": {},
   "outputs": [
    {
     "data": {
      "text/plain": [
       "59582"
      ]
     },
     "execution_count": 2,
     "metadata": {},
     "output_type": "execute_result"
    }
   ],
   "source": [
    "from glob import glob\n",
    "import os\n",
    "\n",
    "directory = 'osman-parliament-edge-tts'\n",
    "directory_text = 'osman-parliament-edge-tts-text'\n",
    "mp3s = glob(os.path.join(directory, '*.mp3'))\n",
    "jsons = glob(os.path.join(directory_text, '*.json'))\n",
    "len(mp3s)"
   ]
  },
  {
   "cell_type": "code",
   "execution_count": 3,
   "id": "aa807823",
   "metadata": {},
   "outputs": [],
   "source": [
    "# import IPython.display as ipd\n",
    "# ipd.Audio('osman-news-edge-tts/46631.mp3')"
   ]
  },
  {
   "cell_type": "code",
   "execution_count": 4,
   "id": "5ac254bf",
   "metadata": {},
   "outputs": [],
   "source": [
    "# reject decimal points"
   ]
  },
  {
   "cell_type": "code",
   "execution_count": 5,
   "id": "7e1fa04c",
   "metadata": {},
   "outputs": [],
   "source": [
    "import json\n",
    "\n",
    "# for t in jsons:\n",
    "#     with open(t) as fopen:\n",
    "#         print(t, json.load(fopen))"
   ]
  },
  {
   "cell_type": "code",
   "execution_count": 6,
   "id": "d026c2da",
   "metadata": {},
   "outputs": [
    {
     "name": "stderr",
     "output_type": "stream",
     "text": [
      "/home/ubuntu/.local/lib/python3.8/site-packages/tensorflow_addons/utils/ensure_tf_install.py:53: UserWarning: Tensorflow Addons supports using Python ops for all Tensorflow versions above or equal to 2.3.0 and strictly below 2.5.0 (nightly versions are not supported). \n",
      " The versions of TensorFlow you are currently using is 2.6.0 and is not supported. \n",
      "Some things might work, some things might not.\n",
      "If you were to encounter a bug, do not file an issue.\n",
      "If you want to make sure you're using a tested and supported configuration, either change the TensorFlow version or the TensorFlow Addons's version. \n",
      "You can find the compatibility matrix in TensorFlow Addon's readme:\n",
      "https://github.com/tensorflow/addons\n",
      "  warnings.warn(\n",
      "/home/ubuntu/.local/lib/python3.8/site-packages/tensorflow_addons/utils/resource_loader.py:72: UserWarning: You are currently using TensorFlow 2.6.0 and trying to load a custom op (custom_ops/seq2seq/_beam_search_ops.so).\n",
      "TensorFlow Addons has compiled its custom ops against TensorFlow 2.4.0, and there are no compatibility guarantees between the two versions. \n",
      "This means that you might get segfaults when loading the custom op, or other kind of low-level errors.\n",
      " If you do, do not file an issue on Github. This is a known limitation.\n",
      "\n",
      "It might help you to fallback to pure Python ops with TF_ADDONS_PY_OPS . To do that, see https://github.com/tensorflow/addons#gpucpu-custom-ops \n",
      "\n",
      "You can also change the TensorFlow version installed on your system. You would need a TensorFlow version equal to or above 2.4.0 and strictly below 2.5.0.\n",
      " Note that nightly versions of TensorFlow, as well as non-pip TensorFlow like `conda install tensorflow` or compiled from source are not supported.\n",
      "\n",
      "The last solution is to find the TensorFlow Addons version that has custom ops compatible with the TensorFlow installed on your system. To do that, refer to the readme: https://github.com/tensorflow/addons\n",
      "  warnings.warn(\n",
      "/home/ubuntu/.local/lib/python3.8/site-packages/malaya_boilerplate/frozen_graph.py:35: UserWarning: Cannot import beam_search_ops from Tensorflow Addons, ['malaya.jawi_rumi.deep_model', 'malaya.phoneme.deep_model', 'malaya.rumi_jawi.deep_model', 'malaya.stem.deep_model'] will not available to use, make sure Tensorflow Addons version >= 0.12.0\n",
      "  warnings.warn(\n"
     ]
    }
   ],
   "source": [
    "from unidecode import unidecode\n",
    "from malaya.text.normalization import digit, cardinal\n",
    "import malaya\n",
    "import re\n",
    "\n",
    "_pad = 'pad'\n",
    "_start = 'start'\n",
    "_eos = 'eos'\n",
    "_punctuation = \"!'(),.:;? \"\n",
    "_special = '-'\n",
    "_letters = 'ABCDEFGHIJKLMNOPQRSTUVWXYZabcdefghijklmnopqrstuvwxyz'\n",
    "_numbers = '0123456789'\n",
    "\n",
    "MALAYA_SPEECH_SYMBOLS = (\n",
    "    [_pad, _start, _eos] + list(_special) + list(_punctuation) + list(_letters)\n",
    ")\n",
    "\n",
    "INITIAL_SYMBOLS = list(_letters) + list(_numbers)"
   ]
  },
  {
   "cell_type": "code",
   "execution_count": 7,
   "id": "cc922460",
   "metadata": {},
   "outputs": [],
   "source": [
    "def tts_encode(string: str, add_eos: bool = True):\n",
    "    r = [MALAYA_SPEECH_SYMBOLS.index(c) for c in string if c in MALAYA_SPEECH_SYMBOLS]\n",
    "    if add_eos:\n",
    "        r = r + [MALAYA_SPEECH_SYMBOLS.index('eos')]\n",
    "    return r"
   ]
  },
  {
   "cell_type": "code",
   "execution_count": 8,
   "id": "0c1059ac",
   "metadata": {},
   "outputs": [],
   "source": [
    "def put_spacing_num(string):\n",
    "    string = re.sub('[A-Za-z]+', lambda ele: ' ' + ele[0] + ' ', string)\n",
    "    return re.sub(r'[ ]+', ' ', string).strip()\n",
    "\n",
    "def convert_to_ascii(string):\n",
    "    return unidecode(string)\n",
    "\n",
    "def collapse_whitespace(string):\n",
    "    return re.sub(_whitespace_re, ' ', string)\n",
    "\n",
    "def put_spacing(string, chars = '()-'):\n",
    "    for c in chars:\n",
    "        string = string.replace(c, f' {c} ')\n",
    "    return string\n",
    "\n",
    "before = {';': ',', '_': '', '=': 'sama dengan', '*': 'asterisk',\n",
    "          \"'\": '', '~': '', '`': ''}\n",
    "\n",
    "after = {'/': 'garis miring'}\n",
    "\n",
    "rejected = ['Coppa Italia', 'Pak Ramli memerlukan']\n",
    "\n",
    "def replace_chars(string, chars):\n",
    "    for k, v in chars.items():\n",
    "        string = string.replace(k, f' {v} ')\n",
    "    return string\n",
    "\n",
    "patterns_num = [(r\"\\b\\d+(?:[\\.,']\\d+)?\\b\\/\\b\\d+(?:[\\.,']\\d+)?\\b\", '/', 'garis miring'),\n",
    "           (r\"\\b\\d+(?:[\\.,']\\d+)?\\b\\-\\b\\d+(?:[\\.,']\\d+)?\\b\", '-', '')]\n",
    "\n",
    "pattern_rm = r\"RM \\b\\d+(?:[\\.,']\\d+)?\\b (?:ribu|puluh|juta)\"\n",
    "\n",
    "replaces = {'dollar bilion': 'bilion dollar', 'dollar ribu': 'ribu dollar', 'dollar juta': 'juta dollar'}\n",
    "\n",
    "def fix_pattern_num(string):\n",
    "    for p in patterns_num:\n",
    "        results = re.findall(p[0], string)\n",
    "        for r in results:\n",
    "            l_, r_ = r.split(p[1])\n",
    "            string = string.replace(r, f'{digit(l_)} {p[2]} {digit(r_)}')\n",
    "    string = re.sub(r'[ ]+', ' ', string).strip()\n",
    "    return string\n",
    "\n",
    "def fix_dash_num(string):\n",
    "    results = re.findall(r\"-\\d+\", string)\n",
    "    for r in results:\n",
    "        string = string.replace(r, f\" {cardinal(r).replace('negatif', 'dash')} \")\n",
    "    string = re.sub(r'[ ]+', ' ', string).strip()\n",
    "    return string\n",
    "\n",
    "def fix_num_dash(string):\n",
    "    results = re.findall(r\"\\d+-\", string)\n",
    "    for r in results:\n",
    "        string = string.replace(r, f\" {cardinal(r.replace('-', ''))} \")\n",
    "    string = re.sub(r'[ ]+', ' ', string).strip()\n",
    "    return string\n",
    "\n",
    "def cleaning(string, add_eos = False):\n",
    "    sequence = []\n",
    "    string = convert_to_ascii(string)\n",
    "    string = replace_chars(string, before)\n",
    "    string = fix_zeros(string)\n",
    "    string = fix_dash_date(string)\n",
    "    string = fix_date(string)\n",
    "    string = fix_1900(string)\n",
    "    string = fix_isbn(string)\n",
    "    string = fix_pattern_num(string)\n",
    "    string = fix_dash_num(string)\n",
    "    string = fix_num_dash(string)\n",
    "    string = fix_rm(string)\n",
    "    string = put_spacing(string)\n",
    "    string = re.sub(r'[ ]+', ' ', string).strip()\n",
    "    string = replace_chars(string, after)\n",
    "    string = replace_chars(string, replaces)\n",
    "\n",
    "    if string[-1] in '-,':\n",
    "        string = string[:-1]\n",
    "    if string[-2] in '-,!:;':\n",
    "        string = string[:-2]\n",
    "    if string[-1] != '.':\n",
    "        string = string + '.'\n",
    "    if string[0] not in INITIAL_SYMBOLS:\n",
    "        string = string[1:]\n",
    "    string = put_spacing_num(string)\n",
    "    string = string.replace('dash', '')\n",
    "    string = re.sub(r'[ ]+', ' ', string).strip()\n",
    "    return string, tts_encode(string, add_eos = add_eos)\n",
    "\n",
    "def fix_dash_date(string):\n",
    "    results = re.findall(r'\\b\\d+-\\d+\\/\\d+\\/\\d+', string)\n",
    "    for r in results:\n",
    "        ori = r\n",
    "        r = r.replace('-', ' dash ').replace('/', ' garis miring ')\n",
    "        r = re.sub(r'[ ]+', ' ', r).strip()\n",
    "        string = string.replace(ori, ' '.join([cardinal(i) for i in r.split()]))\n",
    "    return string\n",
    "        \n",
    "def fix_rm(string):\n",
    "    outer_results = {}\n",
    "    t = string + ' .'\n",
    "    compound = ['ribu', 'puluh', 'juta', 'bilion']\n",
    "    pattern_rm = r\"RM \\b\\d+(?:[\\.,']\\d+)?(?:[\\.,']\\d+)?\\b (?:ribu|puluh|juta|bilion)\"\n",
    "    results = re.findall(pattern_rm, string)\n",
    "    for r in results:\n",
    "        splitted = r.split()\n",
    "        if t[string.find(r) + len(r)] in '(/':\n",
    "            s_ = splitted[-2].split('.')\n",
    "            c = ' , '.join([cardinal(s__) for s__ in s_])\n",
    "        else:\n",
    "            c = cardinal(splitted[-2])\n",
    "        if t[-2][-1] == '0' and '.' in splitted[-2]:\n",
    "            c = f'{c} kosong'\n",
    "        if t[string.find(r) + len(r)] in '(/':\n",
    "            outer_results[r] = f'RM {c} {splitted[-1]}'.replace('perpuluhan', ',')\n",
    "        else:\n",
    "            outer_results[r] = f'{c} {splitted[-1]} RM'\n",
    "\n",
    "    pattern_rm = r\"RM \\b\\d+(?:[\\.,']\\d+)?(?:[\\.,']\\d+)?\\b\"\n",
    "    results = re.findall(pattern_rm, string)\n",
    "    for r in results:\n",
    "        splitted = r.split()\n",
    "        if t[string.find(r) + len(r)] in '(/':\n",
    "            s_ = splitted[-1].split('.')\n",
    "            c = ' , '.join([cardinal(s__) for s__ in s_])\n",
    "        else:\n",
    "            c = cardinal(splitted[-1])\n",
    "        if splitted[-1][-1] == '0' and '.' in splitted[-1]:\n",
    "            c = f'{c} kosong'\n",
    "        if t[string.find(r) + len(r)] in '(/':\n",
    "            outer_results[r] = f'RM {c}'.replace('perpuluhan', ',')\n",
    "        else:\n",
    "            outer_results[r] = f'{c} RM'\n",
    "            \n",
    "    for k, v in outer_results.items():\n",
    "        string = string.replace(k, v)\n",
    "    \n",
    "    string = re.sub(r'[ ]+', ' ', string).strip()\n",
    "    return string\n",
    "\n",
    "def fix_1900_year(string):\n",
    "    results = re.findall(r'19\\d\\d-\\d+', string)\n",
    "    for r in results:\n",
    "        splitted = r.split('-')\n",
    "        string = string.replace(r, ' dash '.join(digit(s) for s in splitted))\n",
    "    return string\n",
    "\n",
    "def fix_1900(string):\n",
    "    string = fix_1900_year(string)\n",
    "    results = re.findall(r'19\\d\\d', string)\n",
    "    for r in results:\n",
    "        if r[-2:] != '00':\n",
    "            if r[-2] == '0':\n",
    "                c = 'kosong ' + cardinal(r[-1])\n",
    "            else:\n",
    "                c = cardinal(r[-2:])\n",
    "            string = string.replace(r, 'sembilan belas ' + c)\n",
    "        else:\n",
    "            string = string.replace(r, 'sembilan belas ratus')\n",
    "    return string\n",
    "\n",
    "def fix_isbn(string):\n",
    "    results = re.findall(r'[0-9\\-]+', string)\n",
    "    results_ = []\n",
    "    for r in results:\n",
    "        try:\n",
    "            if string[:string.find(r) - 1].split()[-1].lower() == 'isbn':\n",
    "                results_.append(r)\n",
    "        except:\n",
    "            pass\n",
    "    for r in results_:\n",
    "        splitted = r.split('-')\n",
    "        string = string.replace(r, ' dash '.join([digit(s) for s in splitted]))\n",
    "    return string\n",
    "\n",
    "def fix_zeros(string):\n",
    "    r = []\n",
    "    for s in string.split():\n",
    "        if len(re.findall(r'^(0+)\\b', s)):\n",
    "            s = digit(s)\n",
    "        r.append(s)\n",
    "    return ' '.join(r)\n",
    "\n",
    "bulan = malaya.text.tatabahasa.bulan\n",
    "\n",
    "def fix_date(string):\n",
    "    short_date = re.findall(malaya.text.regex._short_date, string)\n",
    "    if len(short_date):\n",
    "        for r in short_date:\n",
    "            if string[string.find(r) - 1] == '-':\n",
    "                continue\n",
    "            if '/' in r:\n",
    "                splitted = r.split('/')\n",
    "                if len(splitted) == 3:\n",
    "                    if int(splitted[1]) > 12:\n",
    "                        continue\n",
    "                    day = cardinal(splitted[0])\n",
    "                    month = bulan[int(splitted[1])].title()\n",
    "                    year = cardinal(fix_1900(splitted[2]))\n",
    "                else:\n",
    "                    if int(splitted[0]) > 12:\n",
    "                        continue\n",
    "                    day = ''\n",
    "                    month = bulan[int(splitted[0])].title()\n",
    "                    year = cardinal(fix_1900(splitted[1]))\n",
    "                string = string.replace(r, f'{day} {month} {year}')\n",
    "            elif '.'in r:\n",
    "                splitted = r.split('.')\n",
    "                if len(splitted) == 3:\n",
    "                    if len(splitted[-1]) == 2:\n",
    "                        day = digit(splitted[0]) if splitted[0][0] == '0' else cardinal(splitted[0])\n",
    "                        month = digit(splitted[1]) if splitted[1][0] == '0' else cardinal(splitted[1])\n",
    "                        year = digit(splitted[2]) if splitted[2][0] == '0' else cardinal(splitted[2])\n",
    "                        s = f'{day} {month} {year}'\n",
    "                    else:\n",
    "                        day = digit(splitted[0]) if splitted[0][0] == '0' else cardinal(splitted[0])\n",
    "                        month = digit(splitted[1]) if splitted[1][0] == '0' else cardinal(splitted[1])\n",
    "                        year = cardinal(fix_1900(splitted[2]))\n",
    "                        s = f'{day} , {month} , {year}'\n",
    "                    string = string.replace(r, s)\n",
    "            elif '-' in r:\n",
    "                splitted = r.split('-')\n",
    "                if len(splitted) == 3:\n",
    "                    if len(splitted[-1]) == 2:\n",
    "                        day = digit(splitted[0]) if splitted[0][0] == '0' else cardinal(splitted[0])\n",
    "                        month = digit(splitted[1]) if splitted[1][0] == '0' else cardinal(splitted[1])\n",
    "                        year = digit(splitted[2]) if splitted[2][0] == '0' else cardinal(splitted[2])\n",
    "                        s = f'{day} dash {month} dash {year}'\n",
    "                    else:\n",
    "                        day = digit(splitted[0]) if splitted[0][0] == '0' else cardinal(splitted[0])\n",
    "                        month = digit(splitted[1]) if splitted[1][0] == '0' else cardinal(splitted[1])\n",
    "                        year = cardinal(fix_1900(splitted[2]))\n",
    "                        s = f'{day} dash {month} dash {year}'\n",
    "                    string = string.replace(r, s)\n",
    "                    \n",
    "                \n",
    "    date = re.findall(malaya.text.regex._date, string)\n",
    "    if len(date):\n",
    "        for r in date:\n",
    "            if string[string.find(r) - 1] == '-':\n",
    "                continue\n",
    "            string = string.replace(r, ' '.join([cardinal(i) for i in r.split()]))\n",
    "    return string"
   ]
  },
  {
   "cell_type": "code",
   "execution_count": 9,
   "id": "c4c2a0b5",
   "metadata": {},
   "outputs": [],
   "source": [
    "string = \"Lapangan Terbang Egelsberg terletak pada kedudukan latitude N51 dua puluh tiga Julai seribu ' , longtituda E06 35.2500 ' pada ketinggian empat puluh dua perpuluhan sembilan lapan meter dari aras laut .\""
   ]
  },
  {
   "cell_type": "code",
   "execution_count": 10,
   "id": "1dbb9e80",
   "metadata": {},
   "outputs": [
    {
     "data": {
      "text/plain": [
       "'Lapangan Terbang Egelsberg terletak pada kedudukan latitude N 51 dua puluh tiga Julai seribu , longtituda E 06 tiga puluh lima perpuluhan dua lima pada ketinggian empat puluh dua perpuluhan sembilan lapan meter dari aras laut .'"
      ]
     },
     "execution_count": 10,
     "metadata": {},
     "output_type": "execute_result"
    }
   ],
   "source": [
    "r = cleaning(string)\n",
    "r[0]"
   ]
  },
  {
   "cell_type": "code",
   "execution_count": 11,
   "id": "883f884d",
   "metadata": {},
   "outputs": [
    {
     "name": "stderr",
     "output_type": "stream",
     "text": [
      "100%|████████████████████████████████████████████████████████████████████████████████████████| 59582/59582 [00:17<00:00, 3452.35it/s]\n"
     ]
    }
   ],
   "source": [
    "from tqdm import tqdm\n",
    "\n",
    "acceptable = []\n",
    "for t in tqdm(jsons):\n",
    "    with open(t) as fopen:\n",
    "        d = json.load(fopen)\n",
    "        s = d['normalized']\n",
    "        if len(re.findall(r\"\\b\\d+\\.\\d+?\\b\", s)):\n",
    "            continue\n",
    "        r = cleaning(s)[0]\n",
    "        if len(re.findall(r\"\\b\\d+(?:[\\.,']\\d+)?\\b\", r)):\n",
    "            continue\n",
    "        acceptable.append((t, r))"
   ]
  },
  {
   "cell_type": "code",
   "execution_count": 12,
   "id": "0fa031d9",
   "metadata": {
    "scrolled": false
   },
   "outputs": [
    {
     "data": {
      "text/plain": [
       "[('osman-parliament-edge-tts-text/39041.json',\n",
       "  'bahayanya penularan berita palsu , selain memberi penjelasan mengenai fungsi portal Sebenarnya . my .'),\n",
       " ('osman-parliament-edge-tts-text/50543.json',\n",
       "  'Berdasarkan kepada semakan semula harga minyak kepada USDSS setong hasil Kerajaan Persekutuan dianggarkan berkurang sebanyak tiga belas bilion lapan ratus juta ringgit daripada anggaran asal .'),\n",
       " ('osman-parliament-edge-tts-text/39296.json',\n",
       "  'Di samping itu , jumlah pendapatan pelancong asing turut meningkat daripada enam puluh lima bilion empat ratus juta ringgit satu sen pada tahun dua ribu tiga belas kepada tujuh puluh dua bilion ringgit pada tahun dua ribu empat belas .'),\n",
       " ('osman-parliament-edge-tts-text/15270.json',\n",
       "  'Republik Rakyat China ( RRC ) merupakan rakan dagang terbesar Malaysia bagi sembilan tahun berturut - turut sejak dua ribu sembilan .'),\n",
       " ('osman-parliament-edge-tts-text/4211.json',\n",
       "  'surat keputusan permohonan dihantar kepada pemohon dengan kerjasama Pejabat Residen dan Daerah melalui pemimpin masyarakat yang terlibat , .'),\n",
       " ('osman-parliament-edge-tts-text/1328.json',\n",
       "  'Sehingga lapan belas Mei dua ribu lima belas hanya empat kertas siasatan yang telah dirujuk kepada Timbalan Pendakwa Raya untuk dipertuduhkan .'),\n",
       " ('osman-parliament-edge-tts-text/31238.json',\n",
       "  'Walau bagaimanapun , projek ini berkemungkinan akan dilaksanakan secara berfasa berikutan ia melibatkan kos yang tinggi iaitu dianggarkan sebanyak satu bilion tujuh ratus lima puluh juta ringgit .'),\n",
       " ('osman-parliament-edge-tts-text/4372.json',\n",
       "  'KPWKM akan terus memperkemas dan memperkukuhkan lagi tindakan bersepadu pelbagai agensi yang telah dilaksanakan sebelum ini bagi memastikan aktiviti pengemisan dapat dikurangkan .'),\n",
       " ('osman-parliament-edge-tts-text/4848.json',\n",
       "  'Jumlah ketibaan pelancong asing bagi bulan dua puluh empat Februari dua ribu enam belas adalah seperti Februari Pertumbuhan No .'),\n",
       " ('osman-parliament-edge-tts-text/58236.json',\n",
       "  'Kementerian Pertanian dan lndustri Asas Tani ( MOA ) tidak mengawal kuota daging meskipun permintaan pengguna berubah mengikut musim .')]"
      ]
     },
     "execution_count": 12,
     "metadata": {},
     "output_type": "execute_result"
    }
   ],
   "source": [
    "acceptable[-10:]"
   ]
  },
  {
   "cell_type": "code",
   "execution_count": 13,
   "id": "ba63c0f3",
   "metadata": {},
   "outputs": [
    {
     "data": {
      "text/plain": [
       "(57130, 59582)"
      ]
     },
     "execution_count": 13,
     "metadata": {},
     "output_type": "execute_result"
    }
   ],
   "source": [
    "len(acceptable), len(jsons)"
   ]
  },
  {
   "cell_type": "code",
   "execution_count": 14,
   "id": "a9308422",
   "metadata": {},
   "outputs": [],
   "source": [
    "with open('postprocessing-edge-tts-parliament.json', 'w') as fopen:\n",
    "    json.dump(acceptable, fopen)"
   ]
  }
 ],
 "metadata": {
  "kernelspec": {
   "display_name": "Python 3 (ipykernel)",
   "language": "python",
   "name": "python3"
  },
  "language_info": {
   "codemirror_mode": {
    "name": "ipython",
    "version": 3
   },
   "file_extension": ".py",
   "mimetype": "text/x-python",
   "name": "python",
   "nbconvert_exporter": "python",
   "pygments_lexer": "ipython3",
   "version": "3.8.10"
  }
 },
 "nbformat": 4,
 "nbformat_minor": 5
}
