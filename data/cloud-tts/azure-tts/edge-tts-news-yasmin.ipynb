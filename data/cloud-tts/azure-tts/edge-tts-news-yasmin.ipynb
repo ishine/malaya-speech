{
 "cells": [
  {
   "cell_type": "code",
   "execution_count": 5,
   "id": "20f0a794",
   "metadata": {},
   "outputs": [],
   "source": [
    "# !~/.local/bin/edge-tts --list-voices\n",
    "# ms-MY-OsmanNeural, ms-MY-YasminNeural\n",
    "# !~/.local/bin/edge-tts --voice ms-MY-YasminNeural --text \"saya suka makan ayam.\" --write-media test.mp3"
   ]
  },
  {
   "cell_type": "code",
   "execution_count": 6,
   "id": "c476e44d",
   "metadata": {},
   "outputs": [],
   "source": [
    "# import IPython.display as ipd\n",
    "# ipd.Audio('test.mp3')"
   ]
  },
  {
   "cell_type": "code",
   "execution_count": 7,
   "id": "cb9c73d1",
   "metadata": {},
   "outputs": [],
   "source": [
    "# !wget https://huggingface.co/datasets/huseinzol05/Malay-TTS-Yasmin/resolve/main/populated-text.json"
   ]
  },
  {
   "cell_type": "code",
   "execution_count": 8,
   "id": "658b2e32",
   "metadata": {},
   "outputs": [],
   "source": [
    "import os\n",
    "\n",
    "os.environ['CUDA_VISIBLE_DEVICES'] = ''\n",
    "os.environ['TF_FORCE_GPU_ALLOW_GROWTH'] = 'true'"
   ]
  },
  {
   "cell_type": "code",
   "execution_count": 9,
   "id": "a949cade",
   "metadata": {},
   "outputs": [],
   "source": [
    "import json\n",
    "\n",
    "with open('populated-text.json') as fopen:\n",
    "    data = json.load(fopen)"
   ]
  },
  {
   "cell_type": "code",
   "execution_count": 10,
   "id": "0cb90f59",
   "metadata": {},
   "outputs": [
    {
     "data": {
      "text/plain": [
       "'===Sejarah awal=== Joseph Whitaker menjadi presiden kehormat Palermo pada awal 1900an.'"
      ]
     },
     "execution_count": 10,
     "metadata": {},
     "output_type": "execute_result"
    }
   ],
   "source": [
    "data[687]['text']"
   ]
  },
  {
   "cell_type": "code",
   "execution_count": 11,
   "id": "e2f75f15",
   "metadata": {
    "scrolled": true
   },
   "outputs": [
    {
     "name": "stderr",
     "output_type": "stream",
     "text": [
      "/home/ubuntu/.local/lib/python3.8/site-packages/tensorflow_addons/utils/ensure_tf_install.py:53: UserWarning: Tensorflow Addons supports using Python ops for all Tensorflow versions above or equal to 2.3.0 and strictly below 2.5.0 (nightly versions are not supported). \n",
      " The versions of TensorFlow you are currently using is 2.6.0 and is not supported. \n",
      "Some things might work, some things might not.\n",
      "If you were to encounter a bug, do not file an issue.\n",
      "If you want to make sure you're using a tested and supported configuration, either change the TensorFlow version or the TensorFlow Addons's version. \n",
      "You can find the compatibility matrix in TensorFlow Addon's readme:\n",
      "https://github.com/tensorflow/addons\n",
      "  warnings.warn(\n",
      "/home/ubuntu/.local/lib/python3.8/site-packages/tensorflow_addons/utils/resource_loader.py:72: UserWarning: You are currently using TensorFlow 2.6.0 and trying to load a custom op (custom_ops/seq2seq/_beam_search_ops.so).\n",
      "TensorFlow Addons has compiled its custom ops against TensorFlow 2.4.0, and there are no compatibility guarantees between the two versions. \n",
      "This means that you might get segfaults when loading the custom op, or other kind of low-level errors.\n",
      " If you do, do not file an issue on Github. This is a known limitation.\n",
      "\n",
      "It might help you to fallback to pure Python ops with TF_ADDONS_PY_OPS . To do that, see https://github.com/tensorflow/addons#gpucpu-custom-ops \n",
      "\n",
      "You can also change the TensorFlow version installed on your system. You would need a TensorFlow version equal to or above 2.4.0 and strictly below 2.5.0.\n",
      " Note that nightly versions of TensorFlow, as well as non-pip TensorFlow like `conda install tensorflow` or compiled from source are not supported.\n",
      "\n",
      "The last solution is to find the TensorFlow Addons version that has custom ops compatible with the TensorFlow installed on your system. To do that, refer to the readme: https://github.com/tensorflow/addons\n",
      "  warnings.warn(\n",
      "/home/ubuntu/.local/lib/python3.8/site-packages/malaya_boilerplate/frozen_graph.py:35: UserWarning: Cannot import beam_search_ops from Tensorflow Addons, ['malaya.jawi_rumi.deep_model', 'malaya.phoneme.deep_model', 'malaya.rumi_jawi.deep_model', 'malaya.stem.deep_model'] will not available to use, make sure Tensorflow Addons version >= 0.12.0\n",
      "  warnings.warn(\n"
     ]
    }
   ],
   "source": [
    "import malaya\n",
    "\n",
    "normalizer = malaya.normalize.normalizer()"
   ]
  },
  {
   "cell_type": "code",
   "execution_count": 12,
   "id": "f9e7a43e",
   "metadata": {},
   "outputs": [
    {
     "data": {
      "text/plain": [
       "{'normalize': 'Pementasan Laskar Bayaran pada Jumat-Sabtu ( dua puluh lima - dua puluh enam Ogos dua ribu tujuh belas ) mengisahkan sebuah koloni yang dikuasai korporasi global bernama Paradize Capitol Corporation .',\n",
       " 'date': {},\n",
       " 'money': {}}"
      ]
     },
     "execution_count": 12,
     "metadata": {},
     "output_type": "execute_result"
    }
   ],
   "source": [
    "normalizer.normalize(data[22053]['text'], normalize_entity = False)"
   ]
  },
  {
   "cell_type": "code",
   "execution_count": 13,
   "id": "6864f30b",
   "metadata": {},
   "outputs": [],
   "source": [
    "directory = 'yasmin-news-edge-tts'\n",
    "directory_text = 'yasmin-news-edge-tts-text'"
   ]
  },
  {
   "cell_type": "code",
   "execution_count": 14,
   "id": "9e501356",
   "metadata": {},
   "outputs": [
    {
     "data": {
      "text/plain": [
       "0"
      ]
     },
     "execution_count": 14,
     "metadata": {},
     "output_type": "execute_result"
    }
   ],
   "source": [
    "os.system(f'rm -rf {directory}')\n",
    "os.system(f'rm -rf {directory_text}')"
   ]
  },
  {
   "cell_type": "code",
   "execution_count": 15,
   "id": "513c93ea",
   "metadata": {},
   "outputs": [],
   "source": [
    "os.makedirs(directory, exist_ok = True)\n",
    "os.makedirs(directory_text, exist_ok = True)"
   ]
  },
  {
   "cell_type": "code",
   "execution_count": 16,
   "id": "8bbf832e",
   "metadata": {},
   "outputs": [],
   "source": [
    "def generate_tts(text, filename):\n",
    "    text = text.replace('\"', r'\\\"').replace(\"'\", r'\\'')\n",
    "    command = f'~/.local/bin/edge-tts --voice ms-MY-YasminNeural --text \"{text}\" --write-media {filename}'\n",
    "    # print(command)\n",
    "    os.system(command)"
   ]
  },
  {
   "cell_type": "code",
   "execution_count": 17,
   "id": "945d93b2",
   "metadata": {},
   "outputs": [
    {
     "data": {
      "text/plain": [
       "{'text': '=== Ermita === Ermita merupakan salah satu ahli organisasi ini, ditugaskan menjaga Galatea dan Miria.',\n",
       " 'cleaned': '=== Ermita === Ermita merupakan salah satu ahli organisasi ini , ditugaskan menjaga Galatea dan Miria .'}"
      ]
     },
     "execution_count": 17,
     "metadata": {},
     "output_type": "execute_result"
    }
   ],
   "source": [
    "data[7]"
   ]
  },
  {
   "cell_type": "code",
   "execution_count": 18,
   "id": "96f4d8d3",
   "metadata": {},
   "outputs": [],
   "source": [
    "n = normalizer.normalize(data[7]['text'], normalize_entity = False)['normalize']"
   ]
  },
  {
   "cell_type": "code",
   "execution_count": 19,
   "id": "ce59d1e7",
   "metadata": {},
   "outputs": [
    {
     "data": {
      "text/plain": [
       "'Ermita Ermita merupakan salah satu ahli organisasi ini , ditugaskan menjaga Galatea dan Miria .'"
      ]
     },
     "execution_count": 19,
     "metadata": {},
     "output_type": "execute_result"
    }
   ],
   "source": [
    "import re\n",
    "\n",
    "def postprocessing(string):\n",
    "    string = string.replace('/', ' ').replace('*', ' ').replace('=', ' ')\n",
    "    return re.sub(r'[ ]+', ' ', string).strip()\n",
    "\n",
    "postprocessing(n)"
   ]
  },
  {
   "cell_type": "code",
   "execution_count": 20,
   "id": "78830485",
   "metadata": {},
   "outputs": [
    {
     "name": "stderr",
     "output_type": "stream",
     "text": [
      "  1%|▋                                                                                        | 364/50000 [07:56<16:53:29,  1.23s/it]sh: 1: kenapa: not found\n",
      "  2%|█▊                                                                                      | 1057/50000 [23:07<14:47:22,  1.09s/it]sh: 1: Syntax error: EOF in backquote substitution\n"
     ]
    },
    {
     "name": "stdout",
     "output_type": "stream",
     "text": [
      "string index out of range\n"
     ]
    },
    {
     "name": "stderr",
     "output_type": "stream",
     "text": [
      "  3%|██▊                                                                                     | 1598/50000 [36:03<19:15:43,  1.43s/it]sh: 1: Syntax error: EOF in backquote substitution\n",
      "  5%|████▍                                                                                   | 2547/50000 [58:44<19:19:56,  1.47s/it]"
     ]
    },
    {
     "name": "stdout",
     "output_type": "stream",
     "text": [
      "string index out of range\n"
     ]
    },
    {
     "name": "stderr",
     "output_type": "stream",
     "text": [
      "  9%|███████▍                                                                              | 4299/50000 [1:40:24<18:23:05,  1.45s/it]"
     ]
    },
    {
     "name": "stdout",
     "output_type": "stream",
     "text": [
      "string index out of range\n"
     ]
    },
    {
     "name": "stderr",
     "output_type": "stream",
     "text": [
      " 12%|█████████▉                                                                            | 5760/50000 [2:11:12<12:48:03,  1.04s/it]sh: 1: Syntax error: EOF in backquote substitution\n",
      " 12%|██████████▎                                                                           | 5960/50000 [2:15:29<13:55:32,  1.14s/it]sh: 1: Syntax error: EOF in backquote substitution\n",
      " 13%|███████████▍                                                                          | 6634/50000 [2:30:23<14:37:00,  1.21s/it]sh: 1: Syntax error: EOF in backquote substitution\n",
      " 15%|████████████▌                                                                         | 7336/50000 [2:46:05<16:51:17,  1.42s/it]"
     ]
    },
    {
     "name": "stdout",
     "output_type": "stream",
     "text": [
      "string index out of range\n"
     ]
    },
    {
     "name": "stderr",
     "output_type": "stream",
     "text": [
      " 17%|██████████████▌                                                                       | 8453/50000 [3:09:45<21:07:23,  1.83s/it]"
     ]
    },
    {
     "name": "stdout",
     "output_type": "stream",
     "text": [
      "string index out of range\n"
     ]
    },
    {
     "name": "stderr",
     "output_type": "stream",
     "text": [
      " 18%|███████████████▌                                                                      | 9052/50000 [3:22:04<14:58:02,  1.32s/it]"
     ]
    },
    {
     "name": "stdout",
     "output_type": "stream",
     "text": [
      "string index out of range\n"
     ]
    },
    {
     "name": "stderr",
     "output_type": "stream",
     "text": [
      " 18%|███████████████▊                                                                      | 9219/50000 [3:25:38<15:41:20,  1.38s/it]sh: 1: Utara: not found\n",
      " 19%|████████████████▏                                                                     | 9429/50000 [3:29:47<11:02:07,  1.02it/s]sh: 1: Syntax error: EOF in backquote substitution\n",
      " 20%|████████████████▉                                                                     | 9823/50000 [3:37:57<11:56:54,  1.07s/it]sh: 1: Syntax error: EOF in backquote substitution\n",
      " 23%|███████████████████▉                                                                 | 11698/50000 [4:17:26<12:31:29,  1.18s/it]"
     ]
    },
    {
     "name": "stdout",
     "output_type": "stream",
     "text": [
      "string index out of range\n"
     ]
    },
    {
     "name": "stderr",
     "output_type": "stream",
     "text": [
      " 24%|████████████████████▋                                                                | 12196/50000 [4:28:09<14:27:36,  1.38s/it]"
     ]
    },
    {
     "name": "stdout",
     "output_type": "stream",
     "text": [
      "string index out of range\n"
     ]
    },
    {
     "name": "stderr",
     "output_type": "stream",
     "text": [
      " 26%|█████████████████████▋                                                               | 12780/50000 [4:40:36<12:54:19,  1.25s/it]IOPub message rate exceeded.\n",
      "The notebook server will temporarily stop sending output\n",
      "to the client in order to avoid crashing it.\n",
      "To change this limit, set the config variable\n",
      "`--NotebookApp.iopub_msg_rate_limit`.\n",
      "\n",
      "Current values:\n",
      "NotebookApp.iopub_msg_rate_limit=1000.0 (msgs/sec)\n",
      "NotebookApp.rate_limit_window=3.0 (secs)\n",
      "\n",
      " 36%|██████████████████████████████▊                                                      | 18147/50000 [6:35:06<12:01:11,  1.36s/it]sh: 1: Syntax error: EOF in backquote substitution\n",
      " 41%|██████████████████████████████████▉                                                  | 20583/50000 [7:32:15<10:17:27,  1.26s/it]sh: 1: Syntax error: EOF in backquote substitution\n",
      " 44%|█████████████████████████████████████▌                                               | 22118/50000 [8:09:51<13:02:23,  1.68s/it]sh: 1: Syntax error: EOF in backquote substitution\n",
      " 46%|███████████████████████████████████████▊                                              | 23161/50000 [8:34:43<8:30:54,  1.14s/it]sh: 1: Syntax error: EOF in backquote substitution\n",
      " 47%|████████████████████████████████████████                                              | 23281/50000 [8:37:22<9:01:58,  1.22s/it]sh: 1: luar: not found\n",
      " 47%|████████████████████████████████████████▎                                             | 23424/50000 [8:40:37<7:46:16,  1.05s/it]sh: 1: Syntax error: EOF in backquote substitution\n",
      " 47%|████████████████████████████████████████▎                                             | 23444/50000 [8:41:01<7:50:15,  1.06s/it]Segmentation fault (core dumped)\n",
      " 48%|█████████████████████████████████████████▌                                            | 24184/50000 [8:57:01<9:07:50,  1.27s/it]"
     ]
    },
    {
     "name": "stdout",
     "output_type": "stream",
     "text": [
      "string index out of range\n"
     ]
    },
    {
     "name": "stderr",
     "output_type": "stream",
     "text": [
      " 57%|████████████████████████████████████████████████▏                                    | 28365/50000 [10:25:32<7:57:51,  1.33s/it]sh: 1: Syntax error: EOF in backquote substitution\n",
      " 57%|████████████████████████████████████████████████▌                                    | 28534/50000 [10:28:50<6:01:56,  1.01s/it]sh: 1: Syntax error: EOF in backquote substitution\n",
      " 59%|██████████████████████████████████████████████████▏                                  | 29551/50000 [10:48:50<5:31:57,  1.03it/s]IOPub message rate exceeded.\n",
      "The notebook server will temporarily stop sending output\n",
      "to the client in order to avoid crashing it.\n",
      "To change this limit, set the config variable\n",
      "`--NotebookApp.iopub_msg_rate_limit`.\n",
      "\n",
      "Current values:\n",
      "NotebookApp.iopub_msg_rate_limit=1000.0 (msgs/sec)\n",
      "NotebookApp.rate_limit_window=3.0 (secs)\n",
      "\n",
      " 73%|█████████████████████████████████████████████████████████████▋                       | 36260/50000 [12:51:32<3:46:56,  1.01it/s]sh: 1: Syntax error: EOF in backquote substitution\n",
      " 73%|██████████████████████████████████████████████████████████████▎                      | 36684/50000 [12:58:57<3:28:39,  1.06it/s]Segmentation fault (core dumped)\n",
      " 75%|████████████████████████████████████████████████████████████████                     | 37658/50000 [13:16:11<4:13:34,  1.23s/it]"
     ]
    },
    {
     "name": "stdout",
     "output_type": "stream",
     "text": [
      "string index out of range\n"
     ]
    },
    {
     "name": "stderr",
     "output_type": "stream",
     "text": [
      " 78%|██████████████████████████████████████████████████████████████████▋                  | 39198/50000 [13:43:22<3:12:59,  1.07s/it]IOPub message rate exceeded.\n",
      "The notebook server will temporarily stop sending output\n",
      "to the client in order to avoid crashing it.\n",
      "To change this limit, set the config variable\n",
      "`--NotebookApp.iopub_msg_rate_limit`.\n",
      "\n",
      "Current values:\n",
      "NotebookApp.iopub_msg_rate_limit=1000.0 (msgs/sec)\n",
      "NotebookApp.rate_limit_window=3.0 (secs)\n",
      "\n",
      " 99%|█████████████████████████████████████████████████████████████████████████████████████▊ | 49295/50000 [16:39:00<11:04,  1.06it/s]"
     ]
    },
    {
     "name": "stdout",
     "output_type": "stream",
     "text": [
      "string index out of range\n"
     ]
    },
    {
     "name": "stderr",
     "output_type": "stream",
     "text": [
      "100%|██████████████████████████████████████████████████████████████████████████████████████▉| 49950/50000 [16:51:00<00:47,  1.05it/s]"
     ]
    },
    {
     "name": "stdout",
     "output_type": "stream",
     "text": [
      "string index out of range\n"
     ]
    },
    {
     "name": "stderr",
     "output_type": "stream",
     "text": [
      "100%|███████████████████████████████████████████████████████████████████████████████████████| 50000/50000 [16:51:57<00:00,  1.21s/it]\n"
     ]
    }
   ],
   "source": [
    "from tqdm import tqdm\n",
    "\n",
    "for i in tqdm(range(len(data))):\n",
    "    try:\n",
    "        \n",
    "        filename = os.path.join(directory, f'{i}.mp3')\n",
    "        filename_text = os.path.join(directory_text, f'{i}.json')\n",
    "        \n",
    "        if os.path.exists(filename_text):\n",
    "            continue\n",
    "            \n",
    "        n = normalizer.normalize(data[i]['text'], normalize_entity = False)['normalize']\n",
    "        n = postprocessing(n)\n",
    "        if len(n):\n",
    "            generate_tts(n, filename)\n",
    "            with open(filename_text, 'w') as fopen:\n",
    "                json.dump({'original': data[i]['text'], 'normalized': n}, fopen)\n",
    "    except Exception as e:\n",
    "        print(e)"
   ]
  },
  {
   "cell_type": "code",
   "execution_count": 21,
   "id": "b60c6545",
   "metadata": {},
   "outputs": [],
   "source": [
    "# from pydub import AudioSegment\n",
    "# sound = AudioSegment.from_mp3(\"test.mp3\")\n",
    "# sound.export(\"test.wav\", format=\"wav\")"
   ]
  },
  {
   "cell_type": "code",
   "execution_count": 22,
   "id": "10a3e5fc",
   "metadata": {},
   "outputs": [
    {
     "data": {
      "text/plain": [
       "49960"
      ]
     },
     "execution_count": 22,
     "metadata": {},
     "output_type": "execute_result"
    }
   ],
   "source": [
    "from glob import glob\n",
    "mp3s = glob(os.path.join(directory, '*.mp3'))\n",
    "jsons = glob(os.path.join(directory_text, '*.json'))\n",
    "len(mp3s)"
   ]
  },
  {
   "cell_type": "code",
   "execution_count": 23,
   "id": "ec360b65",
   "metadata": {},
   "outputs": [
    {
     "data": {
      "text/plain": [
       "('yasmin-news-edge-tts/36174.mp3', 'yasmin-news-edge-tts-text/138.json')"
      ]
     },
     "execution_count": 23,
     "metadata": {},
     "output_type": "execute_result"
    }
   ],
   "source": [
    "mp3s[0], jsons[0]"
   ]
  },
  {
   "cell_type": "code",
   "execution_count": 24,
   "id": "4a8507ca",
   "metadata": {},
   "outputs": [
    {
     "data": {
      "text/html": [
       "\n",
       "                <audio  controls=\"controls\" >\n",
       "                    <source src=\"data:audio/mpeg;base64,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\" type=\"audio/mpeg\" />\n",
       "                    Your browser does not support the audio element.\n",
       "                </audio>\n",
       "              "
      ],
      "text/plain": [
       "<IPython.lib.display.Audio object>"
      ]
     },
     "execution_count": 24,
     "metadata": {},
     "output_type": "execute_result"
    }
   ],
   "source": [
    "import IPython.display as ipd\n",
    "ipd.Audio(mp3s[0])"
   ]
  },
  {
   "cell_type": "code",
   "execution_count": 27,
   "id": "a14e7d37",
   "metadata": {},
   "outputs": [
    {
     "name": "stdout",
     "output_type": "stream",
     "text": [
      "{\"original\": \"Kejadian itu berlaku di Kota Bharu, Kelantan.\", \"normalized\": \"Kejadian itu berlaku di Kota Bharu , Kelantan .\"}"
     ]
    }
   ],
   "source": [
    "!cat yasmin-news-edge-tts-text/36174.json"
   ]
  }
 ],
 "metadata": {
  "kernelspec": {
   "display_name": "Python 3 (ipykernel)",
   "language": "python",
   "name": "python3"
  },
  "language_info": {
   "codemirror_mode": {
    "name": "ipython",
    "version": 3
   },
   "file_extension": ".py",
   "mimetype": "text/x-python",
   "name": "python",
   "nbconvert_exporter": "python",
   "pygments_lexer": "ipython3",
   "version": "3.8.10"
  }
 },
 "nbformat": 4,
 "nbformat_minor": 5
}
