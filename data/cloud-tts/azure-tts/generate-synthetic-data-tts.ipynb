{
 "cells": [
  {
   "cell_type": "code",
   "execution_count": 41,
   "id": "17ca5022",
   "metadata": {},
   "outputs": [],
   "source": [
    "import string\n",
    "import os\n",
    "\n",
    "os.environ['CUDA_VISIBLE_DEVICES'] = ''\n",
    "os.environ['TF_FORCE_GPU_ALLOW_GROWTH'] = 'true'"
   ]
  },
  {
   "cell_type": "code",
   "execution_count": 42,
   "id": "9f309178",
   "metadata": {},
   "outputs": [
    {
     "name": "stderr",
     "output_type": "stream",
     "text": [
      "/home/ubuntu/.local/lib/python3.8/site-packages/tensorflow_addons/utils/ensure_tf_install.py:53: UserWarning: Tensorflow Addons supports using Python ops for all Tensorflow versions above or equal to 2.3.0 and strictly below 2.5.0 (nightly versions are not supported). \n",
      " The versions of TensorFlow you are currently using is 2.6.0 and is not supported. \n",
      "Some things might work, some things might not.\n",
      "If you were to encounter a bug, do not file an issue.\n",
      "If you want to make sure you're using a tested and supported configuration, either change the TensorFlow version or the TensorFlow Addons's version. \n",
      "You can find the compatibility matrix in TensorFlow Addon's readme:\n",
      "https://github.com/tensorflow/addons\n",
      "  warnings.warn(\n",
      "/home/ubuntu/.local/lib/python3.8/site-packages/tensorflow_addons/utils/resource_loader.py:72: UserWarning: You are currently using TensorFlow 2.6.0 and trying to load a custom op (custom_ops/seq2seq/_beam_search_ops.so).\n",
      "TensorFlow Addons has compiled its custom ops against TensorFlow 2.4.0, and there are no compatibility guarantees between the two versions. \n",
      "This means that you might get segfaults when loading the custom op, or other kind of low-level errors.\n",
      " If you do, do not file an issue on Github. This is a known limitation.\n",
      "\n",
      "It might help you to fallback to pure Python ops with TF_ADDONS_PY_OPS . To do that, see https://github.com/tensorflow/addons#gpucpu-custom-ops \n",
      "\n",
      "You can also change the TensorFlow version installed on your system. You would need a TensorFlow version equal to or above 2.4.0 and strictly below 2.5.0.\n",
      " Note that nightly versions of TensorFlow, as well as non-pip TensorFlow like `conda install tensorflow` or compiled from source are not supported.\n",
      "\n",
      "The last solution is to find the TensorFlow Addons version that has custom ops compatible with the TensorFlow installed on your system. To do that, refer to the readme: https://github.com/tensorflow/addons\n",
      "  warnings.warn(\n",
      "/home/ubuntu/.local/lib/python3.8/site-packages/malaya_boilerplate/frozen_graph.py:35: UserWarning: Cannot import beam_search_ops from Tensorflow Addons, ['malaya.jawi_rumi.deep_model', 'malaya.phoneme.deep_model', 'malaya.rumi_jawi.deep_model', 'malaya.stem.deep_model'] will not available to use, make sure Tensorflow Addons version >= 0.12.0\n",
      "  warnings.warn(\n"
     ]
    }
   ],
   "source": [
    "import malaya"
   ]
  },
  {
   "cell_type": "code",
   "execution_count": 2,
   "id": "4b46efcb",
   "metadata": {},
   "outputs": [
    {
     "data": {
      "text/plain": [
       "['Formatter',\n",
       " 'Template',\n",
       " '_ChainMap',\n",
       " '_TemplateMetaclass',\n",
       " '__all__',\n",
       " '__builtins__',\n",
       " '__cached__',\n",
       " '__doc__',\n",
       " '__file__',\n",
       " '__loader__',\n",
       " '__name__',\n",
       " '__package__',\n",
       " '__spec__',\n",
       " '_re',\n",
       " '_sentinel_dict',\n",
       " '_string',\n",
       " 'ascii_letters',\n",
       " 'ascii_lowercase',\n",
       " 'ascii_uppercase',\n",
       " 'capwords',\n",
       " 'digits',\n",
       " 'hexdigits',\n",
       " 'octdigits',\n",
       " 'printable',\n",
       " 'punctuation',\n",
       " 'whitespace']"
      ]
     },
     "execution_count": 2,
     "metadata": {},
     "output_type": "execute_result"
    }
   ],
   "source": [
    "dir(string)"
   ]
  },
  {
   "cell_type": "code",
   "execution_count": 3,
   "id": "b367230d",
   "metadata": {},
   "outputs": [
    {
     "data": {
      "text/plain": [
       "'abcdefghijklmnopqrstuvwxyzABCDEFGHIJKLMNOPQRSTUVWXYZ'"
      ]
     },
     "execution_count": 3,
     "metadata": {},
     "output_type": "execute_result"
    }
   ],
   "source": [
    "string.ascii_letters"
   ]
  },
  {
   "cell_type": "code",
   "execution_count": 4,
   "id": "e844de73",
   "metadata": {},
   "outputs": [],
   "source": [
    "import os\n",
    "\n",
    "def generate_tts(text, filename):\n",
    "    text = text.replace('\"', r'\\\"').replace(\"'\", r'\\'')\n",
    "    command = f'~/.local/bin/edge-tts --voice ms-MY-OsmanNeural --text \"{text}\" --write-media {filename}'\n",
    "    # print(command)\n",
    "    os.system(command)"
   ]
  },
  {
   "cell_type": "code",
   "execution_count": 15,
   "id": "f3cbd43a",
   "metadata": {},
   "outputs": [],
   "source": [
    "generate_tts('O A URQYtX jlIP B', 'test.mp3')"
   ]
  },
  {
   "cell_type": "code",
   "execution_count": 16,
   "id": "dac59046",
   "metadata": {},
   "outputs": [
    {
     "data": {
      "text/html": [
       "\n",
       "                <audio  controls=\"controls\" >\n",
       "                    <source src=\"data:audio/mpeg;base64,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\" type=\"audio/mpeg\" />\n",
       "                    Your browser does not support the audio element.\n",
       "                </audio>\n",
       "              "
      ],
      "text/plain": [
       "<IPython.lib.display.Audio object>"
      ]
     },
     "execution_count": 16,
     "metadata": {},
     "output_type": "execute_result"
    }
   ],
   "source": [
    "import IPython.display as ipd\n",
    "ipd.Audio('test.mp3')"
   ]
  },
  {
   "cell_type": "code",
   "execution_count": 59,
   "id": "5ff68d90",
   "metadata": {},
   "outputs": [],
   "source": [
    "import random\n",
    "\n",
    "def generate(min_len = 1, max_len = 20):\n",
    "    r_len = random.randint(min_len, max_len)\n",
    "    s = []\n",
    "    for i in range(r_len):\n",
    "        s.append(random.choice(string.ascii_letters))\n",
    "        if random.random() > 0.7:\n",
    "            s.append(' ')\n",
    "    return ''.join(s)\n",
    "\n",
    "def sample_number():\n",
    "    numbers = random.sample(string.digits, random.randint(1, len(string.digits) - 1))\n",
    "    r = [malaya.num2word.to_cardinal(int(n)) for n in numbers]\n",
    "    return r\n",
    "    \n",
    "def slide(n = 4):\n",
    "    s = []\n",
    "    for i in range(0, len(string.ascii_letters), n):\n",
    "        s.append(string.ascii_letters[i: i + n])\n",
    "    return s\n",
    "\n",
    "def slide_with_numbers(n = 4):\n",
    "    s = []\n",
    "    for i in range(0, len(string.ascii_letters), n):\n",
    "        s.append(string.ascii_letters[i: i + n] + ' ' + ' '.join(sample_number()))\n",
    "    return s\n",
    "\n",
    "def slide_with_space(n = 4):\n",
    "    s = []\n",
    "    for i in range(0, len(string.ascii_letters), n):\n",
    "        s.append(' '.join(string.ascii_letters[i: i + n]))\n",
    "    return s\n",
    "\n",
    "def slide_with_space_numbers(n = 4):\n",
    "    s = []\n",
    "    for i in range(0, len(string.ascii_letters), n):\n",
    "        s.append(' '.join(string.ascii_letters[i: i + n]) + ' ' + ' '.join(sample_number()))\n",
    "    return s"
   ]
  },
  {
   "cell_type": "code",
   "execution_count": 60,
   "id": "22e17fbf",
   "metadata": {},
   "outputs": [
    {
     "data": {
      "text/plain": [
       "['abcd lima enam satu sembilan tiga kosong tujuh dua',\n",
       " 'efgh dua kosong satu lapan empat tujuh lima tiga sembilan',\n",
       " 'ijkl satu dua lapan enam kosong tiga sembilan lima tujuh',\n",
       " 'mnop enam satu dua sembilan tujuh tiga lima empat',\n",
       " 'qrst dua enam empat lapan satu tiga sembilan kosong',\n",
       " 'uvwx lapan lima',\n",
       " 'yzAB satu lima lapan enam dua',\n",
       " 'CDEF sembilan dua lima lapan satu empat enam',\n",
       " 'GHIJ sembilan lima tiga enam satu',\n",
       " 'KLMN kosong lima lapan sembilan tiga satu empat tujuh enam',\n",
       " 'OPQR lapan',\n",
       " 'STUV empat enam satu tujuh dua lapan tiga kosong sembilan',\n",
       " 'WXYZ dua sembilan lapan']"
      ]
     },
     "execution_count": 60,
     "metadata": {},
     "output_type": "execute_result"
    }
   ],
   "source": [
    "slide_with_numbers()"
   ]
  },
  {
   "cell_type": "code",
   "execution_count": 68,
   "id": "321ec956",
   "metadata": {},
   "outputs": [
    {
     "data": {
      "text/plain": [
       "600"
      ]
     },
     "execution_count": 68,
     "metadata": {},
     "output_type": "execute_result"
    }
   ],
   "source": [
    "X = []\n",
    "for i in range(1, 10):\n",
    "    X.extend(slide(n = i))\n",
    "    X.extend(slide_with_space(n = i))\n",
    "    X.extend(slide_with_numbers(n = i))\n",
    "    X.extend(slide_with_space_numbers(n = i))\n",
    "len(X)"
   ]
  },
  {
   "cell_type": "code",
   "execution_count": 69,
   "id": "f63ea230",
   "metadata": {},
   "outputs": [],
   "source": [
    "for d in string.digits:\n",
    "    X.append(malaya.num2word.to_cardinal(int(d)))"
   ]
  },
  {
   "cell_type": "code",
   "execution_count": 70,
   "id": "ed2f7469",
   "metadata": {},
   "outputs": [
    {
     "data": {
      "text/plain": [
       "['kosong',\n",
       " 'satu',\n",
       " 'dua',\n",
       " 'tiga',\n",
       " 'empat',\n",
       " 'lima',\n",
       " 'enam',\n",
       " 'tujuh',\n",
       " 'lapan',\n",
       " 'sembilan']"
      ]
     },
     "execution_count": 70,
     "metadata": {},
     "output_type": "execute_result"
    }
   ],
   "source": [
    "X[-10:]"
   ]
  },
  {
   "cell_type": "code",
   "execution_count": 72,
   "id": "ca00d665",
   "metadata": {},
   "outputs": [],
   "source": [
    "import json\n",
    "\n",
    "with open('synthetic-data-tts.json', 'w') as fopen:\n",
    "    json.dump(X, fopen)"
   ]
  }
 ],
 "metadata": {
  "kernelspec": {
   "display_name": "Python 3 (ipykernel)",
   "language": "python",
   "name": "python3"
  },
  "language_info": {
   "codemirror_mode": {
    "name": "ipython",
    "version": 3
   },
   "file_extension": ".py",
   "mimetype": "text/x-python",
   "name": "python",
   "nbconvert_exporter": "python",
   "pygments_lexer": "ipython3",
   "version": "3.8.10"
  }
 },
 "nbformat": 4,
 "nbformat_minor": 5
}
