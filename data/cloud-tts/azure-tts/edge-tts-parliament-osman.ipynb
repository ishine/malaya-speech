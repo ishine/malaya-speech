{
 "cells": [
  {
   "cell_type": "code",
   "execution_count": 1,
   "id": "20f0a794",
   "metadata": {},
   "outputs": [],
   "source": [
    "# !~/.local/bin/edge-tts --list-voices\n",
    "# ms-MY-OsmanNeural, ms-MY-YasminNeural\n",
    "# !~/.local/bin/edge-tts --voice ms-MY-OsmanNeural --text \"saya suka makan ayam.\" --write-media test.wav"
   ]
  },
  {
   "cell_type": "code",
   "execution_count": 2,
   "id": "cb9c73d1",
   "metadata": {},
   "outputs": [],
   "source": [
    "# !wget https://huggingface.co/datasets/huseinzol05/Malay-TTS-Yasmin/resolve/main/populated-parliament.json"
   ]
  },
  {
   "cell_type": "code",
   "execution_count": 3,
   "id": "89a1fac2",
   "metadata": {},
   "outputs": [],
   "source": [
    "import os\n",
    "\n",
    "os.environ['CUDA_VISIBLE_DEVICES'] = ''\n",
    "os.environ['TF_FORCE_GPU_ALLOW_GROWTH'] = 'true'"
   ]
  },
  {
   "cell_type": "code",
   "execution_count": 4,
   "id": "a949cade",
   "metadata": {},
   "outputs": [],
   "source": [
    "import json\n",
    "\n",
    "with open('populated-parliament.json') as fopen:\n",
    "    data = json.load(fopen)"
   ]
  },
  {
   "cell_type": "code",
   "execution_count": 5,
   "id": "0cb90f59",
   "metadata": {},
   "outputs": [
    {
     "data": {
      "text/plain": [
       "'PERDAGANGAN ANTARABANGSA DAN INDUSTRI menyatakan usaha memastikan pihak industri boleh mendapat para pekerja asing dengan kos munasabah tanpa dieksploitasikan dan birokrasi .'"
      ]
     },
     "execution_count": 5,
     "metadata": {},
     "output_type": "execute_result"
    }
   ],
   "source": [
    "data[0]['text']"
   ]
  },
  {
   "cell_type": "code",
   "execution_count": 6,
   "id": "e2f75f15",
   "metadata": {
    "scrolled": true
   },
   "outputs": [
    {
     "name": "stderr",
     "output_type": "stream",
     "text": [
      "/home/ubuntu/.local/lib/python3.8/site-packages/tensorflow_addons/utils/ensure_tf_install.py:53: UserWarning: Tensorflow Addons supports using Python ops for all Tensorflow versions above or equal to 2.3.0 and strictly below 2.5.0 (nightly versions are not supported). \n",
      " The versions of TensorFlow you are currently using is 2.6.0 and is not supported. \n",
      "Some things might work, some things might not.\n",
      "If you were to encounter a bug, do not file an issue.\n",
      "If you want to make sure you're using a tested and supported configuration, either change the TensorFlow version or the TensorFlow Addons's version. \n",
      "You can find the compatibility matrix in TensorFlow Addon's readme:\n",
      "https://github.com/tensorflow/addons\n",
      "  warnings.warn(\n",
      "/home/ubuntu/.local/lib/python3.8/site-packages/tensorflow_addons/utils/resource_loader.py:72: UserWarning: You are currently using TensorFlow 2.6.0 and trying to load a custom op (custom_ops/seq2seq/_beam_search_ops.so).\n",
      "TensorFlow Addons has compiled its custom ops against TensorFlow 2.4.0, and there are no compatibility guarantees between the two versions. \n",
      "This means that you might get segfaults when loading the custom op, or other kind of low-level errors.\n",
      " If you do, do not file an issue on Github. This is a known limitation.\n",
      "\n",
      "It might help you to fallback to pure Python ops with TF_ADDONS_PY_OPS . To do that, see https://github.com/tensorflow/addons#gpucpu-custom-ops \n",
      "\n",
      "You can also change the TensorFlow version installed on your system. You would need a TensorFlow version equal to or above 2.4.0 and strictly below 2.5.0.\n",
      " Note that nightly versions of TensorFlow, as well as non-pip TensorFlow like `conda install tensorflow` or compiled from source are not supported.\n",
      "\n",
      "The last solution is to find the TensorFlow Addons version that has custom ops compatible with the TensorFlow installed on your system. To do that, refer to the readme: https://github.com/tensorflow/addons\n",
      "  warnings.warn(\n",
      "/home/ubuntu/.local/lib/python3.8/site-packages/malaya_boilerplate/frozen_graph.py:35: UserWarning: Cannot import beam_search_ops from Tensorflow Addons, ['malaya.jawi_rumi.deep_model', 'malaya.phoneme.deep_model', 'malaya.rumi_jawi.deep_model', 'malaya.stem.deep_model'] will not available to use, make sure Tensorflow Addons version >= 0.12.0\n",
      "  warnings.warn(\n"
     ]
    }
   ],
   "source": [
    "import malaya\n",
    "\n",
    "normalizer = malaya.normalize.normalizer()"
   ]
  },
  {
   "cell_type": "code",
   "execution_count": 7,
   "id": "753699e9",
   "metadata": {},
   "outputs": [],
   "source": [
    "directory = 'osman-parliament-edge-tts'\n",
    "directory_text = 'osman-parliament-edge-tts-text'"
   ]
  },
  {
   "cell_type": "code",
   "execution_count": 8,
   "id": "71018ea2",
   "metadata": {},
   "outputs": [
    {
     "data": {
      "text/plain": [
       "0"
      ]
     },
     "execution_count": 8,
     "metadata": {},
     "output_type": "execute_result"
    }
   ],
   "source": [
    "os.system(f'rm -rf {directory}')\n",
    "os.system(f'rm -rf {directory_text}')"
   ]
  },
  {
   "cell_type": "code",
   "execution_count": 9,
   "id": "251f2b7a",
   "metadata": {},
   "outputs": [],
   "source": [
    "os.makedirs(directory, exist_ok = True)\n",
    "os.makedirs(directory_text, exist_ok = True)"
   ]
  },
  {
   "cell_type": "code",
   "execution_count": 10,
   "id": "e4c30c3e",
   "metadata": {},
   "outputs": [],
   "source": [
    "def generate_tts(text, filename):\n",
    "    text = text.replace('\"', r'\\\"').replace(\"'\", r'\\'')\n",
    "    command = f'~/.local/bin/edge-tts --voice ms-MY-OsmanNeural --text \"{text}\" --write-media {filename}'\n",
    "    # print(command)\n",
    "    os.system(command)"
   ]
  },
  {
   "cell_type": "code",
   "execution_count": 11,
   "id": "63f17de1",
   "metadata": {},
   "outputs": [
    {
     "data": {
      "text/plain": [
       "{'text': 'Daripada jumlah tersebut , sebanyak RM5.82 juta telah diagihkan kepada JPN Sabah untuk suku tahun pertama 2016 .',\n",
       " 'cleaned': 'Daripada jumlah tersebut , sebanyak RM 5.82 juta telah diagihkan kepada JPN Sabah untuk suku tahun pertama 2016 .'}"
      ]
     },
     "execution_count": 11,
     "metadata": {},
     "output_type": "execute_result"
    }
   ],
   "source": [
    "data[7]"
   ]
  },
  {
   "cell_type": "code",
   "execution_count": 12,
   "id": "a9f6afbb",
   "metadata": {},
   "outputs": [],
   "source": [
    "n = normalizer.normalize('Daripada jumlah tersebut , / sebanyak RM5.82 bilion telah diagihkan kepada JPN Sabah untuk suku tahun pertama 2016 .',\n",
    "                    normalize_entity = False)['normalize']"
   ]
  },
  {
   "cell_type": "code",
   "execution_count": 13,
   "id": "af291829",
   "metadata": {},
   "outputs": [
    {
     "data": {
      "text/plain": [
       "'Daripada jumlah tersebut , sebanyak lima bilion lapan ratus dua puluh juta ringgit telah diagihkan kepada JPN Sabah untuk suku tahun pertama dua ribu enam belas .'"
      ]
     },
     "execution_count": 13,
     "metadata": {},
     "output_type": "execute_result"
    }
   ],
   "source": [
    "import re\n",
    "\n",
    "def postprocessing(string):\n",
    "    string = string.replace('/', ' ').replace('*', ' ').replace('=', ' ')\n",
    "    return re.sub(r'[ ]+', ' ', string).strip()\n",
    "\n",
    "postprocessing(n)"
   ]
  },
  {
   "cell_type": "code",
   "execution_count": 14,
   "id": "6c901c6f",
   "metadata": {},
   "outputs": [
    {
     "data": {
      "text/plain": [
       "'hidup - -'"
      ]
     },
     "execution_count": 14,
     "metadata": {},
     "output_type": "execute_result"
    }
   ],
   "source": [
    "n = normalizer.normalize('=== hidup === --', normalize_entity = False)['normalize']\n",
    "n = postprocessing(n)\n",
    "n"
   ]
  },
  {
   "cell_type": "code",
   "execution_count": 15,
   "id": "99677f32",
   "metadata": {},
   "outputs": [],
   "source": [
    "generate_tts(n, 'test.mp3')"
   ]
  },
  {
   "cell_type": "code",
   "execution_count": 16,
   "id": "b75e621c",
   "metadata": {},
   "outputs": [
    {
     "data": {
      "text/html": [
       "\n",
       "                <audio  controls=\"controls\" >\n",
       "                    <source src=\"data:audio/mpeg;base64,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\" type=\"audio/mpeg\" />\n",
       "                    Your browser does not support the audio element.\n",
       "                </audio>\n",
       "              "
      ],
      "text/plain": [
       "<IPython.lib.display.Audio object>"
      ]
     },
     "execution_count": 16,
     "metadata": {},
     "output_type": "execute_result"
    }
   ],
   "source": [
    "import IPython.display as ipd\n",
    "ipd.Audio('test.mp3')"
   ]
  },
  {
   "cell_type": "code",
   "execution_count": 17,
   "id": "693eac19",
   "metadata": {},
   "outputs": [
    {
     "name": "stderr",
     "output_type": "stream",
     "text": [
      "  6%|████▉                                                                                   | 3336/59604 [56:55<15:45:36,  1.01s/it]"
     ]
    },
    {
     "name": "stdout",
     "output_type": "stream",
     "text": [
      "string index out of range\n"
     ]
    },
    {
     "name": "stderr",
     "output_type": "stream",
     "text": [
      "  9%|███████▌                                                                               | 5146/59604 [1:21:48<7:47:31,  1.94it/s]"
     ]
    },
    {
     "name": "stdout",
     "output_type": "stream",
     "text": [
      "string index out of range\n"
     ]
    },
    {
     "name": "stderr",
     "output_type": "stream",
     "text": [
      " 12%|██████████▌                                                                           | 7309/59604 [2:05:11<19:52:16,  1.37s/it]"
     ]
    },
    {
     "name": "stdout",
     "output_type": "stream",
     "text": [
      "string index out of range\n"
     ]
    },
    {
     "name": "stderr",
     "output_type": "stream",
     "text": [
      " 13%|███████████▍                                                                          | 7892/59604 [2:18:21<19:51:11,  1.38s/it]"
     ]
    },
    {
     "name": "stdout",
     "output_type": "stream",
     "text": [
      "string index out of range\n"
     ]
    },
    {
     "name": "stderr",
     "output_type": "stream",
     "text": [
      " 17%|██████████████▍                                                                      | 10159/59604 [3:11:27<22:00:48,  1.60s/it]"
     ]
    },
    {
     "name": "stdout",
     "output_type": "stream",
     "text": [
      "string index out of range\n"
     ]
    },
    {
     "name": "stderr",
     "output_type": "stream",
     "text": [
      " 21%|█████████████████▌                                                                   | 12313/59604 [4:00:28<19:50:14,  1.51s/it]"
     ]
    },
    {
     "name": "stdout",
     "output_type": "stream",
     "text": [
      "string index out of range\n"
     ]
    },
    {
     "name": "stderr",
     "output_type": "stream",
     "text": [
      " 23%|███████████████████▋                                                                 | 13831/59604 [4:34:44<18:11:10,  1.43s/it]"
     ]
    },
    {
     "name": "stdout",
     "output_type": "stream",
     "text": [
      "string index out of range\n"
     ]
    },
    {
     "name": "stderr",
     "output_type": "stream",
     "text": [
      " 23%|███████████████████▊                                                                 | 13909/59604 [4:36:34<19:35:07,  1.54s/it]"
     ]
    },
    {
     "name": "stdout",
     "output_type": "stream",
     "text": [
      "string index out of range\n"
     ]
    },
    {
     "name": "stderr",
     "output_type": "stream",
     "text": [
      " 33%|███████████████████████████▋                                                         | 19456/59604 [6:37:26<12:45:25,  1.14s/it]"
     ]
    },
    {
     "name": "stdout",
     "output_type": "stream",
     "text": [
      "string index out of range\n"
     ]
    },
    {
     "name": "stderr",
     "output_type": "stream",
     "text": [
      " 34%|████████████████████████████▋                                                        | 20125/59604 [6:51:46<12:26:45,  1.13s/it]"
     ]
    },
    {
     "name": "stdout",
     "output_type": "stream",
     "text": [
      "string index out of range\n"
     ]
    },
    {
     "name": "stderr",
     "output_type": "stream",
     "text": [
      " 39%|█████████████████████████████████▌                                                   | 23507/59604 [7:59:17<11:33:16,  1.15s/it]IOPub message rate exceeded.\n",
      "The notebook server will temporarily stop sending output\n",
      "to the client in order to avoid crashing it.\n",
      "To change this limit, set the config variable\n",
      "`--NotebookApp.iopub_msg_rate_limit`.\n",
      "\n",
      "Current values:\n",
      "NotebookApp.iopub_msg_rate_limit=1000.0 (msgs/sec)\n",
      "NotebookApp.rate_limit_window=3.0 (secs)\n",
      "\n",
      " 50%|██████████████████████████████████████████▉                                           | 29785/59604 [9:56:47<7:49:49,  1.06it/s]IOPub message rate exceeded.\n",
      "The notebook server will temporarily stop sending output\n",
      "to the client in order to avoid crashing it.\n",
      "To change this limit, set the config variable\n",
      "`--NotebookApp.iopub_msg_rate_limit`.\n",
      "\n",
      "Current values:\n",
      "NotebookApp.iopub_msg_rate_limit=1000.0 (msgs/sec)\n",
      "NotebookApp.rate_limit_window=3.0 (secs)\n",
      "\n",
      " 63%|█████████████████████████████████████████████████████▏                               | 37263/59604 [12:17:01<7:16:43,  1.17s/it]IOPub message rate exceeded.\n",
      "The notebook server will temporarily stop sending output\n",
      "to the client in order to avoid crashing it.\n",
      "To change this limit, set the config variable\n",
      "`--NotebookApp.iopub_msg_rate_limit`.\n",
      "\n",
      "Current values:\n",
      "NotebookApp.iopub_msg_rate_limit=1000.0 (msgs/sec)\n",
      "NotebookApp.rate_limit_window=3.0 (secs)\n",
      "\n",
      " 75%|███████████████████████████████████████████████████████████████▋                     | 44643/59604 [14:50:20<5:16:19,  1.27s/it]"
     ]
    },
    {
     "name": "stdout",
     "output_type": "stream",
     "text": [
      "string index out of range\n"
     ]
    },
    {
     "name": "stderr",
     "output_type": "stream",
     "text": [
      " 81%|████████████████████████████████████████████████████████████████████▊                | 48290/59604 [16:13:59<4:35:42,  1.46s/it]"
     ]
    },
    {
     "name": "stdout",
     "output_type": "stream",
     "text": [
      "string index out of range\n"
     ]
    },
    {
     "name": "stderr",
     "output_type": "stream",
     "text": [
      " 87%|█████████████████████████████████████████████████████████████████████████▉           | 51827/59604 [17:35:44<2:24:54,  1.12s/it]"
     ]
    },
    {
     "name": "stdout",
     "output_type": "stream",
     "text": [
      "string index out of range\n"
     ]
    },
    {
     "name": "stderr",
     "output_type": "stream",
     "text": [
      " 89%|███████████████████████████████████████████████████████████████████████████▍         | 52863/59604 [17:58:23<2:33:38,  1.37s/it]"
     ]
    },
    {
     "name": "stdout",
     "output_type": "stream",
     "text": [
      "string index out of range\n"
     ]
    },
    {
     "name": "stderr",
     "output_type": "stream",
     "text": [
      " 95%|████████████████████████████████████████████████████████████████████████████████▉    | 56733/59604 [19:27:21<1:13:23,  1.53s/it]"
     ]
    },
    {
     "name": "stdout",
     "output_type": "stream",
     "text": [
      "string index out of range\n"
     ]
    },
    {
     "name": "stderr",
     "output_type": "stream",
     "text": [
      " 97%|████████████████████████████████████████████████████████████████████████████████████▏  | 57642/59604 [19:48:50<42:47,  1.31s/it]"
     ]
    },
    {
     "name": "stdout",
     "output_type": "stream",
     "text": [
      "string index out of range\n"
     ]
    },
    {
     "name": "stderr",
     "output_type": "stream",
     "text": [
      " 98%|█████████████████████████████████████████████████████████████████████████████████████▍ | 58564/59604 [20:10:11<22:28,  1.30s/it]"
     ]
    },
    {
     "name": "stdout",
     "output_type": "stream",
     "text": [
      "string index out of range\n"
     ]
    },
    {
     "name": "stderr",
     "output_type": "stream",
     "text": [
      "100%|███████████████████████████████████████████████████████████████████████████████████████| 59604/59604 [20:37:23<00:00,  1.25s/it]\n"
     ]
    }
   ],
   "source": [
    "from tqdm import tqdm\n",
    "\n",
    "for i in tqdm(range(len(data))):\n",
    "    try:\n",
    "        \n",
    "        filename = os.path.join(directory, f'{i}.mp3')\n",
    "        filename_text = os.path.join(directory_text, f'{i}.json')\n",
    "        \n",
    "        if os.path.exists(filename_text):\n",
    "            continue\n",
    "            \n",
    "        n = normalizer.normalize(data[i]['text'], normalize_entity = False)['normalize']\n",
    "        n = postprocessing(n)\n",
    "        if len(n):\n",
    "            generate_tts(n, filename)\n",
    "            with open(filename_text, 'w') as fopen:\n",
    "                json.dump({'original': data[i]['text'], 'normalized': n}, fopen)\n",
    "    except Exception as e:\n",
    "        print(e)"
   ]
  },
  {
   "cell_type": "code",
   "execution_count": 18,
   "id": "4252507f",
   "metadata": {},
   "outputs": [],
   "source": [
    "# from pydub import AudioSegment\n",
    "# sound = AudioSegment.from_mp3(\"test.mp3\")\n",
    "# sound.export(\"test.wav\", format=\"wav\")"
   ]
  },
  {
   "cell_type": "code",
   "execution_count": 20,
   "id": "5bfe322e",
   "metadata": {},
   "outputs": [
    {
     "data": {
      "text/plain": [
       "59582"
      ]
     },
     "execution_count": 20,
     "metadata": {},
     "output_type": "execute_result"
    }
   ],
   "source": [
    "from glob import glob\n",
    "mp3s = glob(os.path.join(directory, '*.mp3'))\n",
    "jsons = glob(os.path.join(directory_text, '*.json'))\n",
    "len(mp3s)"
   ]
  },
  {
   "cell_type": "code",
   "execution_count": null,
   "id": "3f4a993f",
   "metadata": {},
   "outputs": [],
   "source": [
    "import IPython.display as ipd\n",
    "ipd.Audio('osman-parliament-edge-tts/12.mp3')"
   ]
  },
  {
   "cell_type": "code",
   "execution_count": null,
   "id": "42799dc3",
   "metadata": {},
   "outputs": [],
   "source": [
    "with open('osman-parliament-edge-tts-text/15.txt') as fopen:\n",
    "    print(fopen.read())"
   ]
  },
  {
   "cell_type": "code",
   "execution_count": null,
   "id": "7e29e55c",
   "metadata": {},
   "outputs": [],
   "source": [
    "for t in jsons:\n",
    "    with open(t) as fopen:\n",
    "        print(t, json.load(fopen))"
   ]
  },
  {
   "cell_type": "code",
   "execution_count": null,
   "id": "3b777870",
   "metadata": {},
   "outputs": [],
   "source": []
  }
 ],
 "metadata": {
  "kernelspec": {
   "display_name": "Python 3 (ipykernel)",
   "language": "python",
   "name": "python3"
  },
  "language_info": {
   "codemirror_mode": {
    "name": "ipython",
    "version": 3
   },
   "file_extension": ".py",
   "mimetype": "text/x-python",
   "name": "python",
   "nbconvert_exporter": "python",
   "pygments_lexer": "ipython3",
   "version": "3.8.10"
  }
 },
 "nbformat": 4,
 "nbformat_minor": 5
}
