{
 "cells": [
  {
   "cell_type": "code",
   "execution_count": 1,
   "id": "f8db2a04",
   "metadata": {},
   "outputs": [],
   "source": [
    "# !wget https://f000.backblazeb2.com/file/malay-dataset/wikidump1-raw.json\n",
    "# !wget https://f000.backblazeb2.com/file/malay-dataset/dumping/news/dumping-news-6-july-2019.json"
   ]
  },
  {
   "cell_type": "code",
   "execution_count": 2,
   "id": "0aacbea3",
   "metadata": {},
   "outputs": [],
   "source": [
    "import json"
   ]
  },
  {
   "cell_type": "code",
   "execution_count": 3,
   "id": "b2956640",
   "metadata": {},
   "outputs": [
    {
     "data": {
      "text/plain": [
       "1748387"
      ]
     },
     "execution_count": 3,
     "metadata": {},
     "output_type": "execute_result"
    }
   ],
   "source": [
    "with open('wikidump1-raw.json') as fopen:\n",
    "    wiki = json.load(fopen)\n",
    "    \n",
    "len(wiki)"
   ]
  },
  {
   "cell_type": "code",
   "execution_count": 4,
   "id": "a7a67c4d",
   "metadata": {},
   "outputs": [
    {
     "data": {
      "text/plain": [
       "399251"
      ]
     },
     "execution_count": 4,
     "metadata": {},
     "output_type": "execute_result"
    }
   ],
   "source": [
    "with open('dumping-news-6-july-2019.json') as fopen:\n",
    "    news = json.load(fopen)\n",
    "    \n",
    "len(news)\n"
   ]
  },
  {
   "cell_type": "code",
   "execution_count": 5,
   "id": "d1ff081d",
   "metadata": {},
   "outputs": [
    {
     "name": "stderr",
     "output_type": "stream",
     "text": [
      "100%|█████████████████████████████████████████████████████████████████████████████████| 1748387/1748387 [00:01<00:00, 1394226.33it/s]\n"
     ]
    }
   ],
   "source": [
    "from tqdm import tqdm\n",
    "\n",
    "min_len = 2\n",
    "max_len = 20\n",
    "\n",
    "selected_wiki = []\n",
    "for t in tqdm(wiki):\n",
    "    l = len(t.split())\n",
    "    if min_len < l < max_len:\n",
    "        selected_wiki.append(t)"
   ]
  },
  {
   "cell_type": "code",
   "execution_count": 6,
   "id": "09080512",
   "metadata": {},
   "outputs": [
    {
     "name": "stderr",
     "output_type": "stream",
     "text": [
      "100%|███████████████████████████████████████████████████████████████████████████████████| 399251/399251 [00:00<00:00, 1243611.48it/s]\n"
     ]
    }
   ],
   "source": [
    "selected_news = []\n",
    "for t in tqdm(news):\n",
    "    l = len(t.split())\n",
    "    if min_len < l < max_len:\n",
    "        selected_news.append(t)"
   ]
  },
  {
   "cell_type": "code",
   "execution_count": 7,
   "id": "b4524e7e",
   "metadata": {},
   "outputs": [
    {
     "data": {
      "text/plain": [
       "(1077492, 196733)"
      ]
     },
     "execution_count": 7,
     "metadata": {},
     "output_type": "execute_result"
    }
   ],
   "source": [
    "len(selected_wiki), len(selected_news)"
   ]
  },
  {
   "cell_type": "code",
   "execution_count": 8,
   "id": "285f89c8",
   "metadata": {},
   "outputs": [],
   "source": [
    "import re\n",
    "from unidecode import unidecode\n",
    "\n",
    "def put_spacing_num(string):\n",
    "    string = re.sub('[A-Za-z]+', lambda ele: ' ' + ele[0] + ' ', string)\n",
    "    return re.sub(r'[ ]+', ' ', string).strip()\n",
    "\n",
    "def convert_to_ascii(string):\n",
    "    return unidecode(string)\n",
    "\n",
    "def collapse_whitespace(string):\n",
    "    return re.sub(_whitespace_re, ' ', string)\n",
    "\n",
    "def cleaning(string, normalize = True, add_eos = False):\n",
    "    sequence = []\n",
    "    string = convert_to_ascii(string)\n",
    "    string = re.sub(r'[ ]+', ' ', string).strip()\n",
    "    if string[-1] in ['-', ',']:\n",
    "        string = string[:-1]\n",
    "    if string[-1] != '.':\n",
    "        string = string + '.'\n",
    "    string = put_spacing_num(string)\n",
    "    string = re.sub(r'[ ]+', ' ', string).strip()\n",
    "    string = string\n",
    "    return string"
   ]
  },
  {
   "cell_type": "code",
   "execution_count": 12,
   "id": "3bebd478",
   "metadata": {},
   "outputs": [],
   "source": [
    "import random\n",
    "\n",
    "samples = random.sample(selected_wiki, 120000)\n",
    "samples = [{'text': t, 'cleaned': cleaning(t)} for t in samples]"
   ]
  },
  {
   "cell_type": "code",
   "execution_count": 13,
   "id": "fd3d83c5",
   "metadata": {},
   "outputs": [
    {
     "data": {
      "text/plain": [
       "{'text': \"Dekad '''1280-an SM''' merupakan tahun-tahun dari 1289 SM hingga 1280 SM.\",\n",
       " 'cleaned': \"Dekad '''1280- an SM ''' merupakan tahun - tahun dari 1289 SM hingga 1280 SM .\"}"
      ]
     },
     "execution_count": 13,
     "metadata": {},
     "output_type": "execute_result"
    }
   ],
   "source": [
    "samples[-1]"
   ]
  },
  {
   "cell_type": "code",
   "execution_count": 14,
   "id": "98039789",
   "metadata": {},
   "outputs": [],
   "source": [
    "with open('populated-wiki.json', 'w') as fopen:\n",
    "    json.dump(samples, fopen)"
   ]
  }
 ],
 "metadata": {
  "kernelspec": {
   "display_name": "Python 3 (ipykernel)",
   "language": "python",
   "name": "python3"
  },
  "language_info": {
   "codemirror_mode": {
    "name": "ipython",
    "version": 3
   },
   "file_extension": ".py",
   "mimetype": "text/x-python",
   "name": "python",
   "nbconvert_exporter": "python",
   "pygments_lexer": "ipython3",
   "version": "3.8.10"
  }
 },
 "nbformat": 4,
 "nbformat_minor": 5
}
