{
 "cells": [
  {
   "cell_type": "code",
   "execution_count": 2,
   "id": "5c761ad2",
   "metadata": {},
   "outputs": [],
   "source": [
    "from glob import glob\n",
    "import os"
   ]
  },
  {
   "cell_type": "code",
   "execution_count": 24,
   "id": "7ce0e55e",
   "metadata": {},
   "outputs": [
    {
     "data": {
      "text/plain": [
       "59582"
      ]
     },
     "execution_count": 24,
     "metadata": {},
     "output_type": "execute_result"
    }
   ],
   "source": [
    "directory = 'osman-parliament-edge-tts'\n",
    "mp3s = glob(os.path.join(directory, '*.mp3'))\n",
    "len(mp3s)"
   ]
  },
  {
   "cell_type": "code",
   "execution_count": 26,
   "id": "6685cc97",
   "metadata": {},
   "outputs": [],
   "source": [
    "directory_wav = f'{directory}-wav'\n",
    "os.makedirs(directory_wav, exist_ok = True)"
   ]
  },
  {
   "cell_type": "code",
   "execution_count": 27,
   "id": "6eb6bffd",
   "metadata": {},
   "outputs": [
    {
     "data": {
      "text/plain": [
       "<_io.BufferedRandom name='osman-parliament-edge-tts-wav/36174.wav'>"
      ]
     },
     "execution_count": 27,
     "metadata": {},
     "output_type": "execute_result"
    }
   ],
   "source": [
    "from pydub import AudioSegment\n",
    "_, filename = os.path.split(mp3s[0])\n",
    "sound = AudioSegment.from_mp3(mp3s[0])\n",
    "sound.export(os.path.join(directory_wav, filename.replace('.mp3', '.wav')), format=\"wav\")"
   ]
  },
  {
   "cell_type": "code",
   "execution_count": 29,
   "id": "c0efefda",
   "metadata": {},
   "outputs": [],
   "source": [
    "import mp\n",
    "from tqdm import tqdm"
   ]
  },
  {
   "cell_type": "code",
   "execution_count": 30,
   "id": "c7e99680",
   "metadata": {},
   "outputs": [],
   "source": [
    "def loop(files):\n",
    "    files, _ = files\n",
    "    for f in tqdm(files):\n",
    "        _, filename = os.path.split(f)\n",
    "        sound = AudioSegment.from_mp3(f)\n",
    "        sound.export(os.path.join(directory_wav, filename.replace('.mp3', '.wav')), format=\"wav\")"
   ]
  },
  {
   "cell_type": "code",
   "execution_count": 31,
   "id": "31bae118",
   "metadata": {},
   "outputs": [
    {
     "name": "stderr",
     "output_type": "stream",
     "text": [
      "100%|████████████████████████████████████████████████████████████████████████████████████████████| 5958/5958 [10:10<00:00,  9.76it/s]\n",
      "100%|████████████████████████████████████████████████████████████████████████████████████████████| 5958/5958 [10:10<00:00,  9.76it/s]\n",
      "100%|██████████████████████████████████████████████████████████████████████████████████████████████████| 2/2 [00:00<00:00, 11.46it/s]\n",
      "100%|████████████████████████████████████████████████████████████████████████████████████████████| 5958/5958 [10:10<00:00,  9.75it/s]\n",
      "100%|████████████████████████████████████████████████████████████████████████████████████████████| 5958/5958 [10:11<00:00,  9.75it/s]\n",
      "100%|████████████████████████████████████████████████████████████████████████████████████████████| 5958/5958 [10:11<00:00,  9.75it/s]\n",
      "100%|████████████████████████████████████████████████████████████████████████████████████████████| 5958/5958 [10:11<00:00,  9.74it/s]\n",
      "100%|████████████████████████████████████████████████████████████████████████████████████████████| 5958/5958 [10:11<00:00,  9.74it/s]\n",
      "100%|████████████████████████████████████████████████████████████████████████████████████████████| 5958/5958 [10:11<00:00,  9.74it/s]\n",
      "100%|████████████████████████████████████████████████████████████████████████████████████████████| 5958/5958 [10:12<00:00,  9.73it/s]\n",
      "100%|████████████████████████████████████████████████████████████████████████████████████████████| 5958/5958 [10:12<00:00,  9.73it/s]\n"
     ]
    }
   ],
   "source": [
    "mp.multiprocessing(mp3s, loop, cores = 10, returned = False)"
   ]
  },
  {
   "cell_type": "code",
   "execution_count": 32,
   "id": "9824e88c",
   "metadata": {},
   "outputs": [],
   "source": [
    "!tar -cf parliament-texts.tar osman-parliament-edge-tts-text"
   ]
  },
  {
   "cell_type": "code",
   "execution_count": 33,
   "id": "8eda4514",
   "metadata": {},
   "outputs": [],
   "source": [
    "!tar -cf parliament-wavs.tar osman-parliament-edge-tts-wav"
   ]
  },
  {
   "cell_type": "code",
   "execution_count": 34,
   "id": "06bafa16",
   "metadata": {},
   "outputs": [
    {
     "name": "stdout",
     "output_type": "stream",
     "text": [
      "lstm-bahdanau-jawi-rumi.tar  texts.tar\r\n",
      "parliament-texts.tar\t     transformer-base-noisy-en-ms.tar\r\n",
      "parliament-wavs.tar\t     wavs.tar\r\n"
     ]
    }
   ],
   "source": [
    "!ls *.tar"
   ]
  },
  {
   "cell_type": "code",
   "execution_count": 35,
   "id": "9291b31b",
   "metadata": {},
   "outputs": [],
   "source": [
    "!rm *.tar"
   ]
  },
  {
   "cell_type": "code",
   "execution_count": 18,
   "id": "605f440d",
   "metadata": {},
   "outputs": [
    {
     "data": {
      "text/plain": [
       "49960"
      ]
     },
     "execution_count": 18,
     "metadata": {},
     "output_type": "execute_result"
    }
   ],
   "source": [
    "wavs = glob(os.path.join(directory_wav, '*.wav'))\n",
    "len(wavs)"
   ]
  },
  {
   "cell_type": "code",
   "execution_count": 19,
   "id": "38725f5f",
   "metadata": {},
   "outputs": [
    {
     "data": {
      "text/plain": [
       "'osman-news-edge-tts-text/32248.json'"
      ]
     },
     "execution_count": 19,
     "metadata": {},
     "output_type": "execute_result"
    }
   ],
   "source": [
    "txt_file = wavs[0].replace('-wav', '-text').replace('.wav', '.json')\n",
    "txt_file"
   ]
  },
  {
   "cell_type": "code",
   "execution_count": 36,
   "id": "91959379",
   "metadata": {},
   "outputs": [],
   "source": [
    "# import IPython.display as ipd\n",
    "# ipd.Audio()"
   ]
  },
  {
   "cell_type": "code",
   "execution_count": 21,
   "id": "66c9a55f",
   "metadata": {},
   "outputs": [
    {
     "name": "stdout",
     "output_type": "stream",
     "text": [
      "{'original': '\"Ya, kami akan mendedahkannya kepada awam, tetapi kita perlu memahami sensitiviti rakyat China.', 'normalized': '\" Ya , kami akan mendedahkannya kepada awam , tetapi kita perlu memahami sensitiviti rakyat China .'}\n"
     ]
    }
   ],
   "source": [
    "import json\n",
    "\n",
    "with open(txt_file) as fopen:\n",
    "    print(json.load(fopen))"
   ]
  },
  {
   "cell_type": "code",
   "execution_count": null,
   "id": "75fbc714",
   "metadata": {},
   "outputs": [],
   "source": []
  }
 ],
 "metadata": {
  "kernelspec": {
   "display_name": "Python 3 (ipykernel)",
   "language": "python",
   "name": "python3"
  },
  "language_info": {
   "codemirror_mode": {
    "name": "ipython",
    "version": 3
   },
   "file_extension": ".py",
   "mimetype": "text/x-python",
   "name": "python",
   "nbconvert_exporter": "python",
   "pygments_lexer": "ipython3",
   "version": "3.8.10"
  }
 },
 "nbformat": 4,
 "nbformat_minor": 5
}
