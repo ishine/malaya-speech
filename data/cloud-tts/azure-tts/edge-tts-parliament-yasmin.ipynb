{
 "cells": [
  {
   "cell_type": "code",
   "execution_count": 1,
   "id": "20f0a794",
   "metadata": {},
   "outputs": [],
   "source": [
    "# !~/.local/bin/edge-tts --list-voices\n",
    "# ms-MY-OsmanNeural, ms-MY-YasminNeural\n",
    "# !~/.local/bin/edge-tts --voice ms-MY-OsmanNeural --text \"saya suka makan ayam.\" --write-media test.wav"
   ]
  },
  {
   "cell_type": "code",
   "execution_count": 2,
   "id": "cb9c73d1",
   "metadata": {},
   "outputs": [],
   "source": [
    "# !wget https://huggingface.co/datasets/huseinzol05/Malay-TTS-Yasmin/resolve/main/populated-parliament.json"
   ]
  },
  {
   "cell_type": "code",
   "execution_count": 3,
   "id": "89a1fac2",
   "metadata": {},
   "outputs": [],
   "source": [
    "import os\n",
    "\n",
    "os.environ['CUDA_VISIBLE_DEVICES'] = ''\n",
    "os.environ['TF_FORCE_GPU_ALLOW_GROWTH'] = 'true'"
   ]
  },
  {
   "cell_type": "code",
   "execution_count": 4,
   "id": "a949cade",
   "metadata": {},
   "outputs": [],
   "source": [
    "import json\n",
    "\n",
    "with open('populated-parliament.json') as fopen:\n",
    "    data = json.load(fopen)"
   ]
  },
  {
   "cell_type": "code",
   "execution_count": 5,
   "id": "0cb90f59",
   "metadata": {},
   "outputs": [
    {
     "data": {
      "text/plain": [
       "'PERDAGANGAN ANTARABANGSA DAN INDUSTRI menyatakan usaha memastikan pihak industri boleh mendapat para pekerja asing dengan kos munasabah tanpa dieksploitasikan dan birokrasi .'"
      ]
     },
     "execution_count": 5,
     "metadata": {},
     "output_type": "execute_result"
    }
   ],
   "source": [
    "data[0]['text']"
   ]
  },
  {
   "cell_type": "code",
   "execution_count": 6,
   "id": "e2f75f15",
   "metadata": {
    "scrolled": true
   },
   "outputs": [
    {
     "name": "stderr",
     "output_type": "stream",
     "text": [
      "/home/ubuntu/.local/lib/python3.8/site-packages/tensorflow_addons/utils/ensure_tf_install.py:53: UserWarning: Tensorflow Addons supports using Python ops for all Tensorflow versions above or equal to 2.3.0 and strictly below 2.5.0 (nightly versions are not supported). \n",
      " The versions of TensorFlow you are currently using is 2.6.0 and is not supported. \n",
      "Some things might work, some things might not.\n",
      "If you were to encounter a bug, do not file an issue.\n",
      "If you want to make sure you're using a tested and supported configuration, either change the TensorFlow version or the TensorFlow Addons's version. \n",
      "You can find the compatibility matrix in TensorFlow Addon's readme:\n",
      "https://github.com/tensorflow/addons\n",
      "  warnings.warn(\n",
      "/home/ubuntu/.local/lib/python3.8/site-packages/tensorflow_addons/utils/resource_loader.py:72: UserWarning: You are currently using TensorFlow 2.6.0 and trying to load a custom op (custom_ops/seq2seq/_beam_search_ops.so).\n",
      "TensorFlow Addons has compiled its custom ops against TensorFlow 2.4.0, and there are no compatibility guarantees between the two versions. \n",
      "This means that you might get segfaults when loading the custom op, or other kind of low-level errors.\n",
      " If you do, do not file an issue on Github. This is a known limitation.\n",
      "\n",
      "It might help you to fallback to pure Python ops with TF_ADDONS_PY_OPS . To do that, see https://github.com/tensorflow/addons#gpucpu-custom-ops \n",
      "\n",
      "You can also change the TensorFlow version installed on your system. You would need a TensorFlow version equal to or above 2.4.0 and strictly below 2.5.0.\n",
      " Note that nightly versions of TensorFlow, as well as non-pip TensorFlow like `conda install tensorflow` or compiled from source are not supported.\n",
      "\n",
      "The last solution is to find the TensorFlow Addons version that has custom ops compatible with the TensorFlow installed on your system. To do that, refer to the readme: https://github.com/tensorflow/addons\n",
      "  warnings.warn(\n",
      "/home/ubuntu/.local/lib/python3.8/site-packages/malaya_boilerplate/frozen_graph.py:35: UserWarning: Cannot import beam_search_ops from Tensorflow Addons, ['malaya.jawi_rumi.deep_model', 'malaya.phoneme.deep_model', 'malaya.rumi_jawi.deep_model', 'malaya.stem.deep_model'] will not available to use, make sure Tensorflow Addons version >= 0.12.0\n",
      "  warnings.warn(\n"
     ]
    }
   ],
   "source": [
    "import malaya\n",
    "\n",
    "normalizer = malaya.normalize.normalizer()"
   ]
  },
  {
   "cell_type": "code",
   "execution_count": 7,
   "id": "753699e9",
   "metadata": {},
   "outputs": [],
   "source": [
    "directory = 'yasmin-parliament-edge-tts'\n",
    "directory_text = 'yasmin-parliament-edge-tts-text'"
   ]
  },
  {
   "cell_type": "code",
   "execution_count": 8,
   "id": "71018ea2",
   "metadata": {},
   "outputs": [
    {
     "data": {
      "text/plain": [
       "0"
      ]
     },
     "execution_count": 8,
     "metadata": {},
     "output_type": "execute_result"
    }
   ],
   "source": [
    "os.system(f'rm -rf {directory}')\n",
    "os.system(f'rm -rf {directory_text}')"
   ]
  },
  {
   "cell_type": "code",
   "execution_count": 9,
   "id": "251f2b7a",
   "metadata": {},
   "outputs": [],
   "source": [
    "os.makedirs(directory, exist_ok = True)\n",
    "os.makedirs(directory_text, exist_ok = True)"
   ]
  },
  {
   "cell_type": "code",
   "execution_count": 10,
   "id": "e4c30c3e",
   "metadata": {},
   "outputs": [],
   "source": [
    "def generate_tts(text, filename):\n",
    "    text = text.replace('\"', r'\\\"').replace(\"'\", r'\\'')\n",
    "    command = f'~/.local/bin/edge-tts --voice ms-MY-YasminNeural --text \"{text}\" --write-media {filename}'\n",
    "    # print(command)\n",
    "    os.system(command)"
   ]
  },
  {
   "cell_type": "code",
   "execution_count": 11,
   "id": "63f17de1",
   "metadata": {},
   "outputs": [
    {
     "data": {
      "text/plain": [
       "{'text': 'Daripada jumlah tersebut , sebanyak RM5.82 juta telah diagihkan kepada JPN Sabah untuk suku tahun pertama 2016 .',\n",
       " 'cleaned': 'Daripada jumlah tersebut , sebanyak RM 5.82 juta telah diagihkan kepada JPN Sabah untuk suku tahun pertama 2016 .'}"
      ]
     },
     "execution_count": 11,
     "metadata": {},
     "output_type": "execute_result"
    }
   ],
   "source": [
    "data[7]"
   ]
  },
  {
   "cell_type": "code",
   "execution_count": 12,
   "id": "a9f6afbb",
   "metadata": {},
   "outputs": [],
   "source": [
    "n = normalizer.normalize('Daripada jumlah tersebut , / sebanyak RM5.82 bilion telah diagihkan kepada JPN Sabah untuk suku tahun pertama 2016 .',\n",
    "                    normalize_entity = False)['normalize']"
   ]
  },
  {
   "cell_type": "code",
   "execution_count": 13,
   "id": "af291829",
   "metadata": {},
   "outputs": [
    {
     "data": {
      "text/plain": [
       "'Daripada jumlah tersebut , sebanyak lima bilion lapan ratus dua puluh juta ringgit telah diagihkan kepada JPN Sabah untuk suku tahun pertama dua ribu enam belas .'"
      ]
     },
     "execution_count": 13,
     "metadata": {},
     "output_type": "execute_result"
    }
   ],
   "source": [
    "import re\n",
    "\n",
    "def postprocessing(string):\n",
    "    string = string.replace('/', ' ').replace('*', ' ').replace('=', ' ')\n",
    "    return re.sub(r'[ ]+', ' ', string).strip()\n",
    "\n",
    "postprocessing(n)"
   ]
  },
  {
   "cell_type": "code",
   "execution_count": 14,
   "id": "6c901c6f",
   "metadata": {},
   "outputs": [
    {
     "data": {
      "text/plain": [
       "'hidup - -'"
      ]
     },
     "execution_count": 14,
     "metadata": {},
     "output_type": "execute_result"
    }
   ],
   "source": [
    "n = normalizer.normalize('=== hidup === --', normalize_entity = False)['normalize']\n",
    "n = postprocessing(n)\n",
    "n"
   ]
  },
  {
   "cell_type": "code",
   "execution_count": 15,
   "id": "99677f32",
   "metadata": {},
   "outputs": [],
   "source": [
    "generate_tts(n, 'test.mp3')"
   ]
  },
  {
   "cell_type": "code",
   "execution_count": 16,
   "id": "b75e621c",
   "metadata": {},
   "outputs": [
    {
     "data": {
      "text/html": [
       "\n",
       "                <audio  controls=\"controls\" >\n",
       "                    <source src=\"data:audio/mpeg;base64,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\" type=\"audio/mpeg\" />\n",
       "                    Your browser does not support the audio element.\n",
       "                </audio>\n",
       "              "
      ],
      "text/plain": [
       "<IPython.lib.display.Audio object>"
      ]
     },
     "execution_count": 16,
     "metadata": {},
     "output_type": "execute_result"
    }
   ],
   "source": [
    "import IPython.display as ipd\n",
    "ipd.Audio('test.mp3')"
   ]
  },
  {
   "cell_type": "code",
   "execution_count": 17,
   "id": "693eac19",
   "metadata": {},
   "outputs": [
    {
     "name": "stderr",
     "output_type": "stream",
     "text": [
      "  6%|████▊                                                                                 | 3336/59604 [1:29:37<32:26:44,  2.08s/it]"
     ]
    },
    {
     "name": "stdout",
     "output_type": "stream",
     "text": [
      "string index out of range\n"
     ]
    },
    {
     "name": "stderr",
     "output_type": "stream",
     "text": [
      "  9%|███████▍                                                                              | 5146/59604 [2:16:59<22:46:28,  1.51s/it]"
     ]
    },
    {
     "name": "stdout",
     "output_type": "stream",
     "text": [
      "string index out of range\n"
     ]
    },
    {
     "name": "stderr",
     "output_type": "stream",
     "text": [
      " 12%|██████████▌                                                                           | 7309/59604 [3:09:26<27:21:32,  1.88s/it]"
     ]
    },
    {
     "name": "stdout",
     "output_type": "stream",
     "text": [
      "string index out of range\n"
     ]
    },
    {
     "name": "stderr",
     "output_type": "stream",
     "text": [
      " 13%|███████████▍                                                                          | 7892/59604 [3:23:03<17:15:34,  1.20s/it]"
     ]
    },
    {
     "name": "stdout",
     "output_type": "stream",
     "text": [
      "string index out of range\n"
     ]
    },
    {
     "name": "stderr",
     "output_type": "stream",
     "text": [
      " 17%|██████████████▍                                                                      | 10159/59604 [4:15:44<17:51:46,  1.30s/it]"
     ]
    },
    {
     "name": "stdout",
     "output_type": "stream",
     "text": [
      "string index out of range\n"
     ]
    },
    {
     "name": "stderr",
     "output_type": "stream",
     "text": [
      " 18%|███████████████▎                                                                     | 10718/59604 [4:27:50<18:58:45,  1.40s/it]IOPub message rate exceeded.\n",
      "The notebook server will temporarily stop sending output\n",
      "to the client in order to avoid crashing it.\n",
      "To change this limit, set the config variable\n",
      "`--NotebookApp.iopub_msg_rate_limit`.\n",
      "\n",
      "Current values:\n",
      "NotebookApp.iopub_msg_rate_limit=1000.0 (msgs/sec)\n",
      "NotebookApp.rate_limit_window=3.0 (secs)\n",
      "\n",
      " 32%|███████████████████████████▌                                                         | 19338/59604 [7:20:19<12:30:06,  1.12s/it]IOPub message rate exceeded.\n",
      "The notebook server will temporarily stop sending output\n",
      "to the client in order to avoid crashing it.\n",
      "To change this limit, set the config variable\n",
      "`--NotebookApp.iopub_msg_rate_limit`.\n",
      "\n",
      "Current values:\n",
      "NotebookApp.iopub_msg_rate_limit=1000.0 (msgs/sec)\n",
      "NotebookApp.rate_limit_window=3.0 (secs)\n",
      "\n",
      " 50%|██████████████████████████████████████████▍                                         | 30078/59604 [10:51:17<10:17:54,  1.26s/it]"
     ]
    },
    {
     "name": "stdout",
     "output_type": "stream",
     "text": [
      "string index out of range\n"
     ]
    },
    {
     "name": "stderr",
     "output_type": "stream",
     "text": [
      " 51%|██████████████████████████████████████████▉                                         | 30445/59604 [10:59:19<12:19:11,  1.52s/it]IOPub message rate exceeded.\n",
      "The notebook server will temporarily stop sending output\n",
      "to the client in order to avoid crashing it.\n",
      "To change this limit, set the config variable\n",
      "`--NotebookApp.iopub_msg_rate_limit`.\n",
      "\n",
      "Current values:\n",
      "NotebookApp.iopub_msg_rate_limit=1000.0 (msgs/sec)\n",
      "NotebookApp.rate_limit_window=3.0 (secs)\n",
      "\n",
      " 67%|████████████████████████████████████████████████████████▌                            | 39664/59604 [14:29:20<8:07:57,  1.47s/it]Segmentation fault (core dumped)\n",
      " 70%|███████████████████████████████████████████████████████████▍                         | 41692/59604 [15:15:51<6:42:21,  1.35s/it]"
     ]
    },
    {
     "name": "stdout",
     "output_type": "stream",
     "text": [
      "string index out of range\n"
     ]
    },
    {
     "name": "stderr",
     "output_type": "stream",
     "text": [
      " 75%|███████████████████████████████████████████████████████████████▋                     | 44643/59604 [16:23:16<4:58:55,  1.20s/it]"
     ]
    },
    {
     "name": "stdout",
     "output_type": "stream",
     "text": [
      "string index out of range\n"
     ]
    },
    {
     "name": "stderr",
     "output_type": "stream",
     "text": [
      " 81%|████████████████████████████████████████████████████████████████████▊                | 48290/59604 [17:48:28<3:42:11,  1.18s/it]"
     ]
    },
    {
     "name": "stdout",
     "output_type": "stream",
     "text": [
      "string index out of range\n"
     ]
    },
    {
     "name": "stderr",
     "output_type": "stream",
     "text": [
      " 87%|█████████████████████████████████████████████████████████████████████████▉           | 51827/59604 [19:14:53<3:10:52,  1.47s/it]"
     ]
    },
    {
     "name": "stdout",
     "output_type": "stream",
     "text": [
      "string index out of range\n"
     ]
    },
    {
     "name": "stderr",
     "output_type": "stream",
     "text": [
      " 89%|███████████████████████████████████████████████████████████████████████████▍         | 52863/59604 [19:40:55<2:29:50,  1.33s/it]"
     ]
    },
    {
     "name": "stdout",
     "output_type": "stream",
     "text": [
      "string index out of range\n"
     ]
    },
    {
     "name": "stderr",
     "output_type": "stream",
     "text": [
      " 95%|██████████████████████████████████████████████████████████████████████████████████▊    | 56733/59604 [21:10:58<54:45,  1.14s/it]"
     ]
    },
    {
     "name": "stdout",
     "output_type": "stream",
     "text": [
      "string index out of range\n"
     ]
    },
    {
     "name": "stderr",
     "output_type": "stream",
     "text": [
      " 97%|████████████████████████████████████████████████████████████████████████████████████▏  | 57642/59604 [21:31:05<58:55,  1.80s/it]"
     ]
    },
    {
     "name": "stdout",
     "output_type": "stream",
     "text": [
      "string index out of range\n"
     ]
    },
    {
     "name": "stderr",
     "output_type": "stream",
     "text": [
      " 98%|█████████████████████████████████████████████████████████████████████████████████████▍ | 58564/59604 [21:51:14<20:55,  1.21s/it]"
     ]
    },
    {
     "name": "stdout",
     "output_type": "stream",
     "text": [
      "string index out of range\n"
     ]
    },
    {
     "name": "stderr",
     "output_type": "stream",
     "text": [
      "100%|███████████████████████████████████████████████████████████████████████████████████████| 59604/59604 [22:14:58<00:00,  1.34s/it]\n"
     ]
    }
   ],
   "source": [
    "from tqdm import tqdm\n",
    "\n",
    "for i in tqdm(range(len(data))):\n",
    "    try:\n",
    "        \n",
    "        filename = os.path.join(directory, f'{i}.mp3')\n",
    "        filename_text = os.path.join(directory_text, f'{i}.json')\n",
    "        \n",
    "        if os.path.exists(filename_text):\n",
    "            continue\n",
    "            \n",
    "        n = normalizer.normalize(data[i]['text'], normalize_entity = False)['normalize']\n",
    "        n = postprocessing(n)\n",
    "        if len(n):\n",
    "            generate_tts(n, filename)\n",
    "            with open(filename_text, 'w') as fopen:\n",
    "                json.dump({'original': data[i]['text'], 'normalized': n}, fopen)\n",
    "    except Exception as e:\n",
    "        print(e)"
   ]
  },
  {
   "cell_type": "code",
   "execution_count": 20,
   "id": "4252507f",
   "metadata": {},
   "outputs": [],
   "source": [
    "# from pydub import AudioSegment\n",
    "# sound = AudioSegment.from_mp3(\"test.mp3\")\n",
    "# sound.export(\"test.wav\", format=\"wav\")"
   ]
  },
  {
   "cell_type": "code",
   "execution_count": 21,
   "id": "5bfe322e",
   "metadata": {},
   "outputs": [
    {
     "data": {
      "text/plain": [
       "59582"
      ]
     },
     "execution_count": 21,
     "metadata": {},
     "output_type": "execute_result"
    }
   ],
   "source": [
    "from glob import glob\n",
    "mp3s = glob(os.path.join(directory, '*.mp3'))\n",
    "jsons = glob(os.path.join(directory_text, '*.json'))\n",
    "len(mp3s)"
   ]
  },
  {
   "cell_type": "code",
   "execution_count": 22,
   "id": "fea06eb1",
   "metadata": {},
   "outputs": [
    {
     "data": {
      "text/plain": [
       "'yasmin-parliament-edge-tts/36174.mp3'"
      ]
     },
     "execution_count": 22,
     "metadata": {},
     "output_type": "execute_result"
    }
   ],
   "source": [
    "mp3s[0]"
   ]
  },
  {
   "cell_type": "code",
   "execution_count": 23,
   "id": "3f4a993f",
   "metadata": {},
   "outputs": [
    {
     "data": {
      "text/html": [
       "\n",
       "                <audio  controls=\"controls\" >\n",
       "                    <source src=\"data:audio/mpeg;base64,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\" type=\"audio/mpeg\" />\n",
       "                    Your browser does not support the audio element.\n",
       "                </audio>\n",
       "              "
      ],
      "text/plain": [
       "<IPython.lib.display.Audio object>"
      ]
     },
     "execution_count": 23,
     "metadata": {},
     "output_type": "execute_result"
    }
   ],
   "source": [
    "import IPython.display as ipd\n",
    "ipd.Audio(mp3s[0])"
   ]
  },
  {
   "cell_type": "code",
   "execution_count": null,
   "id": "42799dc3",
   "metadata": {},
   "outputs": [],
   "source": [
    "with open('osman-parliament-edge-tts-text/15.txt') as fopen:\n",
    "    print(fopen.read())"
   ]
  },
  {
   "cell_type": "code",
   "execution_count": null,
   "id": "7e29e55c",
   "metadata": {},
   "outputs": [],
   "source": [
    "for t in jsons:\n",
    "    with open(t) as fopen:\n",
    "        print(t, json.load(fopen))"
   ]
  },
  {
   "cell_type": "code",
   "execution_count": null,
   "id": "3b777870",
   "metadata": {},
   "outputs": [],
   "source": []
  }
 ],
 "metadata": {
  "kernelspec": {
   "display_name": "Python 3 (ipykernel)",
   "language": "python",
   "name": "python3"
  },
  "language_info": {
   "codemirror_mode": {
    "name": "ipython",
    "version": 3
   },
   "file_extension": ".py",
   "mimetype": "text/x-python",
   "name": "python",
   "nbconvert_exporter": "python",
   "pygments_lexer": "ipython3",
   "version": "3.8.10"
  }
 },
 "nbformat": 4,
 "nbformat_minor": 5
}
