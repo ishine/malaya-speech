{
 "cells": [
  {
   "cell_type": "code",
   "execution_count": 1,
   "metadata": {},
   "outputs": [],
   "source": [
    "# !pip3 install google-cloud-texttospeech"
   ]
  },
  {
   "cell_type": "code",
   "execution_count": 2,
   "metadata": {},
   "outputs": [],
   "source": [
    "import os\n",
    "import json\n",
    "from tqdm import tqdm\n",
    "\n",
    "os.environ['GOOGLE_APPLICATION_CREDENTIALS'] = 'huseinhouse-17445d9b2ea7.json'"
   ]
  },
  {
   "cell_type": "code",
   "execution_count": 3,
   "metadata": {},
   "outputs": [],
   "source": [
    "from google.cloud import texttospeech\n",
    "\n",
    "client = texttospeech.TextToSpeechClient()\n",
    "audio_config = texttospeech.AudioConfig(\n",
    "    audio_encoding=texttospeech.AudioEncoding.MP3,\n",
    "    effects_profile_id=['headphone-class-device'],\n",
    ")\n",
    "voice = texttospeech.VoiceSelectionParams(\n",
    "    language_code=\"ms-MY\", name = 'ms-MY-Wavenet-B',\n",
    ")"
   ]
  },
  {
   "cell_type": "code",
   "execution_count": 4,
   "metadata": {},
   "outputs": [
    {
     "name": "stderr",
     "output_type": "stream",
     "text": [
      "E0119 14:42:42.829751123  369012 fork_posix.cc:70]           Fork support is only compatible with the epoll1 and poll polling strategies\n"
     ]
    },
    {
     "name": "stdout",
     "output_type": "stream",
     "text": [
      "mkdir: cannot create directory ‘/home/husein/ssd2/ms-MY-Wavenet-B’: File exists\r\n"
     ]
    }
   ],
   "source": [
    "directory = '/home/husein/ssd2/ms-MY-Wavenet-B'\n",
    "# !rm -rf {directory}\n",
    "!mkdir {directory}"
   ]
  },
  {
   "cell_type": "code",
   "execution_count": 5,
   "metadata": {},
   "outputs": [],
   "source": [
    "with open('gtts-text.json') as fopen:\n",
    "    texts = json.load(fopen)"
   ]
  },
  {
   "cell_type": "code",
   "execution_count": 6,
   "metadata": {},
   "outputs": [
    {
     "name": "stderr",
     "output_type": "stream",
     "text": [
      " 17%|██████▎                             | 5431/31069 [20:12<1:36:41,  4.42it/s]IOPub message rate exceeded.\n",
      "The notebook server will temporarily stop sending output\n",
      "to the client in order to avoid crashing it.\n",
      "To change this limit, set the config variable\n",
      "`--NotebookApp.iopub_msg_rate_limit`.\n",
      "\n",
      "Current values:\n",
      "NotebookApp.iopub_msg_rate_limit=1000.0 (msgs/sec)\n",
      "NotebookApp.rate_limit_window=3.0 (secs)\n",
      "\n",
      " 60%|████████████████████▊              | 18503/31069 [1:10:01<38:47,  5.40it/s]IOPub message rate exceeded.\n",
      "The notebook server will temporarily stop sending output\n",
      "to the client in order to avoid crashing it.\n",
      "To change this limit, set the config variable\n",
      "`--NotebookApp.iopub_msg_rate_limit`.\n",
      "\n",
      "Current values:\n",
      "NotebookApp.iopub_msg_rate_limit=1000.0 (msgs/sec)\n",
      "NotebookApp.rate_limit_window=3.0 (secs)\n",
      "\n",
      "100%|███████████████████████████████████| 31069/31069 [1:56:59<00:00,  4.43it/s]\n"
     ]
    }
   ],
   "source": [
    "for no in tqdm(range(len(texts))):\n",
    "    t = texts[no]\n",
    "    filename = f'{no}.mp3'\n",
    "    filename = os.path.join(directory, filename)\n",
    "    if os.path.exists(filename):\n",
    "        continue\n",
    "    \n",
    "    synthesis_input = texttospeech.SynthesisInput(text=t)\n",
    "    \n",
    "    response = client.synthesize_speech(\n",
    "        input=synthesis_input, voice=voice, audio_config=audio_config\n",
    "    )\n",
    "\n",
    "    # The response's audio_content is binary.\n",
    "    with open(filename, \"wb\") as out:\n",
    "        # Write the response to the output file.\n",
    "        out.write(response.audio_content)"
   ]
  },
  {
   "cell_type": "code",
   "execution_count": 8,
   "metadata": {},
   "outputs": [
    {
     "name": "stderr",
     "output_type": "stream",
     "text": [
      "E0119 16:45:49.293803131  369012 fork_posix.cc:70]           Fork support is only compatible with the epoll1 and poll polling strategies\n"
     ]
    },
    {
     "name": "stdout",
     "output_type": "stream",
     "text": [
      "-rw-r--r-- 1 husein husein 13K Jan  19 16:39 /home/husein/ssd2/ms-MY-Wavenet-B/31068.mp3\r\n"
     ]
    }
   ],
   "source": [
    "!ls -lh /home/husein/ssd2/ms-MY-Wavenet-B/31068.mp3"
   ]
  },
  {
   "cell_type": "code",
   "execution_count": 9,
   "metadata": {},
   "outputs": [
    {
     "data": {
      "text/plain": [
       "'T U V W X Y Z kosong lima'"
      ]
     },
     "execution_count": 9,
     "metadata": {},
     "output_type": "execute_result"
    }
   ],
   "source": [
    "t"
   ]
  },
  {
   "cell_type": "code",
   "execution_count": 10,
   "metadata": {},
   "outputs": [
    {
     "data": {
      "text/html": [
       "\n",
       "                <audio  controls=\"controls\" >\n",
       "                    <source src=\"data:audio/mpeg;base64,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\" type=\"audio/mpeg\" />\n",
       "                    Your browser does not support the audio element.\n",
       "                </audio>\n",
       "              "
      ],
      "text/plain": [
       "<IPython.lib.display.Audio object>"
      ]
     },
     "execution_count": 10,
     "metadata": {},
     "output_type": "execute_result"
    }
   ],
   "source": [
    "import IPython.display as ipd\n",
    "ipd.Audio('/home/husein/ssd2/ms-MY-Wavenet-B/31068.mp3')"
   ]
  },
  {
   "cell_type": "code",
   "execution_count": null,
   "metadata": {},
   "outputs": [],
   "source": []
  }
 ],
 "metadata": {
  "kernelspec": {
   "display_name": "Python 3 (ipykernel)",
   "language": "python",
   "name": "python3"
  },
  "language_info": {
   "codemirror_mode": {
    "name": "ipython",
    "version": 3
   },
   "file_extension": ".py",
   "mimetype": "text/x-python",
   "name": "python",
   "nbconvert_exporter": "python",
   "pygments_lexer": "ipython3",
   "version": "3.8.10"
  }
 },
 "nbformat": 4,
 "nbformat_minor": 4
}
