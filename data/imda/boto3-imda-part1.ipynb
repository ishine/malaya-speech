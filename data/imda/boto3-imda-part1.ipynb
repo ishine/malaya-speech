{
 "cells": [
  {
   "cell_type": "code",
   "execution_count": 1,
   "id": "2c971113",
   "metadata": {},
   "outputs": [],
   "source": [
    "import os\n",
    "\n",
    "os.environ['AWS_ENDPOINT_URL'] = 'https://s3.us-west-000.backblazeb2.com'\n",
    "os.environ['AWS_ACCESS_KEY_ID'] = ''\n",
    "os.environ['AWS_SECRET_ACCESS_KEY'] = ''"
   ]
  },
  {
   "cell_type": "code",
   "execution_count": 2,
   "id": "4c364704",
   "metadata": {},
   "outputs": [],
   "source": [
    "from tqdm import tqdm\n",
    "import boto3\n",
    "import subprocess\n",
    "from unidecode import unidecode\n",
    "import IPython.display as ipd\n",
    "from glob import glob\n",
    "\n",
    "os.makedirs('part1', exist_ok = True)\n",
    "os.makedirs('part1-audio', exist_ok = True)"
   ]
  },
  {
   "cell_type": "code",
   "execution_count": 3,
   "id": "9c8d29d2",
   "metadata": {},
   "outputs": [],
   "source": [
    "session = boto3.Session()"
   ]
  },
  {
   "cell_type": "code",
   "execution_count": 4,
   "id": "61bd941d",
   "metadata": {},
   "outputs": [],
   "source": [
    "s3 = session.resource('s3')\n",
    "bucket = s3.Bucket('imda-singapore')"
   ]
  },
  {
   "cell_type": "code",
   "execution_count": 5,
   "id": "8f7d3d04",
   "metadata": {},
   "outputs": [
    {
     "name": "stderr",
     "output_type": "stream",
     "text": [
      "2034it [00:01, 1458.62it/s]\n"
     ]
    }
   ],
   "source": [
    "for f in tqdm(bucket.objects.filter(Prefix='PART1/DATA/CHANNEL0/SCRIPT')):\n",
    "    filename = os.path.join('part1', os.path.split(f.key)[1])\n",
    "    if os.path.exists(filename):\n",
    "        continue\n",
    "                            \n",
    "    bucket.download_file(f.key, filename)"
   ]
  },
  {
   "cell_type": "code",
   "execution_count": 6,
   "id": "3461f7e3",
   "metadata": {},
   "outputs": [],
   "source": [
    "# for f in tqdm(bucket.objects.filter(Prefix='PART1/DATA/CHANNEL0/WAVE')):\n",
    "#     filename = os.path.join('part1-audio', os.path.split(f.key)[1])\n",
    "#     if os.path.exists(filename):\n",
    "#         continue\n",
    "                            \n",
    "#     bucket.download_file(f.key, filename)"
   ]
  },
  {
   "cell_type": "code",
   "execution_count": 7,
   "id": "427264d7",
   "metadata": {},
   "outputs": [],
   "source": [
    "# zips = sorted(glob('part1-audio/*.zip'))\n",
    "# for f in tqdm(zips):\n",
    "#     os.system(f'unzip -o {f} -d part1-audio > /dev/null')\n",
    "#     os.remove(f)"
   ]
  },
  {
   "cell_type": "code",
   "execution_count": 10,
   "id": "e158898a",
   "metadata": {},
   "outputs": [],
   "source": [
    "import soundfile as sf\n",
    "from glob import glob"
   ]
  },
  {
   "cell_type": "code",
   "execution_count": 11,
   "id": "9921c825",
   "metadata": {},
   "outputs": [
    {
     "data": {
      "text/plain": [
       "2034"
      ]
     },
     "execution_count": 11,
     "metadata": {},
     "output_type": "execute_result"
    }
   ],
   "source": [
    "texts = sorted(glob('part1/*'))\n",
    "len(texts)"
   ]
  },
  {
   "cell_type": "code",
   "execution_count": 12,
   "id": "f4e036ab",
   "metadata": {},
   "outputs": [
    {
     "name": "stderr",
     "output_type": "stream",
     "text": [
      "100%|██████████| 2034/2034 [00:04<00:00, 442.03it/s]\n"
     ]
    },
    {
     "data": {
      "text/plain": [
       "755724"
      ]
     },
     "execution_count": 12,
     "metadata": {},
     "output_type": "execute_result"
    }
   ],
   "source": [
    "filtered = []\n",
    "\n",
    "for f in tqdm(texts):\n",
    "    with open(f) as fopen:\n",
    "        t = fopen.read().split('\\n')\n",
    "\n",
    "    for t_ in t:\n",
    "        if not len(t_):\n",
    "            continue\n",
    "        splitted = t_.split('\\t')\n",
    "        l = unidecode(splitted[0])\n",
    "        if not len(l):\n",
    "            continue\n",
    "        r = unidecode(splitted[1].strip())\n",
    "        \n",
    "        speaker = f'SPEAKER{l[1:-4]}'\n",
    "        session = l[-4]\n",
    "        filename = os.path.join('part1-audio', speaker, f'SESSION{session}', f'{l}.WAV')\n",
    "        if not os.path.exists(filename):\n",
    "            continue\n",
    "            \n",
    "        d = {\n",
    "            'id': l,\n",
    "            'text': r,\n",
    "            'filename': filename\n",
    "        }\n",
    "        filtered.append(d)\n",
    "        \n",
    "len(filtered)"
   ]
  },
  {
   "cell_type": "code",
   "execution_count": null,
   "id": "8b9b71b1",
   "metadata": {},
   "outputs": [],
   "source": [
    "filtered[-1]"
   ]
  },
  {
   "cell_type": "code",
   "execution_count": null,
   "id": "07a2ffcd",
   "metadata": {
    "scrolled": true
   },
   "outputs": [],
   "source": [
    "ipd.Audio(filtered[-1]['filename'])"
   ]
  },
  {
   "cell_type": "code",
   "execution_count": 13,
   "id": "a9224d28",
   "metadata": {
    "scrolled": true
   },
   "outputs": [
    {
     "name": "stdout",
     "output_type": "stream",
     "text": [
      "mkdir: cannot create directory ‘part1-mp3’: File exists\r\n"
     ]
    }
   ],
   "source": [
    "!mkdir part1-mp3"
   ]
  },
  {
   "cell_type": "code",
   "execution_count": 14,
   "id": "df3f7d6d",
   "metadata": {},
   "outputs": [],
   "source": [
    "import mp"
   ]
  },
  {
   "cell_type": "code",
   "execution_count": 17,
   "id": "85c11a7e",
   "metadata": {},
   "outputs": [],
   "source": [
    "def loop(filtered):\n",
    "    filtered, _ = filtered\n",
    "    selected = []\n",
    "    for f in tqdm(filtered):\n",
    "        try:\n",
    "            y, sr = sf.read(f['filename'])\n",
    "            new_filename = f\"part1-mp3/{f['id']}.mp3\"\n",
    "            sf.write(new_filename, y, sr)\n",
    "            f['new_filename'] = new_filename\n",
    "            selected.append(f)\n",
    "        except:\n",
    "            pass\n",
    "    return selected"
   ]
  },
  {
   "cell_type": "code",
   "execution_count": 25,
   "id": "99279cb3",
   "metadata": {},
   "outputs": [
    {
     "name": "stderr",
     "output_type": "stream",
     "text": [
      " 12%|█▏        | 4587/37786 [10:57<37:40, 14.69it/s]   IOPub message rate exceeded.\n",
      "The notebook server will temporarily stop sending output\n",
      "to the client in order to avoid crashing it.\n",
      "To change this limit, set the config variable\n",
      "`--NotebookApp.iopub_msg_rate_limit`.\n",
      "\n",
      "Current values:\n",
      "NotebookApp.iopub_msg_rate_limit=1000.0 (msgs/sec)\n",
      "NotebookApp.rate_limit_window=3.0 (secs)\n",
      "\n",
      " 41%|████▏     | 15602/37786 [36:47<32:32, 11.36it/s]   IOPub message rate exceeded.\n",
      "The notebook server will temporarily stop sending output\n",
      "to the client in order to avoid crashing it.\n",
      "To change this limit, set the config variable\n",
      "`--NotebookApp.iopub_msg_rate_limit`.\n",
      "\n",
      "Current values:\n",
      "NotebookApp.iopub_msg_rate_limit=1000.0 (msgs/sec)\n",
      "NotebookApp.rate_limit_window=3.0 (secs)\n",
      "\n",
      " 73%|███████▎  | 27520/37786 [1:05:05<10:26, 16.39it/s]  IOPub message rate exceeded.\n",
      "The notebook server will temporarily stop sending output\n",
      "to the client in order to avoid crashing it.\n",
      "To change this limit, set the config variable\n",
      "`--NotebookApp.iopub_msg_rate_limit`.\n",
      "\n",
      "Current values:\n",
      "NotebookApp.iopub_msg_rate_limit=1000.0 (msgs/sec)\n",
      "NotebookApp.rate_limit_window=3.0 (secs)\n",
      "\n"
     ]
    }
   ],
   "source": [
    "results = mp.multiprocessing(filtered, loop, cores = 20)"
   ]
  },
  {
   "cell_type": "code",
   "execution_count": 26,
   "id": "6eab5973",
   "metadata": {},
   "outputs": [
    {
     "data": {
      "text/plain": [
       "755724"
      ]
     },
     "execution_count": 26,
     "metadata": {},
     "output_type": "execute_result"
    }
   ],
   "source": [
    "len(results)"
   ]
  },
  {
   "cell_type": "code",
   "execution_count": 27,
   "id": "938c8296",
   "metadata": {},
   "outputs": [
    {
     "data": {
      "text/plain": [
       "{'id': '000010001',\n",
       " 'text': 'There were barrels of wine in the huge cellar.',\n",
       " 'filename': 'part1-audio/SPEAKER0001/SESSION0/000010001.WAV',\n",
       " 'new_filename': 'part1-mp3/000010001.mp3'}"
      ]
     },
     "execution_count": 27,
     "metadata": {},
     "output_type": "execute_result"
    }
   ],
   "source": [
    "results[0]"
   ]
  },
  {
   "cell_type": "code",
   "execution_count": 29,
   "id": "d4108e29",
   "metadata": {},
   "outputs": [
    {
     "name": "stderr",
     "output_type": "stream",
     "text": [
      "100%|██████████| 755724/755724 [00:02<00:00, 254721.54it/s]\n"
     ]
    }
   ],
   "source": [
    "import json\n",
    "\n",
    "with open('imda-part1.jsonl', 'w') as fopen:\n",
    "    for r in tqdm(results):\n",
    "        fopen.write(f'{json.dumps(r)}\\n')"
   ]
  },
  {
   "cell_type": "code",
   "execution_count": 33,
   "id": "fb8bdf95",
   "metadata": {},
   "outputs": [],
   "source": [
    "from huggingface_hub import HfApi\n",
    "api = HfApi()"
   ]
  },
  {
   "cell_type": "code",
   "execution_count": 34,
   "id": "68724be1",
   "metadata": {},
   "outputs": [
    {
     "data": {
      "application/vnd.jupyter.widget-view+json": {
       "model_id": "76181d172c64465cb7ab479e828662ad",
       "version_major": 2,
       "version_minor": 0
      },
      "text/plain": [
       "imda-part1.jsonl:   0%|          | 0.00/155M [00:00<?, ?B/s]"
      ]
     },
     "metadata": {},
     "output_type": "display_data"
    },
    {
     "data": {
      "text/plain": [
       "'https://huggingface.co/datasets/mesolitica/IMDA-STT/blob/main/imda-part1.jsonl'"
      ]
     },
     "execution_count": 34,
     "metadata": {},
     "output_type": "execute_result"
    }
   ],
   "source": [
    "api.upload_file(\n",
    "    path_or_fileobj='imda-part1.jsonl',\n",
    "    path_in_repo='imda-part1.jsonl',\n",
    "    repo_id='mesolitica/IMDA-STT',\n",
    "    repo_type='dataset',\n",
    ")"
   ]
  },
  {
   "cell_type": "code",
   "execution_count": 31,
   "id": "4f037a18",
   "metadata": {},
   "outputs": [],
   "source": [
    "# !sudo apt install p7zip-full p7zip-rar -y"
   ]
  },
  {
   "cell_type": "code",
   "execution_count": 38,
   "id": "8c7790ea",
   "metadata": {},
   "outputs": [],
   "source": [
    "!7z -v5g a part1-mp3.7z part1-mp3 > /dev/null"
   ]
  },
  {
   "cell_type": "code",
   "execution_count": 41,
   "id": "0090f7ca",
   "metadata": {},
   "outputs": [
    {
     "name": "stdout",
     "output_type": "stream",
     "text": [
      "part1-mp3.7z.001\n"
     ]
    },
    {
     "data": {
      "application/vnd.jupyter.widget-view+json": {
       "model_id": "b804c2c7bd9d480c89c4c9dd153622e4",
       "version_major": 2,
       "version_minor": 0
      },
      "text/plain": [
       "part1-mp3.7z.001:   0%|          | 0.00/5.37G [00:00<?, ?B/s]"
      ]
     },
     "metadata": {},
     "output_type": "display_data"
    },
    {
     "name": "stdout",
     "output_type": "stream",
     "text": [
      "part1-mp3.7z.003\n"
     ]
    },
    {
     "data": {
      "application/vnd.jupyter.widget-view+json": {
       "model_id": "febdfe6df7ed43c39c25f505fa17d2e2",
       "version_major": 2,
       "version_minor": 0
      },
      "text/plain": [
       "part1-mp3.7z.003:   0%|          | 0.00/5.37G [00:00<?, ?B/s]"
      ]
     },
     "metadata": {},
     "output_type": "display_data"
    },
    {
     "name": "stdout",
     "output_type": "stream",
     "text": [
      "part1-mp3.7z.002\n"
     ]
    },
    {
     "data": {
      "application/vnd.jupyter.widget-view+json": {
       "model_id": "fa02302ba2484320be724f8042cb333c",
       "version_major": 2,
       "version_minor": 0
      },
      "text/plain": [
       "part1-mp3.7z.002:   0%|          | 0.00/5.37G [00:00<?, ?B/s]"
      ]
     },
     "metadata": {},
     "output_type": "display_data"
    },
    {
     "name": "stdout",
     "output_type": "stream",
     "text": [
      "part1-mp3.7z.005\n"
     ]
    },
    {
     "data": {
      "application/vnd.jupyter.widget-view+json": {
       "model_id": "7e70e24aa572479bba25ed86d1ed5359",
       "version_major": 2,
       "version_minor": 0
      },
      "text/plain": [
       "part1-mp3.7z.005:   0%|          | 0.00/298M [00:00<?, ?B/s]"
      ]
     },
     "metadata": {},
     "output_type": "display_data"
    },
    {
     "name": "stdout",
     "output_type": "stream",
     "text": [
      "part1-mp3.7z.004\n"
     ]
    },
    {
     "data": {
      "application/vnd.jupyter.widget-view+json": {
       "model_id": "af0a257b5db249648c23c6c2fb999e7b",
       "version_major": 2,
       "version_minor": 0
      },
      "text/plain": [
       "part1-mp3.7z.004:   0%|          | 0.00/5.37G [00:00<?, ?B/s]"
      ]
     },
     "metadata": {},
     "output_type": "display_data"
    }
   ],
   "source": [
    "for f in glob('part1-mp3.7z*'):\n",
    "    print(f)\n",
    "    api.upload_file(\n",
    "        path_or_fileobj=f,\n",
    "        path_in_repo=f,\n",
    "        repo_id='mesolitica/IMDA-STT',\n",
    "        repo_type='dataset',\n",
    "    )"
   ]
  },
  {
   "cell_type": "code",
   "execution_count": 42,
   "id": "d56d19b6",
   "metadata": {},
   "outputs": [
    {
     "name": "stderr",
     "output_type": "stream",
     "text": [
      "100%|██████████| 755724/755724 [03:37<00:00, 3467.46it/s]\n"
     ]
    }
   ],
   "source": [
    "total_len = 0\n",
    "for r in tqdm(results):\n",
    "    y, sr = sf.read(r['filename'])\n",
    "    total_len += len(y) / sr"
   ]
  },
  {
   "cell_type": "code",
   "execution_count": 43,
   "id": "db3a1995",
   "metadata": {},
   "outputs": [
    {
     "data": {
      "text/plain": [
       "1117.9866586978865"
      ]
     },
     "execution_count": 43,
     "metadata": {},
     "output_type": "execute_result"
    }
   ],
   "source": [
    "total_len / 60 / 60"
   ]
  },
  {
   "cell_type": "code",
   "execution_count": null,
   "id": "44ac5862",
   "metadata": {},
   "outputs": [],
   "source": [
    "!rm -rf part1-audio"
   ]
  }
 ],
 "metadata": {
  "kernelspec": {
   "display_name": "Python 3 (ipykernel)",
   "language": "python",
   "name": "python3"
  },
  "language_info": {
   "codemirror_mode": {
    "name": "ipython",
    "version": 3
   },
   "file_extension": ".py",
   "mimetype": "text/x-python",
   "name": "python",
   "nbconvert_exporter": "python",
   "pygments_lexer": "ipython3",
   "version": "3.10.12"
  }
 },
 "nbformat": 4,
 "nbformat_minor": 5
}
