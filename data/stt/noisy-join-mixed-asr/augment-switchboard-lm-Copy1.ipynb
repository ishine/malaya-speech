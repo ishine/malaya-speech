{
 "cells": [
  {
   "cell_type": "code",
   "execution_count": 2,
   "metadata": {},
   "outputs": [],
   "source": [
    "import os\n",
    "\n",
    "os.environ['CUDA_VISIBLE_DEVICES'] = '0'\n",
    "os.environ['TF_FORCE_GPU_ALLOW_GROWTH'] = 'true'"
   ]
  },
  {
   "cell_type": "code",
   "execution_count": 3,
   "metadata": {
    "scrolled": true
   },
   "outputs": [
    {
     "name": "stderr",
     "output_type": "stream",
     "text": [
      "`pyaudio` is not available, `malaya_speech.streaming.pyaudio` is not able to use.\n"
     ]
    }
   ],
   "source": [
    "import malaya_speech\n",
    "import random\n",
    "import numpy as np\n",
    "import malaya\n",
    "from sklearn.utils import shuffle\n",
    "from sklearn.utils.random import sample_without_replacement"
   ]
  },
  {
   "cell_type": "code",
   "execution_count": 4,
   "metadata": {},
   "outputs": [
    {
     "data": {
      "text/plain": [
       "array([0., 0., 0., ..., 0., 0., 0.])"
      ]
     },
     "execution_count": 4,
     "metadata": {},
     "output_type": "execute_result"
    }
   ],
   "source": [
    "np.zeros(shape = (random.randint(1000, 16000),))"
   ]
  },
  {
   "cell_type": "code",
   "execution_count": 5,
   "metadata": {},
   "outputs": [
    {
     "data": {
      "text/html": [
       "<div>\n",
       "<style scoped>\n",
       "    .dataframe tbody tr th:only-of-type {\n",
       "        vertical-align: middle;\n",
       "    }\n",
       "\n",
       "    .dataframe tbody tr th {\n",
       "        vertical-align: top;\n",
       "    }\n",
       "\n",
       "    .dataframe thead th {\n",
       "        text-align: right;\n",
       "    }\n",
       "</style>\n",
       "<table border=\"1\" class=\"dataframe\">\n",
       "  <thead>\n",
       "    <tr style=\"text-align: right;\">\n",
       "      <th></th>\n",
       "      <th>Size (MB)</th>\n",
       "      <th>Quantized Size (MB)</th>\n",
       "      <th>Language</th>\n",
       "    </tr>\n",
       "  </thead>\n",
       "  <tbody>\n",
       "    <tr>\n",
       "      <th>conformer-transducer</th>\n",
       "      <td>120</td>\n",
       "      <td>32.3</td>\n",
       "      <td>[malay]</td>\n",
       "    </tr>\n",
       "    <tr>\n",
       "      <th>conformer-transducer-mixed</th>\n",
       "      <td>120</td>\n",
       "      <td>32.3</td>\n",
       "      <td>[malay, singlish]</td>\n",
       "    </tr>\n",
       "    <tr>\n",
       "      <th>conformer-transducer-singlish</th>\n",
       "      <td>120</td>\n",
       "      <td>32.3</td>\n",
       "      <td>[singlish]</td>\n",
       "    </tr>\n",
       "  </tbody>\n",
       "</table>\n",
       "</div>"
      ],
      "text/plain": [
       "                              Size (MB) Quantized Size (MB)           Language\n",
       "conformer-transducer                120                32.3            [malay]\n",
       "conformer-transducer-mixed          120                32.3  [malay, singlish]\n",
       "conformer-transducer-singlish       120                32.3         [singlish]"
      ]
     },
     "execution_count": 5,
     "metadata": {},
     "output_type": "execute_result"
    }
   ],
   "source": [
    "malaya_speech.force_alignment.transducer.available_transformer()"
   ]
  },
  {
   "cell_type": "code",
   "execution_count": 6,
   "metadata": {},
   "outputs": [
    {
     "name": "stderr",
     "output_type": "stream",
     "text": [
      "2023-03-24 23:25:06.678091: I tensorflow/core/platform/cpu_feature_guard.cc:142] This TensorFlow binary is optimized with oneAPI Deep Neural Network Library (oneDNN) to use the following CPU instructions in performance-critical operations:  AVX2 FMA\n",
      "To enable them in other operations, rebuild TensorFlow with the appropriate compiler flags.\n",
      "2023-03-24 23:25:06.699786: I tensorflow/stream_executor/cuda/cuda_gpu_executor.cc:937] successful NUMA node read from SysFS had negative value (-1), but there must be at least one NUMA node, so returning NUMA node zero\n",
      "2023-03-24 23:25:06.711945: I tensorflow/stream_executor/cuda/cuda_gpu_executor.cc:937] successful NUMA node read from SysFS had negative value (-1), but there must be at least one NUMA node, so returning NUMA node zero\n",
      "2023-03-24 23:25:06.712805: I tensorflow/stream_executor/cuda/cuda_gpu_executor.cc:937] successful NUMA node read from SysFS had negative value (-1), but there must be at least one NUMA node, so returning NUMA node zero\n",
      "2023-03-24 23:25:07.234418: I tensorflow/stream_executor/cuda/cuda_gpu_executor.cc:937] successful NUMA node read from SysFS had negative value (-1), but there must be at least one NUMA node, so returning NUMA node zero\n",
      "2023-03-24 23:25:07.235238: I tensorflow/stream_executor/cuda/cuda_gpu_executor.cc:937] successful NUMA node read from SysFS had negative value (-1), but there must be at least one NUMA node, so returning NUMA node zero\n",
      "2023-03-24 23:25:07.235887: I tensorflow/stream_executor/cuda/cuda_gpu_executor.cc:937] successful NUMA node read from SysFS had negative value (-1), but there must be at least one NUMA node, so returning NUMA node zero\n",
      "2023-03-24 23:25:07.236326: W tensorflow/core/common_runtime/gpu/gpu_bfc_allocator.cc:39] Overriding allow_growth setting because the TF_FORCE_GPU_ALLOW_GROWTH environment variable is set. Original config value was 0.\n",
      "2023-03-24 23:25:07.236345: I tensorflow/core/common_runtime/gpu/gpu_device.cc:1510] Created device /device:GPU:0 with 22302 MB memory:  -> device: 0, name: NVIDIA GeForce RTX 3090 Ti, pci bus id: 0000:01:00.0, compute capability: 8.6\n",
      "2023-03-24 23:25:10.964463: I tensorflow/stream_executor/cuda/cuda_gpu_executor.cc:937] successful NUMA node read from SysFS had negative value (-1), but there must be at least one NUMA node, so returning NUMA node zero\n",
      "2023-03-24 23:25:10.965390: I tensorflow/stream_executor/cuda/cuda_gpu_executor.cc:937] successful NUMA node read from SysFS had negative value (-1), but there must be at least one NUMA node, so returning NUMA node zero\n",
      "2023-03-24 23:25:10.966177: I tensorflow/stream_executor/cuda/cuda_gpu_executor.cc:937] successful NUMA node read from SysFS had negative value (-1), but there must be at least one NUMA node, so returning NUMA node zero\n",
      "2023-03-24 23:25:10.967001: I tensorflow/stream_executor/cuda/cuda_gpu_executor.cc:937] successful NUMA node read from SysFS had negative value (-1), but there must be at least one NUMA node, so returning NUMA node zero\n",
      "2023-03-24 23:25:10.967448: I tensorflow/stream_executor/cuda/cuda_gpu_executor.cc:937] successful NUMA node read from SysFS had negative value (-1), but there must be at least one NUMA node, so returning NUMA node zero\n",
      "2023-03-24 23:25:10.968085: I tensorflow/core/common_runtime/gpu/gpu_device.cc:1510] Created device /job:localhost/replica:0/task:0/device:GPU:0 with 22302 MB memory:  -> device: 0, name: NVIDIA GeForce RTX 3090 Ti, pci bus id: 0000:01:00.0, compute capability: 8.6\n",
      "2023-03-24 23:25:16.930222: I tensorflow/stream_executor/cuda/cuda_gpu_executor.cc:937] successful NUMA node read from SysFS had negative value (-1), but there must be at least one NUMA node, so returning NUMA node zero\n",
      "2023-03-24 23:25:16.931125: I tensorflow/stream_executor/cuda/cuda_gpu_executor.cc:937] successful NUMA node read from SysFS had negative value (-1), but there must be at least one NUMA node, so returning NUMA node zero\n",
      "2023-03-24 23:25:16.931794: I tensorflow/stream_executor/cuda/cuda_gpu_executor.cc:937] successful NUMA node read from SysFS had negative value (-1), but there must be at least one NUMA node, so returning NUMA node zero\n",
      "2023-03-24 23:25:16.932265: I tensorflow/stream_executor/cuda/cuda_gpu_executor.cc:937] successful NUMA node read from SysFS had negative value (-1), but there must be at least one NUMA node, so returning NUMA node zero\n",
      "2023-03-24 23:25:16.932701: I tensorflow/stream_executor/cuda/cuda_gpu_executor.cc:937] successful NUMA node read from SysFS had negative value (-1), but there must be at least one NUMA node, so returning NUMA node zero\n",
      "2023-03-24 23:25:16.933155: I tensorflow/core/common_runtime/gpu/gpu_device.cc:1510] Created device /job:localhost/replica:0/task:0/device:GPU:0 with 22302 MB memory:  -> device: 0, name: NVIDIA GeForce RTX 3090 Ti, pci bus id: 0000:01:00.0, compute capability: 8.6\n"
     ]
    }
   ],
   "source": [
    "model = malaya_speech.force_alignment.transducer.transformer(model = 'conformer-transducer', device = 'gpu:0')\n",
    "singlish_model = malaya_speech.force_alignment.transducer.transformer(model = 'conformer-transducer-singlish', device = 'gpu:0')"
   ]
  },
  {
   "cell_type": "code",
   "execution_count": 7,
   "metadata": {},
   "outputs": [],
   "source": [
    "asr = malaya_speech.stt.transducer.pt_transformer(model = 'mesolitica/conformer-medium-mixed')\n",
    "_ = asr.cuda()\n",
    "_ = asr.eval()"
   ]
  },
  {
   "cell_type": "code",
   "execution_count": 8,
   "metadata": {},
   "outputs": [],
   "source": [
    "lm = malaya.language_model.kenlm(model = 'bahasa-wiki-news-iium-stt')"
   ]
  },
  {
   "cell_type": "code",
   "execution_count": 9,
   "metadata": {},
   "outputs": [
    {
     "data": {
      "text/plain": [
       "-13.193544387817383"
      ]
     },
     "execution_count": 9,
     "metadata": {},
     "output_type": "execute_result"
    }
   ],
   "source": [
    "lm.score('tak suka hg')"
   ]
  },
  {
   "cell_type": "code",
   "execution_count": 10,
   "metadata": {},
   "outputs": [],
   "source": [
    "import json\n",
    "from glob import glob\n",
    "from tqdm import tqdm\n",
    "\n",
    "with open('/home/husein/ssd1/speech-bahasa/malay-asr-train.json') as fopen:\n",
    "    ms = json.load(fopen)"
   ]
  },
  {
   "cell_type": "code",
   "execution_count": 11,
   "metadata": {},
   "outputs": [
    {
     "data": {
      "text/plain": [
       "1635599"
      ]
     },
     "execution_count": 11,
     "metadata": {},
     "output_type": "execute_result"
    }
   ],
   "source": [
    "len(ms['X'])"
   ]
  },
  {
   "cell_type": "code",
   "execution_count": 12,
   "metadata": {},
   "outputs": [],
   "source": [
    "with open('/home/husein/malaya-speech/singlish-stt-train.json') as fopen:\n",
    "    sg = json.load(fopen)"
   ]
  },
  {
   "cell_type": "code",
   "execution_count": 13,
   "metadata": {
    "scrolled": true
   },
   "outputs": [
    {
     "data": {
      "text/plain": [
       "3284901"
      ]
     },
     "execution_count": 13,
     "metadata": {},
     "output_type": "execute_result"
    }
   ],
   "source": [
    "len(sg['X'])"
   ]
  },
  {
   "cell_type": "code",
   "execution_count": 14,
   "metadata": {},
   "outputs": [
    {
     "data": {
      "text/plain": [
       "['/home/husein/ssd2/imda/wav/5-75-tfrecord-1409.wav',\n",
       " '/home/husein/ssd2/imda/wav/5-118-tfrecord-1786.wav',\n",
       " '/home/husein/ssd2/imda/wav/4-77-tfrecord-2083.wav',\n",
       " '/home/husein/ssd2/imda/wav/2-39-tfrecord-78.wav',\n",
       " '/home/husein/ssd2/imda/wav/7-63-tfrecord-730.wav',\n",
       " '/home/husein/ssd2/imda/wav/5-68-tfrecord-1531.wav',\n",
       " '/home/husein/ssd2/imda/wav/0-17-tfrecord-3636.wav',\n",
       " '/home/husein/ssd2/imda/wav/1-113-tfrecord-1496.wav',\n",
       " '/home/husein/ssd2/imda/wav/7-108-tfrecord-1945.wav',\n",
       " '/home/husein/ssd2/imda/wav/5-63-tfrecord-3858.wav']"
      ]
     },
     "execution_count": 14,
     "metadata": {},
     "output_type": "execute_result"
    }
   ],
   "source": [
    "sg['X'][:10]"
   ]
  },
  {
   "cell_type": "code",
   "execution_count": 15,
   "metadata": {},
   "outputs": [],
   "source": [
    "from datasets import Audio\n",
    "\n",
    "sr = 16000\n",
    "minimum = int(0.3 * sr)\n",
    "audio = Audio(sampling_rate=sr)"
   ]
  },
  {
   "cell_type": "code",
   "execution_count": 16,
   "metadata": {},
   "outputs": [],
   "source": [
    "def groupby(alignment, length, min_threshold = 0.3):\n",
    "    r = []\n",
    "    g = []\n",
    "    for no, row in enumerate(alignment):\n",
    "        \n",
    "        if no > 0 and len(r) and alignment[no]['start'] - alignment[no-1]['end'] >= min_threshold:\n",
    "            g.append(r)\n",
    "            r = []\n",
    "        \n",
    "        r.append(row)\n",
    "\n",
    "    return g"
   ]
  },
  {
   "cell_type": "code",
   "execution_count": 17,
   "metadata": {},
   "outputs": [],
   "source": [
    "directory = 'augmentation-switchboard-v9'\n",
    "!mkdir {directory}"
   ]
  },
  {
   "cell_type": "code",
   "execution_count": 18,
   "metadata": {},
   "outputs": [],
   "source": [
    "import torchaudio\n",
    "import torch\n",
    "from itertools import permutations"
   ]
  },
  {
   "cell_type": "code",
   "execution_count": 19,
   "metadata": {},
   "outputs": [],
   "source": [
    "def calculate_wer(actual, hyp):\n",
    "    \"\"\"\n",
    "    Calculate WER using `python-Levenshtein`.\n",
    "    \"\"\"\n",
    "    import Levenshtein as Lev\n",
    "\n",
    "    b = set(actual.split() + hyp.split())\n",
    "    word2char = dict(zip(b, range(len(b))))\n",
    "\n",
    "    w1 = [chr(word2char[w]) for w in actual.split()]\n",
    "    w2 = [chr(word2char[w]) for w in hyp.split()]\n",
    "\n",
    "    return Lev.distance(''.join(w1), ''.join(w2)) / len(actual.split())"
   ]
  },
  {
   "cell_type": "code",
   "execution_count": null,
   "metadata": {},
   "outputs": [
    {
     "name": "stderr",
     "output_type": "stream",
     "text": [
      "  0%|                             | 5764/2000000 [4:20:37<1428:06:59,  2.58s/it]"
     ]
    },
    {
     "name": "stdout",
     "output_type": "stream",
     "text": [
      "Calculated padded input size per channel: (0). Kernel size: (1). Kernel size can't be greater than actual input size\n"
     ]
    },
    {
     "name": "stderr",
     "output_type": "stream",
     "text": [
      "  0%|                             | 6849/2000000 [5:09:27<1502:54:38,  2.71s/it]IOPub message rate exceeded.\n",
      "The notebook server will temporarily stop sending output\n",
      "to the client in order to avoid crashing it.\n",
      "To change this limit, set the config variable\n",
      "`--NotebookApp.iopub_msg_rate_limit`.\n",
      "\n",
      "Current values:\n",
      "NotebookApp.iopub_msg_rate_limit=1000.0 (msgs/sec)\n",
      "NotebookApp.rate_limit_window=3.0 (secs)\n",
      "\n",
      "  1%|▏                           | 12200/2000000 [9:12:11<1164:13:35,  2.11s/it]"
     ]
    },
    {
     "name": "stdout",
     "output_type": "stream",
     "text": [
      "Argument #4: Padding size should be less than the corresponding input dimension, but got: padding (200, 200) at dimension 2 of input [1, 1, 160]\n"
     ]
    },
    {
     "name": "stderr",
     "output_type": "stream",
     "text": [
      "  1%|▏                          | 14442/2000000 [10:53:38<1556:30:53,  2.82s/it]IOPub message rate exceeded.\n",
      "The notebook server will temporarily stop sending output\n",
      "to the client in order to avoid crashing it.\n",
      "To change this limit, set the config variable\n",
      "`--NotebookApp.iopub_msg_rate_limit`.\n",
      "\n",
      "Current values:\n",
      "NotebookApp.iopub_msg_rate_limit=1000.0 (msgs/sec)\n",
      "NotebookApp.rate_limit_window=3.0 (secs)\n",
      "\n",
      "  1%|▎                          | 21101/2000000 [15:57:20<1356:53:44,  2.47s/it]"
     ]
    },
    {
     "name": "stdout",
     "output_type": "stream",
     "text": [
      "Calculated padded input size per channel: (0). Kernel size: (1). Kernel size can't be greater than actual input size\n"
     ]
    },
    {
     "name": "stderr",
     "output_type": "stream",
     "text": [
      "  1%|▎                          | 27360/2000000 [20:45:33<1279:54:12,  2.34s/it]"
     ]
    },
    {
     "name": "stdout",
     "output_type": "stream",
     "text": [
      "Argument #4: Padding size should be less than the corresponding input dimension, but got: padding (200, 200) at dimension 2 of input [1, 1, 160]\n"
     ]
    },
    {
     "name": "stderr",
     "output_type": "stream",
     "text": [
      "  1%|▎                          | 27648/2000000 [20:58:45<1165:42:46,  2.13s/it]"
     ]
    },
    {
     "name": "stdout",
     "output_type": "stream",
     "text": [
      "Calculated padded input size per channel: (0). Kernel size: (1). Kernel size can't be greater than actual input size\n"
     ]
    },
    {
     "name": "stderr",
     "output_type": "stream",
     "text": [
      "  2%|▍                          | 30144/2000000 [22:54:21<1530:02:08,  2.80s/it]"
     ]
    },
    {
     "name": "stdout",
     "output_type": "stream",
     "text": [
      "Argument #4: Padding size should be less than the corresponding input dimension, but got: padding (200, 200) at dimension 2 of input [1, 1, 14]\n"
     ]
    },
    {
     "name": "stderr",
     "output_type": "stream",
     "text": [
      "  2%|▍                          | 31976/2000000 [24:18:33<1307:22:41,  2.39s/it]"
     ]
    }
   ],
   "source": [
    "data = {}\n",
    "for O in tqdm(range(2000000)):\n",
    "    try:\n",
    "        i_ms = sample_without_replacement(len(ms['X']), 4)\n",
    "        i_sg = sample_without_replacement(len(sg['X']), 4)\n",
    "\n",
    "        groups = []\n",
    "        for i in i_ms:\n",
    "            x = ms['X'][i]\n",
    "            v = ms['Y'][i]\n",
    "            y = audio.decode_example(audio.encode_example(x))['array']\n",
    "            asr_ = asr.forward([y])[0]\n",
    "            \n",
    "            if asr_[0][1][0] < 0.15 and calculate_wer(v, asr_[0][0]) > 0.1:\n",
    "                # print(f'skip ms {i}', v, asr_[0][0], asr_[0][1][0])\n",
    "                continue\n",
    "                \n",
    "            result = model.predict(y, v)\n",
    "\n",
    "            if ' '.join([r['text'] for r in result['words_alignment']]) != v:\n",
    "                continue\n",
    "\n",
    "            grouped = groupby(result['words_alignment'], len(y) / sr)\n",
    "            # print(grouped)\n",
    "            for g in grouped:\n",
    "                y_ = y[int(g[0]['start'] * sr): int(g[-1]['end'] * sr) + minimum]\n",
    "                if len(y_):\n",
    "                    v_ = [g_['text'] for g_ in g]\n",
    "                    groups.append((y_, v_))\n",
    "\n",
    "        for i in i_sg:\n",
    "            x = sg['X'][i]\n",
    "            v = sg['Y'][i]\n",
    "            y = audio.decode_example(audio.encode_example(x))['array']\n",
    "            asr_ = asr.forward([y])[0]\n",
    "            \n",
    "            if asr_[0][1][0] < 0.15 and calculate_wer(v, asr_[0][0]) > 0.1:\n",
    "                # print(f'skip sg {i}', v, asr_[0][0], asr_[0][1][0])\n",
    "                continue\n",
    "                \n",
    "            result = singlish_model.predict(y, v)\n",
    "\n",
    "            if ' '.join([r['text'] for r in result['words_alignment']]) != v:\n",
    "                continue\n",
    "\n",
    "            grouped = groupby(result['words_alignment'], len(y) / sr)\n",
    "            for g in grouped:\n",
    "                y_ = y[int(g[0]['start'] * sr): int(g[-1]['end'] * sr) + minimum]\n",
    "                if len(y_):\n",
    "                    v_ = [g_['text'] for g_ in g]\n",
    "                    groups.append((y_, v_))\n",
    "                    \n",
    "        if not len(groups):\n",
    "            continue\n",
    "            \n",
    "        groups = sorted(groups, key = lambda x: len(' '.join(x[1])), reverse = True)[:7]\n",
    "        \n",
    "        strings = [' '.join(g[1]) for g in groups]\n",
    "        perm = list(permutations(range(len(groups))))\n",
    "        \n",
    "        scores = []\n",
    "        for p in perm:\n",
    "            s = ' '.join([strings[p_] for p_ in p])\n",
    "            scores.append(lm.score(s))\n",
    "            \n",
    "        best_perm = perm[np.argmax(scores)]\n",
    "        \n",
    "        l = 0\n",
    "        combine_y, combine_v = [], []\n",
    "        index = 0\n",
    "        while l < 15 and index < len(groups):\n",
    "            g = groups[best_perm[index]]\n",
    "            l_ = len(g[0]) / sr\n",
    "            if l_ < 1.0:\n",
    "                index += 1\n",
    "                continue\n",
    "            r_int = random.randint(3000, 16000)\n",
    "            l += l_ + (r_int / sr)\n",
    "            combine_y.append(g[0] / np.abs(g[0]).max())\n",
    "            combine_y.append(np.zeros(shape = (r_int,)))\n",
    "            combine_v.extend(g[1])\n",
    "            index += 1\n",
    "\n",
    "        if len(combine_v):\n",
    "            audio_path = f'{directory}/{O}.mp3'\n",
    "            torchaudio.save(audio_path, \n",
    "                            torch.tensor(np.concatenate(combine_y).astype('float32')).unsqueeze(0), \n",
    "                            sr, format='mp3')\n",
    "            data[O] = ' '.join(combine_v)\n",
    "            \n",
    "    except Exception as e:\n",
    "        print(e)"
   ]
  },
  {
   "cell_type": "code",
   "execution_count": 52,
   "metadata": {},
   "outputs": [
    {
     "data": {
      "text/plain": [
       "5"
      ]
     },
     "execution_count": 52,
     "metadata": {},
     "output_type": "execute_result"
    }
   ],
   "source": [
    "len(data)"
   ]
  },
  {
   "cell_type": "code",
   "execution_count": 53,
   "metadata": {},
   "outputs": [
    {
     "data": {
      "text/plain": [
       "{0: 'jamiyah halfway house darul islah presbyterian church',\n",
       " 1: 'selalu kerap berlaku dan taspos ini selain daripada kemudahan seharusnya bermesyuarat they got out of the car and took a lot of pictures as they hiked up a gentle slope towards the top ayat tentang para pengikut',\n",
       " 2: 'harum manis when you kepada masyarakat maklumat yang betul',\n",
       " 3: 'seventeen three u two nine zero five number sequence is it will then later take off its about fifty four minutes walk and date of birth is ten perdana menteri telah',\n",
       " 4: 'punya sistem perancangan berdasarkan bukti badan bayi think i would find would be her so i just went down to her just sitting there just crying her eyes out and im like your two years of your army experience can be converted kaya nombor satu tidak ada masalah'}"
      ]
     },
     "execution_count": 53,
     "metadata": {},
     "output_type": "execute_result"
    }
   ],
   "source": [
    "data"
   ]
  },
  {
   "cell_type": "code",
   "execution_count": 55,
   "metadata": {},
   "outputs": [
    {
     "data": {
      "text/html": [
       "\n",
       "                <audio  controls=\"controls\" >\n",
       "                    <source src=\"data:audio/mpeg;base64,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\" type=\"audio/mpeg\" />\n",
       "                    Your browser does not support the audio element.\n",
       "                </audio>\n",
       "              "
      ],
      "text/plain": [
       "<IPython.lib.display.Audio object>"
      ]
     },
     "execution_count": 55,
     "metadata": {},
     "output_type": "execute_result"
    }
   ],
   "source": [
    "import IPython.display as ipd\n",
    "ipd.Audio(f'{directory}/2.mp3')"
   ]
  },
  {
   "cell_type": "code",
   "execution_count": null,
   "metadata": {},
   "outputs": [],
   "source": [
    "directory"
   ]
  },
  {
   "cell_type": "code",
   "execution_count": null,
   "metadata": {},
   "outputs": [],
   "source": [
    "with open('augment-switchboard-v8.json', 'w') as fopen:\n",
    "    json.dump(data, fopen)"
   ]
  },
  {
   "cell_type": "code",
   "execution_count": null,
   "metadata": {},
   "outputs": [],
   "source": []
  }
 ],
 "metadata": {
  "kernelspec": {
   "display_name": "Python 3 (ipykernel)",
   "language": "python",
   "name": "python3"
  },
  "language_info": {
   "codemirror_mode": {
    "name": "ipython",
    "version": 3
   },
   "file_extension": ".py",
   "mimetype": "text/x-python",
   "name": "python",
   "nbconvert_exporter": "python",
   "pygments_lexer": "ipython3",
   "version": "3.8.10"
  }
 },
 "nbformat": 4,
 "nbformat_minor": 4
}
