{
 "cells": [
  {
   "cell_type": "code",
   "execution_count": 1,
   "metadata": {},
   "outputs": [],
   "source": [
    "import os\n",
    "\n",
    "os.environ['CUDA_VISIBLE_DEVICES'] = '0'\n",
    "os.environ['TF_FORCE_GPU_ALLOW_GROWTH'] = 'true'"
   ]
  },
  {
   "cell_type": "code",
   "execution_count": 2,
   "metadata": {},
   "outputs": [
    {
     "name": "stderr",
     "output_type": "stream",
     "text": [
      "`pyaudio` is not available, `malaya_speech.streaming.pyaudio` is not able to use.\n"
     ]
    }
   ],
   "source": [
    "import malaya_speech\n",
    "import random\n",
    "import numpy as np\n",
    "import malaya\n",
    "from sklearn.utils import shuffle\n",
    "from sklearn.utils.random import sample_without_replacement"
   ]
  },
  {
   "cell_type": "code",
   "execution_count": 3,
   "metadata": {},
   "outputs": [
    {
     "data": {
      "text/html": [
       "<div>\n",
       "<style scoped>\n",
       "    .dataframe tbody tr th:only-of-type {\n",
       "        vertical-align: middle;\n",
       "    }\n",
       "\n",
       "    .dataframe tbody tr th {\n",
       "        vertical-align: top;\n",
       "    }\n",
       "\n",
       "    .dataframe thead th {\n",
       "        text-align: right;\n",
       "    }\n",
       "</style>\n",
       "<table border=\"1\" class=\"dataframe\">\n",
       "  <thead>\n",
       "    <tr style=\"text-align: right;\">\n",
       "      <th></th>\n",
       "      <th>Size (MB)</th>\n",
       "      <th>Quantized Size (MB)</th>\n",
       "      <th>Language</th>\n",
       "    </tr>\n",
       "  </thead>\n",
       "  <tbody>\n",
       "    <tr>\n",
       "      <th>conformer-transducer</th>\n",
       "      <td>120</td>\n",
       "      <td>32.3</td>\n",
       "      <td>[malay]</td>\n",
       "    </tr>\n",
       "    <tr>\n",
       "      <th>conformer-transducer-mixed</th>\n",
       "      <td>120</td>\n",
       "      <td>32.3</td>\n",
       "      <td>[malay, singlish]</td>\n",
       "    </tr>\n",
       "    <tr>\n",
       "      <th>conformer-transducer-singlish</th>\n",
       "      <td>120</td>\n",
       "      <td>32.3</td>\n",
       "      <td>[singlish]</td>\n",
       "    </tr>\n",
       "  </tbody>\n",
       "</table>\n",
       "</div>"
      ],
      "text/plain": [
       "                              Size (MB) Quantized Size (MB)           Language\n",
       "conformer-transducer                120                32.3            [malay]\n",
       "conformer-transducer-mixed          120                32.3  [malay, singlish]\n",
       "conformer-transducer-singlish       120                32.3         [singlish]"
      ]
     },
     "execution_count": 3,
     "metadata": {},
     "output_type": "execute_result"
    }
   ],
   "source": [
    "malaya_speech.force_alignment.transducer.available_transformer()"
   ]
  },
  {
   "cell_type": "code",
   "execution_count": 4,
   "metadata": {},
   "outputs": [
    {
     "name": "stderr",
     "output_type": "stream",
     "text": [
      "2023-03-14 00:14:24.154198: I tensorflow/core/platform/cpu_feature_guard.cc:142] This TensorFlow binary is optimized with oneAPI Deep Neural Network Library (oneDNN) to use the following CPU instructions in performance-critical operations:  AVX2 FMA\n",
      "To enable them in other operations, rebuild TensorFlow with the appropriate compiler flags.\n",
      "2023-03-14 00:14:24.193655: I tensorflow/stream_executor/cuda/cuda_gpu_executor.cc:937] successful NUMA node read from SysFS had negative value (-1), but there must be at least one NUMA node, so returning NUMA node zero\n",
      "2023-03-14 00:14:24.196036: I tensorflow/stream_executor/cuda/cuda_gpu_executor.cc:937] successful NUMA node read from SysFS had negative value (-1), but there must be at least one NUMA node, so returning NUMA node zero\n",
      "2023-03-14 00:14:24.196846: I tensorflow/stream_executor/cuda/cuda_gpu_executor.cc:937] successful NUMA node read from SysFS had negative value (-1), but there must be at least one NUMA node, so returning NUMA node zero\n",
      "2023-03-14 00:14:24.491036: I tensorflow/stream_executor/cuda/cuda_gpu_executor.cc:937] successful NUMA node read from SysFS had negative value (-1), but there must be at least one NUMA node, so returning NUMA node zero\n",
      "2023-03-14 00:14:24.491829: I tensorflow/stream_executor/cuda/cuda_gpu_executor.cc:937] successful NUMA node read from SysFS had negative value (-1), but there must be at least one NUMA node, so returning NUMA node zero\n",
      "2023-03-14 00:14:24.492351: I tensorflow/stream_executor/cuda/cuda_gpu_executor.cc:937] successful NUMA node read from SysFS had negative value (-1), but there must be at least one NUMA node, so returning NUMA node zero\n",
      "2023-03-14 00:14:24.492978: W tensorflow/core/common_runtime/gpu/gpu_bfc_allocator.cc:39] Overriding allow_growth setting because the TF_FORCE_GPU_ALLOW_GROWTH environment variable is set. Original config value was 0.\n",
      "2023-03-14 00:14:24.492996: I tensorflow/core/common_runtime/gpu/gpu_device.cc:1510] Created device /device:GPU:0 with 22302 MB memory:  -> device: 0, name: NVIDIA GeForce RTX 3090 Ti, pci bus id: 0000:01:00.0, compute capability: 8.6\n",
      "2023-03-14 00:14:27.882462: I tensorflow/stream_executor/cuda/cuda_gpu_executor.cc:937] successful NUMA node read from SysFS had negative value (-1), but there must be at least one NUMA node, so returning NUMA node zero\n",
      "2023-03-14 00:14:27.883347: I tensorflow/stream_executor/cuda/cuda_gpu_executor.cc:937] successful NUMA node read from SysFS had negative value (-1), but there must be at least one NUMA node, so returning NUMA node zero\n",
      "2023-03-14 00:14:27.884070: I tensorflow/stream_executor/cuda/cuda_gpu_executor.cc:937] successful NUMA node read from SysFS had negative value (-1), but there must be at least one NUMA node, so returning NUMA node zero\n",
      "2023-03-14 00:14:27.884752: I tensorflow/stream_executor/cuda/cuda_gpu_executor.cc:937] successful NUMA node read from SysFS had negative value (-1), but there must be at least one NUMA node, so returning NUMA node zero\n",
      "2023-03-14 00:14:27.885214: I tensorflow/stream_executor/cuda/cuda_gpu_executor.cc:937] successful NUMA node read from SysFS had negative value (-1), but there must be at least one NUMA node, so returning NUMA node zero\n",
      "2023-03-14 00:14:27.885840: I tensorflow/core/common_runtime/gpu/gpu_device.cc:1510] Created device /job:localhost/replica:0/task:0/device:GPU:0 with 22302 MB memory:  -> device: 0, name: NVIDIA GeForce RTX 3090 Ti, pci bus id: 0000:01:00.0, compute capability: 8.6\n",
      "2023-03-14 00:14:33.192683: I tensorflow/stream_executor/cuda/cuda_gpu_executor.cc:937] successful NUMA node read from SysFS had negative value (-1), but there must be at least one NUMA node, so returning NUMA node zero\n",
      "2023-03-14 00:14:33.193576: I tensorflow/stream_executor/cuda/cuda_gpu_executor.cc:937] successful NUMA node read from SysFS had negative value (-1), but there must be at least one NUMA node, so returning NUMA node zero\n",
      "2023-03-14 00:14:33.194344: I tensorflow/stream_executor/cuda/cuda_gpu_executor.cc:937] successful NUMA node read from SysFS had negative value (-1), but there must be at least one NUMA node, so returning NUMA node zero\n",
      "2023-03-14 00:14:33.195149: I tensorflow/stream_executor/cuda/cuda_gpu_executor.cc:937] successful NUMA node read from SysFS had negative value (-1), but there must be at least one NUMA node, so returning NUMA node zero\n",
      "2023-03-14 00:14:33.195584: I tensorflow/stream_executor/cuda/cuda_gpu_executor.cc:937] successful NUMA node read from SysFS had negative value (-1), but there must be at least one NUMA node, so returning NUMA node zero\n",
      "2023-03-14 00:14:33.196224: I tensorflow/core/common_runtime/gpu/gpu_device.cc:1510] Created device /job:localhost/replica:0/task:0/device:GPU:0 with 22302 MB memory:  -> device: 0, name: NVIDIA GeForce RTX 3090 Ti, pci bus id: 0000:01:00.0, compute capability: 8.6\n"
     ]
    }
   ],
   "source": [
    "model = malaya_speech.force_alignment.transducer.transformer(model = 'conformer-transducer', device = 'gpu:0')\n",
    "singlish_model = malaya_speech.force_alignment.transducer.transformer(model = 'conformer-transducer-singlish', device = 'gpu:0')"
   ]
  },
  {
   "cell_type": "code",
   "execution_count": 5,
   "metadata": {},
   "outputs": [],
   "source": [
    "asr = malaya_speech.stt.transducer.pt_transformer(model = 'mesolitica/conformer-medium-mixed')\n",
    "_ = asr.cuda()\n",
    "_ = asr.eval()"
   ]
  },
  {
   "cell_type": "code",
   "execution_count": 6,
   "metadata": {},
   "outputs": [],
   "source": [
    "lm = malaya.language_model.kenlm(model = 'bahasa-wiki-news-iium-stt')"
   ]
  },
  {
   "cell_type": "code",
   "execution_count": 7,
   "metadata": {},
   "outputs": [
    {
     "data": {
      "text/plain": [
       "-13.193544387817383"
      ]
     },
     "execution_count": 7,
     "metadata": {},
     "output_type": "execute_result"
    }
   ],
   "source": [
    "lm.score('tak suka hg')"
   ]
  },
  {
   "cell_type": "code",
   "execution_count": 8,
   "metadata": {},
   "outputs": [],
   "source": [
    "import json\n",
    "from glob import glob\n",
    "from tqdm import tqdm\n",
    "\n",
    "with open('/home/husein/ssd1/speech-bahasa/malay-asr-train.json') as fopen:\n",
    "    ms = json.load(fopen)"
   ]
  },
  {
   "cell_type": "code",
   "execution_count": 9,
   "metadata": {},
   "outputs": [
    {
     "data": {
      "text/plain": [
       "1635599"
      ]
     },
     "execution_count": 9,
     "metadata": {},
     "output_type": "execute_result"
    }
   ],
   "source": [
    "len(ms['X'])"
   ]
  },
  {
   "cell_type": "code",
   "execution_count": 10,
   "metadata": {},
   "outputs": [],
   "source": [
    "with open('/home/husein/malaya-speech/singlish-stt-train.json') as fopen:\n",
    "    sg = json.load(fopen)"
   ]
  },
  {
   "cell_type": "code",
   "execution_count": 11,
   "metadata": {
    "scrolled": true
   },
   "outputs": [
    {
     "data": {
      "text/plain": [
       "3284901"
      ]
     },
     "execution_count": 11,
     "metadata": {},
     "output_type": "execute_result"
    }
   ],
   "source": [
    "len(sg['X'])"
   ]
  },
  {
   "cell_type": "code",
   "execution_count": 12,
   "metadata": {},
   "outputs": [
    {
     "data": {
      "text/plain": [
       "['/home/husein/ssd2/imda/wav/5-75-tfrecord-1409.wav',\n",
       " '/home/husein/ssd2/imda/wav/5-118-tfrecord-1786.wav',\n",
       " '/home/husein/ssd2/imda/wav/4-77-tfrecord-2083.wav',\n",
       " '/home/husein/ssd2/imda/wav/2-39-tfrecord-78.wav',\n",
       " '/home/husein/ssd2/imda/wav/7-63-tfrecord-730.wav',\n",
       " '/home/husein/ssd2/imda/wav/5-68-tfrecord-1531.wav',\n",
       " '/home/husein/ssd2/imda/wav/0-17-tfrecord-3636.wav',\n",
       " '/home/husein/ssd2/imda/wav/1-113-tfrecord-1496.wav',\n",
       " '/home/husein/ssd2/imda/wav/7-108-tfrecord-1945.wav',\n",
       " '/home/husein/ssd2/imda/wav/5-63-tfrecord-3858.wav']"
      ]
     },
     "execution_count": 12,
     "metadata": {},
     "output_type": "execute_result"
    }
   ],
   "source": [
    "sg['X'][:10]"
   ]
  },
  {
   "cell_type": "code",
   "execution_count": 13,
   "metadata": {},
   "outputs": [],
   "source": [
    "from datasets import Audio\n",
    "\n",
    "sr = 16000\n",
    "minimum = int(0.3 * sr)\n",
    "audio = Audio(sampling_rate=sr)"
   ]
  },
  {
   "cell_type": "code",
   "execution_count": 14,
   "metadata": {},
   "outputs": [],
   "source": [
    "def groupby(alignment, length, min_threshold = 0.3):\n",
    "    r = []\n",
    "    g = []\n",
    "    for no, row in enumerate(alignment):\n",
    "        \n",
    "        if no > 0 and len(r) and alignment[no]['start'] - alignment[no-1]['end'] >= min_threshold:\n",
    "            g.append(r)\n",
    "            r = []\n",
    "        \n",
    "        r.append(row)\n",
    "\n",
    "    return g"
   ]
  },
  {
   "cell_type": "code",
   "execution_count": 15,
   "metadata": {},
   "outputs": [],
   "source": [
    "directory = 'augmentation-switchboard-v9'\n",
    "!mkdir {directory}"
   ]
  },
  {
   "cell_type": "code",
   "execution_count": 16,
   "metadata": {},
   "outputs": [],
   "source": [
    "import torchaudio\n",
    "import torch\n",
    "from itertools import permutations"
   ]
  },
  {
   "cell_type": "code",
   "execution_count": 17,
   "metadata": {},
   "outputs": [],
   "source": [
    "def calculate_wer(actual, hyp):\n",
    "    \"\"\"\n",
    "    Calculate WER using `python-Levenshtein`.\n",
    "    \"\"\"\n",
    "    import Levenshtein as Lev\n",
    "\n",
    "    b = set(actual.split() + hyp.split())\n",
    "    word2char = dict(zip(b, range(len(b))))\n",
    "\n",
    "    w1 = [chr(word2char[w]) for w in actual.split()]\n",
    "    w2 = [chr(word2char[w]) for w in hyp.split()]\n",
    "\n",
    "    return Lev.distance(''.join(w1), ''.join(w2)) / len(actual.split())"
   ]
  },
  {
   "cell_type": "code",
   "execution_count": null,
   "metadata": {},
   "outputs": [
    {
     "name": "stderr",
     "output_type": "stream",
     "text": [
      "  0%|                             | 3339/2000000 [1:55:58<1179:00:31,  2.13s/it]IOPub message rate exceeded.\n",
      "The notebook server will temporarily stop sending output\n",
      "to the client in order to avoid crashing it.\n",
      "To change this limit, set the config variable\n",
      "`--NotebookApp.iopub_msg_rate_limit`.\n",
      "\n",
      "Current values:\n",
      "NotebookApp.iopub_msg_rate_limit=1000.0 (msgs/sec)\n",
      "NotebookApp.rate_limit_window=3.0 (secs)\n",
      "\n",
      "  1%|▏                           | 16873/2000000 [9:43:37<1084:55:39,  1.97s/it]"
     ]
    },
    {
     "name": "stdout",
     "output_type": "stream",
     "text": [
      "2 root error(s) found.\n",
      "  (0) Invalid argument: Integer division by zero\n",
      "\t [[node import/floordiv_1 (defined at home/husein/.local/lib/python3.8/site-packages/malaya_boilerplate/frozen_graph.py:384) ]]\n",
      "\t [[import/non_blank_transcript/_691]]\n",
      "  (1) Invalid argument: Integer division by zero\n",
      "\t [[node import/floordiv_1 (defined at home/husein/.local/lib/python3.8/site-packages/malaya_boilerplate/frozen_graph.py:384) ]]\n",
      "0 successful operations.\n",
      "0 derived errors ignored.\n",
      "\n",
      "Original stack trace for 'import/floordiv_1':\n",
      "  File \"usr/lib/python3.8/runpy.py\", line 194, in _run_module_as_main\n",
      "    return _run_code(code, main_globals, None,\n",
      "  File \"usr/lib/python3.8/runpy.py\", line 87, in _run_code\n",
      "    exec(code, run_globals)\n",
      "  File \"home/husein/.local/lib/python3.8/site-packages/ipykernel_launcher.py\", line 16, in <module>\n",
      "    app.launch_new_instance()\n",
      "  File \"home/husein/.local/lib/python3.8/site-packages/traitlets/config/application.py\", line 846, in launch_instance\n",
      "    app.start()\n",
      "  File \"home/husein/.local/lib/python3.8/site-packages/ipykernel/kernelapp.py\", line 677, in start\n",
      "    self.io_loop.start()\n",
      "  File \"home/husein/.local/lib/python3.8/site-packages/tornado/platform/asyncio.py\", line 149, in start\n",
      "    self.asyncio_loop.run_forever()\n",
      "  File \"usr/lib/python3.8/asyncio/base_events.py\", line 570, in run_forever\n",
      "    self._run_once()\n",
      "  File \"usr/lib/python3.8/asyncio/base_events.py\", line 1859, in _run_once\n",
      "    handle._run()\n",
      "  File \"usr/lib/python3.8/asyncio/events.py\", line 81, in _run\n",
      "    self._context.run(self._callback, *self._args)\n",
      "  File \"home/husein/.local/lib/python3.8/site-packages/ipykernel/kernelbase.py\", line 457, in dispatch_queue\n",
      "    await self.process_one()\n",
      "  File \"home/husein/.local/lib/python3.8/site-packages/ipykernel/kernelbase.py\", line 446, in process_one\n",
      "    await dispatch(*args)\n",
      "  File \"home/husein/.local/lib/python3.8/site-packages/ipykernel/kernelbase.py\", line 353, in dispatch_shell\n",
      "    await result\n",
      "  File \"home/husein/.local/lib/python3.8/site-packages/ipykernel/kernelbase.py\", line 648, in execute_request\n",
      "    reply_content = await reply_content\n",
      "  File \"home/husein/.local/lib/python3.8/site-packages/ipykernel/ipkernel.py\", line 353, in do_execute\n",
      "    res = shell.run_cell(code, store_history=store_history, silent=silent)\n",
      "  File \"home/husein/.local/lib/python3.8/site-packages/ipykernel/zmqshell.py\", line 533, in run_cell\n",
      "    return super(ZMQInteractiveShell, self).run_cell(*args, **kwargs)\n",
      "  File \"home/husein/.local/lib/python3.8/site-packages/IPython/core/interactiveshell.py\", line 2901, in run_cell\n",
      "    result = self._run_cell(\n",
      "  File \"home/husein/.local/lib/python3.8/site-packages/IPython/core/interactiveshell.py\", line 2947, in _run_cell\n",
      "    return runner(coro)\n",
      "  File \"home/husein/.local/lib/python3.8/site-packages/IPython/core/async_helpers.py\", line 68, in _pseudo_sync_runner\n",
      "    coro.send(None)\n",
      "  File \"home/husein/.local/lib/python3.8/site-packages/IPython/core/interactiveshell.py\", line 3172, in run_cell_async\n",
      "    has_raised = await self.run_ast_nodes(code_ast.body, cell_name,\n",
      "  File \"home/husein/.local/lib/python3.8/site-packages/IPython/core/interactiveshell.py\", line 3364, in run_ast_nodes\n",
      "    if (await self.run_code(code, result,  async_=asy)):\n",
      "  File \"home/husein/.local/lib/python3.8/site-packages/IPython/core/interactiveshell.py\", line 3444, in run_code\n",
      "    exec(code_obj, self.user_global_ns, self.user_ns)\n",
      "  File \"tmp/ipykernel_1660862/4272912733.py\", line 2, in <module>\n",
      "    singlish_model = malaya_speech.force_alignment.transducer.transformer(model = 'conformer-transducer-singlish', device = 'gpu:0')\n",
      "  File \"home/husein/.local/lib/python3.8/site-packages/herpetologist/__init__.py\", line 100, in check\n",
      "    return func(*args, **kwargs)\n",
      "  File \"home/husein/dev/malaya-speech/malaya_speech/force_alignment/transducer.py\", line 66, in transformer\n",
      "    return stt.transducer_load(\n",
      "  File \"home/husein/dev/malaya-speech/malaya_speech/supervised/stt.py\", line 80, in transducer_load\n",
      "    g = load_graph(path['model'], **kwargs)\n",
      "  File \"home/husein/dev/malaya-speech/malaya_speech/utils/__init__.py\", line 48, in load_graph\n",
      "    return frozen_graph.load_graph(package, frozen_graph_filename, **kwargs)\n",
      "  File \"home/husein/.local/lib/python3.8/site-packages/malaya_boilerplate/frozen_graph.py\", line 384, in load_graph\n",
      "    tf.import_graph_def(graph_def)\n",
      "  File \"home/husein/.local/lib/python3.8/site-packages/tensorflow/python/util/deprecation.py\", line 549, in new_func\n",
      "    return func(*args, **kwargs)\n",
      "  File \"home/husein/.local/lib/python3.8/site-packages/tensorflow/python/framework/importer.py\", line 400, in import_graph_def\n",
      "    return _import_graph_def_internal(\n",
      "  File \"home/husein/.local/lib/python3.8/site-packages/tensorflow/python/framework/importer.py\", line 513, in _import_graph_def_internal\n",
      "    _ProcessNewOps(graph)\n",
      "  File \"home/husein/.local/lib/python3.8/site-packages/tensorflow/python/framework/importer.py\", line 243, in _ProcessNewOps\n",
      "    for new_op in graph._add_new_tf_operations(compute_devices=False):  # pylint: disable=protected-access\n",
      "  File \"home/husein/.local/lib/python3.8/site-packages/tensorflow/python/framework/ops.py\", line 3711, in _add_new_tf_operations\n",
      "    new_ops = [\n",
      "  File \"home/husein/.local/lib/python3.8/site-packages/tensorflow/python/framework/ops.py\", line 3712, in <listcomp>\n",
      "    self._create_op_from_tf_operation(c_op, compute_device=compute_devices)\n",
      "  File \"home/husein/.local/lib/python3.8/site-packages/tensorflow/python/framework/ops.py\", line 3594, in _create_op_from_tf_operation\n",
      "    ret = Operation(c_op, self)\n",
      "  File \"home/husein/.local/lib/python3.8/site-packages/tensorflow/python/framework/ops.py\", line 2045, in __init__\n",
      "    self._traceback = tf_stack.extract_stack_for_node(self._c_op)\n",
      "\n"
     ]
    },
    {
     "name": "stderr",
     "output_type": "stream",
     "text": [
      "  1%|▎                          | 21311/2000000 [12:17:34<1182:24:16,  2.15s/it]"
     ]
    }
   ],
   "source": [
    "data = {}\n",
    "for O in tqdm(range(2000000)):\n",
    "    try:\n",
    "        i_ms = sample_without_replacement(len(ms['X']), 3)\n",
    "        i_sg = sample_without_replacement(len(sg['X']), 3)\n",
    "\n",
    "        groups = []\n",
    "        for i in i_ms:\n",
    "            x = ms['X'][i]\n",
    "            v = ms['Y'][i]\n",
    "            y = audio.decode_example(audio.encode_example(x))['array']\n",
    "            asr_ = asr.forward([y])[0]\n",
    "            \n",
    "            if asr_[0][1][0] < 0.07 and calculate_wer(v, asr_[0][0]) > 0.1:\n",
    "                # print(f'skip ms {i}', v, asr_[0][0], asr_[0][1][0])\n",
    "                continue\n",
    "                \n",
    "            result = model.predict(y, v)\n",
    "\n",
    "            if ' '.join([r['text'] for r in result['words_alignment']]) != v:\n",
    "                continue\n",
    "\n",
    "            grouped = groupby(result['words_alignment'], len(y) / sr)\n",
    "            # print(grouped)\n",
    "            for g in grouped:\n",
    "                y_ = y[int(g[0]['start'] * sr): int(g[-1]['end'] * sr) + minimum]\n",
    "                if len(y_):\n",
    "                    v_ = [g_['text'] for g_ in g]\n",
    "                    groups.append((y_, v_))\n",
    "\n",
    "        for i in i_sg:\n",
    "            x = sg['X'][i]\n",
    "            v = sg['Y'][i]\n",
    "            y = audio.decode_example(audio.encode_example(x))['array']\n",
    "            asr_ = asr.forward([y])[0]\n",
    "            \n",
    "            if asr_[0][1][0] < 0.1 and calculate_wer(v, asr_[0][0]) > 0.1:\n",
    "                # print(f'skip sg {i}', v, asr_[0][0], asr_[0][1][0])\n",
    "                continue\n",
    "                \n",
    "            result = singlish_model.predict(y, v)\n",
    "\n",
    "            if ' '.join([r['text'] for r in result['words_alignment']]) != v:\n",
    "                continue\n",
    "\n",
    "            grouped = groupby(result['words_alignment'], len(y) / sr)\n",
    "            for g in grouped:\n",
    "                y_ = y[int(g[0]['start'] * sr): int(g[-1]['end'] * sr) + minimum]\n",
    "                if len(y_):\n",
    "                    v_ = [g_['text'] for g_ in g]\n",
    "                    groups.append((y_, v_))\n",
    "                    \n",
    "        if not len(groups):\n",
    "            continue\n",
    "            \n",
    "        groups = sorted(groups, key = lambda x: len(' '.join(x[1])), reverse = True)[:7]\n",
    "        \n",
    "        strings = [' '.join(g[1]) for g in groups]\n",
    "        perm = list(permutations(range(len(groups))))\n",
    "        \n",
    "        scores = []\n",
    "        for p in perm:\n",
    "            s = ' '.join([strings[p_] for p_ in p])\n",
    "            scores.append(lm.score(s))\n",
    "            \n",
    "        best_perm = perm[np.argmax(scores)]\n",
    "        \n",
    "        l = 0\n",
    "        combine_y, combine_v = [], []\n",
    "        index = 0\n",
    "        while l < 15 and index < len(groups):\n",
    "            g = groups[best_perm[index]]\n",
    "            l_ = len(g[0]) / sr\n",
    "            if l_ < 1.0:\n",
    "                index += 1\n",
    "                continue\n",
    "            l += l_\n",
    "            combine_y.append(g[0] / np.abs(g[0]).max())\n",
    "            combine_v.extend(g[1])\n",
    "            index += 1\n",
    "\n",
    "        if len(combine_v):\n",
    "            audio_path = f'{directory}/{O}.mp3'\n",
    "            torchaudio.save(audio_path, \n",
    "                            torch.tensor(np.concatenate(combine_y).astype('float32')).unsqueeze(0), \n",
    "                            sr, format='mp3')\n",
    "            data[O] = ' '.join(combine_v)\n",
    "            \n",
    "    except Exception as e:\n",
    "        print(e)"
   ]
  },
  {
   "cell_type": "code",
   "execution_count": 19,
   "metadata": {},
   "outputs": [
    {
     "data": {
      "text/plain": [
       "62"
      ]
     },
     "execution_count": 19,
     "metadata": {},
     "output_type": "execute_result"
    }
   ],
   "source": [
    "len(data)"
   ]
  },
  {
   "cell_type": "code",
   "execution_count": 20,
   "metadata": {},
   "outputs": [
    {
     "data": {
      "text/plain": [
       "{0: 'so itulah dia tadi guys',\n",
       " 1: 'dua minggu dilaporkan',\n",
       " 2: 'bilakah lantikan ini akan diselesaikan singapore has to firmly protect its religious religiosity in the region at a time of rising',\n",
       " 3: 'hari hari cuba tun he plans to sleep in a lorry agama islam',\n",
       " 5: 'so i think shes doing a and i hope that you would help me to compliment that particular tour guide and maybe merangkumi tidak meliputi di dalam tajuk yang mereka',\n",
       " 6: 'appears to take a harder spinach with triple egg with companies memperhatikan suzann victor',\n",
       " 7: 'campaigns have to show singaporeans how their action',\n",
       " 8: 'dont say mine is better do you find that these incentives are truly helpful',\n",
       " 9: 'what favourite hawker raya sudah ditutup kepada semua lalulintas jaminan bahawa proses pilihan raya yang kendalikan oleh badan berkenaan adalah bersih telus',\n",
       " 10: 'royal sporting house floridas natural',\n",
       " 11: 'apa cita cita dia dua tiga kucing belari',\n",
       " 13: 'the crowd guffawed at comedians the government is steadily but surely progressing towards a goal of universal',\n",
       " 14: 'kembali pembangunan malaysia berhad telah melaksanakan skim mak pegang perut bila',\n",
       " 15: 'bilion ringgit menerusi dana ekuiti nasional seolah olah dengan sekuat kuat suaranya',\n",
       " 16: 'kalau pepatah melayu solat subuh dah habis solat zohor isteri dia kata nanti sembahyang zohor nanti',\n",
       " 17: 'pun dengar dengar cakap terus terang cakap thank you so much for your call abang saya akan cuba yang terbaik sebelah kanan dulu',\n",
       " 18: 'berikan ujian saja tapi mereka tak boleh cakap okay read out for me hotel enquiry dan lonjakan ekonomi yang disebut saya mulakan dengan',\n",
       " 19: 'kamu nak berbicara dengan aku seolah olah nak mengajar aku experts said there are no specific guidelines on how much processed or red',\n",
       " 20: 'dia meraba raba pipinya yang cengkung itu dengan tangannya yang sudah banyak',\n",
       " 21: 'you will push back your dinner',\n",
       " 23: 'then they have to also know the scientific turut mencatatkan pertumbuhan positif maklumat tersebut boleh disalurkan melalui iklan kempen but then also like',\n",
       " 24: 'ketika menulisnya dahulu memang saya tidak terfikirkan ataupun merancang secara berkesan pasal apa duk pasal apa sangat tu',\n",
       " 25: 'anyone who grew up here',\n",
       " 27: 'practically anyone who grew up here can automatic',\n",
       " 28: 'is going to be no ivie recently opened a new ahli keluarga nabi',\n",
       " 29: 'both moves last year were accompanied by changes in inflation sakit antara sunnah nabi ziarah sahabat',\n",
       " 30: 'definitely we can have a you can have a complimentary extra bed',\n",
       " 31: 'kita kena buat pilihan orang zaman tulah',\n",
       " 32: 'i like lala',\n",
       " 34: 'padatkan menjadi tiga pembentukan parti politik baru di tengah inforia berikutan kejatuhan soeharto lim kim san david',\n",
       " 35: 'i am a big picture person income benefit',\n",
       " 36: 'gambar gambar yang diambilnya izzati menunjukkan',\n",
       " 37: 'hatinya tidak aman kalau hatinya itu sudah pergi dari tempat itu cubalah datang semula kepadanya dengan membawa sebotol seperti orkestra',\n",
       " 38: 'okay yes i see your order right now you can request for it before or you can request for it after its waived off contraband have been handed over their vehicles and the segitiga bermuda hebat nak pi tengok segitiga bermuda',\n",
       " 39: 'birds have been found to be our',\n",
       " 40: 'maaf yang arif saksi tidak dapat',\n",
       " 42: 'terlalu teruja saya sedih kerana diseksa oleh rakan pekerja and sperry top sider',\n",
       " 43: 'an exercise they doctor with general information we prefer to go to the well the heart copes daripada kutipan biasa',\n",
       " 44: 'saya bunuh mematikan koon seng road adam drive and',\n",
       " 45: 'just as they were trying to find a tool or he doesnt even know what that they could use to fend off the dogs some cuddling siapa yang mengenal dirinya maka dia akan mengenal tuhannya apa maknanya',\n",
       " 46: 'debit card do you link any giro to it any okay we can definitely do a doorstep delivery cinderellas dress and currently for your alhamdulillah ni pertama kali saya bukan pertama kali sampai selangor',\n",
       " 48: 'buat masa sekarang kita menyanyi hampir',\n",
       " 49: 'okay how can i apply for this the thief was careful tembeling lane east asia school of theology personally to the store',\n",
       " 50: 'as a child prodigy setiap jawatankuasa sampai hilang ingatan ada sahabat yang bernama aflah',\n",
       " 51: 'ask the athletes what they think and the word genuine nowadays the younger generation joins in too as the buffet spread has pengguna yang memasang sistem penjanaan kuasa solar atas bumbung',\n",
       " 52: 'are you a student currently no right actually that plan is not available cause sekarang berjawatan kerani daripada gerakan pemikiran islam baru',\n",
       " 53: 'his critics say names found in the nominees list this year include violet oon kena habaq dia kalau nak minta minta cara baik tu patut kamu buat',\n",
       " 54: 'yang menawarkan sejumlah wang untuk membantunya menyiapkan projek itu yang berlaku pada malam itu kepada seluruh manusia di tanah arab quraisy service kepada petani',\n",
       " 55: 'kaedah akuaponik sebenarnya belum dilaksanakan',\n",
       " 56: 'jurong east avenue lian kek temple and',\n",
       " 57: 'china is said to be planning to limit power use by miners pelaksanaan beberapa',\n",
       " 58: 'for each of these attributes',\n",
       " 59: 'but i guess the question is also what you know what personally will you do if we dont have hes expected to be detained immediately if the court',\n",
       " 60: 'abraham logan habib noh',\n",
       " 61: 'the floating market is kita semua tahu tenaga',\n",
       " 62: 'si mimi bodoh ke dari sudut dunia mereka',\n",
       " 63: 'dicari dapur pelajaran tidak dilupakan',\n",
       " 64: 'mimpi perempuan kalau tidak ditunaikan maka dalam hal ini',\n",
       " 66: 'secara inklusif ringgit tak laku kita pergi batam indonesia',\n",
       " 67: 'halsey recently opened a new',\n",
       " 68: 'satu untuk negara kita lagu kenegaraan banduan banduan',\n",
       " 69: 'nabi juga puji yang mati syahid yang satu pertiga tu juga entitled groundwater'}"
      ]
     },
     "execution_count": 20,
     "metadata": {},
     "output_type": "execute_result"
    }
   ],
   "source": [
    "data"
   ]
  },
  {
   "cell_type": "code",
   "execution_count": 22,
   "metadata": {},
   "outputs": [
    {
     "data": {
      "text/html": [
       "\n",
       "                <audio  controls=\"controls\" >\n",
       "                    <source src=\"data:audio/mpeg;base64,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\" type=\"audio/mpeg\" />\n",
       "                    Your browser does not support the audio element.\n",
       "                </audio>\n",
       "              "
      ],
      "text/plain": [
       "<IPython.lib.display.Audio object>"
      ]
     },
     "execution_count": 22,
     "metadata": {},
     "output_type": "execute_result"
    }
   ],
   "source": [
    "import IPython.display as ipd\n",
    "ipd.Audio(f'{directory}/2.mp3')"
   ]
  },
  {
   "cell_type": "code",
   "execution_count": 21,
   "metadata": {},
   "outputs": [
    {
     "data": {
      "text/plain": [
       "'augmentation-switchboard-v8'"
      ]
     },
     "execution_count": 21,
     "metadata": {},
     "output_type": "execute_result"
    }
   ],
   "source": [
    "directory"
   ]
  },
  {
   "cell_type": "code",
   "execution_count": 23,
   "metadata": {},
   "outputs": [],
   "source": [
    "with open('augment-switchboard-v8.json', 'w') as fopen:\n",
    "    json.dump(data, fopen)"
   ]
  },
  {
   "cell_type": "code",
   "execution_count": null,
   "metadata": {},
   "outputs": [],
   "source": []
  }
 ],
 "metadata": {
  "kernelspec": {
   "display_name": "Python 3 (ipykernel)",
   "language": "python",
   "name": "python3"
  },
  "language_info": {
   "codemirror_mode": {
    "name": "ipython",
    "version": 3
   },
   "file_extension": ".py",
   "mimetype": "text/x-python",
   "name": "python",
   "nbconvert_exporter": "python",
   "pygments_lexer": "ipython3",
   "version": "3.8.10"
  }
 },
 "nbformat": 4,
 "nbformat_minor": 4
}
