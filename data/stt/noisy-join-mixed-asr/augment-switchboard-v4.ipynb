{
 "cells": [
  {
   "cell_type": "code",
   "execution_count": 1,
   "metadata": {},
   "outputs": [],
   "source": [
    "import os\n",
    "\n",
    "os.environ['CUDA_VISIBLE_DEVICES'] = '0'\n",
    "os.environ['TF_FORCE_GPU_ALLOW_GROWTH'] = 'true'"
   ]
  },
  {
   "cell_type": "code",
   "execution_count": 2,
   "metadata": {
    "scrolled": true
   },
   "outputs": [
    {
     "name": "stderr",
     "output_type": "stream",
     "text": [
      "`pyaudio` is not available, `malaya_speech.streaming.pyaudio` is not able to use.\n"
     ]
    }
   ],
   "source": [
    "import malaya_speech\n",
    "import random\n",
    "import numpy as np\n",
    "from sklearn.utils import shuffle\n",
    "from sklearn.utils.random import sample_without_replacement"
   ]
  },
  {
   "cell_type": "code",
   "execution_count": 3,
   "metadata": {},
   "outputs": [
    {
     "name": "stderr",
     "output_type": "stream",
     "text": [
      "2023-03-12 13:03:16.009404: I tensorflow/core/platform/cpu_feature_guard.cc:142] This TensorFlow binary is optimized with oneAPI Deep Neural Network Library (oneDNN) to use the following CPU instructions in performance-critical operations:  AVX2 FMA\n",
      "To enable them in other operations, rebuild TensorFlow with the appropriate compiler flags.\n",
      "2023-03-12 13:03:16.064381: I tensorflow/stream_executor/cuda/cuda_gpu_executor.cc:937] successful NUMA node read from SysFS had negative value (-1), but there must be at least one NUMA node, so returning NUMA node zero\n",
      "2023-03-12 13:03:16.067117: I tensorflow/stream_executor/cuda/cuda_gpu_executor.cc:937] successful NUMA node read from SysFS had negative value (-1), but there must be at least one NUMA node, so returning NUMA node zero\n",
      "2023-03-12 13:03:16.067938: I tensorflow/stream_executor/cuda/cuda_gpu_executor.cc:937] successful NUMA node read from SysFS had negative value (-1), but there must be at least one NUMA node, so returning NUMA node zero\n",
      "2023-03-12 13:03:16.368271: I tensorflow/stream_executor/cuda/cuda_gpu_executor.cc:937] successful NUMA node read from SysFS had negative value (-1), but there must be at least one NUMA node, so returning NUMA node zero\n",
      "2023-03-12 13:03:16.369118: I tensorflow/stream_executor/cuda/cuda_gpu_executor.cc:937] successful NUMA node read from SysFS had negative value (-1), but there must be at least one NUMA node, so returning NUMA node zero\n",
      "2023-03-12 13:03:16.369790: I tensorflow/stream_executor/cuda/cuda_gpu_executor.cc:937] successful NUMA node read from SysFS had negative value (-1), but there must be at least one NUMA node, so returning NUMA node zero\n",
      "2023-03-12 13:03:16.370441: W tensorflow/core/common_runtime/gpu/gpu_bfc_allocator.cc:39] Overriding allow_growth setting because the TF_FORCE_GPU_ALLOW_GROWTH environment variable is set. Original config value was 0.\n",
      "2023-03-12 13:03:16.370459: I tensorflow/core/common_runtime/gpu/gpu_device.cc:1510] Created device /device:GPU:0 with 22302 MB memory:  -> device: 0, name: NVIDIA GeForce RTX 3090 Ti, pci bus id: 0000:01:00.0, compute capability: 8.6\n",
      "2023-03-12 13:03:19.603877: I tensorflow/stream_executor/cuda/cuda_gpu_executor.cc:937] successful NUMA node read from SysFS had negative value (-1), but there must be at least one NUMA node, so returning NUMA node zero\n",
      "2023-03-12 13:03:19.604766: I tensorflow/stream_executor/cuda/cuda_gpu_executor.cc:937] successful NUMA node read from SysFS had negative value (-1), but there must be at least one NUMA node, so returning NUMA node zero\n",
      "2023-03-12 13:03:19.605539: I tensorflow/stream_executor/cuda/cuda_gpu_executor.cc:937] successful NUMA node read from SysFS had negative value (-1), but there must be at least one NUMA node, so returning NUMA node zero\n",
      "2023-03-12 13:03:19.606035: I tensorflow/stream_executor/cuda/cuda_gpu_executor.cc:937] successful NUMA node read from SysFS had negative value (-1), but there must be at least one NUMA node, so returning NUMA node zero\n",
      "2023-03-12 13:03:19.606469: I tensorflow/stream_executor/cuda/cuda_gpu_executor.cc:937] successful NUMA node read from SysFS had negative value (-1), but there must be at least one NUMA node, so returning NUMA node zero\n",
      "2023-03-12 13:03:19.606917: I tensorflow/core/common_runtime/gpu/gpu_device.cc:1510] Created device /job:localhost/replica:0/task:0/device:GPU:0 with 22302 MB memory:  -> device: 0, name: NVIDIA GeForce RTX 3090 Ti, pci bus id: 0000:01:00.0, compute capability: 8.6\n",
      "2023-03-12 13:03:25.072016: I tensorflow/stream_executor/cuda/cuda_gpu_executor.cc:937] successful NUMA node read from SysFS had negative value (-1), but there must be at least one NUMA node, so returning NUMA node zero\n",
      "2023-03-12 13:03:25.072911: I tensorflow/stream_executor/cuda/cuda_gpu_executor.cc:937] successful NUMA node read from SysFS had negative value (-1), but there must be at least one NUMA node, so returning NUMA node zero\n",
      "2023-03-12 13:03:25.073652: I tensorflow/stream_executor/cuda/cuda_gpu_executor.cc:937] successful NUMA node read from SysFS had negative value (-1), but there must be at least one NUMA node, so returning NUMA node zero\n",
      "2023-03-12 13:03:25.074118: I tensorflow/stream_executor/cuda/cuda_gpu_executor.cc:937] successful NUMA node read from SysFS had negative value (-1), but there must be at least one NUMA node, so returning NUMA node zero\n",
      "2023-03-12 13:03:25.074597: I tensorflow/stream_executor/cuda/cuda_gpu_executor.cc:937] successful NUMA node read from SysFS had negative value (-1), but there must be at least one NUMA node, so returning NUMA node zero\n",
      "2023-03-12 13:03:25.075029: I tensorflow/core/common_runtime/gpu/gpu_device.cc:1510] Created device /job:localhost/replica:0/task:0/device:GPU:0 with 22302 MB memory:  -> device: 0, name: NVIDIA GeForce RTX 3090 Ti, pci bus id: 0000:01:00.0, compute capability: 8.6\n"
     ]
    }
   ],
   "source": [
    "model = malaya_speech.force_alignment.transducer.transformer(model = 'conformer-transducer')\n",
    "singlish_model = malaya_speech.force_alignment.transducer.transformer(model = 'conformer-transducer-singlish')"
   ]
  },
  {
   "cell_type": "code",
   "execution_count": 5,
   "metadata": {},
   "outputs": [],
   "source": [
    "import os\n",
    "import json\n",
    "from glob import glob\n",
    "import unicodedata\n",
    "import re\n",
    "import itertools\n",
    "import malaya\n",
    "from tqdm import tqdm\n",
    "from malaya.text.normalization import cardinal\n",
    "\n",
    "tokenizer = malaya.tokenizer.Tokenizer(hypen = False, parliament = False, time = False, time_pukul = False,\n",
    "                                      temperature = False, distance = False, volume = False, duration = False,\n",
    "                                      weight = False, date = False, money = False)\n",
    "\n",
    "vocabs = [\" \", \"a\", \"e\", \"n\", \"i\", \"t\", \"o\", \"u\", \"s\", \"k\", \"r\", \"l\", \"h\", \"d\", \"m\", \"g\", \"y\", \"b\", \"p\", \"w\", \"c\", \"f\", \"j\", \"v\", \"z\", \"0\", \"1\", \"x\", \"2\", \"q\", \"5\", \"3\", \"4\", \"6\", \"9\", \"8\", \"7\"]\n",
    "\n",
    "def preprocessing_text(string):\n",
    "    \n",
    "    tokenized = tokenizer.tokenize(string)\n",
    "    string = ' '.join(tokenized)\n",
    "    string = unicodedata.normalize('NFC', string.lower())\n",
    "    string = ''.join([c if c in vocabs else ' ' for c in string])\n",
    "    string = re.sub(r'[ ]+', ' ', string).strip()\n",
    "    string = (\n",
    "        ''.join(''.join(s)[:2] for _, s in itertools.groupby(string))\n",
    "    )\n",
    "    return string"
   ]
  },
  {
   "cell_type": "code",
   "execution_count": 6,
   "metadata": {},
   "outputs": [],
   "source": [
    "with open('/home/husein/malaya-speech/singlish-stt-train.json') as fopen:\n",
    "    sg = json.load(fopen)"
   ]
  },
  {
   "cell_type": "code",
   "execution_count": 7,
   "metadata": {},
   "outputs": [
    {
     "name": "stderr",
     "output_type": "stream",
     "text": [
      "100%|████████████████████████████████| 319344/319344 [00:19<00:00, 16379.67it/s]\n"
     ]
    }
   ],
   "source": [
    "base_directory = '/home/husein/ssd2'\n",
    "\n",
    "files = glob('/home/husein/malaya/postprocessing*.json')\n",
    "text = []\n",
    "for f in files:\n",
    "    with open(f) as fopen:\n",
    "        text.extend(json.load(fopen))\n",
    "        \n",
    "azure = []\n",
    "for t in tqdm(text):\n",
    "    index = os.path.split(t[0])[1].replace('.json', '')\n",
    "    wav = t[0].replace('-text', '-wav').replace('.json', '.wav')\n",
    "    wav = os.path.join(base_directory, wav)\n",
    "    if os.path.exists(wav):\n",
    "        azure.append((wav, preprocessing_text(t[1])))"
   ]
  },
  {
   "cell_type": "code",
   "execution_count": 8,
   "metadata": {},
   "outputs": [
    {
     "data": {
      "text/plain": [
       "[('/home/husein/ssd2/yasmin-news-edge-tts-wav/138.wav',\n",
       "  'ketika perang aceh meletus pada tahun seribu lapan ratus tujuh puluh tiga teuku ibrahim lamnga aktif berjuang di garisan depan'),\n",
       " ('/home/husein/ssd2/yasmin-news-edge-tts-wav/32958.wav',\n",
       "  'kementeri kesihatannya dalam kenyataan berkata mangsa saya amat naseer dua puluh dua terbunuh dalam serangan di utara gaza'),\n",
       " ('/home/husein/ssd2/yasmin-news-edge-tts-wav/10582.wav',\n",
       "  'kedudukan dan statistik penyokong macedonian di belgrade arena'),\n",
       " ('/home/husein/ssd2/yasmin-news-edge-tts-wav/456.wav',\n",
       "  'sebagai ahli perniagaan beliau memiliki aset aset perniagaan termasuk siti nurhaliza productions media massa simplysiti kosmetik dan creacion fesyen'),\n",
       " ('/home/husein/ssd2/yasmin-news-edge-tts-wav/18717.wav',\n",
       "  'antara pokok utama ialah getah acacia buluh kelapa paya bakau dan kayu jati'),\n",
       " ('/home/husein/ssd2/yasmin-news-edge-tts-wav/30899.wav',\n",
       "  'menurut politisi partai golkar tersebut beberapa sektor masih menjadi fokus pemerintah dengan dpr'),\n",
       " ('/home/husein/ssd2/yasmin-news-edge-tts-wav/45320.wav',\n",
       "  'malah saya pernah tertanya sendiri layakkah saya menyanyikannya'),\n",
       " ('/home/husein/ssd2/yasmin-news-edge-tts-wav/6376.wav',\n",
       "  'lampu ini lebih mahal daripada mentol lampu kerana ia memerlukan balast elektrik untuk mengawal arus elektrik di dalam lampu'),\n",
       " ('/home/husein/ssd2/yasmin-news-edge-tts-wav/47642.wav',\n",
       "  'hal ini karena diabetes timbul perlahan lahan dan tidak disadari'),\n",
       " ('/home/husein/ssd2/yasmin-news-edge-tts-wav/19271.wav',\n",
       "  'who can tell me finally')]"
      ]
     },
     "execution_count": 8,
     "metadata": {},
     "output_type": "execute_result"
    }
   ],
   "source": [
    "azure[:10]"
   ]
  },
  {
   "cell_type": "code",
   "execution_count": 9,
   "metadata": {},
   "outputs": [],
   "source": [
    "with open('/home/husein/speech-bahasa/gtts-text.json') as fopen:\n",
    "    texts = json.load(fopen)"
   ]
  },
  {
   "cell_type": "code",
   "execution_count": 10,
   "metadata": {},
   "outputs": [
    {
     "data": {
      "text/plain": [
       "124276"
      ]
     },
     "execution_count": 10,
     "metadata": {},
     "output_type": "execute_result"
    }
   ],
   "source": [
    "wavenet = []\n",
    "speakers = ['A', 'B', 'C', 'D']\n",
    "\n",
    "for no, t in enumerate(texts):\n",
    "    for s in speakers:\n",
    "        wav = f'ms-MY-Wavenet-{s}/{no}.mp3'\n",
    "        wav = os.path.join(base_directory, wav)\n",
    "        if os.path.exists(wav):\n",
    "            wavenet.append((wav, preprocessing_text(t[1])))\n",
    "        \n",
    "len(wavenet)"
   ]
  },
  {
   "cell_type": "code",
   "execution_count": 11,
   "metadata": {},
   "outputs": [
    {
     "data": {
      "text/plain": [
       "4289"
      ]
     },
     "execution_count": 11,
     "metadata": {},
     "output_type": "execute_result"
    }
   ],
   "source": [
    "import pandas as pd\n",
    "\n",
    "df = pd.read_csv('/home/husein/ssd2/haqkiem/metadata.csv', header = None, sep = '|')\n",
    "txts = df.values.tolist()\n",
    "\n",
    "haqkiem = []\n",
    "for f in txts:\n",
    "    text = f[1]\n",
    "    f = f[0]\n",
    "    wav = f'haqkiem/{f}.wav'\n",
    "    wav = os.path.join(base_directory, wav)\n",
    "    \n",
    "    text = text.split('.,,')[0]\n",
    "    if len(re.findall(r'(RM \\d+,\\d+\\.\\d+|RM \\d+\\.\\d+)', text)):\n",
    "        continue\n",
    "\n",
    "    text = preprocessing_text(text)\n",
    "    if os.path.exists(wav):\n",
    "        haqkiem.append((wav, text))\n",
    "        \n",
    "len(haqkiem)"
   ]
  },
  {
   "cell_type": "code",
   "execution_count": 12,
   "metadata": {},
   "outputs": [],
   "source": [
    "import random\n",
    "\n",
    "clean = azure + wavenet + haqkiem\n",
    "random.shuffle(clean)"
   ]
  },
  {
   "cell_type": "code",
   "execution_count": 13,
   "metadata": {},
   "outputs": [],
   "source": [
    "from datasets import Audio\n",
    "\n",
    "sr = 16000\n",
    "minimum = int(0.3 * sr)\n",
    "audio = Audio(sampling_rate=sr)"
   ]
  },
  {
   "cell_type": "code",
   "execution_count": 14,
   "metadata": {},
   "outputs": [],
   "source": [
    "def groupby(alignment, length, min_threshold = 0.3):\n",
    "    r = []\n",
    "    g = []\n",
    "    for no, row in enumerate(alignment):\n",
    "        \n",
    "        if no > 0 and len(r) and alignment[no]['start'] - alignment[no-1]['end'] >= min_threshold:\n",
    "            g.append(r)\n",
    "            r = []\n",
    "        \n",
    "        r.append(row)\n",
    "\n",
    "    return g"
   ]
  },
  {
   "cell_type": "code",
   "execution_count": 15,
   "metadata": {},
   "outputs": [
    {
     "name": "stdout",
     "output_type": "stream",
     "text": [
      "mkdir: cannot create directory ‘augmentation-switchboard-v4’: File exists\r\n"
     ]
    }
   ],
   "source": [
    "directory = 'augmentation-switchboard-v4'\n",
    "!mkdir {directory}"
   ]
  },
  {
   "cell_type": "code",
   "execution_count": 16,
   "metadata": {},
   "outputs": [],
   "source": [
    "import torchaudio\n",
    "import torch"
   ]
  },
  {
   "cell_type": "code",
   "execution_count": 18,
   "metadata": {},
   "outputs": [],
   "source": [
    "asr = malaya_speech.stt.transducer.pt_transformer(model = 'mesolitica/conformer-medium-mixed')\n",
    "_ = asr.cuda()\n",
    "_ = asr.eval()"
   ]
  },
  {
   "cell_type": "code",
   "execution_count": 20,
   "metadata": {},
   "outputs": [],
   "source": [
    "def calculate_wer(actual, hyp):\n",
    "    \"\"\"\n",
    "    Calculate WER using `python-Levenshtein`.\n",
    "    \"\"\"\n",
    "    import Levenshtein as Lev\n",
    "\n",
    "    b = set(actual.split() + hyp.split())\n",
    "    word2char = dict(zip(b, range(len(b))))\n",
    "\n",
    "    w1 = [chr(word2char[w]) for w in actual.split()]\n",
    "    w2 = [chr(word2char[w]) for w in hyp.split()]\n",
    "\n",
    "    return Lev.distance(''.join(w1), ''.join(w2)) / len(actual.split())"
   ]
  },
  {
   "cell_type": "code",
   "execution_count": null,
   "metadata": {
    "scrolled": true
   },
   "outputs": [
    {
     "name": "stderr",
     "output_type": "stream",
     "text": [
      "  0%|                                | 1497/2000000 [46:42<895:55:08,  1.61s/it]"
     ]
    },
    {
     "name": "stdout",
     "output_type": "stream",
     "text": [
      "Calculated padded input size per channel: (0). Kernel size: (1). Kernel size can't be greater than actual input size\n"
     ]
    },
    {
     "name": "stderr",
     "output_type": "stream",
     "text": [
      "  0%|                              | 2320/2000000 [1:12:18<797:11:39,  1.44s/it]"
     ]
    },
    {
     "name": "stdout",
     "output_type": "stream",
     "text": [
      "Calculated padded input size per channel: (0). Kernel size: (1). Kernel size can't be greater than actual input size\n"
     ]
    },
    {
     "name": "stderr",
     "output_type": "stream",
     "text": [
      "  1%|▏                            | 13053/2000000 [6:48:54<861:51:10,  1.56s/it]IOPub message rate exceeded.\n",
      "The notebook server will temporarily stop sending output\n",
      "to the client in order to avoid crashing it.\n",
      "To change this limit, set the config variable\n",
      "`--NotebookApp.iopub_msg_rate_limit`.\n",
      "\n",
      "Current values:\n",
      "NotebookApp.iopub_msg_rate_limit=1000.0 (msgs/sec)\n",
      "NotebookApp.rate_limit_window=3.0 (secs)\n",
      "\n",
      "  2%|▍                           | 35069/2000000 [18:15:01<991:16:35,  1.82s/it]IOPub message rate exceeded.\n",
      "The notebook server will temporarily stop sending output\n",
      "to the client in order to avoid crashing it.\n",
      "To change this limit, set the config variable\n",
      "`--NotebookApp.iopub_msg_rate_limit`.\n",
      "\n",
      "Current values:\n",
      "NotebookApp.iopub_msg_rate_limit=1000.0 (msgs/sec)\n",
      "NotebookApp.rate_limit_window=3.0 (secs)\n",
      "\n",
      "  2%|▌                           | 37830/2000000 [19:41:18<945:16:22,  1.73s/it]"
     ]
    },
    {
     "name": "stdout",
     "output_type": "stream",
     "text": [
      "Calculated padded input size per channel: (0). Kernel size: (1). Kernel size can't be greater than actual input size\n"
     ]
    },
    {
     "name": "stderr",
     "output_type": "stream",
     "text": [
      "  3%|▋                           | 50718/2000000 [26:26:08<970:09:07,  1.79s/it]"
     ]
    }
   ],
   "source": [
    "data = {}\n",
    "for O in tqdm(range(2000000)):\n",
    "    try:\n",
    "        i_ms = sample_without_replacement(len(clean), 3)\n",
    "        i_sg = sample_without_replacement(len(sg['X']), 3)\n",
    "\n",
    "        groups = []\n",
    "        for i in i_ms:\n",
    "            x = clean[i][0]\n",
    "            v = clean[i][1]\n",
    "            y = audio.decode_example(audio.encode_example(x))['array']\n",
    "                \n",
    "            result = model.predict(y, v)\n",
    "\n",
    "            if ' '.join([r['text'] for r in result['words_alignment']]) != v:\n",
    "                continue\n",
    "\n",
    "            grouped = groupby(result['words_alignment'], len(y) / sr)\n",
    "            # print(grouped)\n",
    "            for g in grouped:\n",
    "                y_ = y[int(g[0]['start'] * sr): int(g[-1]['end'] * sr) + minimum]\n",
    "                if len(y_):\n",
    "                    v_ = [g_['text'] for g_ in g]\n",
    "                    groups.append((y_, v_))\n",
    "\n",
    "        for i in i_sg:\n",
    "            x = sg['X'][i]\n",
    "            v = sg['Y'][i]\n",
    "            y = audio.decode_example(audio.encode_example(x))['array']\n",
    "            asr_ = asr.forward([y])[0]\n",
    "            \n",
    "            if asr_[0][1][0] < 0.1 and calculate_wer(v, asr_[0][0]) > 0.1:\n",
    "                # print(f'skip sg {i}', v, asr_[0][0], asr_[0][1][0])\n",
    "                continue\n",
    "                \n",
    "            result = singlish_model.predict(y, v)\n",
    "\n",
    "            if ' '.join([r['text'] for r in result['words_alignment']]) != v:\n",
    "                continue\n",
    "\n",
    "            grouped = groupby(result['words_alignment'], len(y) / sr)\n",
    "            for g in grouped:\n",
    "                y_ = y[int(g[0]['start'] * sr): int(g[-1]['end'] * sr) + minimum]\n",
    "                if len(y_):\n",
    "                    v_ = [g_['text'] for g_ in g]\n",
    "                    groups.append((y_, v_))\n",
    "\n",
    "        groups = shuffle(groups)\n",
    "        l = 0\n",
    "        combine_y, combine_v = [], []\n",
    "        index = 0\n",
    "        while l < 15 and index < len(groups):\n",
    "            l_ = len(groups[index][0]) / sr\n",
    "            if l_ < 1.0:\n",
    "                index += 1\n",
    "                continue\n",
    "            l += l_\n",
    "            combine_y.append(groups[index][0] / np.abs(groups[index][0]).max())\n",
    "            combine_v.extend(groups[index][1])\n",
    "            index += 1\n",
    "\n",
    "        if len(combine_v):\n",
    "            audio_path = f'{directory}/{O}.mp3'\n",
    "            torchaudio.save(audio_path, \n",
    "                            torch.tensor(np.concatenate(combine_y).astype('float32')).unsqueeze(0), \n",
    "                            sr, format='mp3')\n",
    "            data[O] = ' '.join(combine_v)\n",
    "    except Exception as e:\n",
    "        print(e)"
   ]
  },
  {
   "cell_type": "code",
   "execution_count": 26,
   "metadata": {},
   "outputs": [
    {
     "data": {
      "text/plain": [
       "58241"
      ]
     },
     "execution_count": 26,
     "metadata": {},
     "output_type": "execute_result"
    }
   ],
   "source": [
    "len(data)"
   ]
  },
  {
   "cell_type": "code",
   "execution_count": 28,
   "metadata": {},
   "outputs": [
    {
     "data": {
      "text/plain": [
       "'a new television show documented the lives of various people including wong hong suen cuma tanggugjawab kita juga ialah membantu rakyat malaysia'"
      ]
     },
     "execution_count": 28,
     "metadata": {},
     "output_type": "execute_result"
    }
   ],
   "source": [
    "data[0]"
   ]
  },
  {
   "cell_type": "code",
   "execution_count": 29,
   "metadata": {},
   "outputs": [
    {
     "data": {
      "text/html": [
       "\n",
       "                <audio  controls=\"controls\" >\n",
       "                    <source src=\"data:audio/mpeg;base64,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\" type=\"audio/mpeg\" />\n",
       "                    Your browser does not support the audio element.\n",
       "                </audio>\n",
       "              "
      ],
      "text/plain": [
       "<IPython.lib.display.Audio object>"
      ]
     },
     "execution_count": 29,
     "metadata": {},
     "output_type": "execute_result"
    }
   ],
   "source": [
    "import IPython.display as ipd\n",
    "ipd.Audio(f'{directory}/0.mp3')"
   ]
  },
  {
   "cell_type": "code",
   "execution_count": 27,
   "metadata": {},
   "outputs": [],
   "source": [
    "with open('augment-switchboard-v4.json', 'w') as fopen:\n",
    "    json.dump(data, fopen)"
   ]
  }
 ],
 "metadata": {
  "kernelspec": {
   "display_name": "Python 3 (ipykernel)",
   "language": "python",
   "name": "python3"
  },
  "language_info": {
   "codemirror_mode": {
    "name": "ipython",
    "version": 3
   },
   "file_extension": ".py",
   "mimetype": "text/x-python",
   "name": "python",
   "nbconvert_exporter": "python",
   "pygments_lexer": "ipython3",
   "version": "3.8.10"
  }
 },
 "nbformat": 4,
 "nbformat_minor": 4
}
