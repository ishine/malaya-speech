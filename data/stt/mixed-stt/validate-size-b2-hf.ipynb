{
 "cells": [
  {
   "cell_type": "code",
   "execution_count": 10,
   "metadata": {},
   "outputs": [],
   "source": [
    "import requests\n",
    "import json\n",
    "import mp\n",
    "from tqdm import tqdm"
   ]
  },
  {
   "cell_type": "code",
   "execution_count": 2,
   "metadata": {},
   "outputs": [],
   "source": [
    "with open('3mixed-train-test-v2.json') as fopen:\n",
    "    dataset = json.load(fopen)['train']"
   ]
  },
  {
   "cell_type": "code",
   "execution_count": 4,
   "metadata": {},
   "outputs": [],
   "source": [
    "hf = [t.replace('gs://mesolitica-tpu-general',\n",
    "                'https://huggingface.co/huseinzol05/STT-Mixed-TFRecord/resolve/main') for t in dataset]\n",
    "b2 = [t.replace('gs://mesolitica-tpu-general',\n",
    "                'https://f000.backblazeb2.com/file/malay-dataset/speech/mixed') for t in dataset]"
   ]
  },
  {
   "cell_type": "code",
   "execution_count": 18,
   "metadata": {},
   "outputs": [],
   "source": [
    "def cloud_size(url):\n",
    "    r = requests.get(url, stream=True)\n",
    "    total_size = int(r.headers['content-length'])\n",
    "    return total_size"
   ]
  },
  {
   "cell_type": "code",
   "execution_count": 20,
   "metadata": {},
   "outputs": [
    {
     "name": "stdout",
     "output_type": "stream",
     "text": [
      "CPU times: user 62.4 ms, sys: 3.1 ms, total: 65.5 ms\n",
      "Wall time: 1.7 s\n"
     ]
    },
    {
     "data": {
      "text/plain": [
       "(190022124, 190022124)"
      ]
     },
     "execution_count": 20,
     "metadata": {},
     "output_type": "execute_result"
    }
   ],
   "source": [
    "%%time\n",
    "\n",
    "cloud_size(hf[0]), cloud_size(b2[0])"
   ]
  },
  {
   "cell_type": "code",
   "execution_count": null,
   "metadata": {},
   "outputs": [],
   "source": [
    "def loop(files):\n",
    "    files, _ = files\n",
    "    not_match = []\n",
    "    for f in tqdm(files):\n",
    "        hf_, b2_ = f\n",
    "        if cloud_size(hf_) != cloud_size(b2_):\n",
    "            not_match.append((hf_, b2_))\n",
    "    return not_match"
   ]
  },
  {
   "cell_type": "code",
   "execution_count": 32,
   "metadata": {},
   "outputs": [
    {
     "name": "stderr",
     "output_type": "stream",
     "text": [
      "100%|██████████| 84/84 [04:38<00:00,  3.32s/it]\n",
      "100%|██████████| 84/84 [04:40<00:00,  3.34s/it]\n",
      "100%|██████████| 84/84 [04:41<00:00,  3.35s/it]\n",
      "100%|██████████| 84/84 [04:42<00:00,  3.36s/it]\n",
      "100%|██████████| 84/84 [04:42<00:00,  3.36s/it]\n",
      "100%|██████████| 84/84 [04:42<00:00,  3.36s/it]\n",
      "100%|██████████| 84/84 [04:42<00:00,  3.37s/it]\n",
      "100%|██████████| 84/84 [04:43<00:00,  3.38s/it]\n",
      "100%|██████████| 84/84 [04:44<00:00,  3.38s/it]\n",
      "100%|██████████| 84/84 [04:44<00:00,  3.38s/it]\n",
      "100%|██████████| 84/84 [04:44<00:00,  3.39s/it]\n",
      "100%|██████████| 84/84 [04:44<00:00,  3.39s/it]\n",
      "100%|██████████| 84/84 [04:45<00:00,  3.40s/it]\n",
      "100%|██████████| 84/84 [04:46<00:00,  3.41s/it]\n",
      "100%|██████████| 84/84 [04:46<00:00,  3.41s/it]\n",
      "100%|██████████| 84/84 [04:46<00:00,  3.42s/it]\n",
      "100%|██████████| 84/84 [04:47<00:00,  3.42s/it]\n",
      "100%|██████████| 84/84 [04:47<00:00,  3.42s/it]\n",
      "100%|██████████| 84/84 [04:47<00:00,  3.42s/it]\n",
      "100%|██████████| 84/84 [04:48<00:00,  3.43s/it]\n",
      "100%|██████████| 84/84 [04:48<00:00,  3.43s/it]\n",
      "100%|██████████| 84/84 [04:48<00:00,  3.43s/it]\n",
      "100%|██████████| 84/84 [04:48<00:00,  3.44s/it]\n",
      "100%|██████████| 84/84 [04:48<00:00,  3.44s/it]\n",
      "100%|██████████| 84/84 [04:48<00:00,  3.44s/it]\n",
      "100%|██████████| 84/84 [04:48<00:00,  3.44s/it]\n",
      "100%|██████████| 84/84 [04:49<00:00,  3.44s/it]\n",
      "100%|██████████| 84/84 [04:50<00:00,  3.46s/it]\n",
      "100%|██████████| 84/84 [04:50<00:00,  3.46s/it]\n",
      "100%|██████████| 84/84 [04:51<00:00,  3.47s/it]\n",
      "100%|██████████| 23/23 [01:18<00:00,  3.41s/it]\n"
     ]
    }
   ],
   "source": [
    "not_match = mp.multiprocessing(list(zip(hf, b2)), loop, cores = 30)"
   ]
  },
  {
   "cell_type": "code",
   "execution_count": 33,
   "metadata": {},
   "outputs": [
    {
     "data": {
      "text/plain": [
       "[]"
      ]
     },
     "execution_count": 33,
     "metadata": {},
     "output_type": "execute_result"
    }
   ],
   "source": [
    "not_match"
   ]
  }
 ],
 "metadata": {
  "kernelspec": {
   "display_name": "Python 3",
   "language": "python",
   "name": "python3"
  },
  "language_info": {
   "codemirror_mode": {
    "name": "ipython",
    "version": 3
   },
   "file_extension": ".py",
   "mimetype": "text/x-python",
   "name": "python",
   "nbconvert_exporter": "python",
   "pygments_lexer": "ipython3",
   "version": "3.6.9"
  }
 },
 "nbformat": 4,
 "nbformat_minor": 2
}
