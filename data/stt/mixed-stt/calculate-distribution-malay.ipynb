{
 "cells": [
  {
   "cell_type": "code",
   "execution_count": 1,
   "id": "01ab9334",
   "metadata": {},
   "outputs": [],
   "source": [
    "import os\n",
    "os.environ['CUDA_VISIBLE_DEVICES'] = ''"
   ]
  },
  {
   "cell_type": "code",
   "execution_count": 2,
   "id": "5074bc76",
   "metadata": {},
   "outputs": [],
   "source": [
    "import tensorflow as tf\n",
    "import json"
   ]
  },
  {
   "cell_type": "code",
   "execution_count": 3,
   "id": "108a6235",
   "metadata": {},
   "outputs": [],
   "source": [
    "with open('huggingface-3mixed-train-test.json') as fopen:\n",
    "    data = json.load(fopen)"
   ]
  },
  {
   "cell_type": "code",
   "execution_count": 4,
   "id": "fdf0aa56",
   "metadata": {},
   "outputs": [
    {
     "data": {
      "text/plain": [
       "609"
      ]
     },
     "execution_count": 4,
     "metadata": {},
     "output_type": "execute_result"
    }
   ],
   "source": [
    "data = [d for d in data['train'] if 'malay/' in d]\n",
    "len(data)"
   ]
  },
  {
   "cell_type": "code",
   "execution_count": 5,
   "id": "182537ef",
   "metadata": {},
   "outputs": [],
   "source": [
    "from multiprocessing import Pool\n",
    "from glob import glob\n",
    "import os\n",
    "import requests\n",
    "import shutil"
   ]
  },
  {
   "cell_type": "code",
   "execution_count": 7,
   "id": "3cce3865",
   "metadata": {},
   "outputs": [],
   "source": [
    "def download_file_cloud(url, filename):\n",
    "    try:\n",
    "        while True:\n",
    "            r = requests.get(url, stream=True)\n",
    "            total_size = int(r.headers['content-length'])\n",
    "            version = int(r.headers.get('X-Bz-Upload-Timestamp', 0))\n",
    "            try:\n",
    "                local_size = os.path.getsize(filename)\n",
    "                if local_size == total_size:\n",
    "                    print(f'{filename} local size matched with cloud size')\n",
    "                    return version\n",
    "            except Exception as e:\n",
    "                print(e)\n",
    "            os.makedirs(os.path.dirname(filename), exist_ok=True)\n",
    "            with open(filename, 'wb') as f:\n",
    "                for data in r.iter_content(chunk_size=1_048_576):\n",
    "                    f.write(data)\n",
    "            break\n",
    "    except Exception as e:\n",
    "        print(f'download_file_cloud error: {e}')"
   ]
  },
  {
   "cell_type": "code",
   "execution_count": 8,
   "id": "91105fb2",
   "metadata": {},
   "outputs": [],
   "source": [
    "def get_dataset(files, directory='tfrecord'):\n",
    "    os.makedirs(directory, exist_ok=True)\n",
    "    shutil.rmtree(directory)\n",
    "    files_to_download = []\n",
    "    for f in files:\n",
    "        filename = os.path.join(directory, '-'.join(f.split('/')[-2:]))\n",
    "        files_to_download.append((f, filename))\n",
    "\n",
    "    pool = Pool(processes=len(files))\n",
    "    pool.starmap(download_file_cloud, files_to_download)\n",
    "    pool.close()\n",
    "    pool.join()\n",
    "    tfrecords = glob(f'{directory}/*.tfrecord')\n",
    "    return tfrecords"
   ]
  },
  {
   "cell_type": "code",
   "execution_count": 9,
   "id": "6222c91e",
   "metadata": {},
   "outputs": [],
   "source": [
    "def parse(serialized_example):\n",
    "\n",
    "    data_fields = {\n",
    "        'waveforms': tf.compat.v1.VarLenFeature(tf.float32),\n",
    "        'targets': tf.compat.v1.VarLenFeature(tf.int64),\n",
    "        'targets_length': tf.compat.v1.VarLenFeature(tf.int64),\n",
    "        'lang': tf.compat.v1.VarLenFeature(tf.int64),\n",
    "    }\n",
    "    features = tf.compat.v1.parse_single_example(\n",
    "        serialized_example, features=data_fields\n",
    "    )\n",
    "    for k in features.keys():\n",
    "        features[k] = features[k].values\n",
    "\n",
    "    keys = list(features.keys())\n",
    "    for k in keys:\n",
    "        if k not in ['waveforms', 'waveforms_length', 'targets']:\n",
    "            features.pop(k, None)\n",
    "\n",
    "    return features"
   ]
  },
  {
   "cell_type": "code",
   "execution_count": 10,
   "id": "4bad249e",
   "metadata": {},
   "outputs": [],
   "source": [
    "files = data\n",
    "batch_files = 10\n",
    "directory = 'tfrecord'\n",
    "num_cpu_threads = 4\n",
    "thread_count = 12\n",
    "sr = 16000"
   ]
  },
  {
   "cell_type": "code",
   "execution_count": 24,
   "id": "2f991c5d",
   "metadata": {},
   "outputs": [
    {
     "name": "stderr",
     "output_type": "stream",
     "text": [
      "\r",
      "  0%|          | 0/61 [00:00<?, ?it/s]"
     ]
    },
    {
     "name": "stdout",
     "output_type": "stream",
     "text": [
      "[Errno 2] No such file or directory: 'tfrecord/malay-5-2.tfrecord'\n",
      "[Errno 2] No such file or directory: 'tfrecord/malay-4-68.tfrecord'\n",
      "[Errno 2] No such file or directory: 'tfrecord/malay-0-2.tfrecord'\n",
      "[Errno 2] No such file or directory: 'tfrecord/malay-4-38.tfrecord'[Errno 2] No such file or directory: 'tfrecord/malay-2-33.tfrecord'\n",
      "\n",
      "[Errno 2] No such file or directory: 'tfrecord/malay-3-36.tfrecord'\n",
      "[Errno 2] No such file or directory: 'tfrecord/malay-2-25.tfrecord'\n",
      "[Errno 2] No such file or directory: 'tfrecord/malay-2-62.tfrecord'\n",
      "[Errno 2] No such file or directory: 'tfrecord/malay-6-25.tfrecord'\n",
      "[Errno 2] No such file or directory: 'tfrecord/malay-6-48.tfrecord'\n"
     ]
    },
    {
     "name": "stderr",
     "output_type": "stream",
     "text": [
      "\r",
      "  2%|▏         | 1/61 [02:50<2:50:28, 170.47s/it]"
     ]
    },
    {
     "name": "stdout",
     "output_type": "stream",
     "text": [
      "\n",
      "[Errno 2] No such file or directory: 'tfrecord/malay-5-11.tfrecord'\n",
      "[Errno 2] No such file or directory: 'tfrecord/malay-5-13.tfrecord'\n",
      "[Errno 2] No such file or directory: 'tfrecord/malay-2-42.tfrecord'\n",
      "[Errno 2] No such file or directory: 'tfrecord/malay-0-10.tfrecord'\n",
      "[Errno 2] No such file or directory: 'tfrecord/malay-6-28.tfrecord'\n",
      "[Errno 2] No such file or directory: 'tfrecord/malay-7-29.tfrecord'\n",
      "[Errno 2] No such file or directory: 'tfrecord/malay-4-20.tfrecord'\n",
      "[Errno 2] No such file or directory: 'tfrecord/malay-5-58.tfrecord'\n",
      "[Errno 2] No such file or directory: 'tfrecord/malay-7-52.tfrecord'\n",
      "[Errno 2] No such file or directory: 'tfrecord/malay-5-50.tfrecord'\n"
     ]
    },
    {
     "name": "stderr",
     "output_type": "stream",
     "text": [
      "\r",
      "  3%|▎         | 2/61 [05:46<2:50:47, 173.69s/it]"
     ]
    },
    {
     "name": "stdout",
     "output_type": "stream",
     "text": [
      "corrupted record at 424217483 [Op:IteratorGetNext]\n",
      "[Errno 2] No such file or directory: 'tfrecord/malay-7-46.tfrecord'\n",
      "[Errno 2] No such file or directory: 'tfrecord/malay-2-52.tfrecord'\n",
      "[Errno 2] No such file or directory: 'tfrecord/malay-7-48.tfrecord'\n",
      "[Errno 2] No such file or directory: 'tfrecord/malay-4-56.tfrecord'[Errno 2] No such file or directory: 'tfrecord/malay-7-6.tfrecord'\n",
      "[Errno 2] No such file or directory: 'tfrecord/malay-4-6.tfrecord'\n",
      "\n",
      "[Errno 2] No such file or directory: 'tfrecord/malay-5-25.tfrecord'\n",
      "[Errno 2] No such file or directory: 'tfrecord/malay-5-8.tfrecord'\n",
      "[Errno 2] No such file or directory: 'tfrecord/malay-7-49.tfrecord'\n",
      "[Errno 2] No such file or directory: 'tfrecord/malay-5-60.tfrecord'\n"
     ]
    },
    {
     "name": "stderr",
     "output_type": "stream",
     "text": [
      "\r",
      "  5%|▍         | 3/61 [08:48<2:51:28, 177.39s/it]"
     ]
    },
    {
     "name": "stdout",
     "output_type": "stream",
     "text": [
      "\n",
      "[Errno 2] No such file or directory: 'tfrecord/malay-1-26.tfrecord'\n",
      "[Errno 2] No such file or directory: 'tfrecord/malay-4-60.tfrecord'\n",
      "[Errno 2] No such file or directory: 'tfrecord/malay-5-4.tfrecord'\n",
      "[Errno 2] No such file or directory: 'tfrecord/malay-3-22.tfrecord'\n",
      "[Errno 2] No such file or directory: 'tfrecord/malay-3-15.tfrecord'\n",
      "[Errno 2] No such file or directory: 'tfrecord/malay-7-31.tfrecord'\n",
      "[Errno 2] No such file or directory: 'tfrecord/malay-3-58.tfrecord'\n",
      "[Errno 2] No such file or directory: 'tfrecord/malay-7-27.tfrecord'\n",
      "[Errno 2] No such file or directory: 'tfrecord/malay-2-45.tfrecord'\n",
      "[Errno 2] No such file or directory: 'tfrecord/malay-7-8.tfrecord'\n"
     ]
    },
    {
     "name": "stderr",
     "output_type": "stream",
     "text": [
      "\r",
      "  7%|▋         | 4/61 [12:05<2:56:02, 185.31s/it]"
     ]
    },
    {
     "name": "stdout",
     "output_type": "stream",
     "text": [
      "\n",
      "[Errno 2] No such file or directory: 'tfrecord/malay-1-50.tfrecord'[Errno 2] No such file or directory: 'tfrecord/malay-2-19.tfrecord'[Errno 2] No such file or directory: 'tfrecord/malay-1-64.tfrecord'\n",
      "\n",
      "\n",
      "[Errno 2] No such file or directory: 'tfrecord/malay-4-9.tfrecord'\n",
      "[Errno 2] No such file or directory: 'tfrecord/malay-7-1.tfrecord'\n",
      "[Errno 2] No such file or directory: 'tfrecord/malay-3-26.tfrecord'\n",
      "[Errno 2] No such file or directory: 'tfrecord/malay-5-68.tfrecord'\n",
      "[Errno 2] No such file or directory: 'tfrecord/malay-1-6.tfrecord'\n",
      "[Errno 2] No such file or directory: 'tfrecord/malay-2-0.tfrecord'[Errno 2] No such file or directory: 'tfrecord/malay-4-8.tfrecord'\n",
      "\n"
     ]
    },
    {
     "name": "stderr",
     "output_type": "stream",
     "text": [
      "\r",
      "  8%|▊         | 5/61 [15:16<2:54:49, 187.31s/it]"
     ]
    },
    {
     "name": "stdout",
     "output_type": "stream",
     "text": [
      "\n",
      "[Errno 2] No such file or directory: 'tfrecord/malay-5-32.tfrecord'\n",
      "[Errno 2] No such file or directory: 'tfrecord/malay-6-13.tfrecord'\n",
      "[Errno 2] No such file or directory: 'tfrecord/malay-2-55.tfrecord'\n",
      "[Errno 2] No such file or directory: 'tfrecord/malay-5-7.tfrecord'\n",
      "[Errno 2] No such file or directory: 'tfrecord/malay-6-64.tfrecord'\n",
      "[Errno 2] No such file or directory: 'tfrecord/malay-6-32.tfrecord'\n",
      "[Errno 2] No such file or directory: 'tfrecord/malay-1-46.tfrecord'\n",
      "[Errno 2] No such file or directory: 'tfrecord/malay-7-40.tfrecord'\n",
      "[Errno 2] No such file or directory: 'tfrecord/malay-7-75.tfrecord'\n",
      "[Errno 2] No such file or directory: 'tfrecord/malay-3-30.tfrecord'\n"
     ]
    },
    {
     "name": "stderr",
     "output_type": "stream",
     "text": [
      "\r",
      " 10%|▉         | 6/61 [19:34<3:13:37, 211.23s/it]"
     ]
    },
    {
     "name": "stdout",
     "output_type": "stream",
     "text": [
      "\n",
      "[Errno 2] No such file or directory: 'tfrecord/malay-3-43.tfrecord'\n",
      "[Errno 2] No such file or directory: 'tfrecord/malay-7-70.tfrecord'\n",
      "[Errno 2] No such file or directory: 'tfrecord/malay-1-3.tfrecord'\n",
      "[Errno 2] No such file or directory: 'tfrecord/malay-1-22.tfrecord'\n",
      "[Errno 2] No such file or directory: 'tfrecord/malay-6-3.tfrecord'\n",
      "[Errno 2] No such file or directory: 'tfrecord/malay-7-68.tfrecord'\n",
      "[Errno 2] No such file or directory: 'tfrecord/malay-5-64.tfrecord'\n",
      "[Errno 2] No such file or directory: 'tfrecord/malay-7-44.tfrecord'\n",
      "[Errno 2] No such file or directory: 'tfrecord/malay-1-10.tfrecord'\n",
      "[Errno 2] No such file or directory: 'tfrecord/malay-6-70.tfrecord'\n"
     ]
    },
    {
     "name": "stderr",
     "output_type": "stream",
     "text": [
      "\r",
      " 11%|█▏        | 7/61 [22:13<2:54:56, 194.37s/it]"
     ]
    },
    {
     "name": "stdout",
     "output_type": "stream",
     "text": [
      "\n",
      "[Errno 2] No such file or directory: 'tfrecord/malay-3-63.tfrecord'\n",
      "[Errno 2] No such file or directory: 'tfrecord/malay-1-54.tfrecord'\n",
      "[Errno 2] No such file or directory: 'tfrecord/malay-0-50.tfrecord'\n",
      "[Errno 2] No such file or directory: 'tfrecord/malay-5-5.tfrecord'\n",
      "[Errno 2] No such file or directory: 'tfrecord/malay-5-19.tfrecord'\n",
      "[Errno 2] No such file or directory: 'tfrecord/malay-4-66.tfrecord'\n",
      "[Errno 2] No such file or directory: 'tfrecord/malay-0-1.tfrecord'\n",
      "[Errno 2] No such file or directory: 'tfrecord/malay-3-24.tfrecord'\n",
      "[Errno 2] No such file or directory: 'tfrecord/malay-3-17.tfrecord'\n",
      "[Errno 2] No such file or directory: 'tfrecord/malay-3-57.tfrecord'\n"
     ]
    },
    {
     "name": "stderr",
     "output_type": "stream",
     "text": [
      "\r",
      " 13%|█▎        | 8/61 [25:01<2:44:09, 185.85s/it]"
     ]
    },
    {
     "name": "stdout",
     "output_type": "stream",
     "text": [
      "\n",
      "[Errno 2] No such file or directory: 'tfrecord/malay-7-17.tfrecord'\n",
      "[Errno 2] No such file or directory: 'tfrecord/malay-2-28.tfrecord'[Errno 2] No such file or directory: 'tfrecord/malay-4-58.tfrecord'\n",
      "\n",
      "[Errno 2] No such file or directory: 'tfrecord/malay-3-9.tfrecord'\n",
      "[Errno 2] No such file or directory: 'tfrecord/malay-7-13.tfrecord'\n",
      "[Errno 2] No such file or directory: 'tfrecord/malay-5-20.tfrecord'\n",
      "[Errno 2] No such file or directory: 'tfrecord/malay-2-39.tfrecord'\n",
      "[Errno 2] No such file or directory: 'tfrecord/malay-3-29.tfrecord'\n",
      "[Errno 2] No such file or directory: 'tfrecord/malay-6-55.tfrecord'\n",
      "[Errno 2] No such file or directory: 'tfrecord/malay-1-66.tfrecord'\n"
     ]
    },
    {
     "name": "stderr",
     "output_type": "stream",
     "text": [
      "\r",
      " 15%|█▍        | 9/61 [28:14<2:42:54, 187.97s/it]"
     ]
    },
    {
     "name": "stdout",
     "output_type": "stream",
     "text": [
      "\n",
      "[Errno 2] No such file or directory: 'tfrecord/malay-0-25.tfrecord'\n",
      "[Errno 2] No such file or directory: 'tfrecord/malay-2-71.tfrecord'\n",
      "[Errno 2] No such file or directory: 'tfrecord/malay-4-71.tfrecord'\n",
      "[Errno 2] No such file or directory: 'tfrecord/malay-4-62.tfrecord'\n",
      "[Errno 2] No such file or directory: 'tfrecord/malay-7-45.tfrecord'[Errno 2] No such file or directory: 'tfrecord/malay-7-60.tfrecord'\n",
      "\n",
      "[Errno 2] No such file or directory: 'tfrecord/malay-0-36.tfrecord'\n",
      "[Errno 2] No such file or directory: 'tfrecord/malay-5-0.tfrecord'\n",
      "[Errno 2] No such file or directory: 'tfrecord/malay-1-29.tfrecord'\n",
      "[Errno 2] No such file or directory: 'tfrecord/malay-6-18.tfrecord'\n"
     ]
    },
    {
     "name": "stderr",
     "output_type": "stream",
     "text": [
      "\r",
      " 16%|█▋        | 10/61 [31:40<2:44:37, 193.68s/it]"
     ]
    },
    {
     "name": "stdout",
     "output_type": "stream",
     "text": [
      "\n",
      "[Errno 2] No such file or directory: 'tfrecord/malay-5-31.tfrecord'\n",
      "[Errno 2] No such file or directory: 'tfrecord/malay-6-34.tfrecord'\n",
      "[Errno 2] No such file or directory: 'tfrecord/malay-3-23.tfrecord'\n",
      "[Errno 2] No such file or directory: 'tfrecord/malay-1-27.tfrecord'[Errno 2] No such file or directory: 'tfrecord/malay-3-65.tfrecord'\n",
      "\n",
      "[Errno 2] No such file or directory: 'tfrecord/malay-7-41.tfrecord'\n",
      "[Errno 2] No such file or directory: 'tfrecord/malay-5-69.tfrecord'\n",
      "[Errno 2] No such file or directory: 'tfrecord/malay-0-66.tfrecord'\n",
      "[Errno 2] No such file or directory: 'tfrecord/malay-3-33.tfrecord'\n",
      "[Errno 2] No such file or directory: 'tfrecord/malay-5-61.tfrecord'\n"
     ]
    },
    {
     "name": "stderr",
     "output_type": "stream",
     "text": [
      "\r",
      " 18%|█▊        | 11/61 [35:52<2:56:14, 211.49s/it]"
     ]
    },
    {
     "name": "stdout",
     "output_type": "stream",
     "text": [
      "\n",
      "[Errno 2] No such file or directory: 'tfrecord/malay-4-7.tfrecord'\n",
      "[Errno 2] No such file or directory: 'tfrecord/malay-7-62.tfrecord'\n",
      "[Errno 2] No such file or directory: 'tfrecord/malay-0-7.tfrecord'[Errno 2] No such file or directory: 'tfrecord/malay-7-21.tfrecord'\n",
      "\n",
      "[Errno 2] No such file or directory: 'tfrecord/malay-6-53.tfrecord'\n",
      "[Errno 2] No such file or directory: 'tfrecord/malay-1-40.tfrecord'\n",
      "[Errno 2] No such file or directory: 'tfrecord/malay-1-20.tfrecord'\n",
      "[Errno 2] No such file or directory: 'tfrecord/malay-1-35.tfrecord'\n",
      "[Errno 2] No such file or directory: 'tfrecord/malay-5-74.tfrecord'\n",
      "[Errno 2] No such file or directory: 'tfrecord/malay-6-52.tfrecord'\n"
     ]
    },
    {
     "name": "stderr",
     "output_type": "stream",
     "text": [
      "\r",
      " 20%|█▉        | 12/61 [40:12<3:04:40, 226.14s/it]"
     ]
    },
    {
     "name": "stdout",
     "output_type": "stream",
     "text": [
      "\n",
      "[Errno 2] No such file or directory: 'tfrecord/malay-0-4.tfrecord'\n",
      "[Errno 2] No such file or directory: 'tfrecord/malay-5-62.tfrecord'\n",
      "[Errno 2] No such file or directory: 'tfrecord/malay-2-46.tfrecord'[Errno 2] No such file or directory: 'tfrecord/malay-4-48.tfrecord'\n",
      "\n",
      "[Errno 2] No such file or directory: 'tfrecord/malay-6-0.tfrecord'[Errno 2] No such file or directory: 'tfrecord/malay-5-40.tfrecord'\n",
      "\n",
      "[Errno 2] No such file or directory: 'tfrecord/malay-5-47.tfrecord'\n",
      "[Errno 2] No such file or directory: 'tfrecord/malay-0-49.tfrecord'\n",
      "[Errno 2] No such file or directory: 'tfrecord/malay-3-20.tfrecord'\n",
      "[Errno 2] No such file or directory: 'tfrecord/malay-1-45.tfrecord'\n"
     ]
    },
    {
     "name": "stderr",
     "output_type": "stream",
     "text": [
      "\r",
      " 21%|██▏       | 13/61 [44:59<3:15:40, 244.60s/it]"
     ]
    },
    {
     "name": "stdout",
     "output_type": "stream",
     "text": [
      "\n",
      "[Errno 2] No such file or directory: 'tfrecord/malay-3-60.tfrecord'\n",
      "[Errno 2] No such file or directory: 'tfrecord/malay-4-53.tfrecord'\n",
      "[Errno 2] No such file or directory: 'tfrecord/malay-1-63.tfrecord'\n",
      "[Errno 2] No such file or directory: 'tfrecord/malay-7-0.tfrecord'\n",
      "[Errno 2] No such file or directory: 'tfrecord/malay-5-37.tfrecord'[Errno 2] No such file or directory: 'tfrecord/malay-4-67.tfrecord'\n",
      "\n",
      "[Errno 2] No such file or directory: 'tfrecord/malay-6-12.tfrecord'\n",
      "[Errno 2] No such file or directory: 'tfrecord/malay-6-22.tfrecord'\n",
      "[Errno 2] No such file or directory: 'tfrecord/malay-7-20.tfrecord'\n",
      "[Errno 2] No such file or directory: 'tfrecord/malay-1-67.tfrecord'\n"
     ]
    },
    {
     "name": "stderr",
     "output_type": "stream",
     "text": [
      "\r",
      " 23%|██▎       | 14/61 [49:37<3:19:33, 254.75s/it]"
     ]
    },
    {
     "name": "stdout",
     "output_type": "stream",
     "text": [
      "\n",
      "[Errno 2] No such file or directory: 'tfrecord/malay-1-44.tfrecord'\n",
      "[Errno 2] No such file or directory: 'tfrecord/malay-0-15.tfrecord'\n",
      "[Errno 2] No such file or directory: 'tfrecord/malay-1-37.tfrecord'[Errno 2] No such file or directory: 'tfrecord/malay-4-41.tfrecord'\n",
      "\n",
      "[Errno 2] No such file or directory: 'tfrecord/malay-0-72.tfrecord'\n",
      "[Errno 2] No such file or directory: 'tfrecord/malay-2-56.tfrecord'\n",
      "[Errno 2] No such file or directory: 'tfrecord/malay-7-50.tfrecord'\n",
      "[Errno 2] No such file or directory: 'tfrecord/malay-3-38.tfrecord'\n",
      "[Errno 2] No such file or directory: 'tfrecord/malay-0-71.tfrecord'\n",
      "[Errno 2] No such file or directory: 'tfrecord/malay-5-3.tfrecord'\n"
     ]
    },
    {
     "name": "stderr",
     "output_type": "stream",
     "text": [
      "\r",
      " 25%|██▍       | 15/61 [53:36<3:11:46, 250.15s/it]"
     ]
    },
    {
     "name": "stdout",
     "output_type": "stream",
     "text": [
      "\n",
      "[Errno 2] No such file or directory: 'tfrecord/malay-4-51.tfrecord'\n",
      "[Errno 2] No such file or directory: 'tfrecord/malay-5-18.tfrecord'\n",
      "[Errno 2] No such file or directory: 'tfrecord/malay-6-38.tfrecord'[Errno 2] No such file or directory: 'tfrecord/malay-7-58.tfrecord'[Errno 2] No such file or directory: 'tfrecord/malay-1-11.tfrecord'\n",
      "\n",
      "\n",
      "[Errno 2] No such file or directory: 'tfrecord/malay-7-72.tfrecord'\n",
      "[Errno 2] No such file or directory: 'tfrecord/malay-3-74.tfrecord'[Errno 2] No such file or directory: 'tfrecord/malay-0-65.tfrecord'[Errno 2] No such file or directory: 'tfrecord/malay-3-45.tfrecord'\n",
      "\n",
      "\n",
      "[Errno 2] No such file or directory: 'tfrecord/malay-7-57.tfrecord'\n"
     ]
    },
    {
     "name": "stderr",
     "output_type": "stream",
     "text": [
      "\r",
      " 26%|██▌       | 16/61 [58:43<3:20:18, 267.08s/it]"
     ]
    },
    {
     "name": "stdout",
     "output_type": "stream",
     "text": [
      "\n",
      "[Errno 2] No such file or directory: 'tfrecord/malay-0-51.tfrecord'\n",
      "[Errno 2] No such file or directory: 'tfrecord/malay-1-36.tfrecord'\n",
      "[Errno 2] No such file or directory: 'tfrecord/malay-2-40.tfrecord'\n",
      "[Errno 2] No such file or directory: 'tfrecord/malay-0-22.tfrecord'\n",
      "[Errno 2] No such file or directory: 'tfrecord/malay-7-59.tfrecord'\n",
      "[Errno 2] No such file or directory: 'tfrecord/malay-3-64.tfrecord'\n",
      "[Errno 2] No such file or directory: 'tfrecord/malay-1-70.tfrecord'\n",
      "[Errno 2] No such file or directory: 'tfrecord/malay-4-33.tfrecord'\n",
      "[Errno 2] No such file or directory: 'tfrecord/malay-3-68.tfrecord'\n",
      "[Errno 2] No such file or directory: 'tfrecord/malay-3-72.tfrecord'\n"
     ]
    },
    {
     "name": "stderr",
     "output_type": "stream",
     "text": [
      "\r",
      " 28%|██▊       | 17/61 [1:01:42<2:56:30, 240.70s/it]"
     ]
    },
    {
     "name": "stdout",
     "output_type": "stream",
     "text": [
      "\n",
      "[Errno 2] No such file or directory: 'tfrecord/malay-5-14.tfrecord'\n",
      "[Errno 2] No such file or directory: 'tfrecord/malay-1-72.tfrecord'\n",
      "[Errno 2] No such file or directory: 'tfrecord/malay-1-23.tfrecord'\n",
      "[Errno 2] No such file or directory: 'tfrecord/malay-6-47.tfrecord'\n",
      "[Errno 2] No such file or directory: 'tfrecord/malay-3-53.tfrecord'\n",
      "[Errno 2] No such file or directory: 'tfrecord/malay-3-66.tfrecord'\n",
      "[Errno 2] No such file or directory: 'tfrecord/malay-0-19.tfrecord'\n",
      "[Errno 2] No such file or directory: 'tfrecord/malay-0-40.tfrecord'\n",
      "[Errno 2] No such file or directory: 'tfrecord/malay-6-58.tfrecord'\n",
      "[Errno 2] No such file or directory: 'tfrecord/malay-5-22.tfrecord'\n"
     ]
    },
    {
     "name": "stderr",
     "output_type": "stream",
     "text": [
      "\r",
      " 30%|██▉       | 18/61 [1:04:31<2:37:07, 219.24s/it]"
     ]
    },
    {
     "name": "stdout",
     "output_type": "stream",
     "text": [
      "\n",
      "[Errno 2] No such file or directory: 'tfrecord/malay-2-50.tfrecord'\n",
      "[Errno 2] No such file or directory: 'tfrecord/malay-4-42.tfrecord'\n",
      "[Errno 2] No such file or directory: 'tfrecord/malay-6-74.tfrecord'[Errno 2] No such file or directory: 'tfrecord/malay-7-55.tfrecord'\n",
      "\n",
      "[Errno 2] No such file or directory: 'tfrecord/malay-2-30.tfrecord'\n",
      "[Errno 2] No such file or directory: 'tfrecord/malay-5-45.tfrecord'\n",
      "[Errno 2] No such file or directory: 'tfrecord/malay-7-14.tfrecord'\n",
      "[Errno 2] No such file or directory: 'tfrecord/malay-4-49.tfrecord'\n",
      "[Errno 2] No such file or directory: 'tfrecord/malay-0-33.tfrecord'\n",
      "[Errno 2] No such file or directory: 'tfrecord/malay-0-48.tfrecord'\n"
     ]
    },
    {
     "name": "stderr",
     "output_type": "stream",
     "text": [
      "\r",
      " 31%|███       | 19/61 [1:08:49<2:41:27, 230.65s/it]"
     ]
    },
    {
     "name": "stdout",
     "output_type": "stream",
     "text": [
      "\n",
      "[Errno 2] No such file or directory: 'tfrecord/malay-4-46.tfrecord'\n",
      "[Errno 2] No such file or directory: 'tfrecord/malay-7-43.tfrecord'\n",
      "[Errno 2] No such file or directory: 'tfrecord/malay-5-73.tfrecord'\n",
      "[Errno 2] No such file or directory: 'tfrecord/malay-2-54.tfrecord'\n",
      "[Errno 2] No such file or directory: 'tfrecord/malay-2-72.tfrecord'\n",
      "[Errno 2] No such file or directory: 'tfrecord/malay-1-30.tfrecord'\n",
      "[Errno 2] No such file or directory: 'tfrecord/malay-5-42.tfrecord'[Errno 2] No such file or directory: 'tfrecord/malay-3-32.tfrecord'\n",
      "\n",
      "[Errno 2] No such file or directory: 'tfrecord/malay-4-15.tfrecord'\n",
      "[Errno 2] No such file or directory: 'tfrecord/malay-3-75.tfrecord'\n"
     ]
    },
    {
     "name": "stderr",
     "output_type": "stream",
     "text": [
      "\r",
      " 33%|███▎      | 20/61 [1:12:34<2:36:29, 229.02s/it]"
     ]
    },
    {
     "name": "stdout",
     "output_type": "stream",
     "text": [
      "\n",
      "[Errno 2] No such file or directory: 'tfrecord/malay-3-55.tfrecord'\n",
      "[Errno 2] No such file or directory: 'tfrecord/malay-5-66.tfrecord'\n",
      "[Errno 2] No such file or directory: 'tfrecord/malay-3-28.tfrecord'\n",
      "[Errno 2] No such file or directory: 'tfrecord/malay-2-31.tfrecord'\n",
      "[Errno 2] No such file or directory: 'tfrecord/malay-2-48.tfrecord'\n",
      "[Errno 2] No such file or directory: 'tfrecord/malay-2-12.tfrecord'\n",
      "[Errno 2] No such file or directory: 'tfrecord/malay-7-22.tfrecord'\n",
      "[Errno 2] No such file or directory: 'tfrecord/malay-4-57.tfrecord'\n",
      "[Errno 2] No such file or directory: 'tfrecord/malay-6-69.tfrecord'\n",
      "[Errno 2] No such file or directory: 'tfrecord/malay-0-8.tfrecord'\n"
     ]
    },
    {
     "name": "stderr",
     "output_type": "stream",
     "text": [
      "\r",
      " 34%|███▍      | 21/61 [1:17:18<2:43:45, 245.65s/it]"
     ]
    },
    {
     "name": "stdout",
     "output_type": "stream",
     "text": [
      "\n",
      "[Errno 2] No such file or directory: 'tfrecord/malay-2-24.tfrecord'\n",
      "[Errno 2] No such file or directory: 'tfrecord/malay-2-74.tfrecord'\n",
      "[Errno 2] No such file or directory: 'tfrecord/malay-4-65.tfrecord'\n",
      "[Errno 2] No such file or directory: 'tfrecord/malay-0-52.tfrecord'\n",
      "[Errno 2] No such file or directory: 'tfrecord/malay-1-2.tfrecord'\n",
      "[Errno 2] No such file or directory: 'tfrecord/malay-2-53.tfrecord'\n",
      "[Errno 2] No such file or directory: 'tfrecord/malay-3-71.tfrecord'\n",
      "[Errno 2] No such file or directory: 'tfrecord/malay-3-35.tfrecord'\n",
      "[Errno 2] No such file or directory: 'tfrecord/malay-4-14.tfrecord'\n",
      "[Errno 2] No such file or directory: 'tfrecord/malay-6-73.tfrecord'\n"
     ]
    },
    {
     "name": "stderr",
     "output_type": "stream",
     "text": [
      "\r",
      " 36%|███▌      | 22/61 [1:21:05<2:35:57, 239.93s/it]"
     ]
    },
    {
     "name": "stdout",
     "output_type": "stream",
     "text": [
      "\n",
      "[Errno 2] No such file or directory: 'tfrecord/malay-7-74.tfrecord'[Errno 2] No such file or directory: 'tfrecord/malay-3-44.tfrecord'\n",
      "\n",
      "[Errno 2] No such file or directory: 'tfrecord/malay-1-33.tfrecord'\n",
      "[Errno 2] No such file or directory: 'tfrecord/malay-1-21.tfrecord'\n",
      "[Errno 2] No such file or directory: 'tfrecord/malay-4-32.tfrecord'\n",
      "[Errno 2] No such file or directory: 'tfrecord/malay-2-14.tfrecord'\n",
      "[Errno 2] No such file or directory: 'tfrecord/malay-5-35.tfrecord'\n",
      "[Errno 2] No such file or directory: 'tfrecord/malay-4-26.tfrecord'\n",
      "[Errno 2] No such file or directory: 'tfrecord/malay-4-52.tfrecord'\n",
      "[Errno 2] No such file or directory: 'tfrecord/malay-5-53.tfrecord'\n"
     ]
    },
    {
     "name": "stderr",
     "output_type": "stream",
     "text": [
      "\r",
      " 38%|███▊      | 23/61 [1:26:20<2:46:16, 262.53s/it]"
     ]
    },
    {
     "name": "stdout",
     "output_type": "stream",
     "text": [
      "\n",
      "[Errno 2] No such file or directory: 'tfrecord/malay-3-14.tfrecord'\n",
      "[Errno 2] No such file or directory: 'tfrecord/malay-1-4.tfrecord'\n",
      "[Errno 2] No such file or directory: 'tfrecord/malay-2-41.tfrecord'\n",
      "[Errno 2] No such file or directory: 'tfrecord/malay-6-30.tfrecord'\n",
      "[Errno 2] No such file or directory: 'tfrecord/malay-2-69.tfrecord'\n",
      "[Errno 2] No such file or directory: 'tfrecord/malay-7-16.tfrecord'\n",
      "[Errno 2] No such file or directory: 'tfrecord/malay-6-7.tfrecord'\n",
      "[Errno 2] No such file or directory: 'tfrecord/malay-7-28.tfrecord'\n",
      "[Errno 2] No such file or directory: 'tfrecord/malay-2-20.tfrecord'\n",
      "[Errno 2] No such file or directory: 'tfrecord/malay-3-54.tfrecord'\n"
     ]
    },
    {
     "name": "stderr",
     "output_type": "stream",
     "text": [
      "\r",
      " 39%|███▉      | 24/61 [1:32:03<2:56:41, 286.51s/it]"
     ]
    },
    {
     "name": "stdout",
     "output_type": "stream",
     "text": [
      "\n",
      "[Errno 2] No such file or directory: 'tfrecord/malay-2-5.tfrecord'\n",
      "[Errno 2] No such file or directory: 'tfrecord/malay-6-15.tfrecord'\n",
      "[Errno 2] No such file or directory: 'tfrecord/malay-6-60.tfrecord'\n",
      "[Errno 2] No such file or directory: 'tfrecord/malay-2-18.tfrecord'\n",
      "[Errno 2] No such file or directory: 'tfrecord/malay-3-59.tfrecord'\n",
      "[Errno 2] No such file or directory: 'tfrecord/malay-2-63.tfrecord'\n",
      "[Errno 2] No such file or directory: 'tfrecord/malay-2-44.tfrecord'\n",
      "[Errno 2] No such file or directory: 'tfrecord/malay-3-50.tfrecord'\n",
      "[Errno 2] No such file or directory: 'tfrecord/malay-5-27.tfrecord'\n",
      "[Errno 2] No such file or directory: 'tfrecord/malay-5-44.tfrecord'\n"
     ]
    },
    {
     "name": "stderr",
     "output_type": "stream",
     "text": [
      "\r",
      " 41%|████      | 25/61 [1:37:23<2:57:59, 296.66s/it]"
     ]
    },
    {
     "name": "stdout",
     "output_type": "stream",
     "text": [
      "\n",
      "[Errno 2] No such file or directory: 'tfrecord/malay-0-3.tfrecord'\n",
      "[Errno 2] No such file or directory: 'tfrecord/malay-6-20.tfrecord'\n",
      "[Errno 2] No such file or directory: 'tfrecord/malay-4-16.tfrecord'[Errno 2] No such file or directory: 'tfrecord/malay-7-19.tfrecord'\n",
      "\n",
      "[Errno 2] No such file or directory: 'tfrecord/malay-6-42.tfrecord'\n",
      "[Errno 2] No such file or directory: 'tfrecord/malay-7-5.tfrecord'\n",
      "[Errno 2] No such file or directory: 'tfrecord/malay-4-40.tfrecord'\n",
      "[Errno 2] No such file or directory: 'tfrecord/malay-1-42.tfrecord'\n",
      "[Errno 2] No such file or directory: 'tfrecord/malay-4-50.tfrecord'\n",
      "[Errno 2] No such file or directory: 'tfrecord/malay-0-59.tfrecord'\n"
     ]
    },
    {
     "name": "stderr",
     "output_type": "stream",
     "text": [
      "\r",
      " 43%|████▎     | 26/61 [1:41:18<2:42:19, 278.28s/it]"
     ]
    },
    {
     "name": "stdout",
     "output_type": "stream",
     "text": [
      "\n",
      "[Errno 2] No such file or directory: 'tfrecord/malay-5-6.tfrecord'\n",
      "[Errno 2] No such file or directory: 'tfrecord/malay-6-57.tfrecord'\n",
      "[Errno 2] No such file or directory: 'tfrecord/malay-7-30.tfrecord'\n",
      "[Errno 2] No such file or directory: 'tfrecord/malay-7-67.tfrecord'\n",
      "[Errno 2] No such file or directory: 'tfrecord/malay-5-38.tfrecord'\n",
      "[Errno 2] No such file or directory: 'tfrecord/malay-0-68.tfrecord'[Errno 2] No such file or directory: 'tfrecord/malay-5-51.tfrecord'\n",
      "\n",
      "[Errno 2] No such file or directory: 'tfrecord/malay-0-16.tfrecord'[Errno 2] No such file or directory: 'tfrecord/malay-2-15.tfrecord'\n",
      "\n",
      "[Errno 2] No such file or directory: 'tfrecord/malay-7-34.tfrecord'\n"
     ]
    },
    {
     "name": "stderr",
     "output_type": "stream",
     "text": [
      "\r",
      " 44%|████▍     | 27/61 [1:45:05<2:28:57, 262.87s/it]"
     ]
    },
    {
     "name": "stdout",
     "output_type": "stream",
     "text": [
      "\n",
      "[Errno 2] No such file or directory: 'tfrecord/malay-7-4.tfrecord'\n",
      "[Errno 2] No such file or directory: 'tfrecord/malay-4-59.tfrecord'\n",
      "[Errno 2] No such file or directory: 'tfrecord/malay-6-67.tfrecord'\n",
      "[Errno 2] No such file or directory: 'tfrecord/malay-7-53.tfrecord'\n",
      "[Errno 2] No such file or directory: 'tfrecord/malay-5-43.tfrecord'\n",
      "[Errno 2] No such file or directory: 'tfrecord/malay-5-36.tfrecord'\n",
      "[Errno 2] No such file or directory: 'tfrecord/malay-5-65.tfrecord'\n",
      "[Errno 2] No such file or directory: 'tfrecord/malay-0-64.tfrecord'\n",
      "[Errno 2] No such file or directory: 'tfrecord/malay-6-46.tfrecord'\n",
      "[Errno 2] No such file or directory: 'tfrecord/malay-4-39.tfrecord'\n"
     ]
    },
    {
     "name": "stderr",
     "output_type": "stream",
     "text": [
      "\r",
      " 46%|████▌     | 28/61 [1:50:29<2:34:41, 281.24s/it]"
     ]
    },
    {
     "name": "stdout",
     "output_type": "stream",
     "text": [
      "\n",
      "[Errno 2] No such file or directory: 'tfrecord/malay-1-17.tfrecord'\n",
      "[Errno 2] No such file or directory: 'tfrecord/malay-4-22.tfrecord'[Errno 2] No such file or directory: 'tfrecord/malay-3-31.tfrecord'\n",
      "\n",
      "[Errno 2] No such file or directory: 'tfrecord/malay-1-49.tfrecord'\n",
      "[Errno 2] No such file or directory: 'tfrecord/malay-1-15.tfrecord'\n",
      "[Errno 2] No such file or directory: 'tfrecord/malay-1-13.tfrecord'\n",
      "[Errno 2] No such file or directory: 'tfrecord/malay-2-59.tfrecord'\n",
      "[Errno 2] No such file or directory: 'tfrecord/malay-3-62.tfrecord'\n",
      "[Errno 2] No such file or directory: 'tfrecord/malay-1-7.tfrecord'\n",
      "[Errno 2] No such file or directory: 'tfrecord/malay-7-38.tfrecord'\n"
     ]
    },
    {
     "name": "stderr",
     "output_type": "stream",
     "text": [
      "\r",
      " 48%|████▊     | 29/61 [1:55:15<2:30:42, 282.58s/it]"
     ]
    },
    {
     "name": "stdout",
     "output_type": "stream",
     "text": [
      "\n",
      "[Errno 2] No such file or directory: 'tfrecord/malay-1-68.tfrecord'\n",
      "[Errno 2] No such file or directory: 'tfrecord/malay-4-61.tfrecord'\n",
      "[Errno 2] No such file or directory: 'tfrecord/malay-6-16.tfrecord'\n",
      "[Errno 2] No such file or directory: 'tfrecord/malay-7-26.tfrecord'\n",
      "[Errno 2] No such file or directory: 'tfrecord/malay-6-62.tfrecord'\n",
      "[Errno 2] No such file or directory: 'tfrecord/malay-0-38.tfrecord'\n",
      "[Errno 2] No such file or directory: 'tfrecord/malay-7-51.tfrecord'\n",
      "[Errno 2] No such file or directory: 'tfrecord/malay-5-41.tfrecord'\n",
      "[Errno 2] No such file or directory: 'tfrecord/malay-0-44.tfrecord'\n",
      "[Errno 2] No such file or directory: 'tfrecord/malay-3-11.tfrecord'\n"
     ]
    },
    {
     "name": "stderr",
     "output_type": "stream",
     "text": [
      "\r",
      " 49%|████▉     | 30/61 [1:59:06<2:17:58, 267.06s/it]"
     ]
    },
    {
     "name": "stdout",
     "output_type": "stream",
     "text": [
      "\n",
      "[Errno 2] No such file or directory: 'tfrecord/malay-4-1.tfrecord'\n",
      "[Errno 2] No such file or directory: 'tfrecord/malay-7-24.tfrecord'\n",
      "[Errno 2] No such file or directory: 'tfrecord/malay-3-12.tfrecord'\n",
      "[Errno 2] No such file or directory: 'tfrecord/malay-2-6.tfrecord'\n",
      "[Errno 2] No such file or directory: 'tfrecord/malay-0-6.tfrecord'\n",
      "[Errno 2] No such file or directory: 'tfrecord/malay-3-56.tfrecord'\n",
      "[Errno 2] No such file or directory: 'tfrecord/malay-7-65.tfrecord'\n",
      "[Errno 2] No such file or directory: 'tfrecord/malay-7-61.tfrecord'[Errno 2] No such file or directory: 'tfrecord/malay-1-60.tfrecord'\n",
      "\n",
      "[Errno 2] No such file or directory: 'tfrecord/malay-6-4.tfrecord'\n"
     ]
    },
    {
     "name": "stderr",
     "output_type": "stream",
     "text": [
      "\r",
      " 51%|█████     | 31/61 [2:04:08<2:18:51, 277.72s/it]"
     ]
    },
    {
     "name": "stdout",
     "output_type": "stream",
     "text": [
      "\n",
      "[Errno 2] No such file or directory: 'tfrecord/malay-0-26.tfrecord'\n",
      "[Errno 2] No such file or directory: 'tfrecord/malay-4-70.tfrecord'\n",
      "[Errno 2] No such file or directory: 'tfrecord/malay-0-46.tfrecord'\n",
      "[Errno 2] No such file or directory: 'tfrecord/malay-0-30.tfrecord'\n",
      "[Errno 2] No such file or directory: 'tfrecord/malay-3-7.tfrecord'\n",
      "[Errno 2] No such file or directory: 'tfrecord/malay-3-19.tfrecord'\n",
      "[Errno 2] No such file or directory: 'tfrecord/malay-3-21.tfrecord'\n",
      "[Errno 2] No such file or directory: 'tfrecord/malay-1-51.tfrecord'\n",
      "[Errno 2] No such file or directory: 'tfrecord/malay-7-64.tfrecord'\n",
      "[Errno 2] No such file or directory: 'tfrecord/malay-2-68.tfrecord'\n"
     ]
    },
    {
     "name": "stderr",
     "output_type": "stream",
     "text": [
      "\r",
      " 52%|█████▏    | 32/61 [2:07:19<2:01:32, 251.46s/it]"
     ]
    },
    {
     "name": "stdout",
     "output_type": "stream",
     "text": [
      "\n",
      "[Errno 2] No such file or directory: 'tfrecord/malay-5-34.tfrecord'\n",
      "[Errno 2] No such file or directory: 'tfrecord/malay-6-36.tfrecord'\n",
      "[Errno 2] No such file or directory: 'tfrecord/malay-3-13.tfrecord'[Errno 2] No such file or directory: 'tfrecord/malay-1-5.tfrecord'\n",
      "\n",
      "[Errno 2] No such file or directory: 'tfrecord/malay-2-32.tfrecord'\n",
      "[Errno 2] No such file or directory: 'tfrecord/malay-6-49.tfrecord'\n",
      "[Errno 2] No such file or directory: 'tfrecord/malay-7-36.tfrecord'\n",
      "[Errno 2] No such file or directory: 'tfrecord/malay-0-29.tfrecord'\n",
      "[Errno 2] No such file or directory: 'tfrecord/malay-6-43.tfrecord'\n",
      "[Errno 2] No such file or directory: 'tfrecord/malay-1-24.tfrecord'\n"
     ]
    },
    {
     "name": "stderr",
     "output_type": "stream",
     "text": [
      "\r",
      " 54%|█████▍    | 33/61 [2:12:19<2:04:12, 266.16s/it]"
     ]
    },
    {
     "name": "stdout",
     "output_type": "stream",
     "text": [
      "\n",
      "[Errno 2] No such file or directory: 'tfrecord/malay-1-0.tfrecord'\n",
      "[Errno 2] No such file or directory: 'tfrecord/malay-1-57.tfrecord'\n",
      "[Errno 2] No such file or directory: 'tfrecord/malay-7-10.tfrecord'[Errno 2] No such file or directory: 'tfrecord/malay-1-43.tfrecord'\n",
      "\n",
      "[Errno 2] No such file or directory: 'tfrecord/malay-7-47.tfrecord'\n",
      "[Errno 2] No such file or directory: 'tfrecord/malay-3-70.tfrecord'\n",
      "[Errno 2] No such file or directory: 'tfrecord/malay-0-41.tfrecord'\n",
      "[Errno 2] No such file or directory: 'tfrecord/malay-2-17.tfrecord'\n",
      "[Errno 2] No such file or directory: 'tfrecord/malay-1-19.tfrecord'\n",
      "[Errno 2] No such file or directory: 'tfrecord/malay-4-29.tfrecord'\n"
     ]
    },
    {
     "name": "stderr",
     "output_type": "stream",
     "text": [
      "\r",
      " 56%|█████▌    | 34/61 [2:18:08<2:10:55, 290.95s/it]"
     ]
    },
    {
     "name": "stdout",
     "output_type": "stream",
     "text": [
      "\n",
      "[Errno 2] No such file or directory: 'tfrecord/malay-4-25.tfrecord'\n",
      "[Errno 2] No such file or directory: 'tfrecord/malay-2-29.tfrecord'\n",
      "[Errno 2] No such file or directory: 'tfrecord/malay-7-54.tfrecord'\n",
      "[Errno 2] No such file or directory: 'tfrecord/malay-3-42.tfrecord'[Errno 2] No such file or directory: 'tfrecord/malay-4-11.tfrecord'\n",
      "\n",
      "[Errno 2] No such file or directory: 'tfrecord/malay-3-49.tfrecord'\n",
      "[Errno 2] No such file or directory: 'tfrecord/malay-6-33.tfrecord'\n",
      "[Errno 2] No such file or directory: 'tfrecord/malay-0-75.tfrecord'\n",
      "[Errno 2] No such file or directory: 'tfrecord/malay-1-14.tfrecord'\n",
      "[Errno 2] No such file or directory: 'tfrecord/malay-1-32.tfrecord'\n"
     ]
    },
    {
     "name": "stderr",
     "output_type": "stream",
     "text": [
      "\r",
      " 57%|█████▋    | 35/61 [2:22:07<1:59:17, 275.28s/it]"
     ]
    },
    {
     "name": "stdout",
     "output_type": "stream",
     "text": [
      "\n",
      "[Errno 2] No such file or directory: 'tfrecord/malay-6-17.tfrecord'\n",
      "[Errno 2] No such file or directory: 'tfrecord/malay-4-55.tfrecord'\n",
      "[Errno 2] No such file or directory: 'tfrecord/malay-1-55.tfrecord'\n",
      "[Errno 2] No such file or directory: 'tfrecord/malay-4-27.tfrecord'\n",
      "[Errno 2] No such file or directory: 'tfrecord/malay-5-57.tfrecord'\n",
      "[Errno 2] No such file or directory: 'tfrecord/malay-0-39.tfrecord'\n",
      "[Errno 2] No such file or directory: 'tfrecord/malay-2-10.tfrecord'\n",
      "[Errno 2] No such file or directory: 'tfrecord/malay-2-26.tfrecord'\n",
      "[Errno 2] No such file or directory: 'tfrecord/malay-6-39.tfrecord'\n",
      "[Errno 2] No such file or directory: 'tfrecord/malay-2-51.tfrecord'\n"
     ]
    },
    {
     "name": "stderr",
     "output_type": "stream",
     "text": [
      "\r",
      " 59%|█████▉    | 36/61 [2:26:22<1:52:11, 269.25s/it]"
     ]
    },
    {
     "name": "stdout",
     "output_type": "stream",
     "text": [
      "\n",
      "[Errno 2] No such file or directory: 'tfrecord/malay-7-12.tfrecord'\n",
      "[Errno 2] No such file or directory: 'tfrecord/malay-0-5.tfrecord'\n",
      "[Errno 2] No such file or directory: 'tfrecord/malay-3-10.tfrecord'\n",
      "[Errno 2] No such file or directory: 'tfrecord/malay-6-61.tfrecord'\n",
      "[Errno 2] No such file or directory: 'tfrecord/malay-2-61.tfrecord'\n",
      "[Errno 2] No such file or directory: 'tfrecord/malay-3-61.tfrecord'\n",
      "[Errno 2] No such file or directory: 'tfrecord/malay-5-59.tfrecord'\n",
      "[Errno 2] No such file or directory: 'tfrecord/malay-4-0.tfrecord'\n",
      "[Errno 2] No such file or directory: 'tfrecord/malay-0-20.tfrecord'\n",
      "[Errno 2] No such file or directory: 'tfrecord/malay-1-28.tfrecord'\n"
     ]
    },
    {
     "name": "stderr",
     "output_type": "stream",
     "text": [
      "\r",
      " 61%|██████    | 37/61 [2:30:40<1:46:22, 265.95s/it]"
     ]
    },
    {
     "name": "stdout",
     "output_type": "stream",
     "text": [
      "\n",
      "[Errno 2] No such file or directory: 'tfrecord/malay-5-17.tfrecord'\n",
      "[Errno 2] No such file or directory: 'tfrecord/malay-7-25.tfrecord'\n",
      "[Errno 2] No such file or directory: 'tfrecord/malay-1-39.tfrecord'[Errno 2] No such file or directory: 'tfrecord/malay-4-36.tfrecord'\n",
      "\n",
      "[Errno 2] No such file or directory: 'tfrecord/malay-1-8.tfrecord'\n",
      "[Errno 2] No such file or directory: 'tfrecord/malay-6-59.tfrecord'\n",
      "[Errno 2] No such file or directory: 'tfrecord/malay-6-37.tfrecord'\n",
      "[Errno 2] No such file or directory: 'tfrecord/malay-4-4.tfrecord'\n",
      "[Errno 2] No such file or directory: 'tfrecord/malay-6-35.tfrecord'\n",
      "[Errno 2] No such file or directory: 'tfrecord/malay-2-47.tfrecord'\n"
     ]
    },
    {
     "name": "stderr",
     "output_type": "stream",
     "text": [
      "\r",
      " 62%|██████▏   | 38/61 [2:35:31<1:44:50, 273.48s/it]"
     ]
    },
    {
     "name": "stdout",
     "output_type": "stream",
     "text": [
      "\n",
      "[Errno 2] No such file or directory: 'tfrecord/malay-5-72.tfrecord'\n",
      "[Errno 2] No such file or directory: 'tfrecord/malay-4-17.tfrecord'\n",
      "[Errno 2] No such file or directory: 'tfrecord/malay-7-2.tfrecord'[Errno 2] No such file or directory: 'tfrecord/malay-6-11.tfrecord'\n",
      "\n",
      "[Errno 2] No such file or directory: 'tfrecord/malay-7-37.tfrecord'\n",
      "[Errno 2] No such file or directory: 'tfrecord/malay-7-7.tfrecord'\n",
      "[Errno 2] No such file or directory: 'tfrecord/malay-4-47.tfrecord'\n",
      "[Errno 2] No such file or directory: 'tfrecord/malay-0-34.tfrecord'\n",
      "[Errno 2] No such file or directory: 'tfrecord/malay-0-23.tfrecord'\n",
      "[Errno 2] No such file or directory: 'tfrecord/malay-5-54.tfrecord'\n"
     ]
    },
    {
     "name": "stderr",
     "output_type": "stream",
     "text": [
      "\r",
      " 64%|██████▍   | 39/61 [2:41:37<1:50:24, 301.12s/it]"
     ]
    },
    {
     "name": "stdout",
     "output_type": "stream",
     "text": [
      "\n",
      "[Errno 2] No such file or directory: 'tfrecord/malay-0-27.tfrecord'\n",
      "[Errno 2] No such file or directory: 'tfrecord/malay-1-59.tfrecord'\n",
      "[Errno 2] No such file or directory: 'tfrecord/malay-4-63.tfrecord'\n",
      "[Errno 2] No such file or directory: 'tfrecord/malay-3-2.tfrecord'[Errno 2] No such file or directory: 'tfrecord/malay-6-51.tfrecord'[Errno 2] No such file or directory: 'tfrecord/malay-1-31.tfrecord'\n",
      "\n",
      "\n",
      "[Errno 2] No such file or directory: 'tfrecord/malay-7-33.tfrecord'\n",
      "[Errno 2] No such file or directory: 'tfrecord/malay-5-33.tfrecord'\n",
      "[Errno 2] No such file or directory: 'tfrecord/malay-1-38.tfrecord'\n",
      "[Errno 2] No such file or directory: 'tfrecord/malay-2-70.tfrecord'\n"
     ]
    },
    {
     "name": "stderr",
     "output_type": "stream",
     "text": [
      "\r",
      " 66%|██████▌   | 40/61 [2:45:59<1:41:20, 289.56s/it]"
     ]
    },
    {
     "name": "stdout",
     "output_type": "stream",
     "text": [
      "\n",
      "[Errno 2] No such file or directory: 'tfrecord/malay-4-28.tfrecord'\n",
      "[Errno 2] No such file or directory: 'tfrecord/malay-3-6.tfrecord'\n",
      "[Errno 2] No such file or directory: 'tfrecord/malay-6-75.tfrecord'[Errno 2] No such file or directory: 'tfrecord/malay-3-39.tfrecord'\n",
      "\n",
      "[Errno 2] No such file or directory: 'tfrecord/malay-4-43.tfrecord'\n",
      "[Errno 2] No such file or directory: 'tfrecord/malay-4-72.tfrecord'\n",
      "[Errno 2] No such file or directory: 'tfrecord/malay-2-66.tfrecord'\n",
      "[Errno 2] No such file or directory: 'tfrecord/malay-1-18.tfrecord'[Errno 2] No such file or directory: 'tfrecord/malay-2-9.tfrecord'\n",
      "\n",
      "[Errno 2] No such file or directory: 'tfrecord/malay-5-23.tfrecord'\n"
     ]
    },
    {
     "name": "stderr",
     "output_type": "stream",
     "text": [
      "\r",
      " 67%|██████▋   | 41/61 [2:50:50<1:36:40, 290.02s/it]"
     ]
    },
    {
     "name": "stdout",
     "output_type": "stream",
     "text": [
      "\n",
      "[Errno 2] No such file or directory: 'tfrecord/malay-0-24.tfrecord'\n",
      "[Errno 2] No such file or directory: 'tfrecord/malay-4-37.tfrecord'\n",
      "[Errno 2] No such file or directory: 'tfrecord/malay-7-66.tfrecord'\n",
      "[Errno 2] No such file or directory: 'tfrecord/malay-4-30.tfrecord'\n",
      "[Errno 2] No such file or directory: 'tfrecord/malay-3-3.tfrecord'\n",
      "[Errno 2] No such file or directory: 'tfrecord/malay-4-23.tfrecord'\n",
      "[Errno 2] No such file or directory: 'tfrecord/malay-2-60.tfrecord'\n",
      "[Errno 2] No such file or directory: 'tfrecord/malay-7-32.tfrecord'\n",
      "[Errno 2] No such file or directory: 'tfrecord/malay-0-18.tfrecord'\n",
      "[Errno 2] No such file or directory: 'tfrecord/malay-0-70.tfrecord'\n"
     ]
    },
    {
     "name": "stderr",
     "output_type": "stream",
     "text": [
      "\r",
      " 69%|██████▉   | 42/61 [2:54:34<1:25:29, 269.97s/it]"
     ]
    },
    {
     "name": "stdout",
     "output_type": "stream",
     "text": [
      "\n",
      "[Errno 2] No such file or directory: 'tfrecord/malay-2-67.tfrecord'\n",
      "[Errno 2] No such file or directory: 'tfrecord/malay-1-65.tfrecord'\n",
      "[Errno 2] No such file or directory: 'tfrecord/malay-4-18.tfrecord'\n",
      "[Errno 2] No such file or directory: 'tfrecord/malay-6-40.tfrecord'\n",
      "[Errno 2] No such file or directory: 'tfrecord/malay-2-3.tfrecord'\n",
      "[Errno 2] No such file or directory: 'tfrecord/malay-2-27.tfrecord'\n",
      "[Errno 2] No such file or directory: 'tfrecord/malay-5-49.tfrecord'\n",
      "[Errno 2] No such file or directory: 'tfrecord/malay-7-35.tfrecord'\n",
      "[Errno 2] No such file or directory: 'tfrecord/malay-2-75.tfrecord'\n",
      "[Errno 2] No such file or directory: 'tfrecord/malay-0-69.tfrecord'\n"
     ]
    },
    {
     "name": "stderr",
     "output_type": "stream",
     "text": [
      "\r",
      " 70%|███████   | 43/61 [2:58:40<1:18:51, 262.88s/it]"
     ]
    },
    {
     "name": "stdout",
     "output_type": "stream",
     "text": [
      "\n",
      "[Errno 2] No such file or directory: 'tfrecord/malay-5-70.tfrecord'\n",
      "[Errno 2] No such file or directory: 'tfrecord/malay-6-10.tfrecord'\n",
      "[Errno 2] No such file or directory: 'tfrecord/malay-1-73.tfrecord'\n",
      "[Errno 2] No such file or directory: 'tfrecord/malay-6-5.tfrecord'\n",
      "[Errno 2] No such file or directory: 'tfrecord/malay-7-42.tfrecord'\n",
      "[Errno 2] No such file or directory: 'tfrecord/malay-3-73.tfrecord'\n",
      "[Errno 2] No such file or directory: 'tfrecord/malay-4-19.tfrecord'\n",
      "[Errno 2] No such file or directory: 'tfrecord/malay-2-36.tfrecord'\n",
      "[Errno 2] No such file or directory: 'tfrecord/malay-3-0.tfrecord'\n",
      "[Errno 2] No such file or directory: 'tfrecord/malay-0-58.tfrecord'\n"
     ]
    },
    {
     "name": "stderr",
     "output_type": "stream",
     "text": [
      "\r",
      " 72%|███████▏  | 44/61 [3:05:20<1:26:07, 303.97s/it]"
     ]
    },
    {
     "name": "stdout",
     "output_type": "stream",
     "text": [
      "\n",
      "[Errno 2] No such file or directory: 'tfrecord/malay-5-26.tfrecord'\n",
      "[Errno 2] No such file or directory: 'tfrecord/malay-3-27.tfrecord'\n",
      "[Errno 2] No such file or directory: 'tfrecord/malay-1-9.tfrecord'[Errno 2] No such file or directory: 'tfrecord/malay-4-5.tfrecord'\n",
      "\n",
      "[Errno 2] No such file or directory: 'tfrecord/malay-0-0.tfrecord'\n",
      "[Errno 2] No such file or directory: 'tfrecord/malay-0-63.tfrecord'\n",
      "[Errno 2] No such file or directory: 'tfrecord/malay-6-19.tfrecord'\n",
      "[Errno 2] No such file or directory: 'tfrecord/malay-2-21.tfrecord'\n",
      "[Errno 2] No such file or directory: 'tfrecord/malay-1-53.tfrecord'\n",
      "[Errno 2] No such file or directory: 'tfrecord/malay-8-75.tfrecord'\n"
     ]
    },
    {
     "name": "stderr",
     "output_type": "stream",
     "text": [
      "\r",
      " 74%|███████▍  | 45/61 [3:09:49<1:18:15, 293.46s/it]"
     ]
    },
    {
     "name": "stdout",
     "output_type": "stream",
     "text": [
      "\n",
      "[Errno 2] No such file or directory: 'tfrecord/malay-4-54.tfrecord'\n",
      "[Errno 2] No such file or directory: 'tfrecord/malay-0-60.tfrecord'\n",
      "[Errno 2] No such file or directory: 'tfrecord/malay-1-48.tfrecord'[Errno 2] No such file or directory: 'tfrecord/malay-4-35.tfrecord'\n",
      "\n",
      "[Errno 2] No such file or directory: 'tfrecord/malay-1-41.tfrecord'\n",
      "[Errno 2] No such file or directory: 'tfrecord/malay-1-62.tfrecord'\n",
      "[Errno 2] No such file or directory: 'tfrecord/malay-6-44.tfrecord'\n",
      "[Errno 2] No such file or directory: 'tfrecord/malay-6-29.tfrecord'\n",
      "[Errno 2] No such file or directory: 'tfrecord/malay-0-74.tfrecord'\n",
      "[Errno 2] No such file or directory: 'tfrecord/malay-7-63.tfrecord'\n"
     ]
    },
    {
     "name": "stderr",
     "output_type": "stream",
     "text": [
      "\r",
      " 75%|███████▌  | 46/61 [3:14:39<1:13:07, 292.47s/it]"
     ]
    },
    {
     "name": "stdout",
     "output_type": "stream",
     "text": [
      "\n",
      "[Errno 2] No such file or directory: 'tfrecord/malay-1-12.tfrecord'\n",
      "[Errno 2] No such file or directory: 'tfrecord/malay-5-29.tfrecord'\n",
      "[Errno 2] No such file or directory: 'tfrecord/malay-7-39.tfrecord'[Errno 2] No such file or directory: 'tfrecord/malay-1-56.tfrecord'\n",
      "\n",
      "[Errno 2] No such file or directory: 'tfrecord/malay-1-1.tfrecord'\n",
      "[Errno 2] No such file or directory: 'tfrecord/malay-2-49.tfrecord'\n",
      "[Errno 2] No such file or directory: 'tfrecord/malay-3-5.tfrecord'\n",
      "[Errno 2] No such file or directory: 'tfrecord/malay-5-63.tfrecord'[Errno 2] No such file or directory: 'tfrecord/malay-6-1.tfrecord'\n",
      "\n",
      "[Errno 2] No such file or directory: 'tfrecord/malay-0-54.tfrecord'\n"
     ]
    },
    {
     "name": "stderr",
     "output_type": "stream",
     "text": [
      "\r",
      " 77%|███████▋  | 47/61 [3:23:23<1:24:27, 361.96s/it]"
     ]
    },
    {
     "name": "stdout",
     "output_type": "stream",
     "text": [
      "\n",
      "[Errno 2] No such file or directory: 'tfrecord/malay-3-41.tfrecord'\n",
      "[Errno 2] No such file or directory: 'tfrecord/malay-4-12.tfrecord'\n",
      "[Errno 2] No such file or directory: 'tfrecord/malay-3-52.tfrecord'\n",
      "[Errno 2] No such file or directory: 'tfrecord/malay-2-1.tfrecord'\n",
      "[Errno 2] No such file or directory: 'tfrecord/malay-3-47.tfrecord'[Errno 2] No such file or directory: 'tfrecord/malay-1-58.tfrecord'\n",
      "\n",
      "[Errno 2] No such file or directory: 'tfrecord/malay-2-23.tfrecord'\n",
      "[Errno 2] No such file or directory: 'tfrecord/malay-4-64.tfrecord'\n",
      "[Errno 2] No such file or directory: 'tfrecord/malay-5-55.tfrecord'\n",
      "[Errno 2] No such file or directory: 'tfrecord/malay-5-24.tfrecord'\n"
     ]
    },
    {
     "name": "stderr",
     "output_type": "stream",
     "text": [
      "\r",
      " 80%|████████  | 49/61 [3:38:47<1:22:46, 413.85s/it]"
     ]
    },
    {
     "name": "stdout",
     "output_type": "stream",
     "text": [
      "\n",
      "[Errno 2] No such file or directory: 'tfrecord/malay-3-67.tfrecord'\n",
      "[Errno 2] No such file or directory: 'tfrecord/malay-1-61.tfrecord'\n",
      "[Errno 2] No such file or directory: 'tfrecord/malay-5-16.tfrecord'[Errno 2] No such file or directory: 'tfrecord/malay-6-27.tfrecord'\n",
      "\n",
      "[Errno 2] No such file or directory: 'tfrecord/malay-6-21.tfrecord'\n",
      "[Errno 2] No such file or directory: 'tfrecord/malay-0-9.tfrecord'\n",
      "[Errno 2] No such file or directory: 'tfrecord/malay-0-73.tfrecord'\n",
      "[Errno 2] No such file or directory: 'tfrecord/malay-5-75.tfrecord'\n",
      "[Errno 2] No such file or directory: 'tfrecord/malay-4-2.tfrecord'\n",
      "[Errno 2] No such file or directory: 'tfrecord/malay-5-46.tfrecord'\n"
     ]
    },
    {
     "name": "stderr",
     "output_type": "stream",
     "text": [
      "\r",
      " 82%|████████▏ | 50/61 [3:43:11<1:07:38, 368.97s/it]"
     ]
    },
    {
     "name": "stdout",
     "output_type": "stream",
     "text": [
      "\n",
      "[Errno 2] No such file or directory: 'tfrecord/malay-2-73.tfrecord'[Errno 2] No such file or directory: 'tfrecord/malay-6-23.tfrecord'\n",
      "\n",
      "[Errno 2] No such file or directory: 'tfrecord/malay-5-39.tfrecord'[Errno 2] No such file or directory: 'tfrecord/malay-7-18.tfrecord'\n",
      "\n",
      "[Errno 2] No such file or directory: 'tfrecord/malay-6-8.tfrecord'\n",
      "[Errno 2] No such file or directory: 'tfrecord/malay-5-1.tfrecord'[Errno 2] No such file or directory: 'tfrecord/malay-0-13.tfrecord'\n",
      "\n",
      "[Errno 2] No such file or directory: 'tfrecord/malay-0-21.tfrecord'\n",
      "[Errno 2] No such file or directory: 'tfrecord/malay-1-34.tfrecord'\n",
      "[Errno 2] No such file or directory: 'tfrecord/malay-0-43.tfrecord'\n"
     ]
    },
    {
     "name": "stderr",
     "output_type": "stream",
     "text": [
      "\r",
      " 84%|████████▎ | 51/61 [3:47:38<56:23, 338.39s/it]  "
     ]
    },
    {
     "name": "stdout",
     "output_type": "stream",
     "text": [
      "\n",
      "[Errno 2] No such file or directory: 'tfrecord/malay-1-52.tfrecord'[Errno 2] No such file or directory: 'tfrecord/malay-0-45.tfrecord'\n",
      "\n",
      "[Errno 2] No such file or directory: 'tfrecord/malay-3-4.tfrecord'[Errno 2] No such file or directory: 'tfrecord/malay-4-75.tfrecord'[Errno 2] No such file or directory: 'tfrecord/malay-7-73.tfrecord'[Errno 2] No such file or directory: 'tfrecord/malay-6-56.tfrecord'\n",
      "\n",
      "\n",
      "\n",
      "[Errno 2] No such file or directory: 'tfrecord/malay-4-34.tfrecord'[Errno 2] No such file or directory: 'tfrecord/malay-7-15.tfrecord'\n",
      "\n",
      "[Errno 2] No such file or directory: 'tfrecord/malay-1-69.tfrecord'\n",
      "[Errno 2] No such file or directory: 'tfrecord/malay-4-45.tfrecord'\n"
     ]
    },
    {
     "name": "stderr",
     "output_type": "stream",
     "text": [
      "\r",
      " 85%|████████▌ | 52/61 [3:54:21<53:40, 357.83s/it]"
     ]
    },
    {
     "name": "stdout",
     "output_type": "stream",
     "text": [
      "\n",
      "[Errno 2] No such file or directory: 'tfrecord/malay-3-25.tfrecord'\n",
      "[Errno 2] No such file or directory: 'tfrecord/malay-5-56.tfrecord'\n",
      "[Errno 2] No such file or directory: 'tfrecord/malay-7-11.tfrecord'\n",
      "[Errno 2] No such file or directory: 'tfrecord/malay-4-13.tfrecord'\n",
      "[Errno 2] No such file or directory: 'tfrecord/malay-2-8.tfrecord'\n",
      "[Errno 2] No such file or directory: 'tfrecord/malay-2-57.tfrecord'\n",
      "[Errno 2] No such file or directory: 'tfrecord/malay-0-11.tfrecord'\n",
      "[Errno 2] No such file or directory: 'tfrecord/malay-6-68.tfrecord'\n",
      "[Errno 2] No such file or directory: 'tfrecord/malay-0-67.tfrecord'\n",
      "[Errno 2] No such file or directory: 'tfrecord/malay-0-47.tfrecord'\n"
     ]
    },
    {
     "name": "stderr",
     "output_type": "stream",
     "text": [
      "\r",
      " 87%|████████▋ | 53/61 [3:58:41<43:46, 328.36s/it]"
     ]
    },
    {
     "name": "stdout",
     "output_type": "stream",
     "text": [
      "\n",
      "[Errno 2] No such file or directory: 'tfrecord/malay-6-14.tfrecord'\n",
      "[Errno 2] No such file or directory: 'tfrecord/malay-5-10.tfrecord'\n",
      "[Errno 2] No such file or directory: 'tfrecord/malay-3-34.tfrecord'\n",
      "[Errno 2] No such file or directory: 'tfrecord/malay-2-64.tfrecord'\n",
      "[Errno 2] No such file or directory: 'tfrecord/malay-7-69.tfrecord'\n",
      "[Errno 2] No such file or directory: 'tfrecord/malay-0-55.tfrecord'\n",
      "[Errno 2] No such file or directory: 'tfrecord/malay-4-21.tfrecord'\n",
      "[Errno 2] No such file or directory: 'tfrecord/malay-3-46.tfrecord'\n",
      "[Errno 2] No such file or directory: 'tfrecord/malay-4-10.tfrecord'\n",
      "[Errno 2] No such file or directory: 'tfrecord/malay-2-34.tfrecord'\n"
     ]
    },
    {
     "name": "stderr",
     "output_type": "stream",
     "text": [
      "\r",
      " 89%|████████▊ | 54/61 [4:04:31<39:03, 334.79s/it]"
     ]
    },
    {
     "name": "stdout",
     "output_type": "stream",
     "text": [
      "\n",
      "[Errno 2] No such file or directory: 'tfrecord/malay-3-69.tfrecord'\n",
      "[Errno 2] No such file or directory: 'tfrecord/malay-7-71.tfrecord'\n",
      "[Errno 2] No such file or directory: 'tfrecord/malay-6-54.tfrecord'\n",
      "[Errno 2] No such file or directory: 'tfrecord/malay-0-57.tfrecord'[Errno 2] No such file or directory: 'tfrecord/malay-6-45.tfrecord'\n",
      "\n",
      "[Errno 2] No such file or directory: 'tfrecord/malay-2-43.tfrecord'\n",
      "[Errno 2] No such file or directory: 'tfrecord/malay-5-48.tfrecord'\n",
      "[Errno 2] No such file or directory: 'tfrecord/malay-2-13.tfrecord'\n",
      "[Errno 2] No such file or directory: 'tfrecord/malay-2-37.tfrecord'\n",
      "[Errno 2] No such file or directory: 'tfrecord/malay-6-65.tfrecord'\n"
     ]
    },
    {
     "name": "stderr",
     "output_type": "stream",
     "text": [
      "\r",
      " 90%|█████████ | 55/61 [4:08:47<31:06, 311.14s/it]"
     ]
    },
    {
     "name": "stdout",
     "output_type": "stream",
     "text": [
      "\n",
      "[Errno 2] No such file or directory: 'tfrecord/malay-4-69.tfrecord'\n",
      "[Errno 2] No such file or directory: 'tfrecord/malay-1-71.tfrecord'\n",
      "[Errno 2] No such file or directory: 'tfrecord/malay-5-67.tfrecord'[Errno 2] No such file or directory: 'tfrecord/malay-6-72.tfrecord'[Errno 2] No such file or directory: 'tfrecord/malay-6-2.tfrecord'\n",
      "\n",
      "[Errno 2] No such file or directory: 'tfrecord/malay-3-16.tfrecord'\n",
      "\n",
      "[Errno 2] No such file or directory: 'tfrecord/malay-3-8.tfrecord'\n",
      "[Errno 2] No such file or directory: 'tfrecord/malay-0-12.tfrecord'\n",
      "[Errno 2] No such file or directory: 'tfrecord/malay-2-11.tfrecord'\n",
      "[Errno 2] No such file or directory: 'tfrecord/malay-2-65.tfrecord'\n"
     ]
    },
    {
     "name": "stderr",
     "output_type": "stream",
     "text": [
      "\r",
      " 92%|█████████▏| 56/61 [4:13:29<25:12, 302.56s/it]"
     ]
    },
    {
     "name": "stdout",
     "output_type": "stream",
     "text": [
      "\n",
      "[Errno 2] No such file or directory: 'tfrecord/malay-3-51.tfrecord'\n",
      "[Errno 2] No such file or directory: 'tfrecord/malay-4-3.tfrecord'[Errno 2] No such file or directory: 'tfrecord/malay-5-30.tfrecord'\n",
      "\n",
      "[Errno 2] No such file or directory: 'tfrecord/malay-7-3.tfrecord'\n",
      "[Errno 2] No such file or directory: 'tfrecord/malay-0-35.tfrecord'\n",
      "[Errno 2] No such file or directory: 'tfrecord/malay-3-18.tfrecord'\n",
      "[Errno 2] No such file or directory: 'tfrecord/malay-1-75.tfrecord'\n",
      "[Errno 2] No such file or directory: 'tfrecord/malay-4-74.tfrecord'\n",
      "[Errno 2] No such file or directory: 'tfrecord/malay-5-21.tfrecord'\n",
      "[Errno 2] No such file or directory: 'tfrecord/malay-2-35.tfrecord'\n"
     ]
    },
    {
     "name": "stderr",
     "output_type": "stream",
     "text": [
      "\r",
      " 93%|█████████▎| 57/61 [4:18:03<19:35, 293.95s/it]"
     ]
    },
    {
     "name": "stdout",
     "output_type": "stream",
     "text": [
      "\n",
      "[Errno 2] No such file or directory: 'tfrecord/malay-2-2.tfrecord'\n",
      "[Errno 2] No such file or directory: 'tfrecord/malay-7-56.tfrecord'\n",
      "[Errno 2] No such file or directory: 'tfrecord/malay-5-71.tfrecord'\n",
      "[Errno 2] No such file or directory: 'tfrecord/malay-0-42.tfrecord'\n",
      "[Errno 2] No such file or directory: 'tfrecord/malay-2-16.tfrecord'\n",
      "[Errno 2] No such file or directory: 'tfrecord/malay-0-53.tfrecord'\n",
      "[Errno 2] No such file or directory: 'tfrecord/malay-0-31.tfrecord'\n",
      "[Errno 2] No such file or directory: 'tfrecord/malay-6-24.tfrecord'\n",
      "[Errno 2] No such file or directory: 'tfrecord/malay-2-7.tfrecord'\n",
      "[Errno 2] No such file or directory: 'tfrecord/malay-5-15.tfrecord'\n"
     ]
    },
    {
     "name": "stderr",
     "output_type": "stream",
     "text": [
      "\r",
      " 95%|█████████▌| 58/61 [4:22:12<14:01, 280.54s/it]"
     ]
    },
    {
     "name": "stdout",
     "output_type": "stream",
     "text": [
      "\n",
      "[Errno 2] No such file or directory: 'tfrecord/malay-1-16.tfrecord'\n",
      "[Errno 2] No such file or directory: 'tfrecord/malay-6-6.tfrecord'[Errno 2] No such file or directory: 'tfrecord/malay-6-66.tfrecord'\n",
      "\n",
      "[Errno 2] No such file or directory: 'tfrecord/malay-2-22.tfrecord'\n",
      "[Errno 2] No such file or directory: 'tfrecord/malay-3-48.tfrecord'\n",
      "[Errno 2] No such file or directory: 'tfrecord/malay-5-52.tfrecord'\n",
      "[Errno 2] No such file or directory: 'tfrecord/malay-5-9.tfrecord'\n",
      "[Errno 2] No such file or directory: 'tfrecord/malay-0-32.tfrecord'\n",
      "[Errno 2] No such file or directory: 'tfrecord/malay-0-37.tfrecord'\n",
      "[Errno 2] No such file or directory: 'tfrecord/malay-2-4.tfrecord'\n"
     ]
    },
    {
     "name": "stderr",
     "output_type": "stream",
     "text": [
      "\r",
      " 97%|█████████▋| 59/61 [4:27:01<09:26, 283.00s/it]"
     ]
    },
    {
     "name": "stdout",
     "output_type": "stream",
     "text": [
      "\n",
      "[Errno 2] No such file or directory: 'tfrecord/malay-5-12.tfrecord'\n",
      "[Errno 2] No such file or directory: 'tfrecord/malay-2-38.tfrecord'\n",
      "[Errno 2] No such file or directory: 'tfrecord/malay-6-50.tfrecord'\n",
      "[Errno 2] No such file or directory: 'tfrecord/malay-4-24.tfrecord'\n",
      "[Errno 2] No such file or directory: 'tfrecord/malay-6-71.tfrecord'\n",
      "[Errno 2] No such file or directory: 'tfrecord/malay-0-14.tfrecord'\n",
      "[Errno 2] No such file or directory: 'tfrecord/malay-0-17.tfrecord'\n",
      "[Errno 2] No such file or directory: 'tfrecord/malay-4-31.tfrecord'\n",
      "[Errno 2] No such file or directory: 'tfrecord/malay-4-73.tfrecord'\n",
      "[Errno 2] No such file or directory: 'tfrecord/malay-3-40.tfrecord'\n"
     ]
    },
    {
     "name": "stderr",
     "output_type": "stream",
     "text": [
      "\r",
      " 98%|█████████▊| 60/61 [4:31:39<04:41, 281.52s/it]"
     ]
    },
    {
     "name": "stdout",
     "output_type": "stream",
     "text": [
      "\n",
      "[Errno 2] No such file or directory: 'tfrecord/malay-6-26.tfrecord'\n",
      "[Errno 2] No such file or directory: 'tfrecord/malay-7-23.tfrecord'\n",
      "[Errno 2] No such file or directory: 'tfrecord/malay-0-62.tfrecord'\n",
      "[Errno 2] No such file or directory: 'tfrecord/malay-6-63.tfrecord'\n",
      "[Errno 2] No such file or directory: 'tfrecord/malay-3-37.tfrecord'\n",
      "[Errno 2] No such file or directory: 'tfrecord/malay-1-47.tfrecord'\n",
      "[Errno 2] No such file or directory: 'tfrecord/malay-2-58.tfrecord'\n",
      "[Errno 2] No such file or directory: 'tfrecord/malay-3-1.tfrecord'[Errno 2] No such file or directory: 'tfrecord/malay-7-9.tfrecord'\n",
      "\n"
     ]
    },
    {
     "name": "stderr",
     "output_type": "stream",
     "text": [
      "100%|██████████| 61/61 [4:35:52<00:00, 271.35s/it]"
     ]
    },
    {
     "name": "stdout",
     "output_type": "stream",
     "text": [
      "\n"
     ]
    },
    {
     "name": "stderr",
     "output_type": "stream",
     "text": [
      "\n"
     ]
    }
   ],
   "source": [
    "from tqdm import tqdm\n",
    "\n",
    "lengths = []\n",
    "for i in tqdm(range(0, len(files), batch_files)):\n",
    "    b = files[i: i + batch_files]\n",
    "    tfrecords = get_dataset(b, directory=directory)\n",
    "    d = tf.data.Dataset.from_tensor_slices(tf.constant(tfrecords))\n",
    "    d = d.shuffle(buffer_size=len(tfrecords))\n",
    "    cycle_length = min(num_cpu_threads, len(tfrecords))\n",
    "    d = d.interleave(\n",
    "        tf.data.TFRecordDataset,\n",
    "        cycle_length=cycle_length,\n",
    "        block_length=thread_count)\n",
    "    d = d.map(parse, num_parallel_calls=num_cpu_threads)\n",
    "    d = d.as_numpy_iterator()\n",
    "    while True:\n",
    "        try:\n",
    "            r = next(d)\n",
    "            lengths.append(len(r['waveforms']) / sr)\n",
    "        except Exception as e:\n",
    "            print(e)\n",
    "            break"
   ]
  },
  {
   "cell_type": "code",
   "execution_count": 12,
   "id": "50f10a3c",
   "metadata": {},
   "outputs": [],
   "source": [
    "import numpy as np"
   ]
  },
  {
   "cell_type": "code",
   "execution_count": 25,
   "id": "23380253",
   "metadata": {},
   "outputs": [
    {
     "data": {
      "text/plain": [
       "5.8575222180546636"
      ]
     },
     "execution_count": 25,
     "metadata": {},
     "output_type": "execute_result"
    }
   ],
   "source": [
    "np.mean(lengths)"
   ]
  },
  {
   "cell_type": "code",
   "execution_count": 26,
   "id": "4ff38070",
   "metadata": {},
   "outputs": [
    {
     "data": {
      "text/plain": [
       "0.3453125"
      ]
     },
     "execution_count": 26,
     "metadata": {},
     "output_type": "execute_result"
    }
   ],
   "source": [
    "np.min(lengths)"
   ]
  },
  {
   "cell_type": "code",
   "execution_count": 27,
   "id": "492f9b83",
   "metadata": {},
   "outputs": [
    {
     "data": {
      "text/plain": [
       "18.0"
      ]
     },
     "execution_count": 27,
     "metadata": {},
     "output_type": "execute_result"
    }
   ],
   "source": [
    "np.max(lengths)"
   ]
  },
  {
   "cell_type": "code",
   "execution_count": 28,
   "id": "85f093b3",
   "metadata": {},
   "outputs": [
    {
     "data": {
      "text/plain": [
       "array([4.056  , 5.07   , 5.36825, 6.12275, 8.04   ])"
      ]
     },
     "execution_count": 28,
     "metadata": {},
     "output_type": "execute_result"
    }
   ],
   "source": [
    "np.percentile(lengths, [10, 25, 50, 75, 90])"
   ]
  },
  {
   "cell_type": "code",
   "execution_count": 29,
   "id": "2af3fb26",
   "metadata": {},
   "outputs": [
    {
     "data": {
      "text/plain": [
       "2398.3592180034716"
      ]
     },
     "execution_count": 29,
     "metadata": {},
     "output_type": "execute_result"
    }
   ],
   "source": [
    "np.sum(lengths) / 60 / 60"
   ]
  },
  {
   "cell_type": "code",
   "execution_count": null,
   "id": "40068f9d",
   "metadata": {},
   "outputs": [],
   "source": []
  }
 ],
 "metadata": {
  "kernelspec": {
   "display_name": "Python 3 (ipykernel)",
   "language": "python",
   "name": "python3"
  },
  "language_info": {
   "codemirror_mode": {
    "name": "ipython",
    "version": 3
   },
   "file_extension": ".py",
   "mimetype": "text/x-python",
   "name": "python",
   "nbconvert_exporter": "python",
   "pygments_lexer": "ipython3",
   "version": "3.8.10"
  }
 },
 "nbformat": 4,
 "nbformat_minor": 5
}
