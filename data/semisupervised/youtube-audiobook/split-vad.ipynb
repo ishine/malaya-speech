{
 "cells": [
  {
   "cell_type": "code",
   "execution_count": 1,
   "metadata": {},
   "outputs": [],
   "source": [
    "import os\n",
    "\n",
    "os.environ['CUDA_VISIBLE_DEVICES'] = '' "
   ]
  },
  {
   "cell_type": "code",
   "execution_count": 2,
   "metadata": {},
   "outputs": [
    {
     "name": "stderr",
     "output_type": "stream",
     "text": [
      "`pyaudio` is not available, `malaya_speech.streaming.pyaudio` is not able to use.\n"
     ]
    }
   ],
   "source": [
    "import malaya_speech\n",
    "from malaya_speech import Pipeline\n",
    "import soundfile as sf\n",
    "from glob import glob\n",
    "from datasets import Audio\n",
    "from tqdm import tqdm\n",
    "import torchaudio\n",
    "import torch"
   ]
  },
  {
   "cell_type": "code",
   "execution_count": 3,
   "metadata": {},
   "outputs": [
    {
     "data": {
      "text/plain": [
       "['(Audiobook) Mengenali Imam Mahdi dan Akhir Zaman - Bahagian 1 [XpSalODXHKA].mp3',\n",
       " '(Audiobook) Mengenali Imam Mahdi dan Akhir Zaman - Bahagian 2 [WS5lY8mZi_4].mp3',\n",
       " '(Audiobook) Mengenali Imam Mahdi dan Akhir Zaman - Bahagian 3 [yyFu6xJN8cw].mp3',\n",
       " 'BUKAN KERANA AKU TAK CINTA (BAB 1) - AUDIOBOOK [hW7F4xT9ZY0].mp3',\n",
       " 'BUKAN KERANA AKU TAK CINTA (BAB 2) - AUDIOBOOK [rZqXBfimaHU].mp3',\n",
       " 'BUKAN KERANA AKU TAK CINTA (BAB 3) - AUDIOBOOK [uAgp1LOXf3o].mp3',\n",
       " 'BUKAN KERANA AKU TAK CINTA (BAB 4) - AUDIOBOOK [u9ulw_KXsdA].mp3',\n",
       " 'BUKAN KERANA AKU TAK CINTA (BAB 5) - AUDIOBOOK [5r0friFAF3E].mp3',\n",
       " 'BUKAN KERANA AKU TAK CINTA (BAB 6) - AUDIOBOOK [tUnwczpH0aw].mp3',\n",
       " 'HARRY POTTER DAN BILIK RAHSIA (BAB 1) ｜ MALAY AUDIOBOOK [1tnfiH-dLDI].mp3',\n",
       " 'HARRY POTTER DAN BILIK RAHSIA (BAB 2) ｜ MALAY AUDIOBOOK [6PbzdKnLmZA].mp3',\n",
       " 'HARRY POTTER DAN BILIK RAHSIA (BAB 3) - MALAY AUDIOBOOK [ikQilu3cYsY].mp3',\n",
       " 'HARRY POTTER DAN BILIK RAHSIA (BAB 4) - MALAY AUDIOBOOK [SVeFRVjO_NM].mp3',\n",
       " 'HARRY POTTER DAN BILIK RAHSIA (BAB 5) - MALAY AUDIOBOOK [VNaA5Ghb4FU].mp3',\n",
       " 'HARRY POTTER DAN BILIK RAHSIA (BAB 6) ｜ MALAY AUDIOBOOK [rqBKOBiOqsM].mp3',\n",
       " '🛑 ｜ SIRI BEDAH BUKU SAHAM - THE SECRETS OF TRADING THE FIRST PULLBACK (ELWIN NG) ｜ Dr. Al-Aarifin [l8-Pf5iwhdk].mp3',\n",
       " '🛑 ｜ SIRI BEDAH BUKU SAHAM： ADVANCED TECHNIQUES IN DAY TRADING - Andrew Aziz [yD0QlYpWBW4].mp3',\n",
       " '🛑 ｜ SIRI BEDAH BUKU SAHAM： TRADING TECHNICAL ANALYSIS MASTERCLASS (Rolf Schlotmann & M. Czubatinski) [S2_c0v5Kvjc].mp3',\n",
       " '🛑 ｜ SIRI BEDAH BUKU： RICH DAD POOR DAD - ROBERT T. KIYOSAKI [PTOYC19KQuE].mp3']"
      ]
     },
     "execution_count": 3,
     "metadata": {},
     "output_type": "execute_result"
    }
   ],
   "source": [
    "mp3s = sorted(glob('*.mp3'))\n",
    "mp3s"
   ]
  },
  {
   "cell_type": "code",
   "execution_count": 4,
   "metadata": {
    "scrolled": true
   },
   "outputs": [
    {
     "name": "stderr",
     "output_type": "stream",
     "text": [
      "2023-03-05 13:12:29.397769: I tensorflow/core/platform/cpu_feature_guard.cc:142] This TensorFlow binary is optimized with oneAPI Deep Neural Network Library (oneDNN) to use the following CPU instructions in performance-critical operations:  AVX2 FMA\n",
      "To enable them in other operations, rebuild TensorFlow with the appropriate compiler flags.\n",
      "2023-03-05 13:12:29.426133: E tensorflow/stream_executor/cuda/cuda_driver.cc:271] failed call to cuInit: CUDA_ERROR_NO_DEVICE: no CUDA-capable device is detected\n",
      "2023-03-05 13:12:29.426162: I tensorflow/stream_executor/cuda/cuda_diagnostics.cc:169] retrieving CUDA diagnostic information for host: husein-MS-7D31\n",
      "2023-03-05 13:12:29.426171: I tensorflow/stream_executor/cuda/cuda_diagnostics.cc:176] hostname: husein-MS-7D31\n",
      "2023-03-05 13:12:29.426474: I tensorflow/stream_executor/cuda/cuda_diagnostics.cc:200] libcuda reported version is: 470.161.3\n",
      "2023-03-05 13:12:29.426489: I tensorflow/stream_executor/cuda/cuda_diagnostics.cc:204] kernel reported version is: 470.161.3\n",
      "2023-03-05 13:12:29.426492: I tensorflow/stream_executor/cuda/cuda_diagnostics.cc:310] kernel version seems to match DSO: 470.161.3\n"
     ]
    }
   ],
   "source": [
    "p = Pipeline()\n",
    "\n",
    "model_v2 = malaya_speech.vad.deep_model(model = 'vggvox-v2')\n",
    "pipeline = (\n",
    "    p.map(malaya_speech.utils.generator.frames, frame_duration_ms = 30)\n",
    "    .batching(20)\n",
    "    .foreach_map(model_v2.predict)\n",
    "    .flatten()\n",
    ")"
   ]
  },
  {
   "cell_type": "code",
   "execution_count": 5,
   "metadata": {},
   "outputs": [],
   "source": [
    "sample_rate = 44100\n",
    "\n",
    "audio = Audio(sampling_rate=sample_rate)"
   ]
  },
  {
   "cell_type": "code",
   "execution_count": 6,
   "metadata": {},
   "outputs": [
    {
     "name": "stdout",
     "output_type": "stream",
     "text": [
      "rm: cannot remove '*/*.wav': No such file or directory\r\n"
     ]
    }
   ],
   "source": [
    "!rm */*.wav"
   ]
  },
  {
   "cell_type": "code",
   "execution_count": 7,
   "metadata": {},
   "outputs": [
    {
     "name": "stderr",
     "output_type": "stream",
     "text": [
      "  0%|                                                    | 0/19 [00:00<?, ?it/s]/home/husein/.local/lib/python3.8/site-packages/librosa/core/spectrum.py:222: UserWarning: n_fft=512 is too small for input signal of length=480\n",
      "  warnings.warn(\n",
      "/home/husein/.local/lib/python3.8/site-packages/librosa/core/spectrum.py:222: UserWarning: n_fft=512 is too small for input signal of length=303\n",
      "  warnings.warn(\n",
      "  5%|██▏                                      | 1/19 [03:22<1:00:49, 202.78s/it]/home/husein/.local/lib/python3.8/site-packages/librosa/core/spectrum.py:222: UserWarning: n_fft=512 is too small for input signal of length=221\n",
      "  warnings.warn(\n",
      " 16%|██████▊                                    | 3/19 [08:56<45:32, 170.75s/it]/home/husein/.local/lib/python3.8/site-packages/librosa/core/spectrum.py:222: UserWarning: n_fft=512 is too small for input signal of length=416\n",
      "  warnings.warn(\n",
      " 26%|███████████▎                               | 5/19 [14:36<38:18, 164.17s/it]/home/husein/.local/lib/python3.8/site-packages/librosa/core/spectrum.py:222: UserWarning: n_fft=512 is too small for input signal of length=156\n",
      "  warnings.warn(\n",
      " 32%|█████████████▌                             | 6/19 [18:53<42:23, 195.65s/it]/home/husein/.local/lib/python3.8/site-packages/librosa/core/spectrum.py:222: UserWarning: n_fft=512 is too small for input signal of length=467\n",
      "  warnings.warn(\n",
      " 37%|███████████████▊                           | 7/19 [22:50<41:50, 209.18s/it]/home/husein/.local/lib/python3.8/site-packages/librosa/core/spectrum.py:222: UserWarning: n_fft=512 is too small for input signal of length=245\n",
      "  warnings.warn(\n",
      " 42%|██████████████████                         | 8/19 [25:46<36:24, 198.63s/it]/home/husein/.local/lib/python3.8/site-packages/librosa/core/spectrum.py:222: UserWarning: n_fft=512 is too small for input signal of length=424\n",
      "  warnings.warn(\n",
      " 47%|████████████████████▎                      | 9/19 [28:42<31:57, 191.70s/it]/home/husein/.local/lib/python3.8/site-packages/librosa/core/spectrum.py:222: UserWarning: n_fft=512 is too small for input signal of length=126\n",
      "  warnings.warn(\n",
      " 53%|██████████████████████                    | 10/19 [31:33<27:48, 185.36s/it]/home/husein/.local/lib/python3.8/site-packages/librosa/core/spectrum.py:222: UserWarning: n_fft=512 is too small for input signal of length=447\n",
      "  warnings.warn(\n",
      " 58%|████████████████████████▎                 | 11/19 [34:48<25:05, 188.13s/it]/home/husein/.local/lib/python3.8/site-packages/librosa/core/spectrum.py:222: UserWarning: n_fft=512 is too small for input signal of length=116\n",
      "  warnings.warn(\n",
      " 63%|██████████████████████████▌               | 12/19 [39:25<25:07, 215.36s/it]/home/husein/.local/lib/python3.8/site-packages/librosa/core/spectrum.py:222: UserWarning: n_fft=512 is too small for input signal of length=107\n",
      "  warnings.warn(\n",
      " 68%|████████████████████████████▋             | 13/19 [45:27<25:58, 259.69s/it]/home/husein/.local/lib/python3.8/site-packages/librosa/core/spectrum.py:222: UserWarning: n_fft=512 is too small for input signal of length=372\n",
      "  warnings.warn(\n",
      " 74%|██████████████████████████████▉           | 14/19 [51:29<24:13, 290.67s/it]/home/husein/.local/lib/python3.8/site-packages/librosa/core/spectrum.py:222: UserWarning: n_fft=512 is too small for input signal of length=312\n",
      "  warnings.warn(\n",
      " 79%|█████████████████████████████████▏        | 15/19 [56:27<19:31, 292.91s/it]/home/husein/.local/lib/python3.8/site-packages/librosa/core/spectrum.py:222: UserWarning: n_fft=512 is too small for input signal of length=256\n",
      "  warnings.warn(\n",
      " 84%|███████████████████████████████████▎      | 16/19 [59:11<12:42, 254.12s/it]/home/husein/.local/lib/python3.8/site-packages/librosa/core/spectrum.py:222: UserWarning: n_fft=512 is too small for input signal of length=163\n",
      "  warnings.warn(\n",
      " 89%|███████████████████████████████████▊    | 17/19 [1:02:18<07:47, 233.70s/it]/home/husein/.local/lib/python3.8/site-packages/librosa/core/spectrum.py:222: UserWarning: n_fft=512 is too small for input signal of length=445\n",
      "  warnings.warn(\n",
      "100%|████████████████████████████████████████| 19/19 [1:10:50<00:00, 223.72s/it]\n"
     ]
    }
   ],
   "source": [
    "for f in tqdm(mp3s):\n",
    "    directory_name = f.replace('.mp3', '_').replace('|', '')\n",
    "    os.makedirs(directory_name, exist_ok=True)\n",
    "    \n",
    "    samples = audio.decode_example(audio.encode_example(f))['array']\n",
    "    # samples = samples[: 60 * sample_rate]\n",
    "    \n",
    "    samples_16k = malaya_speech.resample(samples, sample_rate, 16000)\n",
    "    frames_16k = list(\n",
    "        malaya_speech.utils.generator.frames(samples_16k, 30, 16000, append_ending_trail = False)\n",
    "    )\n",
    "    frames = list(\n",
    "        malaya_speech.utils.generator.frames(samples, 30, sample_rate, append_ending_trail = False)\n",
    "    )\n",
    "    \n",
    "    result = p.emit(samples_16k)\n",
    "    frames_deep_v2_batch = [\n",
    "        (frame, result['flatten'][no]) for no, frame in enumerate(frames)\n",
    "    ]\n",
    "    results = malaya_speech.split.split_vad(\n",
    "        frames_deep_v2_batch, n = 5, negative_threshold = 0.1\n",
    "    )\n",
    "\n",
    "    for no in range(len(results)):\n",
    "        result = results[no]\n",
    "        filename = f'{no}.mp3'\n",
    "        torchaudio.save(os.path.join(directory_name, filename), \n",
    "                            torch.tensor(result.array.astype('float32')).unsqueeze(0), \n",
    "                            sample_rate, format='mp3')\n",
    "#         sf.write(\n",
    "#             os.path.join(directory_name, filename),\n",
    "#             result.array,\n",
    "#             sample_rate,\n",
    "#         )"
   ]
  },
  {
   "cell_type": "code",
   "execution_count": null,
   "metadata": {},
   "outputs": [],
   "source": []
  }
 ],
 "metadata": {
  "kernelspec": {
   "display_name": "Python 3 (ipykernel)",
   "language": "python",
   "name": "python3"
  },
  "language_info": {
   "codemirror_mode": {
    "name": "ipython",
    "version": 3
   },
   "file_extension": ".py",
   "mimetype": "text/x-python",
   "name": "python",
   "nbconvert_exporter": "python",
   "pygments_lexer": "ipython3",
   "version": "3.8.10"
  }
 },
 "nbformat": 4,
 "nbformat_minor": 4
}
