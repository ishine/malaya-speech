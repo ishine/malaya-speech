{
 "cells": [
  {
   "cell_type": "code",
   "execution_count": 31,
   "id": "12c747a8",
   "metadata": {},
   "outputs": [],
   "source": [
    "from glob import glob\n",
    "import json"
   ]
  },
  {
   "cell_type": "code",
   "execution_count": 32,
   "id": "959006b6",
   "metadata": {},
   "outputs": [
    {
     "data": {
      "text/plain": [
       "2137"
      ]
     },
     "execution_count": 32,
     "metadata": {},
     "output_type": "execute_result"
    }
   ],
   "source": [
    "files = sorted(glob('indices/*'))\n",
    "len(files)"
   ]
  },
  {
   "cell_type": "code",
   "execution_count": 33,
   "id": "4df45524",
   "metadata": {},
   "outputs": [
    {
     "data": {
      "text/plain": [
       "59879"
      ]
     },
     "execution_count": 33,
     "metadata": {},
     "output_type": "execute_result"
    }
   ],
   "source": [
    "r = []\n",
    "for f in files:\n",
    "    with open(f) as fopen:\n",
    "        data = json.load(fopen)\n",
    "    \n",
    "    r.extend(data)\n",
    "len(r)"
   ]
  },
  {
   "cell_type": "code",
   "execution_count": 34,
   "id": "aa85bec3",
   "metadata": {},
   "outputs": [],
   "source": [
    "global_indices = {}\n",
    "start = 0\n",
    "for row in r:\n",
    "    row['start'] = start\n",
    "    row['end'] = row['l']\n",
    "    global_indices[start] = row\n",
    "    start += row['l']"
   ]
  },
  {
   "cell_type": "code",
   "execution_count": 45,
   "id": "a938c858",
   "metadata": {},
   "outputs": [],
   "source": [
    "with open('crawl-youtube-global-indices.json', 'w') as fopen:\n",
    "    json.dump(global_indices, fopen)"
   ]
  },
  {
   "cell_type": "code",
   "execution_count": 35,
   "id": "aaa68ff3",
   "metadata": {},
   "outputs": [
    {
     "data": {
      "text/plain": [
       "59519"
      ]
     },
     "execution_count": 35,
     "metadata": {},
     "output_type": "execute_result"
    }
   ],
   "source": [
    "len(global_indices)"
   ]
  },
  {
   "cell_type": "code",
   "execution_count": 36,
   "id": "6c345966",
   "metadata": {},
   "outputs": [
    {
     "data": {
      "text/plain": [
       "18517.008333333335"
      ]
     },
     "execution_count": 36,
     "metadata": {},
     "output_type": "execute_result"
    }
   ],
   "source": [
    "total = 0\n",
    "for row in r:\n",
    "    total += row['l']\n",
    "    \n",
    "(total * 30) / 60 / 60"
   ]
  },
  {
   "cell_type": "code",
   "execution_count": 42,
   "id": "e177677e",
   "metadata": {},
   "outputs": [],
   "source": [
    "# !zip -r indices.zip indices"
   ]
  },
  {
   "cell_type": "code",
   "execution_count": 43,
   "id": "1df6a552",
   "metadata": {},
   "outputs": [],
   "source": [
    "# !sudo apt install zip -y"
   ]
  },
  {
   "cell_type": "code",
   "execution_count": 47,
   "id": "4e68768d",
   "metadata": {},
   "outputs": [
    {
     "name": "stdout",
     "output_type": "stream",
     "text": [
      "-rw-r--r-- 1 ubuntu ubuntu 8.6M Dec 23 02:30 crawl-youtube-global-indices.json\r\n"
     ]
    }
   ],
   "source": [
    "!ls -lh crawl-youtube-global-indices.json"
   ]
  },
  {
   "cell_type": "code",
   "execution_count": 48,
   "id": "4a4ecc4c",
   "metadata": {},
   "outputs": [
    {
     "data": {
      "text/plain": [
       "'https://huggingface.co/datasets/malaysia-ai/crawl-youtube/blob/main/crawl-youtube-global-indices.json'"
      ]
     },
     "execution_count": 48,
     "metadata": {},
     "output_type": "execute_result"
    }
   ],
   "source": [
    "from huggingface_hub import HfApi\n",
    "api = HfApi()\n",
    "\n",
    "api.upload_file(\n",
    "    path_or_fileobj='crawl-youtube-global-indices.json',\n",
    "    path_in_repo='crawl-youtube-global-indices.json',\n",
    "    repo_id='malaysia-ai/crawl-youtube',\n",
    "    repo_type='dataset',\n",
    ")"
   ]
  },
  {
   "cell_type": "code",
   "execution_count": 49,
   "id": "4cbc6a3e",
   "metadata": {},
   "outputs": [
    {
     "data": {
      "application/vnd.jupyter.widget-view+json": {
       "model_id": "24a5b7d1497e4dbf9ac70dfeb1d056c0",
       "version_major": 2,
       "version_minor": 0
      },
      "text/plain": [
       "indices.zip:   0%|          | 0.00/1.02M [00:00<?, ?B/s]"
      ]
     },
     "metadata": {},
     "output_type": "display_data"
    },
    {
     "data": {
      "text/plain": [
       "'https://huggingface.co/datasets/malaysia-ai/crawl-youtube/blob/main/indices.zip'"
      ]
     },
     "execution_count": 49,
     "metadata": {},
     "output_type": "execute_result"
    }
   ],
   "source": [
    "api.upload_file(\n",
    "    path_or_fileobj='indices.zip',\n",
    "    path_in_repo='indices.zip',\n",
    "    repo_id='malaysia-ai/crawl-youtube',\n",
    "    repo_type='dataset',\n",
    ")"
   ]
  },
  {
   "cell_type": "code",
   "execution_count": null,
   "id": "72683b9a",
   "metadata": {},
   "outputs": [],
   "source": []
  }
 ],
 "metadata": {
  "kernelspec": {
   "display_name": "Python 3 (ipykernel)",
   "language": "python",
   "name": "python3"
  },
  "language_info": {
   "codemirror_mode": {
    "name": "ipython",
    "version": 3
   },
   "file_extension": ".py",
   "mimetype": "text/x-python",
   "name": "python",
   "nbconvert_exporter": "python",
   "pygments_lexer": "ipython3",
   "version": "3.10.12"
  }
 },
 "nbformat": 4,
 "nbformat_minor": 5
}
