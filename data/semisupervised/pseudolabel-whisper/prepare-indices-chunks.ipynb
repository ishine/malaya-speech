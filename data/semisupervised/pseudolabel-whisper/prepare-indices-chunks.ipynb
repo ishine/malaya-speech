{
 "cells": [
  {
   "cell_type": "code",
   "execution_count": 4,
   "id": "a439ae9b",
   "metadata": {},
   "outputs": [],
   "source": [
    "# !wget https://gist.githubusercontent.com/huseinzol05/98974ae8c6c7a65d4bc0af9f5003786a/raw/5aa5257608b61e8fcc828e99fbd070d5ca7358e3/mp.py"
   ]
  },
  {
   "cell_type": "code",
   "execution_count": 5,
   "id": "cd7e2db1",
   "metadata": {},
   "outputs": [],
   "source": [
    "from glob import glob\n",
    "from tqdm import tqdm\n",
    "import pandas as pd\n",
    "import mp\n",
    "import numpy as np\n",
    "from datasets import Audio\n",
    "import json\n",
    "import os\n",
    "import random\n",
    "\n",
    "chunks = 30\n",
    "sr = 16000"
   ]
  },
  {
   "cell_type": "code",
   "execution_count": 6,
   "id": "03073846",
   "metadata": {},
   "outputs": [
    {
     "name": "stdout",
     "output_type": "stream",
     "text": [
      "mkdir: cannot create directory ‘indices’: File exists\r\n"
     ]
    }
   ],
   "source": [
    "!mkdir indices\n",
    "# !rm indices/*"
   ]
  },
  {
   "cell_type": "code",
   "execution_count": 9,
   "id": "bd915545",
   "metadata": {},
   "outputs": [
    {
     "data": {
      "text/plain": [
       "2137"
      ]
     },
     "execution_count": 9,
     "metadata": {},
     "output_type": "execute_result"
    }
   ],
   "source": [
    "files = sorted(glob('/home/ubuntu/crawl-youtube/data/*.parquet'))[::-1]\n",
    "len(files)"
   ]
  },
  {
   "cell_type": "code",
   "execution_count": 10,
   "id": "9304ca49",
   "metadata": {},
   "outputs": [],
   "source": [
    "def loop(files):\n",
    "    files, _ = files\n",
    "    \n",
    "    audio = Audio(sampling_rate=sr)\n",
    "    \n",
    "    for f in tqdm(files):\n",
    "        filename = os.path.join('indices', os.path.split(f)[1])\n",
    "        if os.path.exists(filename):\n",
    "            continue\n",
    "            \n",
    "        df = pd.read_parquet(f)\n",
    "        \n",
    "        indices = []\n",
    "        for i in range(len(df)):\n",
    "            row = df.iloc[i]\n",
    "            a = audio.decode_example(audio.encode_example(row['filename']))\n",
    "            l = len(a['array']) // (chunks * sr)\n",
    "            d = {\n",
    "                'i': i,\n",
    "                'l': l,\n",
    "                'filename': f\n",
    "            }\n",
    "            indices.append(d)\n",
    "        \n",
    "        with open(filename, 'w') as fopen:\n",
    "            json.dump(indices, fopen)\n",
    "            \n",
    "        del df"
   ]
  },
  {
   "cell_type": "code",
   "execution_count": 11,
   "id": "a1284596",
   "metadata": {},
   "outputs": [
    {
     "name": "stderr",
     "output_type": "stream",
     "text": [
      "100%|██████████| 71/71 [00:00<00:00, 118833.03it/s]\n",
      "100%|██████████| 71/71 [00:00<00:00, 117104.04it/s]\n",
      "  0%|          | 0/71 [00:00<?, ?it/s]\n",
      "  0%|          | 0/71 [00:00<?, ?it/s]\n",
      "100%|██████████| 71/71 [00:00<00:00, 123720.64it/s]\n",
      "100%|██████████| 71/71 [00:00<00:00, 115964.01it/s]\n",
      "100%|██████████| 71/71 [00:00<00:00, 122348.23it/s]\n",
      "  0%|          | 0/71 [00:00<?, ?it/s]\n",
      "\n",
      "100%|██████████| 71/71 [00:00<00:00, 125440.43it/s]\n",
      "\n",
      "100%|██████████| 71/71 [00:00<00:00, 125917.79it/s]\n",
      "\n",
      "\n",
      "100%|██████████| 71/71 [00:00<00:00, 117334.75it/s]\n",
      "  0%|          | 0/71 [00:00<?, ?it/s]\n",
      "100%|██████████| 71/71 [00:00<00:00, 136415.75it/s]\n",
      "\n",
      "100%|██████████| 71/71 [00:00<00:00, 120272.85it/s]\n",
      "  0%|          | 0/71 [00:00<?, ?it/s]21104.34it/s]\n",
      "100%|██████████| 71/71 [00:00<00:00, 155832.33it/s]\n",
      "\n",
      "100%|██████████| 71/71 [00:00<00:00, 122802.30it/s]\n",
      "100%|██████████| 71/71 [00:00<00:00, 147496.57it/s]\n",
      "\n",
      "\n",
      "100%|██████████| 71/71 [00:00<00:00, 167113.12it/s]\n",
      "\n",
      "100%|██████████| 71/71 [20:02<00:00, 16.93s/it]   \n",
      "100%|██████████| 71/71 [33:56<00:00, 28.68s/it]   \n",
      "100%|██████████| 71/71 [36:01<00:00, 30.45s/it]\n"
     ]
    }
   ],
   "source": [
    "r = mp.multiprocessing(files, loop, cores = 30, returned = False)"
   ]
  },
  {
   "cell_type": "code",
   "execution_count": null,
   "id": "69f03205",
   "metadata": {},
   "outputs": [],
   "source": [
    "global_indices = {}\n",
    "start = 0\n",
    "for indices in r:\n",
    "    for k, v in indices.items():\n",
    "        v['start'] = start\n",
    "        v['end'] = k\n",
    "        global_indices[start] = v\n",
    "        start += k"
   ]
  },
  {
   "cell_type": "code",
   "execution_count": null,
   "id": "1b7144c9",
   "metadata": {},
   "outputs": [],
   "source": [
    "global_indices"
   ]
  },
  {
   "cell_type": "code",
   "execution_count": null,
   "id": "30682f94",
   "metadata": {},
   "outputs": [],
   "source": []
  }
 ],
 "metadata": {
  "kernelspec": {
   "display_name": "Python 3 (ipykernel)",
   "language": "python",
   "name": "python3"
  },
  "language_info": {
   "codemirror_mode": {
    "name": "ipython",
    "version": 3
   },
   "file_extension": ".py",
   "mimetype": "text/x-python",
   "name": "python",
   "nbconvert_exporter": "python",
   "pygments_lexer": "ipython3",
   "version": "3.10.12"
  }
 },
 "nbformat": 4,
 "nbformat_minor": 5
}
