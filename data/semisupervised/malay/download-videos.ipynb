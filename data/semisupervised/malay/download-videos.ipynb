{
 "cells": [
  {
   "cell_type": "code",
   "execution_count": 1,
   "metadata": {},
   "outputs": [
    {
     "data": {
      "text/plain": [
       "195"
      ]
     },
     "execution_count": 1,
     "metadata": {},
     "output_type": "execute_result"
    }
   ],
   "source": [
    "videos = \"\"\"\n",
    "https://www.youtube.com/watch?v=cyU3Qgox3K4&t=131s&ab_channel=TanahMelayu\n",
    "https://www.youtube.com/watch?v=68bH2c04v7o&ab_channel=TanahMelayu\n",
    "https://www.youtube.com/watch?v=9ITPO6ooNSk&ab_channel=TanahMelayu\n",
    "https://www.youtube.com/watch?v=sw5h9hlityE&t=1284s&ab_channel=TanahMelayu\n",
    "https://www.youtube.com/watch?v=rwhXalBKmbE&ab_channel=TanahMelayu\n",
    "https://www.youtube.com/watch?v=O4mJ_Fufp0o&ab_channel=TanahMelayu\n",
    "https://www.youtube.com/watch?v=_9ZBUQjJfMI&ab_channel=TanahMelayu\n",
    "https://www.youtube.com/watch?v=NKSyshvDHWY&ab_channel=TanahMelayu\n",
    "https://www.youtube.com/watch?v=hIjJGdzOhk8&ab_channel=TanahMelayu\n",
    "https://www.youtube.com/watch?v=trY5KYqaiXw&ab_channel=TanahMelayu\n",
    "https://www.youtube.com/watch?v=6f-8js73O1k\n",
    "https://www.youtube.com/watch?v=NSRWj5Zz7Qo\n",
    "https://www.youtube.com/watch?v=glR3xP2HTS0\n",
    "https://www.youtube.com/watch?v=ydoo5KXzJbg\n",
    "https://www.youtube.com/watch?v=ph_fuYS7ucg&ab_channel=AbuKhadijah\n",
    "https://www.youtube.com/watch?v=RnNs7-49jmE&ab_channel=AbuKhadijah\n",
    "https://www.youtube.com/watch?v=PhYkAGmhgTQ&ab_channel=AbuKhadijah\n",
    "https://www.youtube.com/watch?v=hCWxKltGsWc&ab_channel=AbuKhadijah\n",
    "https://www.youtube.com/watch?v=W6FXt5p9V3U&ab_channel=AbuKhadijah\n",
    "https://www.youtube.com/watch?v=VFC4UDw8ju0&ab_channel=AbuKhadijah\n",
    "https://www.youtube.com/watch?v=R4DHxsDHzF8&ab_channel=AbuKhadijah\n",
    "https://www.youtube.com/watch?v=rQ_P9xo6pfo&ab_channel=AbuKhadijah\n",
    "https://www.youtube.com/watch?v=QW3GndtSb1k\n",
    "https://www.youtube.com/watch?v=arZATVyf8j8\n",
    "https://www.youtube.com/watch?v=KkjtaMemWIc\n",
    "https://www.youtube.com/watch?v=qDNwTIZlJRo\n",
    "https://www.youtube.com/watch?v=rARJlDAJEgE\n",
    "https://www.youtube.com/watch?v=Z9v2NDMciIk\n",
    "https://www.youtube.com/watch?v=N3tDIGVt9d8\n",
    "https://www.youtube.com/watch?v=PXuIhQevtqM\n",
    "https://www.youtube.com/watch?v=038_W7kvhI0\n",
    "https://www.youtube.com/watch?v=P4TN4HDiEPk\n",
    "https://www.youtube.com/watch?v=CR-JLqCElrY\n",
    "https://www.youtube.com/watch?v=DXDML7x2FQs\n",
    "https://www.youtube.com/watch?v=NB4UnmMFsUE\n",
    "https://www.youtube.com/watch?v=IFhlmN0bDyI\n",
    "https://www.youtube.com/watch?v=0ca50QUW5OI\n",
    "https://www.youtube.com/watch?v=TwKDWH9hSfQ\n",
    "https://www.youtube.com/watch?v=Fv8g4WBYL5k\n",
    "https://www.youtube.com/watch?v=RHkqyW16nAM\n",
    "https://www.youtube.com/watch?v=TSW_LB7p_rk\n",
    "https://www.youtube.com/watch?v=bDHdtkmA-Q0\n",
    "https://www.youtube.com/watch?v=dF7HRsk95aY\n",
    "https://www.youtube.com/watch?v=HYf4V_0T1rk\n",
    "https://www.youtube.com/watch?v=QSWRFVfc55k\n",
    "https://www.youtube.com/watch?v=ip2EWKhmOYY\n",
    "https://www.youtube.com/watch?v=s4hfxsYVnpE\n",
    "https://www.youtube.com/watch?v=xw2IYlEVSn8\n",
    "https://www.youtube.com/watch?v=ds3-U1BeznE\n",
    "https://www.youtube.com/watch?v=-t8sUAMQ94M\n",
    "https://www.youtube.com/watch?v=uZ4KTG1gQoI\n",
    "https://www.youtube.com/watch?v=Cno40z2_-oU\n",
    "https://www.youtube.com/watch?v=INq9ouq6EJc\n",
    "https://www.youtube.com/watch?v=ZFw2QoiRi68\n",
    "https://www.youtube.com/watch?v=gynmylUhxLg\n",
    "https://www.youtube.com/watch?v=pu1B9RTGRfk\n",
    "https://www.youtube.com/watch?v=rBB0rlZTL0o\n",
    "https://www.youtube.com/watch?v=Wm-8ZeLyux0\n",
    "https://www.youtube.com/watch?v=EP2qcEFmFD8\n",
    "https://www.youtube.com/watch?v=o1Gxi86NM3M\n",
    "https://www.youtube.com/watch?v=32GoCGuk4R4\n",
    "https://www.youtube.com/watch?v=zlpmlFBj83M\n",
    "https://www.youtube.com/watch?v=NPwVuX5T-fU\n",
    "https://www.youtube.com/watch?v=mQuUzU8xQ44\n",
    "https://www.youtube.com/watch?v=aHYimafirpg\n",
    "https://www.youtube.com/watch?v=DfflcWqHY9E\n",
    "https://www.youtube.com/watch?v=5Yu8ZklAV1Q\n",
    "https://www.youtube.com/watch?v=jW6GYlyus4A\n",
    "https://www.youtube.com/watch?v=crqask4aeJ0\n",
    "https://www.youtube.com/watch?v=QkJQ4LeZwcI\n",
    "https://www.youtube.com/watch?v=dpfE6ek6sEg\n",
    "https://www.youtube.com/watch?v=wGY7jUCuU3Y\n",
    "https://www.youtube.com/watch?v=GKQqdCXb8l8\n",
    "https://www.youtube.com/watch?v=e5cIN57hJ_0\n",
    "https://www.youtube.com/watch?v=Xwhd8aOFafs&ab_channel=BuletinTV3\n",
    "https://www.youtube.com/watch?v=VdBxCz-Fw_0&ab_channel=BuletinTV3\n",
    "https://www.youtube.com/watch?v=AVt7WL-ZR4Y\n",
    "https://www.youtube.com/watch?v=bRUjmsnE5ZU&t=155s&ab_channel=PurePixels\n",
    "https://www.youtube.com/watch?v=nPsVmw-GF4A&t=600s\n",
    "https://www.youtube.com/watch?v=BWU8IJBEjTk&t=948s\n",
    "https://www.youtube.com/watch?v=Am7A-vpCER0&ab_channel=PurePixels\n",
    "https://www.youtube.com/watch?v=gsRtHPYjQCw\n",
    "https://www.youtube.com/watch?v=gUOp5gBhz2I\n",
    "https://www.youtube.com/watch?v=i7liW-7TTOI&ab_channel=PurePixels\n",
    "https://www.youtube.com/watch?v=yRJWsihQ60s\n",
    "https://www.youtube.com/watch?v=QoA1y20tyOw&ab_channel=Ajar\n",
    "https://www.youtube.com/watch?v=_ZnpSEffVus&ab_channel=LearningWithShirley\n",
    "https://www.youtube.com/watch?v=6XVf5bmw_PU&ab_channel=Bing-BahasaMelayu\n",
    "https://www.youtube.com/watch?v=AyoBUd469wA&ab_channel=Bing-BahasaMelayu\n",
    "https://www.youtube.com/watch?v=UtzK54Pb7Xc&ab_channel=Bing-BahasaMelayu\n",
    "https://www.youtube.com/watch?v=EXgPLTHDM-c&ab_channel=Bing-BahasaMelayu\n",
    "https://www.youtube.com/watch?v=qNqK6_fjBGE\n",
    "https://www.youtube.com/watch?v=dn0mDC9XaoE\n",
    "https://www.youtube.com/watch?v=gYpA-GwuMco\n",
    "https://www.youtube.com/watch?v=FLRVppiXPu8&ab_channel=Ajar\n",
    "https://www.youtube.com/watch?v=PKJshdf_FnM&ab_channel=Ajar\n",
    "https://www.youtube.com/watch?v=DnOIVS6ylqs\n",
    "https://www.youtube.com/watch?v=nWCATzTi0HU&ab_channel=Ajar\n",
    "https://www.youtube.com/watch?v=5VP6w6ilB04&ab_channel=Ajar\n",
    "https://www.youtube.com/watch?v=VNYyHVdO8_U\n",
    "https://www.youtube.com/watch?v=Z2KnOKHBWFY\n",
    "https://www.youtube.com/watch?v=mXFQb1ghFco\n",
    "https://www.youtube.com/watch?v=xbYDNw0ZV78\n",
    "https://www.youtube.com/watch?v=yyRdpqr45eo\n",
    "https://www.youtube.com/watch?v=XRREYTMwLL0\n",
    "https://www.youtube.com/watch?v=jCoNNZA8s8c\n",
    "https://www.youtube.com/watch?v=C_PJ2FHFjbo\n",
    "https://www.youtube.com/watch?v=lTQJminlKn0\n",
    "https://www.youtube.com/watch?v=F7Zp1yMq2UM\n",
    "https://www.youtube.com/watch?v=ULwl3_VSMS8\n",
    "https://www.youtube.com/watch?v=uLcd4-qE-FQ\n",
    "https://www.youtube.com/watch?v=Cu-UEBq8QhU\n",
    "https://www.youtube.com/watch?v=Ktf542-Jeac\n",
    "https://www.youtube.com/watch?v=FhLi9mWRBRQ\n",
    "https://www.youtube.com/watch?v=0aiJynNT2Fk\n",
    "https://www.youtube.com/watch?v=Gw59dGbVzBA\n",
    "https://www.youtube.com/watch?v=u481vfr8q3c\n",
    "https://www.youtube.com/watch?v=CPzDF8FUdcU\n",
    "https://www.youtube.com/watch?v=sf2wUigdiuU\n",
    "https://www.youtube.com/watch?v=n-0KdpNJzHQ\n",
    "https://www.youtube.com/watch?v=bjXTuQrpkC8\n",
    "https://www.youtube.com/watch?v=CubnJGvZFpk\n",
    "https://www.youtube.com/watch?v=b59TtMqYusw\n",
    "https://www.youtube.com/watch?v=gPappt9MHPc\n",
    "https://www.youtube.com/watch?v=e6FH8wtaltw\n",
    "https://www.youtube.com/watch?v=YKe-mzGU0JU\n",
    "https://www.youtube.com/watch?v=1v-n23HAi7M\n",
    "https://www.youtube.com/watch?v=WC0_yaR0jY4\n",
    "https://www.youtube.com/watch?v=QO-YWGQvb1Q\n",
    "https://www.youtube.com/watch?v=o7MmHE7Hmg4\n",
    "https://www.youtube.com/watch?v=HGFCASE37OQ\n",
    "https://www.youtube.com/watch?v=2naYfcudqss\n",
    "https://www.youtube.com/watch?v=TwOgCpknOUU\n",
    "https://www.youtube.com/watch?v=iqxyI-eYK3M\n",
    "https://www.youtube.com/watch?v=4sYNZ3vkIbg\n",
    "https://www.youtube.com/watch?v=opAw8b75NQM\n",
    "https://www.youtube.com/watch?v=SVViu1hC4UI\n",
    "https://www.youtube.com/watch?v=At-WKdApIhs&t=1227s&ab_channel=SEISMIKTV\n",
    "https://www.youtube.com/watch?v=bXVvXLHpmS8&t=1027s&ab_channel=naddyepul\n",
    "https://www.youtube.com/watch?v=_bfH3pxuOoM&t=1235s&ab_channel=khairuljamain\n",
    "https://www.youtube.com/watch?v=e-eMNNxW3vo&t=1507s\n",
    "https://www.youtube.com/watch?v=uCg5WeQ34rM&t=765s&ab_channel=AmirArsad\n",
    "https://www.youtube.com/watch?v=VlmIyZllgz0\n",
    "https://www.youtube.com/watch?v=4ZiC_Tg6hmU&t=774s&ab_channel=ONZZ\n",
    "https://www.youtube.com/watch?v=0UHRMfS3Vqo&ab_channel=khairuljamain\n",
    "https://www.youtube.com/watch?v=XJTfe7fVaGc&t=366s\n",
    "https://www.youtube.com/watch?v=nzxL4rgpUpY&t=427s\n",
    "https://www.youtube.com/watch?v=hOpZQQG2qg4\n",
    "https://www.youtube.com/watch?v=sSWZVKSsIlU\n",
    "https://www.youtube.com/watch?v=BoX_hMvaXWM\n",
    "https://www.youtube.com/watch?v=riEwi1I6KKg\n",
    "https://www.youtube.com/watch?v=mNZRQE-QDiM\n",
    "https://www.youtube.com/watch?v=_Zsx149RtiU&t=632s\n",
    "https://www.youtube.com/watch?v=WKi6VUFzjuo\n",
    "https://www.youtube.com/watch?v=4jlZgyvBq7c\n",
    "https://www.youtube.com/watch?v=uPruQ1sr3o8\n",
    "https://www.youtube.com/watch?v=LtARertQkUo\n",
    "https://www.youtube.com/watch?v=e7xE7V11Vwc\n",
    "https://www.youtube.com/watch?v=eJE2FaX8CPE\n",
    "https://www.youtube.com/watch?v=JXcolry-4Pk\n",
    "https://www.youtube.com/watch?v=6VAfydhtJGg\n",
    "https://www.youtube.com/watch?v=uq8eKjAy0us\n",
    "https://www.youtube.com/watch?v=hXDFROt0dFI\n",
    "https://www.youtube.com/watch?v=aZcwqUZI2rA&t=994s\n",
    "https://www.youtube.com/watch?v=a34vZ2fwa4o\n",
    "https://www.youtube.com/watch?v=Oeof60EnP0s\n",
    "https://www.youtube.com/watch?v=WbP1SCK0nQQ\n",
    "https://www.youtube.com/watch?v=MXScwqRvvxc&ab_channel=WanAnimation\n",
    "https://www.youtube.com/watch?v=qkDvoyZDEh8&ab_channel=WanAnimation\n",
    "https://www.youtube.com/watch?v=r86fA5i3PaE\n",
    "https://www.youtube.com/watch?v=rmiKORIv0uw\n",
    "https://www.youtube.com/watch?v=iW946gD8BcI\n",
    "https://www.youtube.com/watch?v=dNgrEYnaa0U\n",
    "https://www.youtube.com/watch?v=uLQDcX9i2XM\n",
    "https://www.youtube.com/watch?v=enDHYM-0INM\n",
    "https://www.youtube.com/watch?v=-q36CzKlwbQ\n",
    "https://www.youtube.com/watch?v=0ZKxMaNusTA\n",
    "https://www.youtube.com/watch?v=4ZiC_Tg6hmU&t=780s&ab_channel=ONZZ\n",
    "https://www.youtube.com/watch?v=4Ga8I27AFZg\n",
    "https://www.youtube.com/watch?v=S8zARg4V6VM\n",
    "https://www.youtube.com/watch?v=DCNRWKiahbE\n",
    "https://www.youtube.com/watch?v=LWDEe2fHJpk\n",
    "https://www.youtube.com/watch?v=rpbjezVZ2GI\n",
    "https://www.youtube.com/watch?v=fW1sUT-3VMM\n",
    "https://www.youtube.com/watch?v=I9eEz2OvI0E&t=52s\n",
    "https://www.youtube.com/watch?v=FQDcHVgZCTE\n",
    "https://www.youtube.com/watch?v=4DCkzN-pdyw&t=77s\n",
    "https://www.youtube.com/watch?v=Sau4UqPjBBk\n",
    "https://www.youtube.com/watch?v=_gQ-uHjCdBs\n",
    "https://www.youtube.com/watch?v=Q5kDJPXJPbc\n",
    "https://www.youtube.com/watch?v=JIOEzlTO6Kg&t=232s\n",
    "https://www.youtube.com/watch?v=JKnaHxIYHm8&ab_channel=SlowTalkPodcast\n",
    "https://www.youtube.com/watch?v=l-NmUn-FLLI\n",
    "https://www.youtube.com/watch?v=-Lc21hhbAfE\n",
    "https://www.youtube.com/watch?v=fQyh4O6Hp_E\n",
    "https://www.youtube.com/watch?v=qbFORSE48cQ&ab_channel=EduwebTV\n",
    "https://www.youtube.com/watch?v=t__QLuABpvw&ab_channel=EduwebTV\n",
    "https://www.youtube.com/watch?v=_Bw0Ah2-rMM&ab_channel=EduwebTV\n",
    "https://www.youtube.com/watch?v=UPp7Rx6D4tg\n",
    "https://www.youtube.com/watch?v=S_A4zDZD2qc\n",
    "https://www.youtube.com/watch?v=sCtvZPgGZCg&ab_channel=EduwebTV\n",
    "https://www.youtube.com/watch?v=IjrjbjyIHF8&ab_channel=EduwebTV\n",
    "https://www.youtube.com/watch?v=Te-funnFw3s&ab_channel=EduwebTV\n",
    "https://www.youtube.com/watch?v=D7VNROr3GQs&ab_channel=EduwebTV\n",
    "https://www.youtube.com/watch?v=aBO1inBeQRI&ab_channel=EduwebTV\n",
    "https://www.youtube.com/watch?v=gqo3pB3FVmg\n",
    "https://www.youtube.com/watch?v=NeiArFP2Itc\n",
    "https://www.youtube.com/watch?v=-Sd927cAvnQ&ab_channel=EduwebTV\n",
    "https://www.youtube.com/watch?v=QOCbT-XH36I\n",
    "https://www.youtube.com/watch?v=YNuLH_RP_v0\n",
    "https://www.youtube.com/watch?v=ARNSWWs1x6g&ab_channel=EduwebTV\n",
    "https://www.youtube.com/watch?v=L9urGAc2084&ab_channel=EduwebTV\n",
    "https://www.youtube.com/watch?v=8ajsI0iCBMo&ab_channel=EduwebTV\n",
    "https://www.youtube.com/watch?v=6G0N1OrIR4k&ab_channel=EduwebTV\n",
    "https://www.youtube.com/watch?v=oJ0xApNXRBo\n",
    "https://www.youtube.com/watch?v=_Y0zX_Uh2eI&ab_channel=EduwebTV\n",
    "https://www.youtube.com/watch?v=VCysrXUWc_w\n",
    "https://www.youtube.com/watch?v=YNuLH_RP_v0\n",
    "https://www.youtube.com/watch?v=4UCEW_MX2p8\n",
    "https://www.youtube.com/watch?v=VCysrXUWc_w\n",
    "https://www.youtube.com/watch?v=un7dcUafjSc&t=1828s\n",
    "https://www.youtube.com/watch?v=f2xNnNcwmK8\n",
    "https://www.youtube.com/watch?v=00spujx3b70\n",
    "https://www.youtube.com/watch?v=MZCJCoBwuho\n",
    "https://www.youtube.com/watch?v=LcSKIOdHbbc\n",
    "https://www.youtube.com/watch?v=9aoNnGW8hto\n",
    "https://www.youtube.com/watch?v=36_nkekh-gE\n",
    "https://www.youtube.com/watch?v=6GwVOXHYZlQ\n",
    "https://www.youtube.com/watch?v=Q0ICpOpSZKU&ab_channel=EduwebTV\n",
    "https://www.youtube.com/watch?v=At-WKdApIhs&t=654s&ab_channel=SEISMIKTV\n",
    "\n",
    "https://www.youtube.com/watch?v=I9eEz2OvI0E&t=3s&ab_channel=SlowTalkPodcast\n",
    "\n",
    "https://www.youtube.com/watch?v=fQyh4O6Hp_E\n",
    "\n",
    "https://www.youtube.com/watch?v=rpbjezVZ2GI\n",
    "\n",
    "https://www.youtube.com/watch?v=fW1sUT-3VMM\n",
    "\n",
    "https://www.youtube.com/watch?v=neCmuMPg_IE\n",
    "\n",
    "https://www.youtube.com/channel/UCmBSFLogevWdrid3MM5xReg/videos\n",
    "\n",
    "https://www.youtube.com/watch?v=Sau4UqPjBBk\n",
    "\n",
    "https://www.youtube.com/watch?v=4DCkzN-pdyw\n",
    "\n",
    "https://www.youtube.com/watch?v=_gQ-uHjCdBs\n",
    "\n",
    "https://www.youtube.com/watch?v=Q5kDJPXJPbc\n",
    "\n",
    "https://www.youtube.com/watch?v=JIOEzlTO6Kg\n",
    "\n",
    "https://www.youtube.com/watch?v=kTrI0LaiY8U\n",
    "\n",
    "https://www.youtube.com/watch?v=JKnaHxIYHm8\n",
    "\n",
    "https://www.youtube.com/watch?v=RdqVSxXwQIg\n",
    "\n",
    "https://www.youtube.com/watch?v=l-NmUn-FLLI\n",
    "\n",
    "https://www.youtube.com/watch?v=-Lc21hhbAfE\n",
    "\n",
    "https://www.youtube.com/watch?v=I3hpV0ZnaNE&ab_channel=IdealystTV\n",
    "\n",
    "https://www.youtube.com/watch?v=OqNWrMU6mwQ&t=5s&ab_channel=AisKacang\n",
    "\n",
    "https://www.youtube.com/watch?v=OqNWrMU6mwQ&t=5s&ab_channel=AisKacang\n",
    "\n",
    "https://www.youtube.com/watch?v=QDL74a4Uibk&ab_channel=AisKacang\n",
    "\n",
    "https://www.youtube.com/watch?v=t_6UO2Vi5nk&ab_channel=AisKacang\n",
    "\n",
    "https://www.youtube.com/watch?v=f6H3ZsFy9dY&ab_channel=AisKacang\n",
    "\n",
    "https://www.youtube.com/watch?v=vjuFRuWXabc&ab_channel=AisKacang\n",
    "\n",
    "https://www.youtube.com/watch?v=SP77L5Z9JNw&ab_channel=AisKacang\n",
    "\n",
    "https://www.youtube.com/watch?v=GpGFouytwFA&ab_channel=AisKacang\n",
    "\n",
    "https://www.youtube.com/watch?v=2to1DeBZyiE&ab_channel=AisKacang\n",
    "\n",
    "https://www.youtube.com/watch?v=-GZZGYGPJGY&t=192s&ab_channel=AisKacang\n",
    "\n",
    "https://www.youtube.com/watch?v=VlmIyZllgz0\n",
    "\n",
    "https://www.youtube.com/watch?v=bRUjmsnE5ZU&ab_channel=PurePixels\n",
    "\n",
    "https://www.youtube.com/watch?v=BWU8IJBEjTk&ab_channel=PurePixels\n",
    "\n",
    "https://www.youtube.com/watch?v=nPsVmw-GF4A&ab_channel=PurePixels\n",
    "\n",
    "https://www.youtube.com/watch?v=bXVvXLHpmS8&t=87s&ab_channel=naddyepul\n",
    "\n",
    "https://www.youtube.com/watch?v=cOuIF6LuVmw&ab_channel=THELAKI\n",
    "\n",
    "https://www.youtube.com/watch?v=lcMZYdMnq-E&ab_channel=AmirArsad\n",
    "\n",
    "https://www.youtube.com/watch?v=uCg5WeQ34rM&ab_channel=AmirArsad\n",
    "\n",
    "https://www.youtube.com/watch?v=g95Rcydh0fs&t=5705s&ab_channel=MasBulan\n",
    "\n",
    "https://www.youtube.com/watch?v=cBcTg1xyQgM&ab_channel=SUSUTVC\n",
    "\n",
    "https://www.youtube.com/watch?v=aZcwqUZI2rA&t=989s&ab_channel=khairuljamain\n",
    "\n",
    "https://www.youtube.com/watch?v=_Zsx149RtiU&ab_channel=khairuljamain\n",
    "\n",
    "https://www.youtube.com/watch?v=tcqzySvke84&ab_channel=SkolarMalaysia\n",
    "\n",
    "https://www.youtube.com/watch?v=wQXgHxeeZ2c&ab_channel=SkolarMalaysia\n",
    "\n",
    "https://www.youtube.com/watch?v=lFr8JRu4Vj0\n",
    "\n",
    "https://www.youtube.com/watch?v=bUXOSgBduvo\n",
    "\n",
    "https://www.youtube.com/watch?v=GurzFbHVCI4\n",
    "\n",
    "https://www.youtube.com/watch?v=YutaPWokeiE\n",
    "\n",
    "https://www.youtube.com/watch?v=x0HhvgjUAjY\n",
    "\n",
    "https://www.youtube.com/watch?v=pwFJaiaHBmA\n",
    "\n",
    "https://www.youtube.com/watch?v=lyr89SJagaM\n",
    "\n",
    "https://www.youtube.com/watch?v=9Rm1omhPz7c\n",
    "\n",
    "https://www.youtube.com/watch?v=Vz3rCaQVarM\n",
    "\n",
    "https://www.youtube.com/watch?v=TGSfdP5JiTs&ab_channel=khairuljamain\n",
    "\n",
    "https://www.youtube.com/watch?v=Z1FpCckeSsk&ab_channel=khairuljamain\n",
    "\n",
    "https://www.youtube.com/watch?v=cEIf11YM6iU\n",
    "\n",
    "https://www.youtube.com/watch?v=riEwi1I6KKg\n",
    "\n",
    "https://www.youtube.com/watch?v=BoX_hMvaXWM\n",
    "\n",
    "https://www.youtube.com/watch?v=sSWZVKSsIlU\n",
    "\n",
    "https://www.youtube.com/watch?v=7aIM0DhAQMc\n",
    "\n",
    "https://www.youtube.com/watch?v=XJTfe7fVaGc&ab_channel=khairuljamain\n",
    "\n",
    "https://www.youtube.com/watch?v=ysC2rYKKt20&ab_channel=SUSUTVC\n",
    "\n",
    "https://www.youtube.com/watch?v=U7oaQ_tR8sQ\n",
    "\n",
    "https://www.youtube.com/watch?v=pB-1y9Zsrj4\n",
    "\n",
    "https://www.youtube.com/watch?v=eK3YtkMiqbM\n",
    "\n",
    "https://www.youtube.com/watch?v=HGdtUpZ8qpQ\n",
    "\n",
    "https://www.youtube.com/watch?v=F69FiR60K78\n",
    "\n",
    "https://www.youtube.com/watch?v=sw5h9hlityE&t=876s&ab_channel=TanahMelayu\n",
    "\n",
    "https://www.youtube.com/watch?v=4ZiC_Tg6hmU&t=768s&ab_channel=ONZZ\n",
    "\n",
    "https://www.youtube.com/watch?v=C0CVcdzfkuQ&t=1281s&ab_channel=ONZZ\n",
    "\n",
    "https://www.youtube.com/watch?v=C0CVcdzfkuQ&t=1281s&ab_channel=ONZZ\n",
    "\n",
    "https://www.youtube.com/watch?v=WSHL2nyN-wA\n",
    "\n",
    "https://www.youtube.com/watch?v=GSd5Tbo5fnE\n",
    "\n",
    "https://www.youtube.com/watch?v=wEZaPeMCLL4\n",
    "\n",
    "https://www.youtube.com/watch?v=2dlGt0FgmMo\n",
    "\n",
    "https://www.youtube.com/watch?v=WoM2j5bwxVk\n",
    "\n",
    "https://www.youtube.com/watch?v=KRDKcKiJbMc\n",
    "\n",
    "https://www.youtube.com/watch?v=bGmzcVR8ms0\n",
    "\n",
    "https://www.youtube.com/watch?v=OMk_Bb67lsk&t=860s\n",
    "\n",
    "https://www.youtube.com/watch?v=u9kyC-ObWWM\n",
    "\n",
    "https://www.youtube.com/watch?v=2EBDHR-7Rmw&t=1808s\n",
    "\n",
    "https://www.youtube.com/watch?v=UT9VX6udGf8&t=951s&ab_channel=SterkProduction\n",
    "\n",
    "https://www.youtube.com/watch?v=bMX6Nq8hveM&t=921s&ab_channel=SterkProduction\n",
    "\n",
    "https://www.youtube.com/watch?v=7uHpElfSpes&t=843s&ab_channel=SterkProduction\n",
    "\n",
    "https://www.youtube.com/watch?v=s0QwIMD123Y&t=2072s&ab_channel=SterkProduction\n",
    "\n",
    "https://www.youtube.com/watch?v=_QsLUdHUytY&t=1056s&ab_channel=SterkProduction\n",
    "\n",
    "https://www.youtube.com/watch?v=O_Mr_TG9aQs&t=546s&ab_channel=SterkProduction\n",
    "\n",
    "https://www.youtube.com/watch?v=zbWJgXwcRes&ab_channel=SterkProduction\n",
    "\n",
    "https://www.youtube.com/watch?v=hRUVMlq6PYk&ab_channel=SterkProduction\n",
    "\n",
    "https://www.youtube.com/watch?v=-PfFTGk6-WM&ab_channel=THELAKI\n",
    "\n",
    "https://www.youtube.com/watch?v=F1d0Huv54Ro&ab_channel=THELAKI\n",
    "\n",
    "https://www.youtube.com/watch?v=Q1oB0OtOGkE&ab_channel=THELAKI\n",
    "\n",
    "https://www.youtube.com/watch?v=2DqS7RigSLU\n",
    "\n",
    "https://www.youtube.com/watch?v=V91NKEeCurI&t=1064s\n",
    "\n",
    "https://www.youtube.com/watch?v=fcTQVSxcOf0&ab_channel=ERA\n",
    "\"\"\"\n",
    "videos = list(set(filter(None, videos.split('\\n'))))\n",
    "len(videos)"
   ]
  },
  {
   "cell_type": "code",
   "execution_count": 2,
   "metadata": {},
   "outputs": [],
   "source": [
    "import youtube_dl"
   ]
  },
  {
   "cell_type": "code",
   "execution_count": 3,
   "metadata": {},
   "outputs": [],
   "source": [
    "import mp\n",
    "from tqdm import tqdm\n",
    "\n",
    "def loop(urls):\n",
    "    urls = urls[0]\n",
    "    ydl_opts = {\n",
    "        'format': 'bestaudio/best',\n",
    "        'postprocessors': [{\n",
    "            'key': 'FFmpegExtractAudio',\n",
    "            'preferredcodec': 'mp3',\n",
    "            'preferredquality': '192',\n",
    "        }],\n",
    "        'no-check-certificate': True\n",
    "    }\n",
    "\n",
    "    for i in tqdm(range(len(urls))):\n",
    "        try:\n",
    "            with youtube_dl.YoutubeDL(ydl_opts) as ydl:\n",
    "                ydl.download([urls[i]])\n",
    "        except:\n",
    "            pass"
   ]
  },
  {
   "cell_type": "code",
   "execution_count": 4,
   "metadata": {
    "scrolled": false
   },
   "outputs": [
    {
     "name": "stderr",
     "output_type": "stream",
     "text": [
      "  0%|          | 0/16 [00:00<?, ?it/s]"
     ]
    },
    {
     "name": "stdout",
     "output_type": "stream",
     "text": [
      "[youtube] 0UHRMfS3Vqo: Downloading webpage\n",
      "[youtube] bDHdtkmA-Q0: Downloading webpage\n",
      "[youtube] MXScwqRvvxc: Downloading webpage\n",
      "[youtube] 4Ga8I27AFZg: Downloading webpage\n",
      "[youtube] WbP1SCK0nQQ: Downloading webpage\n",
      "[youtube] Sau4UqPjBBk: Downloading webpage\n",
      "[youtube] hCWxKltGsWc: Downloading webpage\n",
      "[youtube] 4sYNZ3vkIbg: Downloading webpage\n",
      "[youtube] Gw59dGbVzBA: Downloading webpage\n",
      "[youtube] zlpmlFBj83M: Downloading webpage\n",
      "[youtube] sf2wUigdiuU: Downloading webpage\n",
      "[youtube] iqxyI-eYK3M: Downloading webpage\n",
      "[download] Destination: MIKE TYSON KEMBALI _ SlowTalk Podcast #22-4Ga8I27AFZg.webm\n",
      "[download]  22.1% of 4.52MiB at 15.85MiB/s ETA 00:004[download] Destination: Al-Jazeera Batu Api _ SlowTalk Podcast #13-Sau4UqPjBBk.webm\n",
      "[download]   0.0% of 7.10MiB at 68.28KiB/s ETA 01:46[download] Destination: Dakwah Bukan Tugas Yang MUDAH _ Ustaz Auni Mohamed-bDHdtkmA-Q0.m4a\n",
      "[download]   7.0% of 7.10MiB at  3.22MiB/s ETA 00:0221[download] Destination: MLATS #3 _ Paradoks Boboiboy-Gw59dGbVzBA.webm\n",
      "[download]   0.9% of 6.51MiB at 674.63KiB/s ETA 00:0911[download] Destination: Air Tangan ISTERI 💞 _ Ustazah Zawiyah Hassan-hCWxKltGsWc.m4a\n",
      "[download] 100% of 7.10MiB in 00:0092MiB/s ETA 00:0049\n",
      "[download]   7.7% of 6.51MiB at  4.06MiB/s ETA 00:01[download] Destination: Salah Faham Masa Aku Budak-Budak-MXScwqRvvxc.webm\n",
      "[download]   0.5% of 11.31MiB at 874.66KiB/s ETA 00:13[download] Destination: Dunia Tamat 2038-4sYNZ3vkIbg.webm\n",
      "[download]   1.1% of 11.31MiB at  1.53MiB/s ETA 00:07[download] Destination: Orang Beriman Sifatnya TIDAK MALAS _ Ustaz Muhammad Bin Abdullah ' Ustaz Amin'-zlpmlFBj83M.m4a\n",
      "[download]  17.8% of 5.60MiB at 23.33MiB/s ETA 00:00[download] Destination: Hampir Tercyduk Jatuh Cinta Dengan Lelaki India Di Kashmir Tapi....-0UHRMfS3Vqo.webm\n",
      "[download]   2.2% of 11.09MiB at  2.96MiB/s ETA 00:034[download] Destination: Malaysia Menang Perang Dunia! (WorldWarBot 2020)-sf2wUigdiuU.webm\n",
      "[download] 100% of 6.51MiB in 00:0045MiB/s ETA 00:0056\n",
      "[download] 100% of 4.52MiB in 00:00.11MiB/s ETA 00:00\n",
      "[download] 100% of 5.60MiB in 00:00\n",
      "[download]  85.7% of 9.33MiB at 42.39MiB/s ETA 00:000[download] Destination: Ini Bukan Kuning-iqxyI-eYK3M.webm\n",
      "[ffmpeg] Destination: Al-Jazeera Batu Api _ SlowTalk Podcast #13-Sau4UqPjBBk.mp3\n",
      "[download]   0.0% of 6.31MiB at 157.29KiB/s ETA 00:41[ffmpeg] Destination: Salah Faham Masa Aku Budak-Budak-MXScwqRvvxc.mp3\n",
      "[download] 100% of 9.33MiB in 00:0088MiB/s ETA 00:028\n",
      "[download]   3.9% of 6.31MiB at  5.59MiB/s ETA 00:01[ffmpeg] Destination: MLATS #3 _ Paradoks Boboiboy-Gw59dGbVzBA.mp3\n",
      "[download]  85.7% of 11.31MiB at 29.39MiB/s ETA 00:00[download] Destination: Selalu Keliru Ini 7 Perbezaan Antara Jepun Dan Korea Yang Perlu Kita Tahu.-WbP1SCK0nQQ.webm\n",
      "[download]   0.0% of 9.30MiB at 289.37KiB/s ETA 00:32[ffmpeg] Destination: MIKE TYSON KEMBALI _ SlowTalk Podcast #22-4Ga8I27AFZg.mp3\n",
      "[download]  90.1% of 11.31MiB at  7.31MiB/s ETA 00:002nown ETA[ffmpeg] Destination: Hampir Tercyduk Jatuh Cinta Dengan Lelaki India Di Kashmir Tapi....-0UHRMfS3Vqo.mp3\n",
      "[download] 100% of 11.31MiB in 00:000MiB/s ETA 00:000\n",
      "[download] 100% of 6.31MiB in 00:0084MiB/s ETA 00:001\n",
      "[download] 100% of 9.30MiB in 00:007.12KiB/s ETA 00:03nown ETA\n",
      "[download] 100% of 11.09MiB in 00:00.03KiB/s ETA 00:03nown ETA\n",
      "[download] 100% of 10.19MiB in 00:0036MiB/s ETA 00:012\n",
      "[ffmpeg] Destination: Ini Bukan Kuning-iqxyI-eYK3M.mp3\n",
      "[download] 100.0% of 11.19MiB at  9.72MiB/s ETA 00:00[ffmpeg] Correcting container in \"Air Tangan ISTERI 💞 _ Ustazah Zawiyah Hassan-hCWxKltGsWc.m4a\"\n",
      "[download] 100% of 11.19MiB in 00:00\n",
      "[download]  81.4% of 12.01MiB at 139.88KiB/s ETA 00:16nown ETA[ffmpeg] Destination: Selalu Keliru Ini 7 Perbezaan Antara Jepun Dan Korea Yang Perlu Kita Tahu.-WbP1SCK0nQQ.mp3\n",
      "[download]  83.5% of 12.01MiB at  2.12MiB/s ETA 00:003[ffmpeg] Destination: Dunia Tamat 2038-4sYNZ3vkIbg.mp3\n",
      "[download]  85.5% of 12.01MiB at  3.61MiB/s ETA 00:00[ffmpeg] Destination: Malaysia Menang Perang Dunia! (WorldWarBot 2020)-sf2wUigdiuU.mp3\n",
      "[download] 100% of 12.01MiB in 00:0198MiB/s ETA 00:00\n",
      "[ffmpeg] Correcting container in \"Orang Beriman Sifatnya TIDAK MALAS _ Ustaz Muhammad Bin Abdullah ' Ustaz Amin'-zlpmlFBj83M.m4a\"\n",
      "[ffmpeg] Destination: Air Tangan ISTERI 💞 _ Ustazah Zawiyah Hassan-hCWxKltGsWc.mp3\n",
      "[ffmpeg] Correcting container in \"Dakwah Bukan Tugas Yang MUDAH _ Ustaz Auni Mohamed-bDHdtkmA-Q0.m4a\"\n",
      "[ffmpeg] Destination: Orang Beriman Sifatnya TIDAK MALAS _ Ustaz Muhammad Bin Abdullah ' Ustaz Amin'-zlpmlFBj83M.mp3\n",
      "[ffmpeg] Destination: Dakwah Bukan Tugas Yang MUDAH _ Ustaz Auni Mohamed-bDHdtkmA-Q0.mp3\n",
      "Deleting original file MIKE TYSON KEMBALI _ SlowTalk Podcast #22-4Ga8I27AFZg.webm (pass -k to keep)\n"
     ]
    },
    {
     "name": "stderr",
     "output_type": "stream",
     "text": [
      "  6%|▋         | 1/16 [00:33<08:28, 33.87s/it]"
     ]
    },
    {
     "name": "stdout",
     "output_type": "stream",
     "text": [
      "[youtube] e5cIN57hJ_0: Downloading webpage\n",
      "[download] Destination: Wahai Suami Pastikan Sumber Rezeki HALAL _ Ustaz Mohd Aslam-e5cIN57hJ_0.webm\n",
      "[download] 100% of 41.62MiB in 00:0300MiB/s ETA 00:002nown ETA\n",
      "[ffmpeg] Destination: Wahai Suami Pastikan Sumber Rezeki HALAL _ Ustaz Mohd Aslam-e5cIN57hJ_0.mp3\n",
      "Deleting original file Salah Faham Masa Aku Budak-Budak-MXScwqRvvxc.webm (pass -k to keep)\n"
     ]
    },
    {
     "name": "stderr",
     "output_type": "stream",
     "text": [
      "  6%|▋         | 1/16 [00:45<11:15, 45.04s/it]"
     ]
    },
    {
     "name": "stdout",
     "output_type": "stream",
     "text": [
      "[youtube] -q36CzKlwbQ: Downloading webpage\n",
      "[download] Destination: Binatang yang boleh buat bulu roma aku meremang--q36CzKlwbQ.webm\n",
      "[download]  72.6% of 5.51MiB at 13.19MiB/s ETA 00:007Deleting original file Al-Jazeera Batu Api _ SlowTalk Podcast #13-Sau4UqPjBBk.webm (pass -k to keep)\n"
     ]
    },
    {
     "name": "stderr",
     "output_type": "stream",
     "text": [
      "  6%|▋         | 1/16 [00:47<11:50, 47.35s/it]"
     ]
    },
    {
     "name": "stdout",
     "output_type": "stream",
     "text": [
      "[download] 100% of 5.51MiB in 00:0070MiB/s ETA 00:00\n",
      "[ffmpeg] Destination: Binatang yang boleh buat bulu roma aku meremang--q36CzKlwbQ.mp3\n",
      "[youtube] bRUjmsnE5ZU: Downloading webpage\n",
      "[download] Destination: Pasal Kau - Movie Review-bRUjmsnE5ZU.webm\n",
      "[download] 100% of 8.54MiB in 00:0018MiB/s ETA 00:009\n",
      "[ffmpeg] Destination: Pasal Kau - Movie Review-bRUjmsnE5ZU.mp3\n",
      "Deleting original file Ini Bukan Kuning-iqxyI-eYK3M.webm (pass -k to keep)\n"
     ]
    },
    {
     "name": "stderr",
     "output_type": "stream",
     "text": [
      "  6%|▋         | 1/16 [00:52<13:10, 52.73s/it]"
     ]
    },
    {
     "name": "stdout",
     "output_type": "stream",
     "text": [
      "Deleting original file MLATS #3 _ Paradoks Boboiboy-Gw59dGbVzBA.webm (pass -k to keep)\n"
     ]
    },
    {
     "name": "stderr",
     "output_type": "stream",
     "text": [
      "  6%|▋         | 1/16 [00:52<13:13, 52.93s/it]"
     ]
    },
    {
     "name": "stdout",
     "output_type": "stream",
     "text": [
      "[youtube] LtARertQkUo: Downloading webpage\n",
      "[youtube] R4DHxsDHzF8: Downloading webpage\n",
      "Deleting original file Orang Beriman Sifatnya TIDAK MALAS _ Ustaz Muhammad Bin Abdullah ' Ustaz Amin'-zlpmlFBj83M.m4a (pass -k to keep)\n"
     ]
    },
    {
     "name": "stderr",
     "output_type": "stream",
     "text": [
      "  6%|▋         | 1/16 [00:54<13:33, 54.23s/it]"
     ]
    },
    {
     "name": "stdout",
     "output_type": "stream",
     "text": [
      "[download] Destination: Pengalaman Tinggal Di Rumah Paling Kotor Di Korea Selama Sebulan, Sebiji Macam Filem Parasite-LtARertQkUo.webm\n",
      "[download]  12.4% of 8.05MiB at  4.31MiB/s ETA 00:010[download] Destination: Sejarah Syariat AZAN _ Ustaz Mohd Shaffi-R4DHxsDHzF8.m4a\n",
      "[download]  24.8% of 8.05MiB at  7.43MiB/s ETA 00:00[youtube] crqask4aeJ0: Downloading webpage\n",
      "[download] 100% of 8.05MiB in 00:00.94MiB/s ETA 00:011\n",
      "[download]  94.3% of 10.34MiB at 346.11KiB/s ETA 00:01nown ETA[ffmpeg] Destination: Pengalaman Tinggal Di Rumah Paling Kotor Di Korea Selama Sebulan, Sebiji Macam Filem Parasite-LtARertQkUo.mp3\n",
      "[download] 100% of 10.34MiB in 00:0081MiB/s ETA 00:000\n",
      "[ffmpeg] Correcting container in \"Sejarah Syariat AZAN _ Ustaz Mohd Shaffi-R4DHxsDHzF8.m4a\"\n",
      "[download] Destination: 208 _ Hikmah Penciptaan Siang & Malam 😮 _ Ustaz Auni Mohamed-crqask4aeJ0.webm\n",
      "[download]  27.2% of 36.76MiB at 22.90MiB/s ETA 00:012[ffmpeg] Destination: Sejarah Syariat AZAN _ Ustaz Mohd Shaffi-R4DHxsDHzF8.mp3\n",
      "[download] 100% of 36.76MiB in 00:0122MiB/s ETA 00:007nown ETA\n",
      "[ffmpeg] Destination: 208 _ Hikmah Penciptaan Siang & Malam 😮 _ Ustaz Auni Mohamed-crqask4aeJ0.mp3\n",
      "Deleting original file Dakwah Bukan Tugas Yang MUDAH _ Ustaz Auni Mohamed-bDHdtkmA-Q0.m4a (pass -k to keep)\n"
     ]
    },
    {
     "name": "stderr",
     "output_type": "stream",
     "text": [
      "  6%|▋         | 1/16 [00:59<14:45, 59.00s/it]"
     ]
    },
    {
     "name": "stdout",
     "output_type": "stream",
     "text": [
      "[youtube] Cno40z2_-oU: Downloading webpage\n",
      "[download] Destination: Kecil Pada Kita, Besar Nilainya Di Sisi Allah _ Ustaz Mohd Shaffi-Cno40z2_-oU.m4a\n",
      "[download] 100% of 30.55MiB in 00:0387MiB/s ETA 00:000nown ETA\n",
      "Deleting original file Air Tangan ISTERI 💞 _ Ustazah Zawiyah Hassan-hCWxKltGsWc.m4a (pass -k to keep)\n"
     ]
    },
    {
     "name": "stderr",
     "output_type": "stream",
     "text": [
      "  6%|▋         | 1/16 [01:04<16:10, 64.69s/it]"
     ]
    },
    {
     "name": "stdout",
     "output_type": "stream",
     "text": [
      "[ffmpeg] Correcting container in \"Kecil Pada Kita, Besar Nilainya Di Sisi Allah _ Ustaz Mohd Shaffi-Cno40z2_-oU.m4a\"\n",
      "[youtube] YKe-mzGU0JU: Downloading webpage\n",
      "[download] Destination: 80 Peratus Siswa Matematik UKM Salah Jawab Soalan Mudah Ni! Kenapa-YKe-mzGU0JU.webm\n",
      "[download]   0.1% of 7.98MiB at 107.18KiB/s ETA 01:16[ffmpeg] Destination: Kecil Pada Kita, Besar Nilainya Di Sisi Allah _ Ustaz Mohd Shaffi-Cno40z2_-oU.mp3\n",
      "[download] 100% of 7.98MiB in 00:0062MiB/s ETA 00:000\n",
      "[ffmpeg] Destination: 80 Peratus Siswa Matematik UKM Salah Jawab Soalan Mudah Ni! Kenapa-YKe-mzGU0JU.mp3\n",
      "Deleting original file Selalu Keliru Ini 7 Perbezaan Antara Jepun Dan Korea Yang Perlu Kita Tahu.-WbP1SCK0nQQ.webm (pass -k to keep)\n"
     ]
    },
    {
     "name": "stderr",
     "output_type": "stream",
     "text": [
      "  6%|▋         | 1/16 [01:08<17:02, 68.16s/it]"
     ]
    },
    {
     "name": "stdout",
     "output_type": "stream",
     "text": [
      "[youtube] -Lc21hhbAfE: Downloading webpage\n",
      "[download] Destination: Perlu Ke Mintak Izin  SlowTalk Podcast #01--Lc21hhbAfE.m4a\n",
      "[download] 100% of 7.72MiB in 00:0034MiB/s ETA 00:008\n",
      "[ffmpeg] Correcting container in \"Perlu Ke Mintak Izin  SlowTalk Podcast #01--Lc21hhbAfE.m4a\"\n",
      "[ffmpeg] Destination: Perlu Ke Mintak Izin  SlowTalk Podcast #01--Lc21hhbAfE.mp3\n",
      "Deleting original file Hampir Tercyduk Jatuh Cinta Dengan Lelaki India Di Kashmir Tapi....-0UHRMfS3Vqo.webm (pass -k to keep)\n"
     ]
    },
    {
     "name": "stderr",
     "output_type": "stream",
     "text": [
      "  6%|▋         | 1/16 [01:15<18:53, 75.54s/it]"
     ]
    },
    {
     "name": "stdout",
     "output_type": "stream",
     "text": [
      "[youtube] cyU3Qgox3K4: Downloading webpage\n",
      "Deleting original file Malaysia Menang Perang Dunia! (WorldWarBot 2020)-sf2wUigdiuU.webm (pass -k to keep)\n"
     ]
    },
    {
     "name": "stderr",
     "output_type": "stream",
     "text": [
      "  6%|▋         | 1/16 [01:16<19:03, 76.21s/it]ERROR: cyU3Qgox3K4: YouTube said: Unable to extract video data\n",
      " 12%|█▎        | 2/16 [01:16<12:24, 53.21s/it]"
     ]
    },
    {
     "name": "stdout",
     "output_type": "stream",
     "text": [
      "[youtube] 0aiJynNT2Fk: Downloading webpage\n",
      "[youtube] 1v-n23HAi7M: Downloading webpage\n",
      "[download] Destination: Ruang Masa Hiperbolik Wujud Di Dunia Sebenar!-1v-n23HAi7M.webm\n",
      "Deleting original file Dunia Tamat 2038-4sYNZ3vkIbg.webm (pass -k to keep)\n"
     ]
    },
    {
     "name": "stderr",
     "output_type": "stream",
     "text": [
      "  6%|▋         | 1/16 [01:18<19:32, 78.20s/it]"
     ]
    },
    {
     "name": "stdout",
     "output_type": "stream",
     "text": [
      "[download]   0.0% of 7.55MiB at 81.33KiB/s ETA 01:35[download] Destination: Teori - teori Saintifik Ditemui Orang Melayu yang Kita Tak Tahu-0aiJynNT2Fk.webm\n",
      "[download] 100% of 6.47MiB in 00:0017MiB/s ETA 00:006\n",
      "[download] 100% of 7.55MiB in 00:00\n",
      "[youtube] WC0_yaR0jY4: Downloading webpage\n",
      "[ffmpeg] Destination: Teori - teori Saintifik Ditemui Orang Melayu yang Kita Tak Tahu-0aiJynNT2Fk.mp3\n",
      "[ffmpeg] Destination: Ruang Masa Hiperbolik Wujud Di Dunia Sebenar!-1v-n23HAi7M.mp3\n",
      "[download] Destination: Perang Petisyen Matematik Tambahan SPM-WC0_yaR0jY4.webm\n",
      "[download] 100% of 8.58MiB in 00:0067MiB/s ETA 00:009\n",
      "[ffmpeg] Destination: Perang Petisyen Matematik Tambahan SPM-WC0_yaR0jY4.mp3\n",
      "Deleting original file Binatang yang boleh buat bulu roma aku meremang--q36CzKlwbQ.webm (pass -k to keep)\n"
     ]
    },
    {
     "name": "stderr",
     "output_type": "stream",
     "text": [
      " 12%|█▎        | 2/16 [01:27<10:18, 44.15s/it]"
     ]
    },
    {
     "name": "stdout",
     "output_type": "stream",
     "text": [
      "[youtube] glR3xP2HTS0: Downloading webpage\n",
      "[download] Destination: Sesi 3  - Rahsia Roh Menggerakkan Kita-glR3xP2HTS0.webm\n",
      "[download]  71.3% of 109.20MiB at  4.60MiB/s ETA 00:065nown ETADeleting original file Sejarah Syariat AZAN _ Ustaz Mohd Shaffi-R4DHxsDHzF8.m4a (pass -k to keep)\n"
     ]
    },
    {
     "name": "stderr",
     "output_type": "stream",
     "text": [
      " 12%|█▎        | 2/16 [01:38<11:48, 50.61s/it]"
     ]
    },
    {
     "name": "stdout",
     "output_type": "stream",
     "text": [
      "[youtube] At-WKdApIhs: Downloading webpage\n",
      "[download]  73.4% of 109.20MiB at  2.71MiB/s ETA 00:103nown ETA[download] Destination: MANA NAK CARI CINTA _ SEISMIK PODCAST-At-WKdApIhs.m4a\n",
      "[download]  80.4% of 109.20MiB at  5.29MiB/s ETA 00:04nown ETADeleting original file Perlu Ke Mintak Izin  SlowTalk Podcast #01--Lc21hhbAfE.m4a (pass -k to keep)\n",
      "[download]  62.4% of 31.40MiB at  1.47MiB/s ETA 00:08"
     ]
    },
    {
     "name": "stderr",
     "output_type": "stream",
     "text": [
      " 12%|█▎        | 2/16 [01:40<13:24, 57.44s/it]"
     ]
    },
    {
     "name": "stdout",
     "output_type": "stream",
     "text": [
      "[download] 100% of 31.40MiB in 00:0123MiB/s ETA 00:002nown ETAA\n",
      "[youtube] dn0mDC9XaoE: Downloading webpage\n",
      "[download]  84.1% of 109.20MiB at  4.82MiB/s ETA 00:032[ffmpeg] Correcting container in \"MANA NAK CARI CINTA _ SEISMIK PODCAST-At-WKdApIhs.m4a\"\n",
      "[download] Destination: Episod Penuh Bing _ 35+ Minit _ Eps 31-35 _ Bing Bahasa Melayu-dn0mDC9XaoE.webm\n",
      "[download]  35.9% of 32.27MiB at  9.09MiB/s ETA 00:0239nown ETA[ffmpeg] Destination: MANA NAK CARI CINTA _ SEISMIK PODCAST-At-WKdApIhs.mp3\n",
      "[download] 100% of 32.27MiB in 00:0226MiB/s ETA 00:004nown ETA\n",
      "[ffmpeg] Destination: Episod Penuh Bing _ 35+ Minit _ Eps 31-35 _ Bing Bahasa Melayu-dn0mDC9XaoE.mp3\n",
      "[download] 100% of 109.20MiB in 00:1825MiB/s ETA 00:001nown ETA\n",
      "[ffmpeg] Destination: Sesi 3  - Rahsia Roh Menggerakkan Kita-glR3xP2HTS0.mp3\n",
      "Deleting original file Pengalaman Tinggal Di Rumah Paling Kotor Di Korea Selama Sebulan, Sebiji Macam Filem Parasite-LtARertQkUo.webm (pass -k to keep)\n"
     ]
    },
    {
     "name": "stderr",
     "output_type": "stream",
     "text": [
      " 12%|█▎        | 2/16 [01:47<12:28, 53.49s/it]"
     ]
    },
    {
     "name": "stdout",
     "output_type": "stream",
     "text": [
      "[youtube] TwKDWH9hSfQ: Downloading webpage\n",
      "[download] Destination: Berpakaian Tapi TELANJANG 😥 _ Ustaz Jafri Abu Bakar-TwKDWH9hSfQ.m4a\n",
      "[download] 100% of 9.33MiB in 00:0019MiB/s ETA 00:003\n",
      "[ffmpeg] Correcting container in \"Berpakaian Tapi TELANJANG 😥 _ Ustaz Jafri Abu Bakar-TwKDWH9hSfQ.m4a\"\n",
      "[ffmpeg] Destination: Berpakaian Tapi TELANJANG 😥 _ Ustaz Jafri Abu Bakar-TwKDWH9hSfQ.mp3\n",
      "Deleting original file Pasal Kau - Movie Review-bRUjmsnE5ZU.webm (pass -k to keep)\n"
     ]
    },
    {
     "name": "stderr",
     "output_type": "stream",
     "text": [
      " 12%|█▎        | 2/16 [01:52<12:18, 52.78s/it]"
     ]
    },
    {
     "name": "stdout",
     "output_type": "stream",
     "text": [
      "[youtube] 6f-8js73O1k: Downloading webpage\n",
      "[download] Destination: Sesi 1  - Rahsia Minda, Fikiran, Akal dan Sedar-6f-8js73O1k.webm\n",
      "[download]  63.0% of 105.61MiB at 19.47MiB/s ETA 00:025nown ETADeleting original file 80 Peratus Siswa Matematik UKM Salah Jawab Soalan Mudah Ni! Kenapa-YKe-mzGU0JU.webm (pass -k to keep)\n"
     ]
    },
    {
     "name": "stderr",
     "output_type": "stream",
     "text": [
      " 12%|█▎        | 2/16 [01:59<14:25, 61.81s/it]"
     ]
    },
    {
     "name": "stdout",
     "output_type": "stream",
     "text": [
      "[download]  72.3% of 105.61MiB at 24.36MiB/s ETA 00:019nown ETA[youtube] Q5kDJPXJPbc: Downloading webpage\n",
      "[download]  83.3% of 105.61MiB at 846.06KiB/s ETA 00:21nown ETA[download] Destination: Nak Samun Ke Raba  SlowTalk Podcast #07-Q5kDJPXJPbc.webm\n",
      "[download] 100% of 105.61MiB in 00:070MiB/s ETA 00:000nown ETAA\n",
      "[download] 100% of 10.62MiB in 00:0021MiB/s ETA 00:00\n",
      "[ffmpeg] Destination: Sesi 1  - Rahsia Minda, Fikiran, Akal dan Sedar-6f-8js73O1k.mp3\n",
      "[ffmpeg] Destination: Nak Samun Ke Raba  SlowTalk Podcast #07-Q5kDJPXJPbc.mp3\n",
      "Deleting original file Teori - teori Saintifik Ditemui Orang Melayu yang Kita Tak Tahu-0aiJynNT2Fk.webm (pass -k to keep)\n"
     ]
    },
    {
     "name": "stderr",
     "output_type": "stream",
     "text": [
      " 12%|█▎        | 2/16 [02:01<15:39, 67.08s/it]"
     ]
    },
    {
     "name": "stdout",
     "output_type": "stream",
     "text": [
      "[youtube] e6FH8wtaltw: Downloading webpage\n",
      "[download] Destination: Bosan Dok Rumah Meh Jawab Soalan Uji Minda Best Ni!-e6FH8wtaltw.webm\n",
      "[download]   0.2% of 8.83MiB at 154.46KiB/s ETA 00:58Deleting original file Ruang Masa Hiperbolik Wujud Di Dunia Sebenar!-1v-n23HAi7M.webm (pass -k to keep)\n",
      "[download]   0.3% of 8.83MiB at 255.71KiB/s ETA 00:35"
     ]
    },
    {
     "name": "stderr",
     "output_type": "stream",
     "text": [
      " 19%|█▉        | 3/16 [02:03<11:07, 51.36s/it]"
     ]
    },
    {
     "name": "stdout",
     "output_type": "stream",
     "text": [
      "[download] 100% of 8.83MiB in 00:0095MiB/s ETA 00:001\n",
      "[youtube] ip2EWKhmOYY: Downloading webpage\n",
      "[ffmpeg] Destination: Bosan Dok Rumah Meh Jawab Soalan Uji Minda Best Ni!-e6FH8wtaltw.mp3\n",
      "[download] Destination: 211 _ 3 Soalan Yahudi Kepada Rasulullah 😯 _ Ustaz Auni Mohamed-ip2EWKhmOYY.m4a\n",
      "[download] 100% of 54.02MiB in 00:0223MiB/s ETA 00:005nown ETA\n",
      "[ffmpeg] Correcting container in \"211 _ 3 Soalan Yahudi Kepada Rasulullah 😯 _ Ustaz Auni Mohamed-ip2EWKhmOYY.m4a\"\n",
      "[ffmpeg] Destination: 211 _ 3 Soalan Yahudi Kepada Rasulullah 😯 _ Ustaz Auni Mohamed-ip2EWKhmOYY.mp3\n",
      "Deleting original file Perang Petisyen Matematik Tambahan SPM-WC0_yaR0jY4.webm (pass -k to keep)\n"
     ]
    },
    {
     "name": "stderr",
     "output_type": "stream",
     "text": [
      " 12%|█▎        | 2/16 [02:17<16:56, 72.59s/it]"
     ]
    },
    {
     "name": "stdout",
     "output_type": "stream",
     "text": [
      "[youtube] eJE2FaX8CPE: Downloading webpage\n",
      "[download] Destination: Mendaki Gunung Berapi Seorang Diri Di Indonesia Waktu Malam Terserempak dengan ....-eJE2FaX8CPE.m4a\n",
      "[download] 100% of 14.13MiB in 00:0092MiB/s ETA 00:006nown ETA\n",
      "[ffmpeg] Correcting container in \"Mendaki Gunung Berapi Seorang Diri Di Indonesia Waktu Malam Terserempak dengan ....-eJE2FaX8CPE.m4a\"\n",
      "[ffmpeg] Destination: Mendaki Gunung Berapi Seorang Diri Di Indonesia Waktu Malam Terserempak dengan ....-eJE2FaX8CPE.mp3\n",
      "Deleting original file Berpakaian Tapi TELANJANG 😥 _ Ustaz Jafri Abu Bakar-TwKDWH9hSfQ.m4a (pass -k to keep)\n"
     ]
    },
    {
     "name": "stderr",
     "output_type": "stream",
     "text": [
      " 19%|█▉        | 3/16 [02:36<11:14, 51.90s/it]"
     ]
    },
    {
     "name": "stdout",
     "output_type": "stream",
     "text": [
      "[youtube] QO-YWGQvb1Q: Downloading webpage\n",
      "[download] Destination: Nak Sambut DEKAD Baru 2020 Tengok Video Ni Dulu.-QO-YWGQvb1Q.webm\n",
      "[download] 100% of 8.17MiB in 00:0060MiB/s ETA 00:000\n",
      "[ffmpeg] Destination: Nak Sambut DEKAD Baru 2020 Tengok Video Ni Dulu.-QO-YWGQvb1Q.mp3\n",
      "Deleting original file Nak Samun Ke Raba  SlowTalk Podcast #07-Q5kDJPXJPbc.webm (pass -k to keep)\n"
     ]
    },
    {
     "name": "stderr",
     "output_type": "stream",
     "text": [
      " 19%|█▉        | 3/16 [03:01<13:25, 61.93s/it]"
     ]
    },
    {
     "name": "stdout",
     "output_type": "stream",
     "text": [
      "[youtube] Fv8g4WBYL5k: Downloading webpage\n",
      "[download] Destination: Nasihat IBNU QAYYIM Tentang Tertutupnya Pintu Taufiq _ Ustaz Ahmad Rizam-Fv8g4WBYL5k.webm\n",
      "[download] 100% of 39.36MiB in 00:0286MiB/s ETA 00:000nown ETA\n",
      "[ffmpeg] Destination: Nasihat IBNU QAYYIM Tentang Tertutupnya Pintu Taufiq _ Ustaz Ahmad Rizam-Fv8g4WBYL5k.mp3\n",
      "Deleting original file Bosan Dok Rumah Meh Jawab Soalan Uji Minda Best Ni!-e6FH8wtaltw.webm (pass -k to keep)\n"
     ]
    },
    {
     "name": "stderr",
     "output_type": "stream",
     "text": [
      " 19%|█▉        | 3/16 [03:06<14:22, 66.31s/it]"
     ]
    },
    {
     "name": "stdout",
     "output_type": "stream",
     "text": [
      "[youtube] _gQ-uHjCdBs: Downloading webpage\n",
      "[download] Destination: Naik Sekolah Baju Hilang  SlowTalk Podcast #08-_gQ-uHjCdBs.webm\n",
      "[download] 100% of 6.61MiB in 00:0022MiB/s ETA 00:008\n",
      "[ffmpeg] Destination: Naik Sekolah Baju Hilang  SlowTalk Podcast #08-_gQ-uHjCdBs.mp3\n",
      "Deleting original file Kecil Pada Kita, Besar Nilainya Di Sisi Allah _ Ustaz Mohd Shaffi-Cno40z2_-oU.m4a (pass -k to keep)\n"
     ]
    },
    {
     "name": "stderr",
     "output_type": "stream",
     "text": [
      " 12%|█▎        | 2/16 [03:11<18:54, 81.06s/it]"
     ]
    },
    {
     "name": "stdout",
     "output_type": "stream",
     "text": [
      "[youtube] P4TN4HDiEPk: Downloading webpage\n",
      "[download] Destination: Bersyukurlah ALLAH Pilih Kita _ Syeikh Zaini Hj Ahmad-P4TN4HDiEPk.m4a\n",
      "[download] 100% of 10.88MiB in 00:0201MiB/s ETA 00:001nown ETA\n",
      "[ffmpeg] Correcting container in \"Bersyukurlah ALLAH Pilih Kita _ Syeikh Zaini Hj Ahmad-P4TN4HDiEPk.m4a\"\n",
      "[ffmpeg] Destination: Bersyukurlah ALLAH Pilih Kita _ Syeikh Zaini Hj Ahmad-P4TN4HDiEPk.mp3\n",
      "Deleting original file Nak Sambut DEKAD Baru 2020 Tengok Video Ni Dulu.-QO-YWGQvb1Q.webm (pass -k to keep)\n"
     ]
    },
    {
     "name": "stderr",
     "output_type": "stream",
     "text": [
      " 25%|██▌       | 4/16 [03:26<10:17, 51.49s/it]"
     ]
    },
    {
     "name": "stdout",
     "output_type": "stream",
     "text": [
      "[youtube] QkJQ4LeZwcI: Downloading webpage\n",
      "[download] Destination: 4 ASAS Dalam Menuntut Ilmu _ Ustaz Mohd Nazrul Al Azhari-QkJQ4LeZwcI.webm\n",
      "[download]  78.6% of 76.62MiB at  7.56MiB/s ETA 00:023nown ETADeleting original file Mendaki Gunung Berapi Seorang Diri Di Indonesia Waktu Malam Terserempak dengan ....-eJE2FaX8CPE.m4a (pass -k to keep)\n",
      "[download]  81.2% of 76.62MiB at 12.43MiB/s ETA 00:01"
     ]
    },
    {
     "name": "stderr",
     "output_type": "stream",
     "text": [
      " 19%|█▉        | 3/16 [03:33<15:56, 73.61s/it]"
     ]
    },
    {
     "name": "stdout",
     "output_type": "stream",
     "text": [
      "[download] 100.0% of 76.62MiB at 25.08MiB/s ETA 00:009nown ETA[youtube] u481vfr8q3c: Downloading webpage\n",
      "[download] 100% of 76.62MiB in 00:05\n",
      "[ffmpeg] Destination: 4 ASAS Dalam Menuntut Ilmu _ Ustaz Mohd Nazrul Al Azhari-QkJQ4LeZwcI.mp3\n",
      "[download] Destination: MLATS #2 - Dah mana datang meme laksamana Melayu ni-u481vfr8q3c.webm\n",
      "[download] 100% of 7.65MiB in 00:0028MiB/s ETA 00:009\n",
      "[ffmpeg] Destination: MLATS #2 - Dah mana datang meme laksamana Melayu ni-u481vfr8q3c.mp3\n",
      "Deleting original file MANA NAK CARI CINTA _ SEISMIK PODCAST-At-WKdApIhs.m4a (pass -k to keep)\n"
     ]
    },
    {
     "name": "stderr",
     "output_type": "stream",
     "text": [
      " 19%|█▉        | 3/16 [03:42<15:45, 72.74s/it]"
     ]
    },
    {
     "name": "stdout",
     "output_type": "stream",
     "text": [
      "[youtube] LWDEe2fHJpk: Downloading webpage\n",
      "[download] Destination: Bakar Kucing _ SlowTalk Podcast #19-LWDEe2fHJpk.webm\n",
      "[download] 100% of 3.93MiB in 00:0063MiB/s ETA 00:004\n",
      "[ffmpeg] Destination: Bakar Kucing _ SlowTalk Podcast #19-LWDEe2fHJpk.mp3\n",
      "Deleting original file Naik Sekolah Baju Hilang  SlowTalk Podcast #08-_gQ-uHjCdBs.webm (pass -k to keep)\n"
     ]
    },
    {
     "name": "stderr",
     "output_type": "stream",
     "text": [
      " 25%|██▌       | 4/16 [03:46<11:40, 58.37s/it]"
     ]
    },
    {
     "name": "stdout",
     "output_type": "stream",
     "text": [
      "[youtube] rwhXalBKmbE: Downloading webpage\n",
      "[youtube] rwhXalBKmbE: Downloading MPD manifest\n",
      "[dashsegments] Total fragments: 212\n",
      "[download] Destination: TEKNIK KAWAL PANAS BARAN (PODCAST)-rwhXalBKmbE.webm\n",
      "[download]  39.7% of ~27.33MiB at 222.87KiB/s ETA 00:2718:58Deleting original file Bakar Kucing _ SlowTalk Podcast #19-LWDEe2fHJpk.webm (pass -k to keep)\n",
      "[download]  39.8% of ~27.33MiB at 630.16KiB/s ETA 00:27"
     ]
    },
    {
     "name": "stderr",
     "output_type": "stream",
     "text": [
      " 25%|██▌       | 4/16 [04:06<11:38, 58.21s/it]"
     ]
    },
    {
     "name": "stdout",
     "output_type": "stream",
     "text": [
      "[download]  40.8% of ~27.34MiB at 545.02KiB/s ETA 00:27[youtube] JKnaHxIYHm8: Downloading webpage\n",
      "[download]  43.4% of ~27.28MiB at  1.64MiB/s ETA 00:255[download] Destination: Mengamuk Sebab Tak Scan  SlowTalk Podcast #04-JKnaHxIYHm8.webm\n",
      "[download] 100% of 6.96MiB in 00:0057.46KiB/s ETA 00:25\n",
      "[download]  44.3% of ~27.33MiB at 150.00KiB/s ETA 00:25Deleting original file Bersyukurlah ALLAH Pilih Kita _ Syeikh Zaini Hj Ahmad-P4TN4HDiEPk.m4a (pass -k to keep)\n",
      "[download]  44.4% of ~27.33MiB at 205.87KiB/s ETA 00:25"
     ]
    },
    {
     "name": "stderr",
     "output_type": "stream",
     "text": [
      " 19%|█▉        | 3/16 [04:08<16:00, 73.90s/it]"
     ]
    },
    {
     "name": "stdout",
     "output_type": "stream",
     "text": [
      "[download]  45.0% of ~27.34MiB at 565.83KiB/s ETA 00:24[ffmpeg] Destination: Mengamuk Sebab Tak Scan  SlowTalk Podcast #04-JKnaHxIYHm8.mp3\n",
      "[download]  45.8% of ~27.35MiB at 230.92KiB/s ETA 00:24[youtube] Z9v2NDMciIk: Downloading webpage\n",
      "[download]  49.1% of ~27.34MiB at 213.41KiB/s ETA 00:22[download] Destination: Dahsyatnya Kelajuan Malaikat JIBRIL _ Syeikh Muhd Zainul Asri-Z9v2NDMciIk.m4a\n",
      "[download] 100% of 15.94MiB in 00:00.07MiB/s ETA 00:211own ETA\n",
      "[download]  52.5% of ~27.31MiB at 309.07KiB/s ETA 00:21[ffmpeg] Correcting container in \"Dahsyatnya Kelajuan Malaikat JIBRIL _ Syeikh Muhd Zainul Asri-Z9v2NDMciIk.m4a\"\n",
      "[download]  55.3% of ~27.32MiB at 492.43KiB/s ETA 00:190[ffmpeg] Destination: Dahsyatnya Kelajuan Malaikat JIBRIL _ Syeikh Muhd Zainul Asri-Z9v2NDMciIk.mp3\n",
      "[download]  90.3% of ~26.99MiB at 667.68KiB/s ETA 00:049Deleting original file MLATS #2 - Dah mana datang meme laksamana Melayu ni-u481vfr8q3c.webm (pass -k to keep)\n",
      "[download]  90.6% of ~26.99MiB at 894.01KiB/s ETA 00:04"
     ]
    },
    {
     "name": "stderr",
     "output_type": "stream",
     "text": [
      " 25%|██▌       | 4/16 [04:27<13:33, 67.78s/it]"
     ]
    },
    {
     "name": "stdout",
     "output_type": "stream",
     "text": [
      "[download]  91.7% of ~26.99MiB at 518.27KiB/s ETA 00:03[youtube] hOpZQQG2qg4: Downloading webpage\n",
      "[download]  93.8% of ~27.05MiB at 197.37KiB/s ETA 00:02[download] Destination: Bina Car Wash Di Afrika Untuk Penagih Dadah-hOpZQQG2qg4.webm\n",
      "[download] 100% of 9.53MiB in 00:0042.43KiB/s ETA 00:02\n",
      "[download]  95.3% of ~27.10MiB at 302.86KiB/s ETA 00:02[ffmpeg] Destination: Bina Car Wash Di Afrika Untuk Penagih Dadah-hOpZQQG2qg4.mp3\n",
      "[download] 100% of 27.12MiB in 00:432.99KiB/s ETA 00:001\n",
      "[ffmpeg] Destination: TEKNIK KAWAL PANAS BARAN (PODCAST)-rwhXalBKmbE.mp3\n",
      "Deleting original file Mengamuk Sebab Tak Scan  SlowTalk Podcast #04-JKnaHxIYHm8.webm (pass -k to keep)\n"
     ]
    },
    {
     "name": "stderr",
     "output_type": "stream",
     "text": [
      " 31%|███▏      | 5/16 [04:47<09:41, 52.83s/it]"
     ]
    },
    {
     "name": "stdout",
     "output_type": "stream",
     "text": [
      "[youtube] ZFw2QoiRi68: Downloading webpage\n",
      "Deleting original file 208 _ Hikmah Penciptaan Siang & Malam 😮 _ Ustaz Auni Mohamed-crqask4aeJ0.webm (pass -k to keep)\n"
     ]
    },
    {
     "name": "stderr",
     "output_type": "stream",
     "text": [
      " 12%|█▎        | 2/16 [04:47<25:11, 108.00s/it]"
     ]
    },
    {
     "name": "stdout",
     "output_type": "stream",
     "text": [
      "[youtube] VlmIyZllgz0: Downloading webpage\n",
      "[youtube] VlmIyZllgz0: Downloading MPD manifest\n",
      "[download] Destination: TAWASSUL Dengan Orang Soleh Yang Masih Hidup 🤔 _ Ustaz Mohd Anuar-ZFw2QoiRi68.m4a\n",
      "[download]   8.8% of 11.40MiB at  4.58MiB/s ETA 00:024[dashsegments] Total fragments: 100\n",
      "[download]  17.5% of 11.40MiB at  8.35MiB/s ETA 00:01[download] Destination: PODCAST [Bahasa Malaysia]-VlmIyZllgz0.webm\n",
      "[download] 100% of 11.40MiB in 00:0025MiB/s ETA 00:168157n ETA\n",
      "[download]   3.8% of ~12.09MiB at 124.40KiB/s ETA 00:21[ffmpeg] Correcting container in \"TAWASSUL Dengan Orang Soleh Yang Masih Hidup 🤔 _ Ustaz Mohd Anuar-ZFw2QoiRi68.m4a\"\n",
      "[download]   9.1% of ~13.37MiB at 302.48KiB/s ETA 00:197[ffmpeg] Destination: TAWASSUL Dengan Orang Soleh Yang Masih Hidup 🤔 _ Ustaz Mohd Anuar-ZFw2QoiRi68.mp3\n",
      "[download]  31.0% of ~14.68MiB at 230.55KiB/s ETA 00:144Deleting original file Wahai Suami Pastikan Sumber Rezeki HALAL _ Ustaz Mohd Aslam-e5cIN57hJ_0.webm (pass -k to keep)\n",
      "[download]  31.1% of ~14.68MiB at 342.36KiB/s ETA 00:14"
     ]
    },
    {
     "name": "stderr",
     "output_type": "stream",
     "text": [
      " 12%|█▎        | 2/16 [04:55<23:51, 102.24s/it]"
     ]
    },
    {
     "name": "stdout",
     "output_type": "stream",
     "text": [
      "[download]  34.0% of ~14.68MiB at 110.50KiB/s ETA 00:13[youtube] VFC4UDw8ju0: Downloading webpage\n",
      "[download]  40.2% of ~14.78MiB at 340.57KiB/s ETA 00:122[download] Destination: Ciri-Ciri Nabi Akhir Zaman Dalam Kitab TAURAT 😮 _ Ustaz Auni Mohamed-VFC4UDw8ju0.m4a\n",
      "[download] 100% of 11.82MiB in 00:00.13MiB/s ETA 00:111own ETA\n",
      "[download]  47.0% of ~14.81MiB at 346.44KiB/s ETA 00:101[ffmpeg] Correcting container in \"Ciri-Ciri Nabi Akhir Zaman Dalam Kitab TAURAT 😮 _ Ustaz Auni Mohamed-VFC4UDw8ju0.m4a\"\n",
      "[download]  52.0% of ~14.84MiB at 133.99KiB/s ETA 00:090[ffmpeg] Destination: Ciri-Ciri Nabi Akhir Zaman Dalam Kitab TAURAT 😮 _ Ustaz Auni Mohamed-VFC4UDw8ju0.mp3\n",
      "[download] 100% of 14.73MiB in 00:20.37KiB/s ETA 00:0000\n",
      "[ffmpeg] Destination: PODCAST [Bahasa Malaysia]-VlmIyZllgz0.mp3\n",
      "Deleting original file Episod Penuh Bing _ 35+ Minit _ Eps 31-35 _ Bing Bahasa Melayu-dn0mDC9XaoE.webm (pass -k to keep)\n"
     ]
    },
    {
     "name": "stderr",
     "output_type": "stream",
     "text": [
      " 19%|█▉        | 3/16 [05:16<22:43, 104.92s/it]"
     ]
    },
    {
     "name": "stdout",
     "output_type": "stream",
     "text": [
      "[youtube] CR-JLqCElrY: Downloading webpage\n",
      "[download] Destination: Gunakan Sebaiknya PELUANG Ini _ Ustaz Auni Mohamed-CR-JLqCElrY.webm\n",
      "[download]   5.8% of 8.57MiB at  2.32MiB/s ETA 00:030Deleting original file Dahsyatnya Kelajuan Malaikat JIBRIL _ Syeikh Muhd Zainul Asri-Z9v2NDMciIk.m4a (pass -k to keep)\n",
      "[download]  11.7% of 8.57MiB at  4.24MiB/s ETA 00:01"
     ]
    },
    {
     "name": "stderr",
     "output_type": "stream",
     "text": [
      " 25%|██▌       | 4/16 [05:17<14:30, 72.50s/it]"
     ]
    },
    {
     "name": "stdout",
     "output_type": "stream",
     "text": [
      "[download] 100% of 8.57MiB in 00:0080MiB/s ETA 00:00\n",
      "[youtube] UtzK54Pb7Xc: Downloading webpage\n",
      "[ffmpeg] Destination: Gunakan Sebaiknya PELUANG Ini _ Ustaz Auni Mohamed-CR-JLqCElrY.mp3\n",
      "[download] Destination: Memilih _ Episod Penuh Bing _ Bing Bahasa Melayu-UtzK54Pb7Xc.webm\n",
      "[download] 100% of 6.64MiB in 00:0088MiB/s ETA 00:007\n",
      "[ffmpeg] Destination: Memilih _ Episod Penuh Bing _ Bing Bahasa Melayu-UtzK54Pb7Xc.mp3\n",
      "Deleting original file Bina Car Wash Di Afrika Untuk Penagih Dadah-hOpZQQG2qg4.webm (pass -k to keep)\n"
     ]
    },
    {
     "name": "stderr",
     "output_type": "stream",
     "text": [
      " 31%|███▏      | 5/16 [05:33<12:18, 67.11s/it]"
     ]
    },
    {
     "name": "stdout",
     "output_type": "stream",
     "text": [
      "[youtube] DfflcWqHY9E: Downloading webpage\n",
      "[download] Destination: Ini Hikmah Kenapa Rasulullah Tidak Pernah AZAN 😮 _ Ustaz Mohd Shaffi-DfflcWqHY9E.m4a\n",
      "[download]  37.0% of 53.23MiB at 673.16KiB/s ETA 00:51nown ETADeleting original file TAWASSUL Dengan Orang Soleh Yang Masih Hidup 🤔 _ Ustaz Mohd Anuar-ZFw2QoiRi68.m4a (pass -k to keep)\n",
      "[download]  37.4% of 53.23MiB at  1.66MiB/s ETA 00:20"
     ]
    },
    {
     "name": "stderr",
     "output_type": "stream",
     "text": [
      " 38%|███▊      | 6/16 [05:37<08:39, 51.97s/it]"
     ]
    },
    {
     "name": "stdout",
     "output_type": "stream",
     "text": [
      "[youtube] 0ca50QUW5OI: Downloading webpage\n",
      "[download]  43.0% of 53.23MiB at  3.49MiB/s ETA 00:082[download] Destination: Jenis-Jenis LINTASAN HATI _ Ustaz Mohd Anuar Ibrahim-0ca50QUW5OI.m4a\n",
      "[download] 100% of 11.05MiB in 00:0147MiB/s ETA 00:001nown ETA\n",
      "[download]  70.4% of 53.23MiB at 17.67MiB/s ETA 00:005nown ETA[ffmpeg] Correcting container in \"Jenis-Jenis LINTASAN HATI _ Ustaz Mohd Anuar Ibrahim-0ca50QUW5OI.m4a\"\n",
      "[download] 100% of 53.23MiB in 00:0618MiB/s ETA 00:004nown ETA\n",
      "[ffmpeg] Destination: Jenis-Jenis LINTASAN HATI _ Ustaz Mohd Anuar Ibrahim-0ca50QUW5OI.mp3\n",
      "[ffmpeg] Correcting container in \"Ini Hikmah Kenapa Rasulullah Tidak Pernah AZAN 😮 _ Ustaz Mohd Shaffi-DfflcWqHY9E.m4a\"\n",
      "[ffmpeg] Destination: Ini Hikmah Kenapa Rasulullah Tidak Pernah AZAN 😮 _ Ustaz Mohd Shaffi-DfflcWqHY9E.mp3\n",
      "Deleting original file Ciri-Ciri Nabi Akhir Zaman Dalam Kitab TAURAT 😮 _ Ustaz Auni Mohamed-VFC4UDw8ju0.m4a (pass -k to keep)\n"
     ]
    },
    {
     "name": "stderr",
     "output_type": "stream",
     "text": [
      " 19%|█▉        | 3/16 [05:47<18:51, 87.02s/it] "
     ]
    },
    {
     "name": "stdout",
     "output_type": "stream",
     "text": [
      "[youtube] dNgrEYnaa0U: Downloading webpage\n",
      "[download] Destination: Terperangkap kat kolej masa PKP-dNgrEYnaa0U.webm\n",
      "[download] 100% of 7.13MiB in 00:0075MiB/s ETA 00:009\n",
      "[ffmpeg] Destination: Terperangkap kat kolej masa PKP-dNgrEYnaa0U.mp3\n",
      "Deleting original file 211 _ 3 Soalan Yahudi Kepada Rasulullah 😯 _ Ustaz Auni Mohamed-ip2EWKhmOYY.m4a (pass -k to keep)\n"
     ]
    },
    {
     "name": "stderr",
     "output_type": "stream",
     "text": [
      " 25%|██▌       | 4/16 [05:51<20:50, 104.18s/it]"
     ]
    },
    {
     "name": "stdout",
     "output_type": "stream",
     "text": [
      "[youtube] dpfE6ek6sEg: Downloading webpage\n",
      "[download] Destination: 207 _ Diterima Atau Ditolak Bukan Kerja Kita 😯 _ Ustaz Auni Mohamed-dpfE6ek6sEg.m4a\n",
      "[download] 100% of 47.35MiB in 00:0216MiB/s ETA 00:009nown ETA\n",
      "[ffmpeg] Correcting container in \"207 _ Diterima Atau Ditolak Bukan Kerja Kita 😯 _ Ustaz Auni Mohamed-dpfE6ek6sEg.m4a\"\n",
      "[ffmpeg] Destination: 207 _ Diterima Atau Ditolak Bukan Kerja Kita 😯 _ Ustaz Auni Mohamed-dpfE6ek6sEg.mp3\n",
      "Deleting original file Memilih _ Episod Penuh Bing _ Bing Bahasa Melayu-UtzK54Pb7Xc.webm (pass -k to keep)\n"
     ]
    },
    {
     "name": "stderr",
     "output_type": "stream",
     "text": [
      " 31%|███▏      | 5/16 [06:03<11:47, 64.34s/it]"
     ]
    },
    {
     "name": "stdout",
     "output_type": "stream",
     "text": [
      "[youtube] AVt7WL-ZR4Y: Downloading webpage\n",
      "[download] Destination: 92 _ Cuba Renung Kisah Ini _ Ustaz Wadi Annuar-AVt7WL-ZR4Y.m4a\n",
      "[download] 100% of 59.85MiB in 00:0357MiB/s ETA 00:0000own ETA\n",
      "[ffmpeg] Correcting container in \"92 _ Cuba Renung Kisah Ini _ Ustaz Wadi Annuar-AVt7WL-ZR4Y.m4a\"\n",
      "[ffmpeg] Destination: 92 _ Cuba Renung Kisah Ini _ Ustaz Wadi Annuar-AVt7WL-ZR4Y.mp3\n",
      "Deleting original file Gunakan Sebaiknya PELUANG Ini _ Ustaz Auni Mohamed-CR-JLqCElrY.webm (pass -k to keep)\n"
     ]
    },
    {
     "name": "stderr",
     "output_type": "stream",
     "text": [
      " 25%|██▌       | 4/16 [06:13<18:06, 90.51s/it] "
     ]
    },
    {
     "name": "stdout",
     "output_type": "stream",
     "text": [
      "[youtube] JIOEzlTO6Kg: Downloading webpage\n",
      "[download] Destination: Android VS iOS (Instagram) SlowTalk Podcast #06-JIOEzlTO6Kg.webm\n",
      "[download] 100% of 9.76MiB in 00:0030MiB/s ETA 00:000nown ETA\n",
      "[ffmpeg] Destination: Android VS iOS (Instagram) SlowTalk Podcast #06-JIOEzlTO6Kg.mp3\n",
      "Deleting original file Jenis-Jenis LINTASAN HATI _ Ustaz Mohd Anuar Ibrahim-0ca50QUW5OI.m4a (pass -k to keep)\n"
     ]
    },
    {
     "name": "stderr",
     "output_type": "stream",
     "text": [
      " 44%|████▍     | 7/16 [06:33<07:59, 53.26s/it]"
     ]
    },
    {
     "name": "stdout",
     "output_type": "stream",
     "text": [
      "[youtube] Cu-UEBq8QhU: Downloading webpage\n",
      "[download] Destination: Coklat - Warna Paling Pelik-Cu-UEBq8QhU.webm\n",
      "[download] 100% of 7.98MiB in 00:0019MiB/s ETA 00:008\n",
      "[ffmpeg] Destination: Coklat - Warna Paling Pelik-Cu-UEBq8QhU.mp3\n",
      "Deleting original file PODCAST [Bahasa Malaysia]-VlmIyZllgz0.webm (pass -k to keep)\n"
     ]
    },
    {
     "name": "stderr",
     "output_type": "stream",
     "text": [
      " 19%|█▉        | 3/16 [06:37<23:30, 108.48s/it]"
     ]
    },
    {
     "name": "stdout",
     "output_type": "stream",
     "text": [
      "[youtube] qNqK6_fjBGE: Downloading webpage\n",
      "[download] Destination: Episod Penuh Bing _ 35+ Minit _ Eps 26-30 _ Bing Bahasa Melayu-qNqK6_fjBGE.webm\n",
      "[download]  24.7% of 32.44MiB at 21.81MiB/s ETA 00:013Deleting original file Terperangkap kat kolej masa PKP-dNgrEYnaa0U.webm (pass -k to keep)\n"
     ]
    },
    {
     "name": "stderr",
     "output_type": "stream",
     "text": [
      " 25%|██▌       | 4/16 [06:39<15:18, 76.53s/it]"
     ]
    },
    {
     "name": "stdout",
     "output_type": "stream",
     "text": [
      "[download]  61.1% of 32.44MiB at 113.78KiB/s ETA 01:53nown ETA[youtube] DnOIVS6ylqs: Downloading webpage\n",
      "[download] 100% of 32.44MiB in 00:0125MiB/s ETA 00:002nown ETA\n",
      "[ffmpeg] Destination: Episod Penuh Bing _ 35+ Minit _ Eps 26-30 _ Bing Bahasa Melayu-qNqK6_fjBGE.mp3\n",
      "[download] Destination: Menurut Sains Gopal Sebenarnya Tersangat OP! (Bahagian 1)-DnOIVS6ylqs.webm\n",
      "[download] 100% of 12.03MiB in 00:0005MiB/s ETA 00:002nown ETA\n",
      "[ffmpeg] Destination: Menurut Sains Gopal Sebenarnya Tersangat OP! (Bahagian 1)-DnOIVS6ylqs.mp3\n",
      "Deleting original file Android VS iOS (Instagram) SlowTalk Podcast #06-JIOEzlTO6Kg.webm (pass -k to keep)\n"
     ]
    },
    {
     "name": "stderr",
     "output_type": "stream",
     "text": [
      " 31%|███▏      | 5/16 [07:10<14:46, 80.55s/it]"
     ]
    },
    {
     "name": "stdout",
     "output_type": "stream",
     "text": [
      "[youtube] PKJshdf_FnM: Downloading webpage\n",
      "[download] Destination: Menurut Sains, Gopal Sebenarnya Tersangat OP (Bahagian 2)-PKJshdf_FnM.webm\n",
      "[download] 100% of 13.26MiB in 00:0184MiB/s ETA 00:005nown ETA\n",
      "[ffmpeg] Destination: Menurut Sains, Gopal Sebenarnya Tersangat OP (Bahagian 2)-PKJshdf_FnM.mp3\n",
      "Deleting original file TEKNIK KAWAL PANAS BARAN (PODCAST)-rwhXalBKmbE.webm (pass -k to keep)\n"
     ]
    },
    {
     "name": "stderr",
     "output_type": "stream",
     "text": [
      " 31%|███▏      | 5/16 [07:19<19:13, 104.89s/it]"
     ]
    },
    {
     "name": "stdout",
     "output_type": "stream",
     "text": [
      "[youtube] mXFQb1ghFco: Downloading webpage\n",
      "Deleting original file Nasihat IBNU QAYYIM Tentang Tertutupnya Pintu Taufiq _ Ustaz Ahmad Rizam-Fv8g4WBYL5k.webm (pass -k to keep)\n"
     ]
    },
    {
     "name": "stderr",
     "output_type": "stream",
     "text": [
      " 25%|██▌       | 4/16 [07:20<24:10, 120.86s/it]"
     ]
    },
    {
     "name": "stdout",
     "output_type": "stream",
     "text": [
      "[youtube] gsRtHPYjQCw: Downloading webpage\n",
      "[download] Destination: 7 Reaksi Kimia yang Macam Ilmu Hitam-mXFQb1ghFco.webm\n",
      "[download]   4.7% of 10.71MiB at  3.06MiB/s ETA 00:038[download] Destination: Sebelum Zhaf carut....-gsRtHPYjQCw.webm\n",
      "[download] 100% of 10.71MiB in 00:0053MiB/s ETA 00:001nown ETA\n",
      "[download]  92.4% of 12.49MiB at  8.10MiB/s ETA 00:003nown ETA[ffmpeg] Destination: 7 Reaksi Kimia yang Macam Ilmu Hitam-mXFQb1ghFco.mp3\n",
      "[download] 100% of 12.49MiB in 00:0052MiB/s ETA 00:00\n",
      "[ffmpeg] Destination: Sebelum Zhaf carut....-gsRtHPYjQCw.mp3\n",
      "Deleting original file Coklat - Warna Paling Pelik-Cu-UEBq8QhU.webm (pass -k to keep)\n"
     ]
    },
    {
     "name": "stderr",
     "output_type": "stream",
     "text": [
      " 50%|█████     | 8/16 [07:48<07:58, 59.81s/it]"
     ]
    },
    {
     "name": "stdout",
     "output_type": "stream",
     "text": [
      "[youtube] wGY7jUCuU3Y: Downloading webpage\n",
      "[download] Destination: Penyakit WAS-WAS 😥 _ Ustaz Mohd Shaffi-wGY7jUCuU3Y.webm\n",
      "[download] 100% of 36.53MiB in 00:0315MiB/s ETA 00:001nown ETA\n",
      "[ffmpeg] Destination: Penyakit WAS-WAS 😥 _ Ustaz Mohd Shaffi-wGY7jUCuU3Y.mp3\n",
      "Deleting original file Menurut Sains Gopal Sebenarnya Tersangat OP! (Bahagian 1)-DnOIVS6ylqs.webm (pass -k to keep)\n"
     ]
    },
    {
     "name": "stderr",
     "output_type": "stream",
     "text": [
      " 31%|███▏      | 5/16 [08:03<14:27, 78.87s/it]"
     ]
    },
    {
     "name": "stdout",
     "output_type": "stream",
     "text": [
      "[youtube] C_PJ2FHFjbo: Downloading webpage\n",
      "[download] Destination: Menurut Sains, Boboiboy Mana Paling Kuat-C_PJ2FHFjbo.m4a\n",
      "[download] 100% of 16.01MiB in 00:0174MiB/s ETA 00:007nown ETA\n",
      "[ffmpeg] Correcting container in \"Menurut Sains, Boboiboy Mana Paling Kuat-C_PJ2FHFjbo.m4a\"\n",
      "[ffmpeg] Destination: Menurut Sains, Boboiboy Mana Paling Kuat-C_PJ2FHFjbo.mp3\n",
      "Deleting original file 7 Reaksi Kimia yang Macam Ilmu Hitam-mXFQb1ghFco.webm (pass -k to keep)\n"
     ]
    },
    {
     "name": "stderr",
     "output_type": "stream",
     "text": [
      " 38%|███▊      | 6/16 [08:35<16:01, 96.19s/it] "
     ]
    },
    {
     "name": "stdout",
     "output_type": "stream",
     "text": [
      "[youtube] ydoo5KXzJbg: Downloading webpage\n",
      "[download] Destination: Sesi 4  - Teknik Meditasi Untuk Reprogram Diri-ydoo5KXzJbg.webm\n",
      "[download]  15.6% of 127.07MiB at  2.60MiB/s ETA 00:416nown ETADeleting original file Menurut Sains, Gopal Sebenarnya Tersangat OP (Bahagian 2)-PKJshdf_FnM.webm (pass -k to keep)\n",
      "[download]  16.0% of 127.07MiB at  1.07MiB/s ETA 01:39"
     ]
    },
    {
     "name": "stderr",
     "output_type": "stream",
     "text": [
      " 38%|███▊      | 6/16 [08:42<13:58, 83.88s/it]"
     ]
    },
    {
     "name": "stdout",
     "output_type": "stream",
     "text": [
      "[download]  17.6% of 127.07MiB at  3.14MiB/s ETA 00:33[youtube] uZ4KTG1gQoI: Downloading webpage\n",
      "[download]  19.7% of 127.07MiB at  3.39MiB/s ETA 00:30[download] Destination: 210 _ Operasi SARIYYAH 😯 _ Ustaz Auni Mohamed-uZ4KTG1gQoI.m4a\n",
      "[download] 100% of 51.61MiB in 00:0491MiB/s ETA 00:002nown ETAA\n",
      "[download]  40.8% of 127.07MiB at  4.26MiB/s ETA 00:17[ffmpeg] Correcting container in \"210 _ Operasi SARIYYAH 😯 _ Ustaz Auni Mohamed-uZ4KTG1gQoI.m4a\"\n",
      "[download]  48.7% of 127.07MiB at  4.62MiB/s ETA 00:148nown ETA[ffmpeg] Destination: 210 _ Operasi SARIYYAH 😯 _ Ustaz Auni Mohamed-uZ4KTG1gQoI.mp3\n",
      "[download]  91.6% of 127.07MiB at  3.87MiB/s ETA 00:0220own ETADeleting original file 207 _ Diterima Atau Ditolak Bukan Kerja Kita 😯 _ Ustaz Auni Mohamed-dpfE6ek6sEg.m4a (pass -k to keep)\n",
      "[download]  91.6% of 127.07MiB at 98.51KiB/s ETA 01:51known ETA"
     ]
    },
    {
     "name": "stderr",
     "output_type": "stream",
     "text": [
      " 31%|███▏      | 5/16 [09:02<23:54, 130.43s/it]"
     ]
    },
    {
     "name": "stdout",
     "output_type": "stream",
     "text": [
      "[download]  92.4% of 127.07MiB at  5.11MiB/s ETA 00:017Deleting original file Sebelum Zhaf carut....-gsRtHPYjQCw.webm (pass -k to keep)\n"
     ]
    },
    {
     "name": "stderr",
     "output_type": "stream",
     "text": [
      " 31%|███▏      | 5/16 [09:03<21:09, 115.44s/it]"
     ]
    },
    {
     "name": "stdout",
     "output_type": "stream",
     "text": [
      "[youtube] uCg5WeQ34rM: Downloading webpage\n",
      "[download]  93.1% of 127.07MiB at  2.53MiB/s ETA 00:03[youtube] aZcwqUZI2rA: Downloading webpage\n",
      "[download]  97.1% of 127.07MiB at  5.24MiB/s ETA 00:00[download] Destination: Q & A (Jadi backpacker ni tak ada masa depan) _ Podcast Malaysia-uCg5WeQ34rM.webm\n",
      "[download]  16.7% of 24.00MiB at 14.57MiB/s ETA 00:011[download] Destination: Podcast Bekpek - Bercinta Dengan Awek Ukriane Dan Pernah Hampir Terbunuh Semasa Travel-aZcwqUZI2rA.m4a\n",
      "[download] 100% of 127.07MiB in 00:2716MiB/s ETA 00:001nown ETA\n",
      "[download]  82.0% of 24.00MiB at 26.51MiB/s ETA 00:00[ffmpeg] Destination: Sesi 4  - Teknik Meditasi Untuk Reprogram Diri-ydoo5KXzJbg.mp3\n",
      "[download] 100% of 24.00MiB in 00:0175MiB/s ETA 00:007nown ETA\n",
      "[download]  43.6% of 41.01MiB at 18.28MiB/s ETA 00:01[ffmpeg] Destination: Q & A (Jadi backpacker ni tak ada masa depan) _ Podcast Malaysia-uCg5WeQ34rM.mp3\n",
      "[download] 100% of 41.01MiB in 00:0200MiB/s ETA 00:002nown ETA\n",
      "[ffmpeg] Correcting container in \"Podcast Bekpek - Bercinta Dengan Awek Ukriane Dan Pernah Hampir Terbunuh Semasa Travel-aZcwqUZI2rA.m4a\"\n",
      "[ffmpeg] Destination: Podcast Bekpek - Bercinta Dengan Awek Ukriane Dan Pernah Hampir Terbunuh Semasa Travel-aZcwqUZI2rA.mp3\n",
      "Deleting original file Ini Hikmah Kenapa Rasulullah Tidak Pernah AZAN 😮 _ Ustaz Mohd Shaffi-DfflcWqHY9E.m4a (pass -k to keep)\n"
     ]
    },
    {
     "name": "stderr",
     "output_type": "stream",
     "text": [
      " 38%|███▊      | 6/16 [09:23<19:18, 115.89s/it]"
     ]
    },
    {
     "name": "stdout",
     "output_type": "stream",
     "text": [
      "[youtube] W6FXt5p9V3U: Downloading webpage\n",
      "[download] Destination: DEFINISI Ilmu Bermanfaat 😯 _ Muhamad bin Abdullah (Ustaz Amin)-W6FXt5p9V3U.m4a\n",
      "[download] 100% of 12.29MiB in 00:0027MiB/s ETA 00:002nown ETA\n",
      "[ffmpeg] Correcting container in \"DEFINISI Ilmu Bermanfaat 😯 _ Muhamad bin Abdullah (Ustaz Amin)-W6FXt5p9V3U.m4a\"\n",
      "[ffmpeg] Destination: DEFINISI Ilmu Bermanfaat 😯 _ Muhamad bin Abdullah (Ustaz Amin)-W6FXt5p9V3U.mp3\n",
      "Deleting original file Menurut Sains, Boboiboy Mana Paling Kuat-C_PJ2FHFjbo.m4a (pass -k to keep)\n"
     ]
    },
    {
     "name": "stderr",
     "output_type": "stream",
     "text": [
      " 38%|███▊      | 6/16 [09:28<13:26, 80.68s/it]"
     ]
    },
    {
     "name": "stdout",
     "output_type": "stream",
     "text": [
      "[youtube] _9ZBUQjJfMI: Downloading webpage\n",
      "[youtube] _9ZBUQjJfMI: Downloading MPD manifest\n",
      "[dashsegments] Total fragments: 449\n",
      "[download] Destination: KULIAH 1 JAM - Nak Ubah Hidup, Kena Bermula Dengan Mengenali Diri-_9ZBUQjJfMI.webm\n",
      "[download]  40.4% of ~60.34MiB at 659.57KiB/s ETA 00:5677:59Deleting original file 92 _ Cuba Renung Kisah Ini _ Ustaz Wadi Annuar-AVt7WL-ZR4Y.m4a (pass -k to keep)\n",
      "[download]  40.5% of ~60.34MiB at  1.09MiB/s ETA 00:56"
     ]
    },
    {
     "name": "stderr",
     "output_type": "stream",
     "text": [
      " 38%|███▊      | 6/16 [10:09<19:50, 119.04s/it]"
     ]
    },
    {
     "name": "stdout",
     "output_type": "stream",
     "text": [
      "[download]  41.0% of ~60.34MiB at 844.13KiB/s ETA 00:56[youtube] INq9ouq6EJc: Downloading webpage\n",
      "[download]  41.9% of ~60.34MiB at 951.76KiB/s ETA 00:55[download] Destination: Contoh Terbaik Orang Yang CERDIK _ Syeikh Muhd Zainul Asri-INq9ouq6EJc.webm\n",
      "[download] 100% of 34.86MiB in 00:02.05MiB/s ETA 00:523own ETA\n",
      "[download]  44.5% of ~60.56MiB at 172.47KiB/s ETA 00:52[ffmpeg] Destination: Contoh Terbaik Orang Yang CERDIK _ Syeikh Muhd Zainul Asri-INq9ouq6EJc.mp3\n",
      "[download]  47.0% of ~60.76MiB at 164.10KiB/s ETA 00:500Deleting original file Episod Penuh Bing _ 35+ Minit _ Eps 26-30 _ Bing Bahasa Melayu-qNqK6_fjBGE.webm (pass -k to keep)\n",
      "[download]  47.0% of ~60.76MiB at 224.44KiB/s ETA 00:50"
     ]
    },
    {
     "name": "stderr",
     "output_type": "stream",
     "text": [
      " 25%|██▌       | 4/16 [10:15<28:18, 141.53s/it]"
     ]
    },
    {
     "name": "stdout",
     "output_type": "stream",
     "text": [
      "[download]  47.6% of ~60.78MiB at  1.03MiB/s ETA 00:4999[youtube] qDNwTIZlJRo: Downloading webpage\n",
      "[download]  48.1% of ~60.82MiB at 178.56KiB/s ETA 00:49Deleting original file DEFINISI Ilmu Bermanfaat 😯 _ Muhamad bin Abdullah (Ustaz Amin)-W6FXt5p9V3U.m4a (pass -k to keep)\n",
      "[download]  48.1% of ~60.82MiB at 211.57KiB/s ETA 00:49"
     ]
    },
    {
     "name": "stderr",
     "output_type": "stream",
     "text": [
      " 44%|████▍     | 7/16 [10:16<14:35, 97.26s/it] "
     ]
    },
    {
     "name": "stdout",
     "output_type": "stream",
     "text": [
      "[download]  48.4% of ~60.82MiB at 618.52KiB/s ETA 00:48[download] Destination: Satu Surah, Kisah Tiga RASUL _ Ustaz Halim Nasir-qDNwTIZlJRo.m4a\n",
      "[download]  48.6% of ~60.83MiB at 548.49KiB/s ETA 00:48[youtube] r86fA5i3PaE: Downloading webpage\n",
      "[download]  33.9% of 60.88MiB at  7.39MiB/s ETA 00:0548own ETA[download] Destination: Pengalaman Sebagai Seorang ''Student''-r86fA5i3PaE.webm\n",
      "[download] 100% of 7.93MiB in 00:0097.56KiB/s ETA 00:47\n",
      "[download]  49.9% of ~60.87MiB at 336.61KiB/s ETA 00:47own ETA[ffmpeg] Destination: Pengalaman Sebagai Seorang ''Student''-r86fA5i3PaE.mp3\n",
      "[download] 100% of 60.88MiB in 00:02.06MiB/s ETA 00:456own ETA\n",
      "[download]  51.9% of ~60.91MiB at 167.65KiB/s ETA 00:455[ffmpeg] Correcting container in \"Satu Surah, Kisah Tiga RASUL _ Ustaz Halim Nasir-qDNwTIZlJRo.m4a\"\n",
      "[download]  55.1% of ~61.02MiB at 570.30KiB/s ETA 00:422[ffmpeg] Destination: Satu Surah, Kisah Tiga RASUL _ Ustaz Halim Nasir-qDNwTIZlJRo.mp3\n",
      "[download] 100% of 61.35MiB in 01:366.39KiB/s ETA 00:002\n",
      "[ffmpeg] Destination: KULIAH 1 JAM - Nak Ubah Hidup, Kena Bermula Dengan Mengenali Diri-_9ZBUQjJfMI.mp3\n",
      "Deleting original file Pengalaman Sebagai Seorang ''Student''-r86fA5i3PaE.webm (pass -k to keep)\n"
     ]
    },
    {
     "name": "stderr",
     "output_type": "stream",
     "text": [
      " 50%|█████     | 8/16 [11:13<11:20, 85.03s/it]"
     ]
    },
    {
     "name": "stdout",
     "output_type": "stream",
     "text": [
      "[youtube] n-0KdpNJzHQ: Downloading webpage\n",
      "[download] Destination: Dunia kita berapa FPS (Bahagian 1)-n-0KdpNJzHQ.webm\n",
      "[download] 100% of 10.46MiB in 00:0025MiB/s ETA 00:001nown ETA\n",
      "[ffmpeg] Destination: Dunia kita berapa FPS (Bahagian 1)-n-0KdpNJzHQ.mp3\n",
      "Deleting original file Q & A (Jadi backpacker ni tak ada masa depan) _ Podcast Malaysia-uCg5WeQ34rM.webm (pass -k to keep)\n"
     ]
    },
    {
     "name": "stderr",
     "output_type": "stream",
     "text": [
      " 38%|███▊      | 6/16 [11:34<22:47, 136.74s/it]"
     ]
    },
    {
     "name": "stdout",
     "output_type": "stream",
     "text": [
      "[youtube] NKSyshvDHWY: Downloading webpage\n",
      "[youtube] NKSyshvDHWY: Downloading MPD manifest\n",
      "[dashsegments] Total fragments: 359\n",
      "[download] Destination: Tanah Melayu  - Info Penuh Kempen Tanah Melayu Kembali Bertanjak-NKSyshvDHWY.m4a\n",
      "[download]  16.1% of ~54.37MiB at  1.07MiB/s ETA 01:06704029Deleting original file Podcast Bekpek - Bercinta Dengan Awek Ukriane Dan Pernah Hampir Terbunuh Semasa Travel-aZcwqUZI2rA.m4a (pass -k to keep)\n",
      "[download]  16.2% of ~54.37MiB at  1.13MiB/s ETA 01:06"
     ]
    },
    {
     "name": "stderr",
     "output_type": "stream",
     "text": [
      " 38%|███▊      | 6/16 [11:49<21:45, 130.60s/it]"
     ]
    },
    {
     "name": "stdout",
     "output_type": "stream",
     "text": [
      "[download]  16.7% of ~54.42MiB at 209.63KiB/s ETA 01:06[youtube] yyRdpqr45eo: Downloading webpage\n",
      "[download]  18.3% of ~54.49MiB at 922.04KiB/s ETA 01:044[download] Destination: Misteri baki RM1-yyRdpqr45eo.m4a\n",
      "[download] 100% of 5.35MiB in 00:0081.07KiB/s ETA 01:04\n",
      "[download]  19.2% of ~54.52MiB at 998.81KiB/s ETA 01:04[ffmpeg] Correcting container in \"Misteri baki RM1-yyRdpqr45eo.m4a\"\n",
      "[download]  19.5% of ~54.54MiB at  1.02MiB/s ETA 01:0404Deleting original file 4 ASAS Dalam Menuntut Ilmu _ Ustaz Mohd Nazrul Al Azhari-QkJQ4LeZwcI.webm (pass -k to keep)\n",
      "[download]  19.5% of ~54.54MiB at 254.15KiB/s ETA 01:04"
     ]
    },
    {
     "name": "stderr",
     "output_type": "stream",
     "text": [
      " 31%|███▏      | 5/16 [11:51<34:23, 187.58s/it]"
     ]
    },
    {
     "name": "stdout",
     "output_type": "stream",
     "text": [
      "[download]  20.1% of ~54.57MiB at  1.02MiB/s ETA 01:033[ffmpeg] Destination: Misteri baki RM1-yyRdpqr45eo.mp3\n",
      "[download]  20.3% of ~54.57MiB at  1.24MiB/s ETA 01:023[youtube] nzxL4rgpUpY: Downloading webpage\n",
      "[download]  21.4% of ~54.61MiB at 1022.73KiB/s ETA 01:01[download] Destination: Pengalaman Lelaki Gila Seks Melanc_p Depan Mata Semasa Travel dan Tips Untuk Perempuan Traveller-nzxL4rgpUpY.webm\n",
      "[download] 100% of 11.61MiB in 00:00.04MiB/s ETA 01:000own ETA\n",
      "[download]  22.8% of ~54.66MiB at 933.01KiB/s ETA 01:00[ffmpeg] Destination: Pengalaman Lelaki Gila Seks Melanc_p Depan Mata Semasa Travel dan Tips Untuk Perempuan Traveller-nzxL4rgpUpY.mp3\n",
      "[download]  28.1% of ~54.78MiB at  1.00MiB/s ETA 00:5668Deleting original file Penyakit WAS-WAS 😥 _ Ustaz Mohd Shaffi-wGY7jUCuU3Y.webm (pass -k to keep)\n"
     ]
    },
    {
     "name": "stderr",
     "output_type": "stream",
     "text": [
      " 56%|█████▋    | 9/16 [11:58<13:38, 116.90s/it]"
     ]
    },
    {
     "name": "stdout",
     "output_type": "stream",
     "text": [
      "[download]  28.8% of ~54.79MiB at 588.59KiB/s ETA 00:56[youtube] fW1sUT-3VMM: Downloading webpage\n",
      "[download]  29.5% of ~54.80MiB at 887.43KiB/s ETA 00:55[download] Destination: Bunuh Kucing Lagi  SlowTalk Podacast #15-fW1sUT-3VMM.webm\n",
      "[download] 100% of 4.05MiB in 00:0036.34KiB/s ETA 00:555\n",
      "[download]  30.2% of ~54.81MiB at 612.22KiB/s ETA 00:55[ffmpeg] Destination: Bunuh Kucing Lagi  SlowTalk Podacast #15-fW1sUT-3VMM.mp3\n",
      "[download]  45.4% of ~54.98MiB at 220.05KiB/s ETA 00:434Deleting original file 210 _ Operasi SARIYYAH 😯 _ Ustaz Auni Mohamed-uZ4KTG1gQoI.m4a (pass -k to keep)\n",
      "[download]  45.5% of ~54.98MiB at 420.32KiB/s ETA 00:43"
     ]
    },
    {
     "name": "stderr",
     "output_type": "stream",
     "text": [
      " 44%|████▍     | 7/16 [12:12<18:16, 121.78s/it]"
     ]
    },
    {
     "name": "stdout",
     "output_type": "stream",
     "text": [
      "[download]  46.4% of ~54.99MiB at 588.67KiB/s ETA 00:42[youtube] 9ITPO6ooNSk: Downloading webpage\n",
      "[download]  47.4% of ~55.00MiB at 218.23KiB/s ETA 00:41[youtube] 9ITPO6ooNSk: Downloading MPD manifest\n",
      "[download]  48.1% of ~55.00MiB at 972.84KiB/s ETA 00:40[dashsegments] Total fragments: 102\n",
      "[download]  48.2% of ~55.00MiB at  1.05MiB/s ETA 00:40[download] Destination: 9 RAHSIA PEKERJA BERGAJI BINA BISNES-9ITPO6ooNSk.webm\n",
      "[download]  25.0% of ~12.16MiB at 570.15KiB/s ETA 00:1368Deleting original file Misteri baki RM1-yyRdpqr45eo.m4a (pass -k to keep)\n",
      "[download]  25.5% of ~12.16MiB at 938.77KiB/s ETA 00:13"
     ]
    },
    {
     "name": "stderr",
     "output_type": "stream",
     "text": [
      " 44%|████▍     | 7/16 [12:18<15:02, 100.31s/it]"
     ]
    },
    {
     "name": "stdout",
     "output_type": "stream",
     "text": [
      "[download]  27.6% of ~12.15MiB at 292.22KiB/s ETA 00:13[youtube] e-eMNNxW3vo: Downloading webpage\n",
      "[download]  31.4% of ~12.14MiB at 197.74KiB/s ETA 00:124[youtube] e-eMNNxW3vo: Downloading MPD manifest\n",
      "[download]  57.2% of ~55.05MiB at 687.28KiB/s ETA 00:333[dashsegments] Total fragments: 173\n",
      "[download]  37.3% of ~12.14MiB at 155.73KiB/s ETA 00:10[download] Destination: PODCAST MELAYU _ INI CARA SARJANA TANPA SKIPSI _ HANGKATE & PAK ENDRI SANOPAKA ( KETUA STISIPOL RH )-e-eMNNxW3vo.m4a\n",
      "[download]   4.8% of ~23.71MiB at 709.07KiB/s ETA 00:28131Deleting original file Dunia kita berapa FPS (Bahagian 1)-n-0KdpNJzHQ.webm (pass -k to keep)\n",
      "[download]  59.2% of ~55.06MiB at 760.75KiB/s ETA 00:31"
     ]
    },
    {
     "name": "stderr",
     "output_type": "stream",
     "text": [
      " 56%|█████▋    | 9/16 [12:22<09:21, 80.16s/it]"
     ]
    },
    {
     "name": "stdout",
     "output_type": "stream",
     "text": [
      "[download]  47.3% of ~12.14MiB at 561.58KiB/s ETA 00:08Deleting original file Bunuh Kucing Lagi  SlowTalk Podacast #15-fW1sUT-3VMM.webm (pass -k to keep)\n",
      "[download]  59.3% of ~55.06MiB at  1.45MiB/s ETA 00:31"
     ]
    },
    {
     "name": "stderr",
     "output_type": "stream",
     "text": [
      " 62%|██████▎   | 10/16 [12:22<08:53, 88.96s/it]"
     ]
    },
    {
     "name": "stdout",
     "output_type": "stream",
     "text": [
      "[download]  51.9% of ~12.14MiB at  2.17MiB/s ETA 00:077[youtube] VdBxCz-Fw_0: Downloading webpage\n",
      "[download]  60.4% of ~55.07MiB at  1.71MiB/s ETA 00:306[youtube] 4jlZgyvBq7c: Downloading webpage\n",
      "[download]   8.9% of ~25.00MiB at 742.84KiB/s ETA 00:26[download] Destination: Buletin Utama Versi #BacaBeritaChallenge (Kumpulan 2)-VdBxCz-Fw_0.m4a\n",
      "[download]  10.6% of ~25.26MiB at 754.81KiB/s ETA 00:256[download] Destination: Viral ! Percutian Pulau Di Malaysia Tapi Naik Bot Macam Pendatang Asing.-4jlZgyvBq7c.webm\n",
      "[download] 100% of 9.14MiB in 00:0088.15KiB/s ETA 00:249\n",
      "[download]  13.3% of ~25.50MiB at  1.39MiB/s ETA 00:238[ffmpeg] Destination: Viral ! Percutian Pulau Di Malaysia Tapi Naik Bot Macam Pendatang Asing.-4jlZgyvBq7c.mp3\n",
      "[download] 100% of 18.04MiB in 00:02.70MiB/s ETA 00:223own ETA\n",
      "[download]  20.3% of ~25.92MiB at 220.77KiB/s ETA 00:22[ffmpeg] Correcting container in \"Buletin Utama Versi #BacaBeritaChallenge (Kumpulan 2)-VdBxCz-Fw_0.m4a\"\n",
      "[download]  84.4% of ~12.13MiB at 198.65KiB/s ETA 00:025[ffmpeg] Destination: Buletin Utama Versi #BacaBeritaChallenge (Kumpulan 2)-VdBxCz-Fw_0.mp3\n",
      "[download] 100% of 12.12MiB in 00:16.42MiB/s ETA 00:2022\n",
      "[download]  32.4% of ~26.19MiB at  1.10MiB/s ETA 00:201[ffmpeg] Destination: 9 RAHSIA PEKERJA BERGAJI BINA BISNES-9ITPO6ooNSk.mp3\n",
      "[download] 100% of 55.04MiB in 01:14.11MiB/s ETA 00:0303\n",
      "[download]  90.8% of ~26.49MiB at 222.12KiB/s ETA 00:03[ffmpeg] Correcting container in \"Tanah Melayu  - Info Penuh Kempen Tanah Melayu Kembali Bertanjak-NKSyshvDHWY.m4a\"\n",
      "[download]  97.7% of ~26.50MiB at 348.25KiB/s ETA 00:00[ffmpeg] Destination: Tanah Melayu  - Info Penuh Kempen Tanah Melayu Kembali Bertanjak-NKSyshvDHWY.mp3\n",
      "[download] 100% of 26.36MiB in 00:346.07KiB/s ETA 00:00\n",
      "[ffmpeg] Correcting container in \"PODCAST MELAYU _ INI CARA SARJANA TANPA SKIPSI _ HANGKATE & PAK ENDRI SANOPAKA ( KETUA STISIPOL RH )-e-eMNNxW3vo.m4a\"\n",
      "[ffmpeg] Destination: PODCAST MELAYU _ INI CARA SARJANA TANPA SKIPSI _ HANGKATE & PAK ENDRI SANOPAKA ( KETUA STISIPOL RH )-e-eMNNxW3vo.mp3\n",
      "Deleting original file Pengalaman Lelaki Gila Seks Melanc_p Depan Mata Semasa Travel dan Tips Untuk Perempuan Traveller-nzxL4rgpUpY.webm (pass -k to keep)\n"
     ]
    },
    {
     "name": "stderr",
     "output_type": "stream",
     "text": [
      " 38%|███▊      | 6/16 [13:09<25:45, 154.54s/it]"
     ]
    },
    {
     "name": "stdout",
     "output_type": "stream",
     "text": [
      "[youtube] 6VAfydhtJGg: Downloading webpage\n",
      "[download] Destination: Pengalaman Di Mekong River Ho Chi Minh Dan Melihat Orang Kupas Kelapa (Part 1)-6VAfydhtJGg.webm\n",
      "[download] 100% of 8.28MiB in 00:0081MiB/s ETA 00:009\n",
      "[ffmpeg] Destination: Pengalaman Di Mekong River Ho Chi Minh Dan Melihat Orang Kupas Kelapa (Part 1)-6VAfydhtJGg.mp3\n",
      "Deleting original file Viral ! Percutian Pulau Di Malaysia Tapi Naik Bot Macam Pendatang Asing.-4jlZgyvBq7c.webm (pass -k to keep)\n"
     ]
    },
    {
     "name": "stderr",
     "output_type": "stream",
     "text": [
      " 62%|██████▎   | 10/16 [13:24<07:28, 74.69s/it]"
     ]
    },
    {
     "name": "stdout",
     "output_type": "stream",
     "text": [
      "[youtube] yRJWsihQ60s: Downloading webpage\n",
      "[download] Destination: Talentime - Movie Review-yRJWsihQ60s.webm\n",
      "[download] 100% of 7.73MiB in 00:0042MiB/s ETA 00:008\n",
      "[ffmpeg] Destination: Talentime - Movie Review-yRJWsihQ60s.mp3\n",
      "Deleting original file Buletin Utama Versi #BacaBeritaChallenge (Kumpulan 2)-VdBxCz-Fw_0.m4a (pass -k to keep)\n"
     ]
    },
    {
     "name": "stderr",
     "output_type": "stream",
     "text": [
      " 69%|██████▉   | 11/16 [13:37<07:03, 84.74s/it]"
     ]
    },
    {
     "name": "stdout",
     "output_type": "stream",
     "text": [
      "[youtube] jCoNNZA8s8c: Downloading webpage\n",
      "[download] Destination: Misteri Permainan Menara Hanoi-jCoNNZA8s8c.webm\n",
      "[download] 100% of 11.89MiB in 00:0094MiB/s ETA 00:002nown ETA\n",
      "[ffmpeg] Destination: Misteri Permainan Menara Hanoi-jCoNNZA8s8c.mp3\n",
      "Deleting original file 9 RAHSIA PEKERJA BERGAJI BINA BISNES-9ITPO6ooNSk.webm (pass -k to keep)\n"
     ]
    },
    {
     "name": "stderr",
     "output_type": "stream",
     "text": [
      " 50%|█████     | 8/16 [14:02<15:47, 118.42s/it]"
     ]
    },
    {
     "name": "stdout",
     "output_type": "stream",
     "text": [
      "[youtube] jW6GYlyus4A: Downloading webpage\n",
      "[download] Destination: Ini Bukti ILMU Berharga Berbanding Pangkat & Harta _ Ustaz Mohd Nazrul Al Azhari-jW6GYlyus4A.m4a\n",
      "[download]  22.8% of 51.86MiB at  8.40MiB/s ETA 00:041nown ETADeleting original file Pengalaman Di Mekong River Ho Chi Minh Dan Melihat Orang Kupas Kelapa (Part 1)-6VAfydhtJGg.webm (pass -k to keep)\n"
     ]
    },
    {
     "name": "stderr",
     "output_type": "stream",
     "text": [
      " 44%|████▍     | 7/16 [14:05<18:45, 125.10s/it]"
     ]
    },
    {
     "name": "stdout",
     "output_type": "stream",
     "text": [
      "[download]  26.7% of 51.86MiB at  6.74MiB/s ETA 00:05[youtube] sSWZVKSsIlU: Downloading webpage\n",
      "[download]  38.3% of 51.86MiB at  1.68MiB/s ETA 00:195nown ETA[download] Destination: Pengalaman Di Peluk Gadis Afrika Semasa Travel-sSWZVKSsIlU.m4a\n",
      "[download] 100% of 10.01MiB in 00:0067MiB/s ETA 00:000nown ETA\n",
      "[download]  53.2% of 51.86MiB at  6.21MiB/s ETA 00:03[ffmpeg] Correcting container in \"Pengalaman Di Peluk Gadis Afrika Semasa Travel-sSWZVKSsIlU.m4a\"\n",
      "[download]  57.1% of 51.86MiB at  2.69MiB/s ETA 00:084nown ETA[ffmpeg] Destination: Pengalaman Di Peluk Gadis Afrika Semasa Travel-sSWZVKSsIlU.mp3\n",
      "[download]  58.1% of 51.86MiB at  1.51MiB/s ETA 00:14Deleting original file Contoh Terbaik Orang Yang CERDIK _ Syeikh Muhd Zainul Asri-INq9ouq6EJc.webm (pass -k to keep)\n"
     ]
    },
    {
     "name": "stderr",
     "output_type": "stream",
     "text": [
      " 44%|████▍     | 7/16 [14:16<23:36, 157.37s/it]"
     ]
    },
    {
     "name": "stdout",
     "output_type": "stream",
     "text": [
      "[youtube] gYpA-GwuMco: Downloading webpage\n",
      "[download]  75.3% of 51.86MiB at  1.54MiB/s ETA 00:084nown ETA[download] Destination: Episod Penuh Bing _ 35+ Minit _ Eps 36-40 _ Bing Bahasa Melayu-gYpA-GwuMco.webm\n",
      "[download]  61.7% of 31.76MiB at 182.73KiB/s ETA 01:08nown ETADeleting original file Satu Surah, Kisah Tiga RASUL _ Ustaz Halim Nasir-qDNwTIZlJRo.m4a (pass -k to keep)\n",
      "[download]  61.7% of 31.76MiB at 297.37KiB/s ETA 00:41"
     ]
    },
    {
     "name": "stderr",
     "output_type": "stream",
     "text": [
      " 31%|███▏      | 5/16 [14:19<31:34, 172.18s/it]"
     ]
    },
    {
     "name": "stdout",
     "output_type": "stream",
     "text": [
      "[download]  92.3% of 31.76MiB at 559.43KiB/s ETA 00:04nown ETA[youtube] NPwVuX5T-fU: Downloading webpage\n",
      "[download] 100% of 31.76MiB in 00:0105MiB/s ETA 00:002\n",
      "[download]  94.0% of 51.86MiB at  4.98MiB/s ETA 00:00[ffmpeg] Destination: Episod Penuh Bing _ 35+ Minit _ Eps 36-40 _ Bing Bahasa Melayu-gYpA-GwuMco.mp3\n",
      "[download] 100% of 51.86MiB in 00:1690MiB/s ETA 00:0003own ETA\n",
      "[ffmpeg] Correcting container in \"Ini Bukti ILMU Berharga Berbanding Pangkat & Harta _ Ustaz Mohd Nazrul Al Azhari-jW6GYlyus4A.m4a\"\n",
      "[ffmpeg] Destination: Ini Bukti ILMU Berharga Berbanding Pangkat & Harta _ Ustaz Mohd Nazrul Al Azhari-jW6GYlyus4A.mp3\n"
     ]
    },
    {
     "name": "stderr",
     "output_type": "stream",
     "text": [
      "ERROR: NPwVuX5T-fU: YouTube said: Unable to extract video data\n",
      " 38%|███▊      | 6/16 [14:25<20:21, 122.18s/it]"
     ]
    },
    {
     "name": "stdout",
     "output_type": "stream",
     "text": [
      "[youtube] WKi6VUFzjuo: Downloading webpage\n",
      "Deleting original file Talentime - Movie Review-yRJWsihQ60s.webm (pass -k to keep)\n"
     ]
    },
    {
     "name": "stderr",
     "output_type": "stream",
     "text": [
      " 69%|██████▉   | 11/16 [14:26<05:54, 70.98s/it]"
     ]
    },
    {
     "name": "stdout",
     "output_type": "stream",
     "text": [
      "[download] Destination: Pengalaman Pertama Kali Tidur Dalam Kereta Api Dari Malaysia Ke Thailand-WKi6VUFzjuo.m4a\n",
      "[download]  38.5% of 10.40MiB at 13.94MiB/s ETA 00:001[youtube] 2naYfcudqss: Downloading webpage\n",
      "[download] 100% of 10.40MiB in 00:0090MiB/s ETA 00:000nown ETA\n",
      "[ffmpeg] Correcting container in \"Pengalaman Pertama Kali Tidur Dalam Kereta Api Dari Malaysia Ke Thailand-WKi6VUFzjuo.m4a\"\n",
      "[download] Destination: 5 Benda Lagi Laju daripada Cahaya!-2naYfcudqss.webm\n",
      "[download] 100% of 13.22MiB in 00:0000MiB/s ETA 00:004nown ETA\n",
      "[ffmpeg] Destination: Pengalaman Pertama Kali Tidur Dalam Kereta Api Dari Malaysia Ke Thailand-WKi6VUFzjuo.mp3\n",
      "[ffmpeg] Destination: 5 Benda Lagi Laju daripada Cahaya!-2naYfcudqss.mp3\n",
      "Deleting original file PODCAST MELAYU _ INI CARA SARJANA TANPA SKIPSI _ HANGKATE & PAK ENDRI SANOPAKA ( KETUA STISIPOL RH )-e-eMNNxW3vo.m4a (pass -k to keep)\n"
     ]
    },
    {
     "name": "stderr",
     "output_type": "stream",
     "text": [
      " 50%|█████     | 8/16 [14:40<15:01, 112.70s/it]"
     ]
    },
    {
     "name": "stdout",
     "output_type": "stream",
     "text": [
      "[youtube] Ktf542-Jeac: Downloading webpage\n",
      "[download] Destination: Fakta - fakta Sejarah yang Rosakkan Tanggapan Masa Kita-Ktf542-Jeac.webm\n",
      "[download] 100% of 8.09MiB in 00:0066MiB/s ETA 00:000\n",
      "[ffmpeg] Destination: Fakta - fakta Sejarah yang Rosakkan Tanggapan Masa Kita-Ktf542-Jeac.mp3\n",
      "Deleting original file Pengalaman Di Peluk Gadis Afrika Semasa Travel-sSWZVKSsIlU.m4a (pass -k to keep)\n"
     ]
    },
    {
     "name": "stderr",
     "output_type": "stream",
     "text": [
      " 50%|█████     | 8/16 [14:57<13:46, 103.25s/it]"
     ]
    },
    {
     "name": "stdout",
     "output_type": "stream",
     "text": [
      "[youtube] O4mJ_Fufp0o: Downloading webpage\n",
      "[youtube] O4mJ_Fufp0o: Downloading MPD manifest\n",
      "Deleting original file Misteri Permainan Menara Hanoi-jCoNNZA8s8c.webm (pass -k to keep)\n"
     ]
    },
    {
     "name": "stderr",
     "output_type": "stream",
     "text": [
      " 75%|███████▌  | 12/16 [15:00<05:36, 84.23s/it]"
     ]
    },
    {
     "name": "stdout",
     "output_type": "stream",
     "text": [
      "[dashsegments] Total fragments: 544\n",
      "[download] Destination: KULIAH 1 JAM - Rahsia Mencari Haluan Hidup Ke Arah Kejayaan-O4mJ_Fufp0o.webm\n",
      "[download]   0.0% of ~31.84MiB at 223.59KiB/s ETA 14:35:4640[youtube] XJTfe7fVaGc: Downloading webpage\n",
      "[download]   1.1% of ~56.05MiB at 271.08KiB/s ETA 02:06[download] Destination: Kenapa Hashtag Rakyat Jaga Rakyat Trending Rakyat Meluat Dengan Double Standard Politik.-XJTfe7fVaGc.webm\n",
      "[download] 100% of 6.16MiB in 00:0027.79KiB/s ETA 01:58\n",
      "[download]   1.7% of ~62.11MiB at 395.42KiB/s ETA 01:55[ffmpeg] Destination: Kenapa Hashtag Rakyat Jaga Rakyat Trending Rakyat Meluat Dengan Double Standard Politik.-XJTfe7fVaGc.mp3\n",
      "[download]  18.0% of ~75.81MiB at  1.11MiB/s ETA 01:3677Deleting original file Pengalaman Pertama Kali Tidur Dalam Kereta Api Dari Malaysia Ke Thailand-WKi6VUFzjuo.m4a (pass -k to keep)\n"
     ]
    },
    {
     "name": "stderr",
     "output_type": "stream",
     "text": [
      " 44%|████▍     | 7/16 [15:21<15:22, 102.45s/it]"
     ]
    },
    {
     "name": "stdout",
     "output_type": "stream",
     "text": [
      "[download]  18.4% of ~75.86MiB at 332.06KiB/s ETA 01:36[youtube] i7liW-7TTOI: Downloading webpage\n",
      "[download]  19.1% of ~75.92MiB at 169.25KiB/s ETA 01:356[download] Destination: VEVEONAH PENIPU-i7liW-7TTOI.webm\n",
      "[download] 100% of 10.52MiB in 00:0096MiB/s ETA 00:0034own ETA\n",
      "[download]  20.1% of ~75.80MiB at 599.26KiB/s ETA 01:344[ffmpeg] Destination: VEVEONAH PENIPU-i7liW-7TTOI.mp3\n",
      "[download]  25.4% of ~75.33MiB at 338.27KiB/s ETA 01:279Deleting original file Sesi 3  - Rahsia Roh Menggerakkan Kita-glR3xP2HTS0.webm (pass -k to keep)\n",
      "[download]  25.4% of ~75.33MiB at 526.35KiB/s ETA 01:27"
     ]
    },
    {
     "name": "stderr",
     "output_type": "stream",
     "text": [
      " 19%|█▉        | 3/16 [15:30<1:01:29, 283.83s/it]"
     ]
    },
    {
     "name": "stdout",
     "output_type": "stream",
     "text": [
      "[download]  25.7% of ~75.31MiB at 128.95KiB/s ETA 01:27[youtube] 4ZiC_Tg6hmU: Downloading webpage\n",
      "[download]  26.5% of ~75.24MiB at 128.92KiB/s ETA 01:266[download] Destination: Sofyank aka Zach King Malaysia _ Malam Jumaat _ Fify & Hydar-4ZiC_Tg6hmU.webm\n",
      "[download] 100% of 32.17MiB in 00:012.90KiB/s ETA 01:24own ETA\n",
      "[download]  28.1% of ~75.21MiB at 198.51KiB/s ETA 01:23[ffmpeg] Destination: Sofyank aka Zach King Malaysia _ Malam Jumaat _ Fify & Hydar-4ZiC_Tg6hmU.mp3\n",
      "[download]  33.1% of ~74.98MiB at 217.19KiB/s ETA 01:180Deleting original file Fakta - fakta Sejarah yang Rosakkan Tanggapan Masa Kita-Ktf542-Jeac.webm (pass -k to keep)\n",
      "[download]  33.2% of ~74.98MiB at 325.66KiB/s ETA 01:18"
     ]
    },
    {
     "name": "stderr",
     "output_type": "stream",
     "text": [
      " 56%|█████▋    | 9/16 [15:39<11:15, 96.49s/it] "
     ]
    },
    {
     "name": "stdout",
     "output_type": "stream",
     "text": [
      "[download]  33.7% of ~74.95MiB at 572.72KiB/s ETA 01:177[youtube] F7Zp1yMq2UM: Downloading webpage\n",
      "[download]  34.7% of ~75.11MiB at  1.05MiB/s ETA 01:155[download] Destination: Paradoks Cermin Infiniti-F7Zp1yMq2UM.m4a\n",
      "[download] 100% of 4.27MiB in 00:0015.39KiB/s ETA 01:155\n",
      "[download]  35.5% of ~75.07MiB at 898.22KiB/s ETA 01:145[ffmpeg] Correcting container in \"Paradoks Cermin Infiniti-F7Zp1yMq2UM.m4a\"\n",
      "[download]  36.1% of ~75.06MiB at 240.10KiB/s ETA 01:14[ffmpeg] Destination: Paradoks Cermin Infiniti-F7Zp1yMq2UM.mp3\n",
      "[download]  40.1% of ~74.88MiB at 253.39KiB/s ETA 01:091Deleting original file Kenapa Hashtag Rakyat Jaga Rakyat Trending Rakyat Meluat Dengan Double Standard Politik.-XJTfe7fVaGc.webm (pass -k to keep)\n",
      "[download]  40.1% of ~74.88MiB at 362.72KiB/s ETA 01:09"
     ]
    },
    {
     "name": "stderr",
     "output_type": "stream",
     "text": [
      " 81%|████████▏ | 13/16 [15:46<03:38, 72.95s/it]"
     ]
    },
    {
     "name": "stdout",
     "output_type": "stream",
     "text": [
      "[download]  40.6% of ~74.83MiB at 882.32KiB/s ETA 01:089[youtube] NB4UnmMFsUE: Downloading webpage\n",
      "[download]  41.7% of ~74.80MiB at  1.01MiB/s ETA 01:0777[download] Destination: Mulakan Pendidikan Dengan AL-QURAN 👍 _ Ustaz Mohd Nazrul Al Azhari-NB4UnmMFsUE.m4a\n",
      "[download]  66.6% of 14.99MiB at  1.20MiB/s ETA 00:04066wn ETADeleting original file 5 Benda Lagi Laju daripada Cahaya!-2naYfcudqss.webm (pass -k to keep)\n",
      "[download]  43.0% of ~74.85MiB at  1.29MiB/s ETA 01:05"
     ]
    },
    {
     "name": "stderr",
     "output_type": "stream",
     "text": [
      " 75%|███████▌  | 12/16 [15:50<04:59, 74.76s/it]"
     ]
    },
    {
     "name": "stdout",
     "output_type": "stream",
     "text": [
      "[download]  43.4% of ~74.86MiB at 390.82KiB/s ETA 01:055[youtube] uPruQ1sr3o8: Downloading webpage\n",
      "[download] 100% of 14.99MiB in 00:02.36MiB/s ETA 01:045\n",
      "[download]  44.1% of ~74.87MiB at  1.00MiB/s ETA 01:044[ffmpeg] Correcting container in \"Mulakan Pendidikan Dengan AL-QURAN 👍 _ Ustaz Mohd Nazrul Al Azhari-NB4UnmMFsUE.m4a\"\n",
      "[download]  44.5% of ~74.85MiB at 951.41KiB/s ETA 01:044[download] Destination: Pulau Kucing Di Jepun, Impian Pecinta Kucing-uPruQ1sr3o8.webm\n",
      "[download] 100% of 10.96MiB in 00:005.04KiB/s ETA 01:03own ETA\n",
      "[ffmpeg] Destination: Mulakan Pendidikan Dengan AL-QURAN 👍 _ Ustaz Mohd Nazrul Al Azhari-NB4UnmMFsUE.mp3\n",
      "[download]  45.2% of ~74.81MiB at 857.80KiB/s ETA 01:03[ffmpeg] Destination: Pulau Kucing Di Jepun, Impian Pecinta Kucing-uPruQ1sr3o8.mp3\n",
      "[download]  54.6% of ~74.63MiB at 223.77KiB/s ETA 00:523Deleting original file Paradoks Cermin Infiniti-F7Zp1yMq2UM.m4a (pass -k to keep)\n",
      "[download]  54.7% of ~74.63MiB at 524.39KiB/s ETA 00:52"
     ]
    },
    {
     "name": "stderr",
     "output_type": "stream",
     "text": [
      " 62%|██████▎   | 10/16 [16:03<07:30, 75.01s/it]"
     ]
    },
    {
     "name": "stdout",
     "output_type": "stream",
     "text": [
      "[download]  55.1% of ~74.66MiB at 916.53KiB/s ETA 00:522[youtube] N3tDIGVt9d8: Downloading webpage\n",
      "[download]  55.9% of ~74.64MiB at 966.12KiB/s ETA 00:51[download] Destination: Adab Seorang ALIM Dengan Dirinya _ Ustaz Mohd Nazrul Al Azhari-N3tDIGVt9d8.m4a\n",
      "[download] 100% of 52.79MiB in 00:029.65KiB/s ETA 00:48own ETA\n",
      "[download]  58.5% of ~74.70MiB at 357.70KiB/s ETA 00:48[ffmpeg] Correcting container in \"Adab Seorang ALIM Dengan Dirinya _ Ustaz Mohd Nazrul Al Azhari-N3tDIGVt9d8.m4a\"\n",
      "[download]  60.9% of ~74.69MiB at 497.79KiB/s ETA 00:455[ffmpeg] Destination: Adab Seorang ALIM Dengan Dirinya _ Ustaz Mohd Nazrul Al Azhari-N3tDIGVt9d8.mp3\n",
      "[download]  69.2% of ~74.62MiB at 544.48KiB/s ETA 00:356Deleting original file Tanah Melayu  - Info Penuh Kempen Tanah Melayu Kembali Bertanjak-NKSyshvDHWY.m4a (pass -k to keep)\n",
      "[download]  69.3% of ~74.62MiB at 868.45KiB/s ETA 00:35"
     ]
    },
    {
     "name": "stderr",
     "output_type": "stream",
     "text": [
      " 44%|████▍     | 7/16 [16:20<27:14, 181.63s/it]"
     ]
    },
    {
     "name": "stdout",
     "output_type": "stream",
     "text": [
      "[download]  69.7% of ~74.56MiB at 118.28KiB/s ETA 00:35[youtube] I9eEz2OvI0E: Downloading webpage\n",
      "[download]  70.6% of ~74.55MiB at 221.62KiB/s ETA 00:34[download] Destination: Rakyat Malaysia Tiada Simpanan  SlowTalk Podcast #09-I9eEz2OvI0E.webm\n",
      "[download] 100% of 6.02MiB in 00:0091MiB/s ETA 00:00:33\n",
      "[download]  71.3% of ~74.56MiB at  1.01MiB/s ETA 00:333[ffmpeg] Destination: Rakyat Malaysia Tiada Simpanan  SlowTalk Podcast #09-I9eEz2OvI0E.mp3\n",
      "[download]  83.3% of ~74.42MiB at 856.37KiB/s ETA 00:191Deleting original file VEVEONAH PENIPU-i7liW-7TTOI.webm (pass -k to keep)\n",
      "[download]  83.3% of ~74.42MiB at 856.37KiB/s ETA 00:19"
     ]
    },
    {
     "name": "stderr",
     "output_type": "stream",
     "text": [
      " 50%|█████     | 8/16 [16:37<12:35, 94.41s/it] "
     ]
    },
    {
     "name": "stdout",
     "output_type": "stream",
     "text": [
      "[download]  83.5% of ~74.43MiB at 211.03KiB/s ETA 00:19[youtube] PXuIhQevtqM: Downloading webpage\n",
      "[download]  84.4% of ~74.44MiB at 827.98KiB/s ETA 00:188[download] Destination: Apa Pandangan Kamu 😮 _ Ustaz Auni Mohamed-PXuIhQevtqM.m4a\n",
      "[download] 100% of 12.02MiB in 00:005.33KiB/s ETA 00:177wn ETA\n",
      "[download]  85.3% of ~74.41MiB at 330.28KiB/s ETA 00:17[ffmpeg] Correcting container in \"Apa Pandangan Kamu 😮 _ Ustaz Auni Mohamed-PXuIhQevtqM.m4a\"\n",
      "[download]  86.1% of ~74.42MiB at 356.86KiB/s ETA 00:166[ffmpeg] Destination: Apa Pandangan Kamu 😮 _ Ustaz Auni Mohamed-PXuIhQevtqM.mp3\n",
      "[download]  95.2% of ~74.42MiB at 117.86KiB/s ETA 00:055Deleting original file Mulakan Pendidikan Dengan AL-QURAN 👍 _ Ustaz Mohd Nazrul Al Azhari-NB4UnmMFsUE.m4a (pass -k to keep)\n"
     ]
    },
    {
     "name": "stderr",
     "output_type": "stream",
     "text": [
      " 88%|████████▊ | 14/16 [16:51<02:20, 70.47s/it]"
     ]
    },
    {
     "name": "stdout",
     "output_type": "stream",
     "text": [
      "[download]  95.8% of ~74.44MiB at 902.41KiB/s ETA 00:045[youtube] 038_W7kvhI0: Downloading webpage\n",
      "[download]  96.9% of ~74.53MiB at 156.77KiB/s ETA 00:03[download] Destination: Jalan Masuk Ke SYURGA _ Ustaz Halim Nasir-038_W7kvhI0.m4a\n",
      "[download]  98.2% of ~74.56MiB at 289.52KiB/s ETA 00:02own ETADeleting original file Rakyat Malaysia Tiada Simpanan  SlowTalk Podcast #09-I9eEz2OvI0E.webm (pass -k to keep)\n",
      "[download]  98.2% of ~74.56MiB at 749.05KiB/s ETA 00:02"
     ]
    },
    {
     "name": "stderr",
     "output_type": "stream",
     "text": [
      " 50%|█████     | 8/16 [16:54<18:19, 137.39s/it]"
     ]
    },
    {
     "name": "stdout",
     "output_type": "stream",
     "text": [
      "[download]  69.8% of 55.39MiB at 676.72KiB/s ETA 00:251own ETA[youtube] 6XVf5bmw_PU: Downloading webpage\n",
      "[download] 100% of 55.39MiB in 00:039.85KiB/s ETA 00:00own ETA\n",
      "[download]  99.7% of ~74.56MiB at 336.86KiB/s ETA 00:00[download] Destination: Kepala Telur _ Episod Penuh Bing _ Bing Bahasa Melayu-6XVf5bmw_PU.webm\n",
      "[download]  99.7% of ~74.56MiB at 592.18KiB/s ETA 00:00[ffmpeg] Correcting container in \"Jalan Masuk Ke SYURGA _ Ustaz Halim Nasir-038_W7kvhI0.m4a\"\n",
      "[download] 100% of 74.52MiB in 01:568MiB/s ETA 00:01000\n",
      "[download] 100% of 6.67MiB in 00:0029MiB/s ETA 00:00\n",
      "[ffmpeg] Destination: KULIAH 1 JAM - Rahsia Mencari Haluan Hidup Ke Arah Kejayaan-O4mJ_Fufp0o.mp3\n",
      "[ffmpeg] Destination: Kepala Telur _ Episod Penuh Bing _ Bing Bahasa Melayu-6XVf5bmw_PU.mp3\n",
      "Deleting original file KULIAH 1 JAM - Nak Ubah Hidup, Kena Bermula Dengan Mengenali Diri-_9ZBUQjJfMI.webm (pass -k to keep)\n"
     ]
    },
    {
     "name": "stderr",
     "output_type": "stream",
     "text": [
      " 44%|████▍     | 7/16 [16:57<28:42, 191.34s/it]"
     ]
    },
    {
     "name": "stdout",
     "output_type": "stream",
     "text": [
      "[youtube] QSWRFVfc55k: Downloading webpage\n",
      "[ffmpeg] Destination: Jalan Masuk Ke SYURGA _ Ustaz Halim Nasir-038_W7kvhI0.mp3\n",
      "[download] Destination: Kamu Bukan Ahli, JANGAN Memandai-Mandai 😒 _ Ustaz Mohd Nazrul Al Azhari-QSWRFVfc55k.m4a\n",
      "[download] 100% of 62.50MiB in 00:0324MiB/s ETA 00:004nown ETA\n",
      "[ffmpeg] Correcting container in \"Kamu Bukan Ahli, JANGAN Memandai-Mandai 😒 _ Ustaz Mohd Nazrul Al Azhari-QSWRFVfc55k.m4a\"\n",
      "Deleting original file Pulau Kucing Di Jepun, Impian Pecinta Kucing-uPruQ1sr3o8.webm (pass -k to keep)\n"
     ]
    },
    {
     "name": "stderr",
     "output_type": "stream",
     "text": [
      " 81%|████████▏ | 13/16 [17:04<03:43, 74.61s/it]"
     ]
    },
    {
     "name": "stdout",
     "output_type": "stream",
     "text": [
      "[youtube] aHYimafirpg: Downloading webpage\n",
      "[ffmpeg] Destination: Kamu Bukan Ahli, JANGAN Memandai-Mandai 😒 _ Ustaz Mohd Nazrul Al Azhari-QSWRFVfc55k.mp3\n",
      "[download] Destination: Ini Golongan Yang Dimurkai ALLAH _ Ustaz Mohd Aslam-aHYimafirpg.m4a\n",
      "[download] 100% of 45.01MiB in 00:0800MiB/s ETA 00:006nown ETA\n",
      "[ffmpeg] Correcting container in \"Ini Golongan Yang Dimurkai ALLAH _ Ustaz Mohd Aslam-aHYimafirpg.m4a\"\n",
      "Deleting original file Sesi 1  - Rahsia Minda, Fikiran, Akal dan Sedar-6f-8js73O1k.webm (pass -k to keep)\n"
     ]
    },
    {
     "name": "stderr",
     "output_type": "stream",
     "text": [
      " 19%|█▉        | 3/16 [17:17<1:08:07, 314.44s/it]"
     ]
    },
    {
     "name": "stdout",
     "output_type": "stream",
     "text": [
      "[ffmpeg] Destination: Ini Golongan Yang Dimurkai ALLAH _ Ustaz Mohd Aslam-aHYimafirpg.mp3\n",
      "[youtube] fQyh4O6Hp_E: Downloading webpage\n",
      "[download] Destination: Gaduh Dengan Perempuan _ SlowTalk Podcast #17-fQyh4O6Hp_E.webm\n",
      "[download] 100% of 4.42MiB in 00:0003MiB/s ETA 00:006\n",
      "[ffmpeg] Destination: Gaduh Dengan Perempuan _ SlowTalk Podcast #17-fQyh4O6Hp_E.mp3\n",
      "Deleting original file Apa Pandangan Kamu 😮 _ Ustaz Auni Mohamed-PXuIhQevtqM.m4a (pass -k to keep)\n"
     ]
    },
    {
     "name": "stderr",
     "output_type": "stream",
     "text": [
      " 56%|█████▋    | 9/16 [17:28<09:30, 81.56s/it]"
     ]
    },
    {
     "name": "stdout",
     "output_type": "stream",
     "text": [
      "[youtube] hXDFROt0dFI: Downloading webpage\n",
      "[download] Destination: Kisah Benar! Diganggu Balan-Balan(Penanggal) Semasa Solo camping Di Kudat Sabah.-hXDFROt0dFI.webm\n",
      "[download] 100% of 10.00MiB in 00:0066MiB/s ETA 00:000nown ETA\n",
      "[ffmpeg] Destination: Kisah Benar! Diganggu Balan-Balan(Penanggal) Semasa Solo camping Di Kudat Sabah.-hXDFROt0dFI.mp3\n",
      "Deleting original file Kepala Telur _ Episod Penuh Bing _ Bing Bahasa Melayu-6XVf5bmw_PU.webm (pass -k to keep)\n"
     ]
    },
    {
     "name": "stderr",
     "output_type": "stream",
     "text": [
      " 56%|█████▋    | 9/16 [17:40<12:50, 110.03s/it]"
     ]
    },
    {
     "name": "stdout",
     "output_type": "stream",
     "text": [
      "[youtube] opAw8b75NQM: Downloading webpage\n",
      "[download] Destination: Troll Paling Best.-opAw8b75NQM.webm\n",
      "[download] 100% of 11.06MiB in 00:0002MiB/s ETA 00:0000own ETA\n",
      "[ffmpeg] Destination: Troll Paling Best.-opAw8b75NQM.mp3\n",
      "Deleting original file Ini Bukti ILMU Berharga Berbanding Pangkat & Harta _ Ustaz Mohd Nazrul Al Azhari-jW6GYlyus4A.m4a (pass -k to keep)\n"
     ]
    },
    {
     "name": "stderr",
     "output_type": "stream",
     "text": [
      " 56%|█████▋    | 9/16 [17:44<17:25, 149.37s/it]"
     ]
    },
    {
     "name": "stdout",
     "output_type": "stream",
     "text": [
      "[youtube] 4DCkzN-pdyw: Downloading webpage\n",
      "Deleting original file Gaduh Dengan Perempuan _ SlowTalk Podcast #17-fQyh4O6Hp_E.webm (pass -k to keep)\n"
     ]
    },
    {
     "name": "stderr",
     "output_type": "stream",
     "text": [
      " 25%|██▌       | 4/16 [17:45<45:39, 228.30s/it]  "
     ]
    },
    {
     "name": "stdout",
     "output_type": "stream",
     "text": [
      "[youtube] 0ZKxMaNusTA: Downloading webpage\n",
      "[download] Destination: Kebakaran Kedua Hospital Sultanah Aminah _ SlowTalk Podcast #12-4DCkzN-pdyw.webm\n",
      "[download] 100% of 6.13MiB in 00:0036MiB/s ETA 00:008\n",
      "[download] Destination: 65 _ Wahai Anak, Allah Akan Menguji Kamu ! _ Ustaz Wadi Annuar-0ZKxMaNusTA.webm\n",
      "[download]   0.0% of 57.33MiB at 112.05KiB/s ETA 08:44[ffmpeg] Destination: Kebakaran Kedua Hospital Sultanah Aminah _ SlowTalk Podcast #12-4DCkzN-pdyw.mp3\n",
      "[download]  71.2% of 57.33MiB at  9.05MiB/s ETA 00:019nown ETADeleting original file Episod Penuh Bing _ 35+ Minit _ Eps 36-40 _ Bing Bahasa Melayu-gYpA-GwuMco.webm (pass -k to keep)\n"
     ]
    },
    {
     "name": "stderr",
     "output_type": "stream",
     "text": [
      " 50%|█████     | 8/16 [17:48<23:09, 173.75s/it]"
     ]
    },
    {
     "name": "stdout",
     "output_type": "stream",
     "text": [
      "[download]  86.3% of 57.33MiB at  5.23MiB/s ETA 00:019nown ETA[youtube] uLcd4-qE-FQ: Downloading webpage\n",
      "[download] 100% of 57.33MiB in 00:0355MiB/s ETA 00:00\n",
      "[ffmpeg] Destination: 65 _ Wahai Anak, Allah Akan Menguji Kamu ! _ Ustaz Wadi Annuar-0ZKxMaNusTA.mp3\n",
      "[download] Destination: MLATS #4 _ Cabar Buktikan 2+2 BUKAN 5-uLcd4-qE-FQ.webm\n",
      "[download] 100% of 8.61MiB in 00:0196MiB/s ETA 00:001\n",
      "[ffmpeg] Destination: MLATS #4 _ Cabar Buktikan 2+2 BUKAN 5-uLcd4-qE-FQ.mp3\n",
      "Deleting original file Kebakaran Kedua Hospital Sultanah Aminah _ SlowTalk Podcast #12-4DCkzN-pdyw.webm (pass -k to keep)\n"
     ]
    },
    {
     "name": "stderr",
     "output_type": "stream",
     "text": [
      " 62%|██████▎   | 10/16 [18:20<11:32, 115.48s/it]"
     ]
    },
    {
     "name": "stdout",
     "output_type": "stream",
     "text": [
      "[youtube] uq8eKjAy0us: Downloading webpage\n",
      "[download] Destination: Kenangan Pahit, Basikal round Malaysia Panjat Cameron Highland, Bagi RM10k Pun Aku Tak Nak Buat Lagi-uq8eKjAy0us.webm\n",
      "[download] 100% of 9.76MiB in 00:00.06KiB/s ETA 00:00nown ETA\n",
      "[ffmpeg] Destination: Kenangan Pahit, Basikal round Malaysia Panjat Cameron Highland, Bagi RM10k Pun Aku Tak Nak Buat Lagi-uq8eKjAy0us.mp3\n",
      "Deleting original file Sofyank aka Zach King Malaysia _ Malam Jumaat _ Fify & Hydar-4ZiC_Tg6hmU.webm (pass -k to keep)\n"
     ]
    },
    {
     "name": "stderr",
     "output_type": "stream",
     "text": [
      " 25%|██▌       | 4/16 [18:37<50:59, 254.98s/it]  "
     ]
    },
    {
     "name": "stdout",
     "output_type": "stream",
     "text": [
      "[youtube] BWU8IJBEjTk: Downloading webpage\n",
      "[download] Destination: ZHAF BERSEMUKA DGN TOK AYAH NAMRON!-BWU8IJBEjTk.m4a\n",
      "[download] 100% of 24.01MiB in 00:0135MiB/s ETA 00:0004own ETA\n",
      "[ffmpeg] Correcting container in \"ZHAF BERSEMUKA DGN TOK AYAH NAMRON!-BWU8IJBEjTk.m4a\"\n",
      "Deleting original file Kisah Benar! Diganggu Balan-Balan(Penanggal) Semasa Solo camping Di Kudat Sabah.-hXDFROt0dFI.webm (pass -k to keep)\n"
     ]
    },
    {
     "name": "stderr",
     "output_type": "stream",
     "text": [
      " 62%|██████▎   | 10/16 [18:42<07:54, 79.06s/it]"
     ]
    },
    {
     "name": "stdout",
     "output_type": "stream",
     "text": [
      "[youtube] Xwhd8aOFafs: Downloading webpage\n",
      "[ffmpeg] Destination: ZHAF BERSEMUKA DGN TOK AYAH NAMRON!-BWU8IJBEjTk.mp3\n",
      "[download] Destination: Buletin Utama Versi #BacaBeritaChallenge (Kumpulan 1)-Xwhd8aOFafs.m4a\n",
      "[download] 100% of 18.90MiB in 00:0150MiB/s ETA 00:002nown ETA\n",
      "[ffmpeg] Correcting container in \"Buletin Utama Versi #BacaBeritaChallenge (Kumpulan 1)-Xwhd8aOFafs.m4a\"\n",
      "[ffmpeg] Destination: Buletin Utama Versi #BacaBeritaChallenge (Kumpulan 1)-Xwhd8aOFafs.mp3\n",
      "Deleting original file MLATS #4 _ Cabar Buktikan 2+2 BUKAN 5-uLcd4-qE-FQ.webm (pass -k to keep)\n"
     ]
    },
    {
     "name": "stderr",
     "output_type": "stream",
     "text": [
      " 56%|█████▋    | 9/16 [18:50<16:22, 140.30s/it]"
     ]
    },
    {
     "name": "stdout",
     "output_type": "stream",
     "text": [
      "[youtube] a34vZ2fwa4o: Downloading webpage\n",
      "[download] Destination: Pengalaman Kena Pow Dengan Immigration Laos Dan Tersangkut di Sempadan Cambodia-Laos-a34vZ2fwa4o.m4a\n",
      "[download] 100% of 13.05MiB in 00:0080MiB/s ETA 00:003nown ETA\n",
      "Deleting original file Troll Paling Best.-opAw8b75NQM.webm (pass -k to keep)\n",
      "[ffmpeg] Correcting container in \"Pengalaman Kena Pow Dengan Immigration Laos Dan Tersangkut di Sempadan Cambodia-Laos-a34vZ2fwa4o.m4a\"\n"
     ]
    },
    {
     "name": "stderr",
     "output_type": "stream",
     "text": [
      " 62%|██████▎   | 10/16 [18:53<09:53, 98.91s/it]"
     ]
    },
    {
     "name": "stdout",
     "output_type": "stream",
     "text": [
      "[youtube] l-NmUn-FLLI: Downloading webpage\n",
      "[ffmpeg] Destination: Pengalaman Kena Pow Dengan Immigration Laos Dan Tersangkut di Sempadan Cambodia-Laos-a34vZ2fwa4o.mp3\n",
      "[download] Destination: Tesla Tak Bagos  SlowTalk Podcast #03-l-NmUn-FLLI.webm\n",
      "[download] 100% of 17.22MiB in 00:0182MiB/s ETA 00:008nown ETA\n",
      "[ffmpeg] Destination: Tesla Tak Bagos  SlowTalk Podcast #03-l-NmUn-FLLI.mp3\n",
      "Deleting original file Kenangan Pahit, Basikal round Malaysia Panjat Cameron Highland, Bagi RM10k Pun Aku Tak Nak Buat Lagi-uq8eKjAy0us.webm (pass -k to keep)\n"
     ]
    },
    {
     "name": "stderr",
     "output_type": "stream",
     "text": [
      " 69%|██████▉   | 11/16 [19:34<08:34, 102.82s/it]"
     ]
    },
    {
     "name": "stdout",
     "output_type": "stream",
     "text": [
      "[youtube] BoX_hMvaXWM: Downloading webpage\n",
      "[download] Destination: Episod 3  - Makan Testis Telur Burung Unta Afrika-BoX_hMvaXWM.webm\n",
      "[download] 100% of 7.70MiB in 00:0025MiB/s ETA 00:009\n",
      "[ffmpeg] Destination: Episod 3  - Makan Testis Telur Burung Unta Afrika-BoX_hMvaXWM.mp3\n",
      "Deleting original file Adab Seorang ALIM Dengan Dirinya _ Ustaz Mohd Nazrul Al Azhari-N3tDIGVt9d8.m4a (pass -k to keep)\n"
     ]
    },
    {
     "name": "stderr",
     "output_type": "stream",
     "text": [
      " 69%|██████▉   | 11/16 [19:54<10:08, 121.73s/it]"
     ]
    },
    {
     "name": "stdout",
     "output_type": "stream",
     "text": [
      "[youtube] rBB0rlZTL0o: Downloading webpage\n",
      "Deleting original file Pengalaman Kena Pow Dengan Immigration Laos Dan Tersangkut di Sempadan Cambodia-Laos-a34vZ2fwa4o.m4a (pass -k to keep)\n"
     ]
    },
    {
     "name": "stderr",
     "output_type": "stream",
     "text": [
      " 62%|██████▎   | 10/16 [19:56<11:47, 117.87s/it]"
     ]
    },
    {
     "name": "stdout",
     "output_type": "stream",
     "text": [
      "[download] Destination: DUNIA Bukan Matlamat Kita 😯 _ Ustaz Dato Shamsuri-rBB0rlZTL0o.m4a\n",
      "[download]  23.1% of 17.30MiB at 13.30MiB/s ETA 00:013[youtube] gPappt9MHPc: Downloading webpage\n",
      "[download]  58.0% of 17.30MiB at 380.60KiB/s ETA 00:19nown ETA[download] Destination: Cara Jadi Orang Terkaya Dunia dengan Sebutir Beras [Pengembangan Eksponen]-gPappt9MHPc.webm\n",
      "[download] 100% of 7.13MiB in 00:0007MiB/s ETA 00:0080\n",
      "[ffmpeg] Destination: Cara Jadi Orang Terkaya Dunia dengan Sebutir Beras [Pengembangan Eksponen]-gPappt9MHPc.mp3\n",
      "[download] 100% of 17.30MiB in 00:0239MiB/s ETA 00:00\n",
      "[ffmpeg] Correcting container in \"DUNIA Bukan Matlamat Kita 😯 _ Ustaz Dato Shamsuri-rBB0rlZTL0o.m4a\"\n",
      "[ffmpeg] Destination: DUNIA Bukan Matlamat Kita 😯 _ Ustaz Dato Shamsuri-rBB0rlZTL0o.mp3\n",
      "Deleting original file Buletin Utama Versi #BacaBeritaChallenge (Kumpulan 1)-Xwhd8aOFafs.m4a (pass -k to keep)\n"
     ]
    },
    {
     "name": "stderr",
     "output_type": "stream",
     "text": [
      " 69%|██████▉   | 11/16 [20:01<06:35, 79.07s/it]"
     ]
    },
    {
     "name": "stdout",
     "output_type": "stream",
     "text": [
      "[youtube] mNZRQE-QDiM: Downloading webpage\n",
      "[download] Destination: Afrika Ep1  - Bergaduh dengan orang Afrika di Airport Nairobi Kenya-mNZRQE-QDiM.m4a\n",
      "[download] 100% of 11.86MiB in 00:0028MiB/s ETA 00:003nown ETA\n",
      "[ffmpeg] Correcting container in \"Afrika Ep1  - Bergaduh dengan orang Afrika di Airport Nairobi Kenya-mNZRQE-QDiM.m4a\"\n",
      "[ffmpeg] Destination: Afrika Ep1  - Bergaduh dengan orang Afrika di Airport Nairobi Kenya-mNZRQE-QDiM.mp3\n",
      "Deleting original file ZHAF BERSEMUKA DGN TOK AYAH NAMRON!-BWU8IJBEjTk.m4a (pass -k to keep)\n"
     ]
    },
    {
     "name": "stderr",
     "output_type": "stream",
     "text": [
      " 31%|███▏      | 5/16 [20:21<38:24, 209.51s/it]"
     ]
    },
    {
     "name": "stdout",
     "output_type": "stream",
     "text": [
      "[youtube] ULwl3_VSMS8: Downloading webpage\n",
      "Deleting original file Ini Golongan Yang Dimurkai ALLAH _ Ustaz Mohd Aslam-aHYimafirpg.m4a (pass -k to keep)\n"
     ]
    },
    {
     "name": "stderr",
     "output_type": "stream",
     "text": [
      " 88%|████████▊ | 14/16 [20:22<03:43, 111.75s/it]"
     ]
    },
    {
     "name": "stdout",
     "output_type": "stream",
     "text": [
      "[download] Destination: Mana Penghujung Cermin Infiniti-ULwl3_VSMS8.webm\n",
      "[download]   0.1% of 8.20MiB at 106.33KiB/s ETA 01:18[youtube] Am7A-vpCER0: Downloading webpage\n",
      "[download] 100% of 8.20MiB in 00:0012MiB/s ETA 00:009\n",
      "[ffmpeg] Destination: Mana Penghujung Cermin Infiniti-ULwl3_VSMS8.mp3\n",
      "[download] Destination: Pontianak pulaaaaaak-Am7A-vpCER0.m4a\n",
      "[download] 100% of 10.68MiB in 00:0009MiB/s ETA 00:000nown ETA\n",
      "[ffmpeg] Correcting container in \"Pontianak pulaaaaaak-Am7A-vpCER0.m4a\"\n",
      "[ffmpeg] Destination: Pontianak pulaaaaaak-Am7A-vpCER0.mp3\n",
      "Deleting original file Episod 3  - Makan Testis Telur Burung Unta Afrika-BoX_hMvaXWM.webm (pass -k to keep)\n"
     ]
    },
    {
     "name": "stderr",
     "output_type": "stream",
     "text": [
      " 75%|███████▌  | 12/16 [20:29<05:54, 88.55s/it] "
     ]
    },
    {
     "name": "stdout",
     "output_type": "stream",
     "text": [
      "[youtube] rQ_P9xo6pfo: Downloading webpage\n",
      "[download] Destination: Jangan Kau LAFAZKAN 😮 _ Ustaz Dato Kazim Elias-rQ_P9xo6pfo.webm\n",
      "[download] 100% of 47.30MiB in 00:0226MiB/s ETA 00:004nown ETA\n",
      "[ffmpeg] Destination: Jangan Kau LAFAZKAN 😮 _ Ustaz Dato Kazim Elias-rQ_P9xo6pfo.mp3\n",
      "Deleting original file Tesla Tak Bagos  SlowTalk Podcast #03-l-NmUn-FLLI.webm (pass -k to keep)\n"
     ]
    },
    {
     "name": "stderr",
     "output_type": "stream",
     "text": [
      " 69%|██████▉   | 11/16 [20:36<08:20, 100.03s/it]"
     ]
    },
    {
     "name": "stdout",
     "output_type": "stream",
     "text": [
      "[youtube] qkDvoyZDEh8: Downloading webpage\n",
      "[download] Destination: Orang-orang Tua Kata-qkDvoyZDEh8.webm\n",
      "[download] 100% of 4.72MiB in 00:0060MiB/s ETA 00:005\n",
      "[ffmpeg] Destination: Orang-orang Tua Kata-qkDvoyZDEh8.mp3\n",
      "Deleting original file Jalan Masuk Ke SYURGA _ Ustaz Halim Nasir-038_W7kvhI0.m4a (pass -k to keep)\n"
     ]
    },
    {
     "name": "stderr",
     "output_type": "stream",
     "text": [
      " 94%|█████████▍| 15/16 [20:42<01:58, 118.54s/it]"
     ]
    },
    {
     "name": "stdout",
     "output_type": "stream",
     "text": [
      "[youtube] HYf4V_0T1rk: Downloading webpage\n",
      "[download] Destination: Tengok Dengan Siapa Kamu Mengambil Ilmu AGAMA _ Ustaz Mohd Nazrul Al Azhari-HYf4V_0T1rk.m4a\n",
      "[download]  89.4% of 55.19MiB at Unknown speed ETA Unknown ETADeleting original file Cara Jadi Orang Terkaya Dunia dengan Sebutir Beras [Pengembangan Eksponen]-gPappt9MHPc.webm (pass -k to keep)\n",
      "[download]  89.4% of 55.19MiB at 147.83KiB/s ETA 00:40"
     ]
    },
    {
     "name": "stderr",
     "output_type": "stream",
     "text": [
      " 69%|██████▉   | 11/16 [20:46<08:07, 97.48s/it] "
     ]
    },
    {
     "name": "stdout",
     "output_type": "stream",
     "text": [
      "[download] 100% of 55.19MiB in 00:0347MiB/s ETA 00:009\n",
      "[youtube] mQuUzU8xQ44: Downloading webpage\n",
      "[ffmpeg] Correcting container in \"Tengok Dengan Siapa Kamu Mengambil Ilmu AGAMA _ Ustaz Mohd Nazrul Al Azhari-HYf4V_0T1rk.m4a\"\n",
      "[download] Destination: Konsep TAWASSUL Dalam Islam _ Ustaz Mohd Anuar-mQuUzU8xQ44.m4a\n",
      "[download]  13.4% of 50.36MiB at  3.53MiB/s ETA 00:128[ffmpeg] Destination: Tengok Dengan Siapa Kamu Mengambil Ilmu AGAMA _ Ustaz Mohd Nazrul Al Azhari-HYf4V_0T1rk.mp3\n",
      "[download] 100% of 50.36MiB in 00:1213MiB/s ETA 00:001nown ETA\n",
      "[ffmpeg] Correcting container in \"Konsep TAWASSUL Dalam Islam _ Ustaz Mohd Anuar-mQuUzU8xQ44.m4a\"\n",
      "[ffmpeg] Destination: Konsep TAWASSUL Dalam Islam _ Ustaz Mohd Anuar-mQuUzU8xQ44.mp3\n",
      "Deleting original file Afrika Ep1  - Bergaduh dengan orang Afrika di Airport Nairobi Kenya-mNZRQE-QDiM.m4a (pass -k to keep)\n"
     ]
    },
    {
     "name": "stderr",
     "output_type": "stream",
     "text": [
      " 75%|███████▌  | 12/16 [21:05<04:58, 74.72s/it]"
     ]
    },
    {
     "name": "stdout",
     "output_type": "stream",
     "text": [
      "[youtube] bXVvXLHpmS8: Downloading webpage\n",
      "[download] Destination: DIA HISAP APA KAT TANDAS SEKOLAH!-bXVvXLHpmS8.webm\n",
      "[download]  71.8% of 27.41MiB at 25.24MiB/s ETA 00:009nown ETADeleting original file Pontianak pulaaaaaak-Am7A-vpCER0.m4a (pass -k to keep)\n"
     ]
    },
    {
     "name": "stderr",
     "output_type": "stream",
     "text": [
      " 94%|█████████▍| 15/16 [21:07<01:31, 91.73s/it] "
     ]
    },
    {
     "name": "stdout",
     "output_type": "stream",
     "text": [
      "[download] 100% of 27.41MiB in 00:0184MiB/s ETA 00:008nown ETA\n",
      "[youtube] FhLi9mWRBRQ: Downloading webpage\n",
      "[ffmpeg] Destination: DIA HISAP APA KAT TANDAS SEKOLAH!-bXVvXLHpmS8.mp3\n",
      "[download] Destination: Ilusi - Ilusi Penglihatan yang Paling POWER Menipu Mata Manusia!-FhLi9mWRBRQ.webm\n",
      "[download] 100% of 10.51MiB in 00:0020MiB/s ETA 00:001nown ETA\n",
      "[ffmpeg] Destination: Ilusi - Ilusi Penglihatan yang Paling POWER Menipu Mata Manusia!-FhLi9mWRBRQ.mp3\n",
      "Deleting original file Orang-orang Tua Kata-qkDvoyZDEh8.webm (pass -k to keep)\n"
     ]
    },
    {
     "name": "stderr",
     "output_type": "stream",
     "text": [
      " 75%|███████▌  | 12/16 [21:13<05:24, 81.05s/it] "
     ]
    },
    {
     "name": "stdout",
     "output_type": "stream",
     "text": [
      "[youtube] XRREYTMwLL0: Downloading webpage\n",
      "[download] Destination: MLATS#6 _ Rahsia Sebenar Burung Puyuh-XRREYTMwLL0.webm\n",
      "[download] 100% of 4.46MiB in 00:0058MiB/s ETA 00:0004\n",
      "[ffmpeg] Destination: MLATS#6 _ Rahsia Sebenar Burung Puyuh-XRREYTMwLL0.mp3\n",
      "Deleting original file Kamu Bukan Ahli, JANGAN Memandai-Mandai 😒 _ Ustaz Mohd Nazrul Al Azhari-QSWRFVfc55k.m4a (pass -k to keep)\n"
     ]
    },
    {
     "name": "stderr",
     "output_type": "stream",
     "text": [
      " 50%|█████     | 8/16 [21:16<28:12, 211.57s/it]"
     ]
    },
    {
     "name": "stdout",
     "output_type": "stream",
     "text": [
      "[youtube] GKQqdCXb8l8: Downloading webpage\n",
      "[download] Destination: AHLI SIHIR Dari Pandangan Islam _ Ustaz Habib Khairul Nizam-GKQqdCXb8l8.webm\n",
      "[download]  53.3% of 37.50MiB at  1.79MiB/s ETA 00:097nown ETADeleting original file DUNIA Bukan Matlamat Kita 😯 _ Ustaz Dato Shamsuri-rBB0rlZTL0o.m4a (pass -k to keep)\n",
      "[download]  54.0% of 37.50MiB at  3.13MiB/s ETA 00:05"
     ]
    },
    {
     "name": "stderr",
     "output_type": "stream",
     "text": [
      " 75%|███████▌  | 12/16 [21:19<07:22, 110.58s/it]"
     ]
    },
    {
     "name": "stdout",
     "output_type": "stream",
     "text": [
      "[download]  89.2% of 37.50MiB at 15.10MiB/s ETA 00:008nown ETA[youtube] rpbjezVZ2GI: Downloading webpage\n",
      "[download] 100% of 37.50MiB in 00:0189MiB/s ETA 00:00\n",
      "[ffmpeg] Destination: AHLI SIHIR Dari Pandangan Islam _ Ustaz Habib Khairul Nizam-GKQqdCXb8l8.mp3\n",
      "[download] Destination: Setakat Ini Jodoh Kami _ SlowTalk Podcast #16-rpbjezVZ2GI.webm\n",
      "[download] 100% of 3.75MiB in 00:0059MiB/s ETA 00:004\n",
      "[ffmpeg] Destination: Setakat Ini Jodoh Kami _ SlowTalk Podcast #16-rpbjezVZ2GI.mp3\n",
      "Deleting original file Mana Penghujung Cermin Infiniti-ULwl3_VSMS8.webm (pass -k to keep)\n"
     ]
    },
    {
     "name": "stderr",
     "output_type": "stream",
     "text": [
      " 38%|███▊      | 6/16 [21:32<28:01, 168.16s/it]"
     ]
    },
    {
     "name": "stdout",
     "output_type": "stream",
     "text": [
      "[youtube] dF7HRsk95aY: Downloading webpage\n",
      "[download] Destination: Siri Imam 4 Mazhab - Imam As-Syafie _ Ustaz Wadi Annuar-dF7HRsk95aY.m4a\n",
      "[download] 100% of 63.52MiB in 00:0486MiB/s ETA 00:005nown ETA\n",
      "[ffmpeg] Correcting container in \"Siri Imam 4 Mazhab - Imam As-Syafie _ Ustaz Wadi Annuar-dF7HRsk95aY.m4a\"\n",
      "[ffmpeg] Destination: Siri Imam 4 Mazhab - Imam As-Syafie _ Ustaz Wadi Annuar-dF7HRsk95aY.mp3\n",
      "Deleting original file MLATS#6 _ Rahsia Sebenar Burung Puyuh-XRREYTMwLL0.webm (pass -k to keep)\n"
     ]
    },
    {
     "name": "stderr",
     "output_type": "stream",
     "text": [
      " 81%|████████▏ | 13/16 [21:47<03:21, 67.02s/it]"
     ]
    },
    {
     "name": "stdout",
     "output_type": "stream",
     "text": [
      "[youtube] o1Gxi86NM3M: Downloading webpage\n",
      "[download] Destination: Siapa Ada Kitab Muwatta' Akan Dipenjara 😮 _ Ustaz Mohd Nazrul Al Azhari-o1Gxi86NM3M.m4a\n",
      "[download] 100% of 11.81MiB in 00:0291MiB/s ETA 00:002nown ETA\n",
      "[ffmpeg] Correcting container in \"Siapa Ada Kitab Muwatta' Akan Dipenjara 😮 _ Ustaz Mohd Nazrul Al Azhari-o1Gxi86NM3M.m4a\"\n",
      "[ffmpeg] Destination: Siapa Ada Kitab Muwatta' Akan Dipenjara 😮 _ Ustaz Mohd Nazrul Al Azhari-o1Gxi86NM3M.mp3\n",
      "Deleting original file Setakat Ini Jodoh Kami _ SlowTalk Podcast #16-rpbjezVZ2GI.webm (pass -k to keep)\n"
     ]
    },
    {
     "name": "stderr",
     "output_type": "stream",
     "text": [
      " 81%|████████▏ | 13/16 [21:59<04:28, 89.50s/it] "
     ]
    },
    {
     "name": "stdout",
     "output_type": "stream",
     "text": [
      "[youtube] DCNRWKiahbE: Downloading webpage\n",
      "[download] Destination: Mural Agong Kena Conteng _ SlowTalk Podcast #20-DCNRWKiahbE.webm\n",
      "[download] 100% of 5.41MiB in 00:0077MiB/s ETA 00:008\n",
      "[ffmpeg] Destination: Mural Agong Kena Conteng _ SlowTalk Podcast #20-DCNRWKiahbE.mp3\n",
      "Deleting original file Ilusi - Ilusi Penglihatan yang Paling POWER Menipu Mata Manusia!-FhLi9mWRBRQ.webm (pass -k to keep)\n"
     ]
    },
    {
     "name": "stderr",
     "output_type": "stream",
     "text": [
      "100%|██████████| 16/16 [22:20<00:00, 83.78s/it]\n",
      "  0%|          | 0/3 [00:00<?, ?it/s]"
     ]
    },
    {
     "name": "stdout",
     "output_type": "stream",
     "text": [
      "[youtube] ph_fuYS7ucg: Downloading webpage\n",
      "[download] Destination: Hidup Mesti Cari Redha ALLAH _ Ustaz Halim Nasir-ph_fuYS7ucg.m4a\n",
      "[download] 100% of 49.22MiB in 00:0281MiB/s ETA 00:000nown ETA\n",
      "[ffmpeg] Correcting container in \"Hidup Mesti Cari Redha ALLAH _ Ustaz Halim Nasir-ph_fuYS7ucg.m4a\"\n",
      "[ffmpeg] Destination: Hidup Mesti Cari Redha ALLAH _ Ustaz Halim Nasir-ph_fuYS7ucg.mp3\n",
      "Deleting original file Mural Agong Kena Conteng _ SlowTalk Podcast #20-DCNRWKiahbE.webm (pass -k to keep)\n"
     ]
    },
    {
     "name": "stderr",
     "output_type": "stream",
     "text": [
      " 88%|████████▊ | 14/16 [22:32<02:25, 72.59s/it]"
     ]
    },
    {
     "name": "stdout",
     "output_type": "stream",
     "text": [
      "[youtube] rARJlDAJEgE: Downloading webpage\n",
      "[download] Destination: 214 _ Apa Yang Hud-Hud Mahu Khabarkan 🤔 _ Ustaz Auni Mohamed-rARJlDAJEgE.webm\n",
      "[download] 100% of 40.90MiB in 00:0281MiB/s ETA 00:002nown ETA\n",
      "[ffmpeg] Destination: 214 _ Apa Yang Hud-Hud Mahu Khabarkan 🤔 _ Ustaz Auni Mohamed-rARJlDAJEgE.mp3\n",
      "Deleting original file Siapa Ada Kitab Muwatta' Akan Dipenjara 😮 _ Ustaz Mohd Nazrul Al Azhari-o1Gxi86NM3M.m4a (pass -k to keep)\n"
     ]
    },
    {
     "name": "stderr",
     "output_type": "stream",
     "text": [
      " 88%|████████▊ | 14/16 [22:46<02:09, 64.61s/it]"
     ]
    },
    {
     "name": "stdout",
     "output_type": "stream",
     "text": [
      "[youtube] 4ZiC_Tg6hmU: Downloading webpage\n",
      "[download] Destination: Sofyank aka Zach King Malaysia _ Malam Jumaat _ Fify & Hydar-4ZiC_Tg6hmU.webm\n",
      "[download] 100% of 32.17MiB in 00:0188MiB/s ETA 00:003nown ETA\n",
      "[ffmpeg] Destination: Sofyank aka Zach King Malaysia _ Malam Jumaat _ Fify & Hydar-4ZiC_Tg6hmU.mp3\n",
      "Deleting original file DIA HISAP APA KAT TANDAS SEKOLAH!-bXVvXLHpmS8.webm (pass -k to keep)\n"
     ]
    },
    {
     "name": "stderr",
     "output_type": "stream",
     "text": [
      " 81%|████████▏ | 13/16 [23:50<05:05, 101.85s/it]"
     ]
    },
    {
     "name": "stdout",
     "output_type": "stream",
     "text": [
      "[youtube] FQDcHVgZCTE: Downloading webpage\n",
      "[download] Destination: Masalah Warga Asing  SlowTalk Podcast #11-FQDcHVgZCTE.webm\n",
      "[download] 100% of 14.87MiB in 00:0270MiB/s ETA 00:007nown ETA\n",
      "[ffmpeg] Destination: Masalah Warga Asing  SlowTalk Podcast #11-FQDcHVgZCTE.mp3\n",
      "Deleting original file KULIAH 1 JAM - Rahsia Mencari Haluan Hidup Ke Arah Kejayaan-O4mJ_Fufp0o.webm (pass -k to keep)\n"
     ]
    },
    {
     "name": "stderr",
     "output_type": "stream",
     "text": [
      " 56%|█████▋    | 9/16 [24:16<27:58, 239.77s/it]"
     ]
    },
    {
     "name": "stdout",
     "output_type": "stream",
     "text": [
      "Deleting original file 65 _ Wahai Anak, Allah Akan Menguji Kamu ! _ Ustaz Wadi Annuar-0ZKxMaNusTA.webm (pass -k to keep)\n"
     ]
    },
    {
     "name": "stderr",
     "output_type": "stream",
     "text": [
      " 31%|███▏      | 5/16 [24:16<50:50, 277.28s/it]"
     ]
    },
    {
     "name": "stdout",
     "output_type": "stream",
     "text": [
      "[youtube] o7MmHE7Hmg4: Downloading webpage\n",
      "[youtube] 68bH2c04v7o: Downloading webpage\n"
     ]
    },
    {
     "name": "stderr",
     "output_type": "stream",
     "text": [
      "ERROR: o7MmHE7Hmg4: YouTube said: Unable to extract video data\n",
      " 62%|██████▎   | 10/16 [24:17<16:49, 168.19s/it]"
     ]
    },
    {
     "name": "stdout",
     "output_type": "stream",
     "text": [
      "[youtube] 68bH2c04v7o: Downloading MPD manifest\n",
      "[youtube] TSW_LB7p_rk: Downloading webpage\n",
      "[dashsegments] Total fragments: 150\n",
      "[download] Destination: RAHSIA & TEKNIK KAWAL TENAGA MOTIVASI (PODCAST)-68bH2c04v7o.webm\n",
      "[download]   1.3% of ~9.47MiB at 773.35KiB/s ETA 00:29536[download] Destination: Hakikatnya Kita Hanya HAMBA _ Ustaz Ahmad Rizam-TSW_LB7p_rk.webm\n",
      "[download] 100% of 46.79MiB in 00:026.28KiB/s ETA 00:244wn ETA\n",
      "[download]  11.3% of ~17.60MiB at 145.07KiB/s ETA 00:25[ffmpeg] Destination: Hakikatnya Kita Hanya HAMBA _ Ustaz Ahmad Rizam-TSW_LB7p_rk.mp3\n",
      "[download]  34.2% of ~17.71MiB at 351.97KiB/s ETA 00:190Deleting original file Konsep TAWASSUL Dalam Islam _ Ustaz Mohd Anuar-mQuUzU8xQ44.m4a (pass -k to keep)\n",
      "[download]  34.7% of ~17.71MiB at 984.39KiB/s ETA 00:18"
     ]
    },
    {
     "name": "stderr",
     "output_type": "stream",
     "text": [
      " 75%|███████▌  | 12/16 [24:28<08:59, 134.85s/it]"
     ]
    },
    {
     "name": "stdout",
     "output_type": "stream",
     "text": [
      "[download]  36.2% of ~17.72MiB at 354.42KiB/s ETA 00:18[youtube] EP2qcEFmFD8: Downloading webpage\n",
      "[download]  39.4% of ~17.75MiB at 197.65KiB/s ETA 00:17[download] Destination: Buang BERHALA Yang Duduk Di Hati Kita 😥 _ Ustaz Ahmad Rizam-EP2qcEFmFD8.m4a\n",
      "[download] 100% of 70.17MiB in 00:0380MiB/s ETA 00:00333wn ETA\n",
      "[download]  52.7% of ~17.84MiB at 132.02KiB/s ETA 00:13[ffmpeg] Correcting container in \"Buang BERHALA Yang Duduk Di Hati Kita 😥 _ Ustaz Ahmad Rizam-EP2qcEFmFD8.m4a\"\n",
      "[download]  54.0% of ~17.85MiB at 150.62KiB/s ETA 00:13Deleting original file Sesi 4  - Teknik Meditasi Untuk Reprogram Diri-ydoo5KXzJbg.webm (pass -k to keep)\n",
      "[download]  54.2% of ~17.85MiB at 335.47KiB/s ETA 00:12"
     ]
    },
    {
     "name": "stderr",
     "output_type": "stream",
     "text": [
      " 44%|████▍     | 7/16 [24:33<53:13, 354.79s/it]"
     ]
    },
    {
     "name": "stdout",
     "output_type": "stream",
     "text": [
      "[download]  55.7% of ~17.86MiB at 545.88KiB/s ETA 00:12[youtube] gUOp5gBhz2I: Downloading webpage\n",
      "[download]  58.1% of ~17.86MiB at 193.53KiB/s ETA 00:12[download] Destination: Takut Ke Tak - Movie Review-gUOp5gBhz2I.webm\n",
      "[download] 100% of 10.06MiB in 00:00.21MiB/s ETA 00:111own ETA\n",
      "[download]  61.7% of ~17.89MiB at 736.14KiB/s ETA 00:10[ffmpeg] Destination: Takut Ke Tak - Movie Review-gUOp5gBhz2I.mp3\n",
      "[download]  65.3% of ~17.91MiB at 740.58KiB/s ETA 00:09[ffmpeg] Destination: Buang BERHALA Yang Duduk Di Hati Kita 😥 _ Ustaz Ahmad Rizam-EP2qcEFmFD8.mp3\n",
      "[download]  96.8% of ~17.93MiB at 337.60KiB/s ETA 00:003Deleting original file Tengok Dengan Siapa Kamu Mengambil Ilmu AGAMA _ Ustaz Mohd Nazrul Al Azhari-HYf4V_0T1rk.m4a (pass -k to keep)\n",
      "[download]  97.0% of ~17.93MiB at 526.03KiB/s ETA 00:00"
     ]
    },
    {
     "name": "stderr",
     "output_type": "stream",
     "text": [
      "100%|██████████| 16/16 [24:47<00:00, 156.55s/it]"
     ]
    },
    {
     "name": "stdout",
     "output_type": "stream",
     "text": [
      "[download]  97.3% of ~17.93MiB at 874.44KiB/s ETA 00:00"
     ]
    },
    {
     "name": "stderr",
     "output_type": "stream",
     "text": [
      "100%|██████████| 16/16 [24:47<00:00, 92.97s/it] \n"
     ]
    },
    {
     "name": "stdout",
     "output_type": "stream",
     "text": [
      "[download] 100% of 17.92MiB in 00:2905.35KiB/s ETA 00:00\n",
      "[ffmpeg] Destination: RAHSIA & TEKNIK KAWAL TENAGA MOTIVASI (PODCAST)-68bH2c04v7o.mp3\n",
      "Deleting original file Masalah Warga Asing  SlowTalk Podcast #11-FQDcHVgZCTE.webm (pass -k to keep)\n"
     ]
    },
    {
     "name": "stderr",
     "output_type": "stream",
     "text": [
      " 88%|████████▊ | 14/16 [25:15<03:13, 96.81s/it] "
     ]
    },
    {
     "name": "stdout",
     "output_type": "stream",
     "text": [
      "[youtube] QW3GndtSb1k: Downloading webpage\n",
      "[download] Destination: SEDEKAH Bukan Dengan Harta Semata-Mata _ Ustaz Mohd Lukmanul Hakim-QW3GndtSb1k.webm\n",
      "[download] 100% of 7.29MiB in 00:0006MiB/s ETA 00:008\n",
      "[ffmpeg] Destination: SEDEKAH Bukan Dengan Harta Semata-Mata _ Ustaz Mohd Lukmanul Hakim-QW3GndtSb1k.mp3\n",
      "Deleting original file AHLI SIHIR Dari Pandangan Islam _ Ustaz Habib Khairul Nizam-GKQqdCXb8l8.webm (pass -k to keep)\n"
     ]
    },
    {
     "name": "stderr",
     "output_type": "stream",
     "text": [
      " 56%|█████▋    | 9/16 [25:40<26:29, 227.10s/it]"
     ]
    },
    {
     "name": "stdout",
     "output_type": "stream",
     "text": [
      "[youtube] CubnJGvZFpk: Downloading webpage\n",
      "Deleting original file Hidup Mesti Cari Redha ALLAH _ Ustaz Halim Nasir-ph_fuYS7ucg.m4a (pass -k to keep)\n"
     ]
    },
    {
     "name": "stderr",
     "output_type": "stream",
     "text": [
      " 33%|███▎      | 1/3 [03:20<06:40, 200.31s/it]"
     ]
    },
    {
     "name": "stdout",
     "output_type": "stream",
     "text": [
      "[youtube] enDHYM-0INM: Downloading webpage\n",
      "[download] Destination: MLATS - Minggu Lepas Awak Tanya Saya-CubnJGvZFpk.webm\n",
      "[download] 100% of 9.57MiB in 00:0093MiB/s ETA 00:004\n",
      "[download] Destination: Hantu - Hantu Malaya-enDHYM-0INM.webm\n",
      "[download]   0.2% of 6.56MiB at 196.20KiB/s ETA 00:34[ffmpeg] Destination: MLATS - Minggu Lepas Awak Tanya Saya-CubnJGvZFpk.mp3\n",
      "[download] 100% of 6.56MiB in 00:0072MiB/s ETA 00:007\n",
      "[ffmpeg] Destination: Hantu - Hantu Malaya-enDHYM-0INM.mp3\n",
      "Deleting original file Siri Imam 4 Mazhab - Imam As-Syafie _ Ustaz Wadi Annuar-dF7HRsk95aY.m4a (pass -k to keep)\n"
     ]
    },
    {
     "name": "stderr",
     "output_type": "stream",
     "text": [
      " 44%|████▍     | 7/16 [25:51<29:17, 195.33s/it]"
     ]
    },
    {
     "name": "stdout",
     "output_type": "stream",
     "text": [
      "[youtube] FLRVppiXPu8: Downloading webpage\n",
      "[download] Destination: MLATS #10 _ Batu A Famosa Datang Dari Mana-FLRVppiXPu8.webm\n",
      "[download]  44.8% of 8.92MiB at 16.56MiB/s ETA 00:009Deleting original file Takut Ke Tak - Movie Review-gUOp5gBhz2I.webm (pass -k to keep)\n",
      "[download]  89.7% of 8.92MiB at 22.07MiB/s ETA 00:00"
     ]
    },
    {
     "name": "stderr",
     "output_type": "stream",
     "text": [
      " 50%|█████     | 8/16 [25:53<36:17, 272.17s/it]"
     ]
    },
    {
     "name": "stdout",
     "output_type": "stream",
     "text": [
      "[download] 100% of 8.92MiB in 00:0082MiB/s ETA 00:00\n",
      "[ffmpeg] Destination: MLATS #10 _ Batu A Famosa Datang Dari Mana-FLRVppiXPu8.mp3\n",
      "[youtube] b59TtMqYusw: Downloading webpage\n",
      "[download] Destination: 5 Sejarah Bagaimana Tamadun Barat Sebenarnya Pengotor-b59TtMqYusw.webm\n",
      "[download] 100% of 9.61MiB in 00:0023MiB/s ETA 00:002\n",
      "[ffmpeg] Destination: 5 Sejarah Bagaimana Tamadun Barat Sebenarnya Pengotor-b59TtMqYusw.mp3\n",
      "Deleting original file Sofyank aka Zach King Malaysia _ Malam Jumaat _ Fify & Hydar-4ZiC_Tg6hmU.webm (pass -k to keep)\n"
     ]
    },
    {
     "name": "stderr",
     "output_type": "stream",
     "text": [
      " 94%|█████████▍| 15/16 [25:58<01:42, 102.89s/it]"
     ]
    },
    {
     "name": "stdout",
     "output_type": "stream",
     "text": [
      "[youtube] S8zARg4V6VM: Downloading webpage\n",
      "[download] Destination: Martial Arts Menipu _ SlowTalk Podcast #21-S8zARg4V6VM.webm\n",
      "[download] 100% of 5.38MiB in 00:0060MiB/s ETA 00:005\n",
      "[ffmpeg] Destination: Martial Arts Menipu _ SlowTalk Podcast #21-S8zARg4V6VM.mp3\n",
      "Deleting original file SEDEKAH Bukan Dengan Harta Semata-Mata _ Ustaz Mohd Lukmanul Hakim-QW3GndtSb1k.webm (pass -k to keep)\n"
     ]
    },
    {
     "name": "stderr",
     "output_type": "stream",
     "text": [
      " 94%|█████████▍| 15/16 [26:02<01:21, 81.77s/it]"
     ]
    },
    {
     "name": "stdout",
     "output_type": "stream",
     "text": [
      "[youtube] DXDML7x2FQs: Downloading webpage\n",
      "[download] Destination: 213 _ Kekuatan Tentera NABI SULAIMAN 😯 _ Ustaz Auni Mohamed-DXDML7x2FQs.webm\n",
      "[download] 100% of 44.40MiB in 00:0292MiB/s ETA 00:006nown ETA\n",
      "[ffmpeg] Destination: 213 _ Kekuatan Tentera NABI SULAIMAN 😯 _ Ustaz Auni Mohamed-DXDML7x2FQs.mp3\n",
      "Deleting original file Jangan Kau LAFAZKAN 😮 _ Ustaz Dato Kazim Elias-rQ_P9xo6pfo.webm (pass -k to keep)\n"
     ]
    },
    {
     "name": "stderr",
     "output_type": "stream",
     "text": [
      " 81%|████████▏ | 13/16 [26:18<08:20, 166.78s/it]"
     ]
    },
    {
     "name": "stdout",
     "output_type": "stream",
     "text": [
      "[youtube] nPsVmw-GF4A: Downloading webpage\n",
      "[download] Destination: Kelaster - Movie Review-nPsVmw-GF4A.m4a\n",
      "[download] 100% of 15.42MiB in 00:0057MiB/s ETA 00:008nown ETA\n",
      "[ffmpeg] Correcting container in \"Kelaster - Movie Review-nPsVmw-GF4A.m4a\"\n",
      "[ffmpeg] Destination: Kelaster - Movie Review-nPsVmw-GF4A.mp3\n",
      "Deleting original file Hantu - Hantu Malaya-enDHYM-0INM.webm (pass -k to keep)\n"
     ]
    },
    {
     "name": "stderr",
     "output_type": "stream",
     "text": [
      " 67%|██████▋   | 2/3 [04:09<02:34, 154.85s/it]"
     ]
    },
    {
     "name": "stdout",
     "output_type": "stream",
     "text": [
      "[youtube] uLQDcX9i2XM: Downloading webpage\n",
      "Deleting original file Martial Arts Menipu _ SlowTalk Podcast #21-S8zARg4V6VM.webm (pass -k to keep)\n"
     ]
    },
    {
     "name": "stderr",
     "output_type": "stream",
     "text": [
      "100%|██████████| 16/16 [26:30<00:00, 99.43s/it] \n"
     ]
    },
    {
     "name": "stdout",
     "output_type": "stream",
     "text": [
      "[download] Destination: Selamat Hari Guru!!-uLQDcX9i2XM.webm\n",
      "[download] 100% of 1.69MiB in 00:0004MiB/s ETA 00:001\n",
      "[ffmpeg] Destination: Selamat Hari Guru!!-uLQDcX9i2XM.mp3\n",
      "Deleting original file MLATS - Minggu Lepas Awak Tanya Saya-CubnJGvZFpk.webm (pass -k to keep)\n"
     ]
    },
    {
     "name": "stderr",
     "output_type": "stream",
     "text": [
      " 62%|██████▎   | 10/16 [26:39<17:41, 176.86s/it]"
     ]
    },
    {
     "name": "stdout",
     "output_type": "stream",
     "text": [
      "[youtube] xw2IYlEVSn8: Downloading webpage\n",
      "Deleting original file Selamat Hari Guru!!-uLQDcX9i2XM.webm (pass -k to keep)\n"
     ]
    },
    {
     "name": "stderr",
     "output_type": "stream",
     "text": [
      "100%|██████████| 3/3 [04:20<00:00, 86.72s/it] \n"
     ]
    },
    {
     "name": "stdout",
     "output_type": "stream",
     "text": [
      "[download] Destination: Besar Jasa Nabi Musa Kepada Umat Nabi Muhammad _ Ustaz Mohd Nazrul Al Azhari-xw2IYlEVSn8.m4a\n",
      "[download]  59.0% of 49.21MiB at 185.75KiB/s ETA 01:51nown ETADeleting original file MLATS #10 _ Batu A Famosa Datang Dari Mana-FLRVppiXPu8.webm (pass -k to keep)\n",
      "[download]  59.0% of 49.21MiB at 324.03KiB/s ETA 01:03"
     ]
    },
    {
     "name": "stderr",
     "output_type": "stream",
     "text": [
      " 50%|█████     | 8/16 [26:47<20:26, 153.35s/it]"
     ]
    },
    {
     "name": "stdout",
     "output_type": "stream",
     "text": [
      "[download]  60.0% of 49.21MiB at  3.32MiB/s ETA 00:051[youtube] 5VP6w6ilB04: Downloading webpage\n",
      "[download]  70.5% of 49.21MiB at  4.75MiB/s ETA 00:03[download] Destination: 5 Bentuk Objek Paling Membingungkan-5VP6w6ilB04.webm\n",
      "[download] 100% of 14.47MiB in 00:0083MiB/s ETA 00:006nown ETA\n",
      "[ffmpeg] Destination: 5 Bentuk Objek Paling Membingungkan-5VP6w6ilB04.mp3\n",
      "[download]  91.7% of 49.21MiB at  6.37MiB/s ETA 00:00Deleting original file 5 Sejarah Bagaimana Tamadun Barat Sebenarnya Pengotor-b59TtMqYusw.webm (pass -k to keep)\n"
     ]
    },
    {
     "name": "stderr",
     "output_type": "stream",
     "text": [
      " 56%|█████▋    | 9/16 [26:49<24:12, 207.49s/it]"
     ]
    },
    {
     "name": "stdout",
     "output_type": "stream",
     "text": [
      "[youtube] _bfH3pxuOoM: Downloading webpage\n",
      "[download] 100% of 49.21MiB in 00:0976MiB/s ETA 00:000nown ETA\n",
      "[ffmpeg] Correcting container in \"Besar Jasa Nabi Musa Kepada Umat Nabi Muhammad _ Ustaz Mohd Nazrul Al Azhari-xw2IYlEVSn8.m4a\"\n",
      "[download] Destination: Podcast Bekpek  -Berbasikal Malaysia Ke Mekah(Ditahan dan dibawa Kem Askar Pakistan Semasa Di Gunung)-_bfH3pxuOoM.m4a\n",
      "[download]  76.8% of 50.93MiB at 416.07KiB/s ETA 00:29nown ETA[ffmpeg] Destination: Besar Jasa Nabi Musa Kepada Umat Nabi Muhammad _ Ustaz Mohd Nazrul Al Azhari-xw2IYlEVSn8.mp3\n",
      "[download] 100% of 50.93MiB in 00:0298MiB/s ETA 00:001nown ETA\n",
      "[ffmpeg] Correcting container in \"Podcast Bekpek  -Berbasikal Malaysia Ke Mekah(Ditahan dan dibawa Kem Askar Pakistan Semasa Di Gunung)-_bfH3pxuOoM.m4a\"\n",
      "Deleting original file RAHSIA & TEKNIK KAWAL TENAGA MOTIVASI (PODCAST)-68bH2c04v7o.webm (pass -k to keep)\n"
     ]
    },
    {
     "name": "stderr",
     "output_type": "stream",
     "text": [
      " 38%|███▊      | 6/16 [26:54<40:14, 241.42s/it]"
     ]
    },
    {
     "name": "stdout",
     "output_type": "stream",
     "text": [
      "[youtube] bjXTuQrpkC8: Downloading webpage\n",
      "[ffmpeg] Destination: Podcast Bekpek  -Berbasikal Malaysia Ke Mekah(Ditahan dan dibawa Kem Askar Pakistan Semasa Di Gunung)-_bfH3pxuOoM.mp3\n",
      "[download] Destination: Dunia Kita Berapa FPS (Bahagian 2)-bjXTuQrpkC8.webm\n",
      "[download] 100% of 13.20MiB in 00:0040MiB/s ETA 00:004nown ETA\n",
      "[ffmpeg] Destination: Dunia Kita Berapa FPS (Bahagian 2)-bjXTuQrpkC8.mp3\n",
      "Deleting original file 214 _ Apa Yang Hud-Hud Mahu Khabarkan 🤔 _ Ustaz Auni Mohamed-rARJlDAJEgE.webm (pass -k to keep)\n"
     ]
    },
    {
     "name": "stderr",
     "output_type": "stream",
     "text": [
      " 94%|█████████▍| 15/16 [27:02<02:11, 131.69s/it]"
     ]
    },
    {
     "name": "stdout",
     "output_type": "stream",
     "text": [
      "[youtube] _ZnpSEffVus: Downloading webpage\n",
      "[download] Destination: Tip Skor A+ dalam SPM Bahasa Melayu-_ZnpSEffVus.webm\n",
      "[download] 100% of 11.46MiB in 00:0010MiB/s ETA 00:002nown ETA\n",
      "[ffmpeg] Destination: Tip Skor A+ dalam SPM Bahasa Melayu-_ZnpSEffVus.mp3\n",
      "Deleting original file Kelaster - Movie Review-nPsVmw-GF4A.m4a (pass -k to keep)\n"
     ]
    },
    {
     "name": "stderr",
     "output_type": "stream",
     "text": [
      " 88%|████████▊ | 14/16 [27:10<04:24, 132.21s/it]"
     ]
    },
    {
     "name": "stdout",
     "output_type": "stream",
     "text": [
      "[youtube] riEwi1I6KKg: Downloading webpage\n",
      "[download] Destination: Afrika Ep 2 - Mitos-Mitos Afrika Yang Kita Perlu Tahu-riEwi1I6KKg.webm\n",
      "[download] 100% of 9.93MiB in 00:0085MiB/s ETA 00:000nown ETA\n",
      "[ffmpeg] Destination: Afrika Ep 2 - Mitos-Mitos Afrika Yang Kita Perlu Tahu-riEwi1I6KKg.mp3\n",
      "Deleting original file Tip Skor A+ dalam SPM Bahasa Melayu-_ZnpSEffVus.webm (pass -k to keep)\n"
     ]
    },
    {
     "name": "stderr",
     "output_type": "stream",
     "text": [
      "100%|██████████| 16/16 [27:59<00:00, 104.98s/it]\n"
     ]
    },
    {
     "name": "stdout",
     "output_type": "stream",
     "text": [
      "Deleting original file 5 Bentuk Objek Paling Membingungkan-5VP6w6ilB04.webm (pass -k to keep)\n"
     ]
    },
    {
     "name": "stderr",
     "output_type": "stream",
     "text": [
      " 56%|█████▋    | 9/16 [28:02<15:10, 130.01s/it]"
     ]
    },
    {
     "name": "stdout",
     "output_type": "stream",
     "text": [
      "[youtube] NSRWj5Zz7Qo: Downloading webpage\n",
      "Deleting original file Dunia Kita Berapa FPS (Bahagian 2)-bjXTuQrpkC8.webm (pass -k to keep)\n"
     ]
    },
    {
     "name": "stderr",
     "output_type": "stream",
     "text": [
      " 44%|████▍     | 7/16 [28:03<28:26, 189.65s/it]"
     ]
    },
    {
     "name": "stdout",
     "output_type": "stream",
     "text": [
      "[youtube] arZATVyf8j8: Downloading webpage\n",
      "[download] Destination: Sesi 2  - Fahami Realiti Kerajaan Diri-NSRWj5Zz7Qo.webm\n",
      "[download]   0.5% of 99.16MiB at  3.64MiB/s ETA 00:272[download] Destination: Ratu Balqis Anak Dari Golongan JIN  😯 _ Ustaz Auni Mohamed-arZATVyf8j8.webm\n",
      "[download]   1.2% of 40.74MiB at  2.92MiB/s ETA 00:132Deleting original file Afrika Ep 2 - Mitos-Mitos Afrika Yang Kita Perlu Tahu-riEwi1I6KKg.webm (pass -k to keep)\n",
      "[download]   2.5% of 40.74MiB at  5.22MiB/s ETA 00:07"
     ]
    },
    {
     "name": "stderr",
     "output_type": "stream",
     "text": [
      " 94%|█████████▍| 15/16 [28:04<01:48, 108.80s/it]"
     ]
    },
    {
     "name": "stdout",
     "output_type": "stream",
     "text": [
      "[download]  33.3% of 40.74MiB at 20.30MiB/s ETA 00:014nown ETA[youtube] rmiKORIv0uw: Downloading webpage\n",
      "[download]  94.1% of 40.74MiB at 32.98MiB/s ETA 00:007nown ETA[download] Destination: Realiti Fesyen dan Trend-rmiKORIv0uw.webm\n",
      "[download] 100% of 40.74MiB in 00:013MiB/s ETA 00:0003nown ETA\n",
      "[download] 100% of 6.45MiB in 00:000.35KiB/s ETA 03:18nown ETA\n",
      "[download]  10.1% of 99.16MiB at 756.57KiB/s ETA 02:00[ffmpeg] Destination: Ratu Balqis Anak Dari Golongan JIN  😯 _ Ustaz Auni Mohamed-arZATVyf8j8.mp3\n",
      "[download]  14.1% of 99.16MiB at 20.60MiB/s ETA 00:04[ffmpeg] Destination: Realiti Fesyen dan Trend-rmiKORIv0uw.mp3\n",
      "[download] 100% of 99.16MiB in 00:1806MiB/s ETA 00:001nown ETA\n",
      "[ffmpeg] Destination: Sesi 2  - Fahami Realiti Kerajaan Diri-NSRWj5Zz7Qo.mp3\n",
      "Deleting original file Buang BERHALA Yang Duduk Di Hati Kita 😥 _ Ustaz Ahmad Rizam-EP2qcEFmFD8.m4a (pass -k to keep)\n"
     ]
    },
    {
     "name": "stderr",
     "output_type": "stream",
     "text": [
      " 81%|████████▏ | 13/16 [28:26<08:17, 165.80s/it]"
     ]
    },
    {
     "name": "stdout",
     "output_type": "stream",
     "text": [
      "[youtube] xbYDNw0ZV78: Downloading webpage\n",
      "[download] Destination: MLATS 7 _ YA ALLAH KENAPA ZOOM GAMBAR NI JADI MACAM NI-xbYDNw0ZV78.webm\n",
      "[download] 100% of 9.01MiB in 00:0068MiB/s ETA 00:009\n",
      "[ffmpeg] Destination: MLATS 7 _ YA ALLAH KENAPA ZOOM GAMBAR NI JADI MACAM NI-xbYDNw0ZV78.mp3\n",
      "Deleting original file Hakikatnya Kita Hanya HAMBA _ Ustaz Ahmad Rizam-TSW_LB7p_rk.webm (pass -k to keep)\n"
     ]
    },
    {
     "name": "stderr",
     "output_type": "stream",
     "text": [
      " 69%|██████▉   | 11/16 [28:29<16:07, 193.42s/it]"
     ]
    },
    {
     "name": "stdout",
     "output_type": "stream",
     "text": [
      "[youtube] _Zsx149RtiU: Downloading webpage\n",
      "[download] Destination: Podcast Bekpek  - Dikejar Yakuza Ketika Berbasikal Di Jepun Selama Sebulan-_Zsx149RtiU.m4a\n",
      "[download] 100% of 37.42MiB in 00:0175MiB/s ETA 00:001nown ETA\n",
      "[ffmpeg] Correcting container in \"Podcast Bekpek  - Dikejar Yakuza Ketika Berbasikal Di Jepun Selama Sebulan-_Zsx149RtiU.m4a\"\n",
      "[ffmpeg] Destination: Podcast Bekpek  - Dikejar Yakuza Ketika Berbasikal Di Jepun Selama Sebulan-_Zsx149RtiU.mp3\n",
      "Deleting original file Realiti Fesyen dan Trend-rmiKORIv0uw.webm (pass -k to keep)\n"
     ]
    },
    {
     "name": "stderr",
     "output_type": "stream",
     "text": [
      "100%|██████████| 16/16 [28:38<00:00, 107.44s/it]\n"
     ]
    },
    {
     "name": "stdout",
     "output_type": "stream",
     "text": [
      "Deleting original file MLATS 7 _ YA ALLAH KENAPA ZOOM GAMBAR NI JADI MACAM NI-xbYDNw0ZV78.webm (pass -k to keep)\n"
     ]
    },
    {
     "name": "stderr",
     "output_type": "stream",
     "text": [
      " 88%|████████▊ | 14/16 [29:02<04:13, 126.93s/it]"
     ]
    },
    {
     "name": "stdout",
     "output_type": "stream",
     "text": [
      "[youtube] nWCATzTi0HU: Downloading webpage\n",
      "[download] Destination: Rahsia Bendera Malaysia yang Tak Terjawab Sampai Sekarang-nWCATzTi0HU.webm\n",
      "[download] 100% of 8.09MiB in 00:0008MiB/s ETA 00:001\n",
      "[ffmpeg] Destination: Rahsia Bendera Malaysia yang Tak Terjawab Sampai Sekarang-nWCATzTi0HU.mp3\n",
      "Deleting original file Podcast Bekpek  -Berbasikal Malaysia Ke Mekah(Ditahan dan dibawa Kem Askar Pakistan Semasa Di Gunung)-_bfH3pxuOoM.m4a (pass -k to keep)\n"
     ]
    },
    {
     "name": "stderr",
     "output_type": "stream",
     "text": [
      " 62%|██████▎   | 10/16 [29:05<18:36, 186.08s/it]"
     ]
    },
    {
     "name": "stdout",
     "output_type": "stream",
     "text": [
      "[youtube] VNYyHVdO8_U: Downloading webpage\n",
      "[download] Destination: MLATS #8 _ DAH DAH JANGAN GADUH T-T-VNYyHVdO8_U.webm\n",
      "[download] 100% of 9.11MiB in 00:0041MiB/s ETA 00:009\n",
      "[ffmpeg] Destination: MLATS #8 _ DAH DAH JANGAN GADUH T-T-VNYyHVdO8_U.mp3\n",
      "Deleting original file 213 _ Kekuatan Tentera NABI SULAIMAN 😯 _ Ustaz Auni Mohamed-DXDML7x2FQs.webm (pass -k to keep)\n"
     ]
    },
    {
     "name": "stderr",
     "output_type": "stream",
     "text": [
      "100%|██████████| 16/16 [29:09<00:00, 109.37s/it]\n"
     ]
    },
    {
     "name": "stdout",
     "output_type": "stream",
     "text": [
      "Deleting original file Besar Jasa Nabi Musa Kepada Umat Nabi Muhammad _ Ustaz Mohd Nazrul Al Azhari-xw2IYlEVSn8.m4a (pass -k to keep)\n"
     ]
    },
    {
     "name": "stderr",
     "output_type": "stream",
     "text": [
      " 69%|██████▉   | 11/16 [29:11<14:06, 169.27s/it]"
     ]
    },
    {
     "name": "stdout",
     "output_type": "stream",
     "text": [
      "[youtube] -t8sUAMQ94M: Downloading webpage\n",
      "[download] Destination: Manusia Cukup TAK SUKA Dua Benda Ini 😮 _ Ustaz Dato Kazim Elias--t8sUAMQ94M.m4a\n",
      "[download] 100% of 10.73MiB in 00:0287MiB/s ETA 00:000nown ETA\n",
      "[ffmpeg] Correcting container in \"Manusia Cukup TAK SUKA Dua Benda Ini 😮 _ Ustaz Dato Kazim Elias--t8sUAMQ94M.m4a\"\n",
      "[ffmpeg] Destination: Manusia Cukup TAK SUKA Dua Benda Ini 😮 _ Ustaz Dato Kazim Elias--t8sUAMQ94M.mp3\n",
      "Deleting original file Rahsia Bendera Malaysia yang Tak Terjawab Sampai Sekarang-nWCATzTi0HU.webm (pass -k to keep)\n"
     ]
    },
    {
     "name": "stderr",
     "output_type": "stream",
     "text": [
      " 94%|█████████▍| 15/16 [29:32<01:37, 97.77s/it] "
     ]
    },
    {
     "name": "stdout",
     "output_type": "stream",
     "text": [
      "[youtube] pu1B9RTGRfk: Downloading webpage\n",
      "[download] Destination: Aku Nak Anak Aku Jadi ULAMA’ _ Syeikh Muhd Zainul Asri-pu1B9RTGRfk.webm\n",
      "[download] 100% of 47.12MiB in 00:0175MiB/s ETA 00:001nown ETA\n",
      "[ffmpeg] Destination: Aku Nak Anak Aku Jadi ULAMA’ _ Syeikh Muhd Zainul Asri-pu1B9RTGRfk.mp3\n",
      "Deleting original file Manusia Cukup TAK SUKA Dua Benda Ini 😮 _ Ustaz Dato Kazim Elias--t8sUAMQ94M.m4a (pass -k to keep)\n"
     ]
    },
    {
     "name": "stderr",
     "output_type": "stream",
     "text": [
      " 75%|███████▌  | 12/16 [29:37<08:25, 126.34s/it]"
     ]
    },
    {
     "name": "stdout",
     "output_type": "stream",
     "text": [
      "[youtube] EXgPLTHDM-c: Downloading webpage\n",
      "Deleting original file MLATS #8 _ DAH DAH JANGAN GADUH T-T-VNYyHVdO8_U.webm (pass -k to keep)\n"
     ]
    },
    {
     "name": "stderr",
     "output_type": "stream",
     "text": [
      " 69%|██████▉   | 11/16 [29:38<11:40, 140.04s/it]"
     ]
    },
    {
     "name": "stdout",
     "output_type": "stream",
     "text": [
      "[youtube] IFhlmN0bDyI: Downloading webpage\n",
      "[download] Destination: Episod Penuh Bing _ 35+ Minit _ Eps 21-25 _ Bing Bahasa Melayu-EXgPLTHDM-c.webm\n",
      "[download]  58.5% of 33.05MiB at 29.04MiB/s ETA 00:008nown ETA[download] Destination: Doa Orang Yang Dizalimi Sangat BERACUN _ Ustaz Mohd Aslam-IFhlmN0bDyI.m4a\n",
      "[download] 100% of 33.05MiB in 00:0173MiB/s ETA 00:004nown ETA\n",
      "[ffmpeg] Destination: Episod Penuh Bing _ 35+ Minit _ Eps 21-25 _ Bing Bahasa Melayu-EXgPLTHDM-c.mp3\n",
      "[download] 100% of 43.99MiB in 00:0728MiB/s ETA 00:005nown ETA\n",
      "[ffmpeg] Correcting container in \"Doa Orang Yang Dizalimi Sangat BERACUN _ Ustaz Mohd Aslam-IFhlmN0bDyI.m4a\"\n",
      "[ffmpeg] Destination: Doa Orang Yang Dizalimi Sangat BERACUN _ Ustaz Mohd Aslam-IFhlmN0bDyI.mp3\n",
      "Deleting original file Podcast Bekpek  - Dikejar Yakuza Ketika Berbasikal Di Jepun Selama Sebulan-_Zsx149RtiU.m4a (pass -k to keep)\n"
     ]
    },
    {
     "name": "stderr",
     "output_type": "stream",
     "text": [
      " 75%|███████▌  | 12/16 [29:53<10:42, 160.59s/it]"
     ]
    },
    {
     "name": "stdout",
     "output_type": "stream",
     "text": [
      "[youtube] ds3-U1BeznE: Downloading webpage\n",
      "[download] Destination: Aku Lebih Layak Menjaganya 😯 _ Ustaz Auni Mohamed-ds3-U1BeznE.webm\n",
      "[download] 100% of 10.46MiB in 00:0073MiB/s ETA 00:000nown ETA\n",
      "[ffmpeg] Destination: Aku Lebih Layak Menjaganya 😯 _ Ustaz Auni Mohamed-ds3-U1BeznE.mp3\n",
      "Deleting original file Aku Lebih Layak Menjaganya 😯 _ Ustaz Auni Mohamed-ds3-U1BeznE.webm (pass -k to keep)\n"
     ]
    },
    {
     "name": "stderr",
     "output_type": "stream",
     "text": [
      " 81%|████████▏ | 13/16 [30:30<06:10, 123.59s/it]"
     ]
    },
    {
     "name": "stdout",
     "output_type": "stream",
     "text": [
      "[youtube] lTQJminlKn0: Downloading webpage\n",
      "[download] Destination: MLATS #5 _ Dunia Kita Berapa Gigabyte-lTQJminlKn0.webm\n",
      "[download] 100% of 10.16MiB in 00:0060MiB/s ETA 00:000nown ETA\n",
      "Deleting original file Ratu Balqis Anak Dari Golongan JIN  😯 _ Ustaz Auni Mohamed-arZATVyf8j8.webm (pass -k to keep)\n"
     ]
    },
    {
     "name": "stderr",
     "output_type": "stream",
     "text": [
      " 50%|█████     | 8/16 [30:32<23:41, 177.65s/it]"
     ]
    },
    {
     "name": "stdout",
     "output_type": "stream",
     "text": [
      "[ffmpeg] Destination: MLATS #5 _ Dunia Kita Berapa Gigabyte-lTQJminlKn0.mp3\n",
      "[youtube] 32GoCGuk4R4: Downloading webpage\n",
      "[download] Destination: Kenapa TAK TEGUR Anak Bini 😥 _ Ustaz Mohd Aslam-32GoCGuk4R4.m4a\n",
      "[download] 100% of 11.52MiB in 00:0104MiB/s ETA 00:002nown ETA\n",
      "[ffmpeg] Correcting container in \"Kenapa TAK TEGUR Anak Bini 😥 _ Ustaz Mohd Aslam-32GoCGuk4R4.m4a\"\n",
      "[ffmpeg] Destination: Kenapa TAK TEGUR Anak Bini 😥 _ Ustaz Mohd Aslam-32GoCGuk4R4.mp3\n",
      "Deleting original file Kenapa TAK TEGUR Anak Bini 😥 _ Ustaz Mohd Aslam-32GoCGuk4R4.m4a (pass -k to keep)\n"
     ]
    },
    {
     "name": "stderr",
     "output_type": "stream",
     "text": [
      " 56%|█████▋    | 9/16 [31:00<15:28, 132.63s/it]"
     ]
    },
    {
     "name": "stdout",
     "output_type": "stream",
     "text": [
      "[youtube] RnNs7-49jmE: Downloading webpage\n",
      "[download] Destination: Adab ALIM Kepada Para Murid _ Ustaz Mohd Nazrul Al Azhari-RnNs7-49jmE.m4a\n",
      "[download] 100% of 71.55MiB in 00:0381MiB/s ETA 00:004nown ETA\n",
      "[ffmpeg] Correcting container in \"Adab ALIM Kepada Para Murid _ Ustaz Mohd Nazrul Al Azhari-RnNs7-49jmE.m4a\"\n",
      "Deleting original file MLATS #5 _ Dunia Kita Berapa Gigabyte-lTQJminlKn0.webm (pass -k to keep)\n"
     ]
    },
    {
     "name": "stderr",
     "output_type": "stream",
     "text": [
      " 88%|████████▊ | 14/16 [31:06<03:14, 97.15s/it] "
     ]
    },
    {
     "name": "stdout",
     "output_type": "stream",
     "text": [
      "[ffmpeg] Destination: Adab ALIM Kepada Para Murid _ Ustaz Mohd Nazrul Al Azhari-RnNs7-49jmE.mp3\n",
      "[youtube] sw5h9hlityE: Downloading webpage\n",
      "[youtube] sw5h9hlityE: Downloading MPD manifest\n",
      "[dashsegments] Total fragments: 237\n",
      "[download] Destination: RAHSIA MELIHAT KE DALAM DIRI (PODCAST)-sw5h9hlityE.webm\n",
      "[download]  21.5% of ~31.90MiB at  1.47MiB/s ETA 00:27803Deleting original file Doa Orang Yang Dizalimi Sangat BERACUN _ Ustaz Mohd Aslam-IFhlmN0bDyI.m4a (pass -k to keep)\n",
      "[download]  21.5% of ~31.90MiB at 336.91KiB/s ETA 00:27"
     ]
    },
    {
     "name": "stderr",
     "output_type": "stream",
     "text": [
      " 75%|███████▌  | 12/16 [31:15<08:28, 127.22s/it]"
     ]
    },
    {
     "name": "stdout",
     "output_type": "stream",
     "text": [
      "[download]  22.4% of ~31.87MiB at  1.24MiB/s ETA 00:277[youtube] RHkqyW16nAM: Downloading webpage\n",
      "[download]  24.3% of ~31.81MiB at 793.58KiB/s ETA 00:267[download] Destination: Kamu Akan Jadi Pembantu NABI Akhir Zaman _ Ustaz Mohd Nazrul Al Azhari-RHkqyW16nAM.webm\n",
      "[download] 100% of 23.95MiB in 00:01.15MiB/s ETA 00:255own ETA\n",
      "[download]  27.9% of ~31.78MiB at 170.34KiB/s ETA 00:25[ffmpeg] Destination: Kamu Akan Jadi Pembantu NABI Akhir Zaman _ Ustaz Mohd Nazrul Al Azhari-RHkqyW16nAM.mp3\n",
      "[download]  40.9% of ~31.64MiB at  1.47MiB/s ETA 00:2013Deleting original file Episod Penuh Bing _ 35+ Minit _ Eps 21-25 _ Bing Bahasa Melayu-EXgPLTHDM-c.webm (pass -k to keep)\n"
     ]
    },
    {
     "name": "stderr",
     "output_type": "stream",
     "text": [
      " 81%|████████▏ | 13/16 [31:22<06:00, 120.00s/it]"
     ]
    },
    {
     "name": "stdout",
     "output_type": "stream",
     "text": [
      "[download]  41.8% of ~31.65MiB at  1.82MiB/s ETA 00:200[youtube] e7xE7V11Vwc: Downloading webpage\n",
      "[download]  43.9% of ~31.66MiB at  1.98MiB/s ETA 00:199[download] Destination: KJ React First Video Sendiri Di ML Studio, Malu Tapi Berbaloi.-e7xE7V11Vwc.webm\n",
      "[download] 100% of 8.46MiB in 00:0053MiB/s ETA 00:00199\n",
      "[download]  45.1% of ~31.71MiB at  1.33MiB/s ETA 00:199[ffmpeg] Destination: KJ React First Video Sendiri Di ML Studio, Malu Tapi Berbaloi.-e7xE7V11Vwc.mp3\n",
      "[download] 100% of 31.37MiB in 00:365.00KiB/s ETA 00:001\n",
      "[ffmpeg] Destination: RAHSIA MELIHAT KE DALAM DIRI (PODCAST)-sw5h9hlityE.mp3\n",
      "Deleting original file KJ React First Video Sendiri Di ML Studio, Malu Tapi Berbaloi.-e7xE7V11Vwc.webm (pass -k to keep)\n"
     ]
    },
    {
     "name": "stderr",
     "output_type": "stream",
     "text": [
      " 88%|████████▊ | 14/16 [31:52<03:05, 92.96s/it] "
     ]
    },
    {
     "name": "stdout",
     "output_type": "stream",
     "text": [
      "[youtube] SVViu1hC4UI: Downloading webpage\n",
      "[download] Destination: Warna pink tak wujud-SVViu1hC4UI.webm\n",
      "[download] 100% of 6.69MiB in 00:0078MiB/s ETA 00:009\n",
      "[ffmpeg] Destination: Warna pink tak wujud-SVViu1hC4UI.mp3\n",
      "Deleting original file Aku Nak Anak Aku Jadi ULAMA’ _ Syeikh Muhd Zainul Asri-pu1B9RTGRfk.webm (pass -k to keep)\n"
     ]
    },
    {
     "name": "stderr",
     "output_type": "stream",
     "text": [
      "100%|██████████| 16/16 [32:00<00:00, 120.01s/it]\n"
     ]
    },
    {
     "name": "stdout",
     "output_type": "stream",
     "text": [
      "Deleting original file Warna pink tak wujud-SVViu1hC4UI.webm (pass -k to keep)\n"
     ]
    },
    {
     "name": "stderr",
     "output_type": "stream",
     "text": [
      " 94%|█████████▍| 15/16 [32:12<01:11, 71.14s/it]"
     ]
    },
    {
     "name": "stdout",
     "output_type": "stream",
     "text": [
      "[youtube] Oeof60EnP0s: Downloading webpage\n",
      "[download] Destination: Podcast Bekpek - Pahit Manis Backpacker Selama 6 bulan Di India Dan Pakistan-Oeof60EnP0s.m4a\n",
      "[download] 100% of 44.07MiB in 00:0567MiB/s ETA 00:004nown ETA\n",
      "[ffmpeg] Correcting container in \"Podcast Bekpek - Pahit Manis Backpacker Selama 6 bulan Di India Dan Pakistan-Oeof60EnP0s.m4a\"\n",
      "Deleting original file Kamu Akan Jadi Pembantu NABI Akhir Zaman _ Ustaz Mohd Nazrul Al Azhari-RHkqyW16nAM.webm (pass -k to keep)\n"
     ]
    },
    {
     "name": "stderr",
     "output_type": "stream",
     "text": [
      " 81%|████████▏ | 13/16 [32:19<05:24, 108.15s/it]"
     ]
    },
    {
     "name": "stdout",
     "output_type": "stream",
     "text": [
      "[youtube] PhYkAGmhgTQ: Downloading webpage\n",
      "[ffmpeg] Destination: Podcast Bekpek - Pahit Manis Backpacker Selama 6 bulan Di India Dan Pakistan-Oeof60EnP0s.mp3\n",
      "[download] Destination: Orang Yang Disebutkan Hadis Itu Adalah Guruku _ Ustaz Wadi Annuar-PhYkAGmhgTQ.m4a\n",
      "[download] 100% of 10.71MiB in 00:0098MiB/s ETA 00:000nown ETA\n",
      "[ffmpeg] Correcting container in \"Orang Yang Disebutkan Hadis Itu Adalah Guruku _ Ustaz Wadi Annuar-PhYkAGmhgTQ.m4a\"\n",
      "[ffmpeg] Destination: Orang Yang Disebutkan Hadis Itu Adalah Guruku _ Ustaz Wadi Annuar-PhYkAGmhgTQ.mp3\n",
      "Deleting original file Orang Yang Disebutkan Hadis Itu Adalah Guruku _ Ustaz Wadi Annuar-PhYkAGmhgTQ.m4a (pass -k to keep)\n"
     ]
    },
    {
     "name": "stderr",
     "output_type": "stream",
     "text": [
      " 88%|████████▊ | 14/16 [32:39<02:43, 81.78s/it] "
     ]
    },
    {
     "name": "stdout",
     "output_type": "stream",
     "text": [
      "[youtube] 5Yu8ZklAV1Q: Downloading webpage\n",
      "[download] Destination: 209 _ Kisah Qorun, SI KAYA Yang Binasa 😔 _ Ustaz Auni Mohamed-5Yu8ZklAV1Q.webm\n",
      "[download] 100% of 46.26MiB in 00:0168MiB/s ETA 00:009nown ETA\n",
      "[ffmpeg] Destination: 209 _ Kisah Qorun, SI KAYA Yang Binasa 😔 _ Ustaz Auni Mohamed-5Yu8ZklAV1Q.mp3\n",
      "Deleting original file RAHSIA MELIHAT KE DALAM DIRI (PODCAST)-sw5h9hlityE.webm (pass -k to keep)\n"
     ]
    },
    {
     "name": "stderr",
     "output_type": "stream",
     "text": [
      " 94%|█████████▍| 15/16 [33:04<01:43, 103.57s/it]"
     ]
    },
    {
     "name": "stdout",
     "output_type": "stream",
     "text": [
      "[youtube] hIjJGdzOhk8: Downloading webpage\n",
      "[download] Destination: Tanah Melayu  - Rahsia Disebalik SAKA & Buka Deria Batin-hIjJGdzOhk8.webm\n",
      "[download] 100% of 44.03MiB in 00:0299MiB/s ETA 00:005nown ETA\n",
      "[ffmpeg] Destination: Tanah Melayu  - Rahsia Disebalik SAKA & Buka Deria Batin-hIjJGdzOhk8.mp3\n",
      "Deleting original file Adab ALIM Kepada Para Murid _ Ustaz Mohd Nazrul Al Azhari-RnNs7-49jmE.m4a (pass -k to keep)\n"
     ]
    },
    {
     "name": "stderr",
     "output_type": "stream",
     "text": [
      " 62%|██████▎   | 10/16 [33:10<13:10, 131.81s/it]"
     ]
    },
    {
     "name": "stdout",
     "output_type": "stream",
     "text": [
      "[youtube] AyoBUd469wA: Downloading webpage\n",
      "[download] Destination: But Besar _ Episod Penuh Bing _ Bing Bahasa Melayu-AyoBUd469wA.webm\n",
      "[download] 100% of 6.70MiB in 00:0055MiB/s ETA 00:000\n",
      "[ffmpeg] Destination: But Besar _ Episod Penuh Bing _ Bing Bahasa Melayu-AyoBUd469wA.mp3\n",
      "Deleting original file Podcast Bekpek - Pahit Manis Backpacker Selama 6 bulan Di India Dan Pakistan-Oeof60EnP0s.m4a (pass -k to keep)\n",
      "Deleting original file But Besar _ Episod Penuh Bing _ Bing Bahasa Melayu-AyoBUd469wA.webm (pass -k to keep)\n"
     ]
    },
    {
     "name": "stderr",
     "output_type": "stream",
     "text": [
      "100%|██████████| 16/16 [33:30<00:00, 125.68s/it]\n"
     ]
    },
    {
     "name": "stdout",
     "output_type": "stream",
     "text": [
      "[youtube] trY5KYqaiXw: Downloading webpage\n",
      "[download] Destination: Founder dedahkan habis-habisan rahsia bisnesnya!-trY5KYqaiXw.webm\n",
      "[download] 100% of 33.25MiB in 00:0239MiB/s ETA 00:004nown ETA\n",
      "[ffmpeg] Destination: Founder dedahkan habis-habisan rahsia bisnesnya!-trY5KYqaiXw.mp3\n",
      "Deleting original file Sesi 2  - Fahami Realiti Kerajaan Diri-NSRWj5Zz7Qo.webm (pass -k to keep)\n"
     ]
    },
    {
     "name": "stderr",
     "output_type": "stream",
     "text": [
      " 62%|██████▎   | 10/16 [34:05<19:59, 199.91s/it]"
     ]
    },
    {
     "name": "stdout",
     "output_type": "stream",
     "text": [
      "[youtube] s4hfxsYVnpE: Downloading webpage\n",
      "[download] Destination: JANGAN SILAP Pilih 3 Pekara Ini ☝️ _ Ustaz Mohd Shaffi-s4hfxsYVnpE.m4a\n",
      "[download] 100% of 9.48MiB in 00:0157MiB/s ETA 00:004\n",
      "[ffmpeg] Correcting container in \"JANGAN SILAP Pilih 3 Pekara Ini ☝️ _ Ustaz Mohd Shaffi-s4hfxsYVnpE.m4a\"\n",
      "[ffmpeg] Destination: JANGAN SILAP Pilih 3 Pekara Ini ☝️ _ Ustaz Mohd Shaffi-s4hfxsYVnpE.mp3\n",
      "Deleting original file JANGAN SILAP Pilih 3 Pekara Ini ☝️ _ Ustaz Mohd Shaffi-s4hfxsYVnpE.m4a (pass -k to keep)\n"
     ]
    },
    {
     "name": "stderr",
     "output_type": "stream",
     "text": [
      " 69%|██████▉   | 11/16 [34:21<12:03, 144.62s/it]"
     ]
    },
    {
     "name": "stdout",
     "output_type": "stream",
     "text": [
      "[youtube] iW946gD8BcI: Downloading webpage\n",
      "[download] Destination: Bahasa bahasa  - Kenapa Begitu ft sumie azil-iW946gD8BcI.webm\n",
      "[download] 100% of 5.28MiB in 00:0023MiB/s ETA 00:007\n",
      "[ffmpeg] Destination: Bahasa bahasa  - Kenapa Begitu ft sumie azil-iW946gD8BcI.mp3\n",
      "Deleting original file 209 _ Kisah Qorun, SI KAYA Yang Binasa 😔 _ Ustaz Auni Mohamed-5Yu8ZklAV1Q.webm (pass -k to keep)\n"
     ]
    },
    {
     "name": "stderr",
     "output_type": "stream",
     "text": [
      " 94%|█████████▍| 15/16 [34:32<01:31, 91.03s/it]"
     ]
    },
    {
     "name": "stdout",
     "output_type": "stream",
     "text": [
      "[youtube] TwOgCpknOUU: Downloading webpage\n",
      "[download] Destination: Soalan Susah Tapi Kena Bagi Budak 5 Tahun Faham (ELI 5)-TwOgCpknOUU.webm\n",
      "[download] 100% of 9.30MiB in 00:0053MiB/s ETA 00:003\n",
      "[ffmpeg] Destination: Soalan Susah Tapi Kena Bagi Budak 5 Tahun Faham (ELI 5)-TwOgCpknOUU.mp3\n",
      "Deleting original file Founder dedahkan habis-habisan rahsia bisnesnya!-trY5KYqaiXw.webm (pass -k to keep)\n"
     ]
    },
    {
     "name": "stderr",
     "output_type": "stream",
     "text": [
      " 75%|███████▌  | 12/16 [34:34<05:51, 87.91s/it]"
     ]
    },
    {
     "name": "stdout",
     "output_type": "stream",
     "text": [
      "[youtube] gynmylUhxLg: Downloading webpage\n",
      "Deleting original file Bahasa bahasa  - Kenapa Begitu ft sumie azil-iW946gD8BcI.webm (pass -k to keep)\n"
     ]
    },
    {
     "name": "stderr",
     "output_type": "stream",
     "text": [
      " 75%|███████▌  | 12/16 [34:34<07:01, 105.28s/it]"
     ]
    },
    {
     "name": "stdout",
     "output_type": "stream",
     "text": [
      "[youtube] KkjtaMemWIc: Downloading webpage\n",
      "[download] Destination: Saksiku Ialah Nabi Muhammad & Umatnya _ Ustaz Auni Mohamed-gynmylUhxLg.m4a\n",
      "[download] 100% of 11.00MiB in 00:0062MiB/s ETA 00:00known ETA\n",
      "[download] Destination: Tak Pernah Penat, Sebab Buat Kerana ALLAH _ Ustaz Mohd Anuar-KkjtaMemWIc.m4a\n",
      "[download]  21.4% of 9.36MiB at 50.36MiB/s ETA 00:000[ffmpeg] Correcting container in \"Saksiku Ialah Nabi Muhammad & Umatnya _ Ustaz Auni Mohamed-gynmylUhxLg.m4a\"\n",
      "[download] 100% of 9.36MiB in 00:0085MiB/s ETA 00:00\n",
      "[ffmpeg] Destination: Saksiku Ialah Nabi Muhammad & Umatnya _ Ustaz Auni Mohamed-gynmylUhxLg.mp3\n",
      "[ffmpeg] Correcting container in \"Tak Pernah Penat, Sebab Buat Kerana ALLAH _ Ustaz Mohd Anuar-KkjtaMemWIc.m4a\"\n",
      "[ffmpeg] Destination: Tak Pernah Penat, Sebab Buat Kerana ALLAH _ Ustaz Mohd Anuar-KkjtaMemWIc.mp3\n",
      "Deleting original file Tak Pernah Penat, Sebab Buat Kerana ALLAH _ Ustaz Mohd Anuar-KkjtaMemWIc.m4a (pass -k to keep)\n"
     ]
    },
    {
     "name": "stderr",
     "output_type": "stream",
     "text": [
      " 81%|████████▏ | 13/16 [34:49<03:53, 77.99s/it] "
     ]
    },
    {
     "name": "stdout",
     "output_type": "stream",
     "text": [
      "[youtube] HGFCASE37OQ: Downloading webpage\n",
      "[download] Destination: Siapa Buat Soalan IQ Pelik Ni Kenapa-HGFCASE37OQ.webm\n",
      "[download] 100% of 7.35MiB in 00:0012MiB/s ETA 00:000\n",
      "[ffmpeg] Destination: Siapa Buat Soalan IQ Pelik Ni Kenapa-HGFCASE37OQ.mp3\n",
      "Deleting original file Saksiku Ialah Nabi Muhammad & Umatnya _ Ustaz Auni Mohamed-gynmylUhxLg.m4a (pass -k to keep)\n"
     ]
    },
    {
     "name": "stderr",
     "output_type": "stream",
     "text": [
      " 81%|████████▏ | 13/16 [34:50<03:18, 66.30s/it]"
     ]
    },
    {
     "name": "stdout",
     "output_type": "stream",
     "text": [
      "[youtube] QoA1y20tyOw: Downloading webpage\n",
      "[download] Destination: Macam mana Bahasa Melayu Tanpa Kata Pinjaman Asing (Teka Beka Melayu)-QoA1y20tyOw.webm\n",
      "[download] 100% of 9.38MiB in 00:0083MiB/s ETA 00:004\n",
      "[ffmpeg] Destination: Macam mana Bahasa Melayu Tanpa Kata Pinjaman Asing (Teka Beka Melayu)-QoA1y20tyOw.mp3\n",
      "Deleting original file Soalan Susah Tapi Kena Bagi Budak 5 Tahun Faham (ELI 5)-TwOgCpknOUU.webm (pass -k to keep)\n"
     ]
    },
    {
     "name": "stderr",
     "output_type": "stream",
     "text": [
      "100%|██████████| 16/16 [34:53<00:00, 130.84s/it]\n"
     ]
    },
    {
     "name": "stdout",
     "output_type": "stream",
     "text": [
      "Deleting original file Tanah Melayu  - Rahsia Disebalik SAKA & Buka Deria Batin-hIjJGdzOhk8.webm (pass -k to keep)\n"
     ]
    },
    {
     "name": "stderr",
     "output_type": "stream",
     "text": [
      "100%|██████████| 16/16 [34:54<00:00, 130.89s/it]\n"
     ]
    },
    {
     "name": "stdout",
     "output_type": "stream",
     "text": [
      "Deleting original file Siapa Buat Soalan IQ Pelik Ni Kenapa-HGFCASE37OQ.webm (pass -k to keep)\n"
     ]
    },
    {
     "name": "stderr",
     "output_type": "stream",
     "text": [
      " 88%|████████▊ | 14/16 [35:01<01:56, 58.44s/it]"
     ]
    },
    {
     "name": "stdout",
     "output_type": "stream",
     "text": [
      "[youtube] Wm-8ZeLyux0: Downloading webpage\n",
      "[download] Destination: Bila Mata Bertentang Mata ❤️ _ Ustaz Mohd Lukmanul Hakim-Wm-8ZeLyux0.webm\n",
      "[download]  71.4% of 33.09MiB at  6.59MiB/s ETA 00:01known ETADeleting original file Macam mana Bahasa Melayu Tanpa Kata Pinjaman Asing (Teka Beka Melayu)-QoA1y20tyOw.webm (pass -k to keep)\n"
     ]
    },
    {
     "name": "stderr",
     "output_type": "stream",
     "text": [
      " 88%|████████▊ | 14/16 [35:06<01:42, 51.26s/it]"
     ]
    },
    {
     "name": "stdout",
     "output_type": "stream",
     "text": [
      "[youtube] Z2KnOKHBWFY: Downloading webpage\n",
      "[download]  83.5% of 33.09MiB at  6.50MiB/s ETA 00:00[download] Destination: Misteri Panjang Sebenar Malaysia-Z2KnOKHBWFY.webm\n",
      "[download] 100% of 7.63MiB in 00:0063MiB/s ETA 00:000known ETA\n",
      "[ffmpeg] Destination: Misteri Panjang Sebenar Malaysia-Z2KnOKHBWFY.mp3\n",
      "[download] 100% of 33.09MiB in 00:0539MiB/s ETA 00:00\n",
      "[ffmpeg] Destination: Bila Mata Bertentang Mata ❤️ _ Ustaz Mohd Lukmanul Hakim-Wm-8ZeLyux0.mp3\n",
      "Deleting original file Misteri Panjang Sebenar Malaysia-Z2KnOKHBWFY.webm (pass -k to keep)\n"
     ]
    },
    {
     "name": "stderr",
     "output_type": "stream",
     "text": [
      " 94%|█████████▍| 15/16 [35:18<00:39, 39.66s/it]"
     ]
    },
    {
     "name": "stdout",
     "output_type": "stream",
     "text": [
      "[youtube] JXcolry-4Pk: Downloading webpage\n",
      "[download] Destination: Ini Sebab Kenapa Orang Malaysia Tak Suka Travel Dalam Malaysia.-JXcolry-4Pk.webm\n",
      "[download] 100% of 12.15MiB in 00:0058MiB/s ETA 00:00known ETA\n",
      "[ffmpeg] Destination: Ini Sebab Kenapa Orang Malaysia Tak Suka Travel Dalam Malaysia.-JXcolry-4Pk.mp3\n",
      "Deleting original file Ini Sebab Kenapa Orang Malaysia Tak Suka Travel Dalam Malaysia.-JXcolry-4Pk.webm (pass -k to keep)\n"
     ]
    },
    {
     "name": "stderr",
     "output_type": "stream",
     "text": [
      "100%|██████████| 16/16 [35:37<00:00, 133.62s/it]\n"
     ]
    },
    {
     "name": "stdout",
     "output_type": "stream",
     "text": [
      "Deleting original file Bila Mata Bertentang Mata ❤️ _ Ustaz Mohd Lukmanul Hakim-Wm-8ZeLyux0.webm (pass -k to keep)\n"
     ]
    },
    {
     "name": "stderr",
     "output_type": "stream",
     "text": [
      " 94%|█████████▍| 15/16 [35:58<00:57, 57.96s/it]"
     ]
    },
    {
     "name": "stdout",
     "output_type": "stream",
     "text": [
      "[youtube] CPzDF8FUdcU: Downloading webpage\n",
      "[download] Destination: Peribahasa yang Tunjuk Melayu Sebenarnya Genius-CPzDF8FUdcU.webm\n",
      "[download] 100% of 8.05MiB in 00:0037MiB/s ETA 00:009\n",
      "[ffmpeg] Destination: Peribahasa yang Tunjuk Melayu Sebenarnya Genius-CPzDF8FUdcU.mp3\n",
      "Deleting original file Peribahasa yang Tunjuk Melayu Sebenarnya Genius-CPzDF8FUdcU.webm (pass -k to keep)\n"
     ]
    },
    {
     "name": "stderr",
     "output_type": "stream",
     "text": [
      "100%|██████████| 16/16 [36:11<00:00, 135.71s/it]\n"
     ]
    }
   ],
   "source": [
    "import mp\n",
    "mp.multiprocessing(videos, loop, cores = 12, returned = False)"
   ]
  },
  {
   "cell_type": "code",
   "execution_count": 1,
   "metadata": {},
   "outputs": [],
   "source": [
    "!mkdir malay-video\n",
    "!mv *.mp3 malay-video"
   ]
  }
 ],
 "metadata": {
  "kernelspec": {
   "display_name": "Python 3",
   "language": "python",
   "name": "python3"
  },
  "language_info": {
   "codemirror_mode": {
    "name": "ipython",
    "version": 3
   },
   "file_extension": ".py",
   "mimetype": "text/x-python",
   "name": "python",
   "nbconvert_exporter": "python",
   "pygments_lexer": "ipython3",
   "version": "3.6.9"
  }
 },
 "nbformat": 4,
 "nbformat_minor": 4
}
