{
 "cells": [
  {
   "cell_type": "code",
   "execution_count": 1,
   "metadata": {},
   "outputs": [
    {
     "data": {
      "text/html": [
       "\n",
       "<style>\n",
       "input.raw_input{\n",
       "    width: 95%\n",
       "}\n",
       "</style>\n"
      ],
      "text/plain": [
       "<IPython.core.display.HTML object>"
      ]
     },
     "execution_count": 1,
     "metadata": {},
     "output_type": "execute_result"
    }
   ],
   "source": [
    "from IPython.core.display import HTML\n",
    "HTML(\"\"\"\n",
    "<style>\n",
    "input.raw_input{\n",
    "    width: 95%\n",
    "}\n",
    "</style>\n",
    "\"\"\")"
   ]
  },
  {
   "cell_type": "code",
   "execution_count": 2,
   "metadata": {},
   "outputs": [
    {
     "name": "stderr",
     "output_type": "stream",
     "text": [
      "/home/ubuntu/.local/lib/python3.6/site-packages/numba/errors.py:137: UserWarning: Insufficiently recent colorama version found. Numba requires colorama >= 0.3.9\n",
      "  warnings.warn(msg)\n"
     ]
    }
   ],
   "source": [
    "from glob import glob\n",
    "import IPython.display as ipd\n",
    "import os\n",
    "import librosa"
   ]
  },
  {
   "cell_type": "code",
   "execution_count": 3,
   "metadata": {},
   "outputs": [
    {
     "data": {
      "text/plain": [
       "(57895, 57895)"
      ]
     },
     "execution_count": 3,
     "metadata": {},
     "output_type": "execute_result"
    }
   ],
   "source": [
    "wavs = glob('output-wav/*.wav')\n",
    "texts = glob('output-text/*.txt')\n",
    "len(wavs), len(texts)"
   ]
  },
  {
   "cell_type": "code",
   "execution_count": 4,
   "metadata": {
    "scrolled": true
   },
   "outputs": [
    {
     "name": "stdout",
     "output_type": "stream",
     "text": [
      "mkdir: cannot create directory ‘label’: File exists\r\n"
     ]
    }
   ],
   "source": [
    "!mkdir label"
   ]
  },
  {
   "cell_type": "code",
   "execution_count": 16,
   "metadata": {},
   "outputs": [],
   "source": [
    "# uncomment code below to start\n",
    "\n",
    "# w = wavs[:200]\n",
    "# for no, wav in enumerate(w):\n",
    "#     file = os.path.split(wav)[1]\n",
    "#     path = f'label/{file}.txt'\n",
    "#     with open(f'output-text/{file}.txt') as fopen:\n",
    "#         semi = fopen.read()\n",
    "#     if os.path.exists(path):\n",
    "#         continue\n",
    "#     y, _ = librosa.load(wav, sr = 16000)\n",
    "#     # y = librosa.resample(y, 16000, 22050)\n",
    "#     ipd.display(ipd.Audio(y, rate = 12000))\n",
    "#     ipd.display(ipd.Audio(y, rate = 16000))\n",
    "#     print(f'{no + 1} / {len(w)}, semi: {semi}')\n",
    "#     text = input('transcript: ')\n",
    "#     if not len(text):\n",
    "#         text = 'IGNORED'\n",
    "#     with open(path, 'w') as fopen:\n",
    "#         fopen.write(text)"
   ]
  },
  {
   "cell_type": "code",
   "execution_count": null,
   "metadata": {},
   "outputs": [],
   "source": []
  }
 ],
 "metadata": {
  "kernelspec": {
   "display_name": "Python 3",
   "language": "python",
   "name": "python3"
  },
  "language_info": {
   "codemirror_mode": {
    "name": "ipython",
    "version": 3
   },
   "file_extension": ".py",
   "mimetype": "text/x-python",
   "name": "python",
   "nbconvert_exporter": "python",
   "pygments_lexer": "ipython3",
   "version": "3.6.9"
  }
 },
 "nbformat": 4,
 "nbformat_minor": 4
}
