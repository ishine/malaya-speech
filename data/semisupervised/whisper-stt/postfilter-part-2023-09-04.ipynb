{
 "cells": [
  {
   "cell_type": "code",
   "execution_count": 1,
   "metadata": {},
   "outputs": [],
   "source": [
    "import json\n",
    "import os\n",
    "import numpy as np\n",
    "import re\n",
    "from tqdm import tqdm\n",
    "from glob import glob\n",
    "from collections import defaultdict\n",
    "from datasets import Audio\n",
    "import torchaudio\n",
    "import torch\n",
    "import soundfile as sf"
   ]
  },
  {
   "cell_type": "code",
   "execution_count": 2,
   "metadata": {},
   "outputs": [],
   "source": [
    "sr = 16000\n",
    "reader = Audio(sampling_rate = sr)"
   ]
  },
  {
   "cell_type": "code",
   "execution_count": 4,
   "metadata": {},
   "outputs": [
    {
     "name": "stderr",
     "output_type": "stream",
     "text": [
      "2548584it [00:06, 395388.47it/s]\n"
     ]
    }
   ],
   "source": [
    "data = []\n",
    "with open('/home/husein/ssd3/stt/dataset-whisper-stt-2023-09-04.jsonl') as fopen:\n",
    "    for l in tqdm(fopen):\n",
    "        data.append(json.loads(l))"
   ]
  },
  {
   "cell_type": "code",
   "execution_count": 5,
   "metadata": {},
   "outputs": [
    {
     "data": {
      "text/plain": [
       "2548584"
      ]
     },
     "execution_count": 5,
     "metadata": {},
     "output_type": "execute_result"
    }
   ],
   "source": [
    "len(data)"
   ]
  },
  {
   "cell_type": "code",
   "execution_count": 6,
   "metadata": {},
   "outputs": [],
   "source": [
    "probs = [d['avg_logprob'] for d in data]"
   ]
  },
  {
   "cell_type": "code",
   "execution_count": 7,
   "metadata": {},
   "outputs": [
    {
     "data": {
      "text/plain": [
       "-0.39062501179675263"
      ]
     },
     "execution_count": 7,
     "metadata": {},
     "output_type": "execute_result"
    }
   ],
   "source": [
    "np.percentile(probs, 80)"
   ]
  },
  {
   "cell_type": "code",
   "execution_count": 8,
   "metadata": {},
   "outputs": [
    {
     "data": {
      "text/plain": [
       "187137"
      ]
     },
     "execution_count": 8,
     "metadata": {},
     "output_type": "execute_result"
    }
   ],
   "source": [
    "d = defaultdict(list)\n",
    "for d_ in data:\n",
    "    if d_['avg_logprob'] >= -0.38:\n",
    "        k = f\"{d_['no']}-{d_['i']}\"\n",
    "        d[k].append(d_)\n",
    "        \n",
    "len(d)"
   ]
  },
  {
   "cell_type": "code",
   "execution_count": 9,
   "metadata": {},
   "outputs": [],
   "source": [
    "def read(f):\n",
    "    audio = reader.decode_example(reader.encode_example(f))['array']\n",
    "    return audio, len(audio) / sr"
   ]
  },
  {
   "cell_type": "code",
   "execution_count": 10,
   "metadata": {},
   "outputs": [
    {
     "name": "stdout",
     "output_type": "stream",
     "text": [
      "mkdir: cannot create directory ‘/home/husein/ssd3/postfilter-stt’: File exists\r\n"
     ]
    }
   ],
   "source": [
    "!mkdir /home/husein/ssd3/postfilter-stt\n",
    "!rm -rf /home/husein/ssd3/postfilter-stt/part2\n",
    "!mkdir /home/husein/ssd3/postfilter-stt/part2"
   ]
  },
  {
   "cell_type": "code",
   "execution_count": 11,
   "metadata": {},
   "outputs": [],
   "source": [
    "import string\n",
    "printable = set(string.printable)"
   ]
  },
  {
   "cell_type": "code",
   "execution_count": 12,
   "metadata": {},
   "outputs": [
    {
     "name": "stderr",
     "output_type": "stream",
     "text": [
      "100%|█████████████████████████████████| 187137/187137 [1:54:31<00:00, 27.23it/s]\n"
     ]
    }
   ],
   "source": [
    "maxlen = 12\n",
    "\n",
    "index = 0\n",
    "directory = '/home/husein/ssd3/postfilter-stt/part2'\n",
    "X, Y = [], []\n",
    "\n",
    "for key in tqdm(sorted(list(d.keys()))):\n",
    "    values = {d_['k']: d_ for d_ in d[key]}\n",
    "    sorted_k = sorted(values.keys())\n",
    "    temp = []\n",
    "    temp_text = []\n",
    "    idx = []\n",
    "    lens = 0\n",
    "    last = None\n",
    "    \n",
    "    for k in sorted_k:\n",
    "        try:\n",
    "            y, l = read(values[k]['file'])\n",
    "            t = values[k]['cleaned']\n",
    "            ori_t = values[k]['text']\n",
    "\n",
    "            if len(re.findall(r'\\d+', t)):\n",
    "                continue\n",
    "\n",
    "            if len(t.strip()) < 2:\n",
    "                continue\n",
    "\n",
    "            if len(set(ori_t) - printable):\n",
    "                continue\n",
    "\n",
    "            if last is None:\n",
    "                temp.append(y)\n",
    "                idx.append(k)\n",
    "                temp_text.append(t)\n",
    "                lens += l\n",
    "\n",
    "            elif k - last != 1 or (lens + l) >= 12:\n",
    "                audio_path = os.path.join(directory, f'{index}.mp3')\n",
    "                a = np.concatenate(temp, axis = 0)\n",
    "                sf.write(audio_path, a, 16000)\n",
    "                X.append(audio_path)\n",
    "                Y.append(' '.join(temp_text).strip())\n",
    "                index += 1\n",
    "\n",
    "                temp = [y]\n",
    "                lens = l\n",
    "                idx = [k]\n",
    "                temp_text = [t]\n",
    "            else:\n",
    "                lens += l\n",
    "                temp.append(y)\n",
    "                idx.append(k)\n",
    "                temp_text.append(t)\n",
    "\n",
    "            last = k\n",
    "        except Exception as e:\n",
    "            print(e)\n",
    "\n",
    "    if len(temp):\n",
    "        audio_path = os.path.join(directory, f'{index}.mp3')\n",
    "        a = np.concatenate(temp, axis = 0)\n",
    "        sf.write(audio_path, a, 16000)\n",
    "        X.append(audio_path)\n",
    "        Y.append(' '.join(temp_text).strip())\n",
    "        index += 1"
   ]
  },
  {
   "cell_type": "code",
   "execution_count": 13,
   "metadata": {},
   "outputs": [
    {
     "name": "stderr",
     "output_type": "stream",
     "text": [
      "100%|██████████████████████████████████| 204612/204612 [05:13<00:00, 652.93it/s]\n"
     ]
    }
   ],
   "source": [
    "total_lens = []\n",
    "for f in tqdm(X):\n",
    "    audio = reader.decode_example(reader.encode_example(f))['array']\n",
    "    total_lens.append(len(audio) / sr)"
   ]
  },
  {
   "cell_type": "code",
   "execution_count": 14,
   "metadata": {},
   "outputs": [
    {
     "data": {
      "text/plain": [
       "0.08028458155587573"
      ]
     },
     "execution_count": 14,
     "metadata": {},
     "output_type": "execute_result"
    }
   ],
   "source": [
    "len(X) / len(data)"
   ]
  },
  {
   "cell_type": "code",
   "execution_count": 15,
   "metadata": {
    "scrolled": true
   },
   "outputs": [
    {
     "data": {
      "text/plain": [
       "481.1661800000721"
      ]
     },
     "execution_count": 15,
     "metadata": {},
     "output_type": "execute_result"
    }
   ],
   "source": [
    "sum(total_lens) / 60 / 60"
   ]
  },
  {
   "cell_type": "code",
   "execution_count": 16,
   "metadata": {},
   "outputs": [],
   "source": [
    "with open('postfilter-part-2023-09-04.json', 'w') as fopen:\n",
    "    json.dump({'X': X, 'Y': Y}, fopen)"
   ]
  },
  {
   "cell_type": "code",
   "execution_count": null,
   "metadata": {},
   "outputs": [],
   "source": []
  }
 ],
 "metadata": {
  "kernelspec": {
   "display_name": "Python 3 (ipykernel)",
   "language": "python",
   "name": "python3"
  },
  "language_info": {
   "codemirror_mode": {
    "name": "ipython",
    "version": 3
   },
   "file_extension": ".py",
   "mimetype": "text/x-python",
   "name": "python",
   "nbconvert_exporter": "python",
   "pygments_lexer": "ipython3",
   "version": "3.8.10"
  }
 },
 "nbformat": 4,
 "nbformat_minor": 4
}
