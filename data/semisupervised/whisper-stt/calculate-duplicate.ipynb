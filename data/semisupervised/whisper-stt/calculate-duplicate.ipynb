{
 "cells": [
  {
   "cell_type": "code",
   "execution_count": 10,
   "id": "9d65a106",
   "metadata": {},
   "outputs": [],
   "source": [
    "import json\n",
    "\n",
    "with open('postfilter-part-2023-09-04.json') as fopen:\n",
    "    data = json.load(fopen)"
   ]
  },
  {
   "cell_type": "code",
   "execution_count": 51,
   "id": "a7d44162",
   "metadata": {},
   "outputs": [
    {
     "name": "stderr",
     "output_type": "stream",
     "text": [
      "100%|███████████████████████████████████████████████████████████████████████████████████████████████████| 128792/128792 [00:17<00:00, 7174.67it/s]\n"
     ]
    }
   ],
   "source": [
    "from tqdm import tqdm\n",
    "from sklearn.feature_extraction.text import CountVectorizer\n",
    "\n",
    "repeated = []\n",
    "for i in tqdm(range(len(data['Y']))):\n",
    "    repeat = False\n",
    "    try:\n",
    "        dense = CountVectorizer(ngram_range = (3, 3)).fit_transform(data['Y'][i: i + 1]).todense()\n",
    "        repeat = (dense > 2).sum() > 1\n",
    "    except:\n",
    "        pass\n",
    "    repeated.append(repeat)"
   ]
  },
  {
   "cell_type": "code",
   "execution_count": 61,
   "id": "5d4987f5",
   "metadata": {},
   "outputs": [
    {
     "name": "stderr",
     "output_type": "stream",
     "text": [
      "100%|█████████████████████████████████████████████████████████████████████████████████████████████████| 128792/128792 [00:00<00:00, 309022.58it/s]\n"
     ]
    }
   ],
   "source": [
    "with open('part2.jsonl', 'w') as fopen:\n",
    "    for i in tqdm(range(len(data['Y']))):\n",
    "        d = {\n",
    "            'filename': '/'.join(data['X'][i].split('/')[-2:]),\n",
    "            'Y': data['Y'][i],\n",
    "            'repeat': bool(repeated[i])\n",
    "        }\n",
    "        fopen.write(f'{json.dumps(d)}\\n')"
   ]
  },
  {
   "cell_type": "code",
   "execution_count": 62,
   "id": "b1adff1b",
   "metadata": {},
   "outputs": [
    {
     "name": "stdout",
     "output_type": "stream",
     "text": [
      "{\"filename\": \"part2/0.mp3\", \"Y\": \"masakan kuah tumpah tumpahkan nasi betul ke mana aku tahu kau punya faptan aku tak tahu tu masakan kuah tumpahkan nasi betul ke mana aku tahu kau punya faptan aku tak tahu tu masakan kuah tumpahkan nasi betul ke mana aku tahu kau punya faptan aku tak tahu tu masakan kuah tumpahkan nasi betul ke mana aku tahu kau punya faptan aku tak tahu tu masakan kuah tumpahkan nasi betul ke mana aku tahu kau punya faptan aku tak tahu tu masakan kuah tumpahkan nasi betul ke masakan kuah tumpahkan nasi betul ke masakan kuah tumpahkan nasi betul ke masakan kuah tumpahkan nasi betul ke masakan kuah\", \"repeat\": true}\r\n"
     ]
    }
   ],
   "source": [
    "!head -n 1 part2.jsonl"
   ]
  },
  {
   "cell_type": "code",
   "execution_count": 65,
   "id": "e37bbec5",
   "metadata": {},
   "outputs": [
    {
     "name": "stderr",
     "output_type": "stream",
     "text": [
      "100%|███████████████████████████████████████████████████████████████████████████████████████████████████| 707960/707960 [01:41<00:00, 6981.68it/s]\n"
     ]
    }
   ],
   "source": [
    "with open('postfilter-part-2023-06-19.json') as fopen:\n",
    "    data = json.load(fopen)\n",
    "    \n",
    "repeated = []\n",
    "for i in tqdm(range(len(data['Y']))):\n",
    "    repeat = False\n",
    "    try:\n",
    "        dense = CountVectorizer(ngram_range = (3, 3)).fit_transform(data['Y'][i: i + 1]).todense()\n",
    "        repeat = (dense > 2).sum() > 1\n",
    "    except:\n",
    "        pass\n",
    "    repeated.append(repeat)"
   ]
  },
  {
   "cell_type": "code",
   "execution_count": 66,
   "id": "0b8fdd95",
   "metadata": {},
   "outputs": [
    {
     "name": "stderr",
     "output_type": "stream",
     "text": [
      "100%|█████████████████████████████████████████████████████████████████████████████████████████████████| 707960/707960 [00:01<00:00, 424873.83it/s]\n"
     ]
    }
   ],
   "source": [
    "with open('part1.jsonl', 'w') as fopen:\n",
    "    for i in tqdm(range(len(data['Y']))):\n",
    "        d = {\n",
    "            'filename': '/'.join(data['X'][i].split('/')[-2:]),\n",
    "            'Y': data['Y'][i],\n",
    "            'repeat': bool(repeated[i])\n",
    "        }\n",
    "        fopen.write(f'{json.dumps(d)}\\n')"
   ]
  },
  {
   "cell_type": "code",
   "execution_count": 67,
   "id": "f30d072c",
   "metadata": {},
   "outputs": [
    {
     "name": "stdout",
     "output_type": "stream",
     "text": [
      "707960 part1.jsonl\r\n"
     ]
    }
   ],
   "source": [
    "!wc -l part1.jsonl"
   ]
  },
  {
   "cell_type": "code",
   "execution_count": 68,
   "id": "fefc9077",
   "metadata": {
    "scrolled": true
   },
   "outputs": [
    {
     "name": "stdout",
     "output_type": "stream",
     "text": [
      "128792 part2.jsonl\r\n"
     ]
    }
   ],
   "source": [
    "!wc -l part2.jsonl"
   ]
  },
  {
   "cell_type": "code",
   "execution_count": null,
   "id": "e927b17c",
   "metadata": {},
   "outputs": [],
   "source": []
  }
 ],
 "metadata": {
  "kernelspec": {
   "display_name": "Python 3 (ipykernel)",
   "language": "python",
   "name": "python3"
  },
  "language_info": {
   "codemirror_mode": {
    "name": "ipython",
    "version": 3
   },
   "file_extension": ".py",
   "mimetype": "text/x-python",
   "name": "python",
   "nbconvert_exporter": "python",
   "pygments_lexer": "ipython3",
   "version": "3.8.10"
  }
 },
 "nbformat": 4,
 "nbformat_minor": 5
}
