{
 "cells": [
  {
   "cell_type": "code",
   "execution_count": 1,
   "metadata": {},
   "outputs": [],
   "source": [
    "import json\n",
    "import os\n",
    "import numpy as np\n",
    "import re\n",
    "from tqdm import tqdm\n",
    "from glob import glob\n",
    "from collections import defaultdict\n",
    "from datasets import Audio\n",
    "import torchaudio\n",
    "import torch"
   ]
  },
  {
   "cell_type": "code",
   "execution_count": 2,
   "metadata": {},
   "outputs": [],
   "source": [
    "sr = 16000\n",
    "reader = Audio(sampling_rate = sr)"
   ]
  },
  {
   "cell_type": "code",
   "execution_count": 3,
   "metadata": {},
   "outputs": [],
   "source": [
    "with open('/home/husein/ssd3/semisupervised-whisper-stt/dataset-whisper-stt-v4.json') as fopen:\n",
    "    data = json.load(fopen)"
   ]
  },
  {
   "cell_type": "code",
   "execution_count": 4,
   "metadata": {},
   "outputs": [],
   "source": [
    "d = defaultdict(list)\n",
    "for d_ in data:\n",
    "    if d_['avg_logprob'] >= -0.3:\n",
    "        k = f\"{d_['no']}-{d_['i']}\"\n",
    "        d[k].append(d_)"
   ]
  },
  {
   "cell_type": "code",
   "execution_count": 5,
   "metadata": {},
   "outputs": [],
   "source": [
    "def read(f):\n",
    "    audio = reader.decode_example(reader.encode_example(f))['array']\n",
    "    return audio, len(audio) / sr"
   ]
  },
  {
   "cell_type": "code",
   "execution_count": 6,
   "metadata": {},
   "outputs": [
    {
     "name": "stdout",
     "output_type": "stream",
     "text": [
      "mkdir: cannot create directory ‘/home/husein/ssd3/postfilter-stt’: File exists\n",
      "mkdir: cannot create directory ‘/home/husein/ssd3/postfilter-stt/part3’: File exists\n"
     ]
    }
   ],
   "source": [
    "!mkdir /home/husein/ssd3/postfilter-stt\n",
    "!mkdir /home/husein/ssd3/postfilter-stt/part3"
   ]
  },
  {
   "cell_type": "code",
   "execution_count": 7,
   "metadata": {},
   "outputs": [
    {
     "name": "stderr",
     "output_type": "stream",
     "text": [
      " 67%|███████████████████████▎           | 43758/65553 [1:25:12<29:00, 12.52it/s]IOPub message rate exceeded.\n",
      "The notebook server will temporarily stop sending output\n",
      "to the client in order to avoid crashing it.\n",
      "To change this limit, set the config variable\n",
      "`--NotebookApp.iopub_msg_rate_limit`.\n",
      "\n",
      "Current values:\n",
      "NotebookApp.iopub_msg_rate_limit=1000.0 (msgs/sec)\n",
      "NotebookApp.rate_limit_window=3.0 (secs)\n",
      "\n"
     ]
    }
   ],
   "source": [
    "maxlen = 12\n",
    "\n",
    "index = 0\n",
    "directory = '/home/husein/ssd3/postfilter-stt/part3'\n",
    "X, Y = [], []\n",
    "\n",
    "for key in tqdm(sorted(list(d.keys()))):\n",
    "    values = {d_['k']: d_ for d_ in d[key]}\n",
    "    sorted_k = sorted(values.keys())\n",
    "    temp = []\n",
    "    temp_text = []\n",
    "    idx = []\n",
    "    lens = 0\n",
    "    last = None\n",
    "    \n",
    "    for k in sorted_k:\n",
    "        y, l = read(values[k]['file'])\n",
    "        y = y[int(0.1 * sr):-int(0.1 * sr)]\n",
    "        t = values[k]['cleaned']\n",
    "\n",
    "        if len(re.findall(r'\\d+', t)):\n",
    "            continue\n",
    "\n",
    "        if len(t.strip()) < 2:\n",
    "            continue\n",
    "\n",
    "        if last is None:\n",
    "            temp.append(y)\n",
    "            idx.append(k)\n",
    "            temp_text.append(t)\n",
    "            lens += l\n",
    "\n",
    "        elif k - last != 1 or (lens + l) >= 12:\n",
    "            audio_path = os.path.join(directory, f'{index}.mp3')\n",
    "            a = np.concatenate(temp, axis = 0)\n",
    "            torchaudio.save(audio_path, \n",
    "                            torch.tensor(a.astype('float32')).unsqueeze(0), \n",
    "                            16000, format='mp3')\n",
    "            X.append(audio_path)\n",
    "            Y.append(' '.join(temp_text).strip())\n",
    "            index += 1\n",
    "            \n",
    "            temp = [y]\n",
    "            lens = l\n",
    "            idx = [k]\n",
    "            temp_text = [t]\n",
    "        else:\n",
    "            lens += l\n",
    "            temp.append(y)\n",
    "            idx.append(k)\n",
    "            temp_text.append(t)\n",
    "\n",
    "        last = k\n",
    "\n",
    "    if len(temp):\n",
    "        audio_path = os.path.join(directory, f'{index}.mp3')\n",
    "        a = np.concatenate(temp, axis = 0)\n",
    "        torchaudio.save(audio_path, \n",
    "                            torch.tensor(a.astype('float32')).unsqueeze(0), \n",
    "                            16000, format='mp3')\n",
    "        X.append(audio_path)\n",
    "        Y.append(' '.join(temp_text).strip())\n",
    "        index += 1"
   ]
  },
  {
   "cell_type": "code",
   "execution_count": 8,
   "metadata": {},
   "outputs": [
    {
     "data": {
      "text/plain": [
       "151739"
      ]
     },
     "execution_count": 8,
     "metadata": {},
     "output_type": "execute_result"
    }
   ],
   "source": [
    "len(X)"
   ]
  },
  {
   "cell_type": "code",
   "execution_count": 9,
   "metadata": {},
   "outputs": [
    {
     "name": "stderr",
     "output_type": "stream",
     "text": [
      " 84%|████████████████████████████▍     | 126814/151739 [05:12<00:59, 418.20it/s]IOPub message rate exceeded.\n",
      "The notebook server will temporarily stop sending output\n",
      "to the client in order to avoid crashing it.\n",
      "To change this limit, set the config variable\n",
      "`--NotebookApp.iopub_msg_rate_limit`.\n",
      "\n",
      "Current values:\n",
      "NotebookApp.iopub_msg_rate_limit=1000.0 (msgs/sec)\n",
      "NotebookApp.rate_limit_window=3.0 (secs)\n",
      "\n"
     ]
    }
   ],
   "source": [
    "total_lens = []\n",
    "for f in tqdm(X):\n",
    "    audio = reader.decode_example(reader.encode_example(f))['array']\n",
    "    total_lens.append(len(audio) / sr)"
   ]
  },
  {
   "cell_type": "code",
   "execution_count": 10,
   "metadata": {},
   "outputs": [
    {
     "data": {
      "text/plain": [
       "323.3796299999264"
      ]
     },
     "execution_count": 10,
     "metadata": {},
     "output_type": "execute_result"
    }
   ],
   "source": [
    "sum(total_lens) / 60 / 60"
   ]
  },
  {
   "cell_type": "code",
   "execution_count": 11,
   "metadata": {},
   "outputs": [],
   "source": [
    "with open('postfilter-part3.json', 'w') as fopen:\n",
    "    json.dump({'X': X, 'Y': Y}, fopen)"
   ]
  },
  {
   "cell_type": "code",
   "execution_count": null,
   "metadata": {},
   "outputs": [],
   "source": []
  }
 ],
 "metadata": {
  "kernelspec": {
   "display_name": "Python 3 (ipykernel)",
   "language": "python",
   "name": "python3"
  },
  "language_info": {
   "codemirror_mode": {
    "name": "ipython",
    "version": 3
   },
   "file_extension": ".py",
   "mimetype": "text/x-python",
   "name": "python",
   "nbconvert_exporter": "python",
   "pygments_lexer": "ipython3",
   "version": "3.8.10"
  }
 },
 "nbformat": 4,
 "nbformat_minor": 4
}
