{
 "cells": [
  {
   "cell_type": "code",
   "execution_count": 1,
   "metadata": {},
   "outputs": [
    {
     "data": {
      "text/plain": [
       "21488"
      ]
     },
     "execution_count": 1,
     "metadata": {},
     "output_type": "execute_result"
    }
   ],
   "source": [
    "import pickle\n",
    "from glob import glob\n",
    "\n",
    "files = sorted(glob('/home/husein/ssd2/processed-youtube-asr-whisper-large-v4/*.pkl'))\n",
    "files = sorted(files)\n",
    "len(files)"
   ]
  },
  {
   "cell_type": "code",
   "execution_count": 2,
   "metadata": {},
   "outputs": [
    {
     "name": "stderr",
     "output_type": "stream",
     "text": [
      "2023-09-17 23:58:48.104261: I tensorflow/core/platform/cpu_feature_guard.cc:193] This TensorFlow binary is optimized with oneAPI Deep Neural Network Library (oneDNN) to use the following CPU instructions in performance-critical operations:  AVX2 AVX_VNNI FMA\n",
      "To enable them in other operations, rebuild TensorFlow with the appropriate compiler flags.\n",
      "2023-09-17 23:58:48.317213: I tensorflow/core/util/port.cc:104] oneDNN custom operations are on. You may see slightly different numerical results due to floating-point round-off errors from different computation orders. To turn them off, set the environment variable `TF_ENABLE_ONEDNN_OPTS=0`.\n",
      "2023-09-17 23:58:49.222670: W tensorflow/compiler/xla/stream_executor/platform/default/dso_loader.cc:64] Could not load dynamic library 'libnvinfer.so.7'; dlerror: libnvinfer.so.7: cannot open shared object file: No such file or directory\n",
      "2023-09-17 23:58:49.222710: W tensorflow/compiler/xla/stream_executor/platform/default/dso_loader.cc:64] Could not load dynamic library 'libnvinfer_plugin.so.7'; dlerror: libnvinfer_plugin.so.7: cannot open shared object file: No such file or directory\n",
      "2023-09-17 23:58:49.222714: W tensorflow/compiler/tf2tensorrt/utils/py_utils.cc:38] TF-TRT Warning: Cannot dlopen some TensorRT libraries. If you would like to use Nvidia GPU with TensorRT, please make sure the missing libraries mentioned above are installed properly.\n",
      "/home/husein/.local/lib/python3.8/site-packages/tensorflow_addons/utils/ensure_tf_install.py:53: UserWarning: Tensorflow Addons supports using Python ops for all Tensorflow versions above or equal to 2.4.0 and strictly below 2.7.0 (nightly versions are not supported). \n",
      " The versions of TensorFlow you are currently using is 2.11.0 and is not supported. \n",
      "Some things might work, some things might not.\n",
      "If you were to encounter a bug, do not file an issue.\n",
      "If you want to make sure you're using a tested and supported configuration, either change the TensorFlow version or the TensorFlow Addons's version. \n",
      "You can find the compatibility matrix in TensorFlow Addon's readme:\n",
      "https://github.com/tensorflow/addons\n",
      "  warnings.warn(\n",
      "/home/husein/.local/lib/python3.8/site-packages/tensorflow_addons/utils/resource_loader.py:78: UserWarning: You are currently using TensorFlow 2.11.0 and trying to load a custom op (custom_ops/seq2seq/_beam_search_ops.so).\n",
      "TensorFlow Addons has compiled its custom ops against TensorFlow 2.6.0, and there are no compatibility guarantees between the two versions. \n",
      "This means that you might get segfaults when loading the custom op, or other kind of low-level errors.\n",
      " If you do, do not file an issue on Github. This is a known limitation.\n",
      "\n",
      "It might help you to fallback to pure Python ops by setting environment variable `TF_ADDONS_PY_OPS=1` or using `tfa.options.disable_custom_kernel()` in your code. To do that, see https://github.com/tensorflow/addons#gpucpu-custom-ops \n",
      "\n",
      "You can also change the TensorFlow version installed on your system. You would need a TensorFlow version equal to or above 2.6.0 and strictly below 2.7.0.\n",
      " Note that nightly versions of TensorFlow, as well as non-pip TensorFlow like `conda install tensorflow` or compiled from source are not supported.\n",
      "\n",
      "The last solution is to find the TensorFlow Addons version that has custom ops compatible with the TensorFlow installed on your system. To do that, refer to the readme: https://github.com/tensorflow/addons\n",
      "  warnings.warn(\n",
      "Cannot import beam_search_ops from Tensorflow Addons, ['malaya.jawi_rumi.deep_model', 'malaya.phoneme.deep_model', 'malaya.rumi_jawi.deep_model', 'malaya.stem.deep_model'] will not available to use, make sure Tensorflow Addons version >= 0.12.0\n",
      "check compatible Tensorflow version with Tensorflow Addons at https://github.com/tensorflow/addons/releases\n",
      "/home/husein/.local/lib/python3.8/site-packages/whisper/timing.py:58: NumbaDeprecationWarning: \u001b[1mThe 'nopython' keyword argument was not supplied to the 'numba.jit' decorator. The implicit default value for this argument is currently False, but it will be changed to True in Numba 0.59.0. See https://numba.readthedocs.io/en/stable/reference/deprecation.html#deprecation-of-object-mode-fall-back-behaviour-when-using-jit for details.\u001b[0m\n",
      "  def backtrace(trace: np.ndarray):\n",
      "`pyaudio` is not available, `malaya_speech.streaming.pyaudio` is not able to use.\n"
     ]
    },
    {
     "data": {
      "text/plain": [
       "<module 'malaya_speech' from '/home/husein/dev/malaya-speech/malaya_speech/__init__.py'>"
      ]
     },
     "execution_count": 2,
     "metadata": {},
     "output_type": "execute_result"
    }
   ],
   "source": [
    "from datasets import Audio\n",
    "from tqdm import tqdm\n",
    "import numpy as np\n",
    "import IPython.display as ipd\n",
    "import malaya_speech\n",
    "malaya_speech"
   ]
  },
  {
   "cell_type": "code",
   "execution_count": 3,
   "metadata": {},
   "outputs": [],
   "source": [
    "sr = 16000\n",
    "reader = Audio(sampling_rate = sr)"
   ]
  },
  {
   "cell_type": "code",
   "execution_count": 4,
   "metadata": {},
   "outputs": [],
   "source": [
    "# lens = 0\n",
    "# for f in files:\n",
    "#     with open(f, 'rb') as fopen:\n",
    "#         data = pickle.load(fopen)\n",
    "#     lens += len(data)\n",
    "    \n",
    "# lens"
   ]
  },
  {
   "cell_type": "code",
   "execution_count": 5,
   "metadata": {},
   "outputs": [
    {
     "data": {
      "text/plain": [
       "59"
      ]
     },
     "execution_count": 5,
     "metadata": {},
     "output_type": "execute_result"
    }
   ],
   "source": [
    "with open(files[4], 'rb') as fopen:\n",
    "    data = pickle.load(fopen)\n",
    "    \n",
    "len(data)"
   ]
  },
  {
   "cell_type": "code",
   "execution_count": 6,
   "metadata": {},
   "outputs": [
    {
     "data": {
      "text/plain": [
       "([Segment(id=1, seek=1024, start=0.0, end=10.200000000000001, text=' Sebenarnya festival Hari Rima Malaya, sesi ini dibatururuskan FAM dan penyokong Town Hall pada malam ni. Feedback macam mana, kepercayaan penyokong ni juga.', tokens=[50364, 1100, 1799, 38039, 12091, 47221, 497, 4775, 5746, 4427, 11, 13315, 7408, 23064, 267, 374, 374, 301, 5225, 479, 2865, 3277, 3435, 88, 453, 556, 15954, 5434, 26069, 2806, 335, 3867, 13, 33720, 3207, 44921, 21225, 11, 803, 610, 66, 4427, 282, 3435, 88, 453, 556, 3867, 14462, 13, 50874], temperature=0.0, avg_logprob=-0.7211538323989282, compression_ratio=1.2580645161290323, no_speech_prob=0.177734375, words=None)],\n",
       " [-0.7211538323989282],\n",
       " [-1.1547025827800526, -1.1547025827800526])"
      ]
     },
     "execution_count": 6,
     "metadata": {},
     "output_type": "execute_result"
    }
   ],
   "source": [
    "ms_score = [s.avg_logprob for s in data[0]['asr_model'][1]]\n",
    "en_score = [s.avg_logprob for s in data[0]['asr_model'][2]]\n",
    "\n",
    "if np.mean(ms_score) > np.mean(en_score):\n",
    "    selected = data[0]['asr_model'][1]\n",
    "else:\n",
    "    selected = data[0]['asr_model'][2]\n",
    "    \n",
    "selected, ms_score, en_score"
   ]
  },
  {
   "cell_type": "code",
   "execution_count": 7,
   "metadata": {},
   "outputs": [
    {
     "data": {
      "text/plain": [
       "Segment(id=1, seek=1024, start=0.0, end=10.200000000000001, text=' Sebenarnya festival Hari Rima Malaya, sesi ini dibatururuskan FAM dan penyokong Town Hall pada malam ni. Feedback macam mana, kepercayaan penyokong ni juga.', tokens=[50364, 1100, 1799, 38039, 12091, 47221, 497, 4775, 5746, 4427, 11, 13315, 7408, 23064, 267, 374, 374, 301, 5225, 479, 2865, 3277, 3435, 88, 453, 556, 15954, 5434, 26069, 2806, 335, 3867, 13, 33720, 3207, 44921, 21225, 11, 803, 610, 66, 4427, 282, 3435, 88, 453, 556, 3867, 14462, 13, 50874], temperature=0.0, avg_logprob=-0.7211538323989282, compression_ratio=1.2580645161290323, no_speech_prob=0.177734375, words=None)"
      ]
     },
     "execution_count": 7,
     "metadata": {},
     "output_type": "execute_result"
    }
   ],
   "source": [
    "selected[0]"
   ]
  },
  {
   "cell_type": "code",
   "execution_count": 8,
   "metadata": {},
   "outputs": [
    {
     "data": {
      "text/plain": [
       "[('ms', 0.96875),\n",
       " ('id', 0.00738525390625),\n",
       " ('en', 0.004486083984375),\n",
       " ('jw', 0.003082275390625),\n",
       " ('nn', 0.0025482177734375),\n",
       " ('vi', 0.00186920166015625),\n",
       " ('th', 0.00136566162109375),\n",
       " ('ta', 0.0012054443359375),\n",
       " ('tl', 0.0012054443359375),\n",
       " ('ja', 0.00093841552734375),\n",
       " ('km', 0.000827789306640625),\n",
       " ('zh', 0.0007781982421875),\n",
       " ('ar', 0.000732421875),\n",
       " ('ko', 0.0006866455078125),\n",
       " ('cy', 0.000415802001953125),\n",
       " ('ro', 0.0003910064697265625),\n",
       " ('fr', 0.0003910064697265625),\n",
       " ('es', 0.0003681182861328125),\n",
       " ('ru', 0.0003681182861328125),\n",
       " ('hi', 0.0003452301025390625),\n",
       " ('de', 0.000286102294921875),\n",
       " ('uk', 0.0001850128173828125),\n",
       " ('it', 0.0001850128173828125),\n",
       " ('ur', 0.0001735687255859375),\n",
       " ('fa', 0.0001735687255859375),\n",
       " ('ml', 0.00016307830810546875),\n",
       " ('pt', 0.00014400482177734375),\n",
       " ('la', 0.0001354217529296875),\n",
       " ('si', 0.0001354217529296875),\n",
       " ('hu', 0.00011920928955078125),\n",
       " ('nl', 0.00010538101196289062),\n",
       " ('mi', 9.918212890625e-05),\n",
       " ('my', 9.298324584960938e-05),\n",
       " ('tr', 9.298324584960938e-05),\n",
       " ('sv', 9.298324584960938e-05),\n",
       " ('sw', 8.726119995117188e-05),\n",
       " ('pl', 8.20159912109375e-05),\n",
       " ('sn', 7.2479248046875e-05),\n",
       " ('te', 6.818771362304688e-05),\n",
       " ('haw', 6.389617919921875e-05),\n",
       " ('cs', 6.008148193359375e-05),\n",
       " ('sa', 6.008148193359375e-05),\n",
       " ('ne', 5.2928924560546875e-05),\n",
       " ('yo', 4.673004150390625e-05),\n",
       " ('da', 4.673004150390625e-05),\n",
       " ('he', 3.886222839355469e-05),\n",
       " ('el', 3.647804260253906e-05),\n",
       " ('lo', 2.8371810913085938e-05),\n",
       " ('fi', 2.658367156982422e-05),\n",
       " ('sd', 2.3484230041503906e-05),\n",
       " ('ps', 2.205371856689453e-05),\n",
       " ('br', 1.9431114196777344e-05),\n",
       " ('oc', 1.621246337890625e-05),\n",
       " ('su', 1.519918441772461e-05),\n",
       " ('ca', 1.519918441772461e-05),\n",
       " ('no', 1.519918441772461e-05),\n",
       " ('bn', 1.341104507446289e-05),\n",
       " ('sl', 1.2576580047607422e-05),\n",
       " ('ht', 1.1086463928222656e-05),\n",
       " ('gl', 1.0788440704345703e-05),\n",
       " ('bo', 1.0132789611816406e-05),\n",
       " ('mr', 8.64267349243164e-06),\n",
       " ('ln', 7.18235969543457e-06),\n",
       " ('kn', 6.943941116333008e-06),\n",
       " ('eu', 6.735324859619141e-06),\n",
       " ('bg', 6.5267086029052734e-06),\n",
       " ('pa', 5.930662155151367e-06),\n",
       " ('et', 5.5730342864990234e-06),\n",
       " ('lt', 5.5730342864990234e-06),\n",
       " ('hy', 5.245208740234375e-06),\n",
       " ('fo', 4.6193599700927734e-06),\n",
       " ('mn', 4.500150680541992e-06),\n",
       " ('as', 4.082918167114258e-06),\n",
       " ('hr', 3.725290298461914e-06),\n",
       " ('az', 3.382563591003418e-06),\n",
       " ('bs', 2.8014183044433594e-06),\n",
       " ('af', 2.8014183044433594e-06),\n",
       " ('sq', 2.473592758178711e-06),\n",
       " ('sr', 2.250075340270996e-06),\n",
       " ('kk', 2.1904706954956055e-06),\n",
       " ('gu', 2.115964889526367e-06),\n",
       " ('ha', 1.9222497940063477e-06),\n",
       " ('is', 1.9222497940063477e-06),\n",
       " ('lv', 1.8700957298278809e-06),\n",
       " ('be', 9.685754776000977e-07),\n",
       " ('yi', 9.387731552124023e-07),\n",
       " ('mt', 8.568167686462402e-07),\n",
       " ('am', 8.568167686462402e-07),\n",
       " ('sk', 8.046627044677734e-07),\n",
       " ('tg', 7.562339305877686e-07),\n",
       " ('so', 6.07222318649292e-07),\n",
       " ('tt', 3.1478703022003174e-07),\n",
       " ('mk', 2.2351741790771484e-07),\n",
       " ('lb', 1.4901161193847656e-07),\n",
       " ('ka', 1.0244548320770264e-07),\n",
       " ('uz', 2.2817403078079224e-08),\n",
       " ('mg', 4.48198989033699e-09),\n",
       " ('tk', 5.32054400537163e-11),\n",
       " ('ba', 3.228706191293895e-11)]"
      ]
     },
     "execution_count": 8,
     "metadata": {},
     "output_type": "execute_result"
    }
   ],
   "source": [
    "data[0]['asr_model'][0]"
   ]
  },
  {
   "cell_type": "code",
   "execution_count": 9,
   "metadata": {},
   "outputs": [
    {
     "data": {
      "text/html": [
       "\n",
       "                <audio  controls=\"controls\" >\n",
       "                    <source src=\"data:audio/wav;base64,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\" type=\"audio/wav\" />\n",
       "                    Your browser does not support the audio element.\n",
       "                </audio>\n",
       "              "
      ],
      "text/plain": [
       "<IPython.lib.display.Audio object>"
      ]
     },
     "execution_count": 9,
     "metadata": {},
     "output_type": "execute_result"
    }
   ],
   "source": [
    "f = data[-3]['wav_data'].replace('/home/ubuntu/processed-youtube-asr-whisper-large-v3',\n",
    "                                     '/home/husein/ssd2/processed-youtube-asr-whisper-large-v4')\n",
    "audio = reader.decode_example(reader.encode_example(f))['array']\n",
    "y = audio\n",
    "ipd.Audio(y[int(8*sr):int(10*sr)], rate = sr)"
   ]
  },
  {
   "cell_type": "code",
   "execution_count": 10,
   "metadata": {},
   "outputs": [
    {
     "data": {
      "text/plain": [
       "(array([ 0.00000000e+00,  4.38093381e-11, -3.59984993e-11, ...,\n",
       "        -7.10235210e-04, -7.36417482e-04, -1.08100730e-03]),\n",
       " 22050)"
      ]
     },
     "execution_count": 10,
     "metadata": {},
     "output_type": "execute_result"
    }
   ],
   "source": [
    "import soundfile as sf\n",
    "\n",
    "sf.read(f)"
   ]
  },
  {
   "cell_type": "code",
   "execution_count": 11,
   "metadata": {},
   "outputs": [],
   "source": [
    "import malaya\n",
    "from malaya.text.normalization import cardinal\n",
    "\n",
    "tokenizer = malaya.tokenizer.Tokenizer(hypen = False, parliament = False, time = False, time_pukul = False,\n",
    "                                      temperature = False, distance = False, volume = False, duration = False,\n",
    "                                      weight = False, date = False, money = False)"
   ]
  },
  {
   "cell_type": "code",
   "execution_count": 12,
   "metadata": {},
   "outputs": [],
   "source": [
    "import unicodedata\n",
    "import re\n",
    "import itertools\n",
    "\n",
    "vocabs = [\" \", \"a\", \"e\", \"n\", \"i\", \"t\", \"o\", \"u\", \"s\", \"k\", \"r\", \"l\", \"h\", \"d\", \"m\", \"g\", \"y\", \"b\", \"p\", \"w\", \"c\", \"f\", \"j\", \"v\", \"z\", \"0\", \"1\", \"x\", \"2\", \"q\", \"5\", \"3\", \"4\", \"6\", \"9\", \"8\", \"7\"]\n",
    "\n",
    "def preprocessing_text(string):\n",
    "    \n",
    "    tokenized = tokenizer.tokenize(string)\n",
    "    string = ' '.join(tokenized)\n",
    "    string = unicodedata.normalize('NFC', string.lower())\n",
    "    string = ''.join([c if c in vocabs else ' ' for c in string])\n",
    "    string = re.sub(r'[ ]+', ' ', string).strip()\n",
    "    string = (\n",
    "        ''.join(''.join(s)[:2] for _, s in itertools.groupby(string))\n",
    "    )\n",
    "    return string"
   ]
  },
  {
   "cell_type": "code",
   "execution_count": 37,
   "metadata": {},
   "outputs": [],
   "source": [
    "directory = '/home/husein/ssd3/stt/whisper-latest-v2'"
   ]
  },
  {
   "cell_type": "code",
   "execution_count": 38,
   "metadata": {},
   "outputs": [],
   "source": [
    "!rm -rf {directory}\n",
    "!mkdir {directory}"
   ]
  },
  {
   "cell_type": "code",
   "execution_count": 39,
   "metadata": {},
   "outputs": [],
   "source": [
    "import torchaudio\n",
    "import torch\n",
    "import os"
   ]
  },
  {
   "cell_type": "code",
   "execution_count": 40,
   "metadata": {},
   "outputs": [
    {
     "data": {
      "text/plain": [
       "Segment(id=1, seek=1024, start=0.0, end=10.200000000000001, text=' Sebenarnya festival Hari Rima Malaya, sesi ini dibatururuskan FAM dan penyokong Town Hall pada malam ni. Feedback macam mana, kepercayaan penyokong ni juga.', tokens=[50364, 1100, 1799, 38039, 12091, 47221, 497, 4775, 5746, 4427, 11, 13315, 7408, 23064, 267, 374, 374, 301, 5225, 479, 2865, 3277, 3435, 88, 453, 556, 15954, 5434, 26069, 2806, 335, 3867, 13, 33720, 3207, 44921, 21225, 11, 803, 610, 66, 4427, 282, 3435, 88, 453, 556, 3867, 14462, 13, 50874], temperature=0.0, avg_logprob=-0.7211538323989282, compression_ratio=1.2580645161290323, no_speech_prob=0.177734375, words=None)"
      ]
     },
     "execution_count": 40,
     "metadata": {},
     "output_type": "execute_result"
    }
   ],
   "source": [
    "selected[0]"
   ]
  },
  {
   "cell_type": "code",
   "execution_count": 41,
   "metadata": {
    "scrolled": true
   },
   "outputs": [],
   "source": [
    "def loop(files):\n",
    "    files, outside_index = files\n",
    "    dataset = []\n",
    "    index = 0\n",
    "    \n",
    "    for no in tqdm(range(len(files))):\n",
    "    \n",
    "        f = files[no]\n",
    "\n",
    "        with open(f, 'rb') as fopen:\n",
    "            data = pickle.load(fopen)\n",
    "\n",
    "        for i in range(len(data)):\n",
    "            try:\n",
    "                lang = data[i]['asr_model'][0][0][0]\n",
    "\n",
    "                if lang not in {'ms', 'en'}:\n",
    "                    continue\n",
    "\n",
    "                ms_score = [s.avg_logprob for s in data[i]['asr_model'][1]]\n",
    "                en_score = [s.avg_logprob for s in data[i]['asr_model'][2]]\n",
    "\n",
    "                if np.mean(ms_score) > np.mean(en_score):\n",
    "                    selected = data[i]['asr_model'][1]\n",
    "                    lang = 'ms'\n",
    "                else:\n",
    "                    selected = data[i]['asr_model'][2]\n",
    "\n",
    "                f_audio = data[i]['wav_data'].replace('/home/ubuntu/processed-youtube-asr-whisper-large-v3',\n",
    "                                     '/home/husein/ssd2/processed-youtube-asr-whisper-large-v4')\n",
    "                audio = reader.decode_example(reader.encode_example(f_audio))['array']\n",
    "                for k in range(len(selected)):\n",
    "                    s = selected[k].start\n",
    "                    e = selected[k].end\n",
    "                    t = selected[k].text\n",
    "                    cleaned_t = preprocessing_text(t)\n",
    "                    if not len(cleaned_t):\n",
    "                        continue\n",
    "\n",
    "                    audio_path = os.path.join(directory, f'{outside_index}-{index}.mp3')\n",
    "                    a = audio[int(s * sr): int(e * sr)]\n",
    "                    torchaudio.save(audio_path, \n",
    "                            torch.tensor(a.astype('float32')).unsqueeze(0), \n",
    "                            16000, format='mp3')\n",
    "                    try:\n",
    "\n",
    "                        dataset.append(\n",
    "                            {\n",
    "                                'file': audio_path,\n",
    "                                'text': t,\n",
    "                                'cleaned': cleaned_t,\n",
    "                                'no': no,\n",
    "                                'i': i,\n",
    "                                'k': k,\n",
    "                                'avg_logprob': selected[k].avg_logprob,\n",
    "                                'no_speech_prob': selected[k].no_speech_prob,\n",
    "                                'lang': lang\n",
    "                            }\n",
    "                        )\n",
    "                    except Exception as e:\n",
    "                        print('inner', s, e, t, len(a))\n",
    "\n",
    "                    index += 1\n",
    "            except Exception as e:\n",
    "                print('outside', e)\n",
    "    return dataset"
   ]
  },
  {
   "cell_type": "code",
   "execution_count": 42,
   "metadata": {},
   "outputs": [
    {
     "name": "stderr",
     "output_type": "stream",
     "text": [
      " 45%|██████████████▎                 | 9587/21488 [18:10:42<30:05:35,  9.10s/it]"
     ]
    },
    {
     "name": "stdout",
     "output_type": "stream",
     "text": [
      "outside Error opening <_io.BufferedReader name='/home/husein/ssd2/processed-youtube-asr-whisper-large-v4/Inflation_Proof_Businesses:_Analyzed_(Tips!)_[FVh0XaxHimg]/11.mp3'>: Format not recognised.\n"
     ]
    },
    {
     "name": "stderr",
     "output_type": "stream",
     "text": [
      " 50%|███████████████▌               | 10745/21488 [20:46:30<11:58:59,  4.02s/it]IOPub message rate exceeded.\n",
      "The notebook server will temporarily stop sending output\n",
      "to the client in order to avoid crashing it.\n",
      "To change this limit, set the config variable\n",
      "`--NotebookApp.iopub_msg_rate_limit`.\n",
      "\n",
      "Current values:\n",
      "NotebookApp.iopub_msg_rate_limit=1000.0 (msgs/sec)\n",
      "NotebookApp.rate_limit_window=3.0 (secs)\n",
      "\n",
      "100%|██████████████████████████████████| 21488/21488 [43:03:55<00:00,  7.21s/it]\n"
     ]
    }
   ],
   "source": [
    "a = loop((files,0))"
   ]
  },
  {
   "cell_type": "code",
   "execution_count": 43,
   "metadata": {},
   "outputs": [],
   "source": [
    "# !wget https://gist.githubusercontent.com/huseinzol05/98974ae8c6c7a65d4bc0af9f5003786a/raw/5aa5257608b61e8fcc828e99fbd070d5ca7358e3/mp.py\n",
    "# import mp"
   ]
  },
  {
   "cell_type": "code",
   "execution_count": 44,
   "metadata": {
    "scrolled": true
   },
   "outputs": [],
   "source": [
    "# a = mp.multiprocessing(files, loop, cores = 10)"
   ]
  },
  {
   "cell_type": "code",
   "execution_count": 45,
   "metadata": {},
   "outputs": [
    {
     "data": {
      "text/plain": [
       "2548584"
      ]
     },
     "execution_count": 45,
     "metadata": {},
     "output_type": "execute_result"
    }
   ],
   "source": [
    "len(a)"
   ]
  },
  {
   "cell_type": "code",
   "execution_count": 46,
   "metadata": {},
   "outputs": [
    {
     "name": "stderr",
     "output_type": "stream",
     "text": [
      "100%|█████████████████████████████| 2548584/2548584 [00:08<00:00, 306731.48it/s]\n"
     ]
    }
   ],
   "source": [
    "import json\n",
    "\n",
    "with open('dataset-whisper-stt-2023-09-04.jsonl', 'w') as fopen:\n",
    "    for d in tqdm(a):\n",
    "        fopen.write(f'{json.dumps(d)}\\n')"
   ]
  },
  {
   "cell_type": "code",
   "execution_count": 47,
   "metadata": {},
   "outputs": [
    {
     "name": "stdout",
     "output_type": "stream",
     "text": [
      "-rw-r--r-- 1 husein husein 877M Sep  20 02:59 dataset-whisper-stt-2023-09-04.jsonl\r\n"
     ]
    }
   ],
   "source": [
    "!ls -lh dataset-whisper-stt-2023-09-04.jsonl"
   ]
  },
  {
   "cell_type": "code",
   "execution_count": 48,
   "metadata": {},
   "outputs": [
    {
     "name": "stdout",
     "output_type": "stream",
     "text": [
      "41G\t/home/husein/ssd3/stt/whisper-latest-v2\r\n"
     ]
    }
   ],
   "source": [
    "!du -hs {directory}"
   ]
  }
 ],
 "metadata": {
  "kernelspec": {
   "display_name": "Python 3 (ipykernel)",
   "language": "python",
   "name": "python3"
  },
  "language_info": {
   "codemirror_mode": {
    "name": "ipython",
    "version": 3
   },
   "file_extension": ".py",
   "mimetype": "text/x-python",
   "name": "python",
   "nbconvert_exporter": "python",
   "pygments_lexer": "ipython3",
   "version": "3.8.10"
  }
 },
 "nbformat": 4,
 "nbformat_minor": 4
}
