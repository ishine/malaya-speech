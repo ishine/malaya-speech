{
 "cells": [
  {
   "cell_type": "code",
   "execution_count": 1,
   "metadata": {},
   "outputs": [
    {
     "data": {
      "text/plain": [
       "13418"
      ]
     },
     "execution_count": 1,
     "metadata": {},
     "output_type": "execute_result"
    }
   ],
   "source": [
    "import pickle\n",
    "from glob import glob\n",
    "\n",
    "files = sorted(glob('/home/husein/ssd2/processed-youtube-asr-whisper-large-v3/*.pkl'))\n",
    "len(files)"
   ]
  },
  {
   "cell_type": "code",
   "execution_count": 2,
   "metadata": {},
   "outputs": [],
   "source": [
    "with open(files[0], 'rb') as fopen:\n",
    "    data = pickle.load(fopen)"
   ]
  },
  {
   "cell_type": "code",
   "execution_count": 8,
   "metadata": {},
   "outputs": [
    {
     "data": {
      "text/plain": [
       "'/home/husein/ssd2/processed-youtube-asr-whisper-large-v3/\"Ada_harta_baru_betul_duda_hot\"_-_Hasnol_takut_digelar_dayus,_sedia_kembali_kepada_bekas_isteri_[3TYBFOpIHbc].pkl'"
      ]
     },
     "execution_count": 8,
     "metadata": {},
     "output_type": "execute_result"
    }
   ],
   "source": [
    "files[0]"
   ]
  },
  {
   "cell_type": "code",
   "execution_count": 10,
   "metadata": {},
   "outputs": [],
   "source": [
    "ms = open('ms.jsonl', 'w')\n",
    "en = open('en.jsonl', 'w')"
   ]
  },
  {
   "cell_type": "code",
   "execution_count": 14,
   "metadata": {},
   "outputs": [
    {
     "name": "stderr",
     "output_type": "stream",
     "text": [
      "100%|████████████████████████████████████| 13418/13418 [00:23<00:00, 563.50it/s]\n"
     ]
    }
   ],
   "source": [
    "from tqdm import tqdm\n",
    "import json\n",
    "\n",
    "for f in tqdm(files):\n",
    "    with open(f, 'rb') as fopen:\n",
    "        data = pickle.load(fopen)\n",
    "    ms_text, en_text = [], []\n",
    "    for d in data:\n",
    "        ms_text.append(d['asr_model'][1]['text'])\n",
    "        en_text.append(d['asr_model'][2]['text'])\n",
    "        \n",
    "    data = {\n",
    "        'file': f,\n",
    "        'ms_text': ms_text,\n",
    "    }\n",
    "    \n",
    "    ms.write(f'{json.dumps(data)}\\n')\n",
    "    \n",
    "    data = {\n",
    "        'file': f,\n",
    "        'en_text': en_text,\n",
    "    }\n",
    "    \n",
    "    en.write(f'{json.dumps(data)}\\n')"
   ]
  },
  {
   "cell_type": "code",
   "execution_count": 15,
   "metadata": {},
   "outputs": [],
   "source": [
    "ms.close()\n",
    "en.close()"
   ]
  },
  {
   "cell_type": "code",
   "execution_count": 18,
   "metadata": {},
   "outputs": [
    {
     "name": "stdout",
     "output_type": "stream",
     "text": [
      "{\"file\": \"/home/husein/ssd2/processed-youtube-asr-whisper-large-v3/\\\"Ada_harta_baru_betul_duda_hot\\\"_-_Hasnol_takut_digelar_dayus,_sedia_kembali_kepada_bekas_isteri_[3TYBFOpIHbc].pkl\", \"ms_text\": [\" Bercinta tu senang, kahwin pun senang Mengekalkan tu banyak cubaan, godaan dia Dia cuma nak seronok tapi kita tak tahu yang tu Benda-benda dia macam mana Saya nasihatkan sebelum nak terjun ke alam tu Fikirlah, tak payah banyak kali lah Fikir sampai bila-bila Selepas berpisah dengan Marina Muhin pada 6 Oktober lalu Penyanyi Hasnul memberitahu Dia kini sedang melalui fasa untuk membina kembali Hubungan mereka yang terputus itu Hasnul bagaimanapun berkata Sebelum membuat keputusan kemudian\", \" kembali bersama bekas isteri, dia perlu mendapatkan kembali kekuatan mental dan memperkukuhkan sumber ekonomi terlebih dahulu. Haa, sebelum tu, mungkin Abang Hasnul boleh share sikit macam mana hubungan dengan bekas isteri. Ok ke? Bersahabat. Ada juga kadang-kadang dia membantu kita dalam keadaan yang susah. Sebab lazimnya dan seharusnya hubungan suami isteri tu walaupun dah terlepas daripada konsep suami isteri tu, bersahabatan kita pula teruskan. Yang penting masih maju.\", \" masing-masing faham yang keadaan masing-masing macam mana saya bukannya pergi tanpa sebab ataupun lepas tanpa sebab saya pun tak nak dikelar sama ada dalali biasim ataupun yang tak nak bertanggungjawab saya nak bertanggungjawab tapi saya di negeri saya balik janganlah sampai orang anggap saya ni tak ada sebab lain ada asbab lain, tak ada saya nak berdiri balik, claim back my maruah selepas abang dah ada kerja kembali, dah ada pendapatan kembali terbuka tak hati untuk kembali bersama\", \" Ex. Kau ada pernah berbincang untuk kembali bersama? Tak ada. Tak apalah masing-masing bawa diri dulu. Saya nak gagahkan saya punya situasi dulu. Bukan sekadar emosi je. Tapi mentaliti saya. Mental saya. Kekuatan jiwa dan yang paling penting kekuatan ekonomi. Pesan saya lah pada anak-anak muda lah. Bercinta itu senang. Kahwin pun senang. Nikah eh. Itu senang. Mengekalkan itu banyak cubaan, goraan yang nak melalui itu kadang-kadang kita kita\", \" cuma nak seronok tapi kita tak tahu yang tu benda yang baik dia macam mana saya nasihatkan sebelum nak terjun ke alam fikirlah tak payah banyak kalilah fikir sampai bila-bila tapi hati abang terbuka tak untuk mungkin kalau datang kembali bersama ex kembali untuk menjadi seorang dah ada bang? I'm still single and I'm this single for a while kalau ada yang dapat se-ia dan se-kata dengan saya apa salahnya? menerima keadaan saya seadanya itu yang paling penting ada yang jenis tengok luaran ada yang jenis\", \" Tengok glamour, daripada rinti Tapi tak tengok apa kesukaran di sebalik tu Apa yang ada di dunia ni sekejap je Apa yang kita nampak dengan mata ni sekejap je Yang nak bertahan lama tu dekat sini Di jiwa, di sini Kalau yang itu tak boleh, tak boleh lah Tak adalah, sekejap je lah Ada tak orang yang mendakati Abang? Orang kata duder ni hot bang Hahaha Kalau duder hot tu mungkin lah kalau dia Ada harta benda Macam saya ni orang biasa Apa yang ada harta dan jiwa\", \" Keklas Tadi Abang cakap ni lah macam ada berbincang dengan orang yang sesuai untuk berbaik Sebenarnya bila tu berbincang? Berapa bulan lepas cerai? Bulan Puasa Bincang, kami berjumpa Tapi tu biar masa dah tak game lah tu kan Sebab apa-apa pun jodoh Tu dia punya, bukan kita punya Kita ni nak usaha-usaha, usaha, usaha, usaha Dan sekali dia kata tak boleh, tak boleh je lah Yalah Pandangan orang Pandangan, bukan cakap pandangan masyarakat Pandangan netizen Pandangan keluarga You laugh, and you want back Yang jublah\", \" nak ditinggalkan pun nak dia balik kalau dia datang balik you know, ini keluarga lah selama ni daripada kita nak merosakkan lagi keadaan ni baiklah kami bersahabat baik\"]}\r\n"
     ]
    }
   ],
   "source": [
    "!head -n 1 ms.jsonl"
   ]
  },
  {
   "cell_type": "code",
   "execution_count": 19,
   "metadata": {},
   "outputs": [
    {
     "name": "stdout",
     "output_type": "stream",
     "text": [
      "{\"file\": \"/home/husein/ssd2/processed-youtube-asr-whisper-large-v3/\\\"Ada_harta_baru_betul_duda_hot\\\"_-_Hasnol_takut_digelar_dayus,_sedia_kembali_kepada_bekas_isteri_[3TYBFOpIHbc].pkl\", \"en_text\": [\" Love is easy, marriage is easy It's a lot of challenges and challenges We just want to have fun, but we don't know what the big deal is I advise you before you jump into nature Think, don't think too much, think until when After breaking up with Marina Muhin on October 6 Singer Hasnul told that he is now going through a phase to rebuild the relationship between them However, Hasnul said before making a decision\", \" to get back with his ex-wife, he needs to regain his mental strength and strengthen his economic resources first. Before that, maybe you can share a little bit about your relationship with your ex-wife. Is it okay? Friendship. Sometimes it can help us in difficult times. Because it is a must and should be in a relationship with a husband and wife even if it is out of the concept of a wife and husband. Friendship, we don't continue. The important thing is to maintain a relationship.\", \" I still understand each of their situation I'm not going without a reason or leaving without a reason I don't want to be called either Dalalib Yassin or someone who doesn't want to be responsible I want to be responsible, but I'm going back Don't let people think I have other reasons No, I want to stand up and claim back my dignity After you have returned to work, you have experience Are you open to return together?\", \" or have you ever discussed to come back together? No, never It's okay, each of us bring their own I want to challenge my situation first Not just emotion but my mentality my mental, my spirit and most importantly, my economic strength My message to young people Love is easy Marriage is easy It's easy to endure There are many trials and tribulations Sometimes, we are the only ones who can get through it\", \" I just want to have fun, but we don't know how to enjoy it I advise you to think before you jump into the nature Don't think too much, think until forever But are you open-minded to come back with your ex to be alone? Have you ever? I'm still single and I'm a single bride If there's someone who can be with me, what's wrong with that? Accept my situation as it is That's the most important There are people who look at the outside world\", \" I see glamour and beauty but I don't see the difficulties behind it What's in this world is only for a moment What we see with our eyes is only for a moment What's going to last long is here In the soul, here If that's not possible, then it's not possible It's only for a moment Is there anyone who is close to you? They say that Duda is hot If Duda is hot, maybe he has a meaning Like me, I'm an ordinary person I feel what's in my heart and soul\", \" I'm sincere You said you had a discussion with someone to make a decision When was that? How many months after the divorce? It was during fasting month We discussed and agreed But that was during the game Because whatever it is, it's fate That's what we have We tried and tried And at the same time, he said no It's not fair The perspective of people Not just the perspective of the community The perspective of the netizens The perspective of the family You left, and you want back You left, and what do you want?\", \" If we want to leave him, we want him to come back. If he comes back, we want him to stay. This is family. Instead of ruining the situation, we should be good friends.\"]}\r\n"
     ]
    }
   ],
   "source": [
    "!head -n 1 en.jsonl"
   ]
  },
  {
   "cell_type": "code",
   "execution_count": null,
   "metadata": {},
   "outputs": [],
   "source": []
  }
 ],
 "metadata": {
  "kernelspec": {
   "display_name": "Python 3 (ipykernel)",
   "language": "python",
   "name": "python3"
  },
  "language_info": {
   "codemirror_mode": {
    "name": "ipython",
    "version": 3
   },
   "file_extension": ".py",
   "mimetype": "text/x-python",
   "name": "python",
   "nbconvert_exporter": "python",
   "pygments_lexer": "ipython3",
   "version": "3.8.10"
  }
 },
 "nbformat": 4,
 "nbformat_minor": 4
}
