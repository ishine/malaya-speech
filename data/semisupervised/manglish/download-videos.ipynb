{
 "cells": [
  {
   "cell_type": "code",
   "execution_count": 7,
   "metadata": {},
   "outputs": [
    {
     "data": {
      "text/plain": [
       "188"
      ]
     },
     "execution_count": 7,
     "metadata": {},
     "output_type": "execute_result"
    }
   ],
   "source": [
    "videos = \"\"\"\n",
    "https://www.youtube.com/watch?v=RBShCX3-BtQ&t=1099s\n",
    "https://www.youtube.com/watch?v=WnipnOcDkx8\n",
    "https://www.youtube.com/watch?v=fzuKoKTxfEs\n",
    "https://www.youtube.com/watch?v=Hioy9UvH4yE\n",
    "https://www.youtube.com/watch?v=98CiTQQtqak\n",
    "https://www.youtube.com/watch?v=HKnXUGo_H2U\n",
    "https://www.youtube.com/watch?v=F15a-MH_Hzg&t=1142s\n",
    "https://www.youtube.com/watch?v=3-DoQSmz5aI\n",
    "https://www.youtube.com/watch?v=ViJXVHWTRz8&t=1649s\n",
    "https://www.youtube.com/watch?v=XLV720mng6w\n",
    "https://www.youtube.com/watch?v=gvPiF-zXur4\n",
    "https://www.youtube.com/watch?v=mIc0MmSoaiI\n",
    "https://www.youtube.com/watch?v=oW3yttdKVm0\n",
    "https://www.youtube.com/watch?v=zHC1MPeSP34\n",
    "https://www.youtube.com/watch?v=6i8PG2cTAUU\n",
    "https://www.youtube.com/watch?v=8DMyfcjyrZQ&t=756s\n",
    "https://www.youtube.com/watch?v=rkwCky94IhQ\n",
    "https://www.youtube.com/watch?v=Y6RYZpbANJI&t=1451s\n",
    "https://www.youtube.com/watch?v=oJPtCCTzs_o\n",
    "https://www.youtube.com/watch?v=O_rK97AUOIA\n",
    "https://www.youtube.com/watch?v=Jw7B8efygWI\n",
    "https://www.youtube.com/watch?v=TxeBIVuXRHM\n",
    "https://www.youtube.com/watch?v=EYBSXaK3cjI\n",
    "https://www.youtube.com/watch?v=ekKcn3QCU5E\n",
    "https://www.youtube.com/watch?v=OZMsLGKDv14\n",
    "https://www.youtube.com/watch?v=jJN0vH42wcs\n",
    "https://www.youtube.com/watch?v=Q54z0mutz5Q&t=321s\n",
    "https://www.youtube.com/watch?v=ZcVRJSDCof0\n",
    "https://www.youtube.com/watch?v=te2Be5GNNys&t=1915s\n",
    "https://www.youtube.com/watch?v=jcvIfHTy1H0&t=1148s\n",
    "https://www.youtube.com/watch?v=O19y2ZG8Y-k&t=1464s\n",
    "https://www.youtube.com/watch?v=5zAsyNKfzps\n",
    "https://www.youtube.com/watch?v=qVpcfmZF1oY\n",
    "https://www.youtube.com/watch?v=L2W4inT6j3c\n",
    "https://www.youtube.com/watch?v=g3iwaxDKQGQ&t=1940s\n",
    "https://www.youtube.com/watch?v=XldSJLh8kMk&t=592s\n",
    "https://www.youtube.com/watch?v=DFFHEbk_iYs&t=1158s\n",
    "https://www.youtube.com/watch?v=x8Gl_zIC9CQ\n",
    "https://www.youtube.com/watch?v=QLz7USNFnng\n",
    "https://www.youtube.com/watch?v=vshZhU5dbto\n",
    "https://www.youtube.com/watch?v=skGDf57Q9xs\n",
    "https://www.youtube.com/watch?v=r6f3OoHVkgU\n",
    "https://www.youtube.com/watch?v=QxVzXbS1WFE\n",
    "https://www.youtube.com/watch?v=WJkSAHvYyqk\n",
    "https://www.youtube.com/watch?v=FFtFXiIgsyk\n",
    "https://www.youtube.com/watch?v=Cq6Yjwsu63U\n",
    "https://www.youtube.com/watch?v=FcD9MpeWqEI\n",
    "https://www.youtube.com/watch?v=79ax7ZQss5M\n",
    "https://www.youtube.com/watch?v=Wyb6i3GoJv4\n",
    "https://www.youtube.com/watch?v=I2BaN8cm6NY\n",
    "https://www.youtube.com/watch?v=ZJ8jw3C9vB8\n",
    "https://www.youtube.com/watch?v=PazCOj1nb3c\n",
    "https://www.youtube.com/watch?v=XMx9tqwzQS4\n",
    "https://www.youtube.com/watch?v=sZFykBDVjOI\n",
    "https://www.youtube.com/watch?v=NqCp8Csl7PE\n",
    "https://www.youtube.com/watch?v=zLEmAKdG9vY\n",
    "https://www.youtube.com/watch?v=IAeN0jG9Hwc\n",
    "https://www.youtube.com/watch?v=0jySfrZhs50\n",
    "https://www.youtube.com/watch?v=CXnW4hJDp54\n",
    "https://www.youtube.com/watch?v=Rkvd5p3I11M\n",
    "https://www.youtube.com/watch?v=PRN5UrsDF6w\n",
    "https://www.youtube.com/watch?v=RlejfOWnKgQ\n",
    "https://www.youtube.com/watch?v=FNfbmh93DFo\n",
    "https://www.youtube.com/watch?v=nGnyZ5c00Mo\n",
    "https://www.youtube.com/watch?v=EHlGktcfDZc\n",
    "https://www.youtube.com/watch?v=HkOQy1Nxpis&t=1571s\n",
    "https://www.youtube.com/watch?v=m7mwwtsblIs\n",
    "https://www.youtube.com/watch?v=-mAdHcMGmEs&t=92s\n",
    "https://www.youtube.com/watch?v=IixUPM11VMY\n",
    "https://www.youtube.com/watch?v=n3AR3nQEc7Y\n",
    "https://www.youtube.com/watch?v=OWbPqC2i71c\n",
    "https://www.youtube.com/watch?v=670FyeJhnps\n",
    "https://www.youtube.com/watch?v=8LuihYdx0FQ\n",
    "https://www.youtube.com/watch?v=1av_p0DPDas\n",
    "https://www.youtube.com/watch?v=Jn2oeTajYCw\n",
    "https://www.youtube.com/watch?v=2M8U_mxGbcw&ab_channel=JinnyboyTVHangouts\n",
    "https://www.youtube.com/watch?v=7_-4TXv6pvY\n",
    "https://www.youtube.com/watch?v=rMpf5j7683M\n",
    "https://www.youtube.com/watch?v=lfoBmafO37A\n",
    "https://www.youtube.com/watch?v=wnxWhWRk4Sc\n",
    "https://www.youtube.com/watch?v=Zz3NcuK7QHM&t=175s\n",
    "https://www.youtube.com/watch?v=X4QapKCCneQ\n",
    "https://www.youtube.com/watch?v=281TVct4AvE\n",
    "https://www.youtube.com/watch?v=T218uk6pi4E&t=1097s\n",
    "https://www.youtube.com/watch?v=3pImfMhLYhA\n",
    "https://www.youtube.com/watch?v=luGvazsVsHc&t=1839s\n",
    "https://www.youtube.com/watch?v=6syqXC_o6gs\n",
    "https://www.youtube.com/watch?v=rMpf5j7683M\n",
    "https://www.youtube.com/watch?v=lfoBmafO37A\n",
    "https://www.youtube.com/watch?v=wnxWhWRk4Sc\n",
    "https://www.youtube.com/watch?v=LsV8tnGSPEQ\n",
    "https://www.youtube.com/watch?v=BHF0ift4aRA\n",
    "https://www.youtube.com/watch?v=745rfUlGzgM\n",
    "https://www.youtube.com/watch?v=TqLaI2X4jj0\n",
    "https://www.youtube.com/watch?v=9SKGSMRpymc\n",
    "https://www.youtube.com/watch?v=C3U2AtbBjHY\n",
    "https://www.youtube.com/watch?v=NZXHVJEkxm8\n",
    "https://www.youtube.com/watch?v=-L7y6_6Ar4s\n",
    "https://www.youtube.com/watch?v=6RWRMNiBpJA\n",
    "https://www.youtube.com/watch?v=7izYax1bCwg\n",
    "https://www.youtube.com/watch?v=ezYaMrChz4M&t=2265s\n",
    "https://www.youtube.com/watch?v=e4mNzKOZrJ0\n",
    "https://www.youtube.com/watch?v=R7nCJrdRWyc\n",
    "https://www.youtube.com/watch?v=V2k9OWeTX84\n",
    "https://www.youtube.com/watch?v=kbOrRjEDnDU\n",
    "https://www.youtube.com/watch?v=1EqlSuT6vUY\n",
    "https://www.youtube.com/watch?v=ezFAYdIwu_8&t=4264s\n",
    "https://www.youtube.com/watch?v=U4dYpNf8oWY\n",
    "https://www.youtube.com/watch?v=e4mNzKOZrJ0\n",
    "https://www.youtube.com/watch?v=eXpirKKPBUA\n",
    "https://www.youtube.com/watch?v=5cG8wHdaKIU\n",
    "https://www.youtube.com/watch?v=EjzkQeWKwQw\n",
    "https://www.youtube.com/watch?v=adq-khQo2eQ\n",
    "https://www.youtube.com/watch?v=xsjayMqoC0Y\n",
    "https://www.youtube.com/watch?v=aa5r9pws0AI\n",
    "https://www.youtube.com/watch?v=NCiDUw4mQgE\n",
    "https://www.youtube.com/watch?v=6K1feeFnKpQ\n",
    "https://www.youtube.com/watch?v=7wiSVCBFmFc\n",
    "https://www.youtube.com/watch?v=N5EfPvQKW90\t\n",
    "https://www.youtube.com/watch?v=iugevNPFp2Y\n",
    "https://www.youtube.com/watch?v=fgaCmnMdZ0c\n",
    "https://www.youtube.com/watch?v=UryaihXnjBk\n",
    "https://www.youtube.com/watch?v=lvIbeZ3qgsU\n",
    "https://www.youtube.com/watch?v=l6bf4RFE31o\n",
    "https://www.youtube.com/watch?v=7dPzh9PpLs8\n",
    "https://www.youtube.com/watch?v=HDuY9UdkkaE\n",
    "https://www.youtube.com/watch?v=-XwvfCTnseI\n",
    "https://www.youtube.com/watch?v=jhLgzHQnAHU\n",
    "https://www.youtube.com/watch?v=TzfCaQ8vUMc\n",
    "https://www.youtube.com/watch?v=Pkv6d83oe8s\n",
    "https://www.youtube.com/watch?v=woDYSE37_rI\n",
    "https://www.youtube.com/watch?v=3pKA5NvTCOA&t=1035s\n",
    "https://www.youtube.com/watch?v=shV1F1JlDzk\n",
    "https://www.youtube.com/watch?v=rxmMRAzLRJ0\n",
    "https://www.youtube.com/watch?v=Yv7uONh96tc\n",
    "https://www.youtube.com/watch?v=H4M_ZUDAT3k\n",
    "https://www.youtube.com/watch?v=dykz_vuzJh0&t=2554s\n",
    "https://www.youtube.com/watch?v=UWm1ESejkzs\n",
    "https://www.youtube.com/watch?v=otK3Gl_XX4c\n",
    "https://www.youtube.com/watch?v=xMm23vU8_og\n",
    "https://www.youtube.com/watch?v=mJuKUwFpDgI\n",
    "https://www.youtube.com/watch?v=_7Un0q6a9zg&t=1931s\n",
    "https://www.youtube.com/watch?v=3b0bYe36KNE\n",
    "https://www.youtube.com/watch?v=RqG0tHR9D1g\n",
    "https://www.youtube.com/watch?v=eWNQhDNoSsY\n",
    "https://www.youtube.com/watch?v=tdcjTfzYSbk\n",
    "https://www.youtube.com/watch?v=WSVo-qvu1GQ&t=1505s\n",
    "https://www.youtube.com/watch?v=lPnRg9UsP0M&t=2400s\n",
    "https://www.youtube.com/watch?v=vRnkHzyyBc4\n",
    "https://www.youtube.com/watch?v=6R87P6YD2c4&t=1061s\n",
    "https://www.youtube.com/watch?v=CSP1XPZu4YY\n",
    "https://www.youtube.com/watch?v=VlovwtVYuw0&t=619s\n",
    "https://www.youtube.com/watch?v=MCHDyLJDJrg&t=2610s\n",
    "https://www.youtube.com/watch?v=7byI9tIJeRk\n",
    "https://www.youtube.com/watch?v=gW9sv26g4Io\n",
    "https://www.youtube.com/watch?v=pFBohAGNYWU\n",
    "https://www.youtube.com/watch?v=8QhPCqS5aBA\n",
    "https://www.youtube.com/watch?v=hi4MpQZVzYY\n",
    "https://www.youtube.com/watch?v=ZDloTzTfenM&t=4143s\n",
    "https://www.youtube.com/watch?v=cSxV6oacgaE\n",
    "https://www.youtube.com/watch?v=myPdnyUGvUk\n",
    "https://www.youtube.com/watch?v=JyAEITJk1AI\n",
    "https://www.youtube.com/watch?v=YaeQ27BgUN0\n",
    "https://www.youtube.com/watch?v=OpDeoZzKHBM\n",
    "https://www.youtube.com/watch?v=jzUidmnXGu8\n",
    "https://www.youtube.com/watch?v=3mt-_JgTm2E\n",
    "https://www.youtube.com/watch?v=6yW185RJkGw\n",
    "https://www.youtube.com/watch?v=QIkOzfAcsmE&t=1783s\n",
    "https://www.youtube.com/watch?v=eFDcnTupdeQ\n",
    "https://www.youtube.com/watch?v=sT3vpK8npYk\n",
    "https://www.youtube.com/watch?v=uaSWgcKn0RM\n",
    "https://www.youtube.com/watch?v=BrYHWQ4xmSc\n",
    "https://www.youtube.com/watch?v=alUMLUEUdCM\n",
    "https://www.youtube.com/watch?v=LXSNbZF9ag4\n",
    "https://www.youtube.com/watch?v=8QNgzWcc7U4\n",
    "https://www.youtube.com/watch?v=5VpSUeWPEuo\n",
    "https://www.youtube.com/watch?v=YtCn4hNLk7o\n",
    "https://www.youtube.com/watch?v=attPdWb6UVo\n",
    "https://www.youtube.com/watch?v=Yzagxa4bn-M\n",
    "https://www.youtube.com/watch?v=vKpmE4ZFnGE\n",
    "https://www.youtube.com/watch?v=b9YHjghfd2E&t=4654s\n",
    "https://www.youtube.com/watch?v=cs2LkcSpNpw\n",
    "https://www.youtube.com/watch?v=v-RunsFvf8o\n",
    "https://www.youtube.com/watch?v=f7qEqPNzGk8\n",
    "https://www.youtube.com/watch?v=rjjK4aAbKnw\n",
    "https://www.youtube.com/watch?v=TYL7mmbpsbo\n",
    "https://www.youtube.com/watch?v=-2d7wzvNOCE\n",
    "https://www.youtube.com/watch?v=1FLelqfAyZU\n",
    "https://www.youtube.com/watch?v=HRd3RMQtkDs\n",
    "https://www.youtube.com/watch?v=5SOInBKNP18\n",
    "https://www.youtube.com/watch?v=ONUgGzCm00E\n",
    "https://www.youtube.com/watch?v=5t_yyrP2OdI\n",
    "\"\"\"\n",
    "videos = list(set(filter(None, videos.split('\\n'))))\n",
    "len(videos)"
   ]
  },
  {
   "cell_type": "code",
   "execution_count": 3,
   "metadata": {},
   "outputs": [],
   "source": [
    "import youtube_dl"
   ]
  },
  {
   "cell_type": "code",
   "execution_count": 4,
   "metadata": {},
   "outputs": [],
   "source": [
    "import mp\n",
    "from tqdm import tqdm\n",
    "\n",
    "def loop(urls):\n",
    "    urls = urls[0]\n",
    "    ydl_opts = {\n",
    "        'format': 'bestaudio/best',\n",
    "        'postprocessors': [{\n",
    "            'key': 'FFmpegExtractAudio',\n",
    "            'preferredcodec': 'mp3',\n",
    "            'preferredquality': '192',\n",
    "        }],\n",
    "        'no-check-certificate': True\n",
    "    }\n",
    "\n",
    "    for i in tqdm(range(len(urls))):\n",
    "        try:\n",
    "            with youtube_dl.YoutubeDL(ydl_opts) as ydl:\n",
    "                ydl.download([urls[i]])\n",
    "        except:\n",
    "            pass"
   ]
  },
  {
   "cell_type": "code",
   "execution_count": 5,
   "metadata": {},
   "outputs": [],
   "source": [
    "# loop((videos,))"
   ]
  },
  {
   "cell_type": "code",
   "execution_count": 8,
   "metadata": {},
   "outputs": [
    {
     "name": "stderr",
     "output_type": "stream",
     "text": [
      "  0%|          | 0/15 [00:00<?, ?it/s]"
     ]
    },
    {
     "name": "stdout",
     "output_type": "stream",
     "text": [
      "[youtube] pFBohAGNYWU: Downloading webpage\n",
      "[youtube] 1EqlSuT6vUY: Downloading webpage\n",
      "[youtube] rMpf5j7683M: Downloading webpage\n",
      "[youtube] mIc0MmSoaiI: Downloading webpage\n",
      "[youtube] e4mNzKOZrJ0: Downloading webpage\n",
      "[youtube] OZMsLGKDv14: Downloading webpage\n",
      "[youtube] 5cG8wHdaKIU: Downloading webpage\n",
      "[youtube] 2M8U_mxGbcw: Downloading webpage\n",
      "[youtube] xsjayMqoC0Y: Downloading webpage\n",
      "[youtube] lvIbeZ3qgsU: Downloading webpage\n",
      "[youtube] qVpcfmZF1oY: Downloading webpage\n",
      "[youtube] 6R87P6YD2c4: Downloading webpage\n"
     ]
    },
    {
     "name": "stderr",
     "output_type": "stream",
     "text": [
      "ERROR: 1EqlSuT6vUY: YouTube said: Unable to extract video data\n",
      "  7%|▋         | 1/15 [00:01<00:25,  1.82s/it]"
     ]
    },
    {
     "name": "stdout",
     "output_type": "stream",
     "text": [
      "[youtube] zHC1MPeSP34: Downloading webpage\n",
      "[download] Destination: Is Mulan Really That Bad _ IMO Ep.32-rMpf5j7683M.webm\n",
      "[download]   0.1% of 69.65MiB at 406.84KiB/s ETA 02:55[download] Destination: How To Get Away With A Sex Crime! _ The Thirsty Sisters #15-mIc0MmSoaiI.m4a\n",
      "[download]   0.4% of 69.65MiB at  1.28MiB/s ETA 00:545[youtube] 5cG8wHdaKIU: Downloading MPD manifest\n",
      "[download]   0.0% of 48.01MiB at 224.37KiB/s ETA 03:39[youtube] xsjayMqoC0Y: Downloading MPD manifest\n",
      "[download]   0.5% of 48.01MiB at  1.74MiB/s ETA 00:277[download] Destination: Is The Panic Behaviour Really Inexcusable _ IMO Ep.2-e4mNzKOZrJ0.webm\n",
      "[download]   2.9% of 69.65MiB at  6.52MiB/s ETA 00:10[download] Destination: Ryan Tan on Starting YouTube, Struggles and Failures - Team Titan Show #5-pFBohAGNYWU.m4a\n",
      "[download]   0.0% of 39.16MiB at 64.84KiB/s ETA 10:1945[download] Destination: Mamak Sessions Ep1 - Girls Are Happier With Less Attractive Men, And The Dramatic Pizza Order-2M8U_mxGbcw.webm\n",
      "[download]   0.0% of 33.62MiB at 479.88KiB/s ETA 01:111[download] Destination: The Fashion Weak Podcast Ep 43 - Thirst Trapping Simps & Loving Your Body From The Outside In-6R87P6YD2c4.webm\n",
      "[download]   0.0% of 73.10MiB at 203.82KiB/s ETA 06:079[download] Destination: Desperate times! CB Extended Till June! Our CB Cannot Tahan _ The Thirsty Sisters #2-OZMsLGKDv14.m4a\n",
      "[download]   0.1% of 37.06MiB at 458.13KiB/s ETA 01:22[download] Destination: Mamak Sessions - This Guy Made Millions Out Of Passion-qVpcfmZF1oY.webm\n",
      "[download]  13.8% of 69.65MiB at  1.13MiB/s ETA 00:527[dashsegments] Total fragments: 311\n",
      "[download]  14.0% of 69.65MiB at  1.66MiB/s ETA 00:36[download] Destination: The Lansi Taikor Who Sells Pins For A Living - The Fashion Weak Podcast Episode 2-5cG8wHdaKIU.webm\n",
      "[download]  10.8% of 37.06MiB at  6.83MiB/s ETA 00:040[dashsegments] Total fragments: 372\n",
      "[download] Destination: Blessing The Pod, Calling Mofo's OUT! with @soimjenn - The Fashion Weak Podcast Episode 7-xsjayMqoC0Y.webm\n",
      "[download]  24.7% of 40.65MiB at  1.12MiB/s ETA 00:2797own ETAA[download] Destination: The Fashion Weak Podcast Ep 18 - Putting The Deep In Deepavali With Keren Bala-lvIbeZ3qgsU.webm\n",
      "[download]  10.3% of 73.10MiB at  1.92MiB/s ETA 00:34[download] Destination: Are We Still Sexualising Women in 2020 _ Thirsty Sisters #13-zHC1MPeSP34.m4a\n",
      "[download] 100% of 37.06MiB in 00:0986MiB/s ETA 00:0057own ETA\n",
      "[download]  19.0% of 73.48MiB at  3.49MiB/s ETA 00:1750[ffmpeg] Correcting container in \"Desperate times! CB Extended Till June! Our CB Cannot Tahan _ The Thirsty Sisters #2-OZMsLGKDv14.m4a\"\n",
      "[download]   4.8% of ~48.29MiB at  1.59MiB/s ETA 03:2430wn ETAA[ffmpeg] Destination: Desperate times! CB Extended Till June! Our CB Cannot Tahan _ The Thirsty Sisters #2-OZMsLGKDv14.mp3\n",
      "[download] 100% of 39.16MiB in 00:1144MiB/s ETA 00:00\n",
      "[download]   4.8% of ~48.45MiB at 92.34KiB/s ETA 03:28[ffmpeg] Destination: Is The Panic Behaviour Really Inexcusable _ IMO Ep.2-e4mNzKOZrJ0.mp3\n",
      "[download] 100% of 40.65MiB in 00:117.78KiB/s ETA 03:189\n",
      "[download] 100% of 69.65MiB in 00:11.32MiB/s ETA 00:098\n",
      "[download]  65.0% of 47.71MiB at  4.39MiB/s ETA 00:03[ffmpeg] Destination: Mamak Sessions - This Guy Made Millions Out Of Passion-qVpcfmZF1oY.mp3\n",
      "[ffmpeg] Destination: Is Mulan Really That Bad _ IMO Ep.32-rMpf5j7683M.mp3\n",
      "[download] 100% of 33.62MiB in 00:1298MiB/s ETA 00:1729own ETA\n",
      "[download]   5.6% of ~41.64MiB at 643.63KiB/s ETA 03:25[ffmpeg] Destination: Mamak Sessions Ep1 - Girls Are Happier With Less Attractive Men, And The Dramatic Pizza Order-2M8U_mxGbcw.mp3\n",
      "[download] 100% of 47.71MiB in 00:134.83KiB/s ETA 03:06own ETA\n",
      "[download] 100% of 48.01MiB in 00:145.74KiB/s ETA 03:46nown ETA\n",
      "[download]  59.0% of 100.22MiB at 451.20KiB/s ETA 01:33[ffmpeg] Correcting container in \"Are We Still Sexualising Women in 2020 _ Thirsty Sisters #13-zHC1MPeSP34.m4a\"\n",
      "[download]   7.1% of ~41.68MiB at 871.73KiB/s ETA 02:59[ffmpeg] Correcting container in \"How To Get Away With A Sex Crime! _ The Thirsty Sisters #15-mIc0MmSoaiI.m4a\"\n",
      "[download]   9.3% of ~41.82MiB at 489.54KiB/s ETA 02:39own ETAA[ffmpeg] Destination: How To Get Away With A Sex Crime! _ The Thirsty Sisters #15-mIc0MmSoaiI.mp3\n",
      "[ffmpeg] Destination: Are We Still Sexualising Women in 2020 _ Thirsty Sisters #13-zHC1MPeSP34.mp3\n",
      "[download] 100% of 73.10MiB in 00:17.63MiB/s ETA 00:04\n",
      "[download]  40.0% of 73.48MiB at Unknown speed ETA Unknown ETA[ffmpeg] Destination: The Fashion Weak Podcast Ep 43 - Thirst Trapping Simps & Loving Your Body From The Outside In-6R87P6YD2c4.mp3\n",
      "[download] 100% of 100.22MiB in 00:19.90KiB/s ETA 02:202own ETA\n",
      "[download]  12.1% of ~49.82MiB at 201.61KiB/s ETA 02:17[ffmpeg] Correcting container in \"Ryan Tan on Starting YouTube, Struggles and Failures - Team Titan Show #5-pFBohAGNYWU.m4a\"\n",
      "[download] 100% of 73.48MiB in 00:22.04MiB/s ETA 01:5569wn ETA\n",
      "[download]  15.6% of ~50.15MiB at 231.97KiB/s ETA 01:58[ffmpeg] Destination: The Fashion Weak Podcast Ep 18 - Putting The Deep In Deepavali With Keren Bala-lvIbeZ3qgsU.mp3\n",
      "[download]  17.2% of ~50.39MiB at 553.38KiB/s ETA 01:521[ffmpeg] Destination: Ryan Tan on Starting YouTube, Struggles and Failures - Team Titan Show #5-pFBohAGNYWU.mp3\n",
      "[download] 100% of 44.08MiB in 01:2106.41KiB/s ETA 00:00\n",
      "[download]  90.3% of ~51.27MiB at 278.77KiB/s ETA 00:08[ffmpeg] Destination: The Lansi Taikor Who Sells Pins For A Living - The Fashion Weak Podcast Episode 2-5cG8wHdaKIU.mp3\n",
      "[download] 100% of 51.17MiB in 01:294.54KiB/s ETA 00:002\n",
      "[ffmpeg] Destination: Blessing The Pod, Calling Mofo's OUT! with @soimjenn - The Fashion Weak Podcast Episode 7-xsjayMqoC0Y.mp3\n",
      "Deleting original file Desperate times! CB Extended Till June! Our CB Cannot Tahan _ The Thirsty Sisters #2-OZMsLGKDv14.m4a (pass -k to keep)\n"
     ]
    },
    {
     "name": "stderr",
     "output_type": "stream",
     "text": [
      "  7%|▋         | 1/15 [02:02<28:39, 122.85s/it]"
     ]
    },
    {
     "name": "stdout",
     "output_type": "stream",
     "text": [
      "[youtube] jcvIfHTy1H0: Downloading webpage\n",
      "[download] Destination: Mamak Sessions - The Man Behind The Six Pack, Jordan Yeoh-jcvIfHTy1H0.webm\n",
      "[download] 100% of 46.25MiB in 00:0340MiB/s ETA 00:000nown ETA\n",
      "[ffmpeg] Destination: Mamak Sessions - The Man Behind The Six Pack, Jordan Yeoh-jcvIfHTy1H0.mp3\n",
      "Deleting original file Are We Still Sexualising Women in 2020 _ Thirsty Sisters #13-zHC1MPeSP34.m4a (pass -k to keep)\n"
     ]
    },
    {
     "name": "stderr",
     "output_type": "stream",
     "text": [
      " 13%|█▎        | 2/15 [02:36<10:19, 47.65s/it]"
     ]
    },
    {
     "name": "stdout",
     "output_type": "stream",
     "text": [
      "[youtube] JyAEITJk1AI: Downloading webpage\n",
      "[youtube] JyAEITJk1AI: Downloading MPD manifest\n",
      "[dashsegments] Total fragments: 296\n",
      "[download] Destination: Why Random Hobbies Can Make You More Productive In Life _ Informal Convos. with Xin Yee and Leonard-JyAEITJk1AI.m4a\n",
      "[download]   0.3% of ~182.69KiB at Unknown speed ETA 03:36Deleting original file How To Get Away With A Sex Crime! _ The Thirsty Sisters #15-mIc0MmSoaiI.m4a (pass -k to keep)\n",
      "[download]   0.3% of ~182.69KiB at Unknown speed ETA 03:36"
     ]
    },
    {
     "name": "stderr",
     "output_type": "stream",
     "text": [
      "  7%|▋         | 1/15 [02:39<37:19, 159.94s/it]"
     ]
    },
    {
     "name": "stdout",
     "output_type": "stream",
     "text": [
      "[download]   0.5% of ~22.91MiB at 934.47KiB/s ETA 02:55:5530[youtube] 9SKGSMRpymc: Downloading webpage\n",
      "[download]   3.7% of ~41.49MiB at  1.22MiB/s ETA 01:1375[download] Destination: What We Need To Learn From Celebrity Suicides _ IMO Ep.16-9SKGSMRpymc.webm\n",
      "[download] 100% of 47.21MiB in 00:032.13KiB/s ETA 01:10own ETA\n",
      "[download]   7.9% of ~43.72MiB at 510.69KiB/s ETA 01:10[ffmpeg] Destination: What We Need To Learn From Celebrity Suicides _ IMO Ep.16-9SKGSMRpymc.mp3\n",
      "[download]  12.2% of ~44.38MiB at 502.14KiB/s ETA 01:046Deleting original file Mamak Sessions Ep1 - Girls Are Happier With Less Attractive Men, And The Dramatic Pizza Order-2M8U_mxGbcw.webm (pass -k to keep)\n",
      "[download]  12.3% of ~44.38MiB at 805.16KiB/s ETA 01:03"
     ]
    },
    {
     "name": "stderr",
     "output_type": "stream",
     "text": [
      "  7%|▋         | 1/15 [02:48<39:13, 168.14s/it]"
     ]
    },
    {
     "name": "stdout",
     "output_type": "stream",
     "text": [
      "[download]  12.5% of ~44.42MiB at 250.01KiB/s ETA 01:03[youtube] g3iwaxDKQGQ: Downloading webpage\n",
      "[download]  15.9% of ~44.67MiB at  1.09MiB/s ETA 00:588[download] Destination: How A 26 Year Old Built A Multi Million YouTube Empire-g3iwaxDKQGQ.webm\n",
      "[download] 100% of 52.55MiB in 00:0495MiB/s ETA 00:00:53wn ETA\n",
      "[ffmpeg] Destination: How A 26 Year Old Built A Multi Million YouTube Empire-g3iwaxDKQGQ.mp3\n",
      "[download]  54.0% of ~45.33MiB at  1.00MiB/s ETA 00:3001Deleting original file Mamak Sessions - This Guy Made Millions Out Of Passion-qVpcfmZF1oY.webm (pass -k to keep)\n",
      "[download]  54.1% of ~45.33MiB at  1.13MiB/s ETA 00:30"
     ]
    },
    {
     "name": "stderr",
     "output_type": "stream",
     "text": [
      "  7%|▋         | 1/15 [03:15<45:32, 195.18s/it]"
     ]
    },
    {
     "name": "stdout",
     "output_type": "stream",
     "text": [
      "[download]  54.1% of ~45.33MiB at 178.04KiB/s ETA 00:30[youtube] tdcjTfzYSbk: Downloading webpage\n",
      "[download]  57.1% of ~45.34MiB at  1.13MiB/s ETA 00:2888[download] Destination: The Fashion Weak Podcast Ep 40 --tdcjTfzYSbk.webm\n",
      "[download] 100% of 101.59MiB in 00:0737MiB/s ETA 00:002nown ETA\n",
      "[download]  67.2% of ~45.38MiB at 976.93KiB/s ETA 00:21[ffmpeg] Destination: The Fashion Weak Podcast Ep 40 --tdcjTfzYSbk.mp3\n",
      "[download]  96.4% of ~45.45MiB at 677.44KiB/s ETA 00:024Deleting original file Is The Panic Behaviour Really Inexcusable _ IMO Ep.2-e4mNzKOZrJ0.webm (pass -k to keep)\n",
      "[download]  96.6% of ~45.45MiB at  1.16MiB/s ETA 00:02"
     ]
    },
    {
     "name": "stderr",
     "output_type": "stream",
     "text": [
      "  7%|▋         | 1/15 [03:43<52:09, 223.52s/it]"
     ]
    },
    {
     "name": "stdout",
     "output_type": "stream",
     "text": [
      "[download]  96.7% of ~45.45MiB at 222.23KiB/s ETA 00:02[youtube] Zz3NcuK7QHM: Downloading webpage\n",
      "[download]  99.7% of ~45.45MiB at 116.08KiB/s ETA 00:000[download] Destination: The Reaction To Dee Kosh _ IMO Ep.29-Zz3NcuK7QHM.webm\n",
      "[download] 100% of 45.45MiB in 01:06.35KiB/s ETA 00:410\n",
      "[download]   5.1% of 39.28MiB at  7.37MiB/s ETA 00:05[ffmpeg] Correcting container in \"Why Random Hobbies Can Make You More Productive In Life _ Informal Convos. with Xin Yee and Leonard-JyAEITJk1AI.m4a\"\n",
      "[download]  80.1% of 39.28MiB at  5.31MiB/s ETA 00:010nown ETA[ffmpeg] Destination: Why Random Hobbies Can Make You More Productive In Life _ Informal Convos. with Xin Yee and Leonard-JyAEITJk1AI.mp3\n",
      "[download] 100% of 39.28MiB in 00:0263MiB/s ETA 00:00\n",
      "[ffmpeg] Destination: The Reaction To Dee Kosh _ IMO Ep.29-Zz3NcuK7QHM.mp3\n",
      "Deleting original file The Lansi Taikor Who Sells Pins For A Living - The Fashion Weak Podcast Episode 2-5cG8wHdaKIU.webm (pass -k to keep)\n"
     ]
    },
    {
     "name": "stderr",
     "output_type": "stream",
     "text": [
      "  7%|▋         | 1/15 [04:47<1:07:01, 287.25s/it]"
     ]
    },
    {
     "name": "stdout",
     "output_type": "stream",
     "text": [
      "[youtube] O_rK97AUOIA: Downloading webpage\n",
      "[download] Destination: How We Deal With Hate! _ The Thirsty Sisters #7-O_rK97AUOIA.m4a\n",
      "[download] 100% of 38.41MiB in 00:0264MiB/s ETA 00:003nown ETA\n",
      "[ffmpeg] Correcting container in \"How We Deal With Hate! _ The Thirsty Sisters #7-O_rK97AUOIA.m4a\"\n",
      "[ffmpeg] Destination: How We Deal With Hate! _ The Thirsty Sisters #7-O_rK97AUOIA.mp3\n",
      "Deleting original file Blessing The Pod, Calling Mofo's OUT! with @soimjenn - The Fashion Weak Podcast Episode 7-xsjayMqoC0Y.webm (pass -k to keep)\n"
     ]
    },
    {
     "name": "stderr",
     "output_type": "stream",
     "text": [
      "  7%|▋         | 1/15 [05:09<1:12:07, 309.12s/it]"
     ]
    },
    {
     "name": "stdout",
     "output_type": "stream",
     "text": [
      "[youtube] QLz7USNFnng: Downloading webpage\n",
      "[download] Destination: Mamak Sessions - Should You Be Spending Crazily For Valentine's Day-QLz7USNFnng.webm\n",
      "[download] 100% of 33.96MiB in 00:0117MiB/s ETA 00:00known ETA\n",
      "[ffmpeg] Destination: Mamak Sessions - Should You Be Spending Crazily For Valentine's Day-QLz7USNFnng.mp3\n",
      "Deleting original file Is Mulan Really That Bad _ IMO Ep.32-rMpf5j7683M.webm (pass -k to keep)\n"
     ]
    },
    {
     "name": "stderr",
     "output_type": "stream",
     "text": [
      "  7%|▋         | 1/15 [05:13<1:13:10, 313.64s/it]"
     ]
    },
    {
     "name": "stdout",
     "output_type": "stream",
     "text": [
      "[youtube] YaeQ27BgUN0: Downloading webpage\n",
      "Deleting original file Mamak Sessions - The Man Behind The Six Pack, Jordan Yeoh-jcvIfHTy1H0.webm (pass -k to keep)\n"
     ]
    },
    {
     "name": "stderr",
     "output_type": "stream",
     "text": [
      " 13%|█▎        | 2/15 [05:15<31:07, 143.68s/it]"
     ]
    },
    {
     "name": "stdout",
     "output_type": "stream",
     "text": [
      "[youtube] YaeQ27BgUN0: Downloading MPD manifest\n",
      "[youtube] v-RunsFvf8o: Downloading webpage\n",
      "[dashsegments] Total fragments: 336\n",
      "[download] Destination: Dream Internships You Wish You Had - Xiaomi, Amazon, TikTok _ Hao Yuan _ Singaporean Podcast #43-YaeQ27BgUN0.m4a\n",
      "[download]   2.4% of ~45.34MiB at 14.18MiB/s ETA 00:10:576Deleting original file Ryan Tan on Starting YouTube, Struggles and Failures - Team Titan Show #5-pFBohAGNYWU.m4a (pass -k to keep)\n",
      "[download]   2.4% of ~45.34MiB at 14.18MiB/s ETA 00:10"
     ]
    },
    {
     "name": "stderr",
     "output_type": "stream",
     "text": [
      "  7%|▋         | 1/15 [05:16<1:13:44, 316.01s/it]"
     ]
    },
    {
     "name": "stdout",
     "output_type": "stream",
     "text": [
      "[download]   2.8% of ~46.63MiB at  7.65MiB/s ETA 00:11[youtube] ezYaMrChz4M: Downloading webpage\n",
      "[download]   4.1% of ~48.10MiB at 12.20MiB/s ETA 00:10Deleting original file The Fashion Weak Podcast Ep 43 - Thirst Trapping Simps & Loving Your Body From The Outside In-6R87P6YD2c4.webm (pass -k to keep)\n",
      "[download]   4.2% of ~48.10MiB at  5.06MiB/s ETA 00:10"
     ]
    },
    {
     "name": "stderr",
     "output_type": "stream",
     "text": [
      "  7%|▋         | 1/15 [05:16<1:13:46, 316.21s/it]"
     ]
    },
    {
     "name": "stdout",
     "output_type": "stream",
     "text": [
      "[download]   4.5% of ~48.34MiB at  6.93MiB/s ETA 00:11[youtube] 7byI9tIJeRk: Downloading webpage\n",
      "[download]   8.3% of ~49.94MiB at 13.55MiB/s ETA 00:11[youtube] v-RunsFvf8o: Downloading MPD manifest\n",
      "[download]  13.1% of ~50.60MiB at 14.15MiB/s ETA 00:10[dashsegments] Total fragments: 349\n",
      "[download] Destination: Community Service, Entrepreneurial Ventures & Being a Father _ Singaporean Podcast #14 _ Andy Ang-v-RunsFvf8o.webm\n",
      "[download]  15.7% of ~50.80MiB at 13.00MiB/s ETA 00:09[download] Destination: Self Love, Social Media And Education _ HTHT - Chow Jia Hui-ezYaMrChz4M.webm\n",
      "[download]  13.2% of 60.79MiB at 23.28MiB/s ETA 00:0201[download] Destination: Amander Reveals Why She Left Titan - The Team Titan Show-7byI9tIJeRk.webm\n",
      "[download]  24.5% of ~51.15MiB at  1.34MiB/s ETA 00:133own ETADeleting original file The Fashion Weak Podcast Ep 18 - Putting The Deep In Deepavali With Keren Bala-lvIbeZ3qgsU.webm (pass -k to keep)\n",
      "[download]  24.5% of ~51.15MiB at  1.45MiB/s ETA 00:13"
     ]
    },
    {
     "name": "stderr",
     "output_type": "stream",
     "text": [
      "  7%|▋         | 1/15 [05:20<1:14:42, 320.17s/it]"
     ]
    },
    {
     "name": "stdout",
     "output_type": "stream",
     "text": [
      "[download]  30.3% of 71.23MiB at 15.11MiB/s ETA 00:033[youtube] otK3Gl_XX4c: Downloading webpage\n",
      "[download] 100% of 60.79MiB in 00:0470MiB/s ETA 00:00known ETA\n",
      "[ffmpeg] Destination: Self Love, Social Media And Education _ HTHT - Chow Jia Hui-ezYaMrChz4M.mp3\n",
      "[download]  82.4% of 71.23MiB at 18.63MiB/s ETA 00:0045own ETA[download] Destination: The Fashion Weak Podcast Ep 30 - On her way to Supermodel-dom, ASNTM  Cycle 5 Runner Up @shikingomez-otK3Gl_XX4c.webm\n",
      "[download] 100% of 71.23MiB in 00:0569MiB/s ETA 00:00515wn ETA\n",
      "[download]  32.0% of ~51.30MiB at  3.23MiB/s ETA 00:15[ffmpeg] Destination: Amander Reveals Why She Left Titan - The Team Titan Show-7byI9tIJeRk.mp3\n",
      "[download]  53.0% of ~51.49MiB at  6.56MiB/s ETA 00:09nown ETADeleting original file Why Random Hobbies Can Make You More Productive In Life _ Informal Convos. with Xin Yee and Leonard-JyAEITJk1AI.m4a (pass -k to keep)\n",
      "[download]  53.2% of ~51.49MiB at 10.56MiB/s ETA 00:08"
     ]
    },
    {
     "name": "stderr",
     "output_type": "stream",
     "text": [
      " 20%|██        | 3/15 [05:25<16:50, 84.20s/it]"
     ]
    },
    {
     "name": "stdout",
     "output_type": "stream",
     "text": [
      "[download]  53.3% of ~51.49MiB at  7.12MiB/s ETA 00:08[youtube] dykz_vuzJh0: Downloading webpage\n",
      "[download]  59.0% of ~51.52MiB at  8.68MiB/s ETA 00:088[download] Destination: The Fashion Weak Podcast Ep24 - Penang Boys @tunway 瘦虎 & @Shawnduabui 肥龍 Talk Zap Fan & Sneakers-dykz_vuzJh0.webm\n",
      "[download]  63.0% of 83.23MiB at 16.64MiB/s ETA 00:015nown ETADeleting original file What We Need To Learn From Celebrity Suicides _ IMO Ep.16-9SKGSMRpymc.webm (pass -k to keep)\n",
      "[download]  71.1% of ~51.56MiB at 665.16KiB/s ETA 00:05"
     ]
    },
    {
     "name": "stderr",
     "output_type": "stream",
     "text": [
      " 13%|█▎        | 2/15 [05:29<35:17, 162.92s/it]"
     ]
    },
    {
     "name": "stdout",
     "output_type": "stream",
     "text": [
      "[download]   5.8% of ~53.78MiB at  2.03MiB/s ETA 03:256[youtube] HRd3RMQtkDs: Downloading webpage\n",
      "[download] 100% of 83.23MiB in 00:0340MiB/s ETA 00:0044own ETA\n",
      "[download]  77.4% of ~51.58MiB at  6.27MiB/s ETA 00:04[ffmpeg] Destination: The Fashion Weak Podcast Ep24 - Penang Boys @tunway 瘦虎 & @Shawnduabui 肥龍 Talk Zap Fan & Sneakers-dykz_vuzJh0.mp3\n",
      "[download]  79.2% of ~51.58MiB at 14.48MiB/s ETA 00:04nown ETA[youtube] HRd3RMQtkDs: Downloading MPD manifest\n",
      "[download]   7.2% of ~54.25MiB at 13.61MiB/s ETA 03:11[dashsegments] Total fragments: 356\n",
      "[download] Destination: Become a Software Developer in 90 days and Running His Own Company _ Singaporean Podcast #8 _ Haris-HRd3RMQtkDs.webm\n",
      "[download] 100% of 51.61MiB in 00:20.27MiB/s ETA 00:009own ETA\n",
      "[ffmpeg] Correcting container in \"Dream Internships You Wish You Had - Xiaomi, Amazon, TikTok _ Hao Yuan _ Singaporean Podcast #43-YaeQ27BgUN0.m4a\"\n",
      "[download]   9.2% of ~54.67MiB at 13.08MiB/s ETA 03:096Deleting original file The Reaction To Dee Kosh _ IMO Ep.29-Zz3NcuK7QHM.webm (pass -k to keep)\n"
     ]
    },
    {
     "name": "stderr",
     "output_type": "stream",
     "text": [
      " 13%|█▎        | 2/15 [05:36<41:15, 190.41s/it]"
     ]
    },
    {
     "name": "stdout",
     "output_type": "stream",
     "text": [
      "[youtube] NCiDUw4mQgE: Downloading webpage\n",
      "[download]   9.5% of ~54.67MiB at 12.96MiB/s ETA 03:075[ffmpeg] Destination: Dream Internships You Wish You Had - Xiaomi, Amazon, TikTok _ Hao Yuan _ Singaporean Podcast #43-YaeQ27BgUN0.mp3\n",
      "[download]   4.8% of ~49.33MiB at  1.42MiB/s ETA 01:572own ETA[download] Destination: Butts and D_ck Pics, MILF Hunting Part 2 With Nor Soraya - The Fashion Weak Podcast Episode 5-NCiDUw4mQgE.webm\n",
      "[download]   5.3% of ~49.92MiB at 12.27MiB/s ETA 01:55Deleting original file How A 26 Year Old Built A Multi Million YouTube Empire-g3iwaxDKQGQ.webm (pass -k to keep)\n"
     ]
    },
    {
     "name": "stderr",
     "output_type": "stream",
     "text": [
      " 13%|█▎        | 2/15 [05:38<36:35, 168.89s/it]"
     ]
    },
    {
     "name": "stdout",
     "output_type": "stream",
     "text": [
      "[youtube] shV1F1JlDzk: Downloading webpage\n",
      "[download]   5.9% of ~50.47MiB at 11.42MiB/s ETA 01:53nown ETADeleting original file How We Deal With Hate! _ The Thirsty Sisters #7-O_rK97AUOIA.m4a (pass -k to keep)\n"
     ]
    },
    {
     "name": "stderr",
     "output_type": "stream",
     "text": [
      " 13%|█▎        | 2/15 [05:39<46:57, 216.72s/it]  "
     ]
    },
    {
     "name": "stdout",
     "output_type": "stream",
     "text": [
      "[download]  18.5% of 54.35MiB at  1.40MiB/s ETA 00:31[youtube] UryaihXnjBk: Downloading webpage\n",
      "[download]  32.3% of 54.35MiB at  7.93MiB/s ETA 00:0407[download] Destination: The Fashion Weak Podcast Ep 28 @dreamrocketeers on that Rolex you should cop to flex on poor friends-shV1F1JlDzk.webm\n",
      "[download]  37.5% of 54.35MiB at  3.45MiB/s ETA 00:092nown ETA[youtube] UryaihXnjBk: Downloading MPD manifest\n",
      "[download]  16.0% of 85.69MiB at 20.53MiB/s ETA 00:03known ETA[dashsegments] Total fragments: 447\n",
      "[download] Destination: Thinking Long And Hard With @prakashdanielcomedy - The Fashion Weak Podcast Episode 13-UryaihXnjBk.webm\n",
      "[download] 100% of 54.35MiB in 00:0616MiB/s ETA 00:0033own ETA\n",
      "[ffmpeg] Destination: Butts and D_ck Pics, MILF Hunting Part 2 With Nor Soraya - The Fashion Weak Podcast Episode 5-NCiDUw4mQgE.mp3\n",
      "[download] 100% of 73.75MiB in 00:2373MiB/s ETA 00:00\n",
      "[ffmpeg] Destination: The Fashion Weak Podcast Ep 30 - On her way to Supermodel-dom, ASNTM  Cycle 5 Runner Up @shikingomez-otK3Gl_XX4c.mp3\n",
      "[download] 100% of 85.69MiB in 00:06.34MiB/s ETA 04:016own ETA\n",
      "[download]  11.2% of ~52.01MiB at 10.18MiB/s ETA 01:53[ffmpeg] Destination: The Fashion Weak Podcast Ep 28 @dreamrocketeers on that Rolex you should cop to flex on poor friends-shV1F1JlDzk.mp3\n",
      "[download]  11.5% of ~51.98MiB at 11.25MiB/s ETA 01:51"
     ]
    },
    {
     "name": "stderr",
     "output_type": "stream",
     "text": [
      "ERROR: giving up after 0 retries\n"
     ]
    },
    {
     "name": "stdout",
     "output_type": "stream",
     "text": [
      "[download] Skipping fragment 42...\n",
      "[download]  20.9% of ~54.16MiB at 11.98MiB/s ETA 02:3307"
     ]
    },
    {
     "name": "stderr",
     "output_type": "stream",
     "text": [
      "ERROR: giving up after 0 retries\n"
     ]
    },
    {
     "name": "stdout",
     "output_type": "stream",
     "text": [
      "[download] Skipping fragment 73...\n"
     ]
    },
    {
     "name": "stderr",
     "output_type": "stream",
     "text": [
      "ERROR: giving up after 0 retries\n"
     ]
    },
    {
     "name": "stdout",
     "output_type": "stream",
     "text": [
      "[download] Skipping fragment 74...\n",
      "[download]   6.9% of ~61.78MiB at 10.10MiB/s ETA 03:41"
     ]
    },
    {
     "name": "stderr",
     "output_type": "stream",
     "text": [
      "ERROR: giving up after 0 retries\n"
     ]
    },
    {
     "name": "stdout",
     "output_type": "stream",
     "text": [
      "[download] Skipping fragment 75...\n",
      "[download]  23.0% of ~53.10MiB at 11.11MiB/s ETA 01:382"
     ]
    },
    {
     "name": "stderr",
     "output_type": "stream",
     "text": [
      "ERROR: giving up after 0 retries\n"
     ]
    },
    {
     "name": "stdout",
     "output_type": "stream",
     "text": [
      "[download] Skipping fragment 87...\n"
     ]
    },
    {
     "name": "stderr",
     "output_type": "stream",
     "text": [
      "ERROR: giving up after 0 retries\n"
     ]
    },
    {
     "name": "stdout",
     "output_type": "stream",
     "text": [
      "[download] Skipping fragment 88...\n"
     ]
    },
    {
     "name": "stderr",
     "output_type": "stream",
     "text": [
      "ERROR: giving up after 0 retries\n"
     ]
    },
    {
     "name": "stdout",
     "output_type": "stream",
     "text": [
      "[download] Skipping fragment 89...\n",
      "[download]  23.2% of ~54.17MiB at 13.58MiB/s ETA 02:27"
     ]
    },
    {
     "name": "stderr",
     "output_type": "stream",
     "text": [
      "ERROR: giving up after 0 retries\n"
     ]
    },
    {
     "name": "stdout",
     "output_type": "stream",
     "text": [
      "[download] Skipping fragment 90...\n",
      "[download]  25.3% of ~53.21MiB at 12.27MiB/s ETA 01:356Deleting original file Mamak Sessions - Should You Be Spending Crazily For Valentine's Day-QLz7USNFnng.webm (pass -k to keep)\n"
     ]
    },
    {
     "name": "stderr",
     "output_type": "stream",
     "text": [
      " 13%|█▎        | 2/15 [06:04<50:29, 233.05s/it]  "
     ]
    },
    {
     "name": "stdout",
     "output_type": "stream",
     "text": [
      "[youtube] 1av_p0DPDas: Downloading webpage\n",
      "[download]  25.8% of ~54.07MiB at  9.96MiB/s ETA 02:20[download] Destination: Mamak Sessions Ep4 - What Turns You On, Is it ok if your Girlfriend Earns More & The Ideal Proposal-1av_p0DPDas.webm\n",
      "[download] 100% of 49.92MiB in 00:0238MiB/s ETA 00:00known ETA\n",
      "[download]  28.4% of ~53.46MiB at  2.55MiB/s ETA 01:32[ffmpeg] Destination: Mamak Sessions Ep4 - What Turns You On, Is it ok if your Girlfriend Earns More & The Ideal Proposal-1av_p0DPDas.mp3\n",
      "[download]  44.1% of ~53.58MiB at  1.22MiB/s ETA 01:1554"
     ]
    },
    {
     "name": "stderr",
     "output_type": "stream",
     "text": [
      "ERROR: giving up after 0 retries\n"
     ]
    },
    {
     "name": "stdout",
     "output_type": "stream",
     "text": [
      "[download]  20.1% of ~63.70MiB at 143.94KiB/s ETA 03:19[download] Skipping fragment 166...\n",
      "[download]  22.8% of ~63.76MiB at 988.74KiB/s ETA 03:139"
     ]
    },
    {
     "name": "stderr",
     "output_type": "stream",
     "text": [
      "ERROR: giving up after 0 retries\n"
     ]
    },
    {
     "name": "stdout",
     "output_type": "stream",
     "text": [
      "[download]  22.8% of ~63.76MiB at 988.74KiB/s ETA 03:13[download] Skipping fragment 182...\n"
     ]
    },
    {
     "name": "stderr",
     "output_type": "stream",
     "text": [
      "ERROR: giving up after 0 retries\n"
     ]
    },
    {
     "name": "stdout",
     "output_type": "stream",
     "text": [
      "[download] Skipping fragment 183...\n",
      "[download]  43.3% of ~53.34MiB at 201.62KiB/s ETA 01:557"
     ]
    },
    {
     "name": "stderr",
     "output_type": "stream",
     "text": [
      "ERROR: giving up after 0 retries\n"
     ]
    },
    {
     "name": "stdout",
     "output_type": "stream",
     "text": [
      "[download] Skipping fragment 197...\n",
      "[download]  43.6% of ~53.34MiB at  1.50MiB/s ETA 01:544"
     ]
    },
    {
     "name": "stderr",
     "output_type": "stream",
     "text": [
      "ERROR: giving up after 0 retries\n"
     ]
    },
    {
     "name": "stdout",
     "output_type": "stream",
     "text": [
      "[download] Skipping fragment 198...\n",
      "[download]  27.5% of ~63.85MiB at 861.41KiB/s ETA 03:055Deleting original file Dream Internships You Wish You Had - Xiaomi, Amazon, TikTok _ Hao Yuan _ Singaporean Podcast #43-YaeQ27BgUN0.m4a (pass -k to keep)\n",
      "[download]  27.6% of ~63.85MiB at 465.55KiB/s ETA 03:05"
     ]
    },
    {
     "name": "stderr",
     "output_type": "stream",
     "text": [
      " 13%|█▎        | 2/15 [06:52<53:57, 249.07s/it]  "
     ]
    },
    {
     "name": "stdout",
     "output_type": "stream",
     "text": [
      "[download]  46.2% of ~53.28MiB at 201.09KiB/s ETA 01:50[youtube] uaSWgcKn0RM: Downloading webpage\n",
      "[download]  56.7% of ~53.46MiB at  1.17MiB/s ETA 01:022[youtube] uaSWgcKn0RM: Downloading MPD manifest\n",
      "[download]  57.3% of ~53.45MiB at  1.03MiB/s ETA 01:0113"
     ]
    },
    {
     "name": "stderr",
     "output_type": "stream",
     "text": [
      "ERROR: giving up after 0 retries\n"
     ]
    },
    {
     "name": "stdout",
     "output_type": "stream",
     "text": [
      "[download] Skipping fragment 218...\n",
      "[download]  47.3% of ~53.29MiB at 1007.84KiB/s ETA 01:48[dashsegments] Total fragments: 391\n",
      "[download]  47.3% of ~53.29MiB at 82.18KiB/s ETA 01:48[download] Destination: How to Start a Podcast + Why You Should Enjoy The Process_ Singaporean Podcast#28 _ Nicholas Patrick-uaSWgcKn0RM.webm\n",
      "[download]   0.3% of ~101.57KiB at Unknown speed ETA 00:19"
     ]
    },
    {
     "name": "stderr",
     "output_type": "stream",
     "text": [
      "ERROR: giving up after 0 retries\n"
     ]
    },
    {
     "name": "stdout",
     "output_type": "stream",
     "text": [
      "[download]   0.3% of ~101.57KiB at Unknown speed ETA 00:19[download] Skipping fragment 219...\n",
      "[download]   4.2% of ~54.68MiB at 726.23KiB/s ETA 01:0998"
     ]
    },
    {
     "name": "stderr",
     "output_type": "stream",
     "text": [
      "ERROR: giving up after 0 retries\n"
     ]
    },
    {
     "name": "stdout",
     "output_type": "stream",
     "text": [
      "[download]   4.3% of ~54.68MiB at  1.25MiB/s ETA 01:072[download] Skipping fragment 226...\n",
      "[download]  12.8% of ~58.80MiB at  1.25MiB/s ETA 01:0082"
     ]
    },
    {
     "name": "stderr",
     "output_type": "stream",
     "text": [
      "ERROR: giving up after 0 retries\n"
     ]
    },
    {
     "name": "stdout",
     "output_type": "stream",
     "text": [
      "[download]  31.6% of ~63.91MiB at 528.69KiB/s ETA 02:58[download] Skipping fragment 239...\n",
      "[download]  13.0% of ~58.83MiB at  1.12MiB/s ETA 01:0017"
     ]
    },
    {
     "name": "stderr",
     "output_type": "stream",
     "text": [
      "ERROR: giving up after 0 retries\n"
     ]
    },
    {
     "name": "stdout",
     "output_type": "stream",
     "text": [
      "[download] Skipping fragment 240...\n",
      "[download]  19.5% of ~59.03MiB at 760.34KiB/s ETA 00:578"
     ]
    },
    {
     "name": "stderr",
     "output_type": "stream",
     "text": [
      "ERROR: giving up after 0 retries\n"
     ]
    },
    {
     "name": "stdout",
     "output_type": "stream",
     "text": [
      "[download] Skipping fragment 251...\n",
      "[download]  20.2% of ~58.96MiB at 227.32KiB/s ETA 00:56"
     ]
    },
    {
     "name": "stderr",
     "output_type": "stream",
     "text": [
      "ERROR: giving up after 0 retries\n"
     ]
    },
    {
     "name": "stdout",
     "output_type": "stream",
     "text": [
      "[download]  20.3% of ~58.96MiB at 552.79KiB/s ETA 00:56[download] Skipping fragment 253...\n",
      "[download]  20.5% of ~58.83MiB at 918.22KiB/s ETA 00:56"
     ]
    },
    {
     "name": "stderr",
     "output_type": "stream",
     "text": [
      "ERROR: giving up after 0 retries\n"
     ]
    },
    {
     "name": "stdout",
     "output_type": "stream",
     "text": [
      "[download]  53.6% of ~53.17MiB at 153.59KiB/s ETA 01:37[download] Skipping fragment 254...\n",
      "[download]  24.8% of ~58.99MiB at 155.63KiB/s ETA 00:535"
     ]
    },
    {
     "name": "stderr",
     "output_type": "stream",
     "text": [
      "ERROR: giving up after 0 retries\n"
     ]
    },
    {
     "name": "stdout",
     "output_type": "stream",
     "text": [
      "[download]  24.8% of ~58.99MiB at 196.56KiB/s ETA 00:53[download] Skipping fragment 261...\n",
      "[download]  55.1% of ~53.14MiB at 848.52KiB/s ETA 01:33"
     ]
    },
    {
     "name": "stderr",
     "output_type": "stream",
     "text": [
      "ERROR: giving up after 0 retries\n"
     ]
    },
    {
     "name": "stdout",
     "output_type": "stream",
     "text": [
      "[download]  25.1% of ~58.99MiB at  1.09MiB/s ETA 00:53[download] Skipping fragment 262...\n",
      "[download]  56.3% of ~53.10MiB at 628.14KiB/s ETA 01:318"
     ]
    },
    {
     "name": "stderr",
     "output_type": "stream",
     "text": [
      "ERROR: giving up after 0 retries\n"
     ]
    },
    {
     "name": "stdout",
     "output_type": "stream",
     "text": [
      "[download]  56.4% of ~53.10MiB at  1.05MiB/s ETA 01:31[download] Skipping fragment 268...\n",
      "[download]  34.4% of ~58.90MiB at 637.96KiB/s ETA 00:473"
     ]
    },
    {
     "name": "stderr",
     "output_type": "stream",
     "text": [
      "ERROR: giving up after 0 retries\n"
     ]
    },
    {
     "name": "stdout",
     "output_type": "stream",
     "text": [
      "[download]  34.5% of ~58.90MiB at  1.03MiB/s ETA 00:46[download] Skipping fragment 278...\n",
      "[download]  34.5% of ~58.90MiB at 228.04KiB/s ETA 00:47"
     ]
    },
    {
     "name": "stderr",
     "output_type": "stream",
     "text": [
      "ERROR: giving up after 0 retries\n"
     ]
    },
    {
     "name": "stdout",
     "output_type": "stream",
     "text": [
      "[download] Skipping fragment 279...\n",
      "[download]  34.8% of ~58.90MiB at 1010.63KiB/s ETA 00:46"
     ]
    },
    {
     "name": "stderr",
     "output_type": "stream",
     "text": [
      "ERROR: giving up after 0 retries\n"
     ]
    },
    {
     "name": "stdout",
     "output_type": "stream",
     "text": [
      "[download]  34.8% of ~58.91MiB at 1010.63KiB/s ETA 00:46[download] Skipping fragment 280...\n",
      "[download]  44.7% of ~58.85MiB at  1.55MiB/s ETA 00:3989"
     ]
    },
    {
     "name": "stderr",
     "output_type": "stream",
     "text": [
      "ERROR: giving up after 0 retries\n"
     ]
    },
    {
     "name": "stdout",
     "output_type": "stream",
     "text": [
      "[download]  44.8% of ~58.85MiB at  1.40MiB/s ETA 00:39[download] Skipping fragment 296...\n",
      "[download]  47.9% of ~58.77MiB at 457.93KiB/s ETA 00:379"
     ]
    },
    {
     "name": "stderr",
     "output_type": "stream",
     "text": [
      "ERROR: giving up after 0 retries\n"
     ]
    },
    {
     "name": "stdout",
     "output_type": "stream",
     "text": [
      "[download]  47.9% of ~58.77MiB at 705.16KiB/s ETA 00:37[download] Skipping fragment 302...\n",
      "[download]  48.1% of ~58.77MiB at 166.91KiB/s ETA 00:37"
     ]
    },
    {
     "name": "stderr",
     "output_type": "stream",
     "text": [
      "ERROR: giving up after 0 retries\n"
     ]
    },
    {
     "name": "stdout",
     "output_type": "stream",
     "text": [
      "[download]  62.5% of ~52.90MiB at 199.95KiB/s ETA 01:19[download] Skipping fragment 303...\n",
      "[download]  42.1% of ~63.88MiB at  1.21MiB/s ETA 02:3442"
     ]
    },
    {
     "name": "stderr",
     "output_type": "stream",
     "text": [
      "ERROR: giving up after 0 retries\n"
     ]
    },
    {
     "name": "stdout",
     "output_type": "stream",
     "text": [
      "[download] Skipping fragment 311...\n",
      "[download]  53.3% of ~58.67MiB at 855.06KiB/s ETA 00:33"
     ]
    },
    {
     "name": "stderr",
     "output_type": "stream",
     "text": [
      "ERROR: giving up after 0 retries\n"
     ]
    },
    {
     "name": "stdout",
     "output_type": "stream",
     "text": [
      "[download]  42.3% of ~63.88MiB at  1.12MiB/s ETA 02:32[download] Skipping fragment 312...\n",
      "[download]  64.2% of ~58.64MiB at 458.93KiB/s ETA 00:267"
     ]
    },
    {
     "name": "stderr",
     "output_type": "stream",
     "text": [
      "ERROR: giving up after 0 retries\n"
     ]
    },
    {
     "name": "stdout",
     "output_type": "stream",
     "text": [
      "[download]  64.4% of ~58.64MiB at  1.10MiB/s ETA 00:255[download] Skipping fragment 330...\n",
      "[download]  64.5% of ~58.65MiB at 155.66KiB/s ETA 00:25"
     ]
    },
    {
     "name": "stderr",
     "output_type": "stream",
     "text": [
      "ERROR: giving up after 0 retries\n"
     ]
    },
    {
     "name": "stdout",
     "output_type": "stream",
     "text": [
      "[download]  67.9% of ~52.81MiB at  1.14MiB/s ETA 01:08[download] Skipping fragment 331...\n",
      "[download]  64.5% of ~58.65MiB at 393.02KiB/s ETA 00:25"
     ]
    },
    {
     "name": "stderr",
     "output_type": "stream",
     "text": [
      "ERROR: giving up after 0 retries\n"
     ]
    },
    {
     "name": "stdout",
     "output_type": "stream",
     "text": [
      "[download]  64.7% of ~58.65MiB at 692.77KiB/s ETA 00:25[download] Skipping fragment 332...\n",
      "[download]  64.7% of ~58.65MiB at 132.50KiB/s ETA 00:25"
     ]
    },
    {
     "name": "stderr",
     "output_type": "stream",
     "text": [
      "ERROR: giving up after 0 retries\n"
     ]
    },
    {
     "name": "stdout",
     "output_type": "stream",
     "text": [
      "[download]  64.7% of ~58.65MiB at 321.81KiB/s ETA 00:25[download] Skipping fragment 333...\n",
      "[download]  65.0% of ~58.65MiB at  1.01MiB/s ETA 00:255"
     ]
    },
    {
     "name": "stderr",
     "output_type": "stream",
     "text": [
      "ERROR: giving up after 0 retries\n"
     ]
    },
    {
     "name": "stdout",
     "output_type": "stream",
     "text": [
      "[download]  65.0% of ~58.65MiB at  1.01MiB/s ETA 00:25[download] Skipping fragment 334...\n",
      "[download]  67.9% of ~52.80MiB at 167.67KiB/s ETA 01:08"
     ]
    },
    {
     "name": "stderr",
     "output_type": "stream",
     "text": [
      "ERROR: giving up after 0 retries\n"
     ]
    },
    {
     "name": "stdout",
     "output_type": "stream",
     "text": [
      "[download]  65.0% of ~58.65MiB at 190.23KiB/s ETA 00:25[download] Skipping fragment 335...\n",
      "[download]  65.2% of ~58.65MiB at 80.31KiB/s ETA 00:255"
     ]
    },
    {
     "name": "stderr",
     "output_type": "stream",
     "text": [
      "ERROR: giving up after 0 retries\n"
     ]
    },
    {
     "name": "stdout",
     "output_type": "stream",
     "text": [
      "[download]  65.2% of ~58.65MiB at 135.28KiB/s ETA 00:25[download] Skipping fragment 336...\n",
      "[download]  72.4% of ~58.61MiB at 337.66KiB/s ETA 00:204"
     ]
    },
    {
     "name": "stderr",
     "output_type": "stream",
     "text": [
      "ERROR: giving up after 0 retries\n"
     ]
    },
    {
     "name": "stdout",
     "output_type": "stream",
     "text": [
      "[download]  72.4% of ~58.61MiB at 489.65KiB/s ETA 00:20[download] Skipping fragment 348...\n",
      "[download]  70.6% of ~52.73MiB at 323.82KiB/s ETA 01:02"
     ]
    },
    {
     "name": "stderr",
     "output_type": "stream",
     "text": [
      "ERROR: giving up after 0 retries\n"
     ]
    },
    {
     "name": "stdout",
     "output_type": "stream",
     "text": [
      "[download]  72.9% of ~58.61MiB at  1.34MiB/s ETA 00:192[download] Skipping fragment 349...\n",
      "[download] 100% of 46.71MiB in 02:190.67KiB/s ETA 02:166\n",
      "[download]  77.7% of ~58.64MiB at 771.30KiB/s ETA 00:16[ffmpeg] Destination: Become a Software Developer in 90 days and Running His Own Company _ Singaporean Podcast #8 _ Haris-HRd3RMQtkDs.mp3\n",
      "[download] 100% of 58.56MiB in 01:14.32MiB/s ETA 00:0001\n",
      "[ffmpeg] Destination: How to Start a Podcast + Why You Should Enjoy The Process_ Singaporean Podcast#28 _ Nicholas Patrick-uaSWgcKn0RM.mp3\n",
      "[download]  62.9% of ~63.94MiB at 363.99KiB/s ETA 01:406Deleting original file Butts and D_ck Pics, MILF Hunting Part 2 With Nor Soraya - The Fashion Weak Podcast Episode 5-NCiDUw4mQgE.webm (pass -k to keep)\n"
     ]
    },
    {
     "name": "stderr",
     "output_type": "stream",
     "text": [
      " 20%|██        | 3/15 [08:31<37:07, 185.65s/it]"
     ]
    },
    {
     "name": "stdout",
     "output_type": "stream",
     "text": [
      "[download]  88.3% of ~52.50MiB at 224.13KiB/s ETA 00:25[youtube] woDYSE37_rI: Downloading webpage\n",
      "[download]  88.5% of ~52.50MiB at  1.21MiB/s ETA 00:255Deleting original file The Fashion Weak Podcast Ep 40 --tdcjTfzYSbk.webm (pass -k to keep)\n",
      "[download]  63.1% of ~63.94MiB at 178.05KiB/s ETA 01:39"
     ]
    },
    {
     "name": "stderr",
     "output_type": "stream",
     "text": [
      " 13%|█▎        | 2/15 [08:31<50:10, 231.60s/it]"
     ]
    },
    {
     "name": "stdout",
     "output_type": "stream",
     "text": [
      "[download]  63.3% of ~63.94MiB at  1.15MiB/s ETA 01:389[youtube] 6RWRMNiBpJA: Downloading webpage\n",
      "[youtube] woDYSE37_rI: Downloading MPD manifest\n",
      "[download]  63.5% of ~63.97MiB at 1007.41KiB/s ETA 01:38[download] Destination: Is There Truly Original Art Anymore _ IMO Ep.11-6RWRMNiBpJA.webm\n",
      "[download]  30.1% of 33.12MiB at 17.66MiB/s ETA 00:01378[dashsegments] Total fragments: 401\n",
      "[download] Destination: The Fashion Weak Podcast Ep 22 - Why Fashion School Didn't Work Out For Zee Avi-woDYSE37_rI.m4a\n",
      "[download] 100% of 33.12MiB in 00:036.15KiB/s ETA 01:28own ETA\n",
      "[download]   3.3% of ~57.40MiB at 764.82KiB/s ETA 01:26[ffmpeg] Destination: Is There Truly Original Art Anymore _ IMO Ep.11-6RWRMNiBpJA.mp3\n",
      "[download]  94.3% of ~52.41MiB at 830.85KiB/s ETA 00:121"
     ]
    },
    {
     "name": "stderr",
     "output_type": "stream",
     "text": [
      "ERROR: giving up after 0 retries\n"
     ]
    },
    {
     "name": "stdout",
     "output_type": "stream",
     "text": [
      "[download] Skipping fragment 330...\n",
      "[download]  72.0% of ~64.13MiB at 265.01KiB/s ETA 01:156Deleting original file Self Love, Social Media And Education _ HTHT - Chow Jia Hui-ezYaMrChz4M.webm (pass -k to keep)\n",
      "[download]  25.0% of ~61.18MiB at 287.76KiB/s ETA 01:10"
     ]
    },
    {
     "name": "stderr",
     "output_type": "stream",
     "text": [
      " 13%|█▎        | 2/15 [08:56<1:02:16, 287.42s/it]"
     ]
    },
    {
     "name": "stdout",
     "output_type": "stream",
     "text": [
      "[download]  25.2% of ~61.18MiB at  1.07MiB/s ETA 01:100[youtube] N5EfPvQKW90: Downloading webpage\n",
      "[download]  72.5% of ~64.17MiB at 399.19KiB/s ETA 01:14[download] Destination: @Juanitadr shows us what Arnold's Tongue Can Do - The Fashion Weak Podcast Episode 10-N5EfPvQKW90.m4a\n",
      "[download] 100% of 52.07MiB in 03:40.08MiB/s ETA 01:080\n",
      "[download]  26.7% of ~61.22MiB at 145.50KiB/s ETA 01:08[ffmpeg] Destination: Community Service, Entrepreneurial Ventures & Being a Father _ Singaporean Podcast #14 _ Andy Ang-v-RunsFvf8o.mp3\n",
      "[download] 100% of 60.43MiB in 00:120.92KiB/s ETA 00:57own ETA\n",
      "[ffmpeg] Correcting container in \"@Juanitadr shows us what Arnold's Tongue Can Do - The Fashion Weak Podcast Episode 10-N5EfPvQKW90.m4a\"\n",
      "[download]  41.8% of ~61.43MiB at  1.02MiB/s ETA 00:5445[ffmpeg] Destination: @Juanitadr shows us what Arnold's Tongue Can Do - The Fashion Weak Podcast Episode 10-N5EfPvQKW90.mp3\n",
      "[download]  48.6% of ~61.48MiB at  1.12MiB/s ETA 00:4831Deleting original file Amander Reveals Why She Left Titan - The Team Titan Show-7byI9tIJeRk.webm (pass -k to keep)\n",
      "[download]  48.6% of ~61.48MiB at  1.12MiB/s ETA 00:483"
     ]
    },
    {
     "name": "stderr",
     "output_type": "stream",
     "text": [
      " 13%|█▎        | 2/15 [09:18<1:03:43, 294.15s/it]"
     ]
    },
    {
     "name": "stdout",
     "output_type": "stream",
     "text": [
      "[download]  48.7% of ~61.48MiB at 657.13KiB/s ETA 00:48[youtube] fzuKoKTxfEs: Downloading webpage\n",
      "[download]  80.5% of ~64.29MiB at 253.38KiB/s ETA 00:52[download] Destination: We Are Finally Dating Again! We Found New Men _ The Thirsty Sisters #24-fzuKoKTxfEs.m4a\n",
      "[download] 100% of 34.68MiB in 00:0285MiB/s ETA 00:0045own ETA\n",
      "[download]  81.4% of ~64.33MiB at  1.09MiB/s ETA 00:505[ffmpeg] Correcting container in \"We Are Finally Dating Again! We Found New Men _ The Thirsty Sisters #24-fzuKoKTxfEs.m4a\"\n",
      "[download]  53.9% of ~61.51MiB at 118.87KiB/s ETA 00:43[ffmpeg] Destination: We Are Finally Dating Again! We Found New Men _ The Thirsty Sisters #24-fzuKoKTxfEs.mp3\n",
      "[download]  54.9% of ~61.51MiB at  1.28MiB/s ETA 00:423Deleting original file Mamak Sessions Ep4 - What Turns You On, Is it ok if your Girlfriend Earns More & The Ideal Proposal-1av_p0DPDas.webm (pass -k to keep)\n"
     ]
    },
    {
     "name": "stderr",
     "output_type": "stream",
     "text": [
      " 20%|██        | 3/15 [09:25<44:39, 223.31s/it]"
     ]
    },
    {
     "name": "stdout",
     "output_type": "stream",
     "text": [
      "[download]  55.1% of ~61.51MiB at  1.81MiB/s ETA 00:422[youtube] OWbPqC2i71c: Downloading webpage\n",
      "[download]  82.8% of ~64.41MiB at  1.28MiB/s ETA 00:4641[download] Destination: Mamak Sessions Ep8 - Man Sues Colleague for $1.8 Million for Farting-OWbPqC2i71c.webm\n",
      "[download] 100% of 57.88MiB in 00:047.30KiB/s ETA 00:43own ETA\n",
      "[download]  60.9% of ~61.54MiB at 122.38KiB/s ETA 00:37[ffmpeg] Destination: Mamak Sessions Ep8 - Man Sues Colleague for $1.8 Million for Farting-OWbPqC2i71c.mp3\n",
      "[download]  95.9% of ~64.60MiB at  1.25MiB/s ETA 00:1117Deleting original file The Fashion Weak Podcast Ep24 - Penang Boys @tunway 瘦虎 & @Shawnduabui 肥龍 Talk Zap Fan & Sneakers-dykz_vuzJh0.webm (pass -k to keep)\n",
      "[download]  96.0% of ~64.60MiB at 268.07KiB/s ETA 00:10"
     ]
    },
    {
     "name": "stderr",
     "output_type": "stream",
     "text": [
      " 27%|██▋       | 4/15 [10:03<26:03, 142.14s/it]"
     ]
    },
    {
     "name": "stdout",
     "output_type": "stream",
     "text": [
      "[download]  94.1% of ~61.63MiB at 534.13KiB/s ETA 00:05[youtube] 5VpSUeWPEuo: Downloading webpage\n",
      "[download]  94.8% of ~61.63MiB at 889.09KiB/s ETA 00:05[youtube] 5VpSUeWPEuo: Downloading MPD manifest\n",
      "[download]  96.0% of ~61.63MiB at 123.33KiB/s ETA 00:03[dashsegments] Total fragments: 314\n",
      "[download] Destination: Career Tips for Singaporean Youths & Life as an MP - Mr Zainal Sapari _ Singaporean Podcast#18-5VpSUeWPEuo.webm\n",
      "[download] 100% of 61.55MiB in 01:353.18KiB/s ETA 00:0065:35\n",
      "[download]   6.4% of ~45.51MiB at  1.40MiB/s ETA 00:546[ffmpeg] Correcting container in \"The Fashion Weak Podcast Ep 22 - Why Fashion School Didn't Work Out For Zee Avi-woDYSE37_rI.m4a\"\n",
      "[download]  98.9% of ~64.61MiB at 620.98KiB/s ETA 00:035Deleting original file The Fashion Weak Podcast Ep 30 - On her way to Supermodel-dom, ASNTM  Cycle 5 Runner Up @shikingomez-otK3Gl_XX4c.webm (pass -k to keep)\n",
      "[download]  98.9% of ~64.61MiB at 222.78KiB/s ETA 00:03"
     ]
    },
    {
     "name": "stderr",
     "output_type": "stream",
     "text": [
      " 13%|█▎        | 2/15 [10:11<1:07:28, 311.46s/it]"
     ]
    },
    {
     "name": "stdout",
     "output_type": "stream",
     "text": [
      "[download]  10.2% of ~46.45MiB at 1015.78KiB/s ETA 00:54[youtube] DFFHEbk_iYs: Downloading webpage\n",
      "[download]  10.5% of ~46.53MiB at 181.57KiB/s ETA 00:544[ffmpeg] Destination: The Fashion Weak Podcast Ep 22 - Why Fashion School Didn't Work Out For Zee Avi-woDYSE37_rI.mp3\n",
      "[download]  11.5% of ~46.58MiB at  1.32MiB/s ETA 00:534[download] Destination: Mamak Sessions - Overcoming Insecurities and Expectations Feat. Deborah Henry-DFFHEbk_iYs.webm\n",
      "[download] 100% of 64.42MiB in 04:32.78KiB/s ETA 00:002own ETA\n",
      "[download]  14.7% of ~46.88MiB at 278.20KiB/s ETA 00:52[ffmpeg] Destination: Thinking Long And Hard With @prakashdanielcomedy - The Fashion Weak Podcast Episode 13-UryaihXnjBk.mp3\n",
      "[download] 100% of 42.78MiB in 00:0310MiB/s ETA 00:0051own ETA\n",
      "[download]  16.5% of ~46.72MiB at  1.49MiB/s ETA 00:511[ffmpeg] Destination: Mamak Sessions - Overcoming Insecurities and Expectations Feat. Deborah Henry-DFFHEbk_iYs.mp3\n",
      "[download]  87.6% of ~45.69MiB at 224.10KiB/s ETA 00:073Deleting original file Become a Software Developer in 90 days and Running His Own Company _ Singaporean Podcast #8 _ Haris-HRd3RMQtkDs.webm (pass -k to keep)\n"
     ]
    },
    {
     "name": "stderr",
     "output_type": "stream",
     "text": [
      " 20%|██        | 3/15 [11:01<42:41, 213.49s/it]"
     ]
    },
    {
     "name": "stdout",
     "output_type": "stream",
     "text": [
      "[download]  87.9% of ~45.68MiB at 918.90KiB/s ETA 00:07[youtube] BHF0ift4aRA: Downloading webpage\n",
      "[download]  88.9% of ~45.68MiB at 606.62KiB/s ETA 00:07[download] Destination: Should Influencers Be Expected To Do More For Society Pt.2 (ft. Tammy Gan) _ IMO Ep.20-BHF0ift4aRA.webm\n",
      "[download]  91.5% of ~45.62MiB at 392.74KiB/s ETA 00:05own ETADeleting original file The Fashion Weak Podcast Ep 28 @dreamrocketeers on that Rolex you should cop to flex on poor friends-shV1F1JlDzk.webm (pass -k to keep)\n",
      "[download]  91.7% of ~45.62MiB at  1.05MiB/s ETA 00:055"
     ]
    },
    {
     "name": "stderr",
     "output_type": "stream",
     "text": [
      " 20%|██        | 3/15 [11:03<43:08, 215.70s/it]"
     ]
    },
    {
     "name": "stdout",
     "output_type": "stream",
     "text": [
      "[download]  91.7% of ~45.61MiB at 149.03KiB/s ETA 00:055[youtube] b9YHjghfd2E: Downloading webpage\n",
      "[download]  92.4% of ~45.60MiB at 199.42KiB/s ETA 00:04own ETA[youtube] b9YHjghfd2E: Downloading MPD manifest\n",
      "[download]  94.6% of ~45.58MiB at  1.27MiB/s ETA 00:033own ETA[dashsegments] Total fragments: 525\n",
      "[download]  84.7% of 57.87MiB at  3.28MiB/s ETA 00:02[download] Destination: Conversations with a Young Singaporean CEO -Gao Fei, CEO of LearnSeeker _ Singaporean Podcast #13 -b9YHjghfd2E.webm\n",
      "[download]  95.3% of ~45.59MiB at 228.02KiB/s ETA 00:03000Deleting original file We Are Finally Dating Again! We Found New Men _ The Thirsty Sisters #24-fzuKoKTxfEs.m4a (pass -k to keep)\n",
      "[download]   0.5% of ~64.75MiB at  1.09MiB/s ETA 01:463"
     ]
    },
    {
     "name": "stderr",
     "output_type": "stream",
     "text": [
      " 20%|██        | 3/15 [11:06<47:37, 238.15s/it]  "
     ]
    },
    {
     "name": "stdout",
     "output_type": "stream",
     "text": [
      "[download]  95.5% of ~45.60MiB at 118.53KiB/s ETA 00:02[youtube] 7wiSVCBFmFc: Downloading webpage\n",
      "[download] 100% of 57.87MiB in 00:042.98KiB/s ETA 01:38\n",
      "[download]   0.8% of ~68.58MiB at 434.23KiB/s ETA 01:41[ffmpeg] Destination: Should Influencers Be Expected To Do More For Society Pt.2 (ft. Tammy Gan) _ IMO Ep.20-BHF0ift4aRA.mp3\n",
      "[download]   1.5% of ~69.76MiB at  1.23MiB/s ETA 01:326[download] Destination: Grown Up Flex With YouTube Superstar @JinnyBoy - The Fashion Weak Podcast Episode 9-7wiSVCBFmFc.webm\n",
      "[download] 100% of 45.43MiB in 01:041.15KiB/s ETA 01:40own ETA\n",
      "[download]   3.5% of ~73.21MiB at 649.29KiB/s ETA 01:39[ffmpeg] Destination: Career Tips for Singaporean Youths & Life as an MP - Mr Zainal Sapari _ Singaporean Podcast#18-5VpSUeWPEuo.mp3\n",
      "[download]   7.6% of ~75.01MiB at 245.91KiB/s ETA 01:35own ETADeleting original file Is There Truly Original Art Anymore _ IMO Ep.11-6RWRMNiBpJA.webm (pass -k to keep)\n",
      "[download]   7.7% of ~75.01MiB at 574.12KiB/s ETA 01:35"
     ]
    },
    {
     "name": "stderr",
     "output_type": "stream",
     "text": [
      " 20%|██        | 3/15 [11:13<42:08, 210.72s/it]"
     ]
    },
    {
     "name": "stdout",
     "output_type": "stream",
     "text": [
      "[download] 100% of 66.11MiB in 00:060.70KiB/s ETA 01:34\n",
      "[download]   7.8% of ~75.01MiB at 909.39KiB/s ETA 01:34[ffmpeg] Destination: Grown Up Flex With YouTube Superstar @JinnyBoy - The Fashion Weak Podcast Episode 9-7wiSVCBFmFc.mp3\n",
      "[download]   7.8% of ~75.01MiB at 909.39KiB/s ETA 01:34[youtube] EHlGktcfDZc: Downloading webpage\n",
      "[download]   8.4% of ~74.90MiB at 145.09KiB/s ETA 01:35[download] Destination: Mamak Sessions Podcast - Committing Suicide, Mental Health And How To Seek Help-EHlGktcfDZc.webm\n",
      "[download] 100% of 57.27MiB in 00:04.19MiB/s ETA 01:312own ETA\n",
      "[download]  12.2% of ~75.56MiB at  1.19MiB/s ETA 01:31[ffmpeg] Destination: Mamak Sessions Podcast - Committing Suicide, Mental Health And How To Seek Help-EHlGktcfDZc.mp3\n",
      "[download]  68.6% of ~76.48MiB at  1.01MiB/s ETA 00:3227Deleting original file @Juanitadr shows us what Arnold's Tongue Can Do - The Fashion Weak Podcast Episode 10-N5EfPvQKW90.m4a (pass -k to keep)\n",
      "[download]  68.6% of ~76.48MiB at 988.07KiB/s ETA 00:32"
     ]
    },
    {
     "name": "stderr",
     "output_type": "stream",
     "text": [
      " 20%|██        | 3/15 [12:17<52:16, 261.37s/it]  "
     ]
    },
    {
     "name": "stdout",
     "output_type": "stream",
     "text": [
      "[download]  68.7% of ~76.47MiB at 733.15KiB/s ETA 00:32[youtube] 8LuihYdx0FQ: Downloading webpage\n",
      "[download]  69.5% of ~76.39MiB at  1.09MiB/s ETA 00:311[download] Destination: Mamak Sessions Ep6 - Names People Always Mispronounce & Facebook Is A Spy-8LuihYdx0FQ.webm\n",
      "[download]  44.0% of 69.08MiB at  5.15MiB/s ETA 00:07999wn ETADeleting original file How to Start a Podcast + Why You Should Enjoy The Process_ Singaporean Podcast#28 _ Nicholas Patrick-uaSWgcKn0RM.webm (pass -k to keep)\n",
      "[download]  45.4% of 69.08MiB at  8.64MiB/s ETA 00:049"
     ]
    },
    {
     "name": "stderr",
     "output_type": "stream",
     "text": [
      " 20%|██        | 3/15 [12:20<54:34, 272.85s/it]"
     ]
    },
    {
     "name": "stdout",
     "output_type": "stream",
     "text": [
      "[download]  71.7% of ~76.32MiB at 416.43KiB/s ETA 00:29[youtube] X4QapKCCneQ: Downloading webpage\n",
      "[download]  62.2% of 69.08MiB at  8.63MiB/s ETA 00:0328own ETA[download] Destination: Ben Kheng Reflects On The Sam Willows, Anxiety, And Religion _ HTHT - Ben Kheng-X4QapKCCneQ.webm\n",
      "[download] 100% of 69.08MiB in 00:0543MiB/s ETA 00:0026own ETA\n",
      "[download]  74.3% of ~76.23MiB at 85.03KiB/s ETA 00:26[ffmpeg] Destination: Mamak Sessions Ep6 - Names People Always Mispronounce & Facebook Is A Spy-8LuihYdx0FQ.mp3\n",
      "[download] 100% of 92.31MiB in 00:0683MiB/s ETA 00:0022own ETA\n",
      "[download]  78.5% of ~76.07MiB at 490.54KiB/s ETA 00:22[ffmpeg] Destination: Ben Kheng Reflects On The Sam Willows, Anxiety, And Religion _ HTHT - Ben Kheng-X4QapKCCneQ.mp3\n",
      "[download]  83.2% of ~76.11MiB at 991.56KiB/s ETA 00:178Deleting original file Community Service, Entrepreneurial Ventures & Being a Father _ Singaporean Podcast #14 _ Andy Ang-v-RunsFvf8o.webm (pass -k to keep)\n",
      "[download]  83.2% of ~76.12MiB at 991.56KiB/s ETA 00:17"
     ]
    },
    {
     "name": "stderr",
     "output_type": "stream",
     "text": [
      " 20%|██        | 3/15 [12:32<46:21, 231.83s/it]"
     ]
    },
    {
     "name": "stdout",
     "output_type": "stream",
     "text": [
      "[download]  83.4% of ~76.12MiB at  1.01MiB/s ETA 00:177[youtube] jJN0vH42wcs: Downloading webpage\n",
      "[download]  84.2% of ~76.14MiB at  1.19MiB/s ETA 00:166[download] Destination: Wanna Die We Call Out CB Rule Breakers And Idiots _ The Thirsty Sisters #1-jJN0vH42wcs.m4a\n",
      "[download] 100% of 35.01MiB in 00:0263MiB/s ETA 00:00144wn ETA\n",
      "[download]  86.7% of ~76.19MiB at  1.22MiB/s ETA 00:134[ffmpeg] Correcting container in \"Wanna Die We Call Out CB Rule Breakers And Idiots _ The Thirsty Sisters #1-jJN0vH42wcs.m4a\"\n",
      "[download]  88.2% of ~76.19MiB at 852.23KiB/s ETA 00:123[ffmpeg] Destination: Wanna Die We Call Out CB Rule Breakers And Idiots _ The Thirsty Sisters #1-jJN0vH42wcs.mp3\n",
      "[download] 100% of 75.98MiB in 01:448.78KiB/s ETA 00:002\n",
      "[ffmpeg] Destination: Conversations with a Young Singaporean CEO -Gao Fei, CEO of LearnSeeker _ Singaporean Podcast #13 -b9YHjghfd2E.mp3\n",
      "Deleting original file The Fashion Weak Podcast Ep 22 - Why Fashion School Didn't Work Out For Zee Avi-woDYSE37_rI.m4a (pass -k to keep)\n"
     ]
    },
    {
     "name": "stderr",
     "output_type": "stream",
     "text": [
      " 27%|██▋       | 4/15 [13:18<39:36, 216.05s/it]"
     ]
    },
    {
     "name": "stdout",
     "output_type": "stream",
     "text": [
      "[youtube] BrYHWQ4xmSc: Downloading webpage\n",
      "[youtube] BrYHWQ4xmSc: Downloading MPD manifest\n",
      "[dashsegments] Total fragments: 276\n",
      "[download] Destination: How To Be A Facebook Video Content Creator with 50M+ Views _ Singaporean Podcast #27 _ Mitch Summers-BrYHWQ4xmSc.webm\n",
      "[download]  10.9% of ~41.79MiB at 149.75KiB/s ETA 00:4905:29Deleting original file Mamak Sessions - Overcoming Insecurities and Expectations Feat. Deborah Henry-DFFHEbk_iYs.webm (pass -k to keep)\n",
      "[download]  10.9% of ~41.79MiB at 380.34KiB/s ETA 00:49"
     ]
    },
    {
     "name": "stderr",
     "output_type": "stream",
     "text": [
      " 20%|██        | 3/15 [13:25<55:16, 276.35s/it]  "
     ]
    },
    {
     "name": "stdout",
     "output_type": "stream",
     "text": [
      "[download]  11.2% of ~41.89MiB at 351.86KiB/s ETA 00:48[youtube] 5t_yyrP2OdI: Downloading webpage\n",
      "[download]  12.7% of ~42.00MiB at  1.13MiB/s ETA 00:4647[youtube] 5t_yyrP2OdI: Downloading MPD manifest\n",
      "[download]  14.2% of ~42.07MiB at 263.50KiB/s ETA 00:46[dashsegments] Total fragments: 321\n",
      "[download] Destination: Perspective from an American hustling in SG _ Singaporean Podcast #5 _ Peter Lam-5t_yyrP2OdI.webm\n",
      "[download]  51.1% of ~42.90MiB at 160.54KiB/s ETA 00:2661105Deleting original file Mamak Sessions Ep8 - Man Sues Colleague for $1.8 Million for Farting-OWbPqC2i71c.webm (pass -k to keep)\n",
      "[download]  51.1% of ~42.90MiB at 275.96KiB/s ETA 00:26"
     ]
    },
    {
     "name": "stderr",
     "output_type": "stream",
     "text": [
      " 27%|██▋       | 4/15 [13:47<43:04, 234.94s/it]"
     ]
    },
    {
     "name": "stdout",
     "output_type": "stream",
     "text": [
      "[download]  51.4% of ~42.90MiB at  1.14MiB/s ETA 00:266[youtube] 6syqXC_o6gs: Downloading webpage\n",
      "[download]  52.7% of ~42.92MiB at  1.01MiB/s ETA 00:255[download] Destination: Being Bullied, Toxic Masculinity And Theatre _ HTHT - Fauzi Aziz-6syqXC_o6gs.webm\n",
      "[download] 100% of 88.66MiB in 00:060.07KiB/s ETA 03:02own ETA\n",
      "[download]  63.8% of ~42.83MiB at 925.33KiB/s ETA 00:19[ffmpeg] Destination: Being Bullied, Toxic Masculinity And Theatre _ HTHT - Fauzi Aziz-6syqXC_o6gs.mp3\n",
      "[download] 100% of 43.17MiB in 00:530.13KiB/s ETA 02:430\n",
      "[download]  22.0% of ~48.49MiB at 858.77KiB/s ETA 02:42[ffmpeg] Destination: How To Be A Facebook Video Content Creator with 50M+ Views _ Singaporean Podcast #27 _ Mitch Summers-BrYHWQ4xmSc.mp3\n",
      "[download]  24.6% of ~48.56MiB at  1.04MiB/s ETA 02:3568Deleting original file Wanna Die We Call Out CB Rule Breakers And Idiots _ The Thirsty Sisters #1-jJN0vH42wcs.m4a (pass -k to keep)\n"
     ]
    },
    {
     "name": "stderr",
     "output_type": "stream",
     "text": [
      " 27%|██▋       | 4/15 [14:18<35:35, 194.12s/it]"
     ]
    },
    {
     "name": "stdout",
     "output_type": "stream",
     "text": [
      "[youtube] 79ax7ZQss5M: Downloading webpage\n",
      "[download]  24.9% of ~48.62MiB at 898.72KiB/s ETA 02:36[download] Destination: Mamak Sessions - Coming Out ft. Nigel Chin and Magnum-79ax7ZQss5M.webm\n",
      "[download] 100% of 39.91MiB in 00:0405MiB/s ETA 00:0012own ETA\n",
      "[ffmpeg] Destination: Mamak Sessions - Coming Out ft. Nigel Chin and Magnum-79ax7ZQss5M.mp3\n",
      "[download]  29.9% of ~48.93MiB at  1.70MiB/s ETA 02:2670Deleting original file Career Tips for Singaporean Youths & Life as an MP - Mr Zainal Sapari _ Singaporean Podcast#18-5VpSUeWPEuo.webm (pass -k to keep)\n"
     ]
    },
    {
     "name": "stderr",
     "output_type": "stream",
     "text": [
      " 33%|███▎      | 5/15 [14:30<29:55, 179.59s/it]"
     ]
    },
    {
     "name": "stdout",
     "output_type": "stream",
     "text": [
      "[youtube] eWNQhDNoSsY: Downloading webpage\n",
      "[download]  30.2% of ~48.88MiB at 963.80KiB/s ETA 02:25[download] Destination: The Fashion Weak Podcast EP 41 - Investment Tips For Chee Seng With Fuad & Shaq From Kyoto Protocol-eWNQhDNoSsY.webm\n",
      "[download] 100% of 98.73MiB in 00:0720MiB/s ETA 00:0019own ETA\n",
      "[ffmpeg] Destination: The Fashion Weak Podcast EP 41 - Investment Tips For Chee Seng With Fuad & Shaq From Kyoto Protocol-eWNQhDNoSsY.mp3\n",
      "[download]  41.4% of ~49.45MiB at  1.04MiB/s ETA 02:023Deleting original file Thinking Long And Hard With @prakashdanielcomedy - The Fashion Weak Podcast Episode 13-UryaihXnjBk.webm (pass -k to keep)\n"
     ]
    },
    {
     "name": "stderr",
     "output_type": "stream",
     "text": [
      " 20%|██        | 3/15 [14:54<1:03:39, 318.26s/it]"
     ]
    },
    {
     "name": "stdout",
     "output_type": "stream",
     "text": [
      "[youtube] eFDcnTupdeQ: Downloading webpage\n",
      "[download]  42.1% of ~49.49MiB at  1.49MiB/s ETA 02:012[youtube] eFDcnTupdeQ: Downloading MPD manifest\n",
      "[download]  42.4% of ~49.48MiB at  1.19MiB/s ETA 02:001[dashsegments] Total fragments: 346\n",
      "[download] Destination: Respond, Don't React - Finding The Silver Lining in Covid-19 _ Singaporean Podcast #29 _ Kevin Wee-eFDcnTupdeQ.webm\n",
      "[download]  13.0% of ~46.88MiB at 917.32KiB/s ETA 02:2660933Deleting original file Should Influencers Be Expected To Do More For Society Pt.2 (ft. Tammy Gan) _ IMO Ep.20-BHF0ift4aRA.webm (pass -k to keep)\n"
     ]
    },
    {
     "name": "stderr",
     "output_type": "stream",
     "text": [
      " 27%|██▋       | 4/15 [15:18<41:32, 226.60s/it]"
     ]
    },
    {
     "name": "stdout",
     "output_type": "stream",
     "text": [
      "[youtube] HkOQy1Nxpis: Downloading webpage\n",
      "[download]  13.6% of ~46.89MiB at 137.61KiB/s ETA 02:27[download] Destination: Mamak Sessions Podcast - How Dean Lewis became who he is today-HkOQy1Nxpis.webm\n",
      "[download] 100% of 39.89MiB in 00:041.58KiB/s ETA 01:34own ETA\n",
      "[download]  55.5% of ~49.80MiB at  1.18MiB/s ETA 01:333[ffmpeg] Destination: Mamak Sessions Podcast - How Dean Lewis became who he is today-HkOQy1Nxpis.mp3\n",
      "[download]  22.8% of ~47.75MiB at 705.78KiB/s ETA 02:132Deleting original file Mamak Sessions Podcast - Committing Suicide, Mental Health And How To Seek Help-EHlGktcfDZc.webm (pass -k to keep)\n",
      "[download]  61.1% of ~49.67MiB at 252.32KiB/s ETA 01:21"
     ]
    },
    {
     "name": "stderr",
     "output_type": "stream",
     "text": [
      " 27%|██▋       | 4/15 [15:35<41:27, 226.16s/it]"
     ]
    },
    {
     "name": "stdout",
     "output_type": "stream",
     "text": [
      "[download]  61.4% of ~49.67MiB at  1.02MiB/s ETA 01:2021[youtube] aa5r9pws0AI: Downloading webpage\n",
      "[download]  61.7% of ~49.68MiB at 994.70KiB/s ETA 01:202[youtube] aa5r9pws0AI: Downloading MPD manifest\n",
      "[download]  23.7% of ~47.80MiB at  1.11MiB/s ETA 02:1233[dashsegments] Total fragments: 346\n",
      "[download] Destination: If the girl is not interested, go for her Mom. Or her Aunt - The Fashion Weak Podcast Ep6-aa5r9pws0AI.webm\n",
      "[download]  18.0% of ~48.90MiB at 393.67KiB/s ETA 01:0992:46Deleting original file Grown Up Flex With YouTube Superstar @JinnyBoy - The Fashion Weak Podcast Episode 9-7wiSVCBFmFc.webm (pass -k to keep)\n",
      "[download]  18.2% of ~48.90MiB at  1.09MiB/s ETA 01:088"
     ]
    },
    {
     "name": "stderr",
     "output_type": "stream",
     "text": [
      " 27%|██▋       | 4/15 [15:52<46:19, 252.66s/it]"
     ]
    },
    {
     "name": "stdout",
     "output_type": "stream",
     "text": [
      "[download]  69.2% of ~49.46MiB at  1.16MiB/s ETA 01:04[youtube] 7dPzh9PpLs8: Downloading webpage\n",
      "[download]  33.0% of ~47.57MiB at 215.15KiB/s ETA 01:56[download] Destination: The Fashion Weak Podcast EP16 - Podcast Wars With The From The Thread Boys-7dPzh9PpLs8.webm\n",
      "[download] 100% of 80.89MiB in 00:115.74KiB/s ETA 00:563wn ETA\n",
      "[download]  32.7% of ~49.37MiB at  1.09MiB/s ETA 00:556[ffmpeg] Destination: The Fashion Weak Podcast EP16 - Podcast Wars With The From The Thread Boys-7dPzh9PpLs8.mp3\n",
      "[download] 100% of 49.10MiB in 01:05.86MiB/s ETA 00:0043\n",
      "[ffmpeg] Destination: If the girl is not interested, go for her Mom. Or her Aunt - The Fashion Weak Podcast Ep6-aa5r9pws0AI.mp3\n",
      "[download]  68.5% of ~47.94MiB at 10.97MiB/s ETA 00:507Deleting original file How To Be A Facebook Video Content Creator with 50M+ Views _ Singaporean Podcast #27 _ Mitch Summers-BrYHWQ4xmSc.webm (pass -k to keep)\n"
     ]
    },
    {
     "name": "stderr",
     "output_type": "stream",
     "text": [
      " 33%|███▎      | 5/15 [16:46<35:36, 213.67s/it]"
     ]
    },
    {
     "name": "stdout",
     "output_type": "stream",
     "text": [
      "[youtube] EjzkQeWKwQw: Downloading webpage\n",
      "[download]  69.1% of ~47.93MiB at 11.14MiB/s ETA 00:497Deleting original file Mamak Sessions Ep6 - Names People Always Mispronounce & Facebook Is A Spy-8LuihYdx0FQ.webm (pass -k to keep)\n"
     ]
    },
    {
     "name": "stderr",
     "output_type": "stream",
     "text": [
      " 27%|██▋       | 4/15 [16:46<48:21, 263.82s/it]"
     ]
    },
    {
     "name": "stdout",
     "output_type": "stream",
     "text": [
      "[youtube] Wyb6i3GoJv4: Downloading webpage\n",
      "[download]  69.7% of ~47.91MiB at  9.97MiB/s ETA 00:48[download] Destination: Mamak Sessions - The Asian Mom Of The Internet ft Tata-Wyb6i3GoJv4.webm\n",
      "[download]   7.5% of 53.58MiB at 28.10MiB/s ETA 00:0156[download] Destination: Musings of the OG Sneaker Uncle @bungactiongirl - The Fashion Weak Podcast Episode 3-EjzkQeWKwQw.m4a\n",
      "[download]  73.5% of 53.58MiB at 14.25MiB/s ETA 00:00known ETADeleting original file Mamak Sessions - Coming Out ft. Nigel Chin and Magnum-79ax7ZQss5M.webm (pass -k to keep)\n",
      "[download]  74.4% of 53.58MiB at 14.95MiB/s ETA 00:00"
     ]
    },
    {
     "name": "stderr",
     "output_type": "stream",
     "text": [
      " 33%|███▎      | 5/15 [16:50<30:13, 181.32s/it]"
     ]
    },
    {
     "name": "stdout",
     "output_type": "stream",
     "text": [
      "[download]  71.8% of ~48.03MiB at  7.12MiB/s ETA 00:44[youtube] myPdnyUGvUk: Downloading webpage\n",
      "[download]  87.5% of 53.58MiB at 14.31MiB/s ETA 00:0032[youtube] myPdnyUGvUk: Downloading MPD manifest\n",
      "[download] 100% of 53.58MiB in 00:0478MiB/s ETA 00:002nown ETA\n",
      "[ffmpeg] Destination: Mamak Sessions - The Asian Mom Of The Internet ft Tata-Wyb6i3GoJv4.mp3\n",
      "[dashsegments] Total fragments: 403\n",
      "[download] Destination: Why Singaporean Female Entrepreneurship Matters _ Huda Hamid _ Singaporean Podcast #44-myPdnyUGvUk.webm\n",
      "[download] 100% of 49.81MiB in 03:24.10MiB/s ETA 00:411519\n",
      "[download]   3.5% of ~56.87MiB at 13.42MiB/s ETA 00:15[ffmpeg] Destination: Perspective from an American hustling in SG _ Singaporean Podcast #5 _ Peter Lam-5t_yyrP2OdI.mp3\n",
      "[download] 100% of 58.99MiB in 00:15.13MiB/s ETA 00:2000wn ETA\n",
      "[ffmpeg] Destination: Why Singaporean Female Entrepreneurship Matters _ Huda Hamid _ Singaporean Podcast #44-myPdnyUGvUk.mp3\n",
      "[download]  87.3% of ~48.21MiB at 10.44MiB/s ETA 00:190Deleting original file Conversations with a Young Singaporean CEO -Gao Fei, CEO of LearnSeeker _ Singaporean Podcast #13 -b9YHjghfd2E.webm (pass -k to keep)\n"
     ]
    },
    {
     "name": "stderr",
     "output_type": "stream",
     "text": [
      " 27%|██▋       | 4/15 [17:08<47:43, 260.35s/it]"
     ]
    },
    {
     "name": "stdout",
     "output_type": "stream",
     "text": [
      "[download]  87.6% of ~48.23MiB at  5.29MiB/s ETA 00:189[youtube] 8QhPCqS5aBA: Downloading webpage\n",
      "[download]  86.9% of 63.20MiB at  3.07MiB/s ETA 00:028Deleting original file Mamak Sessions Podcast - How Dean Lewis became who he is today-HkOQy1Nxpis.webm (pass -k to keep)\n"
     ]
    },
    {
     "name": "stderr",
     "output_type": "stream",
     "text": [
      " 33%|███▎      | 5/15 [17:08<31:56, 191.61s/it]"
     ]
    },
    {
     "name": "stdout",
     "output_type": "stream",
     "text": [
      "[youtube] 6yW185RJkGw: Downloading webpage\n",
      "[download]  88.2% of ~48.23MiB at 10.36MiB/s ETA 00:17[download] Destination: Debbie on Marriage, Quarantine and Being a Young Mom - The Team Titan Show-8QhPCqS5aBA.webm\n",
      "[download]   0.9% of 55.24MiB at 21.01MiB/s ETA 00:024[youtube] 6yW185RJkGw: Downloading MPD manifest\n",
      "[download]  25.3% of 55.24MiB at 21.34MiB/s ETA 00:01known ETA[dashsegments] Total fragments: 260\n",
      "[download] Destination: Skin Care Routines, Death, Life Purpose and More _ Singaporean Trio Podcast #2-6yW185RJkGw.webm\n",
      "[download] 100% of 63.20MiB in 00:2421MiB/s ETA 00:0045own ETA\n",
      "[ffmpeg] Correcting container in \"Musings of the OG Sneaker Uncle @bungactiongirl - The Fashion Weak Podcast Episode 3-EjzkQeWKwQw.m4a\"\n",
      "[download] 100% of 55.24MiB in 00:0323MiB/s ETA 00:0024own ETA\n",
      "[ffmpeg] Destination: Debbie on Marriage, Quarantine and Being a Young Mom - The Team Titan Show-8QhPCqS5aBA.mp3\n",
      "[download]  90.8% of ~48.23MiB at 689.34KiB/s ETA 00:13[ffmpeg] Destination: Musings of the OG Sneaker Uncle @bungactiongirl - The Fashion Weak Podcast Episode 3-EjzkQeWKwQw.mp3\n",
      "[download] 100% of 48.09MiB in 02:26.37MiB/s ETA 00:000\n",
      "[ffmpeg] Destination: Respond, Don't React - Finding The Silver Lining in Covid-19 _ Singaporean Podcast #29 _ Kevin Wee-eFDcnTupdeQ.mp3\n",
      "[download]  35.4% of ~42.96MiB at 12.02MiB/s ETA 00:4711Deleting original file Ben Kheng Reflects On The Sam Willows, Anxiety, And Religion _ HTHT - Ben Kheng-X4QapKCCneQ.webm (pass -k to keep)\n",
      "[download]  35.8% of ~42.91MiB at 13.52MiB/s ETA 00:47"
     ]
    },
    {
     "name": "stderr",
     "output_type": "stream",
     "text": [
      " 27%|██▋       | 4/15 [17:36<52:22, 285.72s/it]"
     ]
    },
    {
     "name": "stdout",
     "output_type": "stream",
     "text": [
      "[youtube] rjjK4aAbKnw: Downloading webpage\n",
      "[download]  36.2% of ~42.81MiB at 10.57MiB/s ETA 00:47[youtube] rjjK4aAbKnw: Downloading MPD manifest\n",
      "[download]  37.3% of ~42.66MiB at  8.95MiB/s ETA 00:46[dashsegments] Total fragments: 425\n",
      "[download] Destination: Overcoming Depression & Redefining What Failure Means to Youths_ Singaporean Podcast #10 _ Kevin Wee-rjjK4aAbKnw.webm\n",
      "[download]   8.7% of ~54.33MiB at 10.72MiB/s ETA 02:127323Deleting original file Being Bullied, Toxic Masculinity And Theatre _ HTHT - Fauzi Aziz-6syqXC_o6gs.webm (pass -k to keep)\n"
     ]
    },
    {
     "name": "stderr",
     "output_type": "stream",
     "text": [
      " 33%|███▎      | 5/15 [17:50<39:33, 237.31s/it]"
     ]
    },
    {
     "name": "stdout",
     "output_type": "stream",
     "text": [
      "[youtube] ZDloTzTfenM: Downloading webpage\n",
      "[download]  53.9% of ~41.78MiB at 131.08KiB/s ETA 00:35[download] Destination: Xia Xue's Honest Thoughts on Influencers - The Team Titan Show-ZDloTzTfenM.m4a\n",
      "[download] 100% of 80.93MiB in 00:0309MiB/s ETA 00:005nown ETA\n",
      "[ffmpeg] Correcting container in \"Xia Xue's Honest Thoughts on Influencers - The Team Titan Show-ZDloTzTfenM.m4a\"\n",
      "[download]  11.5% of ~54.88MiB at 12.06MiB/s ETA 02:304[ffmpeg] Destination: Xia Xue's Honest Thoughts on Influencers - The Team Titan Show-ZDloTzTfenM.mp3\n",
      "[download]  61.5% of ~41.38MiB at 14.17MiB/s ETA 00:29Deleting original file If the girl is not interested, go for her Mom. Or her Aunt - The Fashion Weak Podcast Ep6-aa5r9pws0AI.webm (pass -k to keep)\n",
      "[download]  61.5% of ~41.42MiB at  2.00MiB/s ETA 00:29"
     ]
    },
    {
     "name": "stderr",
     "output_type": "stream",
     "text": [
      " 33%|███▎      | 5/15 [17:57<33:26, 200.64s/it]"
     ]
    },
    {
     "name": "stdout",
     "output_type": "stream",
     "text": [
      "[download]  61.9% of ~41.42MiB at 15.71MiB/s ETA 00:29[youtube] rxmMRAzLRJ0: Downloading webpage\n",
      "[download]  62.7% of ~41.42MiB at 10.69MiB/s ETA 00:288[download] Destination: The Fashion Weak Podcast EP 27 -  Peter Davis talks cars, mixed rice and some fashion.-rxmMRAzLRJ0.webm\n",
      "[download]  13.2% of ~54.93MiB at  9.46MiB/s ETA 02:336own ETADeleting original file Perspective from an American hustling in SG _ Singaporean Podcast #5 _ Peter Lam-5t_yyrP2OdI.webm (pass -k to keep)\n"
     ]
    },
    {
     "name": "stderr",
     "output_type": "stream",
     "text": [
      " 27%|██▋       | 4/15 [18:00<50:34, 275.87s/it]"
     ]
    },
    {
     "name": "stdout",
     "output_type": "stream",
     "text": [
      "[youtube] ViJXVHWTRz8: Downloading webpage\n",
      "[download]  67.3% of ~41.04MiB at 10.52MiB/s ETA 00:24nown ETA[download] Destination: My Future In-Laws Threw Me Out! _ The Thirsty Sisters #18-ViJXVHWTRz8.m4a\n",
      "[download] 100% of 39.82MiB in 00:0212MiB/s ETA 00:0033own ETA\n",
      "[download]  43.4% of 76.81MiB at  5.19MiB/s ETA 00:08[ffmpeg] Correcting container in \"My Future In-Laws Threw Me Out! _ The Thirsty Sisters #18-ViJXVHWTRz8.m4a\"\n",
      "[download]  14.6% of ~55.03MiB at 232.35KiB/s ETA 02:38[ffmpeg] Destination: My Future In-Laws Threw Me Out! _ The Thirsty Sisters #18-ViJXVHWTRz8.mp3\n",
      "[download] 100% of 76.81MiB in 00:1334MiB/s ETA 00:0055own ETA\n",
      "[ffmpeg] Destination: The Fashion Weak Podcast EP 27 -  Peter Davis talks cars, mixed rice and some fashion.-rxmMRAzLRJ0.mp3\n",
      "[download]  80.4% of ~40.39MiB at 11.08MiB/s ETA 00:15Deleting original file Mamak Sessions - The Asian Mom Of The Internet ft Tata-Wyb6i3GoJv4.webm (pass -k to keep)\n"
     ]
    },
    {
     "name": "stderr",
     "output_type": "stream",
     "text": [
      " 33%|███▎      | 5/15 [18:11<35:00, 210.01s/it]"
     ]
    },
    {
     "name": "stdout",
     "output_type": "stream",
     "text": [
      "[youtube] WSVo-qvu1GQ: Downloading webpage\n",
      "[download]  17.9% of ~54.90MiB at  9.44MiB/s ETA 02:38[download] Destination: The Fashion Weak Podcast Ep 39 - Talking Turn-On's and Fashion Bulk Buy Deals With Tata Wanqian-WSVo-qvu1GQ.webm\n",
      "[download] 100% of 77.61MiB in 00:0374MiB/s ETA 00:0047own ETA\n",
      "[ffmpeg] Destination: The Fashion Weak Podcast Ep 39 - Talking Turn-On's and Fashion Bulk Buy Deals With Tata Wanqian-WSVo-qvu1GQ.mp3\n",
      "[download]  20.3% of ~54.65MiB at  4.52MiB/s ETA 02:4487Deleting original file Musings of the OG Sneaker Uncle @bungactiongirl - The Fashion Weak Podcast Episode 3-EjzkQeWKwQw.m4a (pass -k to keep)\n",
      "[download]  20.5% of ~54.65MiB at 10.66MiB/s ETA 02:42"
     ]
    },
    {
     "name": "stderr",
     "output_type": "stream",
     "text": [
      " 40%|████      | 6/15 [18:18<26:36, 177.37s/it]"
     ]
    },
    {
     "name": "stdout",
     "output_type": "stream",
     "text": [
      "[youtube] 98CiTQQtqak: Downloading webpage\n",
      "[download]  20.7% of ~54.63MiB at 11.65MiB/s ETA 02:427[download] Destination: Relatives Ruin My Wedding! _ The Thirsty Sisters #22-98CiTQQtqak.m4a\n",
      "[download] 100% of 41.63MiB in 00:0250MiB/s ETA 00:00known ETA\n",
      "[ffmpeg] Correcting container in \"Relatives Ruin My Wedding! _ The Thirsty Sisters #22-98CiTQQtqak.m4a\"\n",
      "[download]  94.4% of ~40.21MiB at  6.14MiB/s ETA 00:0444[ffmpeg] Destination: Relatives Ruin My Wedding! _ The Thirsty Sisters #22-98CiTQQtqak.mp3\n",
      "[download]  94.6% of ~40.21MiB at 608.85KiB/s ETA 00:04Deleting original file The Fashion Weak Podcast EP 41 - Investment Tips For Chee Seng With Fuad & Shaq From Kyoto Protocol-eWNQhDNoSsY.webm (pass -k to keep)\n"
     ]
    },
    {
     "name": "stderr",
     "output_type": "stream",
     "text": [
      " 40%|████      | 6/15 [18:22<29:18, 195.40s/it]"
     ]
    },
    {
     "name": "stdout",
     "output_type": "stream",
     "text": [
      "[youtube] 281TVct4AvE: Downloading webpage\n",
      "[download]  95.4% of ~40.15MiB at 10.18MiB/s ETA 00:034[download] Destination: Our Must-Watch Movies _ IMO Ep.28-281TVct4AvE.webm\n",
      "[download] 100% of 41.56MiB in 00:0206MiB/s ETA 00:00known ETA\n",
      "[ffmpeg] Destination: Our Must-Watch Movies _ IMO Ep.28-281TVct4AvE.mp3\n",
      "[download]  23.3% of ~54.74MiB at  8.67MiB/s ETA 02:40Deleting original file The Fashion Weak Podcast EP16 - Podcast Wars With The From The Thread Boys-7dPzh9PpLs8.webm (pass -k to keep)\n"
     ]
    },
    {
     "name": "stderr",
     "output_type": "stream",
     "text": [
      " 33%|███▎      | 5/15 [18:25<37:07, 222.75s/it]"
     ]
    },
    {
     "name": "stdout",
     "output_type": "stream",
     "text": [
      "[download]  99.6% of ~40.07MiB at 12.27MiB/s ETA 00:00[youtube] R7nCJrdRWyc: Downloading webpage\n",
      "[download]  99.9% of ~40.01MiB at  7.14MiB/s ETA 00:00[download] Destination: What You Should Think About After A Levels _ IMO Ep.3-R7nCJrdRWyc.webm\n",
      "[download] 100% of 40.01MiB in 01:167.04KiB/s ETA 00:00\n",
      "[download]   2.3% of 44.35MiB at 18.78MiB/s ETA 00:02[ffmpeg] Destination: Skin Care Routines, Death, Life Purpose and More _ Singaporean Trio Podcast #2-6yW185RJkGw.mp3\n",
      "[download] 100% of 44.35MiB in 00:024.98KiB/s ETA 02:42own ETA\n",
      "[download]  24.0% of ~54.75MiB at 336.26KiB/s ETA 02:42[ffmpeg] Destination: What You Should Think About After A Levels _ IMO Ep.3-R7nCJrdRWyc.mp3\n",
      "[download]  29.9% of ~55.04MiB at 990.61KiB/s ETA 02:379Deleting original file Why Singaporean Female Entrepreneurship Matters _ Huda Hamid _ Singaporean Podcast #44-myPdnyUGvUk.webm (pass -k to keep)\n"
     ]
    },
    {
     "name": "stderr",
     "output_type": "stream",
     "text": [
      " 40%|████      | 6/15 [18:44<24:10, 161.17s/it]"
     ]
    },
    {
     "name": "stdout",
     "output_type": "stream",
     "text": [
      "[youtube] n3AR3nQEc7Y: Downloading webpage\n",
      "[download]  30.1% of ~55.07MiB at  1.16MiB/s ETA 02:378[download] Destination: Mamak Sessions Ep10 - Datuk Nicol David is RETIRING!-n3AR3nQEc7Y.webm\n",
      "[download]  31.3% of ~55.05MiB at  1.22MiB/s ETA 02:3566wn ETADeleting original file Debbie on Marriage, Quarantine and Being a Young Mom - The Team Titan Show-8QhPCqS5aBA.webm (pass -k to keep)\n",
      "[download]  34.8% of 55.50MiB at Unknown speed ETA Unknown ETA"
     ]
    },
    {
     "name": "stderr",
     "output_type": "stream",
     "text": [
      " 33%|███▎      | 5/15 [18:48<35:21, 212.17s/it]"
     ]
    },
    {
     "name": "stdout",
     "output_type": "stream",
     "text": [
      "[download]  35.0% of 55.50MiB at 956.21KiB/s ETA 00:38[youtube] jhLgzHQnAHU: Downloading webpage\n",
      "[download]  31.6% of ~55.11MiB at 479.95KiB/s ETA 02:35own ETA[download] Destination: The Fashion Weak Podcast Ep 19 - Butt Stuff & Actual Fashion With Zane Gan-jhLgzHQnAHU.webm\n",
      "[download] 100% of 55.50MiB in 00:0706MiB/s ETA 00:0034own ETA\n",
      "[ffmpeg] Destination: Mamak Sessions Ep10 - Datuk Nicol David is RETIRING!-n3AR3nQEc7Y.mp3\n",
      "[download]  34.8% of ~55.21MiB at  1.12MiB/s ETA 02:311own ETADeleting original file Respond, Don't React - Finding The Silver Lining in Covid-19 _ Singaporean Podcast #29 _ Kevin Wee-eFDcnTupdeQ.webm (pass -k to keep)\n"
     ]
    },
    {
     "name": "stderr",
     "output_type": "stream",
     "text": [
      " 27%|██▋       | 4/15 [18:58<54:14, 295.86s/it]  "
     ]
    },
    {
     "name": "stdout",
     "output_type": "stream",
     "text": [
      "[download]  34.8% of ~55.19MiB at 162.93KiB/s ETA 02:31[youtube] 7izYax1bCwg: Downloading webpage\n",
      "[download]  35.5% of ~55.16MiB at 1000.46KiB/s ETA 02:29wn ETA[download] Destination: Should Influencers Be Expected To Do More For Society (ft. Celeste Loh) _ IMO Ep.4-7izYax1bCwg.m4a\n",
      "[download] 100% of 83.53MiB in 00:1744MiB/s ETA 00:0067own ETA\n",
      "[ffmpeg] Destination: The Fashion Weak Podcast Ep 19 - Butt Stuff & Actual Fashion With Zane Gan-jhLgzHQnAHU.mp3\n",
      "[download]  82.5% of 51.93MiB at  2.96MiB/s ETA 00:03199wn ETADeleting original file My Future In-Laws Threw Me Out! _ The Thirsty Sisters #18-ViJXVHWTRz8.m4a (pass -k to keep)\n"
     ]
    },
    {
     "name": "stderr",
     "output_type": "stream",
     "text": [
      " 33%|███▎      | 5/15 [19:16<36:00, 216.02s/it]"
     ]
    },
    {
     "name": "stdout",
     "output_type": "stream",
     "text": [
      "[download]  41.7% of ~55.04MiB at 342.55KiB/s ETA 02:19[youtube] Rkvd5p3I11M: Downloading webpage\n",
      "[download]  41.9% of ~55.04MiB at 325.41KiB/s ETA 02:19[download] Destination: Mamak Sessions - How Do You Deal With Rumors ft Elizabeth Tan-Rkvd5p3I11M.webm\n",
      "[download] 100% of 51.93MiB in 00:2090MiB/s ETA 00:0067own ETA\n",
      "[download]  56.9% of 48.91MiB at 12.95MiB/s ETA 00:01[ffmpeg] Correcting container in \"Should Influencers Be Expected To Do More For Society (ft. Celeste Loh) _ IMO Ep.4-7izYax1bCwg.m4a\"\n",
      "[download] 100% of 48.91MiB in 00:03.50KiB/s ETA 00:00nown ETA\n",
      "[ffmpeg] Destination: Mamak Sessions - How Do You Deal With Rumors ft Elizabeth Tan-Rkvd5p3I11M.mp3\n",
      "[ffmpeg] Destination: Should Influencers Be Expected To Do More For Society (ft. Celeste Loh) _ IMO Ep.4-7izYax1bCwg.mp3\n",
      "[download]  62.8% of ~55.08MiB at 978.46KiB/s ETA 01:322Deleting original file Relatives Ruin My Wedding! _ The Thirsty Sisters #22-98CiTQQtqak.m4a (pass -k to keep)\n"
     ]
    },
    {
     "name": "stderr",
     "output_type": "stream",
     "text": [
      " 47%|████▋     | 7/15 [20:14<21:10, 158.78s/it]"
     ]
    },
    {
     "name": "stdout",
     "output_type": "stream",
     "text": [
      "[youtube] zLEmAKdG9vY: Downloading webpage\n",
      "[download]  63.1% of ~55.06MiB at 248.67KiB/s ETA 01:32[download] Destination: Mamak Sessions - Nasi Lemak Sneakers-zLEmAKdG9vY.webm\n",
      "[download] 100% of 53.86MiB in 00:0347MiB/s ETA 00:0028own ETA\n",
      "[ffmpeg] Destination: Mamak Sessions - Nasi Lemak Sneakers-zLEmAKdG9vY.mp3\n",
      "[download]  82.4% of ~55.39MiB at 943.79KiB/s ETA 00:434Deleting original file Xia Xue's Honest Thoughts on Influencers - The Team Titan Show-ZDloTzTfenM.m4a (pass -k to keep)\n"
     ]
    },
    {
     "name": "stderr",
     "output_type": "stream",
     "text": [
      " 40%|████      | 6/15 [21:01<33:31, 223.51s/it]"
     ]
    },
    {
     "name": "stdout",
     "output_type": "stream",
     "text": [
      "[youtube] jzUidmnXGu8: Downloading webpage\n",
      "[download]  82.6% of ~55.40MiB at  1.07MiB/s ETA 00:433[youtube] jzUidmnXGu8: Downloading MPD manifest\n",
      "[download]  82.9% of ~55.43MiB at 689.84KiB/s ETA 00:42[dashsegments] Total fragments: 316\n",
      "[download] Destination: Why Arts Management Matters + Leadership Lessons From the Arts _ Singaporean Podcast #42 _ Elvia Goh-jzUidmnXGu8.webm\n",
      "[download]  30.7% of ~44.26MiB at  1.15MiB/s ETA 00:49936Deleting original file Our Must-Watch Movies _ IMO Ep.28-281TVct4AvE.webm (pass -k to keep)\n",
      "[download]  30.7% of ~44.26MiB at  1.05MiB/s ETA 00:49"
     ]
    },
    {
     "name": "stderr",
     "output_type": "stream",
     "text": [
      " 47%|████▋     | 7/15 [21:24<25:32, 191.53s/it]"
     ]
    },
    {
     "name": "stdout",
     "output_type": "stream",
     "text": [
      "[download]  30.8% of ~44.23MiB at 465.31KiB/s ETA 00:49[youtube] XldSJLh8kMk: Downloading webpage\n",
      "[download]  31.7% of ~44.19MiB at 525.47KiB/s ETA 00:488[download] Destination: Mamak Sessions - The Best Method To Start Saving, To Meet your Goals-XldSJLh8kMk.webm\n",
      "[download] 100% of 29.68MiB in 00:027.64KiB/s ETA 00:455wn ETA\n",
      "[download]  35.3% of ~43.94MiB at 727.56KiB/s ETA 00:45[ffmpeg] Destination: Mamak Sessions - The Best Method To Start Saving, To Meet your Goals-XldSJLh8kMk.mp3\n",
      "[download]  64.0% of ~43.71MiB at 360.49KiB/s ETA 00:245Deleting original file Skin Care Routines, Death, Life Purpose and More _ Singaporean Trio Podcast #2-6yW185RJkGw.webm (pass -k to keep)\n",
      "[download]  64.2% of ~43.71MiB at 945.51KiB/s ETA 00:24"
     ]
    },
    {
     "name": "stderr",
     "output_type": "stream",
     "text": [
      " 40%|████      | 6/15 [21:47<32:40, 217.88s/it]"
     ]
    },
    {
     "name": "stdout",
     "output_type": "stream",
     "text": [
      "[download]  99.5% of ~55.47MiB at 131.73KiB/s ETA 00:01[youtube] 3pKA5NvTCOA: Downloading webpage\n",
      "[download]  65.2% of ~43.71MiB at  1.33MiB/s ETA 00:240[youtube] 3pKA5NvTCOA: Downloading MPD manifest\n",
      "[download] 100% of 55.42MiB in 04:115.14KiB/s ETA 00:23\n",
      "[download]  65.5% of ~43.71MiB at 961.70KiB/s ETA 00:23[ffmpeg] Destination: Overcoming Depression & Redefining What Failure Means to Youths_ Singaporean Podcast #10 _ Kevin Wee-rjjK4aAbKnw.mp3\n",
      "[download]  67.1% of ~43.68MiB at  1.29MiB/s ETA 00:222[dashsegments] Total fragments: 559\n",
      "[download]  67.1% of ~43.66MiB at 139.86KiB/s ETA 00:22[download] Destination: The Fashion Weak Podcast Ep 23 - Alicia Amin On Being A 'Malay' Model In 2019-3pKA5NvTCOA.m4a\n",
      "[download] 100% of 43.29MiB in 01:080.01KiB/s ETA 01:25084\n",
      "[download]  20.4% of ~85.39MiB at 921.61KiB/s ETA 01:24[ffmpeg] Destination: Why Arts Management Matters + Leadership Lessons From the Arts _ Singaporean Podcast #42 _ Elvia Goh-jzUidmnXGu8.mp3\n",
      "[download]  29.5% of ~85.62MiB at  1.32MiB/s ETA 01:1455Deleting original file What You Should Think About After A Levels _ IMO Ep.3-R7nCJrdRWyc.webm (pass -k to keep)\n",
      "[download]  29.5% of ~85.62MiB at 210.65KiB/s ETA 01:14"
     ]
    },
    {
     "name": "stderr",
     "output_type": "stream",
     "text": [
      " 40%|████      | 6/15 [22:21<33:58, 226.51s/it]"
     ]
    },
    {
     "name": "stdout",
     "output_type": "stream",
     "text": [
      "[download]  29.7% of ~85.62MiB at 900.11KiB/s ETA 01:14[youtube] ZcVRJSDCof0: Downloading webpage\n",
      "[download]  30.2% of ~85.63MiB at  1.04MiB/s ETA 01:144[download] Destination: Mamak Sessions - Here's What You Should Know About Buying Properties-ZcVRJSDCof0.webm\n",
      "[download] 100% of 55.02MiB in 00:034.83KiB/s ETA 01:11own ETA\n",
      "[download]  33.5% of ~85.68MiB at 462.63KiB/s ETA 01:11[ffmpeg] Destination: Mamak Sessions - Here's What You Should Know About Buying Properties-ZcVRJSDCof0.mp3\n",
      "[download]  42.6% of ~85.78MiB at  1.18MiB/s ETA 01:0112Deleting original file Should Influencers Be Expected To Do More For Society (ft. Celeste Loh) _ IMO Ep.4-7izYax1bCwg.m4a (pass -k to keep)\n",
      "[download]  42.6% of ~85.78MiB at  1.18MiB/s ETA 01:01"
     ]
    },
    {
     "name": "stderr",
     "output_type": "stream",
     "text": [
      " 33%|███▎      | 5/15 [22:35<45:22, 272.23s/it]"
     ]
    },
    {
     "name": "stdout",
     "output_type": "stream",
     "text": [
      "[download]  42.8% of ~85.78MiB at 973.29KiB/s ETA 01:01[youtube] VlovwtVYuw0: Downloading webpage\n",
      "[download]  43.3% of ~85.78MiB at  1.05MiB/s ETA 01:000[download] Destination: The Fashion Weak Podcast Ep 45 - Finessing A New Phone Every Year With Mamak Rap King Jiven Sekar-VlovwtVYuw0.webm\n",
      "[download] 100% of 83.21MiB in 00:063.56KiB/s ETA 00:555wn ETA\n",
      "[download]  49.0% of ~85.82MiB at  1.11MiB/s ETA 00:545[ffmpeg] Destination: The Fashion Weak Podcast Ep 45 - Finessing A New Phone Every Year With Mamak Rap King Jiven Sekar-VlovwtVYuw0.mp3\n",
      "[download]  56.7% of ~85.87MiB at 970.60KiB/s ETA 00:468Deleting original file Mamak Sessions - How Do You Deal With Rumors ft Elizabeth Tan-Rkvd5p3I11M.webm (pass -k to keep)\n",
      "[download]  56.7% of ~85.87MiB at 946.92KiB/s ETA 00:46"
     ]
    },
    {
     "name": "stderr",
     "output_type": "stream",
     "text": [
      " 40%|████      | 6/15 [22:50<32:18, 215.40s/it]"
     ]
    },
    {
     "name": "stdout",
     "output_type": "stream",
     "text": [
      "[download]  56.9% of ~85.87MiB at  1.36MiB/s ETA 00:466[youtube] _7Un0q6a9zg: Downloading webpage\n",
      "[download]  57.6% of ~85.87MiB at 944.20KiB/s ETA 00:45[download] Destination: The Fashion Weak Podcast Ep 33 - Lingerie & Bikini Talk With Talitha Tan (@talithabe)-_7Un0q6a9zg.webm\n",
      "[download]  88.1% of 79.91MiB at 10.64MiB/s ETA 00:0037own ETADeleting original file Mamak Sessions Ep10 - Datuk Nicol David is RETIRING!-n3AR3nQEc7Y.webm (pass -k to keep)\n",
      "[download]  65.7% of ~85.90MiB at 398.05KiB/s ETA 00:37"
     ]
    },
    {
     "name": "stderr",
     "output_type": "stream",
     "text": [
      " 47%|████▋     | 7/15 [23:00<25:17, 189.73s/it]"
     ]
    },
    {
     "name": "stdout",
     "output_type": "stream",
     "text": [
      "[download]  65.8% of ~85.90MiB at  1.15MiB/s ETA 00:367[youtube] eXpirKKPBUA: Downloading webpage\n",
      "[download]  66.5% of ~85.91MiB at  1.19MiB/s ETA 00:366own ETA[youtube] eXpirKKPBUA: Downloading MPD manifest\n",
      "[download] 100% of 79.91MiB in 00:10.12MiB/s ETA 00:356\n",
      "[download]  66.7% of ~85.91MiB at 206.93KiB/s ETA 00:35[ffmpeg] Destination: The Fashion Weak Podcast Ep 33 - Lingerie & Bikini Talk With Talitha Tan (@talithabe)-_7Un0q6a9zg.mp3\n",
      "[download]  67.4% of ~85.91MiB at  1.02MiB/s ETA 00:355[dashsegments] Total fragments: 314\n",
      "[download] Destination: MILF hunting with Audrey Ooi aka @fourfeetnine - The Fashion Weak Podcast Episode 1-eXpirKKPBUA.webm\n",
      "[download]  35.7% of ~43.46MiB at  1.04MiB/s ETA 00:47970:22Deleting original file The Fashion Weak Podcast EP 27 -  Peter Davis talks cars, mixed rice and some fashion.-rxmMRAzLRJ0.webm (pass -k to keep)\n",
      "[download]  91.6% of ~85.97MiB at  1.18MiB/s ETA 00:09"
     ]
    },
    {
     "name": "stderr",
     "output_type": "stream",
     "text": [
      " 40%|████      | 6/15 [23:29<36:00, 240.08s/it]"
     ]
    },
    {
     "name": "stdout",
     "output_type": "stream",
     "text": [
      "[download]  36.0% of ~43.44MiB at 977.60KiB/s ETA 00:47[youtube] WnipnOcDkx8: Downloading webpage\n",
      "[download]  92.5% of ~85.97MiB at  1.01MiB/s ETA 00:0868[download] Destination: We Try Online Dating And Fall In Love With Strangers _ The Thirsty Sisters #25-WnipnOcDkx8.m4a\n",
      "[download] 100% of 38.52MiB in 00:0206MiB/s ETA 00:00444wn ETA\n",
      "[download]  95.0% of ~85.98MiB at 114.39KiB/s ETA 00:05[ffmpeg] Correcting container in \"We Try Online Dating And Fall In Love With Strangers _ The Thirsty Sisters #25-WnipnOcDkx8.m4a\"\n",
      "[download]  43.3% of ~43.19MiB at 967.82KiB/s ETA 00:423[ffmpeg] Destination: We Try Online Dating And Fall In Love With Strangers _ The Thirsty Sisters #25-WnipnOcDkx8.mp3\n",
      "[download]  97.1% of ~85.98MiB at 799.96KiB/s ETA 00:03Deleting original file The Fashion Weak Podcast Ep 39 - Talking Turn-On's and Fashion Bulk Buy Deals With Tata Wanqian-WSVo-qvu1GQ.webm (pass -k to keep)\n",
      "[download]  97.1% of ~85.98MiB at 256.34KiB/s ETA 00:03"
     ]
    },
    {
     "name": "stderr",
     "output_type": "stream",
     "text": [
      " 40%|████      | 6/15 [23:35<36:37, 244.22s/it]"
     ]
    },
    {
     "name": "stdout",
     "output_type": "stream",
     "text": [
      "[download]  43.9% of ~43.16MiB at  1.24MiB/s ETA 00:411[youtube] 6K1feeFnKpQ: Downloading webpage\n",
      "[download]  97.9% of ~85.98MiB at  1.02MiB/s ETA 00:0212[download] Destination: Playing Basketball With Dr Jason Leong - The Fashion Weak Podcast Episode 4 --6K1feeFnKpQ.webm\n",
      "[download] 100% of 85.97MiB in 01:48.22MiB/s ETA 00:0099wn ETA\n",
      "[download]  47.8% of ~43.21MiB at  1.35MiB/s ETA 00:388[ffmpeg] Correcting container in \"The Fashion Weak Podcast Ep 23 - Alicia Amin On Being A 'Malay' Model In 2019-3pKA5NvTCOA.m4a\"\n",
      "[download]  48.1% of ~43.17MiB at 311.06KiB/s ETA 00:38own ETADeleting original file Mamak Sessions - The Best Method To Start Saving, To Meet your Goals-XldSJLh8kMk.webm (pass -k to keep)\n"
     ]
    },
    {
     "name": "stderr",
     "output_type": "stream",
     "text": [
      " 53%|█████▎    | 8/15 [23:38<20:19, 174.18s/it]"
     ]
    },
    {
     "name": "stdout",
     "output_type": "stream",
     "text": [
      "[download]  48.4% of ~43.17MiB at 996.98KiB/s ETA 00:38[youtube] f7qEqPNzGk8: Downloading webpage\n",
      "[download]  81.0% of 60.00MiB at 596.12KiB/s ETA 00:197own ETA[youtube] f7qEqPNzGk8: Downloading MPD manifest\n",
      "[download] 100% of 60.00MiB in 00:043.96KiB/s ETA 00:36own ETA\n",
      "[download]  50.6% of ~43.12MiB at 993.96KiB/s ETA 00:36[ffmpeg] Destination: Playing Basketball With Dr Jason Leong - The Fashion Weak Podcast Episode 4 --6K1feeFnKpQ.mp3\n",
      "[download]  50.9% of ~43.12MiB at  8.46KiB/s ETA 00:366[dashsegments] Total fragments: 591\n",
      "[download]  51.0% of ~43.12MiB at 20.91KiB/s ETA 00:36[download] Destination: Burnout in the Media Industry + Passion in Theatre  _ Singaporean Podcast #16 _ Rennes Lee-f7qEqPNzGk8.webm\n",
      "[download]  52.3% of ~43.07MiB at 331.52KiB/s ETA 00:35:04[ffmpeg] Destination: The Fashion Weak Podcast Ep 23 - Alicia Amin On Being A 'Malay' Model In 2019-3pKA5NvTCOA.mp3\n",
      "[download] 100% of 43.22MiB in 01:14.64MiB/s ETA 00:00021032\n",
      "Deleting original file Mamak Sessions - Nasi Lemak Sneakers-zLEmAKdG9vY.webm (pass -k to keep)\n"
     ]
    },
    {
     "name": "stderr",
     "output_type": "stream",
     "text": [
      " 53%|█████▎    | 8/15 [24:17<21:27, 183.96s/it]"
     ]
    },
    {
     "name": "stdout",
     "output_type": "stream",
     "text": [
      "[ffmpeg] Destination: MILF hunting with Audrey Ooi aka @fourfeetnine - The Fashion Weak Podcast Episode 1-eXpirKKPBUA.mp3\n",
      "[youtube] NqCp8Csl7PE: Downloading webpage\n",
      "[download]  12.4% of ~79.72MiB at  1.09MiB/s ETA 04:213[download] Destination: Mamak Sessions - My Asian Parents Were Initially Ashamed Of My Career-NqCp8Csl7PE.webm\n",
      "[download] 100% of 35.80MiB in 00:0358MiB/s ETA 00:00:18wn ETA\n",
      "[ffmpeg] Destination: Mamak Sessions - My Asian Parents Were Initially Ashamed Of My Career-NqCp8Csl7PE.mp3\n",
      "[download]  19.3% of ~80.17MiB at 896.65KiB/s ETA 03:557"
     ]
    },
    {
     "name": "stderr",
     "output_type": "stream",
     "text": [
      "ERROR: giving up after 0 retries\n"
     ]
    },
    {
     "name": "stdout",
     "output_type": "stream",
     "text": [
      "[download] Skipping fragment 115...\n",
      "[download]  25.7% of ~79.92MiB at 878.71KiB/s ETA 03:488Deleting original file The Fashion Weak Podcast Ep 19 - Butt Stuff & Actual Fashion With Zane Gan-jhLgzHQnAHU.webm (pass -k to keep)\n"
     ]
    },
    {
     "name": "stderr",
     "output_type": "stream",
     "text": [
      " 40%|████      | 6/15 [25:00<39:02, 260.24s/it]"
     ]
    },
    {
     "name": "stdout",
     "output_type": "stream",
     "text": [
      "[youtube] Cq6Yjwsu63U: Downloading webpage\n",
      "[download]  25.9% of ~79.94MiB at 418.02KiB/s ETA 03:49[download] Destination: Mamak Sessions - Getting Married in Vegas, and Sugar Babies ft. Dennis Yin-Cq6Yjwsu63U.webm\n",
      "[download] 100% of 41.39MiB in 00:0310MiB/s ETA 00:0037own ETA\n",
      "[ffmpeg] Destination: Mamak Sessions - Getting Married in Vegas, and Sugar Babies ft. Dennis Yin-Cq6Yjwsu63U.mp3\n",
      "[download]  32.1% of ~79.86MiB at 996.83KiB/s ETA 03:39Deleting original file We Try Online Dating And Fall In Love With Strangers _ The Thirsty Sisters #25-WnipnOcDkx8.m4a (pass -k to keep)\n"
     ]
    },
    {
     "name": "stderr",
     "output_type": "stream",
     "text": [
      " 47%|████▋     | 7/15 [25:25<27:02, 202.84s/it]"
     ]
    },
    {
     "name": "stdout",
     "output_type": "stream",
     "text": [
      "[youtube] Yv7uONh96tc: Downloading webpage\n",
      "[download]  32.3% of ~79.86MiB at 861.59KiB/s ETA 03:39[download] Destination: The Fashion Weak Podcast Ep 26 - Chinese New Year with Stand Up Comedian _ Fashionista Kuah Jenhan-Yv7uONh96tc.webm\n",
      "[download]   5.4% of 73.95MiB at 10.03MiB/s ETA 00:060Deleting original file Why Arts Management Matters + Leadership Lessons From the Arts _ Singaporean Podcast #42 _ Elvia Goh-jzUidmnXGu8.webm (pass -k to keep)\n",
      "[download]  10.8% of 73.95MiB at 12.84MiB/s ETA 00:05"
     ]
    },
    {
     "name": "stderr",
     "output_type": "stream",
     "text": [
      " 47%|████▋     | 7/15 [25:26<31:28, 236.02s/it]"
     ]
    },
    {
     "name": "stdout",
     "output_type": "stream",
     "text": [
      "[youtube] ekKcn3QCU5E: Downloading webpage\n",
      "[download]  16.2% of 73.95MiB at  7.48MiB/s ETA 00:083nown ETA[download] Destination: Bend Over! Or Pay Sit Forward! We Create Our Own Movements! _ The Thirsty Sisters #3-ekKcn3QCU5E.m4a\n",
      "[download] 100% of 38.51MiB in 00:0391MiB/s ETA 00:1758own ETA\n",
      "[download]  53.8% of 73.95MiB at  2.99MiB/s ETA 00:11[ffmpeg] Correcting container in \"Bend Over! Or Pay Sit Forward! We Create Our Own Movements! _ The Thirsty Sisters #3-ekKcn3QCU5E.m4a\"\n",
      "[download]  33.8% of ~79.83MiB at 263.79KiB/s ETA 03:38own ETA[ffmpeg] Destination: Bend Over! Or Pay Sit Forward! We Create Our Own Movements! _ The Thirsty Sisters #3-ekKcn3QCU5E.mp3\n",
      "[download] 100% of 73.95MiB in 00:0813MiB/s ETA 00:0037own ETA\n",
      "[download]  34.3% of ~79.83MiB at  1.02MiB/s ETA 03:366[ffmpeg] Destination: The Fashion Weak Podcast Ep 26 - Chinese New Year with Stand Up Comedian _ Fashionista Kuah Jenhan-Yv7uONh96tc.mp3\n",
      "[download]  41.3% of ~79.81MiB at  1.09MiB/s ETA 03:2004Deleting original file Overcoming Depression & Redefining What Failure Means to Youths_ Singaporean Podcast #10 _ Kevin Wee-rjjK4aAbKnw.webm (pass -k to keep)\n"
     ]
    },
    {
     "name": "stderr",
     "output_type": "stream",
     "text": [
      " 33%|███▎      | 5/15 [26:02<58:37, 351.79s/it]"
     ]
    },
    {
     "name": "stdout",
     "output_type": "stream",
     "text": [
      "[download]  41.3% of ~79.81MiB at 428.22KiB/s ETA 03:20[youtube] TqLaI2X4jj0: Downloading webpage\n",
      "[download]  41.5% of ~79.81MiB at  1.23MiB/s ETA 03:190[download] Destination: Tips For Being In The Media Industry (ft. Neo Kee Wei) _ IMO Ep.18-TqLaI2X4jj0.webm\n",
      "[download] 100% of 38.11MiB in 00:028.78KiB/s ETA 03:18own ETA\n",
      "[download]  42.1% of ~79.86MiB at 290.90KiB/s ETA 03:18[ffmpeg] Destination: Tips For Being In The Media Industry (ft. Neo Kee Wei) _ IMO Ep.18-TqLaI2X4jj0.mp3\n",
      "[download]  47.0% of ~79.97MiB at 914.41KiB/s ETA 03:034Deleting original file Mamak Sessions - Here's What You Should Know About Buying Properties-ZcVRJSDCof0.webm (pass -k to keep)\n"
     ]
    },
    {
     "name": "stderr",
     "output_type": "stream",
     "text": [
      " 47%|████▋     | 7/15 [26:24<30:51, 231.49s/it]"
     ]
    },
    {
     "name": "stdout",
     "output_type": "stream",
     "text": [
      "[youtube] Jn2oeTajYCw: Downloading webpage\n",
      "[download]  47.2% of ~79.97MiB at  1.48MiB/s ETA 03:023[download] Destination: Mamak Sessions Ep2 - Bringing A Girl Home For The First Time-Jn2oeTajYCw.webm\n",
      "[download] 100% of 44.53MiB in 00:039.47KiB/s ETA 03:01own ETA\n",
      "[download]  48.0% of ~79.99MiB at 576.35KiB/s ETA 03:01[ffmpeg] Destination: Mamak Sessions Ep2 - Bringing A Girl Home For The First Time-Jn2oeTajYCw.mp3\n",
      "[download]  53.5% of ~79.98MiB at  1.15MiB/s ETA 02:4340Deleting original file Mamak Sessions - My Asian Parents Were Initially Ashamed Of My Career-NqCp8Csl7PE.webm (pass -k to keep)\n"
     ]
    },
    {
     "name": "stderr",
     "output_type": "stream",
     "text": [
      " 60%|██████    | 9/15 [26:49<17:27, 174.56s/it]"
     ]
    },
    {
     "name": "stdout",
     "output_type": "stream",
     "text": [
      "[download]  53.5% of ~79.99MiB at 147.19KiB/s ETA 02:44[youtube] xMm23vU8_og: Downloading webpage\n",
      "[download]  53.6% of ~79.99MiB at 914.29KiB/s ETA 02:43[download] Destination: The Fashion Weak Podcast Ep 31 -  Possibly Our Most NSFW Episode Yet With @vikarworld-xMm23vU8_og.webm\n",
      "[download] 100% of 66.59MiB in 00:0582MiB/s ETA 00:0039own ETA\n",
      "[ffmpeg] Destination: The Fashion Weak Podcast Ep 31 -  Possibly Our Most NSFW Episode Yet With @vikarworld-xMm23vU8_og.mp3\n",
      "[download]  59.9% of ~80.07MiB at  3.02MiB/s ETA 02:2230Deleting original file Bend Over! Or Pay Sit Forward! We Create Our Own Movements! _ The Thirsty Sisters #3-ekKcn3QCU5E.m4a (pass -k to keep)\n"
     ]
    },
    {
     "name": "stderr",
     "output_type": "stream",
     "text": [
      " 53%|█████▎    | 8/15 [27:13<23:01, 197.39s/it]"
     ]
    },
    {
     "name": "stdout",
     "output_type": "stream",
     "text": [
      "[download]  60.1% of ~80.07MiB at  1.37MiB/s ETA 02:212[youtube] TYL7mmbpsbo: Downloading webpage\n",
      "[download]  60.2% of ~80.06MiB at  7.60MiB/s ETA 02:20[youtube] TYL7mmbpsbo: Downloading MPD manifest\n",
      "[download]  60.4% of ~80.06MiB at  1.13MiB/s ETA 02:200[dashsegments] Total fragments: 431\n",
      "[download] Destination: Priorities as University Graduates and The MALAYSIA Hustle _ Singaporean Podcast #12 _ Zhi Rong-TYL7mmbpsbo.webm\n",
      "[download]   1.5% of ~56.63MiB at  6.35MiB/s ETA 00:37020:47Deleting original file MILF hunting with Audrey Ooi aka @fourfeetnine - The Fashion Weak Podcast Episode 1-eXpirKKPBUA.webm (pass -k to keep)\n",
      "[download]   1.6% of ~56.63MiB at 11.54MiB/s ETA 00:33"
     ]
    },
    {
     "name": "stderr",
     "output_type": "stream",
     "text": [
      " 53%|█████▎    | 8/15 [27:15<24:25, 209.33s/it]"
     ]
    },
    {
     "name": "stdout",
     "output_type": "stream",
     "text": [
      "[youtube] oW3yttdKVm0: Downloading webpage\n",
      "[download]  60.9% of ~80.04MiB at  2.46MiB/s ETA 02:1896[download] Destination: Sexual Predators Running Free In Singapore! _ The Thirsty Sisters #14-oW3yttdKVm0.m4a\n",
      "[download] 100% of 43.91MiB in 00:0258MiB/s ETA 00:005nown ETA\n",
      "[download]   6.5% of ~62.57MiB at 305.80KiB/s ETA 00:49[ffmpeg] Correcting container in \"Sexual Predators Running Free In Singapore! _ The Thirsty Sisters #14-oW3yttdKVm0.m4a\"\n",
      "[download]   8.6% of ~62.94MiB at 11.30MiB/s ETA 00:479[ffmpeg] Destination: Sexual Predators Running Free In Singapore! _ The Thirsty Sisters #14-oW3yttdKVm0.mp3\n",
      "[download]  10.7% of ~62.91MiB at 13.62MiB/s ETA 00:464"
     ]
    },
    {
     "name": "stderr",
     "output_type": "stream",
     "text": [
      "ERROR: giving up after 0 retries\n"
     ]
    },
    {
     "name": "stdout",
     "output_type": "stream",
     "text": [
      "[download] Skipping fragment 370...\n",
      "[download]  12.6% of ~63.04MiB at  9.08MiB/s ETA 00:424"
     ]
    },
    {
     "name": "stderr",
     "output_type": "stream",
     "text": [
      "ERROR: giving up after 0 retries\n"
     ]
    },
    {
     "name": "stdout",
     "output_type": "stream",
     "text": [
      "[download] Skipping fragment 372...\n",
      "[download]  15.1% of ~63.23MiB at 336.38KiB/s ETA 00:465"
     ]
    },
    {
     "name": "stderr",
     "output_type": "stream",
     "text": [
      "ERROR: giving up after 0 retries\n"
     ]
    },
    {
     "name": "stdout",
     "output_type": "stream",
     "text": [
      "[download]  15.2% of ~63.23MiB at 541.41KiB/s ETA 00:46[download] Skipping fragment 376...\n",
      "[download]  18.9% of ~63.35MiB at  6.38MiB/s ETA 00:421Deleting original file Playing Basketball With Dr Jason Leong - The Fashion Weak Podcast Episode 4 --6K1feeFnKpQ.webm (pass -k to keep)\n"
     ]
    },
    {
     "name": "stderr",
     "output_type": "stream",
     "text": [
      " 47%|████▋     | 7/15 [27:25<31:59, 239.94s/it]"
     ]
    },
    {
     "name": "stdout",
     "output_type": "stream",
     "text": [
      "[youtube] QxVzXbS1WFE: Downloading webpage\n",
      "[download]  19.0% of ~63.35MiB at 229.20KiB/s ETA 00:45"
     ]
    },
    {
     "name": "stderr",
     "output_type": "stream",
     "text": [
      "ERROR: QxVzXbS1WFE: YouTube said: Unable to extract video data\n",
      " 53%|█████▎    | 8/15 [27:25<19:37, 168.14s/it]"
     ]
    },
    {
     "name": "stdout",
     "output_type": "stream",
     "text": [
      "[youtube] UWm1ESejkzs: Downloading webpage\n",
      "[download]  21.1% of ~63.31MiB at 12.45MiB/s ETA 00:415[download] Destination: The Fashion Weak Podcast Ep 29 - Valentines Day With Becca Lee and Leonard Chua-UWm1ESejkzs.m4a\n",
      "[download]  26.7% of ~63.35MiB at 13.59MiB/s ETA 00:380own ETADeleting original file The Fashion Weak Podcast Ep 23 - Alicia Amin On Being A 'Malay' Model In 2019-3pKA5NvTCOA.m4a (pass -k to keep)\n",
      "[download]  26.7% of ~63.38MiB at  4.92MiB/s ETA 00:38"
     ]
    },
    {
     "name": "stderr",
     "output_type": "stream",
     "text": [
      " 47%|████▋     | 7/15 [27:29<33:59, 254.99s/it]"
     ]
    },
    {
     "name": "stdout",
     "output_type": "stream",
     "text": [
      "[download]  64.6% of ~79.96MiB at 10.35MiB/s ETA 02:04[youtube] LXSNbZF9ag4: Downloading webpage\n",
      "[download]  27.6% of ~63.43MiB at 12.06MiB/s ETA 00:37"
     ]
    },
    {
     "name": "stderr",
     "output_type": "stream",
     "text": [
      "ERROR: giving up after 0 retries\n"
     ]
    },
    {
     "name": "stdout",
     "output_type": "stream",
     "text": [
      "[download] Skipping fragment 388...\n",
      "[download]  27.7% of ~63.38MiB at  6.31MiB/s ETA 00:37Deleting original file Mamak Sessions - Getting Married in Vegas, and Sugar Babies ft. Dennis Yin-Cq6Yjwsu63U.webm (pass -k to keep)\n",
      "[download]  27.8% of ~63.38MiB at  9.77MiB/s ETA 00:36"
     ]
    },
    {
     "name": "stderr",
     "output_type": "stream",
     "text": [
      " 47%|████▋     | 7/15 [27:29<30:15, 226.91s/it]"
     ]
    },
    {
     "name": "stdout",
     "output_type": "stream",
     "text": [
      "[youtube] -L7y6_6Ar4s: Downloading webpage\n",
      "[download]  28.3% of ~63.37MiB at 12.03MiB/s ETA 00:36[youtube] LXSNbZF9ag4: Downloading MPD manifest\n",
      "[download]  20.8% of 79.53MiB at  4.61MiB/s ETA 00:133[download] Destination: Does JianHao Deserve All The Hate _ IMO Ep.13--L7y6_6Ar4s.webm\n",
      "[download]  65.0% of ~79.94MiB at  3.45MiB/s ETA 02:037[dashsegments] Total fragments: 598\n",
      "[download] Destination: How to Find a Fulfilling Career & Deal with Self-Judgement _ Singaporean Podcast #24 _ Khye Chan-LXSNbZF9ag4.webm\n",
      "[download] 100% of 46.41MiB in 00:02.04MiB/s ETA 01:047own ETA\n",
      "[download]  29.4% of 79.53MiB at  2.06MiB/s ETA 00:27[ffmpeg] Destination: Does JianHao Deserve All The Hate _ IMO Ep.13--L7y6_6Ar4s.mp3\n",
      "[download] 100% of 79.53MiB in 00:1474MiB/s ETA 00:0022own ETA\n",
      "[ffmpeg] Correcting container in \"The Fashion Weak Podcast Ep 29 - Valentines Day With Becca Lee and Leonard Chua-UWm1ESejkzs.m4a\"\n",
      "[download]  19.6% of ~86.21MiB at 13.24MiB/s ETA 00:4997[ffmpeg] Destination: The Fashion Weak Podcast Ep 29 - Valentines Day With Becca Lee and Leonard Chua-UWm1ESejkzs.mp3\n",
      "[download]  22.1% of ~85.64MiB at 10.67MiB/s ETA 00:489Deleting original file The Fashion Weak Podcast Ep 45 - Finessing A New Phone Every Year With Mamak Rap King Jiven Sekar-VlovwtVYuw0.webm (pass -k to keep)\n",
      "[download]  22.2% of ~85.64MiB at 11.81MiB/s ETA 00:47"
     ]
    },
    {
     "name": "stderr",
     "output_type": "stream",
     "text": [
      " 40%|████      | 6/15 [27:44<42:28, 283.21s/it]"
     ]
    },
    {
     "name": "stdout",
     "output_type": "stream",
     "text": [
      "[download]  22.4% of ~85.58MiB at 11.29MiB/s ETA 00:47[youtube] 3b0bYe36KNE: Downloading webpage\n",
      "[download]  55.5% of ~63.24MiB at 10.53MiB/s ETA 00:237[download] Destination: The Fashion Weak Podcast Ep35 - Is New Balance Cool Now Talking everything NOT Nike with @adlysyairi-3b0bYe36KNE.m4a\n",
      "[download]  58.0% of ~63.24MiB at 11.53MiB/s ETA 00:22nown ETADeleting original file The Fashion Weak Podcast Ep 33 - Lingerie & Bikini Talk With Talitha Tan (@talithabe)-_7Un0q6a9zg.webm (pass -k to keep)\n",
      "[download]  58.0% of ~63.24MiB at 11.53MiB/s ETA 00:22"
     ]
    },
    {
     "name": "stderr",
     "output_type": "stream",
     "text": [
      " 47%|████▋     | 7/15 [27:46<31:55, 239.39s/it]"
     ]
    },
    {
     "name": "stdout",
     "output_type": "stream",
     "text": [
      "Deleting original file Tips For Being In The Media Industry (ft. Neo Kee Wei) _ IMO Ep.18-TqLaI2X4jj0.webm (pass -k to keep)\n"
     ]
    },
    {
     "name": "stderr",
     "output_type": "stream",
     "text": [
      " 40%|████      | 6/15 [27:46<41:37, 277.49s/it]"
     ]
    },
    {
     "name": "stdout",
     "output_type": "stream",
     "text": [
      "[youtube] TxeBIVuXRHM: Downloading webpage\n",
      "[youtube] C3U2AtbBjHY: Downloading webpage\n",
      "[download]  26.6% of ~85.33MiB at  5.07MiB/s ETA 00:441own ETA[download] Destination: Improving The Migrant Worker Situation Beyond COVID-19 (ft. Subhas Nair) _ IMO Ep.15-C3U2AtbBjHY.webm\n",
      "[download]  59.2% of ~63.27MiB at 237.43KiB/s ETA 00:21[download] Destination: Exposed! Our Favourite Night Activity We Miss The Most! _ The Thirsty Sisters #5-TxeBIVuXRHM.m4a\n",
      "[download] 100% of 80.92MiB in 00:0554MiB/s ETA 00:0020own ETA\n",
      "[download]  31.4% of ~84.98MiB at 882.21KiB/s ETA 00:42[ffmpeg] Correcting container in \"The Fashion Weak Podcast Ep35 - Is New Balance Cool Now Talking everything NOT Nike with @adlysyairi-3b0bYe36KNE.m4a\"\n",
      "[download] 100% of 37.06MiB in 00:0437MiB/s ETA 00:0000own ETA\n",
      "[ffmpeg] Correcting container in \"Exposed! Our Favourite Night Activity We Miss The Most! _ The Thirsty Sisters #5-TxeBIVuXRHM.m4a\"\n",
      "[download]  33.4% of ~84.95MiB at 11.65MiB/s ETA 00:423[ffmpeg] Destination: The Fashion Weak Podcast Ep35 - Is New Balance Cool Now Talking everything NOT Nike with @adlysyairi-3b0bYe36KNE.mp3\n",
      "[download] 100% of 49.89MiB in 00:0515MiB/s ETA 00:0022own ETA\n",
      "[download]  33.8% of ~84.90MiB at  1.36MiB/s ETA 00:42[ffmpeg] Destination: Improving The Migrant Worker Situation Beyond COVID-19 (ft. Subhas Nair) _ IMO Ep.15-C3U2AtbBjHY.mp3\n",
      "[download]  65.6% of ~63.35MiB at 12.31MiB/s ETA 00:199[ffmpeg] Destination: Exposed! Our Favourite Night Activity We Miss The Most! _ The Thirsty Sisters #5-TxeBIVuXRHM.mp3\n",
      "[download]  75.0% of ~63.28MiB at  6.72MiB/s ETA 00:138"
     ]
    },
    {
     "name": "stderr",
     "output_type": "stream",
     "text": [
      "ERROR: giving up after 0 retries\n"
     ]
    },
    {
     "name": "stdout",
     "output_type": "stream",
     "text": [
      "[download]  75.1% of ~63.28MiB at 11.01MiB/s ETA 00:13[download] Skipping fragment 438...\n",
      "[download]  75.2% of ~63.28MiB at  1.12MiB/s ETA 00:13"
     ]
    },
    {
     "name": "stderr",
     "output_type": "stream",
     "text": [
      "ERROR: giving up after 0 retries\n"
     ]
    },
    {
     "name": "stdout",
     "output_type": "stream",
     "text": [
      "[download] Skipping fragment 439...\n",
      "[download]  75.7% of ~63.30MiB at  6.10MiB/s ETA 00:13"
     ]
    },
    {
     "name": "stderr",
     "output_type": "stream",
     "text": [
      "ERROR: giving up after 0 retries\n"
     ]
    },
    {
     "name": "stdout",
     "output_type": "stream",
     "text": [
      "[download] Skipping fragment 440...\n",
      "[download]  89.1% of ~63.31MiB at  2.17MiB/s ETA 00:057Deleting original file Mamak Sessions Ep2 - Bringing A Girl Home For The First Time-Jn2oeTajYCw.webm (pass -k to keep)\n",
      "[download]  89.3% of ~63.31MiB at 12.18MiB/s ETA 00:05"
     ]
    },
    {
     "name": "stderr",
     "output_type": "stream",
     "text": [
      " 53%|█████▎    | 8/15 [28:03<22:23, 191.94s/it]"
     ]
    },
    {
     "name": "stdout",
     "output_type": "stream",
     "text": [
      "[youtube] HDuY9UdkkaE: Downloading webpage\n",
      "[download]  54.5% of ~84.45MiB at  1.51MiB/s ETA 00:288Deleting original file Sexual Predators Running Free In Singapore! _ The Thirsty Sisters #14-oW3yttdKVm0.m4a (pass -k to keep)\n",
      "[download]  54.7% of ~84.45MiB at 11.56MiB/s ETA 00:27"
     ]
    },
    {
     "name": "stderr",
     "output_type": "stream",
     "text": [
      " 60%|██████    | 9/15 [28:04<16:06, 161.00s/it]"
     ]
    },
    {
     "name": "stdout",
     "output_type": "stream",
     "text": [
      "[download]  90.3% of ~63.32MiB at 14.81MiB/s ETA 00:05[youtube] m7mwwtsblIs: Downloading webpage\n",
      "[download]  93.0% of ~63.30MiB at 13.26MiB/s ETA 00:034[download] Destination: The Fashion Weak Podcast Ep 15 - Underwear Sneakers & Fruits With @OhZooey-HDuY9UdkkaE.webm\n",
      "[download]  58.7% of ~84.25MiB at 11.58MiB/s ETA 00:243[download] Destination: Mamak Sessions Podcast - How Do You Handle Long Distance Relationships Do they WORK-m7mwwtsblIs.webm\n",
      "[download] 100% of 36.41MiB in 00:0297MiB/s ETA 00:0023own ETA\n",
      "[download]  62.2% of ~84.07MiB at  1.05MiB/s ETA 00:221[ffmpeg] Destination: Mamak Sessions Podcast - How Do You Handle Long Distance Relationships Do they WORK-m7mwwtsblIs.mp3\n",
      "[download] 100% of 63.16MiB in 00:54.22MiB/s ETA 00:001own ETA\n",
      "[ffmpeg] Destination: Priorities as University Graduates and The MALAYSIA Hustle _ Singaporean Podcast #12 _ Zhi Rong-TYL7mmbpsbo.mp3\n",
      "[download] 100% of 62.35MiB in 00:1055MiB/s ETA 00:0012own ETA\n",
      "[ffmpeg] Destination: The Fashion Weak Podcast Ep 15 - Underwear Sneakers & Fruits With @OhZooey-HDuY9UdkkaE.mp3\n",
      "[download]  99.7% of ~84.49MiB at 347.47KiB/s ETA 00:000Deleting original file Exposed! Our Favourite Night Activity We Miss The Most! _ The Thirsty Sisters #5-TxeBIVuXRHM.m4a (pass -k to keep)\n",
      "[download]  99.8% of ~84.49MiB at 632.93KiB/s ETA 00:00"
     ]
    },
    {
     "name": "stderr",
     "output_type": "stream",
     "text": [
      " 53%|█████▎    | 8/15 [28:38<21:22, 183.16s/it]"
     ]
    },
    {
     "name": "stdout",
     "output_type": "stream",
     "text": [
      "[download] 100.0% of ~84.36MiB at 105.73KiB/s ETA 00:00[youtube] 3mt-_JgTm2E: Downloading webpage\n",
      "[download] 100% of 84.36MiB in 01:079.05KiB/s ETA 00:00\n",
      "[download]  85.5% of ~79.65MiB at 534.59KiB/s ETA 00:50[ffmpeg] Destination: How to Find a Fulfilling Career & Deal with Self-Judgement _ Singaporean Podcast #24 _ Khye Chan-LXSNbZF9ag4.mp3\n",
      "[download]  86.0% of ~79.64MiB at 930.92KiB/s ETA 00:489[download] Destination: Life as a Political Candidate with the Progress Singapore Party _ Terence Soon _ Singaporean Podcast-3mt-_JgTm2E.webm\n",
      "[download]  86.8% of ~79.63MiB at 870.12KiB/s ETA 00:45own ETA"
     ]
    },
    {
     "name": "stderr",
     "output_type": "stream",
     "text": [
      "ERROR: giving up after 0 retries\n"
     ]
    },
    {
     "name": "stdout",
     "output_type": "stream",
     "text": [
      "[download] Skipping fragment 522...\n",
      "[download] 100% of 53.56MiB in 00:0550MiB/s ETA 00:0044own ETA\n",
      "[download]  87.2% of ~79.62MiB at 624.34KiB/s ETA 00:44[ffmpeg] Destination: Life as a Political Candidate with the Progress Singapore Party _ Terence Soon _ Singaporean Podcast-3mt-_JgTm2E.mp3\n",
      "[download]  87.8% of ~79.61MiB at 1007.92KiB/s ETA 00:42Deleting original file The Fashion Weak Podcast Ep 26 - Chinese New Year with Stand Up Comedian _ Fashionista Kuah Jenhan-Yv7uONh96tc.webm (pass -k to keep)\n"
     ]
    },
    {
     "name": "stderr",
     "output_type": "stream",
     "text": [
      " 53%|█████▎    | 8/15 [28:47<23:39, 202.73s/it]"
     ]
    },
    {
     "name": "stdout",
     "output_type": "stream",
     "text": [
      "[youtube] fgaCmnMdZ0c: Downloading webpage\n",
      "[download]  88.3% of ~79.61MiB at 961.06KiB/s ETA 00:400[download] Destination: 8 Wheels Vs 4 Wheels With Sukeats From Wheel Love - The Fashion Weak Podcast ep 12-fgaCmnMdZ0c.webm\n",
      "[download] 100% of 68.47MiB in 00:1069MiB/s ETA 00:0022own ETA\n",
      "[ffmpeg] Destination: 8 Wheels Vs 4 Wheels With Sukeats From Wheel Love - The Fashion Weak Podcast ep 12-fgaCmnMdZ0c.mp3\n",
      "[download] 100% of 78.15MiB in 05:478.55KiB/s ETA 00:057\n",
      "[ffmpeg] Destination: Burnout in the Media Industry + Passion in Theatre  _ Singaporean Podcast #16 _ Rennes Lee-f7qEqPNzGk8.mp3\n",
      "Deleting original file The Fashion Weak Podcast Ep 31 -  Possibly Our Most NSFW Episode Yet With @vikarworld-xMm23vU8_og.webm (pass -k to keep)\n"
     ]
    },
    {
     "name": "stderr",
     "output_type": "stream",
     "text": [
      " 67%|██████▋   | 10/15 [29:32<14:14, 170.93s/it]"
     ]
    },
    {
     "name": "stdout",
     "output_type": "stream",
     "text": [
      "[youtube] TzfCaQ8vUMc: Downloading webpage\n",
      "[download] Destination: The Fashion Weak Podcast Ep 20 - Couple Goals With Maggy Wang & Jobroseph-TzfCaQ8vUMc.m4a\n",
      "[download]  94.4% of 76.56MiB at  5.23MiB/s ETA 00:009nown ETADeleting original file Does JianHao Deserve All The Hate _ IMO Ep.13--L7y6_6Ar4s.webm (pass -k to keep)\n",
      "[download]  99.6% of 76.56MiB at  4.89MiB/s ETA 00:00"
     ]
    },
    {
     "name": "stderr",
     "output_type": "stream",
     "text": [
      " 53%|█████▎    | 8/15 [29:45<23:17, 199.60s/it]"
     ]
    },
    {
     "name": "stdout",
     "output_type": "stream",
     "text": [
      "[download] 100% of 76.56MiB in 00:1197MiB/s ETA 00:00\n",
      "[youtube] vKpmE4ZFnGE: Downloading webpage\n",
      "[ffmpeg] Correcting container in \"The Fashion Weak Podcast Ep 20 - Couple Goals With Maggy Wang & Jobroseph-TzfCaQ8vUMc.m4a\"\n",
      "[youtube] vKpmE4ZFnGE: Downloading MPD manifest\n",
      "[ffmpeg] Destination: The Fashion Weak Podcast Ep 20 - Couple Goals With Maggy Wang & Jobroseph-TzfCaQ8vUMc.mp3\n",
      "[dashsegments] Total fragments: 456\n",
      "[download] Destination: Make Insurance Sexy Again + Best Advice to Financial Advisors _ Singaporean Podcast #19 _ Leslie Koh-vKpmE4ZFnGE.webm\n",
      "[download]  17.5% of ~68.36MiB at  1.27MiB/s ETA 01:38809:48Deleting original file Mamak Sessions Podcast - How Do You Handle Long Distance Relationships Do they WORK-m7mwwtsblIs.webm (pass -k to keep)\n"
     ]
    },
    {
     "name": "stderr",
     "output_type": "stream",
     "text": [
      " 67%|██████▋   | 10/15 [30:10<12:33, 150.68s/it]"
     ]
    },
    {
     "name": "stdout",
     "output_type": "stream",
     "text": [
      "[youtube] sT3vpK8npYk: Downloading webpage\n",
      "[download]  18.9% of ~68.61MiB at 412.39KiB/s ETA 01:38[youtube] sT3vpK8npYk: Downloading MPD manifest\n",
      "[download]  19.7% of ~68.61MiB at 194.34KiB/s ETA 01:366[dashsegments] Total fragments: 244\n",
      "[download]  19.8% of ~68.61MiB at 292.12KiB/s ETA 01:36[download] Destination: How to Build Meaningful Relationships with Big Clients _ Singaporean Podcast #26 _ Jeremiah Su-sT3vpK8npYk.webm\n",
      "[download]  23.0% of ~35.74MiB at  1.34MiB/s ETA 00:39065105Deleting original file The Fashion Weak Podcast Ep 29 - Valentines Day With Becca Lee and Leonard Chua-UWm1ESejkzs.m4a (pass -k to keep)\n",
      "[download]  23.0% of ~35.76MiB at 379.16KiB/s ETA 00:40"
     ]
    },
    {
     "name": "stderr",
     "output_type": "stream",
     "text": [
      " 60%|██████    | 9/15 [30:25<17:09, 171.57s/it]"
     ]
    },
    {
     "name": "stdout",
     "output_type": "stream",
     "text": [
      "[download]  23.4% of ~35.76MiB at  1.19MiB/s ETA 00:399[youtube] Jw7B8efygWI: Downloading webpage\n",
      "[download]  30.8% of ~68.52MiB at 773.75KiB/s ETA 01:247[download] Destination: Burning Hot Fever! 4 Doctors Tried To Save Me In The Hospital! _ The Thirsty Sisters #6-Jw7B8efygWI.m4a\n",
      "[download] 100% of 36.98MiB in 00:02.08MiB/s ETA 00:3434wn ETA\n",
      "[download]  32.6% of ~68.55MiB at  1.35MiB/s ETA 01:233[ffmpeg] Correcting container in \"Burning Hot Fever! 4 Doctors Tried To Save Me In The Hospital! _ The Thirsty Sisters #6-Jw7B8efygWI.m4a\"\n",
      "[download]  34.4% of ~68.52MiB at 994.08KiB/s ETA 01:201[ffmpeg] Destination: Burning Hot Fever! 4 Doctors Tried To Save Me In The Hospital! _ The Thirsty Sisters #6-Jw7B8efygWI.mp3\n",
      "[download]  39.3% of ~35.73MiB at  1.36MiB/s ETA 00:3000Deleting original file Improving The Migrant Worker Situation Beyond COVID-19 (ft. Subhas Nair) _ IMO Ep.15-C3U2AtbBjHY.webm (pass -k to keep)\n",
      "[download]  39.3% of ~35.73MiB at 265.51KiB/s ETA 00:30"
     ]
    },
    {
     "name": "stderr",
     "output_type": "stream",
     "text": [
      " 47%|████▋     | 7/15 [30:33<32:34, 244.32s/it]"
     ]
    },
    {
     "name": "stdout",
     "output_type": "stream",
     "text": [
      "[download]  35.3% of ~68.51MiB at 1008.64KiB/s ETA 01:19[youtube] -mAdHcMGmEs: Downloading webpage\n",
      "[download]  36.9% of ~68.40MiB at 423.12KiB/s ETA 01:177[download] Destination: Mamak Sessions Ep13 - Game Of Thrones Is OVER! Malaysian Accent is sexy!--mAdHcMGmEs.webm\n",
      "[download] 100% of 36.22MiB in 00:029.46KiB/s ETA 01:17own ETA\n",
      "[download]  49.1% of ~35.77MiB at  1.06MiB/s ETA 00:255[ffmpeg] Destination: Mamak Sessions Ep13 - Game Of Thrones Is OVER! Malaysian Accent is sexy!--mAdHcMGmEs.mp3\n",
      "[download]  77.1% of ~35.83MiB at 992.75KiB/s ETA 00:113Deleting original file The Fashion Weak Podcast Ep35 - Is New Balance Cool Now Talking everything NOT Nike with @adlysyairi-3b0bYe36KNE.m4a (pass -k to keep)\n",
      "[download]  77.2% of ~35.83MiB at 881.81KiB/s ETA 00:11"
     ]
    },
    {
     "name": "stderr",
     "output_type": "stream",
     "text": [
      " 47%|████▋     | 7/15 [30:51<33:55, 254.39s/it]"
     ]
    },
    {
     "name": "stdout",
     "output_type": "stream",
     "text": [
      "[download]  77.5% of ~35.82MiB at 133.83KiB/s ETA 00:10[youtube] NZXHVJEkxm8: Downloading webpage\n",
      "[download]  80.4% of ~35.83MiB at  1.32MiB/s ETA 00:090[download] Destination: JianHao On The Hate and Singapore YouTube Scene (ft. JianHao Tan) _ IMO Ep.14-NZXHVJEkxm8.webm\n",
      "[download] 100% of 51.26MiB in 00:03.13MiB/s ETA 00:066own ETA\n",
      "[download]  54.0% of ~67.98MiB at 81.90KiB/s ETA 00:57[ffmpeg] Destination: JianHao On The Hate and Singapore YouTube Scene (ft. JianHao Tan) _ IMO Ep.14-NZXHVJEkxm8.mp3\n",
      "[download] 100% of 35.63MiB in 00:493.25KiB/s ETA 00:000\n",
      "[download]  59.4% of ~68.01MiB at  1.56MiB/s ETA 00:500[ffmpeg] Destination: How to Build Meaningful Relationships with Big Clients _ Singaporean Podcast #26 _ Jeremiah Su-sT3vpK8npYk.mp3\n",
      "[download] 100% of 67.67MiB in 02:035.28KiB/s ETA 00:001\n",
      "[ffmpeg] Destination: Make Insurance Sexy Again + Best Advice to Financial Advisors _ Singaporean Podcast #19 _ Leslie Koh-vKpmE4ZFnGE.mp3\n",
      "Deleting original file Priorities as University Graduates and The MALAYSIA Hustle _ Singaporean Podcast #12 _ Zhi Rong-TYL7mmbpsbo.webm (pass -k to keep)\n"
     ]
    },
    {
     "name": "stderr",
     "output_type": "stream",
     "text": [
      " 60%|██████    | 9/15 [32:16<22:54, 229.03s/it]"
     ]
    },
    {
     "name": "stdout",
     "output_type": "stream",
     "text": [
      "[youtube] 8DMyfcjyrZQ: Downloading webpage\n",
      "[download] Destination: Being A Single Divorced Woman At 32 _ The Thirsty Sisters #11-8DMyfcjyrZQ.m4a\n",
      "[download] 100% of 45.79MiB in 00:0204MiB/s ETA 00:001nown ETA\n",
      "[ffmpeg] Correcting container in \"Being A Single Divorced Woman At 32 _ The Thirsty Sisters #11-8DMyfcjyrZQ.m4a\"\n",
      "Deleting original file Burning Hot Fever! 4 Doctors Tried To Save Me In The Hospital! _ The Thirsty Sisters #6-Jw7B8efygWI.m4a (pass -k to keep)\n"
     ]
    },
    {
     "name": "stderr",
     "output_type": "stream",
     "text": [
      " 67%|██████▋   | 10/15 [32:21<12:54, 154.97s/it]"
     ]
    },
    {
     "name": "stdout",
     "output_type": "stream",
     "text": [
      "[youtube] XMx9tqwzQS4: Downloading webpage\n",
      "[ffmpeg] Destination: Being A Single Divorced Woman At 32 _ The Thirsty Sisters #11-8DMyfcjyrZQ.mp3\n",
      "[download] Destination: Mamak Sessions - Body Shaming Will Land You In Jail-XMx9tqwzQS4.webm\n",
      "[download] 100% of 29.60MiB in 00:0277MiB/s ETA 00:000nown ETA\n",
      "[ffmpeg] Destination: Mamak Sessions - Body Shaming Will Land You In Jail-XMx9tqwzQS4.mp3\n",
      "Deleting original file The Fashion Weak Podcast Ep 15 - Underwear Sneakers & Fruits With @OhZooey-HDuY9UdkkaE.webm (pass -k to keep)\n"
     ]
    },
    {
     "name": "stderr",
     "output_type": "stream",
     "text": [
      " 60%|██████    | 9/15 [32:29<21:25, 214.18s/it]"
     ]
    },
    {
     "name": "stdout",
     "output_type": "stream",
     "text": [
      "[youtube] FNfbmh93DFo: Downloading webpage\n",
      "[download] Destination: Mamak Sessions Podcast - A Dog Was Slashed In The Mouth And Abused, But This Kind Soul Saved It-FNfbmh93DFo.webm\n",
      "[download] 100% of 51.52MiB in 00:0431MiB/s ETA 00:002nown ETA\n",
      "[ffmpeg] Destination: Mamak Sessions Podcast - A Dog Was Slashed In The Mouth And Abused, But This Kind Soul Saved It-FNfbmh93DFo.mp3\n",
      "Deleting original file Life as a Political Candidate with the Progress Singapore Party _ Terence Soon _ Singaporean Podcast-3mt-_JgTm2E.webm (pass -k to keep)\n"
     ]
    },
    {
     "name": "stderr",
     "output_type": "stream",
     "text": [
      " 60%|██████    | 9/15 [32:52<20:26, 204.41s/it]"
     ]
    },
    {
     "name": "stdout",
     "output_type": "stream",
     "text": [
      "[youtube] LsV8tnGSPEQ: Downloading webpage\n",
      "[download] Destination: OKLETSGO - Misogyny And Cancel Culture _ IMO Ep.21-LsV8tnGSPEQ.webm\n",
      "[download] 100% of 45.49MiB in 00:0387MiB/s ETA 00:006nown ETA\n",
      "[ffmpeg] Destination: OKLETSGO - Misogyny And Cancel Culture _ IMO Ep.21-LsV8tnGSPEQ.mp3\n",
      "Deleting original file Mamak Sessions Ep13 - Game Of Thrones Is OVER! Malaysian Accent is sexy!--mAdHcMGmEs.webm (pass -k to keep)\n"
     ]
    },
    {
     "name": "stderr",
     "output_type": "stream",
     "text": [
      " 53%|█████▎    | 8/15 [33:18<25:45, 220.73s/it]"
     ]
    },
    {
     "name": "stdout",
     "output_type": "stream",
     "text": [
      "[youtube] -2d7wzvNOCE: Downloading webpage\n",
      "[youtube] -2d7wzvNOCE: Downloading MPD manifest\n",
      "[dashsegments] Total fragments: 835\n",
      "[download] Destination: Why Blockchain & Crypo Matters _ Singaporean Podcast #15 _ Royal Pek--2d7wzvNOCE.webm\n",
      "[download]   3.5% of ~115.63MiB at 621.45KiB/s ETA 05:518612Deleting original file The Fashion Weak Podcast Ep 20 - Couple Goals With Maggy Wang & Jobroseph-TzfCaQ8vUMc.m4a (pass -k to keep)\n"
     ]
    },
    {
     "name": "stderr",
     "output_type": "stream",
     "text": [
      " 73%|███████▎  | 11/15 [33:35<12:50, 192.57s/it]"
     ]
    },
    {
     "name": "stdout",
     "output_type": "stream",
     "text": [
      "[download]   3.5% of ~115.70MiB at 621.45KiB/s ETA 05:59[youtube] T218uk6pi4E: Downloading webpage\n",
      "[download]   4.0% of ~115.92MiB at 954.33KiB/s ETA 05:478[download] Destination: Should NS Be Abolished _ IMO Ep.27-T218uk6pi4E.webm\n",
      "[download]   4.6% of ~116.90MiB at  1.23MiB/s ETA 05:449wn ETADeleting original file How to Build Meaningful Relationships with Big Clients _ Singaporean Podcast #26 _ Jeremiah Su-sT3vpK8npYk.webm (pass -k to keep)\n",
      "[download]  61.5% of 47.11MiB at 198.98KiB/s ETA 01:33nown ETA"
     ]
    },
    {
     "name": "stderr",
     "output_type": "stream",
     "text": [
      " 73%|███████▎  | 11/15 [33:38<11:11, 167.94s/it]"
     ]
    },
    {
     "name": "stdout",
     "output_type": "stream",
     "text": [
      "[download]  62.0% of 47.11MiB at  1.92MiB/s ETA 00:098[youtube] skGDf57Q9xs: Downloading webpage\n",
      "[download] 100% of 47.11MiB in 00:031.08MiB/s ETA 05:509wn ETA\n",
      "[download]   4.8% of ~117.06MiB at 187.08KiB/s ETA 05:50[ffmpeg] Destination: Should NS Be Abolished _ IMO Ep.27-T218uk6pi4E.mp3\n",
      "[download]   5.0% of ~116.98MiB at 810.21KiB/s ETA 05:44[download] Destination: Mamak Sessions - Are We Safe From The Wuhan Virus and Are Spiritual Healers Scammers-skGDf57Q9xs.webm\n",
      "[download] 100% of 47.70MiB in 00:0370MiB/s ETA 00:00404wn ETA\n",
      "[ffmpeg] Destination: Mamak Sessions - Are We Safe From The Wuhan Virus and Are Spiritual Healers Scammers-skGDf57Q9xs.mp3\n",
      "[download]   7.5% of ~118.02MiB at 956.92KiB/s ETA 05:326Deleting original file 8 Wheels Vs 4 Wheels With Sukeats From Wheel Love - The Fashion Weak Podcast ep 12-fgaCmnMdZ0c.webm (pass -k to keep)\n",
      "[download]   7.5% of ~118.02MiB at 967.53KiB/s ETA 05:31"
     ]
    },
    {
     "name": "stderr",
     "output_type": "stream",
     "text": [
      " 60%|██████    | 9/15 [33:49<23:15, 232.50s/it]"
     ]
    },
    {
     "name": "stdout",
     "output_type": "stream",
     "text": [
      "[download]   7.5% of ~118.02MiB at 967.53KiB/s ETA 05:31[youtube] PazCOj1nb3c: Downloading webpage\n",
      "[download]   8.1% of ~118.17MiB at  1.20MiB/s ETA 05:2803[download] Destination: Mamak Sessions - The Miss World Crown is more than $4,000,000!-PazCOj1nb3c.webm\n",
      "[download] 100% of 35.84MiB in 00:0227MiB/s ETA 00:00302wn ETA\n",
      "[ffmpeg] Destination: Mamak Sessions - The Miss World Crown is more than $4,000,000!-PazCOj1nb3c.mp3\n",
      "[download]  19.9% of ~118.14MiB at 917.62KiB/s ETA 04:511Deleting original file Being A Single Divorced Woman At 32 _ The Thirsty Sisters #11-8DMyfcjyrZQ.m4a (pass -k to keep)\n",
      "[download]  19.9% of ~118.14MiB at 917.62KiB/s ETA 04:51"
     ]
    },
    {
     "name": "stderr",
     "output_type": "stream",
     "text": [
      " 67%|██████▋   | 10/15 [34:34<16:48, 201.72s/it]"
     ]
    },
    {
     "name": "stdout",
     "output_type": "stream",
     "text": [
      "Deleting original file Mamak Sessions - Body Shaming Will Land You In Jail-XMx9tqwzQS4.webm (pass -k to keep)\n"
     ]
    },
    {
     "name": "stderr",
     "output_type": "stream",
     "text": [
      " 73%|███████▎  | 11/15 [34:34<09:53, 148.42s/it]"
     ]
    },
    {
     "name": "stdout",
     "output_type": "stream",
     "text": [
      "[youtube] MCHDyLJDJrg: Downloading webpage\n",
      "[youtube] kbOrRjEDnDU: Downloading webpage\n",
      "[download]  20.3% of ~118.09MiB at 715.96KiB/s ETA 04:50[download] Destination: The Fashion Weak Podcast Ep 46 - Premium Thirst Trap Tips With Michelle Lee (@mich8lee)-MCHDyLJDJrg.webm\n",
      "[download]   0.0% of 86.22MiB at 140.52KiB/s ETA 10:28[download] Destination: How To Improve Singapore's Mental Health (ft. Psychology Professor Andy Ho) _ IMO Ep.6-kbOrRjEDnDU.m4a\n",
      "[download]  74.7% of 26.46MiB at Unknown speed ETA Unknown ETADeleting original file JianHao On The Hate and Singapore YouTube Scene (ft. JianHao Tan) _ IMO Ep.14-NZXHVJEkxm8.webm (pass -k to keep)\n",
      "[download]  22.6% of 86.22MiB at Unknown speed ETA Unknown ETA"
     ]
    },
    {
     "name": "stderr",
     "output_type": "stream",
     "text": [
      " 53%|█████▎    | 8/15 [34:37<28:42, 246.09s/it]"
     ]
    },
    {
     "name": "stdout",
     "output_type": "stream",
     "text": [
      "[download]  22.9% of 86.22MiB at  2.07MiB/s ETA 00:32:50[youtube] ONUgGzCm00E: Downloading webpage\n",
      "[download] 100% of 26.46MiB in 00:0289MiB/s ETA 00:00:51\n",
      "[download]  31.9% of 86.22MiB at 13.01MiB/s ETA 00:04490[ffmpeg] Correcting container in \"How To Improve Singapore's Mental Health (ft. Psychology Professor Andy Ho) _ IMO Ep.6-kbOrRjEDnDU.m4a\"\n",
      "[download]  50.0% of 86.22MiB at 11.61MiB/s ETA 00:034:47n ETA[ffmpeg] Destination: How To Improve Singapore's Mental Health (ft. Psychology Professor Andy Ho) _ IMO Ep.6-kbOrRjEDnDU.mp3\n",
      "[youtube] ONUgGzCm00E: Downloading MPD manifest\n",
      "[download]  21.4% of ~118.00MiB at  1.17MiB/s ETA 04:478wn ETA[dashsegments] Total fragments: 293\n",
      "[download] Destination: Life After NUS Business School in the FMCG Industry _ Singaporean Podcast #4_ Leonard Yap-ONUgGzCm00E.webm\n",
      "[download] 100% of 86.22MiB in 00:0687MiB/s ETA 00:00025wn ETA\n",
      "[download]   3.1% of ~37.64MiB at 930.40KiB/s ETA 01:02[ffmpeg] Destination: The Fashion Weak Podcast Ep 46 - Premium Thirst Trap Tips With Michelle Lee (@mich8lee)-MCHDyLJDJrg.mp3\n",
      "[download]  26.4% of ~117.92MiB at 101.11KiB/s ETA 04:295Deleting original file How to Find a Fulfilling Career & Deal with Self-Judgement _ Singaporean Podcast #24 _ Khye Chan-LXSNbZF9ag4.webm (pass -k to keep)\n",
      "[download]  26.5% of ~117.92MiB at 995.63KiB/s ETA 04:28"
     ]
    },
    {
     "name": "stderr",
     "output_type": "stream",
     "text": [
      " 53%|█████▎    | 8/15 [34:59<36:34, 313.46s/it]"
     ]
    },
    {
     "name": "stdout",
     "output_type": "stream",
     "text": [
      "[download]  26.5% of ~117.92MiB at 995.63KiB/s ETA 04:28[youtube] cSxV6oacgaE: Downloading webpage\n",
      "[download]  14.3% of ~40.74MiB at 959.83KiB/s ETA 02:0177[youtube] cSxV6oacgaE: Downloading MPD manifest\n",
      "[download]  27.2% of ~117.81MiB at 761.57KiB/s ETA 04:26[dashsegments] Total fragments: 407\n",
      "[download]  27.3% of ~117.81MiB at  1.09MiB/s ETA 04:25[download] Destination: Why Enneagram Will Change Your Perspective On ALL Relationships Forever _ Cindy Leong _ SG Podcast-cSxV6oacgaE.webm\n",
      "[download]  12.3% of ~59.12MiB at  1.07MiB/s ETA 01:055502Deleting original file Burnout in the Media Industry + Passion in Theatre  _ Singaporean Podcast #16 _ Rennes Lee-f7qEqPNzGk8.webm (pass -k to keep)\n",
      "[download]  20.3% of ~40.37MiB at 889.25KiB/s ETA 02:00"
     ]
    },
    {
     "name": "stderr",
     "output_type": "stream",
     "text": [
      " 60%|██████    | 9/15 [35:11<32:58, 329.75s/it]"
     ]
    },
    {
     "name": "stdout",
     "output_type": "stream",
     "text": [
      "[download]  12.6% of ~59.11MiB at 475.49KiB/s ETA 01:056[youtube] lfoBmafO37A: Downloading webpage\n",
      "[download]  21.2% of ~40.34MiB at 126.20KiB/s ETA 01:593[download] Destination: Tips For First Job-ers _ IMO Ep.31-lfoBmafO37A.webm\n",
      "[download] 100% of 33.83MiB in 00:0213.91KiB/s ETA 04:13wn ETA\n",
      "[download]  17.7% of ~58.98MiB at 672.46KiB/s ETA 01:022[ffmpeg] Destination: Tips For First Job-ers _ IMO Ep.31-lfoBmafO37A.mp3\n",
      "[download]  87.7% of ~57.82MiB at  1.08MiB/s ETA 00:09987Deleting original file OKLETSGO - Misogyny And Cancel Culture _ IMO Ep.21-LsV8tnGSPEQ.webm (pass -k to keep)\n",
      "[download]  46.7% of ~117.42MiB at 144.86KiB/s ETA 03:12"
     ]
    },
    {
     "name": "stderr",
     "output_type": "stream",
     "text": [
      " 67%|██████▋   | 10/15 [36:10<16:53, 202.72s/it]"
     ]
    },
    {
     "name": "stdout",
     "output_type": "stream",
     "text": [
      "[download]  88.0% of ~57.82MiB at  1.05MiB/s ETA 00:0909[youtube] WJkSAHvYyqk: Downloading webpage\n",
      "[download]  88.2% of ~57.83MiB at 301.69KiB/s ETA 00:091Deleting original file How To Improve Singapore's Mental Health (ft. Psychology Professor Andy Ho) _ IMO Ep.6-kbOrRjEDnDU.m4a (pass -k to keep)\n"
     ]
    },
    {
     "name": "stderr",
     "output_type": "stream",
     "text": [
      " 80%|████████  | 12/15 [36:11<06:38, 132.84s/it]"
     ]
    },
    {
     "name": "stdout",
     "output_type": "stream",
     "text": [
      "[download]  88.5% of ~57.83MiB at 517.24KiB/s ETA 00:091[youtube] lPnRg9UsP0M: Downloading webpage\n",
      "[download]  90.4% of ~57.82MiB at 990.88KiB/s ETA 00:0700[download] Destination: The Fashion Weak Podcast Ep 38 - TikTok Royalty Roshan Jeet aka Roshannnn1-lPnRg9UsP0M.webm\n",
      "[download] Destination: Mamak Sessions - Do You Check Your Partner's Text Messages Featuring Lizz Chloe-WJkSAHvYyqk.webm\n",
      "[download] 100% of 54.22MiB in 00:051.61KiB/s ETA 01:134wn ETA\n",
      "[download]  97.3% of ~57.72MiB at 215.44KiB/s ETA 00:02[ffmpeg] Destination: Mamak Sessions - Do You Check Your Partner's Text Messages Featuring Lizz Chloe-WJkSAHvYyqk.mp3\n",
      "Deleting original file Mamak Sessions Podcast - A Dog Was Slashed In The Mouth And Abused, But This Kind Soul Saved It-FNfbmh93DFo.webm (pass -k to keep)\n",
      "[download]  97.4% of ~57.72MiB at 520.90KiB/s ETA 00:02"
     ]
    },
    {
     "name": "stderr",
     "output_type": "stream",
     "text": [
      " 67%|██████▋   | 10/15 [36:17<18:11, 218.33s/it]"
     ]
    },
    {
     "name": "stdout",
     "output_type": "stream",
     "text": [
      "[download]  97.6% of ~57.71MiB at  1.07MiB/s ETA 00:011own ETA[youtube] vshZhU5dbto: Downloading webpage\n",
      "[download] 100% of 91.08MiB in 00:064.67KiB/s ETA 00:003wn ETA\n",
      "[download]  49.2% of ~117.50MiB at  1.44MiB/s ETA 03:022[ffmpeg] Destination: The Fashion Weak Podcast Ep 38 - TikTok Royalty Roshan Jeet aka Roshannnn1-lPnRg9UsP0M.mp3\n",
      "[download] 100% of 57.63MiB in 01:17.85MiB/s ETA 00:000\n",
      "[ffmpeg] Destination: Why Enneagram Will Change Your Perspective On ALL Relationships Forever _ Cindy Leong _ SG Podcast-cSxV6oacgaE.mp3\n",
      "[download]  58.0% of ~39.73MiB at  1.11MiB/s ETA 01:11"
     ]
    },
    {
     "name": "stderr",
     "output_type": "stream",
     "text": [
      "ERROR: vshZhU5dbto: YouTube said: Unable to extract video data\n"
     ]
    },
    {
     "name": "stdout",
     "output_type": "stream",
     "text": [
      "[download]  58.0% of ~39.73MiB at 232.68KiB/s ETA 01:11"
     ]
    },
    {
     "name": "stderr",
     "output_type": "stream",
     "text": [
      " 73%|███████▎  | 11/15 [36:19<10:13, 153.30s/it]"
     ]
    },
    {
     "name": "stdout",
     "output_type": "stream",
     "text": [
      "[download]  58.4% of ~39.73MiB at  1.45MiB/s ETA 01:102[youtube] CXnW4hJDp54: Downloading webpage\n",
      "[download]  59.2% of ~39.74MiB at 897.46KiB/s ETA 01:0912[download] Destination: Mamak Sessions - 'Chinese Whispers'-CXnW4hJDp54.webm\n",
      "[download] 100% of 52.76MiB in 00:0358.58KiB/s ETA 02:56wn ETA\n",
      "[download]  50.9% of ~117.42MiB at  2.72MiB/s ETA 02:556[ffmpeg] Destination: Mamak Sessions - 'Chinese Whispers'-CXnW4hJDp54.mp3\n",
      "[download]  51.7% of ~117.38MiB at 975.12KiB/s ETA 02:52Deleting original file Mamak Sessions - The Miss World Crown is more than $4,000,000!-PazCOj1nb3c.webm (pass -k to keep)\n",
      "[download]  51.7% of ~117.38MiB at  1.53MiB/s ETA 02:52"
     ]
    },
    {
     "name": "stderr",
     "output_type": "stream",
     "text": [
      " 67%|██████▋   | 10/15 [36:26<17:29, 209.91s/it]"
     ]
    },
    {
     "name": "stdout",
     "output_type": "stream",
     "text": [
      "[download]  51.7% of ~117.38MiB at  1.44MiB/s ETA 02:51[youtube] 7_-4TXv6pvY: Downloading webpage\n",
      "[download]  51.9% of ~117.38MiB at  2.48MiB/s ETA 02:512Deleting original file Make Insurance Sexy Again + Best Advice to Financial Advisors _ Singaporean Podcast #19 _ Leslie Koh-vKpmE4ZFnGE.webm (pass -k to keep)\n"
     ]
    },
    {
     "name": "stderr",
     "output_type": "stream",
     "text": [
      " 60%|██████    | 9/15 [36:27<26:01, 260.25s/it]"
     ]
    },
    {
     "name": "stdout",
     "output_type": "stream",
     "text": [
      "[youtube] 670FyeJhnps: Downloading webpage\n",
      "[download]  52.3% of ~117.38MiB at  1.87MiB/s ETA 02:499[download] Destination: Elitism In Singapore Schools _ IMO Ep.33-7_-4TXv6pvY.webm\n",
      "[download]  52.6% of ~117.39MiB at  2.94MiB/s ETA 02:488[download] Destination: Mamak Sessions Ep9 - Sibling Rivalry ft Julian Yee-670FyeJhnps.webm\n",
      "[download] 100% of 39.03MiB in 00:02.85KiB/s ETA 00:457own ETA\n",
      "[download]  71.8% of 41.22MiB at 507.82KiB/s ETA 00:2346[ffmpeg] Destination: Elitism In Singapore Schools _ IMO Ep.33-7_-4TXv6pvY.mp3\n",
      "[download] 100% of 41.22MiB in 00:0308MiB/s ETA 00:0044own ETA\n",
      "[ffmpeg] Destination: Mamak Sessions Ep9 - Sibling Rivalry ft Julian Yee-670FyeJhnps.mp3\n",
      "[download]  57.1% of ~117.22MiB at  9.53MiB/s ETA 02:282Deleting original file Mamak Sessions - Are We Safe From The Wuhan Virus and Are Spiritual Healers Scammers-skGDf57Q9xs.webm (pass -k to keep)\n"
     ]
    },
    {
     "name": "stderr",
     "output_type": "stream",
     "text": [
      " 80%|████████  | 12/15 [36:40<08:36, 172.15s/it]"
     ]
    },
    {
     "name": "stdout",
     "output_type": "stream",
     "text": [
      "[youtube] FFtFXiIgsyk: Downloading webpage\n",
      "[download]  57.8% of ~117.23MiB at  9.40MiB/s ETA 02:25[download] Destination: Mamak Sessions - Airing Dirty Laundry Online and Social Justice Warriors-FFtFXiIgsyk.webm\n",
      "[download]  57.9% of ~117.24MiB at  8.18MiB/s ETA 02:255Deleting original file Should NS Be Abolished _ IMO Ep.27-T218uk6pi4E.webm (pass -k to keep)\n",
      "[download]   1.5% of 34.16MiB at 16.98MiB/s ETA 00:0125"
     ]
    },
    {
     "name": "stderr",
     "output_type": "stream",
     "text": [
      " 80%|████████  | 12/15 [36:42<09:32, 191.00s/it]"
     ]
    },
    {
     "name": "stdout",
     "output_type": "stream",
     "text": [
      "[download]  74.2% of ~39.67MiB at  2.71MiB/s ETA 00:42[youtube] 0jySfrZhs50: Downloading webpage\n",
      "[download] 100% of 34.16MiB in 00:0153MiB/s ETA 00:00234wn ETA\n",
      "[ffmpeg] Destination: Mamak Sessions - Airing Dirty Laundry Online and Social Justice Warriors-FFtFXiIgsyk.mp3\n",
      "[download]  58.6% of ~117.23MiB at 10.95MiB/s ETA 02:22[download] Destination: Mamak Sessions - Our Differences Is What Unites Us ft. Elvin Romeo-0jySfrZhs50.webm\n",
      "[download] 100% of 27.19MiB in 00:0187MiB/s ETA 00:00911wn ETA\n",
      "[ffmpeg] Destination: Mamak Sessions - Our Differences Is What Unites Us ft. Elvin Romeo-0jySfrZhs50.mp3\n",
      "[download]  63.6% of ~117.02MiB at  9.42MiB/s ETA 02:023Deleting original file Tips For First Job-ers _ IMO Ep.31-lfoBmafO37A.webm (pass -k to keep)\n"
     ]
    },
    {
     "name": "stderr",
     "output_type": "stream",
     "text": [
      " 67%|██████▋   | 10/15 [36:56<21:51, 262.29s/it]"
     ]
    },
    {
     "name": "stdout",
     "output_type": "stream",
     "text": [
      "[youtube] 3-DoQSmz5aI: Downloading webpage\n",
      "[download]  64.4% of ~117.05MiB at  1.64MiB/s ETA 01:599[download] Destination: I Dated A Guy Twice My Age Our First Date Don'ts _ The Thirsty Sisters #19-3-DoQSmz5aI.m4a\n",
      "[download] 100% of 35.15MiB in 00:0139MiB/s ETA 00:00:57wn ETA\n",
      "[ffmpeg] Correcting container in \"I Dated A Guy Twice My Age Our First Date Don'ts _ The Thirsty Sisters #19-3-DoQSmz5aI.m4a\"\n",
      "[download]  65.1% of ~117.05MiB at  8.38MiB/s ETA 01:5656[ffmpeg] Destination: I Dated A Guy Twice My Age Our First Date Don'ts _ The Thirsty Sisters #19-3-DoQSmz5aI.mp3\n",
      "[download]  87.0% of ~39.64MiB at  2.18MiB/s ETA 00:2056"
     ]
    },
    {
     "name": "stderr",
     "output_type": "stream",
     "text": [
      "ERROR: giving up after 0 retries\n"
     ]
    },
    {
     "name": "stdout",
     "output_type": "stream",
     "text": [
      "[download] Skipping fragment 256...\n",
      "[download] 100% of 39.32MiB in 02:35.37MiB/s ETA 00:0091\n",
      "[download]  72.3% of ~117.08MiB at 10.91MiB/s ETA 01:29[ffmpeg] Destination: Life After NUS Business School in the FMCG Industry _ Singaporean Podcast #4_ Leonard Yap-ONUgGzCm00E.mp3\n",
      "[download]  76.9% of ~117.16MiB at  9.78MiB/s ETA 01:137Deleting original file Mamak Sessions - Our Differences Is What Unites Us ft. Elvin Romeo-0jySfrZhs50.webm (pass -k to keep)\n"
     ]
    },
    {
     "name": "stderr",
     "output_type": "stream",
     "text": [
      " 87%|████████▋ | 13/15 [37:26<04:54, 147.00s/it]"
     ]
    },
    {
     "name": "stdout",
     "output_type": "stream",
     "text": [
      "[youtube] O19y2ZG8Y-k: Downloading webpage\n",
      "[download]  77.7% of ~117.09MiB at 10.49MiB/s ETA 01:10[download] Destination: Mamak Sessions - How Bryan Loo Created His Bubble Tea Empire-O19y2ZG8Y-k.webm\n",
      "[download]  72.6% of 41.68MiB at 19.96MiB/s ETA 00:00known ETADeleting original file Elitism In Singapore Schools _ IMO Ep.33-7_-4TXv6pvY.webm (pass -k to keep)\n"
     ]
    },
    {
     "name": "stderr",
     "output_type": "stream",
     "text": [
      " 73%|███████▎  | 11/15 [37:30<11:03, 165.96s/it]"
     ]
    },
    {
     "name": "stdout",
     "output_type": "stream",
     "text": [
      "[download]  75.0% of 41.68MiB at 22.69MiB/s ETA 00:00[youtube] 8QNgzWcc7U4: Downloading webpage\n",
      "[download] 100% of 41.68MiB in 00:0238MiB/s ETA 00:0007own ETA\n",
      "[ffmpeg] Destination: Mamak Sessions - How Bryan Loo Created His Bubble Tea Empire-O19y2ZG8Y-k.mp3\n",
      "[download]  78.9% of ~117.09MiB at 10.13MiB/s ETA 01:067[youtube] 8QNgzWcc7U4: Downloading MPD manifest\n",
      "[download]  79.3% of ~117.08MiB at  9.09MiB/s ETA 01:05[dashsegments] Total fragments: 352\n",
      "[download] Destination: Why NUS Business School + Unilever & P&G Case Competitions _ Singaporean Podcast #22 _ Sherrine Fu-8QNgzWcc7U4.webm\n",
      "[download]  79.7% of ~117.05MiB at  6.15MiB/s ETA 01:0327Deleting original file Mamak Sessions Ep9 - Sibling Rivalry ft Julian Yee-670FyeJhnps.webm (pass -k to keep)\n",
      "[download]   7.7% of ~49.34MiB at 11.63MiB/s ETA 00:113"
     ]
    },
    {
     "name": "stderr",
     "output_type": "stream",
     "text": [
      " 67%|██████▋   | 10/15 [37:33<16:50, 202.04s/it]"
     ]
    },
    {
     "name": "stdout",
     "output_type": "stream",
     "text": [
      "[download]   8.0% of ~49.37MiB at 12.74MiB/s ETA 00:11[youtube] l6bf4RFE31o: Downloading webpage\n",
      "[download]  13.4% of ~48.55MiB at  3.19MiB/s ETA 00:102Deleting original file Mamak Sessions - Airing Dirty Laundry Online and Social Justice Warriors-FFtFXiIgsyk.webm (pass -k to keep)\n",
      "[download]  13.6% of ~48.55MiB at 12.11MiB/s ETA 00:10"
     ]
    },
    {
     "name": "stderr",
     "output_type": "stream",
     "text": [
      " 87%|████████▋ | 13/15 [37:33<04:32, 136.44s/it]"
     ]
    },
    {
     "name": "stdout",
     "output_type": "stream",
     "text": [
      "[download]  13.9% of ~48.54MiB at 11.29MiB/s ETA 00:10[youtube] F15a-MH_Hzg: Downloading webpage\n",
      "Deleting original file I Dated A Guy Twice My Age Our First Date Don'ts _ The Thirsty Sisters #19-3-DoQSmz5aI.m4a (pass -k to keep)\n",
      "[download]  14.0% of ~48.54MiB at  5.16MiB/s ETA 00:10"
     ]
    },
    {
     "name": "stderr",
     "output_type": "stream",
     "text": [
      " 73%|███████▎  | 11/15 [37:34<12:59, 194.93s/it]"
     ]
    },
    {
     "name": "stdout",
     "output_type": "stream",
     "text": [
      "[download]  14.5% of ~48.52MiB at 12.09MiB/s ETA 00:09[youtube] x8Gl_zIC9CQ: Downloading webpage\n",
      "[download]  20.6% of ~48.31MiB at  6.70MiB/s ETA 00:092"
     ]
    },
    {
     "name": "stderr",
     "output_type": "stream",
     "text": [
      "ERROR: l6bf4RFE31o: YouTube said: Unable to extract video data\n",
      " 73%|███████▎  | 11/15 [37:34<09:27, 141.84s/it]"
     ]
    },
    {
     "name": "stdout",
     "output_type": "stream",
     "text": [
      "[download]  20.7% of ~48.31MiB at  2.73MiB/s ETA 00:09[youtube] L2W4inT6j3c: Downloading webpage\n",
      "[download]  25.6% of ~48.23MiB at  5.55MiB/s ETA 00:090[download] Destination: Mamak Sessions - Blaming Yourself For Your Parents' Divorce, And How Our Parents Punish Us-x8Gl_zIC9CQ.webm\n",
      "[download]  26.7% of ~48.21MiB at  8.51MiB/s ETA 00:099[download] Destination: Why We Love Our Malay Community! _ The Thirsty Sisters #20-F15a-MH_Hzg.m4a\n",
      "[download]  30.7% of ~48.11MiB at 10.67KiB/s ETA 00:0909wn ETA[download] Destination: Conversations With A Cancer Survivor ft Jared Lee-L2W4inT6j3c.webm\n",
      "[download] 100% of 31.09MiB in 00:0207MiB/s ETA 00:0100own ETA\n",
      "[download]  36.9% of ~48.02MiB at  3.34MiB/s ETA 00:10[ffmpeg] Correcting container in \"Why We Love Our Malay Community! _ The Thirsty Sisters #20-F15a-MH_Hzg.m4a\"\n",
      "[download] 100% of 47.00MiB in 00:0389MiB/s ETA 00:00007\n",
      "[download]  38.2% of ~47.99MiB at  6.88MiB/s ETA 00:100[ffmpeg] Destination: Mamak Sessions - Blaming Yourself For Your Parents' Divorce, And How Our Parents Punish Us-x8Gl_zIC9CQ.mp3\n",
      "[download]  76.3% of 38.09MiB at 15.06MiB/s ETA 00:000[ffmpeg] Destination: Why We Love Our Malay Community! _ The Thirsty Sisters #20-F15a-MH_Hzg.mp3\n",
      "[download] 100% of 38.09MiB in 00:0231MiB/s ETA 00:00066wn ETA\n",
      "[download]  41.2% of ~47.96MiB at 11.48MiB/s ETA 00:10[ffmpeg] Destination: Conversations With A Cancer Survivor ft Jared Lee-L2W4inT6j3c.mp3\n",
      "[download]  84.0% of ~117.01MiB at 11.92MiB/s ETA 00:502Deleting original file Mamak Sessions - Do You Check Your Partner's Text Messages Featuring Lizz Chloe-WJkSAHvYyqk.webm (pass -k to keep)\n"
     ]
    },
    {
     "name": "stderr",
     "output_type": "stream",
     "text": [
      " 73%|███████▎  | 11/15 [37:44<11:19, 169.95s/it]"
     ]
    },
    {
     "name": "stdout",
     "output_type": "stream",
     "text": [
      "[youtube] I2BaN8cm6NY: Downloading webpage\n",
      "[download]  59.9% of ~47.80MiB at 11.22MiB/s ETA 00:088Deleting original file Mamak Sessions - 'Chinese Whispers'-CXnW4hJDp54.webm (pass -k to keep)\n",
      "[download]  59.9% of ~47.81MiB at 11.22MiB/s ETA 00:08"
     ]
    },
    {
     "name": "stderr",
     "output_type": "stream",
     "text": [
      " 80%|████████  | 12/15 [37:44<06:38, 132.91s/it]"
     ]
    },
    {
     "name": "stdout",
     "output_type": "stream",
     "text": [
      "[download]  60.4% of ~47.80MiB at  6.95MiB/s ETA 00:08[youtube] PRN5UrsDF6w: Downloading webpage\n",
      "[download]  63.4% of ~47.79MiB at 12.02MiB/s ETA 00:078[download] Destination: Mamak Sessions - Girls Are Such Complicated Lil Creatures feat. Talitha.-I2BaN8cm6NY.webm\n",
      "[download]  65.9% of ~47.76MiB at 11.93MiB/s ETA 00:076[download] Destination: Mamak Sessions Podcast - Girl Gets Caned For Calling her Teacher 'AH GUA'-PRN5UrsDF6w.webm\n",
      "[download] 100% of 34.25MiB in 00:01.48MiB/s ETA 00:066own ETA\n",
      "[download]  69.4% of ~47.71MiB at  3.47MiB/s ETA 00:06[ffmpeg] Destination: Mamak Sessions - Girls Are Such Complicated Lil Creatures feat. Talitha.-I2BaN8cm6NY.mp3\n",
      "[download]  98.5% of 69.30MiB at 19.01MiB/s ETA 00:00known ETADeleting original file Why Enneagram Will Change Your Perspective On ALL Relationships Forever _ Cindy Leong _ SG Podcast-cSxV6oacgaE.webm (pass -k to keep)\n",
      "[download]  98.9% of 69.30MiB at 20.08MiB/s ETA 00:00"
     ]
    },
    {
     "name": "stderr",
     "output_type": "stream",
     "text": [
      " 60%|██████    | 9/15 [37:51<27:07, 271.20s/it]"
     ]
    },
    {
     "name": "stdout",
     "output_type": "stream",
     "text": [
      "[download] 100% of 69.30MiB in 00:0538MiB/s ETA 00:00\n",
      "[ffmpeg] Destination: Mamak Sessions Podcast - Girl Gets Caned For Calling her Teacher 'AH GUA'-PRN5UrsDF6w.mp3\n",
      "[youtube] r6f3OoHVkgU: Downloading webpage\n",
      "[download]  85.2% of ~47.76MiB at 12.08MiB/s ETA 00:0389[download] Destination: Mamak Sessions - From A Transport Assistant to a Multi-Award Winning Film Director-r6f3OoHVkgU.webm\n",
      "[download] 100% of 54.95MiB in 00:0216MiB/s ETA 00:00145wn ETA\n",
      "[download]  93.4% of ~47.64MiB at 12.38MiB/s ETA 00:014[ffmpeg] Destination: Mamak Sessions - From A Transport Assistant to a Multi-Award Winning Film Director-r6f3OoHVkgU.mp3\n",
      "[download] 100% of 47.61MiB in 00:25.64MiB/s ETA 00:0003\n",
      "[ffmpeg] Destination: Why NUS Business School + Unilever & P&G Case Competitions _ Singaporean Podcast #22 _ Sherrine Fu-8QNgzWcc7U4.mp3\n",
      "[download]  90.4% of ~117.01MiB at 11.21MiB/s ETA 00:29Deleting original file The Fashion Weak Podcast Ep 46 - Premium Thirst Trap Tips With Michelle Lee (@mich8lee)-MCHDyLJDJrg.webm (pass -k to keep)\n"
     ]
    },
    {
     "name": "stderr",
     "output_type": "stream",
     "text": [
      " 73%|███████▎  | 11/15 [37:59<13:30, 202.72s/it]"
     ]
    },
    {
     "name": "stdout",
     "output_type": "stream",
     "text": [
      "[download]  90.5% of ~117.01MiB at  9.53MiB/s ETA 00:28[youtube] ezFAYdIwu_8: Downloading webpage\n",
      "[download]  91.0% of ~117.00MiB at 10.32MiB/s ETA 00:27[download] Destination: Living Alone In New York, Chasing Dreams And The Future _ HTHT - Xenia Tan-ezFAYdIwu_8.m4a\n",
      "[download] 100% of 82.00MiB in 00:0315MiB/s ETA 00:0022own ETA\n",
      "[ffmpeg] Correcting container in \"Living Alone In New York, Chasing Dreams And The Future _ HTHT - Xenia Tan-ezFAYdIwu_8.m4a\"\n",
      "[download]  93.2% of ~117.00MiB at  1.12MiB/s ETA 00:2011[ffmpeg] Destination: Living Alone In New York, Chasing Dreams And The Future _ HTHT - Xenia Tan-ezFAYdIwu_8.mp3\n",
      "[download]  94.6% of ~116.98MiB at  8.54MiB/s ETA 00:168Deleting original file Why We Love Our Malay Community! _ The Thirsty Sisters #20-F15a-MH_Hzg.m4a (pass -k to keep)\n"
     ]
    },
    {
     "name": "stderr",
     "output_type": "stream",
     "text": [
      " 93%|█████████▎| 14/15 [38:09<01:46, 106.30s/it]"
     ]
    },
    {
     "name": "stdout",
     "output_type": "stream",
     "text": [
      "[youtube] FcD9MpeWqEI: Downloading webpage\n",
      "[download]  95.3% of ~117.00MiB at  9.62MiB/s ETA 00:14[download] Destination: Mamak Sessions - Quitting The Medical Line To Make People Laugh ft Dr. Jason Leong-FcD9MpeWqEI.webm\n",
      "[download] 100% of 48.73MiB in 00:0211MiB/s ETA 00:00111wn ETA\n",
      "[ffmpeg] Destination: Mamak Sessions - Quitting The Medical Line To Make People Laugh ft Dr. Jason Leong-FcD9MpeWqEI.mp3\n",
      "[download]  97.1% of ~117.04MiB at 10.02MiB/s ETA 00:08Deleting original file Life After NUS Business School in the FMCG Industry _ Singaporean Podcast #4_ Leonard Yap-ONUgGzCm00E.webm (pass -k to keep)\n"
     ]
    },
    {
     "name": "stderr",
     "output_type": "stream",
     "text": [
      " 60%|██████    | 9/15 [38:16<23:46, 237.69s/it]"
     ]
    },
    {
     "name": "stdout",
     "output_type": "stream",
     "text": [
      "[youtube] RBShCX3-BtQ: Downloading webpage\n",
      "[download]  97.8% of ~117.06MiB at 10.49MiB/s ETA 00:06[download] Destination: My Ex-Husband And His New Puppy's Mummy _ The Thirsty Sisters #26-RBShCX3-BtQ.m4a\n",
      "[download] 100% of 34.29MiB in 00:0129MiB/s ETA 00:00known ETA\n",
      "[download]  98.3% of ~117.06MiB at  1.54MiB/s ETA 00:05[ffmpeg] Correcting container in \"My Ex-Husband And His New Puppy's Mummy _ The Thirsty Sisters #26-RBShCX3-BtQ.m4a\"\n",
      "[download]  98.8% of ~117.10MiB at 11.17MiB/s ETA 00:03[ffmpeg] Destination: My Ex-Husband And His New Puppy's Mummy _ The Thirsty Sisters #26-RBShCX3-BtQ.mp3\n",
      "[download] 100% of 116.98MiB in 05:00.25MiB/s ETA 00:001\n",
      "[ffmpeg] Destination: Why Blockchain & Crypo Matters _ Singaporean Podcast #15 _ Royal Pek--2d7wzvNOCE.mp3\n",
      "Deleting original file Mamak Sessions - How Bryan Loo Created His Bubble Tea Empire-O19y2ZG8Y-k.webm (pass -k to keep)\n"
     ]
    },
    {
     "name": "stderr",
     "output_type": "stream",
     "text": [
      " 93%|█████████▎| 14/15 [38:37<02:04, 124.22s/it]"
     ]
    },
    {
     "name": "stdout",
     "output_type": "stream",
     "text": [
      "[youtube] sZFykBDVjOI: Downloading webpage\n",
      "Deleting original file Conversations With A Cancer Survivor ft Jared Lee-L2W4inT6j3c.webm (pass -k to keep)\n"
     ]
    },
    {
     "name": "stderr",
     "output_type": "stream",
     "text": [
      " 80%|████████  | 12/15 [38:38<05:54, 118.30s/it]"
     ]
    },
    {
     "name": "stdout",
     "output_type": "stream",
     "text": [
      "[youtube] gvPiF-zXur4: Downloading webpage\n",
      "[download] Destination: Mamak Sessions - Have You Been Rejected, and Have You Rejected Someone-sZFykBDVjOI.webm\n",
      "[download]   5.3% of 37.70MiB at 23.58MiB/s ETA 00:018[download] Destination: Best Way to Get Women to Fall For You Every Month! _ The Thirsty Sisters #16-gvPiF-zXur4.m4a\n",
      "[download]  62.7% of 37.70MiB at 19.31MiB/s ETA 00:00known ETADeleting original file The Fashion Weak Podcast Ep 38 - TikTok Royalty Roshan Jeet aka Roshannnn1-lPnRg9UsP0M.webm (pass -k to keep)\n"
     ]
    },
    {
     "name": "stderr",
     "output_type": "stream",
     "text": [
      " 87%|████████▋ | 13/15 [38:39<04:34, 137.50s/it]"
     ]
    },
    {
     "name": "stdout",
     "output_type": "stream",
     "text": [
      "[download]  24.5% of 41.69MiB at 14.26MiB/s ETA 00:02known ETA[youtube] wnxWhWRk4Sc: Downloading webpage\n",
      "[download]  33.5% of 41.69MiB at 23.48MiB/s ETA 00:01Deleting original file Mamak Sessions - Girls Are Such Complicated Lil Creatures feat. Talitha.-I2BaN8cm6NY.webm (pass -k to keep)\n"
     ]
    },
    {
     "name": "stderr",
     "output_type": "stream",
     "text": [
      " 80%|████████  | 12/15 [38:39<06:46, 135.65s/it]"
     ]
    },
    {
     "name": "stdout",
     "output_type": "stream",
     "text": [
      "[download]  78.1% of 37.70MiB at  6.94MiB/s ETA 00:01known ETA[youtube] Hioy9UvH4yE: Downloading webpage\n",
      "[download]  46.7% of 41.69MiB at 20.06MiB/s ETA 00:01[download] Destination: tFreedom - Sex Education In Singapore _ IMO Ep.30-wnxWhWRk4Sc.webm\n",
      "[download]  56.3% of 41.69MiB at 12.15MiB/s ETA 00:019nown ETA[download] Destination: Ghost Stories From Our Childhood! _ The Thirsty Sisters #23-Hioy9UvH4yE.m4a\n",
      "[download] 100% of 37.70MiB in 00:0206MiB/s ETA 00:004\n",
      "[download]  65.9% of 41.69MiB at  9.50MiB/s ETA 00:01[ffmpeg] Destination: Mamak Sessions - Have You Been Rejected, and Have You Rejected Someone-sZFykBDVjOI.mp3\n",
      "[download] 100% of 41.69MiB in 00:0353MiB/s ETA 00:00known ETA\n",
      "[ffmpeg] Correcting container in \"Best Way to Get Women to Fall For You Every Month! _ The Thirsty Sisters #16-gvPiF-zXur4.m4a\"\n",
      "[download]  79.7% of 37.25MiB at Unknown speed ETA Unknown ETA[ffmpeg] Destination: Best Way to Get Women to Fall For You Every Month! _ The Thirsty Sisters #16-gvPiF-zXur4.mp3\n",
      "[download] 100% of 37.25MiB in 00:0302MiB/s ETA 00:00\n",
      "[ffmpeg] Correcting container in \"Ghost Stories From Our Childhood! _ The Thirsty Sisters #23-Hioy9UvH4yE.m4a\"\n",
      "[download] 100% of 47.88MiB in 00:0357MiB/s ETA 00:00\n",
      "[ffmpeg] Destination: tFreedom - Sex Education In Singapore _ IMO Ep.30-wnxWhWRk4Sc.mp3\n",
      "[ffmpeg] Destination: Ghost Stories From Our Childhood! _ The Thirsty Sisters #23-Hioy9UvH4yE.mp3\n",
      "Deleting original file Mamak Sessions - Blaming Yourself For Your Parents' Divorce, And How Our Parents Punish Us-x8Gl_zIC9CQ.webm (pass -k to keep)\n"
     ]
    },
    {
     "name": "stderr",
     "output_type": "stream",
     "text": [
      " 80%|████████  | 12/15 [38:49<07:57, 159.15s/it]"
     ]
    },
    {
     "name": "stdout",
     "output_type": "stream",
     "text": [
      "[youtube] vRnkHzyyBc4: Downloading webpage\n",
      "[download] Destination: Dance Moves To Pick Up Girls At The Club With Adidas Creator Maybelline Wong (@definitelyMayb_)-vRnkHzyyBc4.webm\n",
      "[download] 100% of 83.06MiB in 00:0384MiB/s ETA 00:00known ETA\n",
      "[ffmpeg] Destination: Dance Moves To Pick Up Girls At The Club With Adidas Creator Maybelline Wong (@definitelyMayb_)-vRnkHzyyBc4.mp3\n",
      "Deleting original file My Ex-Husband And His New Puppy's Mummy _ The Thirsty Sisters #26-RBShCX3-BtQ.m4a (pass -k to keep)\n"
     ]
    },
    {
     "name": "stderr",
     "output_type": "stream",
     "text": [
      " 67%|██████▋   | 10/15 [38:54<14:49, 177.89s/it]"
     ]
    },
    {
     "name": "stdout",
     "output_type": "stream",
     "text": [
      "[youtube] -XwvfCTnseI: Downloading webpage\n",
      "[download] Destination: The Fashion Weak Podcast EP14 - Faking it on the gram and faking Gasms with Sandra Woo (@sandrawooo)--XwvfCTnseI.webm\n",
      "[download] 100% of 59.76MiB in 00:0715MiB/s ETA 00:00known ETA\n",
      "[ffmpeg] Destination: The Fashion Weak Podcast EP14 - Faking it on the gram and faking Gasms with Sandra Woo (@sandrawooo)--XwvfCTnseI.mp3\n",
      "Deleting original file Why NUS Business School + Unilever & P&G Case Competitions _ Singaporean Podcast #22 _ Sherrine Fu-8QNgzWcc7U4.webm (pass -k to keep)\n"
     ]
    },
    {
     "name": "stderr",
     "output_type": "stream",
     "text": [
      " 80%|████████  | 12/15 [39:07<07:15, 145.33s/it]"
     ]
    },
    {
     "name": "stdout",
     "output_type": "stream",
     "text": [
      "[youtube] 1FLelqfAyZU: Downloading webpage\n",
      "[youtube] 1FLelqfAyZU: Downloading MPD manifest\n",
      "[dashsegments] Total fragments: 336\n",
      "[download] Destination: NUS Overseas College and Silicon Valley _ Singaporean Podcast #6 _ Tony Tong-1FLelqfAyZU.webm\n",
      "[download]  75.9% of ~50.43MiB at  4.48MiB/s ETA 00:03315:11Deleting original file Mamak Sessions - From A Transport Assistant to a Multi-Award Winning Film Director-r6f3OoHVkgU.webm (pass -k to keep)\n",
      "[download]  76.2% of ~50.43MiB at 12.67MiB/s ETA 00:03"
     ]
    },
    {
     "name": "stderr",
     "output_type": "stream",
     "text": [
      " 67%|██████▋   | 10/15 [39:18<17:59, 215.95s/it]"
     ]
    },
    {
     "name": "stdout",
     "output_type": "stream",
     "text": [
      "[download]  76.5% of ~50.42MiB at 13.98MiB/s ETA 00:03[youtube] oJPtCCTzs_o: Downloading webpage\n",
      "[download]  81.0% of ~50.32MiB at 73.37KiB/s ETA 00:02[download] Destination: Crazy Jobs We Had Before Youtube! _ The Thirsty Sisters #8-oJPtCCTzs_o.m4a\n",
      "[download] 100% of 39.15MiB in 00:0183MiB/s ETA 00:001nown ETA\n",
      "[download]  91.4% of ~50.03MiB at 11.81MiB/s ETA 00:01[ffmpeg] Correcting container in \"Crazy Jobs We Had Before Youtube! _ The Thirsty Sisters #8-oJPtCCTzs_o.m4a\"\n",
      "[download]  92.2% of ~49.99MiB at  2.63MiB/s ETA 00:011Deleting original file Ghost Stories From Our Childhood! _ The Thirsty Sisters #23-Hioy9UvH4yE.m4a (pass -k to keep)\n"
     ]
    },
    {
     "name": "stderr",
     "output_type": "stream",
     "text": [
      " 87%|████████▋ | 13/15 [39:21<03:34, 107.41s/it]"
     ]
    },
    {
     "name": "stdout",
     "output_type": "stream",
     "text": [
      "[youtube] ZJ8jw3C9vB8: Downloading webpage\n",
      "[download]  95.3% of ~49.94MiB at  2.94MiB/s ETA 00:000[download] Destination: Mamak Sessions - Are Social Media Influencers Entitled-ZJ8jw3C9vB8.webm\n",
      "[download]  95.6% of ~49.94MiB at  2.69MiB/s ETA 00:00[ffmpeg] Destination: Crazy Jobs We Had Before Youtube! _ The Thirsty Sisters #8-oJPtCCTzs_o.mp3\n",
      "[download] 100% of 49.79MiB in 00:14.72MiB/s ETA 00:000own ETA\n",
      "[ffmpeg] Destination: NUS Overseas College and Silicon Valley _ Singaporean Podcast #6 _ Tony Tong-1FLelqfAyZU.mp3\n",
      "[download] 100% of 29.16MiB in 00:0137MiB/s ETA 00:00known ETA\n",
      "[ffmpeg] Destination: Mamak Sessions - Are Social Media Influencers Entitled-ZJ8jw3C9vB8.mp3\n",
      "Deleting original file Best Way to Get Women to Fall For You Every Month! _ The Thirsty Sisters #16-gvPiF-zXur4.m4a (pass -k to keep)\n"
     ]
    },
    {
     "name": "stderr",
     "output_type": "stream",
     "text": [
      " 87%|████████▋ | 13/15 [39:24<03:13, 96.78s/it] "
     ]
    },
    {
     "name": "stdout",
     "output_type": "stream",
     "text": [
      "[youtube] IAeN0jG9Hwc: Downloading webpage\n",
      "[download] Destination: Mamak Sessions - We May Not Always End Up Doing What We Thought We Would..And That's Not A Bad Thing-IAeN0jG9Hwc.webm\n",
      "[download]  54.4% of 38.11MiB at 14.13MiB/s ETA 00:01known ETADeleting original file Mamak Sessions - Quitting The Medical Line To Make People Laugh ft Dr. Jason Leong-FcD9MpeWqEI.webm (pass -k to keep)\n",
      "[download]  57.0% of 38.11MiB at 20.41MiB/s ETA 00:00"
     ]
    },
    {
     "name": "stderr",
     "output_type": "stream",
     "text": [
      "100%|██████████| 15/15 [39:26<00:00, 157.75s/it]\n",
      "  0%|          | 0/8 [00:00<?, ?it/s]"
     ]
    },
    {
     "name": "stdout",
     "output_type": "stream",
     "text": [
      "[youtube] EYBSXaK3cjI: Downloading webpage\n",
      "[download] 100% of 38.11MiB in 00:0145MiB/s ETA 00:00known ETA\n",
      "[ffmpeg] Destination: Mamak Sessions - We May Not Always End Up Doing What We Thought We Would..And That's Not A Bad Thing-IAeN0jG9Hwc.mp3\n",
      "[download] Destination: Perverts Lusting Over Sexy Supermarket Girls _ The Thirsty Sisters #4-EYBSXaK3cjI.m4a\n",
      "[download] 100% of 34.22MiB in 00:0151MiB/s ETA 00:00known ETA\n",
      "[ffmpeg] Correcting container in \"Perverts Lusting Over Sexy Supermarket Girls _ The Thirsty Sisters #4-EYBSXaK3cjI.m4a\"\n",
      "[ffmpeg] Destination: Perverts Lusting Over Sexy Supermarket Girls _ The Thirsty Sisters #4-EYBSXaK3cjI.mp3\n",
      "Deleting original file Mamak Sessions Podcast - Girl Gets Caned For Calling her Teacher 'AH GUA'-PRN5UrsDF6w.webm (pass -k to keep)\n"
     ]
    },
    {
     "name": "stderr",
     "output_type": "stream",
     "text": [
      " 87%|████████▋ | 13/15 [39:33<04:11, 125.67s/it]"
     ]
    },
    {
     "name": "stdout",
     "output_type": "stream",
     "text": [
      "[youtube] RqG0tHR9D1g: Downloading webpage\n",
      "[download] Destination: The Fashion Weak Podcast EP 36 - Why guys REALLY go for spin class with Oxygen Cycle-RqG0tHR9D1g.webm\n",
      "[download] 100% of 65.22MiB in 00:0293MiB/s ETA 00:00known ETA\n",
      "[ffmpeg] Destination: The Fashion Weak Podcast EP 36 - Why guys REALLY go for spin class with Oxygen Cycle-RqG0tHR9D1g.mp3\n",
      "Deleting original file Mamak Sessions - Have You Been Rejected, and Have You Rejected Someone-sZFykBDVjOI.webm (pass -k to keep)\n"
     ]
    },
    {
     "name": "stderr",
     "output_type": "stream",
     "text": [
      "100%|██████████| 15/15 [39:37<00:00, 158.51s/it]\n"
     ]
    },
    {
     "name": "stdout",
     "output_type": "stream",
     "text": [
      "Deleting original file Living Alone In New York, Chasing Dreams And The Future _ HTHT - Xenia Tan-ezFAYdIwu_8.m4a (pass -k to keep)\n"
     ]
    },
    {
     "name": "stderr",
     "output_type": "stream",
     "text": [
      " 80%|████████  | 12/15 [39:46<08:41, 173.93s/it]"
     ]
    },
    {
     "name": "stdout",
     "output_type": "stream",
     "text": [
      "[youtube] Yzagxa4bn-M: Downloading webpage\n",
      "[youtube] Yzagxa4bn-M: Downloading MPD manifest\n",
      "[dashsegments] Total fragments: 347\n",
      "[download] Destination: What is a Friend _ Singaporean Trio Podcast #01-Yzagxa4bn-M.m4a\n",
      "[download]   4.0% of ~49.67MiB at 256.53KiB/s ETA 03:2402:57Deleting original file tFreedom - Sex Education In Singapore _ IMO Ep.30-wnxWhWRk4Sc.webm (pass -k to keep)\n"
     ]
    },
    {
     "name": "stderr",
     "output_type": "stream",
     "text": [
      " 93%|█████████▎| 14/15 [39:56<01:59, 119.26s/it]"
     ]
    },
    {
     "name": "stdout",
     "output_type": "stream",
     "text": [
      "[youtube] HKnXUGo_H2U: Downloading webpage\n",
      "[download]   4.3% of ~49.92MiB at 11.44MiB/s ETA 03:239[download] Destination: Do You Know Your Attachment Style! _ The Thirsty Sisters #21-HKnXUGo_H2U.m4a\n",
      "[download] 100% of 36.26MiB in 00:0122MiB/s ETA 00:00known ETA\n",
      "[ffmpeg] Correcting container in \"Do You Know Your Attachment Style! _ The Thirsty Sisters #21-HKnXUGo_H2U.m4a\"\n",
      "[download]   5.5% of ~50.67MiB at  9.96MiB/s ETA 03:202[ffmpeg] Destination: Do You Know Your Attachment Style! _ The Thirsty Sisters #21-HKnXUGo_H2U.mp3\n",
      "[download]   5.8% of ~50.81MiB at 13.11MiB/s ETA 03:18Deleting original file Crazy Jobs We Had Before Youtube! _ The Thirsty Sisters #8-oJPtCCTzs_o.m4a (pass -k to keep)\n"
     ]
    },
    {
     "name": "stderr",
     "output_type": "stream",
     "text": [
      " 73%|███████▎  | 11/15 [40:00<10:54, 163.62s/it]"
     ]
    },
    {
     "name": "stdout",
     "output_type": "stream",
     "text": [
      "[youtube] nGnyZ5c00Mo: Downloading webpage\n",
      "[download]   6.1% of ~50.94MiB at 11.91MiB/s ETA 03:18[download] Destination: Mamak Sessions Podcast - Is it ok to move in with your Partner before MARRIAGE-nGnyZ5c00Mo.webm\n",
      "[download]   7.2% of ~51.34MiB at 10.77MiB/s ETA 03:14nown ETADeleting original file Perverts Lusting Over Sexy Supermarket Girls _ The Thirsty Sisters #4-EYBSXaK3cjI.m4a (pass -k to keep)\n"
     ]
    },
    {
     "name": "stderr",
     "output_type": "stream",
     "text": [
      " 12%|█▎        | 1/8 [00:36<04:16, 36.61s/it]"
     ]
    },
    {
     "name": "stdout",
     "output_type": "stream",
     "text": [
      "[youtube] H4M_ZUDAT3k: Downloading webpage\n",
      "[download]  89.0% of 37.51MiB at 21.32MiB/s ETA 00:003nown ETA[download] Destination: The Fashion Weak Podcast EP 25 - Don't Mess With @zamaeraaa's Hello Kitty Cup-H4M_ZUDAT3k.webm\n",
      "[download] 100% of 37.51MiB in 00:0324MiB/s ETA 00:0070\n",
      "[download]   7.7% of ~51.50MiB at  6.67MiB/s ETA 03:13[ffmpeg] Destination: Mamak Sessions Podcast - Is it ok to move in with your Partner before MARRIAGE-nGnyZ5c00Mo.mp3\n",
      "[download]   8.1% of ~51.57MiB at 11.42MiB/s ETA 03:208Deleting original file Mamak Sessions - Are Social Media Influencers Entitled-ZJ8jw3C9vB8.webm (pass -k to keep)\n"
     ]
    },
    {
     "name": "stderr",
     "output_type": "stream",
     "text": [
      " 93%|█████████▎| 14/15 [40:05<01:28, 88.43s/it] "
     ]
    },
    {
     "name": "stdout",
     "output_type": "stream",
     "text": [
      "[youtube] U4dYpNf8oWY: Downloading webpage\n",
      "[download]   8.9% of ~51.75MiB at  9.94MiB/s ETA 03:1623wn ETA[download] Destination: Singapore's Reaction to the Wuhan Virus _ IMO Ep.1-U4dYpNf8oWY.m4a\n",
      "[download] 100% of 26.47MiB in 00:1166MiB/s ETA 00:005nown ETA\n",
      "[ffmpeg] Correcting container in \"Singapore's Reaction to the Wuhan Virus _ IMO Ep.1-U4dYpNf8oWY.m4a\"\n",
      "[download]  13.8% of ~52.36MiB at  9.29MiB/s ETA 03:05[ffmpeg] Destination: Singapore's Reaction to the Wuhan Virus _ IMO Ep.1-U4dYpNf8oWY.mp3\n",
      "[download] 100% of 77.46MiB in 00:1941MiB/s ETA 00:0026own ETA\n",
      "[ffmpeg] Destination: The Fashion Weak Podcast EP 25 - Don't Mess With @zamaeraaa's Hello Kitty Cup-H4M_ZUDAT3k.mp3\n",
      "[download]  16.4% of ~52.54MiB at 13.17MiB/s ETA 03:00Deleting original file Mamak Sessions - We May Not Always End Up Doing What We Thought We Would..And That's Not A Bad Thing-IAeN0jG9Hwc.webm (pass -k to keep)\n"
     ]
    },
    {
     "name": "stderr",
     "output_type": "stream",
     "text": [
      " 93%|█████████▎| 14/15 [40:23<01:25, 85.30s/it]"
     ]
    },
    {
     "name": "stdout",
     "output_type": "stream",
     "text": [
      "[youtube] 6i8PG2cTAUU: Downloading webpage\n",
      "[download]  16.7% of ~52.55MiB at 12.87MiB/s ETA 02:59[download] Destination: How To Date Alpha Women _ The Thirsty Sisters #12-6i8PG2cTAUU.m4a\n",
      "[download] 100% of 40.67MiB in 00:01.41MiB/s ETA 02:58nown ETA\n",
      "[download]  17.6% of ~52.60MiB at  6.24MiB/s ETA 02:57[ffmpeg] Correcting container in \"How To Date Alpha Women _ The Thirsty Sisters #12-6i8PG2cTAUU.m4a\"\n",
      "[download]  17.9% of ~52.61MiB at  1.26MiB/s ETA 02:579[ffmpeg] Destination: How To Date Alpha Women _ The Thirsty Sisters #12-6i8PG2cTAUU.mp3\n",
      "[download]  19.9% of ~52.70MiB at 12.24MiB/s ETA 02:538Deleting original file The Fashion Weak Podcast EP14 - Faking it on the gram and faking Gasms with Sandra Woo (@sandrawooo)--XwvfCTnseI.webm (pass -k to keep)\n"
     ]
    },
    {
     "name": "stderr",
     "output_type": "stream",
     "text": [
      " 73%|███████▎  | 11/15 [40:31<10:14, 153.60s/it]"
     ]
    },
    {
     "name": "stdout",
     "output_type": "stream",
     "text": [
      "[youtube] adq-khQo2eQ: Downloading webpage\n",
      "[download]  20.5% of ~52.72MiB at  7.60MiB/s ETA 02:52[download] Destination: Click Bait And 24k Shoe Shopping With Harvinth Skin - The Fashion Weak Podcast Episode 08-adq-khQo2eQ.webm\n",
      "[download]  17.5% of 55.97MiB at 14.75MiB/s ETA 00:031Deleting original file NUS Overseas College and Silicon Valley _ Singaporean Podcast #6 _ Tony Tong-1FLelqfAyZU.webm (pass -k to keep)\n"
     ]
    },
    {
     "name": "stderr",
     "output_type": "stream",
     "text": [
      " 87%|████████▋ | 13/15 [40:32<04:14, 127.42s/it]"
     ]
    },
    {
     "name": "stdout",
     "output_type": "stream",
     "text": [
      "[youtube] IixUPM11VMY: Downloading webpage\n",
      "[download]  21.0% of ~52.74MiB at 14.86MiB/s ETA 02:50[download] Destination: Mamak Sessions - Can Guys And Girls Be Best Friends Is it ok to see more than one person at a time-IixUPM11VMY.webm\n",
      "[download]  54.3% of 42.61MiB at 23.36MiB/s ETA 00:004nown ETADeleting original file Do You Know Your Attachment Style! _ The Thirsty Sisters #21-HKnXUGo_H2U.m4a (pass -k to keep)\n"
     ]
    },
    {
     "name": "stderr",
     "output_type": "stream",
     "text": [
      "100%|██████████| 15/15 [40:34<00:00, 162.32s/it]\n"
     ]
    },
    {
     "name": "stdout",
     "output_type": "stream",
     "text": [
      "[download] 100% of 42.61MiB in 00:0259MiB/s ETA 00:007nown ETA\n",
      "[ffmpeg] Destination: Mamak Sessions - Can Guys And Girls Be Best Friends Is it ok to see more than one person at a time-IixUPM11VMY.mp3\n",
      "[download] 100% of 55.97MiB in 00:0774MiB/s ETA 00:00known ETA\n",
      "[ffmpeg] Destination: Click Bait And 24k Shoe Shopping With Harvinth Skin - The Fashion Weak Podcast Episode 08-adq-khQo2eQ.mp3\n",
      "[download]  28.8% of ~52.94MiB at  7.34MiB/s ETA 02:368Deleting original file Singapore's Reaction to the Wuhan Virus _ IMO Ep.1-U4dYpNf8oWY.m4a (pass -k to keep)\n"
     ]
    },
    {
     "name": "stderr",
     "output_type": "stream",
     "text": [
      "100%|██████████| 15/15 [40:51<00:00, 163.42s/it]\n"
     ]
    },
    {
     "name": "stdout",
     "output_type": "stream",
     "text": [
      "[download]  32.0% of ~52.99MiB at 13.55MiB/s ETA 02:295Deleting original file Dance Moves To Pick Up Girls At The Club With Adidas Creator Maybelline Wong (@definitelyMayb_)-vRnkHzyyBc4.webm (pass -k to keep)\n"
     ]
    },
    {
     "name": "stderr",
     "output_type": "stream",
     "text": [
      " 87%|████████▋ | 13/15 [40:58<05:00, 150.06s/it]"
     ]
    },
    {
     "name": "stdout",
     "output_type": "stream",
     "text": [
      "[youtube] 5zAsyNKfzps: Downloading webpage\n",
      "[download]  32.3% of ~52.99MiB at 13.92MiB/s ETA 02:28[download] Destination: Mamak Sessions - How I Got Quarantined Because Of Covid-19 Feat. Mark O'Dea-5zAsyNKfzps.webm\n",
      "[download]  93.7% of 35.26MiB at 21.41MiB/s ETA 00:00known ETADeleting original file Mamak Sessions Podcast - Is it ok to move in with your Partner before MARRIAGE-nGnyZ5c00Mo.webm (pass -k to keep)\n",
      "[download] 100% of 35.26MiB in 00:0105MiB/s ETA 00:00\n"
     ]
    },
    {
     "name": "stderr",
     "output_type": "stream",
     "text": [
      " 80%|████████  | 12/15 [41:00<06:37, 132.66s/it]"
     ]
    },
    {
     "name": "stdout",
     "output_type": "stream",
     "text": [
      "[ffmpeg] Destination: Mamak Sessions - How I Got Quarantined Because Of Covid-19 Feat. Mark O'Dea-5zAsyNKfzps.mp3\n",
      "[youtube] QIkOzfAcsmE: Downloading webpage\n",
      "[download]  33.4% of ~53.01MiB at  8.03MiB/s ETA 02:25[youtube] QIkOzfAcsmE: Downloading MPD manifest\n",
      "[download]  33.7% of ~53.02MiB at 13.36MiB/s ETA 02:25[dashsegments] Total fragments: 506\n",
      "[download] Destination: An Unconventional Journey To Get a PHD + Why Start-Ups Crash & Burn _ Dr Nisha Kohli _SG Podcast #23-QIkOzfAcsmE.webm\n",
      "[download]   9.9% of ~70.67MiB at 11.92MiB/s ETA 00:32358:35Deleting original file How To Date Alpha Women _ The Thirsty Sisters #12-6i8PG2cTAUU.m4a (pass -k to keep)\n"
     ]
    },
    {
     "name": "stderr",
     "output_type": "stream",
     "text": [
      "100%|██████████| 15/15 [41:05<00:00, 164.36s/it]\n"
     ]
    },
    {
     "name": "stdout",
     "output_type": "stream",
     "text": [
      "[download]  30.0% of ~68.80MiB at 10.87MiB/s ETA 00:259Deleting original file The Fashion Weak Podcast EP 36 - Why guys REALLY go for spin class with Oxygen Cycle-RqG0tHR9D1g.webm (pass -k to keep)\n",
      "[download]  30.0% of ~68.79MiB at 10.87MiB/s ETA 00:25"
     ]
    },
    {
     "name": "stderr",
     "output_type": "stream",
     "text": [
      " 93%|█████████▎| 14/15 [41:12<01:57, 117.70s/it]"
     ]
    },
    {
     "name": "stdout",
     "output_type": "stream",
     "text": [
      "[download]  30.2% of ~68.79MiB at 11.19MiB/s ETA 00:25[youtube] te2Be5GNNys: Downloading webpage\n",
      "[download]  31.2% of ~68.76MiB at 12.02MiB/s ETA 00:24[download] Destination: Mamak Sessions - How Dating Has Changed & Tenet ft Elizabeth Debicki and John David Washington-te2Be5GNNys.webm\n",
      "[download] 100% of 50.81MiB in 00:0278MiB/s ETA 00:004nown ETA\n",
      "[ffmpeg] Destination: Mamak Sessions - How Dating Has Changed & Tenet ft Elizabeth Debicki and John David Washington-te2Be5GNNys.mp3\n",
      "[download]  43.5% of ~68.48MiB at  9.71MiB/s ETA 00:212Deleting original file Why Blockchain & Crypo Matters _ Singaporean Podcast #15 _ Royal Pek--2d7wzvNOCE.webm (pass -k to keep)\n",
      "[download]  40.9% of ~53.10MiB at 12.78MiB/s ETA 02:10"
     ]
    },
    {
     "name": "stderr",
     "output_type": "stream",
     "text": [
      " 60%|██████    | 9/15 [41:18<29:49, 298.29s/it]"
     ]
    },
    {
     "name": "stdout",
     "output_type": "stream",
     "text": [
      "[download]  43.7% of ~68.48MiB at  9.96MiB/s ETA 00:20[youtube] rkwCky94IhQ: Downloading webpage\n",
      "[download]  45.2% of ~68.41MiB at  7.02MiB/s ETA 00:2021[download] Destination: The Truth Behind Our Relationship! Are We Really Sisters _ The Thirsty Sisters #10-rkwCky94IhQ.m4a\n",
      "[download] 100% of 38.27MiB in 00:02.70MiB/s ETA 00:199own ETA\n",
      "[download]  49.2% of ~68.40MiB at 10.19MiB/s ETA 00:19[ffmpeg] Correcting container in \"The Truth Behind Our Relationship! Are We Really Sisters _ The Thirsty Sisters #10-rkwCky94IhQ.m4a\"\n",
      "[download]  50.6% of ~68.38MiB at 10.42MiB/s ETA 00:199[ffmpeg] Destination: The Truth Behind Our Relationship! Are We Really Sisters _ The Thirsty Sisters #10-rkwCky94IhQ.mp3\n",
      "[download]  92.1% of ~68.62MiB at  1.60MiB/s ETA 00:0245Deleting original file Mamak Sessions - Can Guys And Girls Be Best Friends Is it ok to see more than one person at a time-IixUPM11VMY.webm (pass -k to keep)\n",
      "[download]  92.3% of ~68.62MiB at 11.08MiB/s ETA 00:02"
     ]
    },
    {
     "name": "stderr",
     "output_type": "stream",
     "text": [
      " 93%|█████████▎| 14/15 [41:36<01:48, 108.25s/it]"
     ]
    },
    {
     "name": "stdout",
     "output_type": "stream",
     "text": [
      "[youtube] Q54z0mutz5Q: Downloading webpage\n",
      "[download]  94.1% of ~68.56MiB at  9.41MiB/s ETA 00:023[download] Destination: Mamak Sessions - From Giving Up, To Getting A NETFLIX Special-Q54z0mutz5Q.webm\n",
      "[download] 100% of 65.84MiB in 00:0390MiB/s ETA 00:00000wn ETA\n",
      "[ffmpeg] Destination: Mamak Sessions - From Giving Up, To Getting A NETFLIX Special-Q54z0mutz5Q.mp3\n",
      "[download] 100% of 68.41MiB in 00:38.90MiB/s ETA 00:00\n",
      "[ffmpeg] Destination: An Unconventional Journey To Get a PHD + Why Start-Ups Crash & Burn _ Dr Nisha Kohli _SG Podcast #23-QIkOzfAcsmE.mp3\n",
      "[download]  56.8% of ~53.20MiB at 10.48MiB/s ETA 01:3536Deleting original file Mamak Sessions - How I Got Quarantined Because Of Covid-19 Feat. Mark O'Dea-5zAsyNKfzps.webm (pass -k to keep)\n"
     ]
    },
    {
     "name": "stderr",
     "output_type": "stream",
     "text": [
      " 93%|█████████▎| 14/15 [41:53<02:01, 121.50s/it]"
     ]
    },
    {
     "name": "stdout",
     "output_type": "stream",
     "text": [
      "[youtube] cs2LkcSpNpw: Downloading webpage\n",
      "[download]  57.1% of ~53.20MiB at 12.22MiB/s ETA 01:34[youtube] cs2LkcSpNpw: Downloading MPD manifest\n",
      "[download]  57.3% of ~53.20MiB at 10.94MiB/s ETA 01:34[dashsegments] Total fragments: 486\n",
      "[download] Destination: How To Be A Damn Good Software Developer + Israel Startup Culture _ Singaporean Podcast #11 _ Mark-cs2LkcSpNpw.webm\n",
      "[download]   8.6% of ~69.41MiB at 10.84MiB/s ETA 00:40928:19Deleting original file The Truth Behind Our Relationship! Are We Really Sisters _ The Thirsty Sisters #10-rkwCky94IhQ.m4a (pass -k to keep)\n"
     ]
    },
    {
     "name": "stderr",
     "output_type": "stream",
     "text": [
      " 67%|██████▋   | 10/15 [41:58<18:24, 220.98s/it]"
     ]
    },
    {
     "name": "stdout",
     "output_type": "stream",
     "text": [
      "[youtube] gW9sv26g4Io: Downloading webpage\n",
      "[download]  10.1% of ~68.98MiB at 10.97MiB/s ETA 00:425[download] Destination: Nicole Choo on What Went Wrong with Ridhwan - Team Titan Show #4-gW9sv26g4Io.webm\n",
      "[download]  16.3% of 84.13MiB at 25.89MiB/s ETA 00:0227own ETADeleting original file Click Bait And 24k Shoe Shopping With Harvinth Skin - The Fashion Weak Podcast Episode 08-adq-khQo2eQ.webm (pass -k to keep)\n"
     ]
    },
    {
     "name": "stderr",
     "output_type": "stream",
     "text": [
      " 80%|████████  | 12/15 [42:00<06:42, 134.18s/it]"
     ]
    },
    {
     "name": "stdout",
     "output_type": "stream",
     "text": [
      "[download]  21.0% of 84.13MiB at 29.85MiB/s ETA 00:02[youtube] alUMLUEUdCM: Downloading webpage\n",
      "[download]  11.9% of ~69.04MiB at  2.89MiB/s ETA 00:45nown ETA[youtube] alUMLUEUdCM: Downloading MPD manifest\n",
      "[download]  13.0% of ~69.08MiB at  3.44MiB/s ETA 00:445own ETA[dashsegments] Total fragments: 468\n",
      "[download] Destination: Truths about NUS Business School + Fin-Tech Crypto Trading Career_ Singaporean Podcast #25 _ Daryn-alUMLUEUdCM.webm\n",
      "[download] 100% of 84.13MiB in 00:0342MiB/s ETA 00:00346wn ETA\n",
      "[download]  15.6% of ~69.09MiB at  7.72MiB/s ETA 00:467[ffmpeg] Destination: Nicole Choo on What Went Wrong with Ridhwan - Team Titan Show #4-gW9sv26g4Io.mp3\n",
      "[download] 100% of 71.98MiB in 00:15.03MiB/s ETA 00:000\n",
      "[ffmpeg] Destination: Truths about NUS Business School + Fin-Tech Crypto Trading Career_ Singaporean Podcast #25 _ Daryn-alUMLUEUdCM.mp3\n",
      "[download]  46.9% of ~68.88MiB at 12.88MiB/s ETA 00:255Deleting original file The Fashion Weak Podcast EP 25 - Don't Mess With @zamaeraaa's Hello Kitty Cup-H4M_ZUDAT3k.webm (pass -k to keep)\n",
      "[download]  47.0% of ~68.86MiB at  6.16MiB/s ETA 00:25"
     ]
    },
    {
     "name": "stderr",
     "output_type": "stream",
     "text": [
      " 25%|██▌       | 2/8 [02:50<06:35, 65.94s/it]"
     ]
    },
    {
     "name": "stdout",
     "output_type": "stream",
     "text": [
      "[download]  47.1% of ~68.86MiB at  9.43MiB/s ETA 00:25[youtube] YtCn4hNLk7o: Downloading webpage\n",
      "[download]  49.0% of ~68.85MiB at 12.10MiB/s ETA 00:24[youtube] YtCn4hNLk7o: Downloading MPD manifest\n",
      "[download]  70.3% of ~53.25MiB at 12.70MiB/s ETA 01:03[dashsegments] Total fragments: 382\n",
      "[download] Destination: Why Human Resources Matters + Life as a Singapore Solopreneur _ Lauren Ong _ Singaporean Podcast #20-YtCn4hNLk7o.webm\n",
      "[download]  70.2% of ~68.27MiB at 11.19MiB/s ETA 00:14216"
     ]
    },
    {
     "name": "stderr",
     "output_type": "stream",
     "text": [
      "ERROR: giving up after 0 retries\n"
     ]
    },
    {
     "name": "stdout",
     "output_type": "stream",
     "text": [
      "[download] Skipping fragment 342...\n",
      "[download]  75.5% of ~53.27MiB at 11.19MiB/s ETA 00:522"
     ]
    },
    {
     "name": "stderr",
     "output_type": "stream",
     "text": [
      "ERROR: giving up after 0 retries\n"
     ]
    },
    {
     "name": "stdout",
     "output_type": "stream",
     "text": [
      "[download] Skipping fragment 343...\n",
      "[download]  60.7% of ~52.98MiB at 10.42MiB/s ETA 00:066"
     ]
    },
    {
     "name": "stderr",
     "output_type": "stream",
     "text": [
      "ERROR: giving up after 0 retries\n"
     ]
    },
    {
     "name": "stdout",
     "output_type": "stream",
     "text": [
      "[download]  60.7% of ~52.98MiB at 10.42MiB/s ETA 00:06[download] Skipping fragment 344...\n",
      "[download]  61.5% of ~52.97MiB at 11.17MiB/s ETA 00:06"
     ]
    },
    {
     "name": "stderr",
     "output_type": "stream",
     "text": [
      "ERROR: giving up after 0 retries\n"
     ]
    },
    {
     "name": "stdout",
     "output_type": "stream",
     "text": [
      "[download] Skipping fragment 345...\n",
      "[download]  61.5% of ~52.97MiB at 11.17MiB/s ETA 00:06"
     ]
    },
    {
     "name": "stderr",
     "output_type": "stream",
     "text": [
      "ERROR: giving up after 0 retries\n"
     ]
    },
    {
     "name": "stdout",
     "output_type": "stream",
     "text": [
      "[download]  61.5% of ~52.97MiB at 11.17MiB/s ETA 00:06[download] Skipping fragment 346...\n",
      "[download]  62.6% of ~52.97MiB at 11.28MiB/s ETA 00:06"
     ]
    },
    {
     "name": "stderr",
     "output_type": "stream",
     "text": [
      "ERROR: giving up after 0 retries\n"
     ]
    },
    {
     "name": "stdout",
     "output_type": "stream",
     "text": [
      "[download] Skipping fragment 347...\n",
      "[download]  75.8% of ~53.27MiB at 11.43MiB/s ETA 00:51"
     ]
    },
    {
     "name": "stderr",
     "output_type": "stream",
     "text": [
      "ERROR: giving up after 0 retries\n"
     ]
    },
    {
     "name": "stdout",
     "output_type": "stream",
     "text": [
      "[download] Skipping fragment 348...\n",
      "[download]  64.1% of ~52.94MiB at 12.06MiB/s ETA 00:05"
     ]
    },
    {
     "name": "stderr",
     "output_type": "stream",
     "text": [
      "ERROR: giving up after 0 retries\n"
     ]
    },
    {
     "name": "stdout",
     "output_type": "stream",
     "text": [
      "[download] Skipping fragment 349...\n"
     ]
    },
    {
     "name": "stderr",
     "output_type": "stream",
     "text": [
      "ERROR: giving up after 0 retries\n"
     ]
    },
    {
     "name": "stdout",
     "output_type": "stream",
     "text": [
      "[download] Skipping fragment 350...\n"
     ]
    },
    {
     "name": "stderr",
     "output_type": "stream",
     "text": [
      "ERROR: giving up after 0 retries\n"
     ]
    },
    {
     "name": "stdout",
     "output_type": "stream",
     "text": [
      "[download] Skipping fragment 351...\n"
     ]
    },
    {
     "name": "stderr",
     "output_type": "stream",
     "text": [
      "ERROR: giving up after 0 retries\n"
     ]
    },
    {
     "name": "stdout",
     "output_type": "stream",
     "text": [
      "[download] Skipping fragment 352...\n",
      "[download]  76.1% of ~53.27MiB at 11.29MiB/s ETA 00:50"
     ]
    },
    {
     "name": "stderr",
     "output_type": "stream",
     "text": [
      "ERROR: giving up after 0 retries\n"
     ]
    },
    {
     "name": "stdout",
     "output_type": "stream",
     "text": [
      "[download] Skipping fragment 353...\n",
      "Deleting original file Mamak Sessions - How Dating Has Changed & Tenet ft Elizabeth Debicki and John David Washington-te2Be5GNNys.webm (pass -k to keep)\n"
     ]
    },
    {
     "name": "stderr",
     "output_type": "stream",
     "text": [
      "100%|██████████| 15/15 [42:29<00:00, 169.95s/it]\n"
     ]
    },
    {
     "name": "stdout",
     "output_type": "stream",
     "text": [
      "[download]  64.3% of ~52.94MiB at  6.40MiB/s ETA 00:06"
     ]
    },
    {
     "name": "stderr",
     "output_type": "stream",
     "text": [
      "ERROR: giving up after 0 retries\n"
     ]
    },
    {
     "name": "stdout",
     "output_type": "stream",
     "text": [
      "[download] Skipping fragment 354...\n"
     ]
    },
    {
     "name": "stderr",
     "output_type": "stream",
     "text": [
      "ERROR: giving up after 0 retries\n"
     ]
    },
    {
     "name": "stdout",
     "output_type": "stream",
     "text": [
      "[download] Skipping fragment 355...\n",
      "[download] 100% of 52.66MiB in 00:19.20MiB/s ETA 00:0011\n",
      "[ffmpeg] Destination: Why Human Resources Matters + Life as a Singapore Solopreneur _ Lauren Ong _ Singaporean Podcast #20-YtCn4hNLk7o.mp3\n",
      "[download] 100% of 65.23MiB in 00:47.34MiB/s ETA 00:012\n",
      "[ffmpeg] Destination: How To Be A Damn Good Software Developer + Israel Startup Culture _ Singaporean Podcast #11 _ Mark-cs2LkcSpNpw.mp3\n",
      "[download]  99.7% of ~53.32MiB at 11.25MiB/s ETA 00:002Deleting original file Mamak Sessions - From Giving Up, To Getting A NETFLIX Special-Q54z0mutz5Q.webm (pass -k to keep)\n"
     ]
    },
    {
     "name": "stderr",
     "output_type": "stream",
     "text": [
      "100%|██████████| 15/15 [43:13<00:00, 172.92s/it]\n"
     ]
    },
    {
     "name": "stdout",
     "output_type": "stream",
     "text": [
      "[download] 100% of 53.28MiB in 03:26.77MiB/s ETA 00:00\n",
      "[ffmpeg] Correcting container in \"What is a Friend _ Singaporean Trio Podcast #01-Yzagxa4bn-M.m4a\"\n",
      "[ffmpeg] Destination: What is a Friend _ Singaporean Trio Podcast #01-Yzagxa4bn-M.mp3\n",
      "Deleting original file An Unconventional Journey To Get a PHD + Why Start-Ups Crash & Burn _ Dr Nisha Kohli _SG Podcast #23-QIkOzfAcsmE.webm (pass -k to keep)\n"
     ]
    },
    {
     "name": "stderr",
     "output_type": "stream",
     "text": [
      " 87%|████████▋ | 13/15 [43:22<04:30, 135.28s/it]"
     ]
    },
    {
     "name": "stdout",
     "output_type": "stream",
     "text": [
      "[youtube] XLV720mng6w: Downloading webpage\n",
      "[download] Destination: Most Accurate Personality Test! _ The Thirsty Sisters #17-XLV720mng6w.m4a\n",
      "[download] 100% of 38.70MiB in 00:0124MiB/s ETA 00:00known ETA\n",
      "[ffmpeg] Correcting container in \"Most Accurate Personality Test! _ The Thirsty Sisters #17-XLV720mng6w.m4a\"\n",
      "[ffmpeg] Destination: Most Accurate Personality Test! _ The Thirsty Sisters #17-XLV720mng6w.mp3\n",
      "Deleting original file Why Human Resources Matters + Life as a Singapore Solopreneur _ Lauren Ong _ Singaporean Podcast #20-YtCn4hNLk7o.webm (pass -k to keep)\n"
     ]
    },
    {
     "name": "stderr",
     "output_type": "stream",
     "text": [
      " 38%|███▊      | 3/8 [04:27<06:16, 75.22s/it]"
     ]
    },
    {
     "name": "stdout",
     "output_type": "stream",
     "text": [
      "[youtube] 5SOInBKNP18: Downloading webpage\n",
      "[youtube] 5SOInBKNP18: Downloading MPD manifest\n",
      "[dashsegments] Total fragments: 280\n",
      "[download] Destination: Real Estate Major + NUS Overseas College in Beijing _ Singaporean Podcast #7 _ Danial Arun-5SOInBKNP18.webm\n",
      "[download]  30.7% of ~42.05MiB at  1.82MiB/s ETA 00:06039Deleting original file Truths about NUS Business School + Fin-Tech Crypto Trading Career_ Singaporean Podcast #25 _ Daryn-alUMLUEUdCM.webm (pass -k to keep)\n",
      "[download]  31.1% of ~42.05MiB at 13.19MiB/s ETA 00:06"
     ]
    },
    {
     "name": "stderr",
     "output_type": "stream",
     "text": [
      " 87%|████████▋ | 13/15 [43:59<04:19, 129.67s/it]"
     ]
    },
    {
     "name": "stdout",
     "output_type": "stream",
     "text": [
      "[download]  31.4% of ~42.02MiB at 11.59MiB/s ETA 00:06[youtube] 745rfUlGzgM: Downloading webpage\n",
      "[download]  45.4% of ~41.93MiB at 11.58MiB/s ETA 00:05[download] Destination: Dear Straight People And Rallying For Gay Rights (ft. Sean Foo) _ IMO Ep.19-745rfUlGzgM.webm\n",
      "[download] 100% of 38.51MiB in 00:01.98KiB/s ETA 00:04nown ETA\n",
      "[download]  57.5% of ~41.95MiB at 805.52KiB/s ETA 00:04[ffmpeg] Destination: Dear Straight People And Rallying For Gay Rights (ft. Sean Foo) _ IMO Ep.19-745rfUlGzgM.mp3\n",
      "[download]  64.3% of ~41.99MiB at  4.49MiB/s ETA 00:034Deleting original file Most Accurate Personality Test! _ The Thirsty Sisters #17-XLV720mng6w.m4a (pass -k to keep)\n",
      "[download]  64.6% of ~41.99MiB at 13.16MiB/s ETA 00:03"
     ]
    },
    {
     "name": "stderr",
     "output_type": "stream",
     "text": [
      " 93%|█████████▎| 14/15 [44:03<01:47, 107.08s/it]"
     ]
    },
    {
     "name": "stdout",
     "output_type": "stream",
     "text": [
      "[download]  65.0% of ~41.99MiB at 12.62MiB/s ETA 00:03[youtube] 3pImfMhLYhA: Downloading webpage\n",
      "[download]  79.6% of ~42.05MiB at 14.39MiB/s ETA 00:02"
     ]
    },
    {
     "name": "stderr",
     "output_type": "stream",
     "text": [
      "ERROR: 3pImfMhLYhA: YouTube said: Unable to extract video data\n",
      "100%|██████████| 15/15 [44:04<00:00, 176.32s/it]\n"
     ]
    },
    {
     "name": "stdout",
     "output_type": "stream",
     "text": [
      "[download] 100% of 42.08MiB in 00:10.56MiB/s ETA 00:00\n",
      "[ffmpeg] Destination: Real Estate Major + NUS Overseas College in Beijing _ Singaporean Podcast #7 _ Danial Arun-5SOInBKNP18.mp3\n",
      "Deleting original file What is a Friend _ Singaporean Trio Podcast #01-Yzagxa4bn-M.m4a (pass -k to keep)\n"
     ]
    },
    {
     "name": "stderr",
     "output_type": "stream",
     "text": [
      " 87%|████████▋ | 13/15 [44:07<06:39, 199.96s/it]"
     ]
    },
    {
     "name": "stdout",
     "output_type": "stream",
     "text": [
      "[youtube] Pkv6d83oe8s: Downloading webpage\n",
      "[download] Destination: The Fashion Weak Podcast Ep 21 - Suitmaker To The Stars, Shahrin Bahar aka @sbahar.my-Pkv6d83oe8s.m4a\n",
      "[download]   0.0% of 102.38MiB at 148.27KiB/s ETA 11:4650Deleting original file Nicole Choo on What Went Wrong with Ridhwan - Team Titan Show #4-gW9sv26g4Io.webm (pass -k to keep)\n",
      "[download]   0.1% of 102.38MiB at 179.30KiB/s ETA 09:44"
     ]
    },
    {
     "name": "stderr",
     "output_type": "stream",
     "text": [
      " 73%|███████▎  | 11/15 [44:10<12:56, 194.14s/it]"
     ]
    },
    {
     "name": "stdout",
     "output_type": "stream",
     "text": [
      "[youtube] V2k9OWeTX84: Downloading webpage\n",
      "[download]   7.8% of 102.38MiB at  4.32MiB/s ETA 00:214[download] Destination: Is The Singapore Government Doing Enough _ IMO Ep.7-V2k9OWeTX84.webm\n",
      "[download] 100% of 25.95MiB in 00:0176MiB/s ETA 00:003nown ETA\n",
      "[ffmpeg] Destination: Is The Singapore Government Doing Enough _ IMO Ep.7-V2k9OWeTX84.mp3\n",
      "[download]  34.3% of 102.38MiB at  4.60MiB/s ETA 00:14known ETADeleting original file How To Be A Damn Good Software Developer + Israel Startup Culture _ Singaporean Podcast #11 _ Mark-cs2LkcSpNpw.webm (pass -k to keep)\n"
     ]
    },
    {
     "name": "stderr",
     "output_type": "stream",
     "text": [
      "100%|██████████| 15/15 [44:17<00:00, 177.17s/it]\n"
     ]
    },
    {
     "name": "stdout",
     "output_type": "stream",
     "text": [
      "[download] 100% of 102.38MiB in 00:1655MiB/s ETA 00:00known ETA\n",
      "[ffmpeg] Correcting container in \"The Fashion Weak Podcast Ep 21 - Suitmaker To The Stars, Shahrin Bahar aka @sbahar.my-Pkv6d83oe8s.m4a\"\n",
      "[ffmpeg] Destination: The Fashion Weak Podcast Ep 21 - Suitmaker To The Stars, Shahrin Bahar aka @sbahar.my-Pkv6d83oe8s.mp3\n",
      "Deleting original file Is The Singapore Government Doing Enough _ IMO Ep.7-V2k9OWeTX84.webm (pass -k to keep)\n"
     ]
    },
    {
     "name": "stderr",
     "output_type": "stream",
     "text": [
      " 80%|████████  | 12/15 [45:00<07:33, 151.08s/it]"
     ]
    },
    {
     "name": "stdout",
     "output_type": "stream",
     "text": [
      "[youtube] RlejfOWnKgQ: Downloading webpage\n",
      "[download] Destination: Mamak Sessions - Investigative Journalism Brings Justice to Sexual Crimes & Interviewing Jon Favreau-RlejfOWnKgQ.webm\n",
      "[download] 100% of 52.96MiB in 00:0316MiB/s ETA 00:0004own ETA\n",
      "[ffmpeg] Destination: Mamak Sessions - Investigative Journalism Brings Justice to Sexual Crimes & Interviewing Jon Favreau-RlejfOWnKgQ.mp3\n",
      "Deleting original file Dear Straight People And Rallying For Gay Rights (ft. Sean Foo) _ IMO Ep.19-745rfUlGzgM.webm (pass -k to keep)\n"
     ]
    },
    {
     "name": "stderr",
     "output_type": "stream",
     "text": [
      " 93%|█████████▎| 14/15 [45:21<01:55, 115.38s/it]"
     ]
    },
    {
     "name": "stdout",
     "output_type": "stream",
     "text": [
      "[youtube] attPdWb6UVo: Downloading webpage\n",
      "[youtube] attPdWb6UVo: Downloading MPD manifest\n",
      "[dashsegments] Total fragments: 349\n",
      "[download] Destination: Polytechnic VS University, Hospitality Industry + Solo Travel _ Singaporean Podcast #21 _ Veron Ng-attPdWb6UVo.webm\n",
      "[download]  14.5% of ~50.35MiB at 612.57KiB/s ETA 00:5338Deleting original file Real Estate Major + NUS Overseas College in Beijing _ Singaporean Podcast #7 _ Danial Arun-5SOInBKNP18.webm (pass -k to keep)\n",
      "[download]  14.6% of ~50.35MiB at 941.04KiB/s ETA 00:52"
     ]
    },
    {
     "name": "stderr",
     "output_type": "stream",
     "text": [
      " 50%|█████     | 4/8 [06:07<05:30, 82.58s/it]"
     ]
    },
    {
     "name": "stdout",
     "output_type": "stream",
     "text": [
      "[download]  14.9% of ~50.31MiB at 925.06KiB/s ETA 00:52[youtube] luGvazsVsHc: Downloading webpage\n",
      "[download]  17.8% of ~49.96MiB at 955.15KiB/s ETA 00:51[download] Destination: Is Cancel Culture Problematic _ IMO Ep.25-luGvazsVsHc.webm\n",
      "[download] 100% of 36.45MiB in 00:0579MiB/s ETA 00:0049own ETA\n",
      "[download]  24.4% of ~49.43MiB at 144.23KiB/s ETA 00:50[ffmpeg] Destination: Is Cancel Culture Problematic _ IMO Ep.25-luGvazsVsHc.mp3\n",
      "[download] 100% of 47.53MiB in 01:102.37KiB/s ETA 00:000\n",
      "[ffmpeg] Destination: Polytechnic VS University, Hospitality Industry + Solo Travel _ Singaporean Podcast #21 _ Veron Ng-attPdWb6UVo.mp3\n",
      "Deleting original file Is Cancel Culture Problematic _ IMO Ep.25-luGvazsVsHc.webm (pass -k to keep)\n"
     ]
    },
    {
     "name": "stderr",
     "output_type": "stream",
     "text": [
      " 62%|██████▎   | 5/8 [10:24<06:44, 134.82s/it]"
     ]
    },
    {
     "name": "stdout",
     "output_type": "stream",
     "text": [
      "[youtube] Y6RYZpbANJI: Downloading webpage\n",
      "[download] Destination: My First Boyfriend Cheated On Me With Several Girls _ The Thirsty Sisters #9-Y6RYZpbANJI.m4a\n",
      "[download] 100% of 41.15MiB in 00:0295MiB/s ETA 00:002nown ETA\n",
      "[ffmpeg] Correcting container in \"My First Boyfriend Cheated On Me With Several Girls _ The Thirsty Sisters #9-Y6RYZpbANJI.m4a\"\n",
      "[ffmpeg] Destination: My First Boyfriend Cheated On Me With Several Girls _ The Thirsty Sisters #9-Y6RYZpbANJI.mp3\n",
      "Deleting original file The Fashion Weak Podcast Ep 21 - Suitmaker To The Stars, Shahrin Bahar aka @sbahar.my-Pkv6d83oe8s.m4a (pass -k to keep)\n"
     ]
    },
    {
     "name": "stderr",
     "output_type": "stream",
     "text": [
      " 93%|█████████▎| 14/15 [50:27<04:14, 254.14s/it]"
     ]
    },
    {
     "name": "stdout",
     "output_type": "stream",
     "text": [
      "[youtube] iugevNPFp2Y: Downloading webpage\n",
      "[download] Destination: Talking Sneakers & Strong Sperm With @bryanbotakchin - The Fashion Weak Podcast Episode 11-iugevNPFp2Y.webm\n",
      "[download] 100% of 79.08MiB in 00:0616MiB/s ETA 00:0000own ETA\n",
      "[ffmpeg] Destination: Talking Sneakers & Strong Sperm With @bryanbotakchin - The Fashion Weak Podcast Episode 11-iugevNPFp2Y.mp3\n",
      "Deleting original file Mamak Sessions - Investigative Journalism Brings Justice to Sexual Crimes & Interviewing Jon Favreau-RlejfOWnKgQ.webm (pass -k to keep)\n"
     ]
    },
    {
     "name": "stderr",
     "output_type": "stream",
     "text": [
      " 87%|████████▋ | 13/15 [50:49<07:00, 210.40s/it]"
     ]
    },
    {
     "name": "stdout",
     "output_type": "stream",
     "text": [
      "[youtube] mJuKUwFpDgI: Downloading webpage\n",
      "[download] Destination: The Fashion Weak Podcast Ep 32 - Getting Surprised Reading Melissa Campbell's (@heymelbelle) IG DMs-mJuKUwFpDgI.m4a\n",
      "[download] 100% of 91.62MiB in 00:1682MiB/s ETA 00:004nown ETA\n",
      "[ffmpeg] Correcting container in \"The Fashion Weak Podcast Ep 32 - Getting Surprised Reading Melissa Campbell's (@heymelbelle) IG DMs-mJuKUwFpDgI.m4a\"\n",
      "[ffmpeg] Destination: The Fashion Weak Podcast Ep 32 - Getting Surprised Reading Melissa Campbell's (@heymelbelle) IG DMs-mJuKUwFpDgI.mp3\n",
      "Deleting original file My First Boyfriend Cheated On Me With Several Girls _ The Thirsty Sisters #9-Y6RYZpbANJI.m4a (pass -k to keep)\n"
     ]
    },
    {
     "name": "stderr",
     "output_type": "stream",
     "text": [
      " 75%|███████▌  | 6/8 [13:25<04:57, 148.66s/it]"
     ]
    },
    {
     "name": "stdout",
     "output_type": "stream",
     "text": [
      "[youtube] CSP1XPZu4YY: Downloading webpage\n",
      "Deleting original file Polytechnic VS University, Hospitality Industry + Solo Travel _ Singaporean Podcast #21 _ Veron Ng-attPdWb6UVo.webm (pass -k to keep)\n",
      "[download] Destination: The Fashion Weak Podcast Ep 43A - Keeping Fair On The Fairway With Natalia Ng-CSP1XPZu4YY.webm\n"
     ]
    },
    {
     "name": "stderr",
     "output_type": "stream",
     "text": [
      "100%|██████████| 15/15 [52:52<00:00, 211.49s/it]"
     ]
    },
    {
     "name": "stdout",
     "output_type": "stream",
     "text": [
      "[download]   0.0% of 82.99MiB at 63.54KiB/s ETA 22:17"
     ]
    },
    {
     "name": "stderr",
     "output_type": "stream",
     "text": [
      "\n"
     ]
    },
    {
     "name": "stdout",
     "output_type": "stream",
     "text": [
      "[download] 100% of 82.99MiB in 00:0716MiB/s ETA 00:008nown ETA\n",
      "[ffmpeg] Destination: The Fashion Weak Podcast Ep 43A - Keeping Fair On The Fairway With Natalia Ng-CSP1XPZu4YY.mp3\n",
      "Deleting original file The Fashion Weak Podcast Ep 32 - Getting Surprised Reading Melissa Campbell's (@heymelbelle) IG DMs-mJuKUwFpDgI.m4a (pass -k to keep)\n"
     ]
    },
    {
     "name": "stderr",
     "output_type": "stream",
     "text": [
      " 93%|█████████▎| 14/15 [54:52<03:39, 220.00s/it]"
     ]
    },
    {
     "name": "stdout",
     "output_type": "stream",
     "text": [
      "[youtube] hi4MpQZVzYY: Downloading webpage\n",
      "[download] Destination: Debbie on Getting Pregnant, Breaking The News To Her Parents and Being A Young Mom-hi4MpQZVzYY.webm\n",
      "[download] 100% of 47.29MiB in 00:0266MiB/s ETA 00:00known ETA\n",
      "[ffmpeg] Destination: Debbie on Getting Pregnant, Breaking The News To Her Parents and Being A Young Mom-hi4MpQZVzYY.mp3\n",
      "Deleting original file Talking Sneakers & Strong Sperm With @bryanbotakchin - The Fashion Weak Podcast Episode 11-iugevNPFp2Y.webm (pass -k to keep)\n"
     ]
    },
    {
     "name": "stderr",
     "output_type": "stream",
     "text": [
      "100%|██████████| 15/15 [55:03<00:00, 220.24s/it]\n"
     ]
    },
    {
     "name": "stdout",
     "output_type": "stream",
     "text": [
      "Deleting original file The Fashion Weak Podcast Ep 43A - Keeping Fair On The Fairway With Natalia Ng-CSP1XPZu4YY.webm (pass -k to keep)\n"
     ]
    },
    {
     "name": "stderr",
     "output_type": "stream",
     "text": [
      " 88%|████████▊ | 7/8 [16:18<02:35, 156.00s/it]"
     ]
    },
    {
     "name": "stdout",
     "output_type": "stream",
     "text": [
      "[youtube] OpDeoZzKHBM: Downloading webpage\n",
      "[youtube] OpDeoZzKHBM: Downloading MPD manifest\n",
      "[dashsegments] Total fragments: 360\n",
      "[download] Destination: An Unconventional Degree And Life as an Assistant Producer in SG Film & TV Industry  _ Xuan Kai _ 41-OpDeoZzKHBM.webm\n",
      "[download]  18.3% of ~54.72MiB at 544.67KiB/s ETA 01:1909:18Deleting original file Debbie on Getting Pregnant, Breaking The News To Her Parents and Being A Young Mom-hi4MpQZVzYY.webm (pass -k to keep)\n"
     ]
    },
    {
     "name": "stderr",
     "output_type": "stream",
     "text": [
      "100%|██████████| 15/15 [56:03<00:00, 224.26s/it]\n"
     ]
    },
    {
     "name": "stdout",
     "output_type": "stream",
     "text": [
      "[download] 100% of 54.63MiB in 01:497.41KiB/s ETA 00:003\n",
      "[ffmpeg] Destination: An Unconventional Degree And Life as an Assistant Producer in SG Film & TV Industry  _ Xuan Kai _ 41-OpDeoZzKHBM.mp3\n",
      "Deleting original file An Unconventional Degree And Life as an Assistant Producer in SG Film & TV Industry  _ Xuan Kai _ 41-OpDeoZzKHBM.webm (pass -k to keep)\n"
     ]
    },
    {
     "name": "stderr",
     "output_type": "stream",
     "text": [
      "100%|██████████| 8/8 [21:47<00:00, 163.38s/it]\n"
     ]
    }
   ],
   "source": [
    "import mp\n",
    "mp.multiprocessing(videos, loop, cores = 12, returned = False)"
   ]
  }
 ],
 "metadata": {
  "kernelspec": {
   "display_name": "Python 3",
   "language": "python",
   "name": "python3"
  },
  "language_info": {
   "codemirror_mode": {
    "name": "ipython",
    "version": 3
   },
   "file_extension": ".py",
   "mimetype": "text/x-python",
   "name": "python",
   "nbconvert_exporter": "python",
   "pygments_lexer": "ipython3",
   "version": "3.6.8"
  }
 },
 "nbformat": 4,
 "nbformat_minor": 2
}
