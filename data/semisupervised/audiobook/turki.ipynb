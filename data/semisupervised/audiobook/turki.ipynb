{
 "cells": [
  {
   "cell_type": "code",
   "execution_count": 4,
   "metadata": {},
   "outputs": [],
   "source": [
    "# !wget https://f000.backblazeb2.com/file/malaya-speech-model/audiobook/turki/bersatu-dengan-peradaban-5.mp3\n",
    "# !wget https://f000.backblazeb2.com/file/malaya-speech-model/audiobook/turki/ilusi-kuasa-1.mp3\n",
    "# !wget https://f000.backblazeb2.com/file/malaya-speech-model/audiobook/turki/janji-tinggal-janji-2.mp3\n",
    "# !wget https://f000.backblazeb2.com/file/malaya-speech-model/audiobook/turki/membina-negara-dan-bangsar-bersatu-6.mp3\n",
    "# !wget https://f000.backblazeb2.com/file/malaya-speech-model/audiobook/turki/orang-turk-memperjuangkan-hak-mereka-3.mp3\n",
    "# !wget https://f000.backblazeb2.com/file/malaya-speech-model/audiobook/turki/revolusi-barat-di-timur-4.mp3"
   ]
  },
  {
   "cell_type": "code",
   "execution_count": 5,
   "metadata": {},
   "outputs": [],
   "source": [
    "import os\n",
    "\n",
    "os.system(\n",
    "    'mkdir output-wav-turki output-text-turki'\n",
    ")\n",
    "os.environ['CUDA_VISIBLE_DEVICES'] = ''"
   ]
  },
  {
   "cell_type": "code",
   "execution_count": 6,
   "metadata": {},
   "outputs": [
    {
     "name": "stdout",
     "output_type": "stream",
     "text": [
      "WARNING:tensorflow:From /home/husein/.local/lib/python3.6/site-packages/malaya_speech/utils/__init__.py:66: The name tf.gfile.GFile is deprecated. Please use tf.io.gfile.GFile instead.\n",
      "\n",
      "WARNING:tensorflow:From /home/husein/.local/lib/python3.6/site-packages/malaya_speech/utils/__init__.py:68: The name tf.GraphDef is deprecated. Please use tf.compat.v1.GraphDef instead.\n",
      "\n",
      "WARNING:tensorflow:From /home/husein/.local/lib/python3.6/site-packages/malaya_speech/utils/__init__.py:43: The name tf.ConfigProto is deprecated. Please use tf.compat.v1.ConfigProto instead.\n",
      "\n",
      "WARNING:tensorflow:From /home/husein/.local/lib/python3.6/site-packages/malaya_speech/utils/__init__.py:58: The name tf.InteractiveSession is deprecated. Please use tf.compat.v1.InteractiveSession instead.\n",
      "\n"
     ]
    }
   ],
   "source": [
    "import speech_recognition as sr\n",
    "import soundfile as sf\n",
    "from tqdm import tqdm\n",
    "\n",
    "r = sr.Recognizer()\n",
    "\n",
    "from pydub.silence import split_on_silence, detect_nonsilent\n",
    "from pydub import AudioSegment\n",
    "import numpy as np\n",
    "import malaya_speech\n",
    "from malaya_speech import Pipeline\n",
    "from scipy.io.wavfile import write\n",
    "\n",
    "p = Pipeline()\n",
    "\n",
    "model_v2 = malaya_speech.vad.deep_model(model = 'vggvox-v2')\n",
    "pipeline = (\n",
    "    p.map(malaya_speech.utils.generator.frames, frame_duration_ms = 30)\n",
    "    .batching(20)\n",
    "    .foreach_map(model_v2.predict)\n",
    "    .flatten()\n",
    ")"
   ]
  },
  {
   "cell_type": "code",
   "execution_count": 7,
   "metadata": {},
   "outputs": [
    {
     "data": {
      "text/plain": [
       "['orang-turk-memperjuangkan-hak-mereka-3.mp3',\n",
       " 'janji-tinggal-janji-2.mp3',\n",
       " 'membina-negara-dan-bangsar-bersatu-6.mp3',\n",
       " 'ilusi-kuasa-1.mp3',\n",
       " 'revolusi-barat-di-timur-4.mp3',\n",
       " 'bersatu-dengan-peradaban-5.mp3']"
      ]
     },
     "execution_count": 7,
     "metadata": {},
     "output_type": "execute_result"
    }
   ],
   "source": [
    "from glob import glob\n",
    "\n",
    "mp3s = glob('*.mp3')\n",
    "mp3s"
   ]
  },
  {
   "cell_type": "code",
   "execution_count": 8,
   "metadata": {},
   "outputs": [
    {
     "name": "stdout",
     "output_type": "stream",
     "text": [
      "orang-turk-memperjuangkan-hak-mereka-3.mp3\n"
     ]
    },
    {
     "name": "stderr",
     "output_type": "stream",
     "text": [
      "100%|██████████| 502/502 [09:55<00:00,  1.19s/it]"
     ]
    },
    {
     "name": "stdout",
     "output_type": "stream",
     "text": [
      "\n",
      "janji-tinggal-janji-2.mp3\n"
     ]
    },
    {
     "name": "stderr",
     "output_type": "stream",
     "text": [
      "\n",
      "100%|██████████| 367/367 [06:32<00:00,  1.07s/it]"
     ]
    },
    {
     "name": "stdout",
     "output_type": "stream",
     "text": [
      "\n",
      "membina-negara-dan-bangsar-bersatu-6.mp3\n"
     ]
    },
    {
     "name": "stderr",
     "output_type": "stream",
     "text": [
      "\n",
      " 98%|█████████▊| 127/129 [02:02<00:01,  1.93it/s]"
     ]
    },
    {
     "name": "stdout",
     "output_type": "stream",
     "text": [
      "\n"
     ]
    },
    {
     "name": "stderr",
     "output_type": "stream",
     "text": [
      "100%|██████████| 129/129 [02:03<00:00,  1.04it/s]\n"
     ]
    },
    {
     "name": "stdout",
     "output_type": "stream",
     "text": [
      "ilusi-kuasa-1.mp3\n"
     ]
    },
    {
     "name": "stderr",
     "output_type": "stream",
     "text": [
      "  0%|          | 1/654 [00:00<02:41,  4.04it/s]"
     ]
    },
    {
     "name": "stdout",
     "output_type": "stream",
     "text": [
      "\n"
     ]
    },
    {
     "name": "stderr",
     "output_type": "stream",
     "text": [
      "100%|██████████| 654/654 [10:53<00:00,  1.00it/s]\n"
     ]
    },
    {
     "name": "stdout",
     "output_type": "stream",
     "text": [
      "\n",
      "revolusi-barat-di-timur-4.mp3\n"
     ]
    },
    {
     "name": "stderr",
     "output_type": "stream",
     "text": [
      "100%|██████████| 612/612 [10:45<00:00,  1.06s/it]"
     ]
    },
    {
     "name": "stdout",
     "output_type": "stream",
     "text": [
      "\n",
      "bersatu-dengan-peradaban-5.mp3\n"
     ]
    },
    {
     "name": "stderr",
     "output_type": "stream",
     "text": [
      "\n",
      "100%|██████████| 364/364 [06:52<00:00,  1.13s/it]"
     ]
    },
    {
     "name": "stdout",
     "output_type": "stream",
     "text": [
      "\n"
     ]
    },
    {
     "name": "stderr",
     "output_type": "stream",
     "text": [
      "\n"
     ]
    }
   ],
   "source": [
    "for file in mp3s:\n",
    "    print(file)\n",
    "    try:\n",
    "        audio = AudioSegment.from_mp3(file)\n",
    "        sample_rate = audio.frame_rate\n",
    "        samples = np.array(audio.get_array_of_samples())\n",
    "        samples = malaya_speech.astype.int_to_float(samples)\n",
    "        samples_16k = malaya_speech.resample(samples, sample_rate, 16000)\n",
    "        frames_16k = list(\n",
    "            malaya_speech.utils.generator.frames(samples_16k, 30, 16000)\n",
    "        )\n",
    "        frames = list(\n",
    "            malaya_speech.utils.generator.frames(samples, 30, sample_rate)\n",
    "        )\n",
    "        result = p.emit(samples_16k)\n",
    "        frames_deep_v2_batch = [\n",
    "            (frame, result['flatten'][no]) for no, frame in enumerate(frames)\n",
    "        ]\n",
    "        results = malaya_speech.split.split_vad(\n",
    "            frames_deep_v2_batch, n = 5, negative_threshold = 0.1\n",
    "        )\n",
    "\n",
    "        for no in tqdm(range(len(results))):\n",
    "            result = results[no]\n",
    "\n",
    "            sf.write('test.wav', result.array, sample_rate)\n",
    "\n",
    "            try:\n",
    "\n",
    "                with sr.AudioFile('test.wav') as source:\n",
    "                    a = r.record(source)\n",
    "\n",
    "                text = r.recognize_google(a, language = 'ms')\n",
    "                filename = f'{file}-{no}.wav'\n",
    "                if len(text):\n",
    "                    text_filename = (\n",
    "                        f'output-text-turki/{filename}.txt'\n",
    "                    )\n",
    "                    with open(text_filename, 'w') as fopen:\n",
    "                        fopen.write(text)\n",
    "\n",
    "                    sf.write(\n",
    "                        f'output-wav-turki/{filename}',\n",
    "                        result.array,\n",
    "                        sample_rate,\n",
    "                    )\n",
    "            except Exception as e:\n",
    "                print(e)\n",
    "    except Exception as e:\n",
    "        print(e)"
   ]
  },
  {
   "cell_type": "code",
   "execution_count": null,
   "metadata": {},
   "outputs": [],
   "source": []
  }
 ],
 "metadata": {
  "kernelspec": {
   "display_name": "Python 3",
   "language": "python",
   "name": "python3"
  },
  "language_info": {
   "codemirror_mode": {
    "name": "ipython",
    "version": 3
   },
   "file_extension": ".py",
   "mimetype": "text/x-python",
   "name": "python",
   "nbconvert_exporter": "python",
   "pygments_lexer": "ipython3",
   "version": "3.6.8"
  }
 },
 "nbformat": 4,
 "nbformat_minor": 2
}
