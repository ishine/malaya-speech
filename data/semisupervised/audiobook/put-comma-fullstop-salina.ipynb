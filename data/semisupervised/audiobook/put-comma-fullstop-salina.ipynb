{
 "cells": [
  {
   "cell_type": "code",
   "execution_count": 1,
   "id": "3b0343d2",
   "metadata": {},
   "outputs": [],
   "source": [
    "import os\n",
    "os.environ['CUDA_VISIBLE_DEVICES'] = ''"
   ]
  },
  {
   "cell_type": "code",
   "execution_count": 2,
   "id": "efed8986",
   "metadata": {},
   "outputs": [],
   "source": [
    "from sk import predict\n",
    "from glob import glob\n",
    "from tqdm import tqdm"
   ]
  },
  {
   "cell_type": "code",
   "execution_count": 3,
   "id": "488cc9eb",
   "metadata": {},
   "outputs": [
    {
     "name": "stderr",
     "output_type": "stream",
     "text": [
      "2021-10-04 18:23:15.965008: I tensorflow/stream_executor/platform/default/dso_loader.cc:53] Successfully opened dynamic library libcudart.so.11.0\n",
      "/home/ubuntu/.local/lib/python3.8/site-packages/malaya_boilerplate/frozen_graph.py:24: UserWarning: Cannot import beam_search_ops from Tensorflow Addons, `deep_model` for stemmer will not available to use, make sure Tensorflow Addons version >= 0.12.0\n",
      "  warnings.warn(\n"
     ]
    },
    {
     "data": {
      "text/plain": [
       "('4.7', '2.5.0')"
      ]
     },
     "execution_count": 3,
     "metadata": {},
     "output_type": "execute_result"
    }
   ],
   "source": [
    "import malaya\n",
    "import malaya_speech\n",
    "import tensorflow as tf\n",
    "malaya.__version__, tf.__version__"
   ]
  },
  {
   "cell_type": "code",
   "execution_count": 4,
   "id": "2e3d2ad3",
   "metadata": {},
   "outputs": [],
   "source": [
    "# !pip3 install tensorflow-text==2.5 --no-deps\n",
    "# !pip3 install tensorflow_hub"
   ]
  },
  {
   "cell_type": "code",
   "execution_count": 5,
   "id": "a7a52680",
   "metadata": {},
   "outputs": [
    {
     "name": "stderr",
     "output_type": "stream",
     "text": [
      "2021-10-04 18:23:33.007481: I tensorflow/core/platform/cpu_feature_guard.cc:142] This TensorFlow binary is optimized with oneAPI Deep Neural Network Library (oneDNN) to use the following CPU instructions in performance-critical operations:  AVX2 AVX512F FMA\n",
      "To enable them in other operations, rebuild TensorFlow with the appropriate compiler flags.\n",
      "2021-10-04 18:23:33.010966: I tensorflow/stream_executor/platform/default/dso_loader.cc:53] Successfully opened dynamic library libcuda.so.1\n",
      "2021-10-04 18:23:33.045813: E tensorflow/stream_executor/cuda/cuda_driver.cc:328] failed call to cuInit: CUDA_ERROR_NO_DEVICE: no CUDA-capable device is detected\n",
      "2021-10-04 18:23:33.045866: I tensorflow/stream_executor/cuda/cuda_diagnostics.cc:169] retrieving CUDA diagnostic information for host: huseincomel-desktop\n",
      "2021-10-04 18:23:33.045877: I tensorflow/stream_executor/cuda/cuda_diagnostics.cc:176] hostname: huseincomel-desktop\n",
      "2021-10-04 18:23:33.046016: I tensorflow/stream_executor/cuda/cuda_diagnostics.cc:200] libcuda reported version is: 460.91.3\n",
      "2021-10-04 18:23:33.046057: I tensorflow/stream_executor/cuda/cuda_diagnostics.cc:204] kernel reported version is: 460.91.3\n",
      "2021-10-04 18:23:33.046067: I tensorflow/stream_executor/cuda/cuda_diagnostics.cc:310] kernel version seems to match DSO: 460.91.3\n"
     ]
    }
   ],
   "source": [
    "super_super_tiny = malaya.true_case.transformer(model = 'super-tiny-t5', device = 'cpu:0')"
   ]
  },
  {
   "cell_type": "code",
   "execution_count": 6,
   "id": "b3e2b1a1",
   "metadata": {
    "scrolled": true
   },
   "outputs": [],
   "source": [
    "aligner = malaya_speech.force_alignment.deep_aligner(model = 'conformer-transducer', device = 'cpu:0')"
   ]
  },
  {
   "cell_type": "code",
   "execution_count": 7,
   "id": "053f9656",
   "metadata": {},
   "outputs": [
    {
     "data": {
      "text/plain": [
       "12579"
      ]
     },
     "execution_count": 7,
     "metadata": {},
     "output_type": "execute_result"
    }
   ],
   "source": [
    "wavs = glob('salina/output-wav-salina/*.wav')\n",
    "len(wavs)"
   ]
  },
  {
   "cell_type": "code",
   "execution_count": 8,
   "id": "9470b022",
   "metadata": {},
   "outputs": [],
   "source": [
    "def put(alignment, length, min_threshold = 0.5, min_threshold_fullstop = 1.0):\n",
    "    r = []\n",
    "    for no, row in enumerate(alignment):\n",
    "        if no > 0:\n",
    "            if alignment[no]['start'] - alignment[no-1]['end'] >= min_threshold:\n",
    "                r.append(',')\n",
    "\n",
    "        r.append(row['text'])\n",
    "    if length - alignment[-1]['end'] >= min_threshold_fullstop:\n",
    "        r.append('.')\n",
    "    else:\n",
    "        r.append(',')\n",
    "    return r"
   ]
  },
  {
   "cell_type": "code",
   "execution_count": 9,
   "id": "6bb5de10",
   "metadata": {},
   "outputs": [
    {
     "name": "stderr",
     "output_type": "stream",
     "text": [
      "  0%|                                                                                                                                                            | 0/12579 [00:00<?, ?it/s]2021-10-04 18:24:09.233820: I tensorflow/core/platform/profile_utils/cpu_utils.cc:114] CPU Frequency: 2496000000 Hz\n",
      "100%|████████████████████████████████████████████████████████████████████████████████████████████████████████████████████████████████████████████████| 12579/12579 [48:05<00:00,  4.36it/s]\n"
     ]
    }
   ],
   "source": [
    "results = {}\n",
    "for wav in tqdm(wavs):\n",
    "    with open(wav.replace('-wav-', '-text-') + '.txt') as fopen:\n",
    "        data = fopen.read().lower()\n",
    "    y, sr = malaya_speech.load(wav)\n",
    "    result = aligner.predict(y, data)\n",
    "    if ' '.join([r['text'] for r in result['words_alignment']]) != data:\n",
    "        continue\n",
    "    o = put(result['words_alignment'], len(y) / sr)\n",
    "    results[wav] = ' '.join(o)"
   ]
  },
  {
   "cell_type": "code",
   "execution_count": 10,
   "id": "05d0efdd",
   "metadata": {},
   "outputs": [
    {
     "data": {
      "text/plain": [
       "(12148, 12579)"
      ]
     },
     "execution_count": 10,
     "metadata": {},
     "output_type": "execute_result"
    }
   ],
   "source": [
    "len(results), len(wavs)"
   ]
  },
  {
   "cell_type": "code",
   "execution_count": 13,
   "id": "1d97ec7d",
   "metadata": {},
   "outputs": [],
   "source": [
    "import json\n",
    "with open('comma-fullstop-salina.json', 'w') as fopen:\n",
    "    json.dump(results, fopen)"
   ]
  }
 ],
 "metadata": {
  "kernelspec": {
   "display_name": "Python 3 (ipykernel)",
   "language": "python",
   "name": "python3"
  },
  "language_info": {
   "codemirror_mode": {
    "name": "ipython",
    "version": 3
   },
   "file_extension": ".py",
   "mimetype": "text/x-python",
   "name": "python",
   "nbconvert_exporter": "python",
   "pygments_lexer": "ipython3",
   "version": "3.8.10"
  }
 },
 "nbformat": 4,
 "nbformat_minor": 5
}
