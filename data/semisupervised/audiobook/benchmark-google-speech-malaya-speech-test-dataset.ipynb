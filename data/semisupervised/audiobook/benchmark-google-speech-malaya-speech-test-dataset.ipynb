{
 "cells": [
  {
   "cell_type": "code",
   "execution_count": 7,
   "metadata": {},
   "outputs": [],
   "source": [
    "# !wget https://f000.backblazeb2.com/file/malaya-speech-model/data/audio-iium.zip\n",
    "# !wget https://f000.backblazeb2.com/file/malaya-speech-model/collections/shuffled-iium.json\n",
    "# !unzip audio-iium.zip -d iium"
   ]
  },
  {
   "cell_type": "code",
   "execution_count": 2,
   "metadata": {},
   "outputs": [],
   "source": [
    "# !wget https://f000.backblazeb2.com/file/malaya-speech-model/data/audio-wattpad.zip\n",
    "# !wget https://f000.backblazeb2.com/file/malaya-speech-model/collections/transcript-wattpad.json\n",
    "# !unzip audio-wattpad.zip -d wattpad"
   ]
  },
  {
   "cell_type": "code",
   "execution_count": 3,
   "metadata": {},
   "outputs": [],
   "source": [
    "# !wget https://f000.backblazeb2.com/file/malaya-speech-model/data/text-audiobook.tar.gz\n",
    "# !wget https://f000.backblazeb2.com/file/malaya-speech-model/data/testset-audiobook.tar.gz\n",
    "# !tar -zxf text-audiobook.tar.gz\n",
    "# !tar -xf testset-audiobook.tar.gz"
   ]
  },
  {
   "cell_type": "code",
   "execution_count": 1,
   "metadata": {},
   "outputs": [],
   "source": [
    "import os\n",
    "from glob import glob\n",
    "from tqdm import tqdm\n",
    "import json"
   ]
  },
  {
   "cell_type": "code",
   "execution_count": 2,
   "metadata": {},
   "outputs": [],
   "source": [
    "import unicodedata\n",
    "import re\n",
    "\n",
    "vocabs = [\" \", \"a\", \"e\", \"n\", \"i\", \"t\", \"o\", \"u\", \"s\", \"k\", \"r\", \"l\", \"h\", \"d\", \"m\", \"g\", \"y\", \"b\", \"p\", \"w\", \"c\", \"f\", \"j\", \"v\", \"'\", \"-\", \"z\", \"0\", \"1\", \"x\", \"2\", \"q\", \"*\", \"5\", \"3\", \"4\", \"6\", \"9\", \"8\", \"7\", \"%\", \"$\", \"\\\"\", \"/\", \"&\", \":\", \"+\"]\n",
    "def preprocessing_text(string):\n",
    "        \n",
    "    string = unicodedata.normalize('NFC', string.lower())\n",
    "    string = ''.join([c for c in string if c in vocabs])\n",
    "    return re.sub(r'[ ]+', ' ', string).strip()"
   ]
  },
  {
   "cell_type": "code",
   "execution_count": 3,
   "metadata": {},
   "outputs": [
    {
     "name": "stderr",
     "output_type": "stream",
     "text": [
      "100%|██████████| 146/146 [00:00<00:00, 346558.23it/s]\n"
     ]
    }
   ],
   "source": [
    "wattpad = []\n",
    "wavs = glob('wattpad/audio-wattpad/*wav')\n",
    "\n",
    "with open('transcript-wattpad.json') as fopen:\n",
    "    transcript = json.load(fopen)\n",
    "    \n",
    "for i in tqdm(wavs):\n",
    "    index = i.split('/')[-1].replace('.wav','')\n",
    "    text = transcript[int(index)]\n",
    "    wattpad.append((i, text))"
   ]
  },
  {
   "cell_type": "code",
   "execution_count": 4,
   "metadata": {},
   "outputs": [
    {
     "name": "stderr",
     "output_type": "stream",
     "text": [
      "100%|██████████| 97/97 [00:00<00:00, 225026.27it/s]\n"
     ]
    }
   ],
   "source": [
    "iium = []\n",
    "wavs = glob('iium/audio-iium/*wav')\n",
    "\n",
    "with open('shuffled-iium.json') as fopen:\n",
    "    transcript = json.load(fopen)\n",
    "    \n",
    "for i in tqdm(wavs):\n",
    "    index = i.split('/')[-1].replace('.wav','')\n",
    "    text = transcript[int(index)]\n",
    "    iium.append((i, text))"
   ]
  },
  {
   "cell_type": "code",
   "execution_count": 5,
   "metadata": {},
   "outputs": [
    {
     "name": "stderr",
     "output_type": "stream",
     "text": [
      "100%|██████████| 300/300 [00:00<00:00, 4057.58it/s]\n"
     ]
    }
   ],
   "source": [
    "audiobook = []\n",
    "wavs = glob('test-set/*wav')\n",
    "for i in tqdm(wavs):\n",
    "    t = '/'.join(i.split('<>')[1:])\n",
    "    t = t.split('.wav')[0]\n",
    "    t = t.replace('output-wav', 'output-text')\n",
    "    with open(f'text-audiobook/{t}.wav.txt') as fopen:\n",
    "        text = fopen.read()\n",
    "    audiobook.append((i, text))"
   ]
  },
  {
   "cell_type": "code",
   "execution_count": 8,
   "metadata": {},
   "outputs": [],
   "source": [
    "audios = wattpad + iium + audiobook\n",
    "audios, texts = zip(*audios)"
   ]
  },
  {
   "cell_type": "code",
   "execution_count": 9,
   "metadata": {},
   "outputs": [],
   "source": [
    "processed_text = [preprocessing_text(t) for t in texts]"
   ]
  },
  {
   "cell_type": "code",
   "execution_count": 11,
   "metadata": {},
   "outputs": [],
   "source": [
    "import malaya_speech\n",
    "import speech_recognition as sr\n",
    "\n",
    "r = sr.Recognizer()"
   ]
  },
  {
   "cell_type": "code",
   "execution_count": 19,
   "metadata": {},
   "outputs": [
    {
     "name": "stderr",
     "output_type": "stream",
     "text": [
      "100%|██████████| 543/543 [04:09<00:00,  2.18it/s]\n"
     ]
    }
   ],
   "source": [
    "from tqdm import tqdm\n",
    "\n",
    "wer, cer = [], []\n",
    "for i in tqdm(range(len(audios))):\n",
    "    try:\n",
    "        with sr.AudioFile(audios[i]) as source:\n",
    "            a = r.record(source)\n",
    "\n",
    "        text = r.recognize_google(a, language = 'ms')\n",
    "        text = preprocessing_text(text)\n",
    "        \n",
    "        wer.append(malaya_speech.metrics.calculate_wer(processed_text[i], text))\n",
    "        cer.append(malaya_speech.metrics.calculate_cer(processed_text[i], text))\n",
    "    except Exception as e:\n",
    "        print(e)"
   ]
  },
  {
   "cell_type": "code",
   "execution_count": 20,
   "metadata": {},
   "outputs": [
    {
     "data": {
      "text/plain": [
       "(0.14270426731923877, 0.046821430168219824)"
      ]
     },
     "execution_count": 20,
     "metadata": {},
     "output_type": "execute_result"
    }
   ],
   "source": [
    "import numpy as np\n",
    "\n",
    "np.mean(wer), np.mean(cer)"
   ]
  },
  {
   "cell_type": "code",
   "execution_count": null,
   "metadata": {},
   "outputs": [],
   "source": []
  }
 ],
 "metadata": {
  "kernelspec": {
   "display_name": "Python 3",
   "language": "python",
   "name": "python3"
  },
  "language_info": {
   "codemirror_mode": {
    "name": "ipython",
    "version": 3
   },
   "file_extension": ".py",
   "mimetype": "text/x-python",
   "name": "python",
   "nbconvert_exporter": "python",
   "pygments_lexer": "ipython3",
   "version": "3.6.9"
  }
 },
 "nbformat": 4,
 "nbformat_minor": 2
}
