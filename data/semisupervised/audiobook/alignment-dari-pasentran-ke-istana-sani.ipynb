{
 "cells": [
  {
   "cell_type": "code",
   "execution_count": 1,
   "metadata": {},
   "outputs": [],
   "source": [
    "import os\n",
    "os.environ['CUDA_VISIBLE_DEVICES'] = ''"
   ]
  },
  {
   "cell_type": "code",
   "execution_count": 2,
   "metadata": {},
   "outputs": [
    {
     "data": {
      "text/plain": [
       "('4.6.1', '1.2.5', '1.15.5')"
      ]
     },
     "execution_count": 2,
     "metadata": {},
     "output_type": "execute_result"
    }
   ],
   "source": [
    "import malaya\n",
    "import malaya_speech\n",
    "import tensorflow as tf\n",
    "\n",
    "malaya.__version__, malaya_speech.__version__, tf.__version__"
   ]
  },
  {
   "cell_type": "code",
   "execution_count": 3,
   "metadata": {},
   "outputs": [],
   "source": [
    "model = malaya.true_case.transformer(model = 'base', device = 'cpu:0')"
   ]
  },
  {
   "cell_type": "code",
   "execution_count": 4,
   "metadata": {},
   "outputs": [],
   "source": [
    "aligner = malaya_speech.force_alignment.deep_ctc(model = 'hubert-conformer', device = 'cpu:0')"
   ]
  },
  {
   "cell_type": "code",
   "execution_count": 5,
   "metadata": {},
   "outputs": [
    {
     "data": {
      "text/plain": [
       "6334"
      ]
     },
     "execution_count": 5,
     "metadata": {},
     "output_type": "execute_result"
    }
   ],
   "source": [
    "from glob import glob\n",
    "\n",
    "wavs = glob('dari-pasentran-ke-istana-new/*.wav')\n",
    "len(wavs)"
   ]
  },
  {
   "cell_type": "code",
   "execution_count": 6,
   "metadata": {},
   "outputs": [],
   "source": [
    "def put(alignment, length, min_threshold = 0.5, min_threshold_fullstop = 1.0):\n",
    "    r = []\n",
    "    for no, row in enumerate(alignment):\n",
    "        if no > 0:\n",
    "            if alignment[no]['start'] - alignment[no-1]['end'] >= min_threshold:\n",
    "                r.append(',')\n",
    "\n",
    "        r.append(row['text'])\n",
    "    if length - alignment[-1]['end'] >= min_threshold_fullstop:\n",
    "        r.append('.')\n",
    "    else:\n",
    "        r.append(',')\n",
    "    return r"
   ]
  },
  {
   "cell_type": "code",
   "execution_count": 7,
   "metadata": {},
   "outputs": [
    {
     "name": "stderr",
     "output_type": "stream",
     "text": [
      "100%|██████████| 6334/6334 [1:02:28<00:00,  1.69it/s]\n"
     ]
    }
   ],
   "source": [
    "from tqdm import tqdm\n",
    "\n",
    "results = {}\n",
    "for w in tqdm(wavs):\n",
    "    with open(w[:-3] + 'txt') as fopen:\n",
    "        data = fopen.read().lower()\n",
    "    \n",
    "    y, sr = malaya_speech.load(w)\n",
    "    result = aligner.predict(y, data)\n",
    "    if ' '.join([r['text'] for r in result['words_alignment']]) != data:\n",
    "        continue\n",
    "    o = put(result['words_alignment'], len(y) / sr)\n",
    "    o = ' '.join(o)\n",
    "    o_true_case = model.greedy_decoder([o])[0]\n",
    "    results[w] = {'output': o, 'output_true_case': o_true_case}"
   ]
  },
  {
   "cell_type": "code",
   "execution_count": 10,
   "metadata": {},
   "outputs": [
    {
     "data": {
      "text/plain": [
       "6334"
      ]
     },
     "execution_count": 10,
     "metadata": {},
     "output_type": "execute_result"
    }
   ],
   "source": [
    "len(results)"
   ]
  },
  {
   "cell_type": "code",
   "execution_count": 11,
   "metadata": {},
   "outputs": [],
   "source": [
    "import json\n",
    "\n",
    "with open('comma-dari-pasentran-ke-istana-sani.json', 'w') as fopen:\n",
    "    json.dump(results, fopen)"
   ]
  }
 ],
 "metadata": {
  "kernelspec": {
   "display_name": "Python 3",
   "language": "python",
   "name": "python3"
  },
  "language_info": {
   "codemirror_mode": {
    "name": "ipython",
    "version": 3
   },
   "file_extension": ".py",
   "mimetype": "text/x-python",
   "name": "python",
   "nbconvert_exporter": "python",
   "pygments_lexer": "ipython3",
   "version": "3.6.9"
  }
 },
 "nbformat": 4,
 "nbformat_minor": 2
}
